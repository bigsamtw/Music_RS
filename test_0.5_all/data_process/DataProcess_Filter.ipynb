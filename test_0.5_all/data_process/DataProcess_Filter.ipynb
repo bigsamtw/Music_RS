{
 "cells": [
  {
   "cell_type": "code",
   "execution_count": 1,
   "metadata": {},
   "outputs": [],
   "source": [
    "# This code filter out users and tracks with specific condition\n",
    "import os\n",
    "import pandas as pd\n",
    "import numpy as np\n",
    "import math\n",
    "from numpy import count_nonzero\n",
    "from tqdm.notebook import tqdm\n",
    "\n",
    "dir_ = '../data'"
   ]
  },
  {
   "cell_type": "code",
   "execution_count": 2,
   "metadata": {},
   "outputs": [
    {
     "data": {
      "text/html": [
       "<div>\n",
       "<style scoped>\n",
       "    .dataframe tbody tr th:only-of-type {\n",
       "        vertical-align: middle;\n",
       "    }\n",
       "\n",
       "    .dataframe tbody tr th {\n",
       "        vertical-align: top;\n",
       "    }\n",
       "\n",
       "    .dataframe thead th {\n",
       "        text-align: right;\n",
       "    }\n",
       "</style>\n",
       "<table border=\"1\" class=\"dataframe\">\n",
       "  <thead>\n",
       "    <tr style=\"text-align: right;\">\n",
       "      <th></th>\n",
       "      <th>uid</th>\n",
       "      <th>tid</th>\n",
       "      <th>count</th>\n",
       "    </tr>\n",
       "  </thead>\n",
       "  <tbody>\n",
       "    <tr>\n",
       "      <th>0</th>\n",
       "      <td>0</td>\n",
       "      <td>0</td>\n",
       "      <td>1</td>\n",
       "    </tr>\n",
       "    <tr>\n",
       "      <th>1</th>\n",
       "      <td>0</td>\n",
       "      <td>1</td>\n",
       "      <td>16</td>\n",
       "    </tr>\n",
       "    <tr>\n",
       "      <th>2</th>\n",
       "      <td>0</td>\n",
       "      <td>2</td>\n",
       "      <td>12</td>\n",
       "    </tr>\n",
       "    <tr>\n",
       "      <th>3</th>\n",
       "      <td>0</td>\n",
       "      <td>3</td>\n",
       "      <td>13</td>\n",
       "    </tr>\n",
       "    <tr>\n",
       "      <th>4</th>\n",
       "      <td>0</td>\n",
       "      <td>4</td>\n",
       "      <td>15</td>\n",
       "    </tr>\n",
       "    <tr>\n",
       "      <th>...</th>\n",
       "      <td>...</td>\n",
       "      <td>...</td>\n",
       "      <td>...</td>\n",
       "    </tr>\n",
       "    <tr>\n",
       "      <th>4407908</th>\n",
       "      <td>991</td>\n",
       "      <td>1083467</td>\n",
       "      <td>1</td>\n",
       "    </tr>\n",
       "    <tr>\n",
       "      <th>4407909</th>\n",
       "      <td>991</td>\n",
       "      <td>1083468</td>\n",
       "      <td>1</td>\n",
       "    </tr>\n",
       "    <tr>\n",
       "      <th>4407910</th>\n",
       "      <td>991</td>\n",
       "      <td>1083469</td>\n",
       "      <td>1</td>\n",
       "    </tr>\n",
       "    <tr>\n",
       "      <th>4407911</th>\n",
       "      <td>991</td>\n",
       "      <td>1083470</td>\n",
       "      <td>1</td>\n",
       "    </tr>\n",
       "    <tr>\n",
       "      <th>4407912</th>\n",
       "      <td>991</td>\n",
       "      <td>1083471</td>\n",
       "      <td>1</td>\n",
       "    </tr>\n",
       "  </tbody>\n",
       "</table>\n",
       "<p>4407913 rows × 3 columns</p>\n",
       "</div>"
      ],
      "text/plain": [
       "         uid      tid  count\n",
       "0          0        0      1\n",
       "1          0        1     16\n",
       "2          0        2     12\n",
       "3          0        3     13\n",
       "4          0        4     15\n",
       "...      ...      ...    ...\n",
       "4407908  991  1083467      1\n",
       "4407909  991  1083468      1\n",
       "4407910  991  1083469      1\n",
       "4407911  991  1083470      1\n",
       "4407912  991  1083471      1\n",
       "\n",
       "[4407913 rows x 3 columns]"
      ]
     },
     "execution_count": 2,
     "metadata": {},
     "output_type": "execute_result"
    }
   ],
   "source": [
    "lh = pd.read_pickle('../data/listen_count.pkl')\n",
    "lh"
   ]
  },
  {
   "cell_type": "code",
   "execution_count": 3,
   "metadata": {},
   "outputs": [
    {
     "name": "stdout",
     "output_type": "stream",
     "text": [
      "Number of unique users : 992\n",
      "Number of unique tracks : 1083472\n",
      "Times of tracks being listened: 4407913\n"
     ]
    }
   ],
   "source": [
    "unique_users = len(lh['uid'].unique())\n",
    "unique_tracks = len(lh['tid'].unique())\n",
    "print ('Number of unique users : ' + str(unique_users))\n",
    "print ('Number of unique tracks : ' + str(unique_tracks))\n",
    "print ('Times of tracks being listened: ' + str(len(lh)))"
   ]
  },
  {
   "cell_type": "code",
   "execution_count": 16,
   "metadata": {},
   "outputs": [
    {
     "data": {
      "application/vnd.jupyter.widget-view+json": {
       "model_id": "afaa02cb67c443fd974f5ce12cdb4bdc",
       "version_major": 2,
       "version_minor": 0
      },
      "text/plain": [
       "HBox(children=(FloatProgress(value=0.0, max=1083472.0), HTML(value='')))"
      ]
     },
     "metadata": {},
     "output_type": "display_data"
    },
    {
     "name": "stdout",
     "output_type": "stream",
     "text": [
      "\n"
     ]
    }
   ],
   "source": [
    "filter_track = 10\n",
    "filter_tracks = []\n",
    "for i in tqdm(range(unique_tracks)):\n",
    "    users = lh[lh['tid'] == i]\n",
    "    if(len(users) < filter_track):\n",
    "        filter_tracks.append(i)\n",
    "\n",
    "lh_filter = lh[~lh['tid'].isin(filter_tracks)]"
   ]
  },
  {
   "cell_type": "code",
   "execution_count": 18,
   "metadata": {},
   "outputs": [
    {
     "name": "stdout",
     "output_type": "stream",
     "text": [
      "Number of unique users : 992\n",
      "Number of unique tracks : 157565\n",
      "Times of tracks being listened: 4407913\n"
     ]
    }
   ],
   "source": [
    "unique_users = len(lh_filter['uid'].unique())\n",
    "unique_tracks = len(lh_filter['tid'].unique())\n",
    "print ('Number of unique users : ' + str(unique_users))\n",
    "print ('Number of unique tracks : ' + str(unique_tracks))\n",
    "print ('Times of tracks being listened: ' + str(len(lh)))"
   ]
  },
  {
   "cell_type": "code",
   "execution_count": null,
   "metadata": {},
   "outputs": [],
   "source": [
    "lh_filter.to_pickle(os.path.join(dir_, 'filter_track_' + str(filter_track) + '.pkl'))"
   ]
  },
  {
   "cell_type": "code",
   "execution_count": 5,
   "metadata": {},
   "outputs": [],
   "source": [
    "lh_filter = pd.read_pickle(os.path.join(dir_, 'filter_track_' + str(filter_track) + '.pkl'))"
   ]
  },
  {
   "cell_type": "code",
   "execution_count": 19,
   "metadata": {},
   "outputs": [
    {
     "name": "stdout",
     "output_type": "stream",
     "text": [
      "Number of unique users : 992\n",
      "Number of unique tracks : 157565\n",
      "Times of tracks being listened: 3081550\n"
     ]
    }
   ],
   "source": [
    "unique_users = len(lh_filter['uid'].unique())\n",
    "unique_tracks = len(lh_filter['tid'].unique())\n",
    "print ('Number of unique users : ' + str(unique_users))\n",
    "print ('Number of unique tracks : ' + str(unique_tracks))\n",
    "print ('Times of tracks being listened: ' + str(len(lh_filter)))"
   ]
  },
  {
   "cell_type": "code",
   "execution_count": 20,
   "metadata": {},
   "outputs": [
    {
     "name": "stderr",
     "output_type": "stream",
     "text": [
      "/usr/local/lib/python3.6/dist-packages/ipykernel_launcher.py:3: TqdmDeprecationWarning: This function will be removed in tqdm==5.0.0\n",
      "Please use `tqdm.notebook.tqdm` instead of `tqdm.tqdm_notebook`\n",
      "  This is separate from the ipykernel package so we can avoid doing imports until\n"
     ]
    },
    {
     "data": {
      "application/vnd.jupyter.widget-view+json": {
       "model_id": "c28635879eb0484083b1ffd270da1633",
       "version_major": 2,
       "version_minor": 0
      },
      "text/plain": [
       "HBox(children=(FloatProgress(value=0.0, max=992.0), HTML(value='')))"
      ]
     },
     "metadata": {},
     "output_type": "display_data"
    },
    {
     "name": "stdout",
     "output_type": "stream",
     "text": [
      "\n"
     ]
    }
   ],
   "source": [
    "filter_user = 100\n",
    "filter_users = []\n",
    "for i in tqdm_notebook(range(unique_users)):\n",
    "    tracks = lh_filter[lh_filter['uid'] == i]\n",
    "    if(len(tracks) < filter_user):\n",
    "        filter_users.append(i)\n",
    "lh_filter_user = lh_filter[~lh_filter['uid'].isin(filter_users)]"
   ]
  },
  {
   "cell_type": "code",
   "execution_count": 21,
   "metadata": {},
   "outputs": [
    {
     "name": "stdout",
     "output_type": "stream",
     "text": [
      "Number of unique users : 953\n",
      "Number of unique tracks : 157565\n",
      "Times of tracks being listened: 3079630\n"
     ]
    }
   ],
   "source": [
    "filter_unique_users = len(lh_filter_user['uid'].unique())\n",
    "filter_unique_tracks = len(lh_filter_user['tid'].unique())\n",
    "print ('Number of unique users : ' + str(filter_unique_users))\n",
    "print ('Number of unique tracks : ' + str(filter_unique_tracks))\n",
    "print ('Times of tracks being listened: ' + str(len(lh_filter_user)))"
   ]
  },
  {
   "cell_type": "code",
   "execution_count": 22,
   "metadata": {},
   "outputs": [
    {
     "data": {
      "text/plain": [
       "0.9794909337870821"
      ]
     },
     "execution_count": 22,
     "metadata": {},
     "output_type": "execute_result"
    }
   ],
   "source": [
    "sparsity = 1.0 - ( len(lh_filter_user) / float(filter_unique_users*filter_unique_tracks) )\n",
    "sparsity"
   ]
  },
  {
   "cell_type": "code",
   "execution_count": 23,
   "metadata": {},
   "outputs": [],
   "source": [
    "lh_filter_user.to_pickle(os.path.join(dir_, 'filter_track_' + str(filter_track) + '_user_' + str(filter_user) + '.pkl'))"
   ]
  },
  {
   "cell_type": "code",
   "execution_count": 11,
   "metadata": {},
   "outputs": [],
   "source": [
    "lh_filter_user = pd.read_pickle(os.path.join(dir_, 'filter_track_' + str(filter_track) + '_user_' + str(filter_user) + '.pkl'))"
   ]
  },
  {
   "cell_type": "code",
   "execution_count": 25,
   "metadata": {},
   "outputs": [
    {
     "data": {
      "text/html": [
       "<div>\n",
       "<style scoped>\n",
       "    .dataframe tbody tr th:only-of-type {\n",
       "        vertical-align: middle;\n",
       "    }\n",
       "\n",
       "    .dataframe tbody tr th {\n",
       "        vertical-align: top;\n",
       "    }\n",
       "\n",
       "    .dataframe thead th {\n",
       "        text-align: right;\n",
       "    }\n",
       "</style>\n",
       "<table border=\"1\" class=\"dataframe\">\n",
       "  <thead>\n",
       "    <tr style=\"text-align: right;\">\n",
       "      <th></th>\n",
       "      <th>uid</th>\n",
       "      <th>tid</th>\n",
       "      <th>count</th>\n",
       "    </tr>\n",
       "  </thead>\n",
       "  <tbody>\n",
       "    <tr>\n",
       "      <th>10</th>\n",
       "      <td>0</td>\n",
       "      <td>10</td>\n",
       "      <td>27</td>\n",
       "    </tr>\n",
       "    <tr>\n",
       "      <th>17</th>\n",
       "      <td>0</td>\n",
       "      <td>17</td>\n",
       "      <td>7</td>\n",
       "    </tr>\n",
       "    <tr>\n",
       "      <th>18</th>\n",
       "      <td>0</td>\n",
       "      <td>18</td>\n",
       "      <td>8</td>\n",
       "    </tr>\n",
       "    <tr>\n",
       "      <th>20</th>\n",
       "      <td>0</td>\n",
       "      <td>20</td>\n",
       "      <td>8</td>\n",
       "    </tr>\n",
       "    <tr>\n",
       "      <th>21</th>\n",
       "      <td>0</td>\n",
       "      <td>21</td>\n",
       "      <td>7</td>\n",
       "    </tr>\n",
       "    <tr>\n",
       "      <th>...</th>\n",
       "      <td>...</td>\n",
       "      <td>...</td>\n",
       "      <td>...</td>\n",
       "    </tr>\n",
       "    <tr>\n",
       "      <th>4407385</th>\n",
       "      <td>991</td>\n",
       "      <td>809321</td>\n",
       "      <td>1</td>\n",
       "    </tr>\n",
       "    <tr>\n",
       "      <th>4407406</th>\n",
       "      <td>991</td>\n",
       "      <td>854694</td>\n",
       "      <td>2</td>\n",
       "    </tr>\n",
       "    <tr>\n",
       "      <th>4407412</th>\n",
       "      <td>991</td>\n",
       "      <td>857748</td>\n",
       "      <td>4</td>\n",
       "    </tr>\n",
       "    <tr>\n",
       "      <th>4407432</th>\n",
       "      <td>991</td>\n",
       "      <td>889834</td>\n",
       "      <td>7</td>\n",
       "    </tr>\n",
       "    <tr>\n",
       "      <th>4407437</th>\n",
       "      <td>991</td>\n",
       "      <td>905351</td>\n",
       "      <td>2</td>\n",
       "    </tr>\n",
       "  </tbody>\n",
       "</table>\n",
       "<p>3079630 rows × 3 columns</p>\n",
       "</div>"
      ],
      "text/plain": [
       "         uid     tid  count\n",
       "10         0      10     27\n",
       "17         0      17      7\n",
       "18         0      18      8\n",
       "20         0      20      8\n",
       "21         0      21      7\n",
       "...      ...     ...    ...\n",
       "4407385  991  809321      1\n",
       "4407406  991  854694      2\n",
       "4407412  991  857748      4\n",
       "4407432  991  889834      7\n",
       "4407437  991  905351      2\n",
       "\n",
       "[3079630 rows x 3 columns]"
      ]
     },
     "execution_count": 25,
     "metadata": {},
     "output_type": "execute_result"
    }
   ],
   "source": [
    "lh_filter_user"
   ]
  },
  {
   "cell_type": "code",
   "execution_count": null,
   "metadata": {},
   "outputs": [],
   "source": []
  }
 ],
 "metadata": {
  "kernelspec": {
   "display_name": "Python 3",
   "language": "python",
   "name": "python3"
  },
  "language_info": {
   "codemirror_mode": {
    "name": "ipython",
    "version": 3
   },
   "file_extension": ".py",
   "mimetype": "text/x-python",
   "name": "python",
   "nbconvert_exporter": "python",
   "pygments_lexer": "ipython3",
   "version": "3.7.7"
  }
 },
 "nbformat": 4,
 "nbformat_minor": 2
}
