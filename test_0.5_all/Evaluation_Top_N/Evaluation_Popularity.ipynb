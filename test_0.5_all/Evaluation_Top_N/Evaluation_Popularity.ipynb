{
 "cells": [
  {
   "cell_type": "code",
   "execution_count": 1,
   "metadata": {},
   "outputs": [],
   "source": [
    "import os \n",
    "import tqdm\n",
    "import math\n",
    "import random\n",
    "import numpy as np\n",
    "import pandas as pd\n",
    "from tqdm import tqdm_notebook\n",
    "from numpy import count_nonzero\n",
    "\n",
    "dir_ = '../data/'\n",
    "# file_name = 'normalized_filter_track_5_user_100.csv'\n",
    "# file_name = 'normalized_to_rating_filter_track_20_user_100.csv'\n",
    "file_name = 'normalized_popularity_filter_track_5_user_100.csv'"
   ]
  },
  {
   "cell_type": "code",
   "execution_count": 2,
   "metadata": {},
   "outputs": [],
   "source": [
    "prediction_count = pd.read_pickle(os.path.join(dir_, 'prediction_popularity_count_top_N_' + file_name[:-3] + 'pkl'))\n",
    "prediction_rating = pd.read_pickle(os.path.join(dir_, 'prediction_popularity_rating_top_N_' + file_name[:-3] + 'pkl'))"
   ]
  },
  {
   "cell_type": "code",
   "execution_count": 3,
   "metadata": {},
   "outputs": [
    {
     "ename": "FileNotFoundError",
     "evalue": "[Errno 2] No such file or directory: '../data/train_normalized_to_rating_filter_track_5_user_100.pkl'",
     "output_type": "error",
     "traceback": [
      "\u001b[0;31m---------------------------------------------------------------------------\u001b[0m",
      "\u001b[0;31mFileNotFoundError\u001b[0m                         Traceback (most recent call last)",
      "\u001b[0;32m<ipython-input-3-a30af05e67ab>\u001b[0m in \u001b[0;36m<module>\u001b[0;34m\u001b[0m\n\u001b[1;32m      1\u001b[0m \u001b[0mfile_name\u001b[0m \u001b[0;34m=\u001b[0m \u001b[0;34m'normalized_to_rating_filter_track_5_user_100.csv'\u001b[0m\u001b[0;34m\u001b[0m\u001b[0;34m\u001b[0m\u001b[0m\n\u001b[0;32m----> 2\u001b[0;31m \u001b[0mpd_train\u001b[0m \u001b[0;34m=\u001b[0m \u001b[0mpd\u001b[0m\u001b[0;34m.\u001b[0m\u001b[0mread_pickle\u001b[0m\u001b[0;34m(\u001b[0m\u001b[0mos\u001b[0m\u001b[0;34m.\u001b[0m\u001b[0mpath\u001b[0m\u001b[0;34m.\u001b[0m\u001b[0mjoin\u001b[0m\u001b[0;34m(\u001b[0m\u001b[0mdir_\u001b[0m\u001b[0;34m,\u001b[0m \u001b[0;34m'train_'\u001b[0m \u001b[0;34m+\u001b[0m \u001b[0mfile_name\u001b[0m\u001b[0;34m[\u001b[0m\u001b[0;34m:\u001b[0m\u001b[0;34m-\u001b[0m\u001b[0;36m3\u001b[0m\u001b[0;34m]\u001b[0m \u001b[0;34m+\u001b[0m \u001b[0;34m'pkl'\u001b[0m\u001b[0;34m)\u001b[0m\u001b[0;34m)\u001b[0m\u001b[0;34m\u001b[0m\u001b[0;34m\u001b[0m\u001b[0m\n\u001b[0m",
      "\u001b[0;32m~/.local/lib/python3.6/site-packages/pandas/io/pickle.py\u001b[0m in \u001b[0;36mread_pickle\u001b[0;34m(filepath_or_buffer, compression)\u001b[0m\n\u001b[1;32m    168\u001b[0m     \u001b[0;32mif\u001b[0m \u001b[0;32mnot\u001b[0m \u001b[0misinstance\u001b[0m\u001b[0;34m(\u001b[0m\u001b[0mfp_or_buf\u001b[0m\u001b[0;34m,\u001b[0m \u001b[0mstr\u001b[0m\u001b[0;34m)\u001b[0m \u001b[0;32mand\u001b[0m \u001b[0mcompression\u001b[0m \u001b[0;34m==\u001b[0m \u001b[0;34m\"infer\"\u001b[0m\u001b[0;34m:\u001b[0m\u001b[0;34m\u001b[0m\u001b[0;34m\u001b[0m\u001b[0m\n\u001b[1;32m    169\u001b[0m         \u001b[0mcompression\u001b[0m \u001b[0;34m=\u001b[0m \u001b[0;32mNone\u001b[0m\u001b[0;34m\u001b[0m\u001b[0;34m\u001b[0m\u001b[0m\n\u001b[0;32m--> 170\u001b[0;31m     \u001b[0mf\u001b[0m\u001b[0;34m,\u001b[0m \u001b[0mfh\u001b[0m \u001b[0;34m=\u001b[0m \u001b[0mget_handle\u001b[0m\u001b[0;34m(\u001b[0m\u001b[0mfp_or_buf\u001b[0m\u001b[0;34m,\u001b[0m \u001b[0;34m\"rb\"\u001b[0m\u001b[0;34m,\u001b[0m \u001b[0mcompression\u001b[0m\u001b[0;34m=\u001b[0m\u001b[0mcompression\u001b[0m\u001b[0;34m,\u001b[0m \u001b[0mis_text\u001b[0m\u001b[0;34m=\u001b[0m\u001b[0;32mFalse\u001b[0m\u001b[0;34m)\u001b[0m\u001b[0;34m\u001b[0m\u001b[0;34m\u001b[0m\u001b[0m\n\u001b[0m\u001b[1;32m    171\u001b[0m \u001b[0;34m\u001b[0m\u001b[0m\n\u001b[1;32m    172\u001b[0m     \u001b[0;31m# 1) try standard library Pickle\u001b[0m\u001b[0;34m\u001b[0m\u001b[0;34m\u001b[0m\u001b[0;34m\u001b[0m\u001b[0m\n",
      "\u001b[0;32m~/.local/lib/python3.6/site-packages/pandas/io/common.py\u001b[0m in \u001b[0;36mget_handle\u001b[0;34m(path_or_buf, mode, encoding, compression, memory_map, is_text)\u001b[0m\n\u001b[1;32m    432\u001b[0m         \u001b[0;32melse\u001b[0m\u001b[0;34m:\u001b[0m\u001b[0;34m\u001b[0m\u001b[0;34m\u001b[0m\u001b[0m\n\u001b[1;32m    433\u001b[0m             \u001b[0;31m# Binary mode\u001b[0m\u001b[0;34m\u001b[0m\u001b[0;34m\u001b[0m\u001b[0;34m\u001b[0m\u001b[0m\n\u001b[0;32m--> 434\u001b[0;31m             \u001b[0mf\u001b[0m \u001b[0;34m=\u001b[0m \u001b[0mopen\u001b[0m\u001b[0;34m(\u001b[0m\u001b[0mpath_or_buf\u001b[0m\u001b[0;34m,\u001b[0m \u001b[0mmode\u001b[0m\u001b[0;34m)\u001b[0m\u001b[0;34m\u001b[0m\u001b[0;34m\u001b[0m\u001b[0m\n\u001b[0m\u001b[1;32m    435\u001b[0m         \u001b[0mhandles\u001b[0m\u001b[0;34m.\u001b[0m\u001b[0mappend\u001b[0m\u001b[0;34m(\u001b[0m\u001b[0mf\u001b[0m\u001b[0;34m)\u001b[0m\u001b[0;34m\u001b[0m\u001b[0;34m\u001b[0m\u001b[0m\n\u001b[1;32m    436\u001b[0m \u001b[0;34m\u001b[0m\u001b[0m\n",
      "\u001b[0;31mFileNotFoundError\u001b[0m: [Errno 2] No such file or directory: '../data/train_normalized_to_rating_filter_track_5_user_100.pkl'"
     ]
    }
   ],
   "source": [
    "file_name = 'normalized_to_rating_filter_track_5_user_100.csv'\n",
    "pd_train = pd.read_pickle(os.path.join(dir_, 'train_' + file_name[:-3] + 'pkl'))"
   ]
  },
  {
   "cell_type": "code",
   "execution_count": 4,
   "metadata": {},
   "outputs": [
    {
     "ename": "NameError",
     "evalue": "name 'pd_train' is not defined",
     "output_type": "error",
     "traceback": [
      "\u001b[0;31m---------------------------------------------------------------------------\u001b[0m",
      "\u001b[0;31mNameError\u001b[0m                                 Traceback (most recent call last)",
      "\u001b[0;32m<ipython-input-4-58cfc2e2bb5d>\u001b[0m in \u001b[0;36m<module>\u001b[0;34m\u001b[0m\n\u001b[0;32m----> 1\u001b[0;31m \u001b[0mpd_train\u001b[0m\u001b[0;34m\u001b[0m\u001b[0;34m\u001b[0m\u001b[0m\n\u001b[0m",
      "\u001b[0;31mNameError\u001b[0m: name 'pd_train' is not defined"
     ]
    }
   ],
   "source": [
    "pd_train"
   ]
  },
  {
   "cell_type": "code",
   "execution_count": 5,
   "metadata": {},
   "outputs": [
    {
     "data": {
      "text/html": [
       "<div>\n",
       "<style scoped>\n",
       "    .dataframe tbody tr th:only-of-type {\n",
       "        vertical-align: middle;\n",
       "    }\n",
       "\n",
       "    .dataframe tbody tr th {\n",
       "        vertical-align: top;\n",
       "    }\n",
       "\n",
       "    .dataframe thead th {\n",
       "        text-align: right;\n",
       "    }\n",
       "</style>\n",
       "<table border=\"1\" class=\"dataframe\">\n",
       "  <thead>\n",
       "    <tr style=\"text-align: right;\">\n",
       "      <th></th>\n",
       "      <th>tid</th>\n",
       "      <th>count</th>\n",
       "      <th>rating</th>\n",
       "    </tr>\n",
       "  </thead>\n",
       "  <tbody>\n",
       "    <tr>\n",
       "      <th>166</th>\n",
       "      <td>166</td>\n",
       "      <td>1882</td>\n",
       "      <td>333.50</td>\n",
       "    </tr>\n",
       "    <tr>\n",
       "      <th>6310</th>\n",
       "      <td>6338</td>\n",
       "      <td>1589</td>\n",
       "      <td>92.25</td>\n",
       "    </tr>\n",
       "    <tr>\n",
       "      <th>17316</th>\n",
       "      <td>17377</td>\n",
       "      <td>1555</td>\n",
       "      <td>43.50</td>\n",
       "    </tr>\n",
       "    <tr>\n",
       "      <th>6254</th>\n",
       "      <td>6282</td>\n",
       "      <td>1396</td>\n",
       "      <td>17.50</td>\n",
       "    </tr>\n",
       "    <tr>\n",
       "      <th>13055</th>\n",
       "      <td>13104</td>\n",
       "      <td>1340</td>\n",
       "      <td>33.50</td>\n",
       "    </tr>\n",
       "    <tr>\n",
       "      <th>...</th>\n",
       "      <td>...</td>\n",
       "      <td>...</td>\n",
       "      <td>...</td>\n",
       "    </tr>\n",
       "    <tr>\n",
       "      <th>41773</th>\n",
       "      <td>42054</td>\n",
       "      <td>1</td>\n",
       "      <td>0.25</td>\n",
       "    </tr>\n",
       "    <tr>\n",
       "      <th>53483</th>\n",
       "      <td>53940</td>\n",
       "      <td>1</td>\n",
       "      <td>0.25</td>\n",
       "    </tr>\n",
       "    <tr>\n",
       "      <th>35279</th>\n",
       "      <td>35475</td>\n",
       "      <td>1</td>\n",
       "      <td>0.25</td>\n",
       "    </tr>\n",
       "    <tr>\n",
       "      <th>15826</th>\n",
       "      <td>15881</td>\n",
       "      <td>1</td>\n",
       "      <td>0.25</td>\n",
       "    </tr>\n",
       "    <tr>\n",
       "      <th>25232</th>\n",
       "      <td>25344</td>\n",
       "      <td>1</td>\n",
       "      <td>0.25</td>\n",
       "    </tr>\n",
       "  </tbody>\n",
       "</table>\n",
       "<p>54480 rows × 3 columns</p>\n",
       "</div>"
      ],
      "text/plain": [
       "         tid  count  rating\n",
       "166      166   1882  333.50\n",
       "6310    6338   1589   92.25\n",
       "17316  17377   1555   43.50\n",
       "6254    6282   1396   17.50\n",
       "13055  13104   1340   33.50\n",
       "...      ...    ...     ...\n",
       "41773  42054      1    0.25\n",
       "53483  53940      1    0.25\n",
       "35279  35475      1    0.25\n",
       "15826  15881      1    0.25\n",
       "25232  25344      1    0.25\n",
       "\n",
       "[54480 rows x 3 columns]"
      ]
     },
     "execution_count": 5,
     "metadata": {},
     "output_type": "execute_result"
    }
   ],
   "source": [
    "prediction_count"
   ]
  },
  {
   "cell_type": "code",
   "execution_count": 6,
   "metadata": {},
   "outputs": [
    {
     "data": {
      "text/html": [
       "<div>\n",
       "<style scoped>\n",
       "    .dataframe tbody tr th:only-of-type {\n",
       "        vertical-align: middle;\n",
       "    }\n",
       "\n",
       "    .dataframe tbody tr th {\n",
       "        vertical-align: top;\n",
       "    }\n",
       "\n",
       "    .dataframe thead th {\n",
       "        text-align: right;\n",
       "    }\n",
       "</style>\n",
       "<table border=\"1\" class=\"dataframe\">\n",
       "  <thead>\n",
       "    <tr style=\"text-align: right;\">\n",
       "      <th></th>\n",
       "      <th>tid</th>\n",
       "      <th>count</th>\n",
       "      <th>rating</th>\n",
       "    </tr>\n",
       "  </thead>\n",
       "  <tbody>\n",
       "    <tr>\n",
       "      <th>166</th>\n",
       "      <td>166</td>\n",
       "      <td>1882</td>\n",
       "      <td>333.50</td>\n",
       "    </tr>\n",
       "    <tr>\n",
       "      <th>348</th>\n",
       "      <td>350</td>\n",
       "      <td>1291</td>\n",
       "      <td>272.00</td>\n",
       "    </tr>\n",
       "    <tr>\n",
       "      <th>3748</th>\n",
       "      <td>3761</td>\n",
       "      <td>976</td>\n",
       "      <td>258.00</td>\n",
       "    </tr>\n",
       "    <tr>\n",
       "      <th>7178</th>\n",
       "      <td>7209</td>\n",
       "      <td>805</td>\n",
       "      <td>256.50</td>\n",
       "    </tr>\n",
       "    <tr>\n",
       "      <th>80</th>\n",
       "      <td>80</td>\n",
       "      <td>1207</td>\n",
       "      <td>217.50</td>\n",
       "    </tr>\n",
       "    <tr>\n",
       "      <th>...</th>\n",
       "      <td>...</td>\n",
       "      <td>...</td>\n",
       "      <td>...</td>\n",
       "    </tr>\n",
       "    <tr>\n",
       "      <th>49206</th>\n",
       "      <td>49598</td>\n",
       "      <td>1</td>\n",
       "      <td>0.25</td>\n",
       "    </tr>\n",
       "    <tr>\n",
       "      <th>49194</th>\n",
       "      <td>49586</td>\n",
       "      <td>1</td>\n",
       "      <td>0.25</td>\n",
       "    </tr>\n",
       "    <tr>\n",
       "      <th>8874</th>\n",
       "      <td>8909</td>\n",
       "      <td>1</td>\n",
       "      <td>0.25</td>\n",
       "    </tr>\n",
       "    <tr>\n",
       "      <th>8870</th>\n",
       "      <td>8905</td>\n",
       "      <td>1</td>\n",
       "      <td>0.25</td>\n",
       "    </tr>\n",
       "    <tr>\n",
       "      <th>49289</th>\n",
       "      <td>49682</td>\n",
       "      <td>1</td>\n",
       "      <td>0.25</td>\n",
       "    </tr>\n",
       "  </tbody>\n",
       "</table>\n",
       "<p>54480 rows × 3 columns</p>\n",
       "</div>"
      ],
      "text/plain": [
       "         tid  count  rating\n",
       "166      166   1882  333.50\n",
       "348      350   1291  272.00\n",
       "3748    3761    976  258.00\n",
       "7178    7209    805  256.50\n",
       "80        80   1207  217.50\n",
       "...      ...    ...     ...\n",
       "49206  49598      1    0.25\n",
       "49194  49586      1    0.25\n",
       "8874    8909      1    0.25\n",
       "8870    8905      1    0.25\n",
       "49289  49682      1    0.25\n",
       "\n",
       "[54480 rows x 3 columns]"
      ]
     },
     "execution_count": 6,
     "metadata": {},
     "output_type": "execute_result"
    }
   ],
   "source": [
    "prediction_rating"
   ]
  },
  {
   "cell_type": "code",
   "execution_count": 7,
   "metadata": {},
   "outputs": [
    {
     "data": {
      "text/html": [
       "<div>\n",
       "<style scoped>\n",
       "    .dataframe tbody tr th:only-of-type {\n",
       "        vertical-align: middle;\n",
       "    }\n",
       "\n",
       "    .dataframe tbody tr th {\n",
       "        vertical-align: top;\n",
       "    }\n",
       "\n",
       "    .dataframe thead th {\n",
       "        text-align: right;\n",
       "    }\n",
       "</style>\n",
       "<table border=\"1\" class=\"dataframe\">\n",
       "  <thead>\n",
       "    <tr style=\"text-align: right;\">\n",
       "      <th></th>\n",
       "      <th>uid</th>\n",
       "      <th>tid</th>\n",
       "      <th>rating</th>\n",
       "    </tr>\n",
       "  </thead>\n",
       "  <tbody>\n",
       "    <tr>\n",
       "      <th>481832</th>\n",
       "      <td>90</td>\n",
       "      <td>5374</td>\n",
       "      <td>0.25</td>\n",
       "    </tr>\n",
       "    <tr>\n",
       "      <th>1247457</th>\n",
       "      <td>214</td>\n",
       "      <td>35528</td>\n",
       "      <td>1.25</td>\n",
       "    </tr>\n",
       "    <tr>\n",
       "      <th>968433</th>\n",
       "      <td>172</td>\n",
       "      <td>29367</td>\n",
       "      <td>4.25</td>\n",
       "    </tr>\n",
       "    <tr>\n",
       "      <th>25524</th>\n",
       "      <td>4</td>\n",
       "      <td>11632</td>\n",
       "      <td>4.25</td>\n",
       "    </tr>\n",
       "    <tr>\n",
       "      <th>60178</th>\n",
       "      <td>8</td>\n",
       "      <td>19012</td>\n",
       "      <td>0.25</td>\n",
       "    </tr>\n",
       "    <tr>\n",
       "      <th>...</th>\n",
       "      <td>...</td>\n",
       "      <td>...</td>\n",
       "      <td>...</td>\n",
       "    </tr>\n",
       "    <tr>\n",
       "      <th>587045</th>\n",
       "      <td>115</td>\n",
       "      <td>27784</td>\n",
       "      <td>3.25</td>\n",
       "    </tr>\n",
       "    <tr>\n",
       "      <th>309534</th>\n",
       "      <td>65</td>\n",
       "      <td>12495</td>\n",
       "      <td>0.25</td>\n",
       "    </tr>\n",
       "    <tr>\n",
       "      <th>660480</th>\n",
       "      <td>130</td>\n",
       "      <td>20821</td>\n",
       "      <td>0.25</td>\n",
       "    </tr>\n",
       "    <tr>\n",
       "      <th>373255</th>\n",
       "      <td>73</td>\n",
       "      <td>27444</td>\n",
       "      <td>2.75</td>\n",
       "    </tr>\n",
       "    <tr>\n",
       "      <th>255645</th>\n",
       "      <td>50</td>\n",
       "      <td>46911</td>\n",
       "      <td>3.50</td>\n",
       "    </tr>\n",
       "  </tbody>\n",
       "</table>\n",
       "<p>351181 rows × 3 columns</p>\n",
       "</div>"
      ],
      "text/plain": [
       "         uid    tid  rating\n",
       "481832    90   5374    0.25\n",
       "1247457  214  35528    1.25\n",
       "968433   172  29367    4.25\n",
       "25524      4  11632    4.25\n",
       "60178      8  19012    0.25\n",
       "...      ...    ...     ...\n",
       "587045   115  27784    3.25\n",
       "309534    65  12495    0.25\n",
       "660480   130  20821    0.25\n",
       "373255    73  27444    2.75\n",
       "255645    50  46911    3.50\n",
       "\n",
       "[351181 rows x 3 columns]"
      ]
     },
     "execution_count": 7,
     "metadata": {},
     "output_type": "execute_result"
    }
   ],
   "source": [
    "test = pd.read_pickle(os.path.join(dir_, 'test_' + file_name[:-3] + 'pkl'))\n",
    "test.sort_values(by=['uid','tid'])\n",
    "test"
   ]
  },
  {
   "cell_type": "code",
   "execution_count": 8,
   "metadata": {},
   "outputs": [
    {
     "data": {
      "text/html": [
       "<div>\n",
       "<style scoped>\n",
       "    .dataframe tbody tr th:only-of-type {\n",
       "        vertical-align: middle;\n",
       "    }\n",
       "\n",
       "    .dataframe tbody tr th {\n",
       "        vertical-align: top;\n",
       "    }\n",
       "\n",
       "    .dataframe thead th {\n",
       "        text-align: right;\n",
       "    }\n",
       "</style>\n",
       "<table border=\"1\" class=\"dataframe\">\n",
       "  <thead>\n",
       "    <tr style=\"text-align: right;\">\n",
       "      <th></th>\n",
       "      <th>uid</th>\n",
       "      <th>tid</th>\n",
       "      <th>rating</th>\n",
       "    </tr>\n",
       "  </thead>\n",
       "  <tbody>\n",
       "    <tr>\n",
       "      <th>481832</th>\n",
       "      <td>90</td>\n",
       "      <td>5374</td>\n",
       "      <td>0.25</td>\n",
       "    </tr>\n",
       "    <tr>\n",
       "      <th>1247457</th>\n",
       "      <td>214</td>\n",
       "      <td>35528</td>\n",
       "      <td>1.25</td>\n",
       "    </tr>\n",
       "    <tr>\n",
       "      <th>968433</th>\n",
       "      <td>172</td>\n",
       "      <td>29367</td>\n",
       "      <td>4.25</td>\n",
       "    </tr>\n",
       "    <tr>\n",
       "      <th>25524</th>\n",
       "      <td>4</td>\n",
       "      <td>11632</td>\n",
       "      <td>4.25</td>\n",
       "    </tr>\n",
       "    <tr>\n",
       "      <th>60178</th>\n",
       "      <td>8</td>\n",
       "      <td>19012</td>\n",
       "      <td>0.25</td>\n",
       "    </tr>\n",
       "    <tr>\n",
       "      <th>...</th>\n",
       "      <td>...</td>\n",
       "      <td>...</td>\n",
       "      <td>...</td>\n",
       "    </tr>\n",
       "    <tr>\n",
       "      <th>587045</th>\n",
       "      <td>115</td>\n",
       "      <td>27784</td>\n",
       "      <td>3.25</td>\n",
       "    </tr>\n",
       "    <tr>\n",
       "      <th>309534</th>\n",
       "      <td>65</td>\n",
       "      <td>12495</td>\n",
       "      <td>0.25</td>\n",
       "    </tr>\n",
       "    <tr>\n",
       "      <th>660480</th>\n",
       "      <td>130</td>\n",
       "      <td>20821</td>\n",
       "      <td>0.25</td>\n",
       "    </tr>\n",
       "    <tr>\n",
       "      <th>373255</th>\n",
       "      <td>73</td>\n",
       "      <td>27444</td>\n",
       "      <td>2.75</td>\n",
       "    </tr>\n",
       "    <tr>\n",
       "      <th>255645</th>\n",
       "      <td>50</td>\n",
       "      <td>46911</td>\n",
       "      <td>3.50</td>\n",
       "    </tr>\n",
       "  </tbody>\n",
       "</table>\n",
       "<p>351181 rows × 3 columns</p>\n",
       "</div>"
      ],
      "text/plain": [
       "         uid    tid  rating\n",
       "481832    90   5374    0.25\n",
       "1247457  214  35528    1.25\n",
       "968433   172  29367    4.25\n",
       "25524      4  11632    4.25\n",
       "60178      8  19012    0.25\n",
       "...      ...    ...     ...\n",
       "587045   115  27784    3.25\n",
       "309534    65  12495    0.25\n",
       "660480   130  20821    0.25\n",
       "373255    73  27444    2.75\n",
       "255645    50  46911    3.50\n",
       "\n",
       "[351181 rows x 3 columns]"
      ]
     },
     "execution_count": 8,
     "metadata": {},
     "output_type": "execute_result"
    }
   ],
   "source": [
    "test"
   ]
  },
  {
   "cell_type": "code",
   "execution_count": 9,
   "metadata": {},
   "outputs": [
    {
     "data": {
      "text/plain": [
       "211"
      ]
     },
     "execution_count": 9,
     "metadata": {},
     "output_type": "execute_result"
    }
   ],
   "source": [
    "num_user = 211\n",
    "num_user"
   ]
  },
  {
   "cell_type": "code",
   "execution_count": 10,
   "metadata": {},
   "outputs": [],
   "source": [
    "#############################################\n",
    "#                                           #\n",
    "#          Personal Recommendation          #\n",
    "#                                           #\n",
    "#############################################"
   ]
  },
  {
   "cell_type": "code",
   "execution_count": 11,
   "metadata": {},
   "outputs": [
    {
     "name": "stdout",
     "output_type": "stream",
     "text": [
      "[166.0, 6338.0, 17377.0, 6282.0]\n",
      "[166.0, 350.0, 3761.0, 7209.0]\n"
     ]
    }
   ],
   "source": [
    "n=4\n",
    "\n",
    "top_n_list_r = []\n",
    "top_n_list_c = []\n",
    "\n",
    "prediction_r = prediction_rating[:n]\n",
    "prediction_c = prediction_count[:n]\n",
    "\n",
    "for _, row in prediction_r.iterrows():\n",
    "    top_n_list_r.append(row[0])\n",
    "    \n",
    "for _, row in prediction_c.iterrows():\n",
    "    top_n_list_c.append(row[0])\n",
    "\n",
    "print(top_n_list_c)\n",
    "print(top_n_list_r)"
   ]
  },
  {
   "cell_type": "code",
   "execution_count": 12,
   "metadata": {
    "scrolled": true
   },
   "outputs": [
    {
     "name": "stderr",
     "output_type": "stream",
     "text": [
      "/usr/local/lib/python3.6/dist-packages/ipykernel_launcher.py:8: TqdmDeprecationWarning: This function will be removed in tqdm==5.0.0\n",
      "Please use `tqdm.notebook.tqdm` instead of `tqdm.tqdm_notebook`\n",
      "  \n"
     ]
    },
    {
     "data": {
      "application/vnd.jupyter.widget-view+json": {
       "model_id": "0fef431fe3824c1b9e2355719d6eaa2c",
       "version_major": 2,
       "version_minor": 0
      },
      "text/plain": [
       "HBox(children=(FloatProgress(value=0.0, max=211.0), HTML(value='')))"
      ]
     },
     "metadata": {},
     "output_type": "display_data"
    },
    {
     "name": "stdout",
     "output_type": "stream",
     "text": [
      "\n",
      "rating 0.31398104265402843\n",
      "count 0.16587677725118483\n"
     ]
    }
   ],
   "source": [
    "evaluation_r = []\n",
    "evaluation_c = []\n",
    "\n",
    "satisfication_r = 0\n",
    "satisfication_c = 0\n",
    "\n",
    "\n",
    "for i in tqdm.tqdm_notebook(range(num_user)):\n",
    "    precision_r = 0\n",
    "    precision_c = 0\n",
    "    for j in top_n_list_r:\n",
    "        p = test[test['uid'] == i]\n",
    "        p = p[p['tid']==j]\n",
    "        if len(p) > 0:\n",
    "            precision_r += 1\n",
    "            \n",
    "    for j in top_n_list_c:\n",
    "        p = test[test['uid'] == i]\n",
    "        p = p[p['tid']==j]\n",
    "        if len(p) > 0:\n",
    "            precision_c += 1    \n",
    "            \n",
    "    satisfication_r += precision_r / n\n",
    "    satisfication_c += precision_c / n\n",
    "\n",
    "    \n",
    "    evaluation_r.append(precision_r)\n",
    "    evaluation_c.append(precision_c)\n",
    "\n",
    "#     print(precision, satisfication)\n",
    "print('rating', satisfication_r/num_user)\n",
    "print('count',satisfication_c/num_user)"
   ]
  },
  {
   "cell_type": "code",
   "execution_count": 37,
   "metadata": {},
   "outputs": [],
   "source": [
    "#############################################\n",
    "#                                           #\n",
    "#          Group Recommendation             #\n",
    "#                                           #\n",
    "#############################################"
   ]
  },
  {
   "cell_type": "code",
   "execution_count": 13,
   "metadata": {
    "scrolled": true
   },
   "outputs": [
    {
     "ename": "IndexError",
     "evalue": "list index out of range",
     "output_type": "error",
     "traceback": [
      "\u001b[0;31m---------------------------------------------------------------------------\u001b[0m",
      "\u001b[0;31mIndexError\u001b[0m                                Traceback (most recent call last)",
      "\u001b[0;32m<ipython-input-13-02058c25dda3>\u001b[0m in \u001b[0;36m<module>\u001b[0;34m\u001b[0m\n\u001b[1;32m      9\u001b[0m     \u001b[0;32mwhile\u001b[0m \u001b[0mb\u001b[0m\u001b[0;34m:\u001b[0m\u001b[0;34m\u001b[0m\u001b[0;34m\u001b[0m\u001b[0m\n\u001b[1;32m     10\u001b[0m         \u001b[0mg\u001b[0m \u001b[0;34m=\u001b[0m \u001b[0mrandom\u001b[0m\u001b[0;34m.\u001b[0m\u001b[0mrandom\u001b[0m\u001b[0;34m(\u001b[0m\u001b[0;34m)\u001b[0m\u001b[0;34m*\u001b[0m\u001b[0;34m(\u001b[0m\u001b[0mnum_user\u001b[0m\u001b[0;34m/\u001b[0m\u001b[0mgroup_size\u001b[0m\u001b[0;34m)\u001b[0m\u001b[0;34m//\u001b[0m\u001b[0;36m1\u001b[0m\u001b[0;34m\u001b[0m\u001b[0;34m\u001b[0m\u001b[0m\n\u001b[0;32m---> 11\u001b[0;31m         \u001b[0mgroup\u001b[0m \u001b[0;34m=\u001b[0m \u001b[0mgroups\u001b[0m\u001b[0;34m[\u001b[0m\u001b[0mint\u001b[0m\u001b[0;34m(\u001b[0m\u001b[0mg\u001b[0m\u001b[0;34m)\u001b[0m\u001b[0;34m]\u001b[0m\u001b[0;34m\u001b[0m\u001b[0;34m\u001b[0m\u001b[0m\n\u001b[0m\u001b[1;32m     12\u001b[0m         \u001b[0;32mif\u001b[0m \u001b[0mlen\u001b[0m\u001b[0;34m(\u001b[0m\u001b[0mgroup\u001b[0m\u001b[0;34m)\u001b[0m \u001b[0;34m<\u001b[0m \u001b[0mgroup_size\u001b[0m\u001b[0;34m:\u001b[0m\u001b[0;34m\u001b[0m\u001b[0;34m\u001b[0m\u001b[0m\n\u001b[1;32m     13\u001b[0m             \u001b[0mgroup\u001b[0m\u001b[0;34m.\u001b[0m\u001b[0mappend\u001b[0m\u001b[0;34m(\u001b[0m\u001b[0mi\u001b[0m\u001b[0;34m)\u001b[0m\u001b[0;34m\u001b[0m\u001b[0;34m\u001b[0m\u001b[0m\n",
      "\u001b[0;31mIndexError\u001b[0m: list index out of range"
     ]
    }
   ],
   "source": [
    "groups = []\n",
    "group_size = 2\n",
    "\n",
    "for i in range(num_user//group_size):\n",
    "    groups.append([])\n",
    "    \n",
    "for i in range(num_user):\n",
    "    b = True\n",
    "    while b:\n",
    "        g = random.random()*(num_user/group_size)//1\n",
    "        group = groups[int(g)]\n",
    "        if len(group) < group_size:\n",
    "            group.append(i)\n",
    "            b = False\n",
    "groups"
   ]
  },
  {
   "cell_type": "code",
   "execution_count": 102,
   "metadata": {},
   "outputs": [],
   "source": [
    "# check if duplicate \n",
    "\n",
    "users = []\n",
    "for group in groups:\n",
    "    for u in group:\n",
    "        users.append(u)\n",
    "users.sort(reverse=True)\n",
    "\n",
    "n = num_user - 1 \n",
    "for i in users:\n",
    "    if i-n != 0:\n",
    "        print('False')\n",
    "    n-=1"
   ]
  },
  {
   "cell_type": "code",
   "execution_count": null,
   "metadata": {},
   "outputs": [],
   "source": [
    "#############################################\n",
    "#                                           #\n",
    "#          Group Recommendation (2)         #\n",
    "#                                           #\n",
    "#############################################"
   ]
  },
  {
   "cell_type": "code",
   "execution_count": 23,
   "metadata": {
    "scrolled": true
   },
   "outputs": [
    {
     "data": {
      "text/plain": [
       "array([32., 78.])"
      ]
     },
     "execution_count": 23,
     "metadata": {},
     "output_type": "execute_result"
    }
   ],
   "source": [
    "# np.savetxt(os.path.join(dir_, 'groups_10_' + file_name[:-3] + 'csv'), groups, delimiter=\",\")\n",
    "groups = np.loadtxt(os.path.join(dir_, 'groups_2.csv'), delimiter=',')\n",
    "group_size = len(groups[0])\n",
    "groups[0]"
   ]
  },
  {
   "cell_type": "code",
   "execution_count": 27,
   "metadata": {},
   "outputs": [
    {
     "name": "stderr",
     "output_type": "stream",
     "text": [
      "/usr/local/lib/python3.6/dist-packages/ipykernel_launcher.py:7: TqdmDeprecationWarning: This function will be removed in tqdm==5.0.0\n",
      "Please use `tqdm.notebook.tqdm` instead of `tqdm.tqdm_notebook`\n",
      "  import sys\n"
     ]
    },
    {
     "data": {
      "application/vnd.jupyter.widget-view+json": {
       "model_id": "b0e9baa59083463788ad7aa4b03ac9cb",
       "version_major": 2,
       "version_minor": 0
      },
      "text/plain": [
       "HBox(children=(FloatProgress(value=0.0, max=105.0), HTML(value='')))"
      ]
     },
     "metadata": {},
     "output_type": "display_data"
    },
    {
     "name": "stdout",
     "output_type": "stream",
     "text": [
      "0.25\n",
      "0.0\n",
      "0.25\n",
      "0.25\n",
      "0.5\n",
      "0.0\n",
      "0.25\n",
      "0.0\n",
      "0.25\n",
      "0.25\n",
      "0.5\n",
      "0.25\n",
      "0.75\n",
      "0.25\n",
      "0.25\n",
      "0.25\n",
      "0.5\n",
      "0.0\n",
      "0.5\n",
      "0.0\n",
      "0.5\n",
      "0.25\n",
      "0.25\n",
      "0.75\n",
      "0.5\n",
      "0.0\n",
      "0.5\n",
      "0.0\n",
      "0.25\n",
      "0.25\n",
      "0.25\n",
      "0.5\n",
      "0.5\n",
      "0.75\n",
      "0.0\n",
      "0.0\n",
      "0.25\n",
      "0.25\n",
      "0.5\n",
      "0.0\n",
      "0.25\n",
      "0.25\n",
      "0.25\n",
      "0.5\n",
      "0.0\n",
      "0.25\n",
      "0.5\n",
      "0.5\n",
      "0.25\n",
      "0.0\n",
      "0.5\n",
      "0.5\n",
      "0.0\n",
      "0.0\n",
      "0.25\n",
      "0.5\n",
      "0.5\n",
      "0.5\n",
      "0.0\n",
      "0.0\n",
      "0.25\n",
      "0.5\n",
      "0.25\n",
      "0.0\n",
      "0.5\n",
      "0.25\n",
      "0.25\n",
      "0.5\n",
      "0.0\n",
      "0.0\n",
      "0.0\n",
      "0.5\n",
      "0.25\n",
      "0.5\n",
      "0.5\n",
      "0.0\n",
      "0.25\n",
      "0.25\n",
      "0.75\n",
      "0.25\n",
      "0.25\n",
      "0.5\n",
      "0.5\n",
      "0.0\n",
      "0.0\n",
      "0.5\n",
      "0.0\n",
      "0.25\n",
      "0.5\n",
      "0.0\n",
      "0.5\n",
      "0.5\n",
      "0.25\n",
      "0.0\n",
      "0.0\n",
      "0.5\n",
      "0.75\n",
      "0.5\n",
      "0.25\n",
      "0.0\n",
      "0.0\n",
      "0.25\n",
      "0.25\n",
      "0.25\n",
      "0.25\n",
      "\n",
      "rating 0.5190476190476191\n",
      "count 0.28095238095238095\n"
     ]
    }
   ],
   "source": [
    "evaluation_r = []\n",
    "evaluation_c = []\n",
    "\n",
    "satisfication_r = 0\n",
    "satisfication_c = 0\n",
    "\n",
    "for i in tqdm.tqdm_notebook(range(num_user//group_size)):\n",
    "    group = groups[i]    \n",
    "    precision_r = 0\n",
    "    precision_c = 0\n",
    "    \n",
    "    for j in top_n_list_r:\n",
    "        t1 = test[test['uid'] == group[0]]\n",
    "        t2 = test[test['uid'] == group[1]]\n",
    "        \n",
    "        t1 = t1[t1['tid']==j]\n",
    "        t2 = t2[t2['tid']==j]\n",
    "\n",
    "        s = len(t1) + len(t2)\n",
    "        if s > 0:\n",
    "            precision_r += 1\n",
    "#         precision_r += math.log(s+1,10)/math.log(len(group)+1,10)\n",
    "\n",
    "    satisfication_r += precision_r / n\n",
    "    evaluation_r.append(precision_r)\n",
    "    \n",
    "    for j in top_n_list_c:\n",
    "        t1 = test[test['uid'] == group[0]]\n",
    "        t2 = test[test['uid'] == group[1]]\n",
    "        \n",
    "        t1 = t1[t1['tid']==j]\n",
    "        t2 = t2[t2['tid']==j]\n",
    "\n",
    "        s = len(t1) + len(t2)\n",
    "        if s > 0:\n",
    "            rating = 0.0\n",
    "            high_rating = 0\n",
    "            if len(t1) > 0 and t1.iloc[0]['rating'] > rating:\n",
    "                high_rating +=1\n",
    "            if len(t2) > 0 and t2.iloc[0]['rating'] > rating:\n",
    "                high_rating +=1\n",
    "            if high_rating > 0:\n",
    "                precision_c += 1\n",
    "#             precision_c += math.log(high_rating+1,10)/math.log(len(group)+1,10)\n",
    "    satisfication_c += precision_c / n\n",
    "    evaluation_c.append(precision_c)\n",
    "    \n",
    "print('rating', satisfication_r/(num_user//group_size))\n",
    "print('count', satisfication_c/(num_user//group_size))"
   ]
  },
  {
   "cell_type": "code",
   "execution_count": 24,
   "metadata": {},
   "outputs": [
    {
     "data": {
      "application/vnd.jupyter.widget-view+json": {
       "model_id": "3ac2447da181445b82a694c8c1eeccae",
       "version_major": 2,
       "version_minor": 0
      },
      "text/plain": [
       "HBox(children=(IntProgress(value=0, max=105), HTML(value='')))"
      ]
     },
     "metadata": {},
     "output_type": "display_data"
    },
    {
     "name": "stdout",
     "output_type": "stream",
     "text": [
      "\n",
      "count 0.1326705202789367\n"
     ]
    }
   ],
   "source": [
    "# modified satisfaction\n",
    "satisfication = 0\n",
    "for i in tqdm.tqdm_notebook(range(num_user//group_size)):\n",
    "    group = groups[i]    \n",
    "    satisfication_t = 0\n",
    "    satisfication_u = 0\n",
    "    high_rating_u1 = 0\n",
    "    high_rating_u2 = 0    \n",
    "    for j in top_n_list_c:\n",
    "        t1 = test[test['uid'] == group[0]]\n",
    "        t2 = test[test['uid'] == group[1]]\n",
    "        \n",
    "        t1 = t1[t1['tid']==j]\n",
    "        t2 = t2[t2['tid']==j]\n",
    "\n",
    "        s = len(t1) + len(t2)\n",
    "        if s > 0:\n",
    "            rating = 4.0\n",
    "            high_rating = 0\n",
    "            if len(t1) > 0 and t1.iloc[0]['rating'] > rating:\n",
    "                high_rating +=1\n",
    "                high_rating_u1 += 1\n",
    "            if len(t2) > 0 and t2.iloc[0]['rating'] > rating:\n",
    "                high_rating +=1\n",
    "                high_rating_u2 += 1\n",
    "            satisfication_t += math.log(high_rating+1,10)/math.log(len(group)+1,10)\n",
    "    satisfication_u += math.log(high_rating_u1+1,10)/math.log(n+1,10)\n",
    "    satisfication_u += math.log(high_rating_u2+1,10)/math.log(n+1,10)\n",
    "    \n",
    "    satisfication += 0.5 * satisfication_t / n\n",
    "    satisfication += 0.5 * satisfication_u / len(group)\n",
    "    \n",
    "print('count', satisfication/(num_user//group_size))"
   ]
  },
  {
   "cell_type": "code",
   "execution_count": null,
   "metadata": {},
   "outputs": [],
   "source": [
    "#############################################\n",
    "#                                           #\n",
    "#          Group Recommendation (4)         #\n",
    "#                                           #\n",
    "#############################################"
   ]
  },
  {
   "cell_type": "code",
   "execution_count": 20,
   "metadata": {},
   "outputs": [
    {
     "data": {
      "text/plain": [
       "array([ 16.,  69., 111., 129.])"
      ]
     },
     "execution_count": 20,
     "metadata": {},
     "output_type": "execute_result"
    }
   ],
   "source": [
    "# np.savetxt(os.path.join(dir_, 'groups_10_' + file_name[:-3] + 'csv'), groups, delimiter=\",\")\n",
    "groups = np.loadtxt(os.path.join(dir_, 'groups_4.csv'), delimiter=',')\n",
    "group_size = len(groups[0])\n",
    "groups[0]"
   ]
  },
  {
   "cell_type": "code",
   "execution_count": 22,
   "metadata": {
    "scrolled": true
   },
   "outputs": [
    {
     "name": "stderr",
     "output_type": "stream",
     "text": [
      "/usr/local/lib/python3.6/dist-packages/ipykernel_launcher.py:7: TqdmDeprecationWarning: This function will be removed in tqdm==5.0.0\n",
      "Please use `tqdm.notebook.tqdm` instead of `tqdm.tqdm_notebook`\n",
      "  import sys\n"
     ]
    },
    {
     "data": {
      "application/vnd.jupyter.widget-view+json": {
       "model_id": "b03f6bf44ea94153a00bfd4190e60a11",
       "version_major": 2,
       "version_minor": 0
      },
      "text/plain": [
       "HBox(children=(FloatProgress(value=0.0, max=52.0), HTML(value='')))"
      ]
     },
     "metadata": {},
     "output_type": "display_data"
    },
    {
     "name": "stdout",
     "output_type": "stream",
     "text": [
      "\n",
      "rating 0.44526492397020273\n",
      "count 0.4326923076923077\n"
     ]
    }
   ],
   "source": [
    "evaluation_r = []\n",
    "evaluation_c = []\n",
    "\n",
    "satisfication_r = 0\n",
    "satisfication_c = 0\n",
    "\n",
    "for i in tqdm.tqdm_notebook(range(num_user//group_size)):\n",
    "    group = groups[i]    \n",
    "    precision_r = 0\n",
    "    precision_c = 0\n",
    "    \n",
    "    for j in top_n_list_r:\n",
    "        t1 = test[test['uid'] == group[0]]\n",
    "        t2 = test[test['uid'] == group[1]]\n",
    "        t3 = test[test['uid'] == group[2]]\n",
    "        t4 = test[test['uid'] == group[3]]\n",
    "        \n",
    "        t1 = t1[t1['tid']==j]\n",
    "        t2 = t2[t2['tid']==j]\n",
    "        t3 = t3[t3['tid']==j]\n",
    "        t4 = t4[t4['tid']==j]\n",
    "        s = len(t1) + len(t2) + len(t3) + len(t4)\n",
    "#         if s > 0:\n",
    "#             precision_r += 1\n",
    "        precision_r += math.log(s+1,10)/math.log(len(group)+1,10)\n",
    "    satisfication_r += precision_r / n\n",
    "    evaluation_r.append(precision_r)\n",
    "    \n",
    "    for j in top_n_list_c:\n",
    "        t1 = test[test['uid'] == group[0]]\n",
    "        t2 = test[test['uid'] == group[1]]\n",
    "        t3 = test[test['uid'] == group[2]]\n",
    "        t4 = test[test['uid'] == group[3]]\n",
    "        \n",
    "        t1 = t1[t1['tid']==j]\n",
    "        t2 = t2[t2['tid']==j]\n",
    "        t3 = t3[t3['tid']==j]\n",
    "        t4 = t4[t4['tid']==j]\n",
    "        s = len(t1) + len(t2) + len(t3) + len(t4)\n",
    "        if s > 0:\n",
    "            rating = 0.0\n",
    "            high_rating = 0\n",
    "            if len(t1) > 0 and t1.iloc[0]['rating'] > rating:\n",
    "                high_rating +=1\n",
    "            if len(t2) > 0 and t2.iloc[0]['rating'] > rating:\n",
    "                high_rating +=1\n",
    "            if len(t3) > 0 and t3.iloc[0]['rating'] > rating:\n",
    "                high_rating +=1\n",
    "            if len(t4) > 0 and t4.iloc[0]['rating'] > rating:\n",
    "                high_rating +=1\n",
    "            if high_rating > 0:\n",
    "                precision_c += 1\n",
    "#             precision_c += math.log(high_rating+1,10)/math.log(len(group)+1,10)\n",
    "    satisfication_c += precision_c / n\n",
    "    evaluation_c.append(precision_c)\n",
    "    \n",
    "print('rating', satisfication_r/(num_user//group_size))\n",
    "print('count', satisfication_c/(num_user//group_size))"
   ]
  },
  {
   "cell_type": "code",
   "execution_count": 32,
   "metadata": {
    "scrolled": true
   },
   "outputs": [
    {
     "data": {
      "application/vnd.jupyter.widget-view+json": {
       "model_id": "9cb2aa33d38240dfa5806ff9876d8208",
       "version_major": 2,
       "version_minor": 0
      },
      "text/plain": [
       "HBox(children=(IntProgress(value=0, max=52), HTML(value='')))"
      ]
     },
     "metadata": {},
     "output_type": "display_data"
    },
    {
     "name": "stdout",
     "output_type": "stream",
     "text": [
      "\n",
      "count 0.14332027127647462\n"
     ]
    }
   ],
   "source": [
    "# modified satisfaction\n",
    "satisfication = 0\n",
    "\n",
    "for i in tqdm.tqdm_notebook(range(num_user//group_size)):\n",
    "    group = groups[i]    \n",
    "    satisfication_t = 0\n",
    "    satisfication_u = 0\n",
    "    high_rating_u1 = 0\n",
    "    high_rating_u2 = 0    \n",
    "    high_rating_u3 = 0    \n",
    "    high_rating_u4 = 0    \n",
    "\n",
    "    for j in top_n_list_c:\n",
    "        t1 = test[test['uid'] == group[0]]\n",
    "        t2 = test[test['uid'] == group[1]]\n",
    "        t3 = test[test['uid'] == group[2]]\n",
    "        t4 = test[test['uid'] == group[3]]\n",
    "        \n",
    "        t1 = t1[t1['tid']==j]\n",
    "        t2 = t2[t2['tid']==j]\n",
    "        t3 = t3[t3['tid']==j]\n",
    "        t4 = t4[t4['tid']==j]\n",
    "        s = len(t1) + len(t2) + len(t3) + len(t4)\n",
    "        if s > 0:\n",
    "            rating = 4.0\n",
    "            high_rating = 0\n",
    "            if len(t1) > 0 and t1.iloc[0]['rating'] > rating:\n",
    "                high_rating += 1\n",
    "                high_rating_u1 += 1\n",
    "            if len(t2) > 0 and t2.iloc[0]['rating'] > rating:\n",
    "                high_rating += 1\n",
    "                high_rating_u2 += 1\n",
    "            if len(t3) > 0 and t3.iloc[0]['rating'] > rating:\n",
    "                high_rating += 1\n",
    "                high_rating_u3 += 1\n",
    "            if len(t4) > 0 and t4.iloc[0]['rating'] > rating:\n",
    "                high_rating += 1\n",
    "                high_rating_u4 += 1\n",
    "            satisfication_t += math.log(high_rating+1,10)/math.log(len(group)+1,10)\n",
    "    satisfication_u += math.log(high_rating_u1+1,10)/math.log(n+1,10)\n",
    "    satisfication_u += math.log(high_rating_u2+1,10)/math.log(n+1,10)    \n",
    "    satisfication_u += math.log(high_rating_u3+1,10)/math.log(n+1,10)\n",
    "    satisfication_u += math.log(high_rating_u4+1,10)/math.log(n+1,10)   \n",
    "\n",
    "    satisfication += 0.5 * satisfication_t / n\n",
    "    satisfication += 0.5 * satisfication_u / len(group)\n",
    "    \n",
    "print('count', satisfication/(num_user//group_size))"
   ]
  },
  {
   "cell_type": "code",
   "execution_count": 145,
   "metadata": {},
   "outputs": [],
   "source": [
    "#############################################\n",
    "#                                           #\n",
    "#          Group Recommendation (5)         #\n",
    "#                                           #\n",
    "#############################################"
   ]
  },
  {
   "cell_type": "code",
   "execution_count": 34,
   "metadata": {},
   "outputs": [
    {
     "data": {
      "text/plain": [
       "array([ 11.,  23., 107., 122., 141.])"
      ]
     },
     "execution_count": 34,
     "metadata": {},
     "output_type": "execute_result"
    }
   ],
   "source": [
    "# np.savetxt(os.path.join(dir_, 'groups_10_' + file_name[:-3] + 'csv'), groups, delimiter=\",\")\n",
    "groups = np.loadtxt(os.path.join(dir_, 'groups_5_' + file_name), delimiter=',')\n",
    "group_size = len(groups[0])\n",
    "groups[0]"
   ]
  },
  {
   "cell_type": "code",
   "execution_count": 35,
   "metadata": {
    "scrolled": false
   },
   "outputs": [
    {
     "name": "stdout",
     "output_type": "stream",
     "text": [
      "\n"
     ]
    },
    {
     "data": {
      "application/vnd.jupyter.widget-view+json": {
       "model_id": "9d64234273e3452a83378d3b603de81c",
       "version_major": 2,
       "version_minor": 0
      },
      "text/plain": [
       "HBox(children=(IntProgress(value=0, max=42), HTML(value='')))"
      ]
     },
     "metadata": {},
     "output_type": "display_data"
    },
    {
     "name": "stdout",
     "output_type": "stream",
     "text": [
      "\n",
      "rating 0.47385832035729325\n",
      "count 0.30357142857142855\n"
     ]
    }
   ],
   "source": [
    "evaluation_r = []\n",
    "evaluation_c = []\n",
    "\n",
    "satisfication_r = 0\n",
    "satisfication_c = 0\n",
    "\n",
    "for i in tqdm.tqdm_notebook(range(num_user//group_size)):\n",
    "    group = groups[i]    \n",
    "    precision_r = 0\n",
    "    precision_c = 0\n",
    "    \n",
    "    for j in top_n_list_r:\n",
    "        t1 = test[test['uid'] == group[0]]\n",
    "        t2 = test[test['uid'] == group[1]]\n",
    "        t3 = test[test['uid'] == group[2]]\n",
    "        t4 = test[test['uid'] == group[3]]\n",
    "        t5 = test[test['uid'] == group[4]]\n",
    "        \n",
    "        t1 = t1[t1['tid']==j]\n",
    "        t2 = t2[t2['tid']==j]\n",
    "        t3 = t3[t3['tid']==j]\n",
    "        t4 = t4[t4['tid']==j]\n",
    "        t5 = t5[t5['tid']==j]\n",
    "        s = len(t1) + len(t2) + len(t3) + len(t4) + len(t5)\n",
    "#         if s > 0:\n",
    "#             precision_r += 1\n",
    "        precision_r += math.log(s+1,10)/math.log(len(group)+1,10)\n",
    "    satisfication_r += precision_r / n\n",
    "    evaluation_r.append(precision_r)\n",
    "    \n",
    "    for j in top_n_list_c:\n",
    "        t1 = test[test['uid'] == group[0]]\n",
    "        t2 = test[test['uid'] == group[1]]\n",
    "        t3 = test[test['uid'] == group[2]]\n",
    "        t4 = test[test['uid'] == group[3]]\n",
    "        t5 = test[test['uid'] == group[4]]\n",
    "        \n",
    "        t1 = t1[t1['tid']==j]\n",
    "        t2 = t2[t2['tid']==j]\n",
    "        t3 = t3[t3['tid']==j]\n",
    "        t4 = t4[t4['tid']==j]\n",
    "        t5 = t5[t5['tid']==j]\n",
    "        s = len(t1) + len(t2) + len(t3) + len(t4) + len(t5)\n",
    "        if s > 0:\n",
    "            rating = 4.0\n",
    "            high_rating = 0\n",
    "            if len(t1) > 0 and t1.iloc[0]['rating'] > rating:\n",
    "                high_rating +=1\n",
    "            if len(t2) > 0 and t2.iloc[0]['rating'] > rating:\n",
    "                high_rating +=1\n",
    "            if len(t3) > 0 and t3.iloc[0]['rating'] > rating:\n",
    "                high_rating +=1\n",
    "            if len(t4) > 0 and t4.iloc[0]['rating'] > rating:\n",
    "                high_rating +=1\n",
    "            if len(t5) > 0 and t5.iloc[0]['rating'] > rating:\n",
    "                high_rating +=1\n",
    "            if high_rating > 0:\n",
    "                precision_c += 1\n",
    "#             precision_c += math.log(high_rating+1,10)/math.log(len(group)+1,10)\n",
    "    satisfication_c += precision_c / n\n",
    "    evaluation_c.append(precision_c)\n",
    "    \n",
    "print('rating', satisfication_r/(num_user//group_size))\n",
    "print('count', satisfication_c/(num_user//group_size))"
   ]
  },
  {
   "cell_type": "code",
   "execution_count": 41,
   "metadata": {},
   "outputs": [
    {
     "data": {
      "application/vnd.jupyter.widget-view+json": {
       "model_id": "9ee70fb67df842158fb735a37646df52",
       "version_major": 2,
       "version_minor": 0
      },
      "text/plain": [
       "HBox(children=(IntProgress(value=0, max=42), HTML(value='')))"
      ]
     },
     "metadata": {},
     "output_type": "display_data"
    },
    {
     "name": "stdout",
     "output_type": "stream",
     "text": [
      "\n",
      "count 0.26164266772875894\n"
     ]
    }
   ],
   "source": [
    "# modified satisfaction\n",
    "satisfication = 0\n",
    "\n",
    "for i in tqdm.tqdm_notebook(range(num_user//group_size)):\n",
    "    group = groups[i]    \n",
    "    satisfication_t = 0\n",
    "    satisfication_u = 0\n",
    "    high_rating_u1 = 0\n",
    "    high_rating_u2 = 0    \n",
    "    high_rating_u3 = 0    \n",
    "    high_rating_u4 = 0    \n",
    "    high_rating_u5 = 0    \n",
    "\n",
    "    for j in top_n_list_c:\n",
    "        t1 = test[test['uid'] == group[0]]\n",
    "        t2 = test[test['uid'] == group[1]]\n",
    "        t3 = test[test['uid'] == group[2]]\n",
    "        t4 = test[test['uid'] == group[3]]\n",
    "        t5 = test[test['uid'] == group[4]]\n",
    "\n",
    "        \n",
    "        t1 = t1[t1['tid']==j]\n",
    "        t2 = t2[t2['tid']==j]\n",
    "        t3 = t3[t3['tid']==j]\n",
    "        t4 = t4[t4['tid']==j]\n",
    "        t5 = t5[t5['tid']==j]\n",
    "        s = len(t1) + len(t2) + len(t3) + len(t4) + len(t5)\n",
    "        if s > 0:\n",
    "            rating = 0.0\n",
    "            high_rating = 0\n",
    "            if len(t1) > 0 and t1.iloc[0]['rating'] > rating:\n",
    "                high_rating += 1\n",
    "                high_rating_u1 += 1\n",
    "            if len(t2) > 0 and t2.iloc[0]['rating'] > rating:\n",
    "                high_rating += 1\n",
    "                high_rating_u2 += 1\n",
    "            if len(t3) > 0 and t3.iloc[0]['rating'] > rating:\n",
    "                high_rating += 1\n",
    "                high_rating_u3 += 1\n",
    "            if len(t4) > 0 and t4.iloc[0]['rating'] > rating:\n",
    "                high_rating += 1\n",
    "                high_rating_u4 += 1\n",
    "            if len(t5) > 0 and t5.iloc[0]['rating'] > rating:\n",
    "                high_rating +=1\n",
    "                high_rating_u5 += 1\n",
    "            satisfication_t += math.log(high_rating+1,10)/math.log(len(group)+1,10)\n",
    "    satisfication_u += math.log(high_rating_u1+1,10)/math.log(n+1,10)\n",
    "    satisfication_u += math.log(high_rating_u2+1,10)/math.log(n+1,10)    \n",
    "    satisfication_u += math.log(high_rating_u3+1,10)/math.log(n+1,10)\n",
    "    satisfication_u += math.log(high_rating_u4+1,10)/math.log(n+1,10)   \n",
    "    satisfication_u += math.log(high_rating_u5+1,10)/math.log(n+1,10)   \n",
    "\n",
    "    satisfication += 0.5 * satisfication_t / n\n",
    "    satisfication += 0.5 * satisfication_u / len(group)\n",
    "    \n",
    "print('count', satisfication/(num_user//group_size))"
   ]
  },
  {
   "cell_type": "code",
   "execution_count": 111,
   "metadata": {},
   "outputs": [],
   "source": [
    "#############################################\n",
    "#                                           #\n",
    "#          Group Recommendation (10)        #\n",
    "#                                           #\n",
    "#############################################"
   ]
  },
  {
   "cell_type": "code",
   "execution_count": 42,
   "metadata": {
    "scrolled": true
   },
   "outputs": [
    {
     "data": {
      "text/plain": [
       "array([ 17.,  58.,  73., 104., 112., 164., 207., 214., 218., 219.])"
      ]
     },
     "execution_count": 42,
     "metadata": {},
     "output_type": "execute_result"
    }
   ],
   "source": [
    "# np.savetxt(os.path.join(dir_, 'groups_10_' + file_name[:-3] + 'csv'), groups, delimiter=\",\")\n",
    "groups = np.loadtxt(os.path.join(dir_, 'groups_10_' + file_name), delimiter=',')\n",
    "group_size = len(groups[0])\n",
    "groups[0]"
   ]
  },
  {
   "cell_type": "code",
   "execution_count": 177,
   "metadata": {
    "scrolled": true
   },
   "outputs": [
    {
     "data": {
      "application/vnd.jupyter.widget-view+json": {
       "model_id": "76506599942c449e8fa2d51ffe2d4d34",
       "version_major": 2,
       "version_minor": 0
      },
      "text/plain": [
       "HBox(children=(IntProgress(value=0, max=21), HTML(value='')))"
      ]
     },
     "metadata": {},
     "output_type": "display_data"
    },
    {
     "name": "stdout",
     "output_type": "stream",
     "text": [
      "\n",
      "rating 0.9523809523809523\n",
      "count 0.42857142857142855\n"
     ]
    }
   ],
   "source": [
    "evaluation_r = []\n",
    "evaluation_c = []\n",
    "\n",
    "satisfication_r = 0\n",
    "satisfication_c = 0\n",
    "\n",
    "for i in tqdm.tqdm_notebook(range(num_user//group_size)):\n",
    "    group = groups[i]    \n",
    "    precision_r = 0\n",
    "    precision_c = 0\n",
    "    \n",
    "    for j in top_n_list_r:\n",
    "        t1 = test[test['uid'] == group[0]]\n",
    "        t2 = test[test['uid'] == group[1]]\n",
    "        t3 = test[test['uid'] == group[2]]\n",
    "        t4 = test[test['uid'] == group[3]]\n",
    "        t5 = test[test['uid'] == group[4]]\n",
    "        t6 = test[test['uid'] == group[5]]\n",
    "        t7 = test[test['uid'] == group[6]]\n",
    "        t8 = test[test['uid'] == group[7]]\n",
    "        t9 = test[test['uid'] == group[8]]\n",
    "        t10 = test[test['uid'] == group[9]]\n",
    "        \n",
    "        t1 = t1[t1['tid']==j]\n",
    "        t2 = t2[t2['tid']==j]\n",
    "        t3 = t3[t3['tid']==j]\n",
    "        t4 = t4[t4['tid']==j]\n",
    "        t5 = t5[t5['tid']==j]\n",
    "        t6 = t6[t6['tid']==j]\n",
    "        t7 = t7[t7['tid']==j]\n",
    "        t8 = t8[t8['tid']==j]\n",
    "        t9 = t9[t9['tid']==j]\n",
    "        t10 = t10[t10['tid']==j]\n",
    "        s = len(t1) + len(t2) + len(t3) + len(t4) + len(t5) + len(t6) + len(t7) + len(t8) + len(t9) + len(t10)\n",
    "        if s > 0:\n",
    "            precision_r += 1\n",
    "#         precision_r += math.log(s+1,10)/math.log(len(group)+1,10)\n",
    "    satisfication_r += precision_r / n\n",
    "    evaluation_r.append(precision_r)\n",
    "    \n",
    "    for j in top_n_list_c:\n",
    "        t1 = test[test['uid'] == group[0]]\n",
    "        t2 = test[test['uid'] == group[1]]\n",
    "        t3 = test[test['uid'] == group[2]]\n",
    "        t4 = test[test['uid'] == group[3]]\n",
    "        t5 = test[test['uid'] == group[4]]\n",
    "        t6 = test[test['uid'] == group[5]]\n",
    "        t7 = test[test['uid'] == group[6]]\n",
    "        t8 = test[test['uid'] == group[7]]\n",
    "        t9 = test[test['uid'] == group[8]]\n",
    "        t10 = test[test['uid'] == group[9]]\n",
    "        \n",
    "        t1 = t1[t1['tid']==j]\n",
    "        t2 = t2[t2['tid']==j]\n",
    "        t3 = t3[t3['tid']==j]\n",
    "        t4 = t4[t4['tid']==j]\n",
    "        t5 = t5[t5['tid']==j]\n",
    "        t6 = t6[t6['tid']==j]\n",
    "        t7 = t7[t7['tid']==j]\n",
    "        t8 = t8[t8['tid']==j]\n",
    "        t9 = t9[t9['tid']==j]\n",
    "        t10 = t10[t10['tid']==j]\n",
    "        s = len(t1) + len(t2) + len(t3) + len(t4) + len(t5) + len(t6) + len(t7) + len(t8) + len(t9) + len(t10)\n",
    "        if s > 0:\n",
    "            rating = 4.0\n",
    "            high_rating = 0\n",
    "            if len(t1) > 0 and t1.iloc[0]['rating'] > rating:\n",
    "                high_rating +=1\n",
    "            if len(t2) > 0 and t2.iloc[0]['rating'] > rating:\n",
    "                high_rating +=1\n",
    "            if len(t3) > 0 and t3.iloc[0]['rating'] > rating:\n",
    "                high_rating +=1\n",
    "            if len(t4) > 0 and t4.iloc[0]['rating'] > rating:\n",
    "                high_rating +=1\n",
    "            if len(t5) > 0 and t5.iloc[0]['rating'] > rating:\n",
    "                high_rating +=1\n",
    "            if len(t6) > 0 and t6.iloc[0]['rating'] > rating:\n",
    "                high_rating +=1\n",
    "            if len(t7) > 0 and t7.iloc[0]['rating'] > rating:\n",
    "                high_rating +=1\n",
    "            if len(t8) > 0 and t8.iloc[0]['rating'] > rating:\n",
    "                high_rating +=1\n",
    "            if len(t9) > 0 and t9.iloc[0]['rating'] > rating:\n",
    "                high_rating +=1\n",
    "            if len(t10) > 0 and t10.iloc[0]['rating'] > rating:\n",
    "                high_rating +=1\n",
    "            if high_rating > 0:\n",
    "                precision_c += 1\n",
    "#             precision_c += math.log(high_rating+1,10)/math.log(len(group)+1,10)\n",
    "    satisfication_c += precision_c / n\n",
    "    evaluation_c.append(precision_c)\n",
    "    \n",
    "print('rating', satisfication_r/(num_user//group_size))\n",
    "print('count', satisfication_c/(num_user//group_size))"
   ]
  },
  {
   "cell_type": "code",
   "execution_count": 47,
   "metadata": {},
   "outputs": [
    {
     "data": {
      "application/vnd.jupyter.widget-view+json": {
       "model_id": "5b924dec17be47ebbd1c751f11450fab",
       "version_major": 2,
       "version_minor": 0
      },
      "text/plain": [
       "HBox(children=(IntProgress(value=0, max=21), HTML(value='')))"
      ]
     },
     "metadata": {},
     "output_type": "display_data"
    },
    {
     "name": "stdout",
     "output_type": "stream",
     "text": [
      "\n",
      "count 0.16489336140758612\n"
     ]
    }
   ],
   "source": [
    "# modified satisfaction\n",
    "satisfication = 0\n",
    "\n",
    "for i in tqdm.tqdm_notebook(range(num_user//group_size)):\n",
    "    group = groups[i]    \n",
    "    satisfication_t = 0\n",
    "    satisfication_u = 0\n",
    "    high_rating_u1 = 0\n",
    "    high_rating_u2 = 0    \n",
    "    high_rating_u3 = 0    \n",
    "    high_rating_u4 = 0    \n",
    "    high_rating_u5 = 0    \n",
    "    high_rating_u6 = 0\n",
    "    high_rating_u7 = 0    \n",
    "    high_rating_u8 = 0    \n",
    "    high_rating_u9 = 0    \n",
    "    high_rating_u10 = 0    \n",
    "    \n",
    "    for j in top_n_list_c:\n",
    "        t1 = test[test['uid'] == group[0]]\n",
    "        t2 = test[test['uid'] == group[1]]\n",
    "        t3 = test[test['uid'] == group[2]]\n",
    "        t4 = test[test['uid'] == group[3]]\n",
    "        t5 = test[test['uid'] == group[4]]\n",
    "        t6 = test[test['uid'] == group[5]]\n",
    "        t7 = test[test['uid'] == group[6]]\n",
    "        t8 = test[test['uid'] == group[7]]\n",
    "        t9 = test[test['uid'] == group[8]]\n",
    "        t10 = test[test['uid'] == group[9]]\n",
    "\n",
    "        \n",
    "        t1 = t1[t1['tid']==j]\n",
    "        t2 = t2[t2['tid']==j]\n",
    "        t3 = t3[t3['tid']==j]\n",
    "        t4 = t4[t4['tid']==j]\n",
    "        t5 = t5[t5['tid']==j]\n",
    "        t6 = t6[t6['tid']==j]\n",
    "        t7 = t7[t7['tid']==j]\n",
    "        t8 = t8[t8['tid']==j]\n",
    "        t9 = t9[t9['tid']==j]\n",
    "        t10 = t10[t10['tid']==j]\n",
    "        s = len(t1) + len(t2) + len(t3) + len(t4) + len(t5) + len(t6) + len(t7) + len(t8) + len(t9) + len(t10)\n",
    "        if s > 0:\n",
    "            rating = 4.0\n",
    "            high_rating = 0\n",
    "            if len(t1) > 0 and t1.iloc[0]['rating'] > rating:\n",
    "                high_rating += 1\n",
    "                high_rating_u1 += 1\n",
    "            if len(t2) > 0 and t2.iloc[0]['rating'] > rating:\n",
    "                high_rating += 1\n",
    "                high_rating_u2 += 1\n",
    "            if len(t3) > 0 and t3.iloc[0]['rating'] > rating:\n",
    "                high_rating += 1\n",
    "                high_rating_u3 += 1\n",
    "            if len(t4) > 0 and t4.iloc[0]['rating'] > rating:\n",
    "                high_rating += 1\n",
    "                high_rating_u4 += 1\n",
    "            if len(t5) > 0 and t5.iloc[0]['rating'] > rating:\n",
    "                high_rating +=1\n",
    "                high_rating_u5 += 1\n",
    "            if len(t6) > 0 and t6.iloc[0]['rating'] > rating:\n",
    "                high_rating += 1\n",
    "                high_rating_u6 += 1\n",
    "            if len(t7) > 0 and t7.iloc[0]['rating'] > rating:\n",
    "                high_rating += 1\n",
    "                high_rating_u7 += 1\n",
    "            if len(t8) > 0 and t8.iloc[0]['rating'] > rating:\n",
    "                high_rating += 1\n",
    "                high_rating_u8 += 1\n",
    "            if len(t9) > 0 and t9.iloc[0]['rating'] > rating:\n",
    "                high_rating += 1\n",
    "                high_rating_u9 += 1\n",
    "            if len(t10) > 0 and t10.iloc[0]['rating'] > rating:\n",
    "                high_rating +=1\n",
    "                high_rating_u10 += 1\n",
    "            satisfication_t += math.log(high_rating+1,10)/math.log(len(group)+1,10)\n",
    "    satisfication_u += math.log(high_rating_u1+1,10)/math.log(n+1,10)\n",
    "    satisfication_u += math.log(high_rating_u2+1,10)/math.log(n+1,10)    \n",
    "    satisfication_u += math.log(high_rating_u3+1,10)/math.log(n+1,10)\n",
    "    satisfication_u += math.log(high_rating_u4+1,10)/math.log(n+1,10)   \n",
    "    satisfication_u += math.log(high_rating_u5+1,10)/math.log(n+1,10)   \n",
    "    satisfication_u += math.log(high_rating_u6+1,10)/math.log(n+1,10)\n",
    "    satisfication_u += math.log(high_rating_u7+1,10)/math.log(n+1,10)    \n",
    "    satisfication_u += math.log(high_rating_u8+1,10)/math.log(n+1,10)\n",
    "    satisfication_u += math.log(high_rating_u9+1,10)/math.log(n+1,10)   \n",
    "    satisfication_u += math.log(high_rating_u10+1,10)/math.log(n+1,10)   \n",
    "\n",
    "    satisfication += 0.5 * satisfication_t / n\n",
    "    satisfication += 0.5 * satisfication_u / len(group)\n",
    "    \n",
    "print('count', satisfication/(num_user//group_size))"
   ]
  },
  {
   "cell_type": "code",
   "execution_count": 185,
   "metadata": {},
   "outputs": [],
   "source": [
    "#############################################\n",
    "#                                           #\n",
    "#          Distribution of rating           #\n",
    "#                                           #\n",
    "#############################################"
   ]
  },
  {
   "cell_type": "code",
   "execution_count": 317,
   "metadata": {},
   "outputs": [],
   "source": [
    "dir_ = '../data_0.5_track_20/'\n",
    "# file_name = 'normalized_filter_track_5_user_100.csv'\n",
    "file_name = 'normalized_to_rating_filter_track_20_user_100.csv'"
   ]
  },
  {
   "cell_type": "code",
   "execution_count": 178,
   "metadata": {
    "scrolled": false
   },
   "outputs": [
    {
     "name": "stdout",
     "output_type": "stream",
     "text": [
      "294240\n",
      "368197\n",
      "472624\n",
      "583652\n",
      "702362\n",
      "\n",
      "294240\n",
      "73957\n",
      "104427\n",
      "111028\n",
      "118710\n"
     ]
    }
   ],
   "source": [
    "ratings = pd.read_pickle(os.path.join(dir_, file_name[:-3] + 'pkl'))\n",
    "rating_list = []\n",
    "\n",
    "for i in range(1,6):\n",
    "    rating = ratings[ratings['rating']<=i] \n",
    "    num = len(rating)\n",
    "    rating_list.append(num)\n",
    "    print(num)\n",
    "    \n",
    "print('')\n",
    "\n",
    "for i in range(4,0,-1):\n",
    "    rating_list[i] -= rating_list[i-1]\n",
    "    \n",
    "for i in range(5):\n",
    "    print(rating_list[i])"
   ]
  },
  {
   "cell_type": "code",
   "execution_count": 179,
   "metadata": {},
   "outputs": [
    {
     "data": {
      "text/html": [
       "<div>\n",
       "<style scoped>\n",
       "    .dataframe tbody tr th:only-of-type {\n",
       "        vertical-align: middle;\n",
       "    }\n",
       "\n",
       "    .dataframe tbody tr th {\n",
       "        vertical-align: top;\n",
       "    }\n",
       "\n",
       "    .dataframe thead th {\n",
       "        text-align: right;\n",
       "    }\n",
       "</style>\n",
       "<table border=\"1\" class=\"dataframe\">\n",
       "  <thead>\n",
       "    <tr style=\"text-align: right;\">\n",
       "      <th></th>\n",
       "      <th>uid</th>\n",
       "      <th>tid</th>\n",
       "      <th>rating</th>\n",
       "    </tr>\n",
       "  </thead>\n",
       "  <tbody>\n",
       "    <tr>\n",
       "      <td>4</td>\n",
       "      <td>0</td>\n",
       "      <td>0</td>\n",
       "      <td>4.75</td>\n",
       "    </tr>\n",
       "    <tr>\n",
       "      <td>5</td>\n",
       "      <td>0</td>\n",
       "      <td>1</td>\n",
       "      <td>2.50</td>\n",
       "    </tr>\n",
       "    <tr>\n",
       "      <td>6</td>\n",
       "      <td>0</td>\n",
       "      <td>2</td>\n",
       "      <td>0.25</td>\n",
       "    </tr>\n",
       "    <tr>\n",
       "      <td>7</td>\n",
       "      <td>0</td>\n",
       "      <td>3</td>\n",
       "      <td>0.25</td>\n",
       "    </tr>\n",
       "    <tr>\n",
       "      <td>8</td>\n",
       "      <td>0</td>\n",
       "      <td>4</td>\n",
       "      <td>4.50</td>\n",
       "    </tr>\n",
       "    <tr>\n",
       "      <td>...</td>\n",
       "      <td>...</td>\n",
       "      <td>...</td>\n",
       "      <td>...</td>\n",
       "    </tr>\n",
       "    <tr>\n",
       "      <td>1256928</td>\n",
       "      <td>219</td>\n",
       "      <td>54824</td>\n",
       "      <td>4.75</td>\n",
       "    </tr>\n",
       "    <tr>\n",
       "      <td>1256936</td>\n",
       "      <td>219</td>\n",
       "      <td>54867</td>\n",
       "      <td>1.75</td>\n",
       "    </tr>\n",
       "    <tr>\n",
       "      <td>1256949</td>\n",
       "      <td>219</td>\n",
       "      <td>54900</td>\n",
       "      <td>0.25</td>\n",
       "    </tr>\n",
       "    <tr>\n",
       "      <td>1256989</td>\n",
       "      <td>219</td>\n",
       "      <td>54958</td>\n",
       "      <td>0.25</td>\n",
       "    </tr>\n",
       "    <tr>\n",
       "      <td>1257021</td>\n",
       "      <td>219</td>\n",
       "      <td>54962</td>\n",
       "      <td>0.25</td>\n",
       "    </tr>\n",
       "  </tbody>\n",
       "</table>\n",
       "<p>702362 rows × 3 columns</p>\n",
       "</div>"
      ],
      "text/plain": [
       "         uid    tid  rating\n",
       "4          0      0    4.75\n",
       "5          0      1    2.50\n",
       "6          0      2    0.25\n",
       "7          0      3    0.25\n",
       "8          0      4    4.50\n",
       "...      ...    ...     ...\n",
       "1256928  219  54824    4.75\n",
       "1256936  219  54867    1.75\n",
       "1256949  219  54900    0.25\n",
       "1256989  219  54958    0.25\n",
       "1257021  219  54962    0.25\n",
       "\n",
       "[702362 rows x 3 columns]"
      ]
     },
     "execution_count": 179,
     "metadata": {},
     "output_type": "execute_result"
    }
   ],
   "source": [
    "ratings"
   ]
  },
  {
   "cell_type": "code",
   "execution_count": null,
   "metadata": {},
   "outputs": [],
   "source": []
  }
 ],
 "metadata": {
  "kernelspec": {
   "display_name": "Python 3",
   "language": "python",
   "name": "python3"
  },
  "language_info": {
   "codemirror_mode": {
    "name": "ipython",
    "version": 3
   },
   "file_extension": ".py",
   "mimetype": "text/x-python",
   "name": "python",
   "nbconvert_exporter": "python",
   "pygments_lexer": "ipython3",
   "version": "3.6.9"
  }
 },
 "nbformat": 4,
 "nbformat_minor": 2
}
