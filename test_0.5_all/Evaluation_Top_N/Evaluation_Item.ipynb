{
 "cells": [
  {
   "cell_type": "code",
   "execution_count": 30,
   "metadata": {},
   "outputs": [],
   "source": [
    "import os \n",
    "import numpy as np\n",
    "import pandas as pd\n",
    "from tqdm import tqdm_notebook\n",
    "from numpy import count_nonzero\n",
    "\n",
    "dir_ = './data/'\n",
    "file_name = 'normalized_filter_track_5_user_100.csv'"
   ]
  },
  {
   "cell_type": "code",
   "execution_count": 2,
   "metadata": {},
   "outputs": [],
   "source": [
    "test = np.loadtxt(os.path.join(dir_, 'test_list_item_' + file_name), delimiter=',')\n",
    "prediction = np.loadtxt(os.path.join(dir_, 'prediction_item_multi_process_' + file_name), delimiter=',')"
   ]
  },
  {
   "cell_type": "code",
   "execution_count": 6,
   "metadata": {},
   "outputs": [],
   "source": [
    "df = pd.read_pickle(os.path.join(dir_, 'train_' + file_name[:-3] + 'pkl'))"
   ]
  },
  {
   "cell_type": "code",
   "execution_count": 45,
   "metadata": {},
   "outputs": [],
   "source": [
    "df_test = pd.read_pickle(os.path.join(dir_, 'test_' + file_name[:-3] + 'pkl'))"
   ]
  },
  {
   "cell_type": "code",
   "execution_count": 46,
   "metadata": {},
   "outputs": [
    {
     "data": {
      "text/html": [
       "<div>\n",
       "<style scoped>\n",
       "    .dataframe tbody tr th:only-of-type {\n",
       "        vertical-align: middle;\n",
       "    }\n",
       "\n",
       "    .dataframe tbody tr th {\n",
       "        vertical-align: top;\n",
       "    }\n",
       "\n",
       "    .dataframe thead th {\n",
       "        text-align: right;\n",
       "    }\n",
       "</style>\n",
       "<table border=\"1\" class=\"dataframe\">\n",
       "  <thead>\n",
       "    <tr style=\"text-align: right;\">\n",
       "      <th></th>\n",
       "      <th>uid</th>\n",
       "      <th>tid</th>\n",
       "      <th>rating</th>\n",
       "    </tr>\n",
       "  </thead>\n",
       "  <tbody>\n",
       "    <tr>\n",
       "      <td>1205784</td>\n",
       "      <td>207</td>\n",
       "      <td>47511</td>\n",
       "      <td>0.003432</td>\n",
       "    </tr>\n",
       "    <tr>\n",
       "      <td>1204475</td>\n",
       "      <td>207</td>\n",
       "      <td>26326</td>\n",
       "      <td>0.003432</td>\n",
       "    </tr>\n",
       "    <tr>\n",
       "      <td>1204514</td>\n",
       "      <td>207</td>\n",
       "      <td>26668</td>\n",
       "      <td>0.003432</td>\n",
       "    </tr>\n",
       "    <tr>\n",
       "      <td>1204290</td>\n",
       "      <td>207</td>\n",
       "      <td>23795</td>\n",
       "      <td>0.003432</td>\n",
       "    </tr>\n",
       "    <tr>\n",
       "      <td>1202674</td>\n",
       "      <td>207</td>\n",
       "      <td>10255</td>\n",
       "      <td>0.003432</td>\n",
       "    </tr>\n",
       "    <tr>\n",
       "      <td>...</td>\n",
       "      <td>...</td>\n",
       "      <td>...</td>\n",
       "      <td>...</td>\n",
       "    </tr>\n",
       "    <tr>\n",
       "      <td>612173</td>\n",
       "      <td>117</td>\n",
       "      <td>29237</td>\n",
       "      <td>5.000000</td>\n",
       "    </tr>\n",
       "    <tr>\n",
       "      <td>612099</td>\n",
       "      <td>117</td>\n",
       "      <td>1607</td>\n",
       "      <td>5.000000</td>\n",
       "    </tr>\n",
       "    <tr>\n",
       "      <td>868526</td>\n",
       "      <td>161</td>\n",
       "      <td>166</td>\n",
       "      <td>5.000000</td>\n",
       "    </tr>\n",
       "    <tr>\n",
       "      <td>612103</td>\n",
       "      <td>117</td>\n",
       "      <td>3603</td>\n",
       "      <td>5.000000</td>\n",
       "    </tr>\n",
       "    <tr>\n",
       "      <td>612151</td>\n",
       "      <td>117</td>\n",
       "      <td>19406</td>\n",
       "      <td>5.000000</td>\n",
       "    </tr>\n",
       "  </tbody>\n",
       "</table>\n",
       "<p>140473 rows × 3 columns</p>\n",
       "</div>"
      ],
      "text/plain": [
       "         uid    tid    rating\n",
       "1205784  207  47511  0.003432\n",
       "1204475  207  26326  0.003432\n",
       "1204514  207  26668  0.003432\n",
       "1204290  207  23795  0.003432\n",
       "1202674  207  10255  0.003432\n",
       "...      ...    ...       ...\n",
       "612173   117  29237  5.000000\n",
       "612099   117   1607  5.000000\n",
       "868526   161    166  5.000000\n",
       "612103   117   3603  5.000000\n",
       "612151   117  19406  5.000000\n",
       "\n",
       "[140473 rows x 3 columns]"
      ]
     },
     "execution_count": 46,
     "metadata": {},
     "output_type": "execute_result"
    }
   ],
   "source": [
    "df_test = df_test.sort_values(by=['rating'])\n",
    "df_test"
   ]
  },
  {
   "cell_type": "code",
   "execution_count": 23,
   "metadata": {},
   "outputs": [
    {
     "data": {
      "text/plain": [
       "54968"
      ]
     },
     "execution_count": 23,
     "metadata": {},
     "output_type": "execute_result"
    }
   ],
   "source": [
    "len(average_list)"
   ]
  },
  {
   "cell_type": "code",
   "execution_count": 24,
   "metadata": {},
   "outputs": [
    {
     "data": {
      "application/vnd.jupyter.widget-view+json": {
       "model_id": "9ead032cfa494235b9322ee333b88f7e",
       "version_major": 2,
       "version_minor": 0
      },
      "text/plain": [
       "HBox(children=(IntProgress(value=0, max=54966), HTML(value='')))"
      ]
     },
     "metadata": {},
     "output_type": "display_data"
    },
    {
     "name": "stdout",
     "output_type": "stream",
     "text": [
      "\n"
     ]
    },
    {
     "data": {
      "text/plain": [
       "54969"
      ]
     },
     "execution_count": 24,
     "metadata": {},
     "output_type": "execute_result"
    }
   ],
   "source": [
    "average_list = []\n",
    "for _ in range(df['tid'].max()+1):\n",
    "    average_list.append(0.0)\n",
    "    \n",
    "crash = -1\n",
    "for i in tqdm_notebook(df['tid'].unique()):\n",
    "    u = df[df['tid'] == i]\n",
    "    avg = u['rating'].mean()\n",
    "    average_list[i] = avg\n",
    "len(average_list)"
   ]
  },
  {
   "cell_type": "code",
   "execution_count": 35,
   "metadata": {},
   "outputs": [
    {
     "data": {
      "text/plain": [
       "0.2851006283008319"
      ]
     },
     "execution_count": 35,
     "metadata": {},
     "output_type": "execute_result"
    }
   ],
   "source": [
    "mean_absolute_error = 0\n",
    "n = 0 \n",
    "m = 0\n",
    "for i in range(len(test)):\n",
    "    if not prediction[i] == -1.0:\n",
    "        mean_absolute_error += abs( prediction[i] - test[i][2] )\n",
    "        n += 1\n",
    "        m += 1\n",
    "    else:\n",
    "        mean_absolute_error += abs( average_list[int(test[i][1])] - test[i][2] )\n",
    "        n += 1\n",
    "    \n",
    "mean_absolute_error /= n\n",
    "mean_absolute_error"
   ]
  },
  {
   "cell_type": "code",
   "execution_count": 36,
   "metadata": {},
   "outputs": [
    {
     "name": "stdout",
     "output_type": "stream",
     "text": [
      "47565 140473\n"
     ]
    }
   ],
   "source": [
    "print(m,n)"
   ]
  },
  {
   "cell_type": "code",
   "execution_count": 41,
   "metadata": {},
   "outputs": [],
   "source": [
    "# good_prediction = []\n",
    "# for i in range(0, len(test)):\n",
    "#     pred = 0\n",
    "    \n",
    "#     if not prediction[i] == -1.0:\n",
    "#         pred = prediction[i]\n",
    "#     else:\n",
    "#         pred = average_list[int(test[i][1])]\n",
    "        \n",
    "#     if abs( pred - test[i][2] ) < 0.5:\n",
    "#         good_prediction.append(int(test[i][2]//1))"
   ]
  },
  {
   "cell_type": "code",
   "execution_count": 53,
   "metadata": {},
   "outputs": [
    {
     "name": "stdout",
     "output_type": "stream",
     "text": [
      "0.5\n",
      "112378 28094\n"
     ]
    }
   ],
   "source": [
    "alpha = 0.80\n",
    "threshold = float(df_test.iloc[int(len(df_test)*alpha//1)]['rating'])\n",
    "print(threshold)\n",
    "good_prediction = []\n",
    "for i in range(0, len(test)):\n",
    "    pred = 0\n",
    "    \n",
    "    if not prediction[i] == -1.0:\n",
    "        pred = prediction[i]\n",
    "    else:\n",
    "        pred = average_list[int(test[i][0])]\n",
    "        \n",
    "    if int(test[i][2]) > threshold and pred > threshold:\n",
    "        good_prediction.append(1)\n",
    "    elif int(test[i][2]) < threshold and pred < threshold:\n",
    "        good_prediction.append(0)\n",
    "print (int(len(df_test)*alpha//1),int(len(df_test)*(1-alpha)//1))"
   ]
  },
  {
   "cell_type": "code",
   "execution_count": 54,
   "metadata": {},
   "outputs": [
    {
     "data": {
      "image/png": "[encoded data removed]",
      "text/plain": [
       "<Figure size 1728x1152 with 1 Axes>"
      ]
     },
     "metadata": {
      "needs_background": "light"
     },
     "output_type": "display_data"
    }
   ],
   "source": [
    "%matplotlib inline\n",
    "\n",
    "%matplotlib inline\n",
    "\n",
    "import seaborn as sns\n",
    "import numpy as np\n",
    "import matplotlib.pyplot as plt\n",
    "\n",
    "df = pd.DataFrame({'Rating':good_prediction})\n",
    "\n",
    "params = {'axes.labelsize': 'x-large',\n",
    "         'axes.titlesize':'x-large',\n",
    "         'xtick.labelsize':24,\n",
    "         'ytick.labelsize':24}\n",
    "\n",
    "plt.rcParams.update(params)\n",
    "\n",
    "\n",
    "plt.figure(figsize=(24,16))\n",
    "ax = sns.countplot(x = \"Rating\", data = df)\n",
    "plt.title('Distribution of ratings', fontsize=48)\n",
    "plt.xlabel('Rating', fontsize=24)\n",
    "plt.ylabel('Counts', fontsize=24)\n",
    "for p in ax.patches:\n",
    "    x=p.get_bbox().get_points()[:,0]\n",
    "    y=p.get_bbox().get_points()[1,1]\n",
    "    ax.annotate('{:}'.format(int(y)), (x.mean(), y), fontsize=32,\n",
    "            ha='center', va='bottom') # set the alignment of the text"
   ]
  },
  {
   "cell_type": "code",
   "execution_count": null,
   "metadata": {},
   "outputs": [],
   "source": [
    "%matplotlib inline\n",
    "\n",
    "%matplotlib inline\n",
    "\n",
    "import seaborn as sns\n",
    "import numpy as np\n",
    "import matplotlib.pyplot as plt\n",
    "\n",
    "df = pd.DataFrame({'Rating':l})\n",
    "\n",
    "params = {'axes.labelsize': 'x-large',\n",
    "         'axes.titlesize':'x-large',\n",
    "         'xtick.labelsize':24,\n",
    "         'ytick.labelsize':24}\n",
    "\n",
    "plt.rcParams.update(params)\n",
    "\n",
    "\n",
    "plt.figure(figsize=(24,16))\n",
    "ax = sns.countplot(x = \"Rating\", data = df)\n",
    "plt.title('Distribution of ratings', fontsize=48)\n",
    "plt.xlabel('Rating', fontsize=24)\n",
    "plt.ylabel('Counts', fontsize=24)\n",
    "for p in ax.patches:\n",
    "    x=p.get_bbox().get_points()[:,0]\n",
    "    y=p.get_bbox().get_points()[1,1]\n",
    "    ax.annotate('{:}'.format(int(y)), (x.mean(), y), fontsize=32,\n",
    "            ha='center', va='bottom') # set the alignment of the text\n",
    "\n"
   ]
  },
  {
   "cell_type": "code",
   "execution_count": null,
   "metadata": {},
   "outputs": [],
   "source": []
  }
 ],
 "metadata": {
  "kernelspec": {
   "display_name": "Python 3",
   "language": "python",
   "name": "python3"
  },
  "language_info": {
   "codemirror_mode": {
    "name": "ipython",
    "version": 3
   },
   "file_extension": ".py",
   "mimetype": "text/x-python",
   "name": "python",
   "nbconvert_exporter": "python",
   "pygments_lexer": "ipython3",
   "version": "3.7.4"
  }
 },
 "nbformat": 4,
 "nbformat_minor": 2
}
