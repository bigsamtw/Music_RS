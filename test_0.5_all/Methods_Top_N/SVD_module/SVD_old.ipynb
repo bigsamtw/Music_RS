{
 "cells": [
  {
   "cell_type": "code",
   "execution_count": 16,
   "metadata": {},
   "outputs": [],
   "source": [
    "import os\n",
    "import tqdm\n",
    "from tqdm.notebook import tqdm\n",
    "import numpy as np\n",
    "import pandas as pd\n",
    "import tensorflow as tf\n",
    "from tfcf.metrics import mae\n",
    "from tfcf.metrics import rmse\n",
    "from tfcf.datasets import ml1m\n",
    "from tfcf.config import Config\n",
    "from tfcf.models.svd import SVD\n",
    "# from tfcf.models.svd import SVDPP\n",
    "# from sklearn.model_selection import train_test_split\n",
    "\n",
    "dir_ = '../../data/'\n",
    "file_name = 'normalized_to_rating_filter_track_5_user_100.csv'"
   ]
  },
  {
   "cell_type": "code",
   "execution_count": 6,
   "metadata": {},
   "outputs": [],
   "source": [
    "# Note that x is a 2D numpy array, \n",
    "# x[i, :] contains the user-item pair, and y[i] is the corresponding rating.\n",
    "\n",
    "df = pd.read_pickle(os.path.join(dir_, file_name[:-3] + 'pkl'))\n",
    "\n",
    "x_train = np.loadtxt(os.path.join(dir_, 'train_x_' + file_name), delimiter=',')\n",
    "y_train = np.loadtxt(os.path.join(dir_, 'train_y_' + file_name), delimiter=',')"
   ]
  },
  {
   "cell_type": "code",
   "execution_count": 8,
   "metadata": {},
   "outputs": [],
   "source": [
    "x_test = np.loadtxt(os.path.join(dir_, 'x_test_' + file_name), delimiter=',')"
   ]
  },
  {
   "cell_type": "code",
   "execution_count": 9,
   "metadata": {},
   "outputs": [
    {
     "data": {
      "text/plain": [
       "array([[  746., 36126.],\n",
       "       [  174., 92702.],\n",
       "       [  369., 63154.],\n",
       "       ...,\n",
       "       [  898., 17446.],\n",
       "       [  610., 15769.],\n",
       "       [  585., 27452.]])"
      ]
     },
     "execution_count": 9,
     "metadata": {},
     "output_type": "execute_result"
    }
   ],
   "source": [
    "x_train"
   ]
  },
  {
   "cell_type": "code",
   "execution_count": 10,
   "metadata": {},
   "outputs": [
    {
     "data": {
      "text/plain": [
       "array([[4.31000e+02, 5.17470e+04],\n",
       "       [5.18000e+02, 1.11400e+05],\n",
       "       [8.71000e+02, 2.50150e+04],\n",
       "       ...,\n",
       "       [7.64000e+02, 3.39560e+04],\n",
       "       [8.10000e+01, 1.47770e+04],\n",
       "       [1.52000e+02, 1.26473e+05]])"
      ]
     },
     "execution_count": 10,
     "metadata": {},
     "output_type": "execute_result"
    }
   ],
   "source": [
    "x_test"
   ]
  },
  {
   "cell_type": "code",
   "execution_count": 11,
   "metadata": {},
   "outputs": [],
   "source": [
    "config = Config()\n",
    "config.num_users = len(df['uid'].unique())\n",
    "config.num_items = len(df['tid'].unique())\n",
    "config.min_value = df['rating'].min()\n",
    "config.max_value = df['rating'].max()"
   ]
  },
  {
   "cell_type": "code",
   "execution_count": null,
   "metadata": {},
   "outputs": [
    {
     "name": "stdout",
     "output_type": "stream",
     "text": [
      "953 157565\n"
     ]
    },
    {
     "data": {
      "application/vnd.jupyter.widget-view+json": {
       "model_id": "6d161fd5f96e44e9a6dc858321723e3f",
       "version_major": 2,
       "version_minor": 0
      },
      "text/plain": [
       "HBox(children=(FloatProgress(value=0.0, max=953.0), HTML(value='')))"
      ]
     },
     "metadata": {},
     "output_type": "display_data"
    }
   ],
   "source": [
    "# For top N\n",
    "pd_train = pd.read_pickle(os.path.join(dir_, 'train_' + file_name[:-3] + 'pkl'))\n",
    "pd_all = pd.read_pickle(os.path.join(dir_, file_name[:-3] + 'pkl'))\n",
    "\n",
    "x_test = []\n",
    "num_users = len(pd_all['uid'].unique())\n",
    "num_tracks = len(pd_all['tid'].unique())\n",
    "print(num_users,num_tracks)\n",
    "\n",
    "for i in tqdm(range(num_users)):\n",
    "    \n",
    "    user = pd_train[pd_train['uid']==i]\n",
    "    \n",
    "    for j in range(num_tracks):\n",
    "        r = user[user['tid']==j]['rating']\n",
    "        if len(r) == 0:\n",
    "            x_test.append([i, j])"
   ]
  },
  {
   "cell_type": "code",
   "execution_count": 6,
   "metadata": {},
   "outputs": [
    {
     "data": {
      "text/plain": [
       "array([[0.000e+00, 0.000e+00],\n",
       "       [0.000e+00, 1.000e+00],\n",
       "       [0.000e+00, 3.000e+00],\n",
       "       ...,\n",
       "       [2.100e+02, 8.937e+03],\n",
       "       [2.100e+02, 8.939e+03],\n",
       "       [2.100e+02, 8.940e+03]])"
      ]
     },
     "execution_count": 6,
     "metadata": {},
     "output_type": "execute_result"
    }
   ],
   "source": [
    "np.savetxt(os.path.join(dir_, 'x_test_' + file_name), x_test, delimiter=\",\")\n",
    "x_test"
   ]
  },
  {
   "cell_type": "code",
   "execution_count": 7,
   "metadata": {},
   "outputs": [
    {
     "name": "stdout",
     "output_type": "stream",
     "text": [
      "\n",
      "WARNING: The TensorFlow contrib module will not be included in TensorFlow 2.0.\n",
      "For more information, please see:\n",
      "  * https://github.com/tensorflow/community/blob/master/rfcs/20180907-contrib-sunset.md\n",
      "  * https://github.com/tensorflow/addons\n",
      "If you depend on functionality not listed there, please file an issue.\n",
      "\n",
      "WARNING:tensorflow:From C:\\Users\\han\\Anaconda3\\envs\\ts\\lib\\site-packages\\tensorflow\\python\\framework\\op_def_library.py:263: colocate_with (from tensorflow.python.framework.ops) is deprecated and will be removed in a future version.\n",
      "Instructions for updating:\n",
      "Colocations handled automatically by placer.\n",
      "WARNING:tensorflow:From C:\\Users\\han\\Anaconda3\\envs\\ts\\lib\\site-packages\\tensorflow\\python\\ops\\math_ops.py:3066: to_int32 (from tensorflow.python.ops.math_ops) is deprecated and will be removed in a future version.\n",
      "Instructions for updating:\n",
      "Use tf.cast instead.\n",
      "Epoch 1/5\n",
      "145/145 [==============================] - 1s 9ms/step - rmse: 1.6982 - mae: 1.5206\n",
      "Epoch 2/5\n",
      "145/145 [==============================] - 1s 7ms/step - rmse: 1.6808 - mae: 1.5056\n",
      "Epoch 3/5\n",
      "145/145 [==============================] - 1s 8ms/step - rmse: 1.6577 - mae: 1.4850\n",
      "Epoch 4/5\n",
      "145/145 [==============================] - 1s 9ms/step - rmse: 1.6219 - mae: 1.4518\n",
      "Epoch 5/5\n",
      "145/145 [==============================] - 1s 7ms/step - rmse: 1.5747 - mae: 1.4071\n"
     ]
    }
   ],
   "source": [
    "with tf.Session() as sess:\n",
    "    # For SVD++ algorithm, if `dual` is True, then the dual term of items' \n",
    "    # implicit feedback will be added into the original SVD++ algorithm.\n",
    "    # model = SVDPP(config, sess, dual=False)\n",
    "    # model = SVDPP(config, sess, dual=True)\n",
    "    model = SVD(config, sess)\n",
    "#     model.train(x_train, y_train, validation_data=(\n",
    "#         x_test, y_test), epochs=5, batch_size=1024)\n",
    "\n",
    "    model.train(x_train, y_train, epochs=5, batch_size=1024)\n",
    "        \n",
    "    y_pred = model.predict(x_test)\n",
    "#     print('rmse: {}, mae: {}'.format(rmse(y_test, y_pred), mae(y_test, y_pred)))"
   ]
  },
  {
   "cell_type": "code",
   "execution_count": 8,
   "metadata": {},
   "outputs": [
    {
     "name": "stdout",
     "output_type": "stream",
     "text": [
      "[2.274596  2.3388152 2.3375711 ... 2.3952677 2.0239165 2.207427 ]\n"
     ]
    }
   ],
   "source": [
    "print(y_pred)"
   ]
  },
  {
   "cell_type": "code",
   "execution_count": 9,
   "metadata": {},
   "outputs": [
    {
     "data": {
      "text/html": [
       "<div>\n",
       "<style scoped>\n",
       "    .dataframe tbody tr th:only-of-type {\n",
       "        vertical-align: middle;\n",
       "    }\n",
       "\n",
       "    .dataframe tbody tr th {\n",
       "        vertical-align: top;\n",
       "    }\n",
       "\n",
       "    .dataframe thead th {\n",
       "        text-align: right;\n",
       "    }\n",
       "</style>\n",
       "<table border=\"1\" class=\"dataframe\">\n",
       "  <thead>\n",
       "    <tr style=\"text-align: right;\">\n",
       "      <th></th>\n",
       "      <th>uid</th>\n",
       "      <th>tid</th>\n",
       "      <th>rating</th>\n",
       "    </tr>\n",
       "  </thead>\n",
       "  <tbody>\n",
       "    <tr>\n",
       "      <th>0</th>\n",
       "      <td>0.0</td>\n",
       "      <td>0.0</td>\n",
       "      <td>2.274596</td>\n",
       "    </tr>\n",
       "    <tr>\n",
       "      <th>1</th>\n",
       "      <td>0.0</td>\n",
       "      <td>1.0</td>\n",
       "      <td>2.338815</td>\n",
       "    </tr>\n",
       "    <tr>\n",
       "      <th>2</th>\n",
       "      <td>0.0</td>\n",
       "      <td>3.0</td>\n",
       "      <td>2.337571</td>\n",
       "    </tr>\n",
       "    <tr>\n",
       "      <th>3</th>\n",
       "      <td>0.0</td>\n",
       "      <td>4.0</td>\n",
       "      <td>2.160373</td>\n",
       "    </tr>\n",
       "    <tr>\n",
       "      <th>4</th>\n",
       "      <td>0.0</td>\n",
       "      <td>6.0</td>\n",
       "      <td>2.226491</td>\n",
       "    </tr>\n",
       "    <tr>\n",
       "      <th>...</th>\n",
       "      <td>...</td>\n",
       "      <td>...</td>\n",
       "      <td>...</td>\n",
       "    </tr>\n",
       "    <tr>\n",
       "      <th>1738858</th>\n",
       "      <td>210.0</td>\n",
       "      <td>8935.0</td>\n",
       "      <td>2.193288</td>\n",
       "    </tr>\n",
       "    <tr>\n",
       "      <th>1738859</th>\n",
       "      <td>210.0</td>\n",
       "      <td>8936.0</td>\n",
       "      <td>2.302076</td>\n",
       "    </tr>\n",
       "    <tr>\n",
       "      <th>1738860</th>\n",
       "      <td>210.0</td>\n",
       "      <td>8937.0</td>\n",
       "      <td>2.395268</td>\n",
       "    </tr>\n",
       "    <tr>\n",
       "      <th>1738861</th>\n",
       "      <td>210.0</td>\n",
       "      <td>8939.0</td>\n",
       "      <td>2.023916</td>\n",
       "    </tr>\n",
       "    <tr>\n",
       "      <th>1738862</th>\n",
       "      <td>210.0</td>\n",
       "      <td>8940.0</td>\n",
       "      <td>2.207427</td>\n",
       "    </tr>\n",
       "  </tbody>\n",
       "</table>\n",
       "<p>1738863 rows × 3 columns</p>\n",
       "</div>"
      ],
      "text/plain": [
       "           uid     tid    rating\n",
       "0          0.0     0.0  2.274596\n",
       "1          0.0     1.0  2.338815\n",
       "2          0.0     3.0  2.337571\n",
       "3          0.0     4.0  2.160373\n",
       "4          0.0     6.0  2.226491\n",
       "...        ...     ...       ...\n",
       "1738858  210.0  8935.0  2.193288\n",
       "1738859  210.0  8936.0  2.302076\n",
       "1738860  210.0  8937.0  2.395268\n",
       "1738861  210.0  8939.0  2.023916\n",
       "1738862  210.0  8940.0  2.207427\n",
       "\n",
       "[1738863 rows x 3 columns]"
      ]
     },
     "execution_count": 9,
     "metadata": {},
     "output_type": "execute_result"
    }
   ],
   "source": [
    "df = pd.DataFrame(y_pred, columns=['rating'])\n",
    "df2 = pd.DataFrame(x_test, columns=['uid', 'tid'])\n",
    "df2.insert(2, 'rating', y_pred, False) \n",
    "df2"
   ]
  },
  {
   "cell_type": "code",
   "execution_count": 10,
   "metadata": {},
   "outputs": [],
   "source": [
    "df2.to_pickle(os.path.join(dir_, 'prediction_svd_top_N_' + file_name[:-3] + 'pkl'))"
   ]
  },
  {
   "cell_type": "code",
   "execution_count": null,
   "metadata": {},
   "outputs": [],
   "source": []
  }
 ],
 "metadata": {
  "kernelspec": {
   "display_name": "Python 3",
   "language": "python",
   "name": "python3"
  },
  "language_info": {
   "codemirror_mode": {
    "name": "ipython",
    "version": 3
   },
   "file_extension": ".py",
   "mimetype": "text/x-python",
   "name": "python",
   "nbconvert_exporter": "python",
   "pygments_lexer": "ipython3",
   "version": "3.7.7"
  }
 },
 "nbformat": 4,
 "nbformat_minor": 2
}
