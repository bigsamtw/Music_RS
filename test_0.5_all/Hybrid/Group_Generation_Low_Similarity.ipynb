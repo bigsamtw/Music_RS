{
 "cells": [
  {
   "cell_type": "code",
   "execution_count": 3,
   "metadata": {},
   "outputs": [],
   "source": [
    "import os \n",
    "import tqdm\n",
    "import math\n",
    "import random\n",
    "import numpy as np\n",
    "import pandas as pd\n",
    "from tqdm.notebook import tqdm\n",
    "from numpy import count_nonzero\n",
    "\n",
    "dir_ = '../data/'"
   ]
  },
  {
   "cell_type": "code",
   "execution_count": 4,
   "metadata": {},
   "outputs": [],
   "source": [
    "train = np.loadtxt(os.path.join(dir_, 'rating_matrix.csv'), delimiter=',')\n",
    "pd_train = pd.read_pickle(os.path.join(dir_, 'train_normalized_to_rating_filter_track_20_user_100.pkl'))"
   ]
  },
  {
   "cell_type": "code",
   "execution_count": 5,
   "metadata": {},
   "outputs": [
    {
     "name": "stdout",
     "output_type": "stream",
     "text": [
      "945 39088\n"
     ]
    }
   ],
   "source": [
    "num_user = len(train)\n",
    "num_track = len(train[0])\n",
    "print(num_user, num_track)"
   ]
  },
  {
   "cell_type": "code",
   "execution_count": 6,
   "metadata": {},
   "outputs": [],
   "source": [
    "def pearson_correlation(u1_index, u2_index):\n",
    "        result = 0.0\n",
    "        user1_data = train[u1_index]\n",
    "        user2_data = train[u2_index]\n",
    "\n",
    "        rx_avg = user_average_rating(user1_data)\n",
    "        ry_avg = user_average_rating(user2_data)\n",
    "        sxy = common_items(user1_data, user2_data)\n",
    "\n",
    "        top_result = 0.0\n",
    "        bottom_left_result = 0.0\n",
    "        bottom_right_result = 0.0\n",
    "        for item in sxy:\n",
    "            rxs = user1_data[item]\n",
    "            rys = user2_data[item]\n",
    "\n",
    "            top_result += (rxs - rx_avg)*(rys - ry_avg)\n",
    "            bottom_left_result += pow((rxs - rx_avg), 2)\n",
    "            bottom_right_result += pow((rys - ry_avg), 2)\n",
    "        bottom_left_result = math.sqrt(bottom_left_result)\n",
    "        bottom_right_result = math.sqrt(bottom_right_result)\n",
    "        \n",
    "        ################################################################\n",
    "        if (bottom_left_result * bottom_right_result) == 0:\n",
    "            return -2, -2 # dump the data\n",
    "        ################################################################\n",
    "        \n",
    "        result = top_result/(bottom_left_result * bottom_right_result)\n",
    "        return len(sxy), result\n",
    "\n",
    "def user_average_rating(u):\n",
    "    avg_rating = 0.0\n",
    "    for i in u:\n",
    "        avg_rating += i\n",
    "    avg_rating /= len(u) * 1.0\n",
    "    return avg_rating\n",
    "\n",
    "def common_items(u1, u2):\n",
    "    result = []\n",
    "    for i in range(num_track):\n",
    "        if u1[i] > 0 and u2[i] > 0:\n",
    "            result.append(i)\n",
    "    return result"
   ]
  },
  {
   "cell_type": "code",
   "execution_count": 8,
   "metadata": {
    "scrolled": true
   },
   "outputs": [
    {
     "data": {
      "application/vnd.jupyter.widget-view+json": {
       "model_id": "1df600894bf444cbaf0a13faf8de3a26",
       "version_major": 2,
       "version_minor": 0
      },
      "text/plain": [
       "HBox(children=(FloatProgress(value=0.0, max=945.0), HTML(value='')))"
      ]
     },
     "metadata": {},
     "output_type": "display_data"
    },
    {
     "name": "stdout",
     "output_type": "stream",
     "text": [
      "\n"
     ]
    }
   ],
   "source": [
    "sim_table = pd.DataFrame(columns=['u1', 'u2', 'common', 'pearson']) \n",
    "for i in tqdm(range(num_user)):\n",
    "    for j in range(i+1, num_user):\n",
    "        c, p = pearson_correlation(i,j)\n",
    "        if p != -2:\n",
    "            sim_table = sim_table.append({'u1': i, 'u2': j, 'common': c, 'pearson': p}, ignore_index=True)\n",
    "            sim_table = sim_table.append({'u1': j, 'u2': i, 'common': c, 'pearson': p}, ignore_index=True)"
   ]
  },
  {
   "cell_type": "code",
   "execution_count": 24,
   "metadata": {},
   "outputs": [
    {
     "name": "stdout",
     "output_type": "stream",
     "text": [
      "0.6993128968331564 0.4970825243256837\n"
     ]
    }
   ],
   "source": [
    "sim_table_ = sim_table[sim_table['common']>10]\n",
    "sim_table_ = sim_table_.sort_values(by=['pearson'],  ascending=False)\n",
    "high_similarity = sim_table_[:int(len(sim_table_)*2/10)]\n",
    "low_similarity =sim_table_[int(len(sim_table_)*8/10):]\n",
    "high_similarity_v = sim_table_.iloc[int(len(sim_table_)*2/10)]['pearson']\n",
    "low_similarity_v = sim_table_.iloc[int(len(sim_table_)*8/10)]['pearson']\n",
    "print(high_similarity_v, low_similarity_v)"
   ]
  },
  {
   "cell_type": "code",
   "execution_count": 29,
   "metadata": {},
   "outputs": [
    {
     "name": "stdout",
     "output_type": "stream",
     "text": [
      "877044 666970\n"
     ]
    }
   ],
   "source": [
    "print(len(sim_table), len(sim_table_))"
   ]
  },
  {
   "cell_type": "code",
   "execution_count": 25,
   "metadata": {
    "scrolled": true
   },
   "outputs": [
    {
     "data": {
      "application/vnd.jupyter.widget-view+json": {
       "model_id": "d8b33c1179f84c93be4e33b5239972ec",
       "version_major": 2,
       "version_minor": 0
      },
      "text/plain": [
       "HBox(children=(FloatProgress(value=0.0, max=942.0), HTML(value='')))"
      ]
     },
     "metadata": {},
     "output_type": "display_data"
    },
    {
     "data": {
      "text/plain": [
       "[[913, 363, 925, 796, 58],\n",
       " [461, 393, 844, 546, 933],\n",
       " [255, 938, 909, 366, 111],\n",
       " [277, 211, 643, 538, 724],\n",
       " [806, 533, 898, 826, 318],\n",
       " [766, 899, 307, 607, 204],\n",
       " [832, 127, 845, 841, 572],\n",
       " [755, 903, 655, 694, 42],\n",
       " [940, 801, 616, 848, 732],\n",
       " [864, 907, 194, 35, 603],\n",
       " [689, 833, 696, 623, 509],\n",
       " [671, 12, 734, 483, 353],\n",
       " [590, 3, 676, 19, 161],\n",
       " [737, 856, 855, 713, 619],\n",
       " [274, 173, 818, 811, 695],\n",
       " [209, 480, 417, 352, 253],\n",
       " [702, 495, 313, 343, 701],\n",
       " [26, 642, 14, 98, 243],\n",
       " [54, 242, 934, 677, 778],\n",
       " [877, 465, 900, 871, 545],\n",
       " [511, 342, 554, 237, 486],\n",
       " [291, 336, 715, 473, 678],\n",
       " [218, 628, 759, 52, 152],\n",
       " [0, 741, 757, 31, 860],\n",
       " [727, 842, 171, 517, 477],\n",
       " [102, 669, 725, 203, 376],\n",
       " [198, 795, 224, 268, 432],\n",
       " [490, 147, 779, 914, 191],\n",
       " [567, 201, 322, 217, 452],\n",
       " [210, 620, 448, 890, 722],\n",
       " [675, 258, 162, 704, 880],\n",
       " [522, 226, 613, 565, 599],\n",
       " [854, 325, 651, 178, 40],\n",
       " [719, 458, 340, 816, 357],\n",
       " [4, 501, 438, 314, 282],\n",
       " [82, 367, 419, 549, 712],\n",
       " [378, 661, 846, 379, 371],\n",
       " [413, 220, 74, 45, 140],\n",
       " [634, 37, 862, 265, 552],\n",
       " [188, 919, 596, 718, 893],\n",
       " [926, 55, 437, 884, 213],\n",
       " [133, 591, 873, 723, 709],\n",
       " [577, 891, 467, 23, 892],\n",
       " [840, 595, 782, 457, 47],\n",
       " [679, 235, 420, 451, 110],\n",
       " [395, 260, 585, 328, 659],\n",
       " [674, 558, 223, 119, 71],\n",
       " [67, 100, 76, 610, 809],\n",
       " [506, 705, 89, 93, 531],\n",
       " [22, 358, 460, 390, 829],\n",
       " [400, 88, 387, 77, 825],\n",
       " [879, 453, 63, 588, 489],\n",
       " [280, 267, 794, 206, 503],\n",
       " [310, 97, 464, 385, 441],\n",
       " [230, 383, 425, 156, 391],\n",
       " [101, 410, 876, 654, 784],\n",
       " [249, 507, 928, 479, 207],\n",
       " [787, 824, 284, 114, 692],\n",
       " [351, 106, 608, 929, 455],\n",
       " [50, 407, 836, 869, 402],\n",
       " [872, 163, 571, 593, 805],\n",
       " [550, 887, 403, 338, 735],\n",
       " [711, 159, 681, 686, 559],\n",
       " [17, 714, 449, 57, 16],\n",
       " [562, 259, 875, 381, 717],\n",
       " [498, 271, 303, 815, 276],\n",
       " [180, 176, 927, 306, 200],\n",
       " [566, 519, 830, 131, 348],\n",
       " [865, 24, 36, 305, 649],\n",
       " [134, 34, 59, 350, 765],\n",
       " [598, 183, 33, 783, 294],\n",
       " [828, 894, 493, 819, 710],\n",
       " [636, 324, 777, 885, 236],\n",
       " [254, 583, 228, 468, 320],\n",
       " [505, 463, 427, 103, 482],\n",
       " [911, 349, 472, 79, 568],\n",
       " [392, 142, 750, 415, 382],\n",
       " [563, 574, 60, 878, 158]]"
      ]
     },
     "execution_count": 25,
     "metadata": {},
     "output_type": "execute_result"
    }
   ],
   "source": [
    "pairs = pd.DataFrame(columns=['uid', 'pair']) \n",
    "for i in range(num_user):\n",
    "    pair = len(low_similarity[low_similarity['u1'] == i])\n",
    "    pairs = pairs.append({'uid': i, 'pair': pair}, ignore_index=True)\n",
    "pairs = pairs.sort_values(by=['pair'],  ascending=True)\n",
    "\n",
    "groups = []\n",
    "group_size = 5\n",
    "pairs = pairs[pairs['pair'] >= (group_size-1)]\n",
    "p_status = len(pairs)\n",
    "pbar = tqdm(total=len(pairs)) \n",
    "while len(pairs) >= group_size:\n",
    "    group = []\n",
    "    pbar.update(p_status - len(pairs))\n",
    "    p_status -= (p_status - len(pairs))\n",
    "    uid = pairs.iloc[0]['uid']\n",
    "    pair = pairs.iloc[0]['pair']\n",
    "    group.append(uid)\n",
    "    if pair == (group_size-1):\n",
    "        uid = low_similarity[low_similarity['u1'] == uid]\n",
    "        for _, row in uid.iterrows():\n",
    "            group.append(int(row['u2']))\n",
    "        check_sim = True\n",
    "        for i in range(1, group_size):\n",
    "            for j in range(i+1, group_size):\n",
    "                check = low_similarity[low_similarity['u1'] == group[i]]\n",
    "                check = check[check['u2'] == group[j]]\n",
    "                if len(check) == 0:\n",
    "                    check_sim = False\n",
    "        if check_sim:\n",
    "#             print(group)\n",
    "            groups.append(group)\n",
    "            for u in group:\n",
    "                low_similarity = low_similarity[low_similarity['u1'] != u]\n",
    "                low_similarity = low_similarity[low_similarity['u2'] != u]\n",
    "        else:\n",
    "            low_similarity = low_similarity[low_similarity['u1'] != group[0]]\n",
    "            low_similarity = low_similarity[low_similarity['u2'] != group[0]]\n",
    "        pairs = pd.DataFrame(columns=['uid', 'pair']) \n",
    "        for i in range(num_user):\n",
    "            pair = len(low_similarity[low_similarity['u1'] == i])\n",
    "            pairs = pairs.append({'uid': i, 'pair': pair}, ignore_index=True)\n",
    "        pairs = pairs.sort_values(by=['pair'],  ascending=True)\n",
    "        pairs = pairs[pairs['pair'] >= (group_size-1)]\n",
    "    else:\n",
    "        uid = low_similarity[low_similarity['u1'] == uid]\n",
    "        avaliable_uid = []\n",
    "        for _, row in pairs.iterrows():\n",
    "            if len(uid[uid['u2'] == row['uid']]) > 0:\n",
    "                avaliable_uid.append(int(row['uid']))\n",
    "                \n",
    "        pointer = []\n",
    "        for i in range(group_size-1):\n",
    "            pointer.append(i)\n",
    "\n",
    "        while pointer[0] < (len(avaliable_uid) - (group_size - 1) + 2) and len(avaliable_uid) >= (group_size-1):\n",
    "            group_ = group.copy()\n",
    "            for i in range(group_size-1):\n",
    "                group_.append(avaliable_uid[pointer[i]])\n",
    "            check_sim = True\n",
    "            for i in range(1, group_size):\n",
    "                for j in range(i+1, group_size):\n",
    "                    check = low_similarity[low_similarity['u1'] == group_[i]]\n",
    "                    check = check[check['u2'] == group_[j]]\n",
    "                    if len(check) == 0:\n",
    "                        check_sim = False\n",
    "            if check_sim:\n",
    "#                 print('_', group_)\n",
    "                groups.append(group_)\n",
    "                for u in group_:\n",
    "                    low_similarity = low_similarity[low_similarity['u1'] != u]\n",
    "                    low_similarity = low_similarity[low_similarity['u2'] != u]\n",
    "                break\n",
    "            else:\n",
    "                p = 0\n",
    "                added = False\n",
    "                while not added:\n",
    "                    if (group_size-2) - p < 0:\n",
    "                        pointer[0] = (len(avaliable_uid) - (group_size - 1) + 2)\n",
    "                        break\n",
    "                    if pointer[(group_size-2) - p] < (len(avaliable_uid) - 1 - p):\n",
    "                        pointer[(group_size-2) - p] += 1\n",
    "                        while p > 0:\n",
    "                            p -= 1\n",
    "                            if (group_size-2) - p != 0:\n",
    "                                pointer[(group_size-2) - p] = pointer[(group_size-2) - p - 1] + 1\n",
    "                        added = True\n",
    "                    else:\n",
    "                        p += 1\n",
    "        if pointer[0] == (len(avaliable_uid) - (group_size - 1) + 2) or len(avaliable_uid) < (group_size-1):\n",
    "            low_similarity = low_similarity[low_similarity['u1'] != group[0]]\n",
    "            low_similarity = low_similarity[low_similarity['u2'] != group[0]]\n",
    "        pairs = pd.DataFrame(columns=['uid', 'pair']) \n",
    "        for i in range(num_user):\n",
    "            pair = len(low_similarity[low_similarity['u1']==i])\n",
    "            pairs = pairs.append({'uid': i, 'pair': pair}, ignore_index=True)\n",
    "        pairs = pairs.sort_values(by=['pair'],  ascending=True)\n",
    "        pairs = pairs[pairs['pair'] >= (group_size-1)]\n",
    "groups"
   ]
  },
  {
   "cell_type": "code",
   "execution_count": 26,
   "metadata": {},
   "outputs": [],
   "source": [
    "for group in groups:\n",
    "    if len(group) != group_size:\n",
    "        print('Group size error')\n",
    "    for i in range(group_size):\n",
    "        for j in range(i+1, group_size):\n",
    "            u1 = group[i]\n",
    "            u2 = group[j]\n",
    "            c, p = pearson_correlation(u1, u2)\n",
    "            if p > low_similarity_v:\n",
    "                print('Similarity error', u1, u2, p)\n",
    "user_status = np.zeros(num_user)\n",
    "for group in groups:\n",
    "    for u in group:\n",
    "        user_status[u] += 1\n",
    "for i in user_status:\n",
    "    if i > 1:\n",
    "        print('Depulicate error')"
   ]
  },
  {
   "cell_type": "code",
   "execution_count": 27,
   "metadata": {},
   "outputs": [
    {
     "data": {
      "text/plain": [
       "78"
      ]
     },
     "execution_count": 27,
     "metadata": {},
     "output_type": "execute_result"
    }
   ],
   "source": [
    "len(groups)"
   ]
  },
  {
   "cell_type": "code",
   "execution_count": 28,
   "metadata": {},
   "outputs": [],
   "source": [
    "dir_ = '../data/groups/low/'\n",
    "np.savetxt(os.path.join(dir_, 'group_' + str(group_size)  + '.csv'), groups, delimiter=\",\")"
   ]
  },
  {
   "cell_type": "code",
   "execution_count": null,
   "metadata": {},
   "outputs": [],
   "source": []
  }
 ],
 "metadata": {
  "kernelspec": {
   "display_name": "Python 3",
   "language": "python",
   "name": "python3"
  },
  "language_info": {
   "codemirror_mode": {
    "name": "ipython",
    "version": 3
   },
   "file_extension": ".py",
   "mimetype": "text/x-python",
   "name": "python",
   "nbconvert_exporter": "python",
   "pygments_lexer": "ipython3",
   "version": "3.7.7"
  }
 },
 "nbformat": 4,
 "nbformat_minor": 4
}
