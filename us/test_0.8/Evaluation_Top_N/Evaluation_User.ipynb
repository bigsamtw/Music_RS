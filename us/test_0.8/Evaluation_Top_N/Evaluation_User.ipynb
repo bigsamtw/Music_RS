{
 "cells": [
  {
   "cell_type": "code",
   "execution_count": 2,
   "metadata": {},
   "outputs": [],
   "source": [
    "import os \n",
    "import tqdm\n",
    "import math\n",
    "import random\n",
    "import numpy as np\n",
    "import pandas as pd\n",
    "from tqdm import tqdm_notebook\n",
    "from numpy import count_nonzero\n",
    "\n",
    "dir_ = '../data/'\n",
    "file_name = 'normalized_to_rating_filter_track_5_user_100.csv'"
   ]
  },
  {
   "cell_type": "code",
   "execution_count": 3,
   "metadata": {},
   "outputs": [],
   "source": [
    "predictions = pd.read_pickle(os.path.join(dir_, 'prediction_cf_user_top_N_' + file_name[:-3] + 'pkl'))"
   ]
  },
  {
   "cell_type": "code",
   "execution_count": 4,
   "metadata": {},
   "outputs": [
    {
     "data": {
      "text/html": [
       "<div>\n",
       "<style scoped>\n",
       "    .dataframe tbody tr th:only-of-type {\n",
       "        vertical-align: middle;\n",
       "    }\n",
       "\n",
       "    .dataframe tbody tr th {\n",
       "        vertical-align: top;\n",
       "    }\n",
       "\n",
       "    .dataframe thead th {\n",
       "        text-align: right;\n",
       "    }\n",
       "</style>\n",
       "<table border=\"1\" class=\"dataframe\">\n",
       "  <thead>\n",
       "    <tr style=\"text-align: right;\">\n",
       "      <th></th>\n",
       "      <th>uid</th>\n",
       "      <th>tid</th>\n",
       "      <th>rating</th>\n",
       "    </tr>\n",
       "  </thead>\n",
       "  <tbody>\n",
       "    <tr>\n",
       "      <td>0</td>\n",
       "      <td>0.0</td>\n",
       "      <td>0.0</td>\n",
       "      <td>2.845955</td>\n",
       "    </tr>\n",
       "    <tr>\n",
       "      <td>1</td>\n",
       "      <td>0.0</td>\n",
       "      <td>6.0</td>\n",
       "      <td>2.250000</td>\n",
       "    </tr>\n",
       "    <tr>\n",
       "      <td>2</td>\n",
       "      <td>0.0</td>\n",
       "      <td>8.0</td>\n",
       "      <td>1.496885</td>\n",
       "    </tr>\n",
       "    <tr>\n",
       "      <td>3</td>\n",
       "      <td>0.0</td>\n",
       "      <td>9.0</td>\n",
       "      <td>3.010290</td>\n",
       "    </tr>\n",
       "    <tr>\n",
       "      <td>4</td>\n",
       "      <td>0.0</td>\n",
       "      <td>14.0</td>\n",
       "      <td>1.522248</td>\n",
       "    </tr>\n",
       "    <tr>\n",
       "      <td>...</td>\n",
       "      <td>...</td>\n",
       "      <td>...</td>\n",
       "      <td>...</td>\n",
       "    </tr>\n",
       "    <tr>\n",
       "      <td>3263641</td>\n",
       "      <td>219.0</td>\n",
       "      <td>54913.0</td>\n",
       "      <td>0.250000</td>\n",
       "    </tr>\n",
       "    <tr>\n",
       "      <td>3263642</td>\n",
       "      <td>219.0</td>\n",
       "      <td>54915.0</td>\n",
       "      <td>5.000000</td>\n",
       "    </tr>\n",
       "    <tr>\n",
       "      <td>3263643</td>\n",
       "      <td>219.0</td>\n",
       "      <td>54957.0</td>\n",
       "      <td>0.250000</td>\n",
       "    </tr>\n",
       "    <tr>\n",
       "      <td>3263644</td>\n",
       "      <td>219.0</td>\n",
       "      <td>54963.0</td>\n",
       "      <td>5.000000</td>\n",
       "    </tr>\n",
       "    <tr>\n",
       "      <td>3263645</td>\n",
       "      <td>219.0</td>\n",
       "      <td>54966.0</td>\n",
       "      <td>5.000000</td>\n",
       "    </tr>\n",
       "  </tbody>\n",
       "</table>\n",
       "<p>3263646 rows × 3 columns</p>\n",
       "</div>"
      ],
      "text/plain": [
       "           uid      tid    rating\n",
       "0          0.0      0.0  2.845955\n",
       "1          0.0      6.0  2.250000\n",
       "2          0.0      8.0  1.496885\n",
       "3          0.0      9.0  3.010290\n",
       "4          0.0     14.0  1.522248\n",
       "...        ...      ...       ...\n",
       "3263641  219.0  54913.0  0.250000\n",
       "3263642  219.0  54915.0  5.000000\n",
       "3263643  219.0  54957.0  0.250000\n",
       "3263644  219.0  54963.0  5.000000\n",
       "3263645  219.0  54966.0  5.000000\n",
       "\n",
       "[3263646 rows x 3 columns]"
      ]
     },
     "execution_count": 4,
     "metadata": {},
     "output_type": "execute_result"
    }
   ],
   "source": [
    "predictions"
   ]
  },
  {
   "cell_type": "code",
   "execution_count": 5,
   "metadata": {},
   "outputs": [
    {
     "data": {
      "text/html": [
       "<div>\n",
       "<style scoped>\n",
       "    .dataframe tbody tr th:only-of-type {\n",
       "        vertical-align: middle;\n",
       "    }\n",
       "\n",
       "    .dataframe tbody tr th {\n",
       "        vertical-align: top;\n",
       "    }\n",
       "\n",
       "    .dataframe thead th {\n",
       "        text-align: right;\n",
       "    }\n",
       "</style>\n",
       "<table border=\"1\" class=\"dataframe\">\n",
       "  <thead>\n",
       "    <tr style=\"text-align: right;\">\n",
       "      <th></th>\n",
       "      <th>uid</th>\n",
       "      <th>tid</th>\n",
       "      <th>rating</th>\n",
       "    </tr>\n",
       "  </thead>\n",
       "  <tbody>\n",
       "    <tr>\n",
       "      <td>4</td>\n",
       "      <td>0</td>\n",
       "      <td>0</td>\n",
       "      <td>4.75</td>\n",
       "    </tr>\n",
       "    <tr>\n",
       "      <td>10</td>\n",
       "      <td>0</td>\n",
       "      <td>6</td>\n",
       "      <td>1.50</td>\n",
       "    </tr>\n",
       "    <tr>\n",
       "      <td>13</td>\n",
       "      <td>0</td>\n",
       "      <td>8</td>\n",
       "      <td>1.50</td>\n",
       "    </tr>\n",
       "    <tr>\n",
       "      <td>14</td>\n",
       "      <td>0</td>\n",
       "      <td>9</td>\n",
       "      <td>0.25</td>\n",
       "    </tr>\n",
       "    <tr>\n",
       "      <td>20</td>\n",
       "      <td>0</td>\n",
       "      <td>12</td>\n",
       "      <td>0.25</td>\n",
       "    </tr>\n",
       "    <tr>\n",
       "      <td>...</td>\n",
       "      <td>...</td>\n",
       "      <td>...</td>\n",
       "      <td>...</td>\n",
       "    </tr>\n",
       "    <tr>\n",
       "      <td>1256895</td>\n",
       "      <td>219</td>\n",
       "      <td>54715</td>\n",
       "      <td>0.25</td>\n",
       "    </tr>\n",
       "    <tr>\n",
       "      <td>1256896</td>\n",
       "      <td>219</td>\n",
       "      <td>54718</td>\n",
       "      <td>0.25</td>\n",
       "    </tr>\n",
       "    <tr>\n",
       "      <td>1256949</td>\n",
       "      <td>219</td>\n",
       "      <td>54900</td>\n",
       "      <td>0.25</td>\n",
       "    </tr>\n",
       "    <tr>\n",
       "      <td>1256989</td>\n",
       "      <td>219</td>\n",
       "      <td>54958</td>\n",
       "      <td>0.25</td>\n",
       "    </tr>\n",
       "    <tr>\n",
       "      <td>1257021</td>\n",
       "      <td>219</td>\n",
       "      <td>54962</td>\n",
       "      <td>0.25</td>\n",
       "    </tr>\n",
       "  </tbody>\n",
       "</table>\n",
       "<p>351181 rows × 3 columns</p>\n",
       "</div>"
      ],
      "text/plain": [
       "         uid    tid  rating\n",
       "4          0      0    4.75\n",
       "10         0      6    1.50\n",
       "13         0      8    1.50\n",
       "14         0      9    0.25\n",
       "20         0     12    0.25\n",
       "...      ...    ...     ...\n",
       "1256895  219  54715    0.25\n",
       "1256896  219  54718    0.25\n",
       "1256949  219  54900    0.25\n",
       "1256989  219  54958    0.25\n",
       "1257021  219  54962    0.25\n",
       "\n",
       "[351181 rows x 3 columns]"
      ]
     },
     "execution_count": 5,
     "metadata": {},
     "output_type": "execute_result"
    }
   ],
   "source": [
    "test = pd.read_pickle(os.path.join(dir_, 'test_' + file_name[:-3] + 'pkl'))\n",
    "test.sort_values(by=['uid','tid'])"
   ]
  },
  {
   "cell_type": "code",
   "execution_count": 6,
   "metadata": {},
   "outputs": [
    {
     "data": {
      "text/html": [
       "<div>\n",
       "<style scoped>\n",
       "    .dataframe tbody tr th:only-of-type {\n",
       "        vertical-align: middle;\n",
       "    }\n",
       "\n",
       "    .dataframe tbody tr th {\n",
       "        vertical-align: top;\n",
       "    }\n",
       "\n",
       "    .dataframe thead th {\n",
       "        text-align: right;\n",
       "    }\n",
       "</style>\n",
       "<table border=\"1\" class=\"dataframe\">\n",
       "  <thead>\n",
       "    <tr style=\"text-align: right;\">\n",
       "      <th></th>\n",
       "      <th>uid</th>\n",
       "      <th>tid</th>\n",
       "      <th>rating</th>\n",
       "    </tr>\n",
       "  </thead>\n",
       "  <tbody>\n",
       "    <tr>\n",
       "      <td>481832</td>\n",
       "      <td>90</td>\n",
       "      <td>5374</td>\n",
       "      <td>0.25</td>\n",
       "    </tr>\n",
       "    <tr>\n",
       "      <td>1247457</td>\n",
       "      <td>214</td>\n",
       "      <td>35528</td>\n",
       "      <td>1.25</td>\n",
       "    </tr>\n",
       "    <tr>\n",
       "      <td>968433</td>\n",
       "      <td>172</td>\n",
       "      <td>29367</td>\n",
       "      <td>4.25</td>\n",
       "    </tr>\n",
       "    <tr>\n",
       "      <td>25524</td>\n",
       "      <td>4</td>\n",
       "      <td>11632</td>\n",
       "      <td>4.25</td>\n",
       "    </tr>\n",
       "    <tr>\n",
       "      <td>60178</td>\n",
       "      <td>8</td>\n",
       "      <td>19012</td>\n",
       "      <td>0.25</td>\n",
       "    </tr>\n",
       "    <tr>\n",
       "      <td>...</td>\n",
       "      <td>...</td>\n",
       "      <td>...</td>\n",
       "      <td>...</td>\n",
       "    </tr>\n",
       "    <tr>\n",
       "      <td>587045</td>\n",
       "      <td>115</td>\n",
       "      <td>27784</td>\n",
       "      <td>3.25</td>\n",
       "    </tr>\n",
       "    <tr>\n",
       "      <td>309534</td>\n",
       "      <td>65</td>\n",
       "      <td>12495</td>\n",
       "      <td>0.25</td>\n",
       "    </tr>\n",
       "    <tr>\n",
       "      <td>660480</td>\n",
       "      <td>130</td>\n",
       "      <td>20821</td>\n",
       "      <td>0.25</td>\n",
       "    </tr>\n",
       "    <tr>\n",
       "      <td>373255</td>\n",
       "      <td>73</td>\n",
       "      <td>27444</td>\n",
       "      <td>2.75</td>\n",
       "    </tr>\n",
       "    <tr>\n",
       "      <td>255645</td>\n",
       "      <td>50</td>\n",
       "      <td>46911</td>\n",
       "      <td>3.50</td>\n",
       "    </tr>\n",
       "  </tbody>\n",
       "</table>\n",
       "<p>351181 rows × 3 columns</p>\n",
       "</div>"
      ],
      "text/plain": [
       "         uid    tid  rating\n",
       "481832    90   5374    0.25\n",
       "1247457  214  35528    1.25\n",
       "968433   172  29367    4.25\n",
       "25524      4  11632    4.25\n",
       "60178      8  19012    0.25\n",
       "...      ...    ...     ...\n",
       "587045   115  27784    3.25\n",
       "309534    65  12495    0.25\n",
       "660480   130  20821    0.25\n",
       "373255    73  27444    2.75\n",
       "255645    50  46911    3.50\n",
       "\n",
       "[351181 rows x 3 columns]"
      ]
     },
     "execution_count": 6,
     "metadata": {},
     "output_type": "execute_result"
    }
   ],
   "source": [
    "test"
   ]
  },
  {
   "cell_type": "code",
   "execution_count": 7,
   "metadata": {},
   "outputs": [
    {
     "data": {
      "text/plain": [
       "220"
      ]
     },
     "execution_count": 7,
     "metadata": {},
     "output_type": "execute_result"
    }
   ],
   "source": [
    "num_user = len(predictions['uid'].unique())\n",
    "num_user"
   ]
  },
  {
   "cell_type": "code",
   "execution_count": 326,
   "metadata": {},
   "outputs": [],
   "source": [
    "#############################################\n",
    "#                                           #\n",
    "#          Personal Recommendation          #\n",
    "#                                           #\n",
    "#############################################"
   ]
  },
  {
   "cell_type": "code",
   "execution_count": 329,
   "metadata": {},
   "outputs": [
    {
     "data": {
      "application/vnd.jupyter.widget-view+json": {
       "model_id": "4580aac51baa41d492d6dc5720891739",
       "version_major": 2,
       "version_minor": 0
      },
      "text/plain": [
       "HBox(children=(IntProgress(value=0, max=211), HTML(value='')))"
      ]
     },
     "metadata": {},
     "output_type": "display_data"
    },
    {
     "name": "stdout",
     "output_type": "stream",
     "text": [
      "\n"
     ]
    }
   ],
   "source": [
    "n=20\n",
    "top_n_lists = []\n",
    "\n",
    "for i in tqdm.tqdm_notebook(range(num_user)):\n",
    "    prediction = predictions[predictions['uid'] == i]\n",
    "    prediction = prediction.sort_values(by=['rating'],  ascending=False)\n",
    "    prediction = prediction[:n]\n",
    "    top_n_list = []\n",
    "    for _, row in prediction.iterrows():\n",
    "        top_n_list.append(row[1])\n",
    "    top_n_lists.append(top_n_list)"
   ]
  },
  {
   "cell_type": "code",
   "execution_count": 330,
   "metadata": {
    "scrolled": true
   },
   "outputs": [
    {
     "data": {
      "application/vnd.jupyter.widget-view+json": {
       "model_id": "5c64b9013f6c4034bd8615048f3ff6f5",
       "version_major": 2,
       "version_minor": 0
      },
      "text/plain": [
       "HBox(children=(IntProgress(value=0, max=211), HTML(value='')))"
      ]
     },
     "metadata": {},
     "output_type": "display_data"
    },
    {
     "name": "stdout",
     "output_type": "stream",
     "text": [
      "\n",
      "0.09123222748815163\n"
     ]
    }
   ],
   "source": [
    "evaluation = []\n",
    "satisfication = 0\n",
    "for i in tqdm.tqdm_notebook(range(num_user)):\n",
    "    top_n_list = top_n_lists[i]\n",
    "    precision = 0\n",
    "    for j in top_n_list:\n",
    "        p = test[test['uid'] == i]\n",
    "        p = p[p['tid']==j]\n",
    "        if len(p) > 0:\n",
    "            precision += 1\n",
    "    satisfication += precision / n\n",
    "    evaluation.append(precision)\n",
    "#     print(precision, satisfication)\n",
    "print(satisfication/num_user)"
   ]
  },
  {
   "cell_type": "code",
   "execution_count": null,
   "metadata": {},
   "outputs": [],
   "source": [
    "#############################################\n",
    "#                                           #\n",
    "#          Group Recommendation             #\n",
    "#                                           #\n",
    "#############################################"
   ]
  },
  {
   "cell_type": "code",
   "execution_count": 101,
   "metadata": {
    "scrolled": true
   },
   "outputs": [
    {
     "data": {
      "text/plain": [
       "[[17, 58, 73, 104, 112, 164, 207, 214, 218, 219],\n",
       " [0, 46, 55, 148, 181, 208, 212, 215, 216, 217],\n",
       " [20, 54, 68, 70, 108, 115, 126, 182, 189, 196],\n",
       " [9, 12, 32, 37, 38, 63, 76, 117, 129, 159],\n",
       " [1, 18, 33, 36, 79, 87, 106, 121, 171, 200],\n",
       " [66, 82, 89, 96, 105, 131, 137, 139, 145, 174],\n",
       " [8, 28, 42, 44, 60, 92, 109, 132, 169, 175],\n",
       " [53, 83, 123, 125, 135, 150, 162, 170, 191, 201],\n",
       " [2, 4, 6, 69, 84, 149, 163, 173, 194, 202],\n",
       " [7, 61, 97, 113, 133, 142, 172, 183, 203, 204],\n",
       " [35, 43, 71, 99, 179, 186, 187, 206, 209, 211],\n",
       " [14, 75, 114, 119, 141, 165, 184, 185, 188, 190],\n",
       " [11, 24, 26, 30, 49, 67, 81, 103, 167, 197],\n",
       " [13, 19, 78, 161, 192, 198, 199, 205, 210, 213],\n",
       " [3, 25, 34, 47, 57, 90, 134, 143, 144, 180],\n",
       " [27, 50, 59, 95, 100, 111, 152, 155, 156, 168],\n",
       " [29, 62, 74, 80, 93, 98, 127, 160, 193, 195],\n",
       " [40, 41, 51, 52, 56, 85, 94, 101, 107, 128],\n",
       " [23, 48, 72, 88, 118, 122, 140, 176, 177, 178],\n",
       " [5, 16, 22, 45, 102, 120, 146, 151, 158, 166],\n",
       " [10, 15, 21, 77, 116, 124, 136, 153, 154, 157],\n",
       " [31, 39, 64, 65, 86, 91, 110, 130, 138, 147]]"
      ]
     },
     "execution_count": 101,
     "metadata": {},
     "output_type": "execute_result"
    }
   ],
   "source": [
    "groups = []\n",
    "group_size = 2\n",
    "\n",
    "for i in range(num_user//group_size):\n",
    "    groups.append([])\n",
    "    \n",
    "for i in range(num_user):\n",
    "    b = True\n",
    "    while b:\n",
    "        g = random.random()*(num_user/group_size)//1\n",
    "        group = groups[int(g)]\n",
    "        if len(group) < group_size:\n",
    "            group.append(i)\n",
    "            b = False\n",
    "groups"
   ]
  },
  {
   "cell_type": "code",
   "execution_count": 102,
   "metadata": {},
   "outputs": [],
   "source": [
    "# check if duplicate \n",
    "\n",
    "users = []\n",
    "for group in groups:\n",
    "    for u in group:\n",
    "        users.append(u)\n",
    "users.sort(reverse=True)\n",
    "\n",
    "n = num_user - 1 \n",
    "for i in users:\n",
    "    if i-n != 0:\n",
    "        print('False')\n",
    "    n-=1"
   ]
  },
  {
   "cell_type": "code",
   "execution_count": null,
   "metadata": {},
   "outputs": [],
   "source": [
    "#############################################\n",
    "#                                           #\n",
    "#          Group Recommendation (2)         #\n",
    "#                                           #\n",
    "#############################################"
   ]
  },
  {
   "cell_type": "code",
   "execution_count": 8,
   "metadata": {
    "scrolled": true
   },
   "outputs": [
    {
     "data": {
      "text/plain": [
       "array([32., 78.])"
      ]
     },
     "execution_count": 8,
     "metadata": {},
     "output_type": "execute_result"
    }
   ],
   "source": [
    "# np.savetxt(os.path.join(dir_, 'groups_10_' + file_name[:-3] + 'csv'), groups, delimiter=\",\")\n",
    "groups = np.loadtxt(os.path.join(dir_, 'groups_2_' + file_name), delimiter=',')\n",
    "group_size = len(groups[0])\n",
    "groups[0]"
   ]
  },
  {
   "cell_type": "code",
   "execution_count": 9,
   "metadata": {},
   "outputs": [],
   "source": [
    "def max_satisfaction(df):  \n",
    "    return max(df['rating_u1'], df['rating_u2'])\n",
    "\n",
    "def least_misery(df):\n",
    "    return min(df['rating_u1'], df['rating_u2'])"
   ]
  },
  {
   "cell_type": "code",
   "execution_count": 10,
   "metadata": {},
   "outputs": [
    {
     "data": {
      "application/vnd.jupyter.widget-view+json": {
       "model_id": "4ae58a4d044b403fb338cc48d926d8cc",
       "version_major": 2,
       "version_minor": 0
      },
      "text/plain": [
       "HBox(children=(IntProgress(value=0, max=110), HTML(value='')))"
      ]
     },
     "metadata": {},
     "output_type": "display_data"
    },
    {
     "name": "stdout",
     "output_type": "stream",
     "text": [
      "\n"
     ]
    }
   ],
   "source": [
    "# Prediction list of each group (2)\n",
    "n=4\n",
    "top_n_lists_g = []\n",
    "    \n",
    "for group in tqdm.tqdm_notebook(groups):\n",
    "    u1 = predictions[predictions['uid'] == group[0]]\n",
    "    u2 = predictions[predictions['uid'] == group[1]]\n",
    "\n",
    "    m = pd.merge(u1, u2, on=['tid'], how='inner', suffixes=['_u1','_u2'])\n",
    "    m = m[['tid', 'rating_u1','rating_u2']]\n",
    "    \n",
    "#   Average\n",
    "    m['rating'] = (m['rating_u1'] + m['rating_u2'])/2\n",
    "\n",
    "#   Max Satisfaction\n",
    "#     m['rating'] = m.apply(max_satisfaction, axis = 1)\n",
    "\n",
    "#   Least Misery\n",
    "#     m['rating'] = m.apply(least_misery, axis = 1)\n",
    "    \n",
    "    m = m[['tid', 'rating']]\n",
    "    m = m.sort_values(by=['rating'],  ascending=False)\n",
    "    m = m[:n]\n",
    "    top_n_list = []\n",
    "    for _, row in m.iterrows():\n",
    "        top_n_list.append(row[0])\n",
    "    top_n_lists_g.append(top_n_list)"
   ]
  },
  {
   "cell_type": "code",
   "execution_count": 11,
   "metadata": {},
   "outputs": [
    {
     "data": {
      "application/vnd.jupyter.widget-view+json": {
       "model_id": "4dadb9ac01a64f80b4413e9ab6945586",
       "version_major": 2,
       "version_minor": 0
      },
      "text/plain": [
       "HBox(children=(IntProgress(value=0, max=110), HTML(value='')))"
      ]
     },
     "metadata": {},
     "output_type": "display_data"
    },
    {
     "name": "stdout",
     "output_type": "stream",
     "text": [
      "\n",
      "0.05676211508117134\n"
     ]
    }
   ],
   "source": [
    "evaluation = []\n",
    "satisfication = 0\n",
    "for i in tqdm.tqdm_notebook(range(num_user//group_size)):\n",
    "    group = groups[i]\n",
    "    top_n_list = top_n_lists_g[i]\n",
    "    precision = 0\n",
    "    for j in top_n_list:\n",
    "        t1 = test[test['uid'] == group[0]]\n",
    "        t2 = test[test['uid'] == group[1]]\n",
    "        \n",
    "        t1 = t1[t1['tid']==j]\n",
    "        t2 = t2[t2['tid']==j]\n",
    "\n",
    "        s = len(t1) + len(t2)\n",
    "#         if s > 0:\n",
    "#             precision += 1\n",
    "        precision += math.log(s+1,10)/math.log(len(group)+1,10)\n",
    "    satisfication += precision / n\n",
    "    evaluation.append(precision)\n",
    "#     print(precision, satisfication)\n",
    "print(satisfication/(num_user//group_size))"
   ]
  },
  {
   "cell_type": "code",
   "execution_count": null,
   "metadata": {},
   "outputs": [],
   "source": [
    "#############################################\n",
    "#                                           #\n",
    "#          Group Recommendation (4)         #\n",
    "#                                           #\n",
    "#############################################"
   ]
  },
  {
   "cell_type": "code",
   "execution_count": 12,
   "metadata": {},
   "outputs": [
    {
     "data": {
      "text/plain": [
       "array([ 16.,  69., 111., 129.])"
      ]
     },
     "execution_count": 12,
     "metadata": {},
     "output_type": "execute_result"
    }
   ],
   "source": [
    "# np.savetxt(os.path.join(dir_, 'groups_10_' + file_name[:-3] + 'csv'), groups, delimiter=\",\")\n",
    "groups = np.loadtxt(os.path.join(dir_, 'groups_4_' + file_name), delimiter=',')\n",
    "group_size = len(groups[0])\n",
    "groups[0]"
   ]
  },
  {
   "cell_type": "code",
   "execution_count": 13,
   "metadata": {},
   "outputs": [],
   "source": [
    "def max_satisfaction(df):  \n",
    "    return max(df['rating_u1'], df['rating_u2'], df['rating_u3'], df['rating_u4'])\n",
    "\n",
    "def least_misery(df):\n",
    "    return min(df['rating_u1'], df['rating_u2'], df['rating_u3'], df['rating_u4'])"
   ]
  },
  {
   "cell_type": "code",
   "execution_count": 16,
   "metadata": {},
   "outputs": [
    {
     "data": {
      "application/vnd.jupyter.widget-view+json": {
       "model_id": "957ae2842e0743789c37eb7716e30d03",
       "version_major": 2,
       "version_minor": 0
      },
      "text/plain": [
       "HBox(children=(IntProgress(value=0, max=55), HTML(value='')))"
      ]
     },
     "metadata": {},
     "output_type": "display_data"
    },
    {
     "name": "stdout",
     "output_type": "stream",
     "text": [
      "\n"
     ]
    }
   ],
   "source": [
    "# Prediction list of each group (4)\n",
    "n=4\n",
    "top_n_lists_g = []\n",
    "    \n",
    "for group in tqdm.tqdm_notebook(groups):\n",
    "    u1 = predictions[predictions['uid'] == group[0]]\n",
    "    u2 = predictions[predictions['uid'] == group[1]]\n",
    "    u3 = predictions[predictions['uid'] == group[2]]\n",
    "    u4 = predictions[predictions['uid'] == group[3]]\n",
    "    \n",
    "    m = pd.merge(u1, u2, on=['tid'], how='inner', suffixes=['_u1','_u2'])\n",
    "    m = pd.merge(m,  u3, on=['tid'], how='inner', suffixes=['','_u3'])\n",
    "    m = pd.merge(m,  u4, on=['tid'], how='inner', suffixes=['_u3','_u4'])\n",
    "    m = m[['tid', 'rating_u1','rating_u2','rating_u3','rating_u4']]\n",
    "#     Average\n",
    "    m['rating'] = (m['rating_u1'] + m['rating_u2'] + m['rating_u3'] + m['rating_u4'])/4\n",
    "\n",
    "#   Max Satisfaction\n",
    "#     m['rating'] = m.apply(max_satisfaction, axis = 1)\n",
    "\n",
    "#   Least Misery\n",
    "#     m['rating'] = m.apply(least_misery, axis = 1)\n",
    "    \n",
    "    m = m[['tid', 'rating']]\n",
    "    m = m.sort_values(by=['rating'],  ascending=False)\n",
    "    m = m[:n]\n",
    "    top_n_list = []\n",
    "    for _, row in m.iterrows():\n",
    "        top_n_list.append(row[0])\n",
    "    top_n_lists_g.append(top_n_list)"
   ]
  },
  {
   "cell_type": "code",
   "execution_count": 17,
   "metadata": {
    "scrolled": true
   },
   "outputs": [
    {
     "data": {
      "application/vnd.jupyter.widget-view+json": {
       "model_id": "3eec04c30a1044b3ab69cba2d5df339d",
       "version_major": 2,
       "version_minor": 0
      },
      "text/plain": [
       "HBox(children=(IntProgress(value=0, max=55), HTML(value='')))"
      ]
     },
     "metadata": {},
     "output_type": "display_data"
    },
    {
     "name": "stdout",
     "output_type": "stream",
     "text": [
      "\n",
      "0.08875822974002853\n"
     ]
    }
   ],
   "source": [
    "evaluation = []\n",
    "satisfication = 0\n",
    "for i in tqdm.tqdm_notebook(range(num_user//group_size)):\n",
    "    group = groups[i]\n",
    "    top_n_list = top_n_lists_g[i]\n",
    "    precision = 0\n",
    "    for j in top_n_list:\n",
    "        t1 = test[test['uid'] == group[0]]\n",
    "        t2 = test[test['uid'] == group[1]]\n",
    "        t3 = test[test['uid'] == group[2]]\n",
    "        t4 = test[test['uid'] == group[3]]\n",
    "        \n",
    "        t1 = t1[t1['tid']==j]\n",
    "        t2 = t2[t2['tid']==j]\n",
    "        t3 = t3[t3['tid']==j]\n",
    "        t4 = t4[t4['tid']==j]\n",
    "        s = len(t1) + len(t2) + len(t3) + len(t4)\n",
    "#         if s > 0:\n",
    "#             precision += 1\n",
    "        precision += math.log(s+1,10)/math.log(len(group)+1,10)\n",
    "    satisfication += precision / n\n",
    "    evaluation.append(precision)\n",
    "#     print(precision, satisfication)\n",
    "print(satisfication/(num_user//group_size))"
   ]
  },
  {
   "cell_type": "code",
   "execution_count": null,
   "metadata": {},
   "outputs": [],
   "source": [
    "#############################################\n",
    "#                                           #\n",
    "#          Group Recommendation (5)         #\n",
    "#                                           #\n",
    "#############################################"
   ]
  },
  {
   "cell_type": "code",
   "execution_count": 18,
   "metadata": {},
   "outputs": [
    {
     "data": {
      "text/plain": [
       "array([ 11.,  23., 107., 122., 141.])"
      ]
     },
     "execution_count": 18,
     "metadata": {},
     "output_type": "execute_result"
    }
   ],
   "source": [
    "# np.savetxt(os.path.join(dir_, 'groups_10_' + file_name[:-3] + 'csv'), groups, delimiter=\",\")\n",
    "groups = np.loadtxt(os.path.join(dir_, 'groups_5_' + file_name), delimiter=',')\n",
    "group_size = len(groups[0])\n",
    "groups[0]"
   ]
  },
  {
   "cell_type": "code",
   "execution_count": 19,
   "metadata": {},
   "outputs": [],
   "source": [
    "def max_satisfaction(df):  \n",
    "    return max(df['rating_u1'], df['rating_u2'], df['rating_u3'], df['rating_u4'], df['rating_u5'])\n",
    "\n",
    "def least_misery(df):\n",
    "    return min(df['rating_u1'], df['rating_u2'], df['rating_u3'], df['rating_u4'], df['rating_u5'])"
   ]
  },
  {
   "cell_type": "code",
   "execution_count": 20,
   "metadata": {},
   "outputs": [
    {
     "data": {
      "application/vnd.jupyter.widget-view+json": {
       "model_id": "769ee940223f4fd18c404fe03e43570c",
       "version_major": 2,
       "version_minor": 0
      },
      "text/plain": [
       "HBox(children=(IntProgress(value=0, max=44), HTML(value='')))"
      ]
     },
     "metadata": {},
     "output_type": "display_data"
    },
    {
     "name": "stdout",
     "output_type": "stream",
     "text": [
      "\n"
     ]
    }
   ],
   "source": [
    "# Prediction list of each group (5)\n",
    "n=4\n",
    "top_n_lists_g = []\n",
    "    \n",
    "for group in tqdm.tqdm_notebook(groups):\n",
    "    u1 = predictions[predictions['uid'] == group[0]]\n",
    "    u2 = predictions[predictions['uid'] == group[1]]\n",
    "    u3 = predictions[predictions['uid'] == group[2]]\n",
    "    u4 = predictions[predictions['uid'] == group[3]]\n",
    "    u5 = predictions[predictions['uid'] == group[4]]\n",
    "\n",
    "    m = pd.merge(u1, u2, on=['tid'], how='inner', suffixes=['_u1','_u2'])\n",
    "    m = pd.merge(m,  u3, on=['tid'], how='inner', suffixes=['','_u3'])\n",
    "    m = pd.merge(m,  u4, on=['tid'], how='inner', suffixes=['','_u4'])\n",
    "    m = pd.merge(m,  u5, on=['tid'], how='inner', suffixes=['_u3','_u5'])\n",
    "    m = m[['tid', 'rating_u1','rating_u2','rating_u3','rating_u4','rating_u5']]\n",
    "#     Average\n",
    "    m['rating'] = (m['rating_u1'] + m['rating_u2'] + m['rating_u3'] + m['rating_u4'] + m['rating_u5'])/5\n",
    "    \n",
    "#     Max Satisfaction\n",
    "#     m['rating'] = m.apply(max_satisfaction, axis = 1)\n",
    "    \n",
    "#     Least Misery\n",
    "#     m['rating'] = m.apply(least_misery, axis = 1)\n",
    "    \n",
    "    m = m[['tid', 'rating']]\n",
    "    m = m.sort_values(by=['rating'],  ascending=False)\n",
    "    m = m[:n]\n",
    "    top_n_list = []\n",
    "    for _, row in m.iterrows():\n",
    "        top_n_list.append(row[0])\n",
    "    top_n_lists_g.append(top_n_list)"
   ]
  },
  {
   "cell_type": "code",
   "execution_count": 21,
   "metadata": {
    "scrolled": false
   },
   "outputs": [
    {
     "data": {
      "application/vnd.jupyter.widget-view+json": {
       "model_id": "6adf16e64a3f496bbe088f8d468edd7f",
       "version_major": 2,
       "version_minor": 0
      },
      "text/plain": [
       "HBox(children=(IntProgress(value=0, max=44), HTML(value='')))"
      ]
     },
     "metadata": {},
     "output_type": "display_data"
    },
    {
     "name": "stdout",
     "output_type": "stream",
     "text": [
      "\n",
      "0.09820720098652841\n"
     ]
    }
   ],
   "source": [
    "evaluation = []\n",
    "satisfication = 0\n",
    "for i in tqdm.tqdm_notebook(range(num_user//group_size)):\n",
    "    group = groups[i]\n",
    "    top_n_list = top_n_lists_g[i]\n",
    "    precision = 0\n",
    "    for j in top_n_list:\n",
    "        t1 = test[test['uid'] == group[0]]\n",
    "        t2 = test[test['uid'] == group[1]]\n",
    "        t3 = test[test['uid'] == group[2]]\n",
    "        t4 = test[test['uid'] == group[3]]\n",
    "        t5 = test[test['uid'] == group[4]]\n",
    "        \n",
    "        t1 = t1[t1['tid']==j]\n",
    "        t2 = t2[t2['tid']==j]\n",
    "        t3 = t3[t3['tid']==j]\n",
    "        t4 = t4[t4['tid']==j]\n",
    "        t5 = t5[t5['tid']==j]\n",
    "        s = len(t1) + len(t2) + len(t3) + len(t4) + len(t5)\n",
    "#         if s > 0:\n",
    "#             precision += 1\n",
    "        precision += math.log(s+1,10)/math.log(len(group)+1,10)\n",
    "\n",
    "    satisfication += precision / n\n",
    "    evaluation.append(precision)\n",
    "#     print(precision, satisfication)\n",
    "print(satisfication/(num_user//group_size))"
   ]
  },
  {
   "cell_type": "code",
   "execution_count": null,
   "metadata": {},
   "outputs": [],
   "source": [
    "#############################################\n",
    "#                                           #\n",
    "#          Group Recommendation (10)        #\n",
    "#                                           #\n",
    "#############################################"
   ]
  },
  {
   "cell_type": "code",
   "execution_count": 22,
   "metadata": {
    "scrolled": true
   },
   "outputs": [
    {
     "data": {
      "text/plain": [
       "array([ 17.,  58.,  73., 104., 112., 164., 207., 214., 218., 219.])"
      ]
     },
     "execution_count": 22,
     "metadata": {},
     "output_type": "execute_result"
    }
   ],
   "source": [
    "# np.savetxt(os.path.join(dir_, 'groups_10_' + file_name[:-3] + 'csv'), groups, delimiter=\",\")\n",
    "groups = np.loadtxt(os.path.join(dir_, 'groups_10_' + file_name), delimiter=',')\n",
    "group_size = len(groups[0])\n",
    "groups[0]"
   ]
  },
  {
   "cell_type": "code",
   "execution_count": 23,
   "metadata": {},
   "outputs": [],
   "source": [
    "def max_satisfaction(df):  \n",
    "    return max(df['rating_u1'], df['rating_u2'], df['rating_u3'], df['rating_u4'], df['rating_u5'], df['rating_u6'], df['rating_u7'], df['rating_u8'], df['rating_u9'], df['rating_u10'])\n",
    "\n",
    "def least_misery(df):  \n",
    "    return max(df['rating_u1'], df['rating_u2'], df['rating_u3'], df['rating_u4'], df['rating_u5'], df['rating_u6'], df['rating_u7'], df['rating_u8'], df['rating_u9'], df['rating_u10'])"
   ]
  },
  {
   "cell_type": "code",
   "execution_count": 24,
   "metadata": {},
   "outputs": [
    {
     "data": {
      "application/vnd.jupyter.widget-view+json": {
       "model_id": "9a64f88ffbc24b99817b4f3c72eec1be",
       "version_major": 2,
       "version_minor": 0
      },
      "text/plain": [
       "HBox(children=(IntProgress(value=0, max=22), HTML(value='')))"
      ]
     },
     "metadata": {},
     "output_type": "display_data"
    },
    {
     "name": "stdout",
     "output_type": "stream",
     "text": [
      "\n"
     ]
    }
   ],
   "source": [
    "# Prediction list of each group (10)\n",
    "n=4\n",
    "top_n_lists_g = []\n",
    "    \n",
    "for group in tqdm.tqdm_notebook(groups):\n",
    "    u1 = predictions[predictions['uid'] == group[0]]\n",
    "    u2 = predictions[predictions['uid'] == group[1]]\n",
    "    u3 = predictions[predictions['uid'] == group[2]]\n",
    "    u4 = predictions[predictions['uid'] == group[3]]\n",
    "    u5 = predictions[predictions['uid'] == group[4]]\n",
    "    u6 = predictions[predictions['uid'] == group[5]]\n",
    "    u7 = predictions[predictions['uid'] == group[6]]\n",
    "    u8 = predictions[predictions['uid'] == group[7]]\n",
    "    u9 = predictions[predictions['uid'] == group[8]]\n",
    "    u10 = predictions[predictions['uid'] == group[9]]\n",
    "\n",
    "    m = pd.merge(u1, u2,  on=['tid'], how='inner', suffixes=['_u1','_u2'])\n",
    "    m = pd.merge(m,  u3,  on=['tid'], how='inner', suffixes=['','_u3'])\n",
    "    m = pd.merge(m,  u4,  on=['tid'], how='inner', suffixes=['','_u4'])\n",
    "    m = pd.merge(m,  u5,  on=['tid'], how='inner', suffixes=['','_u5'])\n",
    "    m = pd.merge(m,  u6,  on=['tid'], how='inner', suffixes=['','_u6'])\n",
    "    m = pd.merge(m,  u7,  on=['tid'], how='inner', suffixes=['','_u7'])\n",
    "    m = pd.merge(m,  u8,  on=['tid'], how='inner', suffixes=['','_u8'])\n",
    "    m = pd.merge(m,  u9,  on=['tid'], how='inner', suffixes=['','_u9'])\n",
    "    m = pd.merge(m,  u10, on=['tid'], how='inner', suffixes=['_u3','_u10'])\n",
    "    m = m[['tid', 'rating_u1','rating_u2','rating_u3','rating_u4','rating_u5', 'rating_u6','rating_u7','rating_u8','rating_u9','rating_u10']]\n",
    "\n",
    "#     Average\n",
    "    m['rating'] = (m['rating_u1'] + m['rating_u2'] + m['rating_u3'] + m['rating_u4'] + m['rating_u5'] + m['rating_u6'] + m['rating_u7'] + m['rating_u8'] + m['rating_u9'] + + m['rating_u10'])/10\n",
    "    \n",
    "#     Max Satisfaction\n",
    "#     m['rating'] = m.apply(max_satisfaction, axis = 1)\n",
    "    \n",
    "#     Least Misery\n",
    "#     m['rating'] = m.apply(least_misery, axis = 1)\n",
    "    \n",
    "    m = m[['tid', 'rating']]\n",
    "    m = m.sort_values(by=['rating'],  ascending=False)\n",
    "    m = m[:n]\n",
    "    top_n_list = []\n",
    "    for _, row in m.iterrows():\n",
    "        top_n_list.append(row[0])\n",
    "    top_n_lists_g.append(top_n_list)"
   ]
  },
  {
   "cell_type": "code",
   "execution_count": 25,
   "metadata": {
    "scrolled": true
   },
   "outputs": [
    {
     "data": {
      "application/vnd.jupyter.widget-view+json": {
       "model_id": "d46be3142417431bb07d0deb618092eb",
       "version_major": 2,
       "version_minor": 0
      },
      "text/plain": [
       "HBox(children=(IntProgress(value=0, max=22), HTML(value='')))"
      ]
     },
     "metadata": {},
     "output_type": "display_data"
    },
    {
     "name": "stdout",
     "output_type": "stream",
     "text": [
      "\n",
      "0.18643536733110996\n"
     ]
    }
   ],
   "source": [
    "evaluation = []\n",
    "satisfication = 0\n",
    "for i in tqdm.tqdm_notebook(range(num_user//group_size)):\n",
    "    group = groups[i]\n",
    "    top_n_list = top_n_lists_g[i]\n",
    "    precision = 0\n",
    "    for j in top_n_list:\n",
    "        t1 = test[test['uid'] == group[0]]\n",
    "        t2 = test[test['uid'] == group[1]]\n",
    "        t3 = test[test['uid'] == group[2]]\n",
    "        t4 = test[test['uid'] == group[3]]\n",
    "        t5 = test[test['uid'] == group[4]]\n",
    "        t6 = test[test['uid'] == group[5]]\n",
    "        t7 = test[test['uid'] == group[6]]\n",
    "        t8 = test[test['uid'] == group[7]]\n",
    "        t9 = test[test['uid'] == group[8]]\n",
    "        t10 = test[test['uid'] == group[9]]\n",
    "        \n",
    "        t1 = t1[t1['tid']==j]\n",
    "        t2 = t2[t2['tid']==j]\n",
    "        t3 = t3[t3['tid']==j]\n",
    "        t4 = t4[t4['tid']==j]\n",
    "        t5 = t5[t5['tid']==j]\n",
    "        t6 = t6[t6['tid']==j]\n",
    "        t7 = t7[t7['tid']==j]\n",
    "        t8 = t8[t8['tid']==j]\n",
    "        t9 = t9[t9['tid']==j]\n",
    "        t10 = t10[t10['tid']==j]\n",
    "        s = len(t1) + len(t2) + len(t3) + len(t4) + len(t5) + len(t6) + len(t7) + len(t8) + len(t9) + len(t10)\n",
    "#         if s > 0:\n",
    "#             precision += 1\n",
    "        precision += math.log(s+1,10)/math.log(len(group)+1,10)\n",
    "    satisfication += precision / n\n",
    "    evaluation.append(precision)\n",
    "#     print(precision, satisfication)\n",
    "print(satisfication/(num_user//group_size))"
   ]
  },
  {
   "cell_type": "code",
   "execution_count": 185,
   "metadata": {},
   "outputs": [],
   "source": [
    "#############################################\n",
    "#                                           #\n",
    "#          Distribution of rating           #\n",
    "#                                           #\n",
    "#############################################"
   ]
  },
  {
   "cell_type": "code",
   "execution_count": 317,
   "metadata": {},
   "outputs": [],
   "source": [
    "dir_ = '../data_0.5_track_20/'\n",
    "# file_name = 'normalized_filter_track_5_user_100.csv'\n",
    "file_name = 'normalized_to_rating_filter_track_20_user_100.csv'"
   ]
  },
  {
   "cell_type": "code",
   "execution_count": 318,
   "metadata": {
    "scrolled": false
   },
   "outputs": [
    {
     "name": "stdout",
     "output_type": "stream",
     "text": [
      "111228\n",
      "149490\n",
      "196414\n",
      "243281\n",
      "296137\n",
      "\n",
      "111228\n",
      "38262\n",
      "46924\n",
      "46867\n",
      "52856\n"
     ]
    }
   ],
   "source": [
    "ratings = pd.read_pickle(os.path.join(dir_, file_name[:-3] + 'pkl'))\n",
    "rating_list = []\n",
    "\n",
    "for i in range(1,6):\n",
    "    rating = ratings[ratings['rating']<=i] \n",
    "    num = len(rating)\n",
    "    rating_list.append(num)\n",
    "    print(num)\n",
    "    \n",
    "print('')\n",
    "\n",
    "for i in range(4,0,-1):\n",
    "    rating_list[i] -= rating_list[i-1]\n",
    "    \n",
    "for i in range(5):\n",
    "    print(rating_list[i])"
   ]
  },
  {
   "cell_type": "code",
   "execution_count": null,
   "metadata": {},
   "outputs": [],
   "source": []
  }
 ],
 "metadata": {
  "kernelspec": {
   "display_name": "Python 3",
   "language": "python",
   "name": "python3"
  },
  "language_info": {
   "codemirror_mode": {
    "name": "ipython",
    "version": 3
   },
   "file_extension": ".py",
   "mimetype": "text/x-python",
   "name": "python",
   "nbconvert_exporter": "python",
   "pygments_lexer": "ipython3",
   "version": "3.6.9"
  }
 },
 "nbformat": 4,
 "nbformat_minor": 2
}
