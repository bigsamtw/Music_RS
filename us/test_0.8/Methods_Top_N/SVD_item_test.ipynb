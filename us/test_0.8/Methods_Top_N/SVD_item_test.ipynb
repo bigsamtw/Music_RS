{
 "cells": [
  {
   "cell_type": "code",
   "execution_count": 15,
   "metadata": {},
   "outputs": [],
   "source": [
    "from scipy import mat, dot\n",
    "import numpy as np\n",
    "import scipy as sp\n",
    "from numpy.random import random\n",
    "import os\n",
    "import numpy as np\n",
    "import pandas as pd\n",
    "import tqdm\n",
    "import time\n",
    "import math\n",
    "\n",
    "dir_ = './data/'\n",
    "file_name = 'normalized_filter_track_5_user_100.csv'"
   ]
  },
  {
   "cell_type": "code",
   "execution_count": 84,
   "metadata": {
    "scrolled": true
   },
   "outputs": [
    {
     "name": "stdout",
     "output_type": "stream",
     "text": [
      "[[-0.56033527 -0.25238511 -0.78316411 -0.09476346]\n",
      " [-0.56352336 -0.26200036  0.55458092 -0.55338706]\n",
      " [-0.43036455 -0.22694435  0.28095316  0.82725325]\n",
      " [-0.42807962  0.90341232  0.01262122  0.02084979]] \n",
      "\n",
      " [11.70432354  5.05989766  1.48661359  0.44297423] \n",
      "\n",
      " [[-0.32723506 -0.36353716 -0.57884106 -0.65245764]\n",
      " [ 0.51588378  0.69632766 -0.41252766 -0.28073591]\n",
      " [ 0.44223716 -0.44913355 -0.56639882  0.53094041]\n",
      " [-0.65666387  0.42573181 -0.41708073  0.46215652]]\n"
     ]
    }
   ],
   "source": [
    "print(U, '\\n\\n', s, '\\n\\n', V)"
   ]
  },
  {
   "cell_type": "code",
   "execution_count": 122,
   "metadata": {},
   "outputs": [],
   "source": [
    "def euclidean_distance(u1, u2):\n",
    "\n",
    "        sum_ = 0.0\n",
    "        for i in range(num_tracks):\n",
    "            q = vt[i,u1]\n",
    "            p = vt[i,u2]\n",
    "            sum_ += pow((q-p), 2)\n",
    "\n",
    "        result = math.sqrt(sum_)\n",
    "\n",
    "        return result"
   ]
  },
  {
   "cell_type": "code",
   "execution_count": 123,
   "metadata": {},
   "outputs": [
    {
     "data": {
      "text/plain": [
       "array([ 7.53616365, 10.52288898])"
      ]
     },
     "execution_count": 123,
     "metadata": {},
     "output_type": "execute_result"
    }
   ],
   "source": [
    "from scipy.sparse import csc_matrix\n",
    "from scipy.sparse.linalg import svds\n",
    "B = [[1,1,4,5],\n",
    "     [1,0,5,4],\n",
    "     [5,4,0,1],\n",
    "     [4,5,1,1]]\n",
    "C = mat(B, dtype=float)\n",
    "u, s, vt = svds(C, k=2) # k is the number of factors\n",
    "s"
   ]
  },
  {
   "cell_type": "code",
   "execution_count": 126,
   "metadata": {},
   "outputs": [
    {
     "name": "stdout",
     "output_type": "stream",
     "text": [
      "[[ 0.45891681 -0.52425604]\n",
      " [ 0.53993591 -0.473926  ]\n",
      " [-0.52955415 -0.47928741]\n",
      " [-0.46630139 -0.5204165 ]] \n",
      "\n",
      " [ 7.53616365 10.52288898] \n",
      "\n",
      " [[-0.46630139 -0.52955415  0.53993591  0.45891681]\n",
      " [-0.5204165  -0.47928741 -0.473926   -0.52425604]]\n"
     ]
    }
   ],
   "source": [
    "np.set_printoptions(suppress=True)\n",
    "print(u, '\\n\\n', s, '\\n\\n', vt)"
   ]
  },
  {
   "cell_type": "code",
   "execution_count": 125,
   "metadata": {},
   "outputs": [
    {
     "name": "stdout",
     "output_type": "stream",
     "text": [
      "0 1 0.07544875171742622\n",
      "0 2 1.0073107109411819\n",
      "0 3 0.9252261577588552\n",
      "1 2 1.0695034972656152\n",
      "1 3 0.9894933042359043\n",
      "2 3 0.09537929011458667\n"
     ]
    }
   ],
   "source": [
    "num_tracks =2\n",
    "for i in range(4):\n",
    "    for j in range(i,4):\n",
    "        if not i==j:\n",
    "            print(i, j, euclidean_distance(i,j))"
   ]
  },
  {
   "cell_type": "code",
   "execution_count": null,
   "metadata": {},
   "outputs": [],
   "source": []
  }
 ],
 "metadata": {
  "kernelspec": {
   "display_name": "Python 3",
   "language": "python",
   "name": "python3"
  },
  "language_info": {
   "codemirror_mode": {
    "name": "ipython",
    "version": 3
   },
   "file_extension": ".py",
   "mimetype": "text/x-python",
   "name": "python",
   "nbconvert_exporter": "python",
   "pygments_lexer": "ipython3",
   "version": "3.7.4"
  }
 },
 "nbformat": 4,
 "nbformat_minor": 2
}
