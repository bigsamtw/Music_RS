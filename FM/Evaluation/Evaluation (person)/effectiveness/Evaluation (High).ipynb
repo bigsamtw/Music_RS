{
 "cells": [
  {
   "cell_type": "code",
   "execution_count": 1,
   "metadata": {},
   "outputs": [],
   "source": [
    "import os \n",
    "import tqdm\n",
    "import math\n",
    "import random\n",
    "import numpy as np\n",
    "import pandas as pd\n",
    "from tqdm.notebook import tqdm\n",
    "from numpy import count_nonzero\n",
    "\n",
    "dir_ = '../data/'\n",
    "group_dir_ = '../data/groups/high'\n",
    "folder = 'all (min-max)(user)'\n",
    "file_name = 'normalized_minmax_filter_track_5_user_100.pkl'"
   ]
  },
  {
   "cell_type": "code",
   "execution_count": 2,
   "metadata": {},
   "outputs": [
    {
     "data": {
      "text/html": [
       "<div>\n",
       "<style scoped>\n",
       "    .dataframe tbody tr th:only-of-type {\n",
       "        vertical-align: middle;\n",
       "    }\n",
       "\n",
       "    .dataframe tbody tr th {\n",
       "        vertical-align: top;\n",
       "    }\n",
       "\n",
       "    .dataframe thead th {\n",
       "        text-align: right;\n",
       "    }\n",
       "</style>\n",
       "<table border=\"1\" class=\"dataframe\">\n",
       "  <thead>\n",
       "    <tr style=\"text-align: right;\">\n",
       "      <th></th>\n",
       "      <th>uid</th>\n",
       "      <th>tid</th>\n",
       "      <th>rating</th>\n",
       "      <th>count</th>\n",
       "    </tr>\n",
       "  </thead>\n",
       "  <tbody>\n",
       "    <tr>\n",
       "      <th>26</th>\n",
       "      <td>0</td>\n",
       "      <td>9</td>\n",
       "      <td>1.071429</td>\n",
       "      <td>15</td>\n",
       "    </tr>\n",
       "    <tr>\n",
       "      <th>37</th>\n",
       "      <td>0</td>\n",
       "      <td>15</td>\n",
       "      <td>0.214286</td>\n",
       "      <td>3</td>\n",
       "    </tr>\n",
       "    <tr>\n",
       "      <th>45</th>\n",
       "      <td>0</td>\n",
       "      <td>22</td>\n",
       "      <td>0.428571</td>\n",
       "      <td>6</td>\n",
       "    </tr>\n",
       "    <tr>\n",
       "      <th>64</th>\n",
       "      <td>0</td>\n",
       "      <td>28</td>\n",
       "      <td>0.285714</td>\n",
       "      <td>4</td>\n",
       "    </tr>\n",
       "    <tr>\n",
       "      <th>75</th>\n",
       "      <td>0</td>\n",
       "      <td>33</td>\n",
       "      <td>0.071429</td>\n",
       "      <td>1</td>\n",
       "    </tr>\n",
       "  </tbody>\n",
       "</table>\n",
       "</div>"
      ],
      "text/plain": [
       "    uid  tid    rating  count\n",
       "26    0    9  1.071429     15\n",
       "37    0   15  0.214286      3\n",
       "45    0   22  0.428571      6\n",
       "64    0   28  0.285714      4\n",
       "75    0   33  0.071429      1"
      ]
     },
     "execution_count": 2,
     "metadata": {},
     "output_type": "execute_result"
    }
   ],
   "source": [
    "predictions = pd.read_pickle(os.path.join(dir_, folder, 'topN_pred_' + file_name[:-3] + 'pkl'))\n",
    "test = pd.read_pickle(os.path.join(dir_, folder, 'test_' + file_name[:-3] + 'pkl'))\n",
    "test.sort_values(by=['uid','tid'])[:5]"
   ]
  },
  {
   "cell_type": "code",
   "execution_count": 3,
   "metadata": {},
   "outputs": [
    {
     "data": {
      "text/html": [
       "<div>\n",
       "<style scoped>\n",
       "    .dataframe tbody tr th:only-of-type {\n",
       "        vertical-align: middle;\n",
       "    }\n",
       "\n",
       "    .dataframe tbody tr th {\n",
       "        vertical-align: top;\n",
       "    }\n",
       "\n",
       "    .dataframe thead th {\n",
       "        text-align: right;\n",
       "    }\n",
       "</style>\n",
       "<table border=\"1\" class=\"dataframe\">\n",
       "  <thead>\n",
       "    <tr style=\"text-align: right;\">\n",
       "      <th></th>\n",
       "      <th>uid</th>\n",
       "      <th>tid</th>\n",
       "      <th>rating</th>\n",
       "    </tr>\n",
       "  </thead>\n",
       "  <tbody>\n",
       "    <tr>\n",
       "      <th>134345540</th>\n",
       "      <td>867</td>\n",
       "      <td>70</td>\n",
       "      <td>1.228373</td>\n",
       "    </tr>\n",
       "    <tr>\n",
       "      <th>126460659</th>\n",
       "      <td>816</td>\n",
       "      <td>70</td>\n",
       "      <td>1.224137</td>\n",
       "    </tr>\n",
       "    <tr>\n",
       "      <th>39397515</th>\n",
       "      <td>254</td>\n",
       "      <td>70</td>\n",
       "      <td>1.216006</td>\n",
       "    </tr>\n",
       "    <tr>\n",
       "      <th>108520730</th>\n",
       "      <td>700</td>\n",
       "      <td>70</td>\n",
       "      <td>1.205024</td>\n",
       "    </tr>\n",
       "    <tr>\n",
       "      <th>32406146</th>\n",
       "      <td>209</td>\n",
       "      <td>70</td>\n",
       "      <td>1.203970</td>\n",
       "    </tr>\n",
       "    <tr>\n",
       "      <th>...</th>\n",
       "      <td>...</td>\n",
       "      <td>...</td>\n",
       "      <td>...</td>\n",
       "    </tr>\n",
       "    <tr>\n",
       "      <th>111218542</th>\n",
       "      <td>717</td>\n",
       "      <td>56485</td>\n",
       "      <td>0.007406</td>\n",
       "    </tr>\n",
       "    <tr>\n",
       "      <th>125183091</th>\n",
       "      <td>807</td>\n",
       "      <td>120430</td>\n",
       "      <td>0.007093</td>\n",
       "    </tr>\n",
       "    <tr>\n",
       "      <th>125153567</th>\n",
       "      <td>807</td>\n",
       "      <td>90904</td>\n",
       "      <td>0.006055</td>\n",
       "    </tr>\n",
       "    <tr>\n",
       "      <th>111285284</th>\n",
       "      <td>717</td>\n",
       "      <td>124033</td>\n",
       "      <td>0.005310</td>\n",
       "    </tr>\n",
       "    <tr>\n",
       "      <th>125074379</th>\n",
       "      <td>807</td>\n",
       "      <td>11676</td>\n",
       "      <td>0.004336</td>\n",
       "    </tr>\n",
       "  </tbody>\n",
       "</table>\n",
       "<p>147697641 rows × 3 columns</p>\n",
       "</div>"
      ],
      "text/plain": [
       "           uid     tid    rating\n",
       "134345540  867      70  1.228373\n",
       "126460659  816      70  1.224137\n",
       "39397515   254      70  1.216006\n",
       "108520730  700      70  1.205024\n",
       "32406146   209      70  1.203970\n",
       "...        ...     ...       ...\n",
       "111218542  717   56485  0.007406\n",
       "125183091  807  120430  0.007093\n",
       "125153567  807   90904  0.006055\n",
       "111285284  717  124033  0.005310\n",
       "125074379  807   11676  0.004336\n",
       "\n",
       "[147697641 rows x 3 columns]"
      ]
     },
     "execution_count": 3,
     "metadata": {},
     "output_type": "execute_result"
    }
   ],
   "source": [
    "predictions.sort_values(by=['rating'],  ascending=False)"
   ]
  },
  {
   "cell_type": "code",
   "execution_count": 4,
   "metadata": {},
   "outputs": [
    {
     "name": "stdout",
     "output_type": "stream",
     "text": [
      "2\n",
      "3\n",
      "4\n",
      "5\n",
      "6\n",
      "7\n",
      "8\n",
      "9\n",
      "10\n"
     ]
    }
   ],
   "source": [
    "groups_n =[]\n",
    "group_sizes = ['2', '3', '4', '5', '6', '7', '8', '9', '10']\n",
    "for i in range(len(group_sizes)):\n",
    "    groups = np.loadtxt(os.path.join(group_dir_, group_sizes[i] + '.csv'), delimiter=',')\n",
    "    groups_n.append(groups)\n",
    "    print(len(groups[0]))"
   ]
  },
  {
   "cell_type": "code",
   "execution_count": 5,
   "metadata": {},
   "outputs": [
    {
     "data": {
      "text/plain": [
       "953"
      ]
     },
     "execution_count": 5,
     "metadata": {},
     "output_type": "execute_result"
    }
   ],
   "source": [
    "num_user = len(test['uid'].unique())\n",
    "num_user"
   ]
  },
  {
   "cell_type": "code",
   "execution_count": 6,
   "metadata": {},
   "outputs": [
    {
     "data": {
      "application/vnd.jupyter.widget-view+json": {
       "model_id": "a02013f0a27f4968a10575c89994d924",
       "version_major": 2,
       "version_minor": 0
      },
      "text/plain": [
       "HBox(children=(HTML(value=''), FloatProgress(value=0.0, max=953.0), HTML(value='')))"
      ]
     },
     "metadata": {},
     "output_type": "display_data"
    },
    {
     "name": "stdout",
     "output_type": "stream",
     "text": [
      "\n"
     ]
    }
   ],
   "source": [
    "# Personal Recommendation\n",
    "n=20\n",
    "top_n_lists = []\n",
    "\n",
    "for i in tqdm(range(num_user)):\n",
    "    prediction = predictions[predictions['uid'] == i]\n",
    "    prediction = prediction.sort_values(by=['rating'],  ascending=False)\n",
    "    prediction = prediction[:n]\n",
    "#     print(prediction)\n",
    "    top_n_list = []\n",
    "    for _, row in prediction.iterrows():\n",
    "        top_n_list.append(row[1])\n",
    "#     print(top_n_list)\n",
    "    top_n_lists.append(top_n_list)"
   ]
  },
  {
   "cell_type": "code",
   "execution_count": 7,
   "metadata": {},
   "outputs": [
    {
     "data": {
      "application/vnd.jupyter.widget-view+json": {
       "model_id": "6941fe659a1e43f29ed4f563111ae404",
       "version_major": 2,
       "version_minor": 0
      },
      "text/plain": [
       "HBox(children=(HTML(value=''), FloatProgress(value=0.0, max=953.0), HTML(value='')))"
      ]
     },
     "metadata": {},
     "output_type": "display_data"
    },
    {
     "name": "stdout",
     "output_type": "stream",
     "text": [
      "\n",
      "0.20225603357817432\n"
     ]
    }
   ],
   "source": [
    "evaluation = []\n",
    "satisfication = 0\n",
    "for i in tqdm(range(num_user)):\n",
    "    top_n_list = top_n_lists[i]\n",
    "    precision = 0\n",
    "    for j in top_n_list:\n",
    "        p = test[test['uid'] == i]\n",
    "        p = p[p['tid']==j]\n",
    "        if len(p) > 0:\n",
    "            precision += 1\n",
    "    satisfication += precision / n\n",
    "    evaluation.append(precision)\n",
    "#     print(precision, satisfication)\n",
    "print(satisfication/num_user)"
   ]
  },
  {
   "cell_type": "code",
   "execution_count": 8,
   "metadata": {},
   "outputs": [],
   "source": [
    "precision_4 = []\n",
    "precision_20 = []\n",
    "precision_50 = []\n",
    "\n",
    "recall_4 = []\n",
    "recall_20 = []\n",
    "recall_50 = []"
   ]
  },
  {
   "cell_type": "code",
   "execution_count": 9,
   "metadata": {},
   "outputs": [
    {
     "data": {
      "application/vnd.jupyter.widget-view+json": {
       "model_id": "e96c67b11a7d48b686361f1078e9fde4",
       "version_major": 2,
       "version_minor": 0
      },
      "text/plain": [
       "HBox(children=(HTML(value=''), FloatProgress(value=0.0, max=9.0), HTML(value='')))"
      ]
     },
     "metadata": {},
     "output_type": "display_data"
    },
    {
     "name": "stdout",
     "output_type": "stream",
     "text": [
      "\n"
     ]
    },
    {
     "data": {
      "application/vnd.jupyter.widget-view+json": {
       "model_id": "1a2226f6fa60407a9370d36003c4f7e1",
       "version_major": 2,
       "version_minor": 0
      },
      "text/plain": [
       "HBox(children=(HTML(value=''), FloatProgress(value=0.0, max=3.0), HTML(value='')))"
      ]
     },
     "metadata": {},
     "output_type": "display_data"
    },
    {
     "name": "stdout",
     "output_type": "stream",
     "text": [
      "\n"
     ]
    }
   ],
   "source": [
    "# Precision and Recall\n",
    "top_n_size = 50\n",
    "top_n_lists_g = []\n",
    "for groups in tqdm(groups_n):\n",
    "\n",
    "    group_size = len(groups[0])\n",
    "    top_n_lists = []\n",
    "\n",
    "    for group in groups:\n",
    "        rating_table = pd.DataFrame() \n",
    "        for member in group:\n",
    "            prediction = predictions[predictions['uid'] == member].copy()\n",
    "            if len(rating_table) == 0:\n",
    "                rating_table = prediction\n",
    "            else:\n",
    "                rating_table = rating_table.set_index('tid').add(prediction.set_index('tid'), fill_value=0).reset_index()\n",
    "        rating_table['rating'] /= group_size \n",
    "\n",
    "        rating_table = rating_table.sort_values(by=['rating'],  ascending=False)\n",
    "        rating_table = rating_table[:top_n_size]\n",
    "        top_n_list = []\n",
    "        for _, row in rating_table.iterrows():\n",
    "            top_n_list.append(row[0])\n",
    "        top_n_lists.append(top_n_list)\n",
    "    top_n_lists_g.append(top_n_lists)   \n",
    "\n",
    "threshold = 0.0\n",
    "for top_n_size in tqdm([50, 20, 4]):\n",
    "    avg_precisions = []\n",
    "    avg_recalls = []\n",
    "    for i in range(len(groups_n)):\n",
    "        groups = groups_n[i]\n",
    "        top_n_lists = top_n_lists_g[i]\n",
    "\n",
    "        precisions = []\n",
    "        recalls =[]\n",
    "        for j in (range(len(groups))):\n",
    "\n",
    "            group = groups[j]\n",
    "            top_n_list = top_n_lists[j][:top_n_size]\n",
    "            \n",
    "            \n",
    "            for k in range(len(group)):\n",
    "                high_rating = 0\n",
    "                for l in range(top_n_size):\n",
    "                    uid = group[k]\n",
    "                    tid = top_n_list[l]\n",
    "                    t = test[test['uid'] == uid]\n",
    "                    t = t[t['tid'] == tid]\n",
    "                    if len(t) > 0 and t.iloc[0]['rating'] > threshold:\n",
    "                        high_rating += 1\n",
    "                        \n",
    "                precision = high_rating / top_n_size\n",
    "                recall = high_rating / len(test[test['uid'] == uid])\n",
    "                precisions.append(precision)\n",
    "                recalls.append(recall)\n",
    "                \n",
    "        avg_precision = 0\n",
    "        for precision in precisions:\n",
    "            avg_precision += precision\n",
    "        avg_precision /= len(precisions)\n",
    "        avg_precisions.append(avg_precision)\n",
    "        \n",
    "        avg_recall = 0\n",
    "        for recall in recalls:\n",
    "            avg_recall += recall\n",
    "        avg_recall /= len(recalls)\n",
    "        avg_recalls.append(avg_recall)\n",
    "        \n",
    "    if top_n_size == 4:\n",
    "        precision_4.append(avg_precisions)\n",
    "    elif top_n_size == 20:\n",
    "        precision_20.append(avg_precisions)\n",
    "    elif top_n_size == 50:\n",
    "        precision_50.append(avg_precisions)\n",
    "        \n",
    "    if top_n_size == 4:\n",
    "        recall_4.append(avg_recalls)\n",
    "    elif top_n_size == 20:\n",
    "        recall_20.append(avg_recalls)\n",
    "    elif top_n_size == 50:\n",
    "        recall_50.append(avg_recalls)\n"
   ]
  },
  {
   "cell_type": "code",
   "execution_count": 10,
   "metadata": {},
   "outputs": [
    {
     "name": "stdout",
     "output_type": "stream",
     "text": [
      "[0.21686746987951808, 0.20390070921985815, 0.15086206896551724, 0.16136363636363638, 0.15833333333333333, 0.15773809523809523, 0.2, 0.1736111111111111, 0.17916666666666667]\n",
      "[0.16385542168674713, 0.1432624113475178, 0.12758620689655173, 0.12681818181818189, 0.11222222222222222, 0.11130952380952379, 0.11125, 0.1111111111111111, 0.12166666666666666]\n",
      "[0.13289156626506013, 0.12170212765957435, 0.11172413793103442, 0.1019999999999999, 0.10155555555555543, 0.09190476190476188, 0.09099999999999994, 0.08944444444444438, 0.08966666666666664]\n",
      "[0.001619628797467798, 0.0013996793894849335, 0.0011046156813401963, 0.0013139792422374392, 0.0014316765635236036, 0.0010447168584341077, 0.0016220712150045434, 0.0017167053756327823, 0.0016531569974731185]\n",
      "[0.006098042071674393, 0.005601658446345695, 0.0051142732803318765, 0.005248144130521653, 0.004916521993972821, 0.005429053239236008, 0.004564844365175286, 0.005071432975940561, 0.00497440735595704]\n",
      "[0.012342961690035697, 0.011212453927541449, 0.010800204690346189, 0.0096350658038414, 0.01128379629793291, 0.010431771294226141, 0.009417600827138793, 0.009110768468603246, 0.008971218573489061]\n"
     ]
    }
   ],
   "source": [
    "for i in precision_4:\n",
    "    print(i)\n",
    "\n",
    "for i in precision_20:\n",
    "    print(i)\n",
    "\n",
    "for i in precision_50:\n",
    "    print(i)\n",
    "\n",
    "for i in recall_4:\n",
    "    print(i)\n",
    "\n",
    "for i in recall_20:\n",
    "    print(i)\n",
    "\n",
    "for i in recall_50:\n",
    "    print(i)"
   ]
  },
  {
   "cell_type": "code",
   "execution_count": 11,
   "metadata": {},
   "outputs": [],
   "source": [
    "def dcg_at_k(r, k, method=0):\n",
    "    r = np.asfarray(r)[:k]\n",
    "    for i in range(len(r)):\n",
    "        r[i] = 2**r[i] -1\n",
    "    \n",
    "    if r.size:\n",
    "        if method == 0:\n",
    "            return r[0] + np.sum(r[1:] / np.log2(np.arange(2, r.size + 1)))\n",
    "        elif method == 1:\n",
    "            return np.sum(r / np.log2(np.arange(2, r.size + 2)))\n",
    "        else:\n",
    "            raise ValueError('method must be 0 or 1.')\n",
    "    return 0.\n",
    "\n",
    "\n",
    "def ndcg_at_k(r, r_max, k, method=0):\n",
    "    dcg_max = dcg_at_k(r_max, k, method)\n",
    "    if not dcg_max:\n",
    "        return 0.\n",
    "    return dcg_at_k(r, k, method) / dcg_max"
   ]
  },
  {
   "cell_type": "code",
   "execution_count": 12,
   "metadata": {},
   "outputs": [],
   "source": [
    "nDCG_4 = []\n",
    "nDCG_20 = []\n",
    "nDCG_50 = []"
   ]
  },
  {
   "cell_type": "code",
   "execution_count": 13,
   "metadata": {},
   "outputs": [
    {
     "data": {
      "application/vnd.jupyter.widget-view+json": {
       "model_id": "c47eedee89ec492194791f77b0999949",
       "version_major": 2,
       "version_minor": 0
      },
      "text/plain": [
       "HBox(children=(HTML(value=''), FloatProgress(value=0.0, max=9.0), HTML(value='')))"
      ]
     },
     "metadata": {},
     "output_type": "display_data"
    },
    {
     "name": "stdout",
     "output_type": "stream",
     "text": [
      "\n"
     ]
    },
    {
     "data": {
      "application/vnd.jupyter.widget-view+json": {
       "model_id": "6c3e4e1442cf43e783df3a46fe8ef3c9",
       "version_major": 2,
       "version_minor": 0
      },
      "text/plain": [
       "HBox(children=(HTML(value=''), FloatProgress(value=0.0, max=3.0), HTML(value='')))"
      ]
     },
     "metadata": {},
     "output_type": "display_data"
    },
    {
     "name": "stdout",
     "output_type": "stream",
     "text": [
      "\n"
     ]
    }
   ],
   "source": [
    "# Precision and Recall\n",
    "top_n_size = 50\n",
    "top_n_lists_g = []\n",
    "for groups in tqdm(groups_n):\n",
    "\n",
    "    group_size = len(groups[0])\n",
    "    top_n_lists = []\n",
    "\n",
    "    for group in groups:\n",
    "        rating_table = pd.DataFrame() \n",
    "        for member in group:\n",
    "            prediction = predictions[predictions['uid'] == member].copy()\n",
    "            if len(rating_table) == 0:\n",
    "                rating_table = prediction\n",
    "            else:\n",
    "                rating_table = rating_table.set_index('tid').add(prediction.set_index('tid'), fill_value=0).reset_index()\n",
    "        rating_table['rating'] /= group_size \n",
    "\n",
    "        rating_table = rating_table.sort_values(by=['rating'],  ascending=False)\n",
    "        rating_table = rating_table[:top_n_size]\n",
    "        top_n_list = []\n",
    "        for _, row in rating_table.iterrows():\n",
    "            top_n_list.append(row[0])\n",
    "        top_n_lists.append(top_n_list)\n",
    "    top_n_lists_g.append(top_n_lists)   \n",
    "\n",
    "threshold = 0.0\n",
    "for top_n_size in tqdm([50, 20, 4]):\n",
    "    avg_nDCGs = []\n",
    "    for i in range(len(groups_n)):\n",
    "        groups = groups_n[i]\n",
    "        top_n_lists = top_n_lists_g[i]\n",
    "\n",
    "        nDCGs = []\n",
    "        for j in (range(len(groups))):\n",
    "\n",
    "            group = groups[j]\n",
    "            top_n_list = top_n_lists[j][:top_n_size]\n",
    "            \n",
    "            \n",
    "            for k in range(len(group)):\n",
    "                truth_rating = []\n",
    "                uid = group[k]\n",
    "                for l in range(top_n_size):\n",
    "                    tid = top_n_list[l]\n",
    "                    t = test[test['uid'] == uid]\n",
    "                    t = t[t['tid'] == tid]\n",
    "                    \n",
    "                    if len(t) > 0:\n",
    "                        truth_rating.append(t.iloc[0]['rating'])\n",
    "                    else:\n",
    "                        truth_rating.append(0)\n",
    "                max_rating = test[test['uid']==uid].sort_values(by=['rating'],  ascending=False)['rating'].values[:top_n_size]\n",
    "                nDCG = ndcg_at_k(truth_rating, max_rating, top_n_size, method=1)\n",
    "                nDCGs.append(nDCG)                \n",
    "        avg_nDCG = 0\n",
    "        for nDCG in nDCGs:\n",
    "            avg_nDCG += nDCG\n",
    "        avg_nDCG /= len(nDCGs)\n",
    "        avg_nDCGs.append(avg_nDCG)\n",
    "        \n",
    "    if top_n_size == 4:\n",
    "        nDCG_4.append(avg_nDCGs)\n",
    "    elif top_n_size == 20:\n",
    "        nDCG_20.append(avg_nDCGs)\n",
    "    elif top_n_size == 50:\n",
    "        nDCG_50.append(avg_nDCGs)"
   ]
  },
  {
   "cell_type": "code",
   "execution_count": 14,
   "metadata": {},
   "outputs": [
    {
     "name": "stdout",
     "output_type": "stream",
     "text": [
      "[0.040655660483195855, 0.03476636527614594, 0.016865717991292255, 0.014158872190144417, 0.02751263391668501, 0.01660530253633658, 0.01515080658975465, 0.02591798843366751, 0.029444815924393828]\n",
      "[0.04192347755081453, 0.036339572729193526, 0.021523777897237667, 0.020049073990919705, 0.025533537999912388, 0.021141075070637356, 0.01835380404351632, 0.030351874724514456, 0.03240150153605157]\n",
      "[0.04504232141707047, 0.042235875968323566, 0.026408645268837277, 0.023333905109691903, 0.029130592394559143, 0.026545558163159743, 0.02056760636208795, 0.03137302432604147, 0.03363735020118452]\n"
     ]
    }
   ],
   "source": [
    "for i in nDCG_4:\n",
    "    print(i)\n",
    "\n",
    "for i in nDCG_20:\n",
    "    print(i)\n",
    "\n",
    "for i in nDCG_50:\n",
    "    print(i)"
   ]
  },
  {
   "cell_type": "code",
   "execution_count": null,
   "metadata": {},
   "outputs": [],
   "source": []
  },
  {
   "cell_type": "code",
   "execution_count": null,
   "metadata": {},
   "outputs": [],
   "source": []
  }
 ],
 "metadata": {
  "kernelspec": {
   "display_name": "Python 3",
   "language": "python",
   "name": "python3"
  },
  "language_info": {
   "codemirror_mode": {
    "name": "ipython",
    "version": 3
   },
   "file_extension": ".py",
   "mimetype": "text/x-python",
   "name": "python",
   "nbconvert_exporter": "python",
   "pygments_lexer": "ipython3",
   "version": "3.6.12"
  }
 },
 "nbformat": 4,
 "nbformat_minor": 4
}
