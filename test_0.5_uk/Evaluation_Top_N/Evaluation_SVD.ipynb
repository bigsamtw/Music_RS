{
 "cells": [
  {
   "cell_type": "code",
   "execution_count": 1,
   "metadata": {},
   "outputs": [],
   "source": [
    "import os \n",
    "import tqdm\n",
    "import math\n",
    "import random\n",
    "import numpy as np\n",
    "import pandas as pd\n",
    "from tqdm import tqdm_notebook\n",
    "from numpy import count_nonzero\n",
    "\n",
    "dir_ = '../data/'\n",
    "# file_name = 'normalized_filter_track_5_user_100.csv'\n",
    "file_name = 'normalized_to_rating_filter_track_5_user_100.csv'"
   ]
  },
  {
   "cell_type": "code",
   "execution_count": 2,
   "metadata": {},
   "outputs": [],
   "source": [
    "predictions = pd.read_pickle(os.path.join(dir_, 'prediction_svd_top_N_' + file_name[:-3] + 'pkl'))"
   ]
  },
  {
   "cell_type": "code",
   "execution_count": 3,
   "metadata": {},
   "outputs": [
    {
     "data": {
      "text/html": [
       "<div>\n",
       "<style scoped>\n",
       "    .dataframe tbody tr th:only-of-type {\n",
       "        vertical-align: middle;\n",
       "    }\n",
       "\n",
       "    .dataframe tbody tr th {\n",
       "        vertical-align: top;\n",
       "    }\n",
       "\n",
       "    .dataframe thead th {\n",
       "        text-align: right;\n",
       "    }\n",
       "</style>\n",
       "<table border=\"1\" class=\"dataframe\">\n",
       "  <thead>\n",
       "    <tr style=\"text-align: right;\">\n",
       "      <th></th>\n",
       "      <th>uid</th>\n",
       "      <th>tid</th>\n",
       "      <th>rating</th>\n",
       "    </tr>\n",
       "  </thead>\n",
       "  <tbody>\n",
       "    <tr>\n",
       "      <td>0</td>\n",
       "      <td>0.0</td>\n",
       "      <td>0.0</td>\n",
       "      <td>2.493650</td>\n",
       "    </tr>\n",
       "    <tr>\n",
       "      <td>1</td>\n",
       "      <td>0.0</td>\n",
       "      <td>6.0</td>\n",
       "      <td>2.333071</td>\n",
       "    </tr>\n",
       "    <tr>\n",
       "      <td>2</td>\n",
       "      <td>0.0</td>\n",
       "      <td>8.0</td>\n",
       "      <td>2.713340</td>\n",
       "    </tr>\n",
       "    <tr>\n",
       "      <td>3</td>\n",
       "      <td>0.0</td>\n",
       "      <td>9.0</td>\n",
       "      <td>1.949588</td>\n",
       "    </tr>\n",
       "    <tr>\n",
       "      <td>4</td>\n",
       "      <td>0.0</td>\n",
       "      <td>12.0</td>\n",
       "      <td>2.477737</td>\n",
       "    </tr>\n",
       "    <tr>\n",
       "      <td>...</td>\n",
       "      <td>...</td>\n",
       "      <td>...</td>\n",
       "      <td>...</td>\n",
       "    </tr>\n",
       "    <tr>\n",
       "      <td>11741994</td>\n",
       "      <td>219.0</td>\n",
       "      <td>54964.0</td>\n",
       "      <td>1.816855</td>\n",
       "    </tr>\n",
       "    <tr>\n",
       "      <td>11741995</td>\n",
       "      <td>219.0</td>\n",
       "      <td>54965.0</td>\n",
       "      <td>2.315346</td>\n",
       "    </tr>\n",
       "    <tr>\n",
       "      <td>11741996</td>\n",
       "      <td>219.0</td>\n",
       "      <td>54966.0</td>\n",
       "      <td>1.954432</td>\n",
       "    </tr>\n",
       "    <tr>\n",
       "      <td>11741997</td>\n",
       "      <td>219.0</td>\n",
       "      <td>54967.0</td>\n",
       "      <td>2.071366</td>\n",
       "    </tr>\n",
       "    <tr>\n",
       "      <td>11741998</td>\n",
       "      <td>219.0</td>\n",
       "      <td>54968.0</td>\n",
       "      <td>2.377146</td>\n",
       "    </tr>\n",
       "  </tbody>\n",
       "</table>\n",
       "<p>11741999 rows × 3 columns</p>\n",
       "</div>"
      ],
      "text/plain": [
       "            uid      tid    rating\n",
       "0           0.0      0.0  2.493650\n",
       "1           0.0      6.0  2.333071\n",
       "2           0.0      8.0  2.713340\n",
       "3           0.0      9.0  1.949588\n",
       "4           0.0     12.0  2.477737\n",
       "...         ...      ...       ...\n",
       "11741994  219.0  54964.0  1.816855\n",
       "11741995  219.0  54965.0  2.315346\n",
       "11741996  219.0  54966.0  1.954432\n",
       "11741997  219.0  54967.0  2.071366\n",
       "11741998  219.0  54968.0  2.377146\n",
       "\n",
       "[11741999 rows x 3 columns]"
      ]
     },
     "execution_count": 3,
     "metadata": {},
     "output_type": "execute_result"
    }
   ],
   "source": [
    "predictions"
   ]
  },
  {
   "cell_type": "code",
   "execution_count": 4,
   "metadata": {},
   "outputs": [
    {
     "data": {
      "text/html": [
       "<div>\n",
       "<style scoped>\n",
       "    .dataframe tbody tr th:only-of-type {\n",
       "        vertical-align: middle;\n",
       "    }\n",
       "\n",
       "    .dataframe tbody tr th {\n",
       "        vertical-align: top;\n",
       "    }\n",
       "\n",
       "    .dataframe thead th {\n",
       "        text-align: right;\n",
       "    }\n",
       "</style>\n",
       "<table border=\"1\" class=\"dataframe\">\n",
       "  <thead>\n",
       "    <tr style=\"text-align: right;\">\n",
       "      <th></th>\n",
       "      <th>uid</th>\n",
       "      <th>tid</th>\n",
       "      <th>rating</th>\n",
       "    </tr>\n",
       "  </thead>\n",
       "  <tbody>\n",
       "    <tr>\n",
       "      <td>4</td>\n",
       "      <td>0</td>\n",
       "      <td>0</td>\n",
       "      <td>4.75</td>\n",
       "    </tr>\n",
       "    <tr>\n",
       "      <td>10</td>\n",
       "      <td>0</td>\n",
       "      <td>6</td>\n",
       "      <td>1.50</td>\n",
       "    </tr>\n",
       "    <tr>\n",
       "      <td>13</td>\n",
       "      <td>0</td>\n",
       "      <td>8</td>\n",
       "      <td>1.50</td>\n",
       "    </tr>\n",
       "    <tr>\n",
       "      <td>14</td>\n",
       "      <td>0</td>\n",
       "      <td>9</td>\n",
       "      <td>0.25</td>\n",
       "    </tr>\n",
       "    <tr>\n",
       "      <td>20</td>\n",
       "      <td>0</td>\n",
       "      <td>12</td>\n",
       "      <td>0.25</td>\n",
       "    </tr>\n",
       "    <tr>\n",
       "      <td>...</td>\n",
       "      <td>...</td>\n",
       "      <td>...</td>\n",
       "      <td>...</td>\n",
       "    </tr>\n",
       "    <tr>\n",
       "      <td>1256895</td>\n",
       "      <td>219</td>\n",
       "      <td>54715</td>\n",
       "      <td>0.25</td>\n",
       "    </tr>\n",
       "    <tr>\n",
       "      <td>1256896</td>\n",
       "      <td>219</td>\n",
       "      <td>54718</td>\n",
       "      <td>0.25</td>\n",
       "    </tr>\n",
       "    <tr>\n",
       "      <td>1256949</td>\n",
       "      <td>219</td>\n",
       "      <td>54900</td>\n",
       "      <td>0.25</td>\n",
       "    </tr>\n",
       "    <tr>\n",
       "      <td>1256989</td>\n",
       "      <td>219</td>\n",
       "      <td>54958</td>\n",
       "      <td>0.25</td>\n",
       "    </tr>\n",
       "    <tr>\n",
       "      <td>1257021</td>\n",
       "      <td>219</td>\n",
       "      <td>54962</td>\n",
       "      <td>0.25</td>\n",
       "    </tr>\n",
       "  </tbody>\n",
       "</table>\n",
       "<p>351181 rows × 3 columns</p>\n",
       "</div>"
      ],
      "text/plain": [
       "         uid    tid  rating\n",
       "4          0      0    4.75\n",
       "10         0      6    1.50\n",
       "13         0      8    1.50\n",
       "14         0      9    0.25\n",
       "20         0     12    0.25\n",
       "...      ...    ...     ...\n",
       "1256895  219  54715    0.25\n",
       "1256896  219  54718    0.25\n",
       "1256949  219  54900    0.25\n",
       "1256989  219  54958    0.25\n",
       "1257021  219  54962    0.25\n",
       "\n",
       "[351181 rows x 3 columns]"
      ]
     },
     "execution_count": 4,
     "metadata": {},
     "output_type": "execute_result"
    }
   ],
   "source": [
    "test = pd.read_pickle(os.path.join(dir_, 'test_' + file_name[:-3] + 'pkl'))\n",
    "test.sort_values(by=['uid','tid'])"
   ]
  },
  {
   "cell_type": "code",
   "execution_count": 5,
   "metadata": {},
   "outputs": [
    {
     "data": {
      "text/plain": [
       "220"
      ]
     },
     "execution_count": 5,
     "metadata": {},
     "output_type": "execute_result"
    }
   ],
   "source": [
    "num_user = len(predictions['uid'].unique())\n",
    "num_user"
   ]
  },
  {
   "cell_type": "code",
   "execution_count": 6,
   "metadata": {},
   "outputs": [
    {
     "data": {
      "application/vnd.jupyter.widget-view+json": {
       "model_id": "7377736076df4426859edfe9fd16bcf2",
       "version_major": 2,
       "version_minor": 0
      },
      "text/plain": [
       "HBox(children=(IntProgress(value=0, max=220), HTML(value='')))"
      ]
     },
     "metadata": {},
     "output_type": "display_data"
    },
    {
     "name": "stdout",
     "output_type": "stream",
     "text": [
      "\n"
     ]
    }
   ],
   "source": [
    "# Personal Recommendation\n",
    "n=20\n",
    "top_n_lists = []\n",
    "\n",
    "for i in tqdm.tqdm_notebook(range(num_user)):\n",
    "    prediction = predictions[predictions['uid'] == i]\n",
    "    prediction = prediction.sort_values(by=['rating'],  ascending=False)\n",
    "    prediction = prediction[:n]\n",
    "    top_n_list = []\n",
    "    for _, row in prediction.iterrows():\n",
    "        top_n_list.append(row[1])\n",
    "    top_n_lists.append(top_n_list)"
   ]
  },
  {
   "cell_type": "code",
   "execution_count": 7,
   "metadata": {
    "scrolled": true
   },
   "outputs": [
    {
     "data": {
      "application/vnd.jupyter.widget-view+json": {
       "model_id": "35cb13c3fcb249948162114f0c081a0d",
       "version_major": 2,
       "version_minor": 0
      },
      "text/plain": [
       "HBox(children=(IntProgress(value=0, max=220), HTML(value='')))"
      ]
     },
     "metadata": {},
     "output_type": "display_data"
    },
    {
     "name": "stdout",
     "output_type": "stream",
     "text": [
      "\n",
      "0.14977272727272742\n"
     ]
    }
   ],
   "source": [
    "evaluation = []\n",
    "satisfication = 0\n",
    "for i in tqdm.tqdm_notebook(range(num_user)):\n",
    "    top_n_list = top_n_lists[i]\n",
    "    precision = 0\n",
    "    for j in top_n_list:\n",
    "        p = test[test['uid'] == i]\n",
    "        p = p[p['tid']==j]\n",
    "        if len(p) > 0:\n",
    "            precision += 1\n",
    "    satisfication += precision / n\n",
    "    evaluation.append(precision)\n",
    "#     print(precision, satisfication)\n",
    "print(satisfication/num_user)"
   ]
  },
  {
   "cell_type": "code",
   "execution_count": 268,
   "metadata": {},
   "outputs": [],
   "source": [
    "#############################################\n",
    "#                                           #\n",
    "#          Group Recommendation             #\n",
    "#                                           #\n",
    "#############################################"
   ]
  },
  {
   "cell_type": "code",
   "execution_count": 269,
   "metadata": {},
   "outputs": [],
   "source": [
    "#############################################\n",
    "#                                           #\n",
    "#          Group Recommendation (2)         #\n",
    "#                                           #\n",
    "#############################################"
   ]
  },
  {
   "cell_type": "code",
   "execution_count": 8,
   "metadata": {
    "scrolled": true
   },
   "outputs": [
    {
     "data": {
      "text/plain": [
       "array([32., 78.])"
      ]
     },
     "execution_count": 8,
     "metadata": {},
     "output_type": "execute_result"
    }
   ],
   "source": [
    "groups = np.loadtxt(os.path.join(dir_, 'groups_2_' + file_name), delimiter=',')\n",
    "group_size = len(groups[0])\n",
    "groups[0]"
   ]
  },
  {
   "cell_type": "code",
   "execution_count": 9,
   "metadata": {},
   "outputs": [],
   "source": [
    "def max_satisfaction(df):  \n",
    "    return max(df['rating_u1'], df['rating_u2'])\n",
    "\n",
    "def least_misery(df):\n",
    "    return min(df['rating_u1'], df['rating_u2'])"
   ]
  },
  {
   "cell_type": "code",
   "execution_count": 10,
   "metadata": {},
   "outputs": [
    {
     "data": {
      "application/vnd.jupyter.widget-view+json": {
       "model_id": "9f21319f62334b0dbf938bd0b48e3a30",
       "version_major": 2,
       "version_minor": 0
      },
      "text/plain": [
       "HBox(children=(IntProgress(value=0, max=110), HTML(value='')))"
      ]
     },
     "metadata": {},
     "output_type": "display_data"
    },
    {
     "name": "stdout",
     "output_type": "stream",
     "text": [
      "\n"
     ]
    }
   ],
   "source": [
    "# Prediction list of each group (2)\n",
    "n=4\n",
    "top_n_lists_g = []\n",
    "    \n",
    "for group in tqdm.tqdm_notebook(groups):\n",
    "    u1 = predictions[predictions['uid'] == group[0]]\n",
    "    u2 = predictions[predictions['uid'] == group[1]]\n",
    "\n",
    "    m = pd.merge(u1, u2, on=['tid'], how='inner', suffixes=['_u1','_u2'])\n",
    "    m = m[['tid', 'rating_u1','rating_u2']]\n",
    "    \n",
    "#   Average\n",
    "    m['rating'] = (m['rating_u1'] + m['rating_u2'])/2\n",
    "\n",
    "#   Max Satisfaction\n",
    "#     m['rating'] = m.apply(max_satisfaction, axis = 1)\n",
    "\n",
    "#   Least Misery\n",
    "#     m['rating'] = m.apply(least_misery, axis = 1)\n",
    "    \n",
    "    m = m[['tid', 'rating']]\n",
    "    m = m.sort_values(by=['rating'],  ascending=False)\n",
    "    m = m[:n]\n",
    "    top_n_list = []\n",
    "    for _, row in m.iterrows():\n",
    "        top_n_list.append(row[0])\n",
    "    top_n_lists_g.append(top_n_list)"
   ]
  },
  {
   "cell_type": "code",
   "execution_count": 26,
   "metadata": {
    "scrolled": true
   },
   "outputs": [
    {
     "data": {
      "application/vnd.jupyter.widget-view+json": {
       "model_id": "bfe8ec067d1d4841a2dcc3bb513dad20",
       "version_major": 2,
       "version_minor": 0
      },
      "text/plain": [
       "HBox(children=(IntProgress(value=0, max=110), HTML(value='')))"
      ]
     },
     "metadata": {},
     "output_type": "display_data"
    },
    {
     "name": "stdout",
     "output_type": "stream",
     "text": [
      "\n",
      "0.15251206827110922\n"
     ]
    }
   ],
   "source": [
    "evaluation = []\n",
    "satisfication = 0\n",
    "for i in tqdm.tqdm_notebook(range(num_user//group_size)):\n",
    "    group = groups[i]\n",
    "    top_n_list = top_n_lists_g[i]\n",
    "    precision = 0\n",
    "    for j in top_n_list:\n",
    "        t1 = test[test['uid'] == group[0]]\n",
    "        t2 = test[test['uid'] == group[1]]\n",
    "        \n",
    "        t1 = t1[t1['tid']==j]\n",
    "        t2 = t2[t2['tid']==j]\n",
    "\n",
    "        s = len(t1) + len(t2)\n",
    "        if s > 0:\n",
    "            rating = 3.0\n",
    "            high_rating = 0\n",
    "            high_rating_t1 = 0\n",
    "            high_rating_t2 = 0\n",
    "            if len(t1) > 0 and t1.iloc[0]['rating'] > rating:\n",
    "                high_rating +=1\n",
    "            if len(t2) > 0 and t2.iloc[0]['rating'] > rating:\n",
    "                high_rating +=1\n",
    "#             if high_rating > 0:\n",
    "#                 precision += 1\n",
    "            precision += math.log(high_rating+1,10)/math.log(len(group)+1,10)\n",
    "    satisfication += precision / n\n",
    "    evaluation.append(precision)\n",
    "#     print(precision, satisfication)\n",
    "print(satisfication/(num_user//group_size))"
   ]
  },
  {
   "cell_type": "code",
   "execution_count": 34,
   "metadata": {},
   "outputs": [
    {
     "data": {
      "application/vnd.jupyter.widget-view+json": {
       "model_id": "f4730a1850154751a88c81d7de9b0d52",
       "version_major": 2,
       "version_minor": 0
      },
      "text/plain": [
       "HBox(children=(IntProgress(value=0, max=110), HTML(value='')))"
      ]
     },
     "metadata": {},
     "output_type": "display_data"
    },
    {
     "name": "stdout",
     "output_type": "stream",
     "text": [
      "\n",
      "0.1197241849370243\n"
     ]
    }
   ],
   "source": [
    "# modified satisfaction\n",
    "satisfication = 0\n",
    "for i in tqdm.tqdm_notebook(range(num_user//group_size)):\n",
    "    group = groups[i]\n",
    "    top_n_list = top_n_lists_g[i]\n",
    "    satisfication_t = 0\n",
    "    satisfication_u = 0\n",
    "    high_rating_u1 = 0\n",
    "    high_rating_u2 = 0\n",
    "    for j in top_n_list:\n",
    "        t1 = test[test['uid'] == group[0]]\n",
    "        t2 = test[test['uid'] == group[1]]\n",
    "        \n",
    "        t1 = t1[t1['tid']==j]\n",
    "        t2 = t2[t2['tid']==j]\n",
    "\n",
    "        s = len(t1) + len(t2)\n",
    "        if s > 0:\n",
    "            rating = 4.0\n",
    "            high_rating = 0\n",
    "            if len(t1) > 0 and t1.iloc[0]['rating'] > rating:\n",
    "                high_rating +=1\n",
    "                high_rating_u1 += 1\n",
    "            if len(t2) > 0 and t2.iloc[0]['rating'] > rating:\n",
    "                high_rating +=1\n",
    "                high_rating_u2 += 1\n",
    "            satisfication_t += math.log(high_rating+1,10)/math.log(len(group)+1,10)\n",
    "    satisfication_u += math.log(high_rating_u1+1,10)/math.log(n+1,10)\n",
    "    satisfication_u += math.log(high_rating_u2+1,10)/math.log(n+1,10)\n",
    "\n",
    "    satisfication += 0.5 * satisfication_t / n\n",
    "    satisfication += 0.5 * satisfication_u / len(group)\n",
    "print(satisfication/(num_user//group_size))"
   ]
  },
  {
   "cell_type": "code",
   "execution_count": 210,
   "metadata": {},
   "outputs": [],
   "source": [
    "#############################################\n",
    "#                                           #\n",
    "#          Group Recommendation (4)         #\n",
    "#                                           #\n",
    "#############################################"
   ]
  },
  {
   "cell_type": "code",
   "execution_count": 37,
   "metadata": {},
   "outputs": [
    {
     "data": {
      "text/plain": [
       "array([ 16.,  69., 111., 129.])"
      ]
     },
     "execution_count": 37,
     "metadata": {},
     "output_type": "execute_result"
    }
   ],
   "source": [
    "groups = np.loadtxt(os.path.join(dir_, 'groups_4_' + file_name), delimiter=',')\n",
    "group_size = len(groups[0])\n",
    "groups[0]"
   ]
  },
  {
   "cell_type": "code",
   "execution_count": 38,
   "metadata": {},
   "outputs": [],
   "source": [
    "def max_satisfaction(df):  \n",
    "    return max(df['rating_u1'], df['rating_u2'], df['rating_u3'], df['rating_u4'])\n",
    "\n",
    "def least_misery(df):\n",
    "    return min(df['rating_u1'], df['rating_u2'], df['rating_u3'], df['rating_u4'])"
   ]
  },
  {
   "cell_type": "code",
   "execution_count": 39,
   "metadata": {},
   "outputs": [
    {
     "data": {
      "application/vnd.jupyter.widget-view+json": {
       "model_id": "4503c0214ea44640a5bd5aab100d360d",
       "version_major": 2,
       "version_minor": 0
      },
      "text/plain": [
       "HBox(children=(IntProgress(value=0, max=55), HTML(value='')))"
      ]
     },
     "metadata": {},
     "output_type": "display_data"
    },
    {
     "name": "stdout",
     "output_type": "stream",
     "text": [
      "\n"
     ]
    }
   ],
   "source": [
    "# Prediction list of each group (4)\n",
    "n=4\n",
    "top_n_lists_g = []\n",
    "    \n",
    "for group in tqdm.tqdm_notebook(groups):\n",
    "    u1 = predictions[predictions['uid'] == group[0]]\n",
    "    u2 = predictions[predictions['uid'] == group[1]]\n",
    "    u3 = predictions[predictions['uid'] == group[2]]\n",
    "    u4 = predictions[predictions['uid'] == group[3]]\n",
    "    \n",
    "    m = pd.merge(u1, u2, on=['tid'], how='inner', suffixes=['_u1','_u2'])\n",
    "    m = pd.merge(m,  u3, on=['tid'], how='inner', suffixes=['','_u3'])\n",
    "    m = pd.merge(m,  u4, on=['tid'], how='inner', suffixes=['_u3','_u4'])\n",
    "    m = m[['tid', 'rating_u1','rating_u2','rating_u3','rating_u4']]\n",
    "#     Average\n",
    "    m['rating'] = (m['rating_u1'] + m['rating_u2'] + m['rating_u3'] + m['rating_u4'])/4\n",
    "\n",
    "#   Max Satisfaction\n",
    "#     m['rating'] = m.apply(max_satisfaction, axis = 1)\n",
    "\n",
    "#   Least Misery\n",
    "#     m['rating'] = m.apply(least_misery, axis = 1)\n",
    "    \n",
    "    m = m[['tid', 'rating']]\n",
    "    m = m.sort_values(by=['rating'],  ascending=False)\n",
    "    m = m[:n]\n",
    "    top_n_list = []\n",
    "    for _, row in m.iterrows():\n",
    "        top_n_list.append(row[0])\n",
    "    top_n_lists_g.append(top_n_list)"
   ]
  },
  {
   "cell_type": "code",
   "execution_count": 42,
   "metadata": {},
   "outputs": [
    {
     "data": {
      "application/vnd.jupyter.widget-view+json": {
       "model_id": "c718a413e1a1486f85431c3a0907e99f",
       "version_major": 2,
       "version_minor": 0
      },
      "text/plain": [
       "HBox(children=(IntProgress(value=0, max=55), HTML(value='')))"
      ]
     },
     "metadata": {},
     "output_type": "display_data"
    },
    {
     "name": "stdout",
     "output_type": "stream",
     "text": [
      "\n",
      "0.2489600415656076\n"
     ]
    }
   ],
   "source": [
    "satisfication = 0\n",
    "for i in tqdm.tqdm_notebook(range(num_user//group_size)):\n",
    "    group = groups[i]\n",
    "    top_n_list = top_n_lists_g[i]\n",
    "    precision = 0\n",
    "    for j in top_n_list:\n",
    "        t1 = test[test['uid'] == group[0]]\n",
    "        t2 = test[test['uid'] == group[1]]\n",
    "        t3 = test[test['uid'] == group[2]]\n",
    "        t4 = test[test['uid'] == group[3]]\n",
    "        \n",
    "        t1 = t1[t1['tid']==j]\n",
    "        t2 = t2[t2['tid']==j]\n",
    "        t3 = t3[t3['tid']==j]\n",
    "        t4 = t4[t4['tid']==j]\n",
    "        s = len(t1) + len(t2) + len(t3) + len(t4)\n",
    "        if s > 0:\n",
    "            rating = 1.0\n",
    "            high_rating = 0\n",
    "            if len(t1) > 0 and t1.iloc[0]['rating'] > rating:\n",
    "                high_rating +=1\n",
    "            if len(t2) > 0 and t2.iloc[0]['rating'] > rating:\n",
    "                high_rating +=1\n",
    "            if len(t3) > 0 and t3.iloc[0]['rating'] > rating:\n",
    "                high_rating +=1\n",
    "            if len(t4) > 0 and t4.iloc[0]['rating'] > rating:\n",
    "                high_rating +=1\n",
    "#             if high_rating > 0:\n",
    "#                 precision += 1\n",
    "            precision += math.log(high_rating+1,10)/math.log(len(group)+1,10)\n",
    "    satisfication += precision / n\n",
    "print(satisfication/(num_user//group_size))"
   ]
  },
  {
   "cell_type": "code",
   "execution_count": 46,
   "metadata": {
    "scrolled": true
   },
   "outputs": [
    {
     "data": {
      "application/vnd.jupyter.widget-view+json": {
       "model_id": "aefec23126994f2fbcc438ce879f1bc8",
       "version_major": 2,
       "version_minor": 0
      },
      "text/plain": [
       "HBox(children=(IntProgress(value=0, max=55), HTML(value='')))"
      ]
     },
     "metadata": {},
     "output_type": "display_data"
    },
    {
     "name": "stdout",
     "output_type": "stream",
     "text": [
      "\n",
      "0.14758117494863116\n"
     ]
    }
   ],
   "source": [
    "# modified satisfaction\n",
    "satisfication = 0\n",
    "for i in tqdm.tqdm_notebook(range(num_user//group_size)):\n",
    "    group = groups[i]\n",
    "    top_n_list = top_n_lists_g[i]\n",
    "    satisfication_t = 0\n",
    "    satisfication_u = 0\n",
    "    high_rating_u1 = 0\n",
    "    high_rating_u2 = 0\n",
    "    high_rating_u3 = 0\n",
    "    high_rating_u4 = 0\n",
    "    for j in top_n_list:\n",
    "        t1 = test[test['uid'] == group[0]]\n",
    "        t2 = test[test['uid'] == group[1]]\n",
    "        t3 = test[test['uid'] == group[2]]\n",
    "        t4 = test[test['uid'] == group[3]]\n",
    "        \n",
    "        t1 = t1[t1['tid']==j]\n",
    "        t2 = t2[t2['tid']==j]\n",
    "        t3 = t3[t3['tid']==j]\n",
    "        t4 = t4[t4['tid']==j]\n",
    "        s = len(t1) + len(t2) + len(t3) + len(t4)\n",
    "        if s > 0:\n",
    "            rating = 4.0\n",
    "            high_rating = 0\n",
    "            if len(t1) > 0 and t1.iloc[0]['rating'] > rating:\n",
    "                high_rating +=1\n",
    "                high_rating_u1 += 1\n",
    "            if len(t2) > 0 and t2.iloc[0]['rating'] > rating:\n",
    "                high_rating +=1\n",
    "                high_rating_u2 += 1\n",
    "            if len(t3) > 0 and t3.iloc[0]['rating'] > rating:\n",
    "                high_rating +=1\n",
    "                high_rating_u3 += 1\n",
    "            if len(t4) > 0 and t4.iloc[0]['rating'] > rating:\n",
    "                high_rating +=1\n",
    "                high_rating_u4 += 1\n",
    "            satisfication_t += math.log(high_rating+1,10)/math.log(len(group)+1,10)\n",
    "    satisfication_u += math.log(high_rating_u1+1,10)/math.log(n+1,10)\n",
    "    satisfication_u += math.log(high_rating_u2+1,10)/math.log(n+1,10)\n",
    "    satisfication_u += math.log(high_rating_u3+1,10)/math.log(n+1,10)\n",
    "    satisfication_u += math.log(high_rating_u4+1,10)/math.log(n+1,10)\n",
    "    satisfication += 0.5 * satisfication_t / n\n",
    "    satisfication += 0.5 * satisfication_u / len(group)\n",
    "print(satisfication/(num_user//group_size))"
   ]
  },
  {
   "cell_type": "code",
   "execution_count": 121,
   "metadata": {},
   "outputs": [],
   "source": [
    "#############################################\n",
    "#                                           #\n",
    "#          Group Recommendation (5)         #\n",
    "#                                           #\n",
    "#############################################"
   ]
  },
  {
   "cell_type": "code",
   "execution_count": 48,
   "metadata": {},
   "outputs": [
    {
     "data": {
      "text/plain": [
       "array([ 11.,  23., 107., 122., 141.])"
      ]
     },
     "execution_count": 48,
     "metadata": {},
     "output_type": "execute_result"
    }
   ],
   "source": [
    "groups = np.loadtxt(os.path.join(dir_, 'groups_5_' + file_name), delimiter=',')\n",
    "group_size = len(groups[0])\n",
    "groups[0]"
   ]
  },
  {
   "cell_type": "code",
   "execution_count": 49,
   "metadata": {},
   "outputs": [],
   "source": [
    "def max_satisfaction(df):  \n",
    "    return max(df['rating_u1'], df['rating_u2'], df['rating_u3'], df['rating_u4'], df['rating_u5'])\n",
    "\n",
    "def least_misery(df):\n",
    "    return min(df['rating_u1'], df['rating_u2'], df['rating_u3'], df['rating_u4'], df['rating_u5'])"
   ]
  },
  {
   "cell_type": "code",
   "execution_count": 50,
   "metadata": {},
   "outputs": [
    {
     "data": {
      "application/vnd.jupyter.widget-view+json": {
       "model_id": "33a164f4cdbb40c9a2913e53fced0b42",
       "version_major": 2,
       "version_minor": 0
      },
      "text/plain": [
       "HBox(children=(IntProgress(value=0, max=44), HTML(value='')))"
      ]
     },
     "metadata": {},
     "output_type": "display_data"
    },
    {
     "name": "stdout",
     "output_type": "stream",
     "text": [
      "\n"
     ]
    }
   ],
   "source": [
    "# Prediction list of each group (5)\n",
    "n=4\n",
    "top_n_lists_g = []\n",
    "    \n",
    "for group in tqdm.tqdm_notebook(groups):\n",
    "    u1 = predictions[predictions['uid'] == group[0]]\n",
    "    u2 = predictions[predictions['uid'] == group[1]]\n",
    "    u3 = predictions[predictions['uid'] == group[2]]\n",
    "    u4 = predictions[predictions['uid'] == group[3]]\n",
    "    u5 = predictions[predictions['uid'] == group[4]]\n",
    "\n",
    "    m = pd.merge(u1, u2, on=['tid'], how='inner', suffixes=['_u1','_u2'])\n",
    "    m = pd.merge(m,  u3, on=['tid'], how='inner', suffixes=['','_u3'])\n",
    "    m = pd.merge(m,  u4, on=['tid'], how='inner', suffixes=['','_u4'])\n",
    "    m = pd.merge(m,  u5, on=['tid'], how='inner', suffixes=['_u3','_u5'])\n",
    "    m = m[['tid', 'rating_u1','rating_u2','rating_u3','rating_u4','rating_u5']]\n",
    "#     Average\n",
    "    m['rating'] = (m['rating_u1'] + m['rating_u2'] + m['rating_u3'] + m['rating_u4'] + m['rating_u5'])/5\n",
    "    \n",
    "#     Max Satisfaction\n",
    "#     m['rating'] = m.apply(max_satisfaction, axis = 1)\n",
    "    \n",
    "#     Least Misery\n",
    "#     m['rating'] = m.apply(least_misery, axis = 1)\n",
    "    \n",
    "    m = m[['tid', 'rating']]\n",
    "    m = m.sort_values(by=['rating'],  ascending=False)\n",
    "    m = m[:n]\n",
    "    top_n_list = []\n",
    "    for _, row in m.iterrows():\n",
    "        top_n_list.append(row[0])\n",
    "    top_n_lists_g.append(top_n_list)"
   ]
  },
  {
   "cell_type": "code",
   "execution_count": 51,
   "metadata": {
    "scrolled": true
   },
   "outputs": [
    {
     "data": {
      "application/vnd.jupyter.widget-view+json": {
       "model_id": "14d2d6bce19140f8a52d674a0745adb2",
       "version_major": 2,
       "version_minor": 0
      },
      "text/plain": [
       "HBox(children=(IntProgress(value=0, max=44), HTML(value='')))"
      ]
     },
     "metadata": {},
     "output_type": "display_data"
    },
    {
     "name": "stdout",
     "output_type": "stream",
     "text": [
      "\n",
      "0.5965909090909091\n"
     ]
    }
   ],
   "source": [
    "evaluation = []\n",
    "satisfication = 0\n",
    "for i in tqdm.tqdm_notebook(range(num_user//group_size)):\n",
    "    group = groups[i]\n",
    "    top_n_list = top_n_lists_g[i]\n",
    "    precision = 0\n",
    "    for j in top_n_list:\n",
    "        t1 = test[test['uid'] == group[0]]\n",
    "        t2 = test[test['uid'] == group[1]]\n",
    "        t3 = test[test['uid'] == group[2]]\n",
    "        t4 = test[test['uid'] == group[3]]\n",
    "        t5 = test[test['uid'] == group[4]]\n",
    "        \n",
    "        t1 = t1[t1['tid']==j]\n",
    "        t2 = t2[t2['tid']==j]\n",
    "        t3 = t3[t3['tid']==j]\n",
    "        t4 = t4[t4['tid']==j]\n",
    "        t5 = t5[t5['tid']==j]\n",
    "        s = len(t1) + len(t2) + len(t3) + len(t4) + len(t5)\n",
    "        if s > 0:\n",
    "            rating = 1.0\n",
    "            high_rating = 0\n",
    "            if len(t1) > 0 and t1.iloc[0]['rating'] > rating:\n",
    "                high_rating +=1\n",
    "            if len(t2) > 0 and t2.iloc[0]['rating'] > rating:\n",
    "                high_rating +=1\n",
    "            if len(t3) > 0 and t3.iloc[0]['rating'] > rating:\n",
    "                high_rating +=1\n",
    "            if len(t4) > 0 and t4.iloc[0]['rating'] > rating:\n",
    "                high_rating +=1\n",
    "            if len(t5) > 0 and t5.iloc[0]['rating'] > rating:\n",
    "                high_rating +=1\n",
    "            if high_rating > 0:\n",
    "                precision += 1\n",
    "#             precision += math.log(high_rating+1,10)/math.log(len(group)+1,10)\n",
    "    satisfication += precision / n\n",
    "    evaluation.append(precision)\n",
    "#     print(precision, satisfication)\n",
    "print(satisfication/(num_user//group_size))"
   ]
  },
  {
   "cell_type": "code",
   "execution_count": 56,
   "metadata": {},
   "outputs": [
    {
     "data": {
      "application/vnd.jupyter.widget-view+json": {
       "model_id": "62003e36a4b64a0195250023428bdf68",
       "version_major": 2,
       "version_minor": 0
      },
      "text/plain": [
       "HBox(children=(IntProgress(value=0, max=44), HTML(value='')))"
      ]
     },
     "metadata": {},
     "output_type": "display_data"
    },
    {
     "name": "stdout",
     "output_type": "stream",
     "text": [
      "\n",
      "0.3328882965764399\n"
     ]
    }
   ],
   "source": [
    "# modified satisfaction\n",
    "satisfication = 0\n",
    "for i in tqdm.tqdm_notebook(range(num_user//group_size)):\n",
    "    group = groups[i]\n",
    "    top_n_list = top_n_lists_g[i]\n",
    "    satisfication_t = 0\n",
    "    satisfication_u = 0\n",
    "    high_rating_u1 = 0\n",
    "    high_rating_u2 = 0\n",
    "    high_rating_u3 = 0\n",
    "    high_rating_u4 = 0\n",
    "    high_rating_u5 = 0\n",
    "\n",
    "    for j in top_n_list:\n",
    "        t1 = test[test['uid'] == group[0]]\n",
    "        t2 = test[test['uid'] == group[1]]\n",
    "        t3 = test[test['uid'] == group[2]]\n",
    "        t4 = test[test['uid'] == group[3]]\n",
    "        t5 = test[test['uid'] == group[4]]\n",
    "        \n",
    "        t1 = t1[t1['tid']==j]\n",
    "        t2 = t2[t2['tid']==j]\n",
    "        t3 = t3[t3['tid']==j]\n",
    "        t4 = t4[t4['tid']==j]\n",
    "        t5 = t5[t5['tid']==j]\n",
    "\n",
    "        s = len(t1) + len(t2) + len(t3) + len(t4) + len(t5)\n",
    "        if s > 0:\n",
    "            rating = 0.0\n",
    "            high_rating = 0\n",
    "            if len(t1) > 0 and t1.iloc[0]['rating'] > rating:\n",
    "                high_rating +=1\n",
    "                high_rating_u1 += 1\n",
    "            if len(t2) > 0 and t2.iloc[0]['rating'] > rating:\n",
    "                high_rating +=1\n",
    "                high_rating_u2 += 1\n",
    "            if len(t3) > 0 and t3.iloc[0]['rating'] > rating:\n",
    "                high_rating +=1\n",
    "                high_rating_u3 += 1\n",
    "            if len(t4) > 0 and t4.iloc[0]['rating'] > rating:\n",
    "                high_rating +=1\n",
    "                high_rating_u4 += 1\n",
    "            if len(t5) > 0 and t5.iloc[0]['rating'] > rating:\n",
    "                high_rating +=1\n",
    "                high_rating_u5 += 1                \n",
    "            satisfication_t += math.log(high_rating+1,10)/math.log(len(group)+1,10)\n",
    "    satisfication_u += math.log(high_rating_u1+1,10)/math.log(n+1,10)\n",
    "    satisfication_u += math.log(high_rating_u2+1,10)/math.log(n+1,10)\n",
    "    satisfication_u += math.log(high_rating_u3+1,10)/math.log(n+1,10)\n",
    "    satisfication_u += math.log(high_rating_u4+1,10)/math.log(n+1,10)\n",
    "    satisfication_u += math.log(high_rating_u5+1,10)/math.log(n+1,10)\n",
    "    satisfication += 0.5 * satisfication_t / n\n",
    "    satisfication += 0.5 * satisfication_u / len(group)\n",
    "print(satisfication/(num_user//group_size))"
   ]
  },
  {
   "cell_type": "code",
   "execution_count": null,
   "metadata": {},
   "outputs": [],
   "source": [
    "#############################################\n",
    "#                                           #\n",
    "#          Group Recommendation (10)        #\n",
    "#                                           #\n",
    "#############################################"
   ]
  },
  {
   "cell_type": "code",
   "execution_count": 58,
   "metadata": {},
   "outputs": [
    {
     "data": {
      "text/plain": [
       "array([ 17.,  58.,  73., 104., 112., 164., 207., 214., 218., 219.])"
      ]
     },
     "execution_count": 58,
     "metadata": {},
     "output_type": "execute_result"
    }
   ],
   "source": [
    "# np.savetxt(os.path.join(dir_, 'groups_10_' + file_name[:-3] + 'csv'), groups, delimiter=\",\")\n",
    "groups = np.loadtxt(os.path.join(dir_, 'groups_10_' + file_name), delimiter=',')\n",
    "group_size = len(groups[0])\n",
    "groups[0]"
   ]
  },
  {
   "cell_type": "code",
   "execution_count": 59,
   "metadata": {},
   "outputs": [],
   "source": [
    "def max_satisfaction(df):  \n",
    "    return max(df['rating_u1'], df['rating_u2'], df['rating_u3'], df['rating_u4'], df['rating_u5'], df['rating_u6'], df['rating_u7'], df['rating_u8'], df['rating_u9'], df['rating_u10'])\n",
    "\n",
    "def least_misery(df):  \n",
    "    return max(df['rating_u1'], df['rating_u2'], df['rating_u3'], df['rating_u4'], df['rating_u5'], df['rating_u6'], df['rating_u7'], df['rating_u8'], df['rating_u9'], df['rating_u10'])"
   ]
  },
  {
   "cell_type": "code",
   "execution_count": 60,
   "metadata": {},
   "outputs": [
    {
     "data": {
      "application/vnd.jupyter.widget-view+json": {
       "model_id": "49344e96a2e0409296f8059b8b080941",
       "version_major": 2,
       "version_minor": 0
      },
      "text/plain": [
       "HBox(children=(IntProgress(value=0, max=22), HTML(value='')))"
      ]
     },
     "metadata": {},
     "output_type": "display_data"
    },
    {
     "name": "stdout",
     "output_type": "stream",
     "text": [
      "\n"
     ]
    }
   ],
   "source": [
    "# Prediction list of each group (10)\n",
    "n=4\n",
    "top_n_lists_g = []\n",
    "    \n",
    "for group in tqdm.tqdm_notebook(groups):\n",
    "    u1 = predictions[predictions['uid'] == group[0]]\n",
    "    u2 = predictions[predictions['uid'] == group[1]]\n",
    "    u3 = predictions[predictions['uid'] == group[2]]\n",
    "    u4 = predictions[predictions['uid'] == group[3]]\n",
    "    u5 = predictions[predictions['uid'] == group[4]]\n",
    "    u6 = predictions[predictions['uid'] == group[5]]\n",
    "    u7 = predictions[predictions['uid'] == group[6]]\n",
    "    u8 = predictions[predictions['uid'] == group[7]]\n",
    "    u9 = predictions[predictions['uid'] == group[8]]\n",
    "    u10 = predictions[predictions['uid'] == group[9]]\n",
    "\n",
    "    m = pd.merge(u1, u2,  on=['tid'], how='inner', suffixes=['_u1','_u2'])\n",
    "    m = pd.merge(m,  u3,  on=['tid'], how='inner', suffixes=['','_u3'])\n",
    "    m = pd.merge(m,  u4,  on=['tid'], how='inner', suffixes=['','_u4'])\n",
    "    m = pd.merge(m,  u5,  on=['tid'], how='inner', suffixes=['','_u5'])\n",
    "    m = pd.merge(m,  u6,  on=['tid'], how='inner', suffixes=['','_u6'])\n",
    "    m = pd.merge(m,  u7,  on=['tid'], how='inner', suffixes=['','_u7'])\n",
    "    m = pd.merge(m,  u8,  on=['tid'], how='inner', suffixes=['','_u8'])\n",
    "    m = pd.merge(m,  u9,  on=['tid'], how='inner', suffixes=['','_u9'])\n",
    "    m = pd.merge(m,  u10, on=['tid'], how='inner', suffixes=['_u3','_u10'])\n",
    "    m = m[['tid', 'rating_u1','rating_u2','rating_u3','rating_u4','rating_u5', 'rating_u6','rating_u7','rating_u8','rating_u9','rating_u10']]\n",
    "\n",
    "#     Average\n",
    "    m['rating'] = (m['rating_u1'] + m['rating_u2'] + m['rating_u3'] + m['rating_u4'] + m['rating_u5'] + m['rating_u6'] + m['rating_u7'] + m['rating_u8'] + m['rating_u9'] + + m['rating_u10'])/10\n",
    "    \n",
    "#     Max Satisfaction\n",
    "#     m['rating'] = m.apply(max_satisfaction, axis = 1)\n",
    "    \n",
    "#     Least Misery\n",
    "#     m['rating'] = m.apply(least_misery, axis = 1)\n",
    "    \n",
    "    m = m[['tid', 'rating']]\n",
    "    m = m.sort_values(by=['rating'],  ascending=False)\n",
    "    m = m[:n]\n",
    "    top_n_list = []\n",
    "    for _, row in m.iterrows():\n",
    "        top_n_list.append(row[0])\n",
    "    top_n_lists_g.append(top_n_list)"
   ]
  },
  {
   "cell_type": "code",
   "execution_count": 162,
   "metadata": {},
   "outputs": [
    {
     "data": {
      "application/vnd.jupyter.widget-view+json": {
       "model_id": "c2f04dd9710a49d5988de35688d61b6f",
       "version_major": 2,
       "version_minor": 0
      },
      "text/plain": [
       "HBox(children=(IntProgress(value=0, max=22), HTML(value='')))"
      ]
     },
     "metadata": {},
     "output_type": "display_data"
    },
    {
     "name": "stdout",
     "output_type": "stream",
     "text": [
      "\n",
      "0.7159090909090909\n"
     ]
    }
   ],
   "source": [
    "evaluation = []\n",
    "satisfication = 0\n",
    "for i in tqdm.tqdm_notebook(range(num_user//group_size)):\n",
    "    group = groups[i]\n",
    "    top_n_list = top_n_lists_g[i]\n",
    "    precision = 0\n",
    "    for j in top_n_list:\n",
    "        t1 = test[test['uid'] == group[0]]\n",
    "        t2 = test[test['uid'] == group[1]]\n",
    "        t3 = test[test['uid'] == group[2]]\n",
    "        t4 = test[test['uid'] == group[3]]\n",
    "        t5 = test[test['uid'] == group[4]]\n",
    "        t6 = test[test['uid'] == group[5]]\n",
    "        t7 = test[test['uid'] == group[6]]\n",
    "        t8 = test[test['uid'] == group[7]]\n",
    "        t9 = test[test['uid'] == group[8]]\n",
    "        t10 = test[test['uid'] == group[9]]\n",
    "        \n",
    "        t1 = t1[t1['tid']==j]\n",
    "        t2 = t2[t2['tid']==j]\n",
    "        t3 = t3[t3['tid']==j]\n",
    "        t4 = t4[t4['tid']==j]\n",
    "        t5 = t5[t5['tid']==j]\n",
    "        t6 = t6[t6['tid']==j]\n",
    "        t7 = t7[t7['tid']==j]\n",
    "        t8 = t8[t8['tid']==j]\n",
    "        t9 = t9[t9['tid']==j]\n",
    "        t10 = t10[t10['tid']==j]\n",
    "        s = len(t1) + len(t2) + len(t3) + len(t4) + len(t5) + len(t6) + len(t7) + len(t8) + len(t9) + len(t10)\n",
    "        if s > 0:\n",
    "            rating = 1.0\n",
    "            high_rating = 0\n",
    "            if len(t1) > 0 and t1.iloc[0]['rating'] > rating:\n",
    "                high_rating +=1\n",
    "            if len(t2) > 0 and t2.iloc[0]['rating'] > rating:\n",
    "                high_rating +=1\n",
    "            if len(t3) > 0 and t3.iloc[0]['rating'] > rating:\n",
    "                high_rating +=1\n",
    "            if len(t4) > 0 and t4.iloc[0]['rating'] > rating:\n",
    "                high_rating +=1\n",
    "            if len(t5) > 0 and t5.iloc[0]['rating'] > rating:\n",
    "                high_rating +=1\n",
    "            if len(t6) > 0 and t6.iloc[0]['rating'] > rating:\n",
    "                high_rating +=1\n",
    "            if len(t7) > 0 and t7.iloc[0]['rating'] > rating:\n",
    "                high_rating +=1\n",
    "            if len(t8) > 0 and t8.iloc[0]['rating'] > rating:\n",
    "                high_rating +=1\n",
    "            if len(t9) > 0 and t9.iloc[0]['rating'] > rating:\n",
    "                high_rating +=1\n",
    "            if len(t10) > 0 and t10.iloc[0]['rating'] > rating:\n",
    "                high_rating +=1\n",
    "            if high_rating > 0:\n",
    "                precision += 1\n",
    "#             precision += math.log(high_rating+1,10)/math.log(len(group)+1,10)\n",
    "    satisfication += precision / n\n",
    "    evaluation.append(precision)\n",
    "#     print(precision, satisfication)\n",
    "print(satisfication/(num_user//group_size))"
   ]
  },
  {
   "cell_type": "code",
   "execution_count": 65,
   "metadata": {},
   "outputs": [
    {
     "data": {
      "application/vnd.jupyter.widget-view+json": {
       "model_id": "6982e8baa2f94003bd1e14e636940dda",
       "version_major": 2,
       "version_minor": 0
      },
      "text/plain": [
       "HBox(children=(IntProgress(value=0, max=22), HTML(value='')))"
      ]
     },
     "metadata": {},
     "output_type": "display_data"
    },
    {
     "name": "stdout",
     "output_type": "stream",
     "text": [
      "\n",
      "0.1695292296740876\n"
     ]
    }
   ],
   "source": [
    "# modified satisfaction\n",
    "satisfication = 0\n",
    "for i in tqdm.tqdm_notebook(range(num_user//group_size)):\n",
    "    group = groups[i]\n",
    "    top_n_list = top_n_lists_g[i]\n",
    "    satisfication_t = 0\n",
    "    satisfication_u = 0\n",
    "    high_rating_u1 = 0\n",
    "    high_rating_u2 = 0\n",
    "    high_rating_u3 = 0\n",
    "    high_rating_u4 = 0\n",
    "    high_rating_u5 = 0\n",
    "    high_rating_u6 = 0\n",
    "    high_rating_u7 = 0\n",
    "    high_rating_u8 = 0\n",
    "    high_rating_u9 = 0\n",
    "    high_rating_u10 = 0\n",
    "\n",
    "    for j in top_n_list:\n",
    "        t1 = test[test['uid'] == group[0]]\n",
    "        t2 = test[test['uid'] == group[1]]\n",
    "        t3 = test[test['uid'] == group[2]]\n",
    "        t4 = test[test['uid'] == group[3]]\n",
    "        t5 = test[test['uid'] == group[4]]\n",
    "        t6 = test[test['uid'] == group[5]]\n",
    "        t7 = test[test['uid'] == group[6]]\n",
    "        t8 = test[test['uid'] == group[7]]\n",
    "        t9 = test[test['uid'] == group[8]]\n",
    "        t10 = test[test['uid'] == group[9]]\n",
    "        \n",
    "        t1 = t1[t1['tid']==j]\n",
    "        t2 = t2[t2['tid']==j]\n",
    "        t3 = t3[t3['tid']==j]\n",
    "        t4 = t4[t4['tid']==j]\n",
    "        t5 = t5[t5['tid']==j]\n",
    "        t6 = t6[t6['tid']==j]\n",
    "        t7 = t7[t7['tid']==j]\n",
    "        t8 = t8[t8['tid']==j]\n",
    "        t9 = t9[t9['tid']==j]\n",
    "        t10 = t10[t10['tid']==j]\n",
    "        \n",
    "        s = len(t1) + len(t2) + len(t3) + len(t4) + len(t5) + len(t6) + len(t7) + len(t8) + len(t9) + len(t10)\n",
    "        if s > 0:\n",
    "            rating = 4.0\n",
    "            high_rating = 0\n",
    "            if len(t1) > 0 and t1.iloc[0]['rating'] > rating:\n",
    "                high_rating +=1\n",
    "                high_rating_u1 += 1\n",
    "            if len(t2) > 0 and t2.iloc[0]['rating'] > rating:\n",
    "                high_rating +=1\n",
    "                high_rating_u2 += 1\n",
    "            if len(t3) > 0 and t3.iloc[0]['rating'] > rating:\n",
    "                high_rating +=1\n",
    "                high_rating_u3 += 1\n",
    "            if len(t4) > 0 and t4.iloc[0]['rating'] > rating:\n",
    "                high_rating +=1\n",
    "                high_rating_u4 += 1\n",
    "            if len(t5) > 0 and t5.iloc[0]['rating'] > rating:\n",
    "                high_rating +=1\n",
    "                high_rating_u5 += 1  \n",
    "            if len(t6) > 0 and t6.iloc[0]['rating'] > rating:\n",
    "                high_rating +=1\n",
    "                high_rating_u6 += 1  \n",
    "            if len(t7) > 0 and t7.iloc[0]['rating'] > rating:\n",
    "                high_rating +=1\n",
    "                high_rating_u7 += 1  \n",
    "            if len(t8) > 0 and t8.iloc[0]['rating'] > rating:\n",
    "                high_rating +=1\n",
    "                high_rating_u8 += 1  \n",
    "            if len(t9) > 0 and t9.iloc[0]['rating'] > rating:\n",
    "                high_rating +=1\n",
    "                high_rating_u9 += 1  \n",
    "            if len(t10) > 0 and t10.iloc[0]['rating'] > rating:\n",
    "                high_rating +=1\n",
    "                high_rating_u10 += 1  \n",
    "            satisfication_t += math.log(high_rating+1,10)/math.log(len(group)+1,10)\n",
    "    satisfication_u += math.log(high_rating_u1+1,10)/math.log(n+1,10)\n",
    "    satisfication_u += math.log(high_rating_u2+1,10)/math.log(n+1,10)\n",
    "    satisfication_u += math.log(high_rating_u3+1,10)/math.log(n+1,10)\n",
    "    satisfication_u += math.log(high_rating_u4+1,10)/math.log(n+1,10)\n",
    "    satisfication_u += math.log(high_rating_u5+1,10)/math.log(n+1,10)\n",
    "    satisfication_u += math.log(high_rating_u6+1,10)/math.log(n+1,10)\n",
    "    satisfication_u += math.log(high_rating_u7+1,10)/math.log(n+1,10)\n",
    "    satisfication_u += math.log(high_rating_u8+1,10)/math.log(n+1,10)\n",
    "    satisfication_u += math.log(high_rating_u9+1,10)/math.log(n+1,10)\n",
    "    satisfication_u += math.log(high_rating_u10+1,10)/math.log(n+1,10)\n",
    "    satisfication += 0.5 * satisfication_t / n\n",
    "    satisfication += 0.5 * satisfication_u / len(group)\n",
    "print(satisfication/(num_user//group_size))"
   ]
  },
  {
   "cell_type": "code",
   "execution_count": 326,
   "metadata": {
    "scrolled": true
   },
   "outputs": [
    {
     "data": {
      "text/plain": [
       "[[28, 51, 73, 87, 99, 113, 117, 118, 136, 137],\n",
       " [10, 13, 20, 21, 39, 50, 110, 119, 128, 177],\n",
       " [16, 32, 58, 77, 88, 127, 159, 179, 183, 189],\n",
       " [2, 3, 7, 29, 30, 34, 36, 47, 57, 66],\n",
       " [6, 68, 76, 98, 103, 120, 125, 139, 157, 172],\n",
       " [44, 75, 121, 173, 196, 203, 206, 207, 209, 210],\n",
       " [0, 9, 65, 67, 70, 104, 106, 144, 150, 156],\n",
       " [4, 27, 40, 56, 74, 83, 91, 97, 100, 105],\n",
       " [17, 18, 24, 37, 46, 146, 149, 175, 176, 192],\n",
       " [22, 60, 80, 81, 131, 133, 135, 138, 155, 164],\n",
       " [25, 26, 33, 49, 130, 171, 184, 194, 197, 200],\n",
       " [14, 41, 52, 62, 63, 64, 84, 86, 102, 108],\n",
       " [61, 71, 90, 116, 129, 132, 165, 185, 190, 195],\n",
       " [38, 45, 85, 93, 140, 147, 161, 181, 191, 198],\n",
       " [12, 42, 89, 92, 96, 107, 142, 188, 205, 208],\n",
       " [43, 53, 101, 112, 126, 152, 163, 182, 186, 187],\n",
       " [1, 19, 23, 48, 78, 115, 123, 145, 148, 167],\n",
       " [35, 54, 55, 69, 109, 124, 141, 153, 158, 170],\n",
       " [15, 31, 82, 95, 151, 193, 199, 201, 202, 204],\n",
       " [5, 79, 134, 143, 160, 162, 166, 168, 178, 180],\n",
       " [8, 11, 59, 94, 111, 114, 122, 154, 169, 174]]"
      ]
     },
     "execution_count": 326,
     "metadata": {},
     "output_type": "execute_result"
    }
   ],
   "source": [
    "groups = []\n",
    "group_size = 10\n",
    "\n",
    "u_del = []\n",
    "num_u_del = num_user - (num_user//group_size)*group_size\n",
    "\n",
    "for i in range(num_u_del):\n",
    "    u = random.random()*num_user//1\n",
    "    u_del.append(u)\n",
    "\n",
    "for i in range(num_user//group_size):\n",
    "    groups.append([])\n",
    "    \n",
    "for i in range(num_user):\n",
    "    b = True\n",
    "    \n",
    "    if i in u_del:\n",
    "        b = False\n",
    "        \n",
    "    while b:\n",
    "        g = random.random()*(num_user/group_size)//1\n",
    "        if int(g) < len(groups):\n",
    "            group = groups[int(g)]\n",
    "            if len(group) < group_size:\n",
    "                group.append(i)\n",
    "                b = False\n",
    "groups"
   ]
  },
  {
   "cell_type": "code",
   "execution_count": 327,
   "metadata": {},
   "outputs": [
    {
     "name": "stdout",
     "output_type": "stream",
     "text": [
      "71 False\n"
     ]
    }
   ],
   "source": [
    "# check if duplicate \n",
    "\n",
    "users = []\n",
    "for group in groups:\n",
    "    for u in group:\n",
    "        users.append(u)\n",
    "users.sort(reverse=True)\n",
    "\n",
    "n = num_user - 1 \n",
    "for i in users:\n",
    "    if i-n != 0:\n",
    "        print(i, 'False')\n",
    "        n-=1\n",
    "    n-=1"
   ]
  },
  {
   "cell_type": "code",
   "execution_count": 328,
   "metadata": {},
   "outputs": [],
   "source": [
    "np.savetxt(os.path.join(dir_, 'groups_' + str(group_size) + '_' + file_name[:-3] + 'csv'), groups, delimiter=\",\")"
   ]
  },
  {
   "cell_type": "code",
   "execution_count": null,
   "metadata": {},
   "outputs": [],
   "source": []
  }
 ],
 "metadata": {
  "kernelspec": {
   "display_name": "Python 3",
   "language": "python",
   "name": "python3"
  },
  "language_info": {
   "codemirror_mode": {
    "name": "ipython",
    "version": 3
   },
   "file_extension": ".py",
   "mimetype": "text/x-python",
   "name": "python",
   "nbconvert_exporter": "python",
   "pygments_lexer": "ipython3",
   "version": "3.6.9"
  }
 },
 "nbformat": 4,
 "nbformat_minor": 2
}
