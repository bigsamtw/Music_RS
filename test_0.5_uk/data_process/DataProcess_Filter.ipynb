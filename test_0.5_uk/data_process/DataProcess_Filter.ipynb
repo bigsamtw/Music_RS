{
 "cells": [
  {
   "cell_type": "code",
   "execution_count": 2,
   "metadata": {},
   "outputs": [],
   "source": [
    "# This code filter out users and tracks with specific condition\n",
    "import os\n",
    "import pandas as pd\n",
    "import numpy as np\n",
    "import math\n",
    "from numpy import count_nonzero\n",
    "from tqdm import tqdm_notebook\n",
    "\n",
    "dir_ = '../data'"
   ]
  },
  {
   "cell_type": "code",
   "execution_count": 3,
   "metadata": {},
   "outputs": [
    {
     "data": {
      "text/html": [
       "<div>\n",
       "<style scoped>\n",
       "    .dataframe tbody tr th:only-of-type {\n",
       "        vertical-align: middle;\n",
       "    }\n",
       "\n",
       "    .dataframe tbody tr th {\n",
       "        vertical-align: top;\n",
       "    }\n",
       "\n",
       "    .dataframe thead th {\n",
       "        text-align: right;\n",
       "    }\n",
       "</style>\n",
       "<table border=\"1\" class=\"dataframe\">\n",
       "  <thead>\n",
       "    <tr style=\"text-align: right;\">\n",
       "      <th></th>\n",
       "      <th>uid</th>\n",
       "      <th>tid</th>\n",
       "      <th>count</th>\n",
       "    </tr>\n",
       "  </thead>\n",
       "  <tbody>\n",
       "    <tr>\n",
       "      <th>0</th>\n",
       "      <td>0</td>\n",
       "      <td>0</td>\n",
       "      <td>1</td>\n",
       "    </tr>\n",
       "    <tr>\n",
       "      <th>1</th>\n",
       "      <td>0</td>\n",
       "      <td>1</td>\n",
       "      <td>1</td>\n",
       "    </tr>\n",
       "    <tr>\n",
       "      <th>2</th>\n",
       "      <td>0</td>\n",
       "      <td>2</td>\n",
       "      <td>2</td>\n",
       "    </tr>\n",
       "    <tr>\n",
       "      <th>3</th>\n",
       "      <td>0</td>\n",
       "      <td>3</td>\n",
       "      <td>1</td>\n",
       "    </tr>\n",
       "    <tr>\n",
       "      <th>4</th>\n",
       "      <td>0</td>\n",
       "      <td>4</td>\n",
       "      <td>1</td>\n",
       "    </tr>\n",
       "    <tr>\n",
       "      <th>...</th>\n",
       "      <td>...</td>\n",
       "      <td>...</td>\n",
       "      <td>...</td>\n",
       "    </tr>\n",
       "    <tr>\n",
       "      <th>594103</th>\n",
       "      <td>125</td>\n",
       "      <td>249574</td>\n",
       "      <td>1</td>\n",
       "    </tr>\n",
       "    <tr>\n",
       "      <th>594104</th>\n",
       "      <td>125</td>\n",
       "      <td>249575</td>\n",
       "      <td>1</td>\n",
       "    </tr>\n",
       "    <tr>\n",
       "      <th>594105</th>\n",
       "      <td>125</td>\n",
       "      <td>249576</td>\n",
       "      <td>1</td>\n",
       "    </tr>\n",
       "    <tr>\n",
       "      <th>594106</th>\n",
       "      <td>125</td>\n",
       "      <td>249577</td>\n",
       "      <td>3</td>\n",
       "    </tr>\n",
       "    <tr>\n",
       "      <th>594107</th>\n",
       "      <td>125</td>\n",
       "      <td>249578</td>\n",
       "      <td>1</td>\n",
       "    </tr>\n",
       "  </tbody>\n",
       "</table>\n",
       "<p>594108 rows × 3 columns</p>\n",
       "</div>"
      ],
      "text/plain": [
       "        uid     tid  count\n",
       "0         0       0      1\n",
       "1         0       1      1\n",
       "2         0       2      2\n",
       "3         0       3      1\n",
       "4         0       4      1\n",
       "...     ...     ...    ...\n",
       "594103  125  249574      1\n",
       "594104  125  249575      1\n",
       "594105  125  249576      1\n",
       "594106  125  249577      3\n",
       "594107  125  249578      1\n",
       "\n",
       "[594108 rows x 3 columns]"
      ]
     },
     "execution_count": 3,
     "metadata": {},
     "output_type": "execute_result"
    }
   ],
   "source": [
    "lh = pd.read_pickle('../data/counting.pkl')\n",
    "lh"
   ]
  },
  {
   "cell_type": "code",
   "execution_count": 4,
   "metadata": {},
   "outputs": [
    {
     "name": "stdout",
     "output_type": "stream",
     "text": [
      "Number of unique users : 126\n",
      "Number of unique tracks : 249579\n",
      "Times of tracks being listened: 594108\n"
     ]
    }
   ],
   "source": [
    "unique_users = len(lh['uid'].unique())\n",
    "unique_tracks = len(lh['tid'].unique())\n",
    "print ('Number of unique users : ' + str(unique_users))\n",
    "print ('Number of unique tracks : ' + str(unique_tracks))\n",
    "print ('Times of tracks being listened: ' + str(len(lh)))"
   ]
  },
  {
   "cell_type": "code",
   "execution_count": 5,
   "metadata": {},
   "outputs": [
    {
     "name": "stderr",
     "output_type": "stream",
     "text": [
      "/home/han/anaconda3/envs/ts/lib/python3.7/site-packages/ipykernel_launcher.py:3: TqdmDeprecationWarning: This function will be removed in tqdm==5.0.0\n",
      "Please use `tqdm.notebook.tqdm` instead of `tqdm.tqdm_notebook`\n",
      "  This is separate from the ipykernel package so we can avoid doing imports until\n"
     ]
    },
    {
     "data": {
      "application/vnd.jupyter.widget-view+json": {
       "model_id": "185ed812da6d4ea1bd28026b66efa369",
       "version_major": 2,
       "version_minor": 0
      },
      "text/plain": [
       "HBox(children=(FloatProgress(value=0.0, max=249579.0), HTML(value='')))"
      ]
     },
     "metadata": {},
     "output_type": "display_data"
    },
    {
     "name": "stdout",
     "output_type": "stream",
     "text": [
      "\n"
     ]
    }
   ],
   "source": [
    "filter_track = 5\n",
    "filter_tracks = []\n",
    "for i in tqdm_notebook(range(unique_tracks)):\n",
    "    users = lh[lh['tid'] == i]\n",
    "    if(len(users) < filter_track):\n",
    "        filter_tracks.append(i)\n",
    "\n",
    "lh_filter = lh[~lh['tid'].isin(filter_tracks)]"
   ]
  },
  {
   "cell_type": "code",
   "execution_count": 6,
   "metadata": {},
   "outputs": [
    {
     "name": "stdout",
     "output_type": "stream",
     "text": [
      "Number of unique users : 126\n",
      "Number of unique tracks : 26438\n",
      "Times of tracks being listened: 594108\n"
     ]
    }
   ],
   "source": [
    "unique_users = len(lh_filter['uid'].unique())\n",
    "unique_tracks = len(lh_filter['tid'].unique())\n",
    "print ('Number of unique users : ' + str(unique_users))\n",
    "print ('Number of unique tracks : ' + str(unique_tracks))\n",
    "print ('Times of tracks being listened: ' + str(len(lh)))"
   ]
  },
  {
   "cell_type": "code",
   "execution_count": null,
   "metadata": {},
   "outputs": [],
   "source": [
    "lh_filter.to_pickle(os.path.join(dir_, 'filter_track_' + str(filter_track) + '.pkl'))"
   ]
  },
  {
   "cell_type": "code",
   "execution_count": 5,
   "metadata": {},
   "outputs": [],
   "source": [
    "lh_filter = pd.read_pickle(os.path.join(dir_, 'filter_track_' + str(filter_track) + '.pkl'))"
   ]
  },
  {
   "cell_type": "code",
   "execution_count": 6,
   "metadata": {},
   "outputs": [
    {
     "name": "stdout",
     "output_type": "stream",
     "text": [
      "Number of unique users : 227\n",
      "Number of unique tracks : 8941\n",
      "Times of tracks being listened: 296137\n"
     ]
    }
   ],
   "source": [
    "unique_users = len(lh_filter['uid'].unique())\n",
    "unique_tracks = len(lh_filter['tid'].unique())\n",
    "print ('Number of unique users : ' + str(unique_users))\n",
    "print ('Number of unique tracks : ' + str(unique_tracks))\n",
    "print ('Times of tracks being listened: ' + str(len(lh_filter)))"
   ]
  },
  {
   "cell_type": "code",
   "execution_count": 7,
   "metadata": {},
   "outputs": [
    {
     "name": "stderr",
     "output_type": "stream",
     "text": [
      "/home/han/anaconda3/envs/ts/lib/python3.7/site-packages/ipykernel_launcher.py:3: TqdmDeprecationWarning: This function will be removed in tqdm==5.0.0\n",
      "Please use `tqdm.notebook.tqdm` instead of `tqdm.tqdm_notebook`\n",
      "  This is separate from the ipykernel package so we can avoid doing imports until\n"
     ]
    },
    {
     "data": {
      "application/vnd.jupyter.widget-view+json": {
       "model_id": "dcd1abfe6c5845b8a97c943edd371708",
       "version_major": 2,
       "version_minor": 0
      },
      "text/plain": [
       "HBox(children=(FloatProgress(value=0.0, max=126.0), HTML(value='')))"
      ]
     },
     "metadata": {},
     "output_type": "display_data"
    },
    {
     "name": "stdout",
     "output_type": "stream",
     "text": [
      "\n"
     ]
    }
   ],
   "source": [
    "filter_user = 100\n",
    "filter_users = []\n",
    "for i in tqdm_notebook(range(unique_users)):\n",
    "    tracks = lh_filter[lh_filter['uid'] == i]\n",
    "    if(len(tracks) < filter_user):\n",
    "        filter_users.append(i)\n",
    "lh_filter_user = lh_filter[~lh_filter['uid'].isin(filter_users)]"
   ]
  },
  {
   "cell_type": "code",
   "execution_count": 8,
   "metadata": {},
   "outputs": [
    {
     "name": "stdout",
     "output_type": "stream",
     "text": [
      "Number of unique users : 120\n",
      "Number of unique tracks : 26438\n",
      "Times of tracks being listened: 280462\n"
     ]
    }
   ],
   "source": [
    "filter_unique_users = len(lh_filter_user['uid'].unique())\n",
    "filter_unique_tracks = len(lh_filter_user['tid'].unique())\n",
    "print ('Number of unique users : ' + str(filter_unique_users))\n",
    "print ('Number of unique tracks : ' + str(filter_unique_tracks))\n",
    "print ('Times of tracks being listened: ' + str(len(lh_filter_user)))"
   ]
  },
  {
   "cell_type": "code",
   "execution_count": 9,
   "metadata": {},
   "outputs": [
    {
     "data": {
      "text/plain": [
       "0.9115975741987543"
      ]
     },
     "execution_count": 9,
     "metadata": {},
     "output_type": "execute_result"
    }
   ],
   "source": [
    "sparsity = 1.0 - ( len(lh_filter_user) / float(filter_unique_users*filter_unique_tracks) )\n",
    "sparsity"
   ]
  },
  {
   "cell_type": "code",
   "execution_count": 10,
   "metadata": {},
   "outputs": [],
   "source": [
    "lh_filter_user.to_pickle(os.path.join(dir_, 'filter_track_' + str(filter_track) + '_user_' + str(filter_user) + '.pkl'))"
   ]
  },
  {
   "cell_type": "code",
   "execution_count": null,
   "metadata": {},
   "outputs": [],
   "source": []
  }
 ],
 "metadata": {
  "kernelspec": {
   "display_name": "Python 3",
   "language": "python",
   "name": "python3"
  },
  "language_info": {
   "codemirror_mode": {
    "name": "ipython",
    "version": 3
   },
   "file_extension": ".py",
   "mimetype": "text/x-python",
   "name": "python",
   "nbconvert_exporter": "python",
   "pygments_lexer": "ipython3",
   "version": "3.7.7"
  }
 },
 "nbformat": 4,
 "nbformat_minor": 2
}
