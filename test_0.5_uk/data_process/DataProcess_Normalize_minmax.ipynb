{
 "cells": [
  {
   "cell_type": "code",
   "execution_count": 1,
   "metadata": {},
   "outputs": [],
   "source": [
    "# This file normalize dataframe by min max normalization\n",
    "\n",
    "import pandas as pd\n",
    "import numpy as np\n",
    "import time\n",
    "import os \n",
    "from pandas import Series, DataFrame\n",
    "from tqdm import tqdm_notebook\n",
    "\n",
    "dir_ = '../data/'\n",
    "file_name = 'filter_track_5_user_100.pkl'"
   ]
  },
  {
   "cell_type": "code",
   "execution_count": 2,
   "metadata": {},
   "outputs": [],
   "source": [
    "lh = pd.read_pickle(os.path.join(dir_, file_name))"
   ]
  },
  {
   "cell_type": "code",
   "execution_count": 3,
   "metadata": {},
   "outputs": [
    {
     "name": "stdout",
     "output_type": "stream",
     "text": [
      "220\n",
      "54969\n"
     ]
    }
   ],
   "source": [
    "unique_users = lh['uid'].unique()\n",
    "unique_user = len(unique_users)\n",
    "unique_tracks = lh['tid'].unique()\n",
    "unique_track = len(unique_tracks)\n",
    "\n",
    "print(unique_user)\n",
    "print(unique_track)"
   ]
  },
  {
   "cell_type": "code",
   "execution_count": 4,
   "metadata": {},
   "outputs": [
    {
     "data": {
      "text/html": [
       "<div>\n",
       "<style scoped>\n",
       "    .dataframe tbody tr th:only-of-type {\n",
       "        vertical-align: middle;\n",
       "    }\n",
       "\n",
       "    .dataframe tbody tr th {\n",
       "        vertical-align: top;\n",
       "    }\n",
       "\n",
       "    .dataframe thead th {\n",
       "        text-align: right;\n",
       "    }\n",
       "</style>\n",
       "<table border=\"1\" class=\"dataframe\">\n",
       "  <thead>\n",
       "    <tr style=\"text-align: right;\">\n",
       "      <th></th>\n",
       "      <th>uid</th>\n",
       "      <th>tid</th>\n",
       "      <th>count</th>\n",
       "    </tr>\n",
       "  </thead>\n",
       "  <tbody>\n",
       "    <tr>\n",
       "      <td>4</td>\n",
       "      <td>0</td>\n",
       "      <td>4</td>\n",
       "      <td>15</td>\n",
       "    </tr>\n",
       "    <tr>\n",
       "      <td>5</td>\n",
       "      <td>0</td>\n",
       "      <td>5</td>\n",
       "      <td>3</td>\n",
       "    </tr>\n",
       "    <tr>\n",
       "      <td>6</td>\n",
       "      <td>0</td>\n",
       "      <td>6</td>\n",
       "      <td>1</td>\n",
       "    </tr>\n",
       "    <tr>\n",
       "      <td>7</td>\n",
       "      <td>0</td>\n",
       "      <td>7</td>\n",
       "      <td>1</td>\n",
       "    </tr>\n",
       "    <tr>\n",
       "      <td>8</td>\n",
       "      <td>0</td>\n",
       "      <td>8</td>\n",
       "      <td>10</td>\n",
       "    </tr>\n",
       "    <tr>\n",
       "      <td>...</td>\n",
       "      <td>...</td>\n",
       "      <td>...</td>\n",
       "      <td>...</td>\n",
       "    </tr>\n",
       "    <tr>\n",
       "      <td>1256928</td>\n",
       "      <td>227</td>\n",
       "      <td>300257</td>\n",
       "      <td>10</td>\n",
       "    </tr>\n",
       "    <tr>\n",
       "      <td>1256936</td>\n",
       "      <td>227</td>\n",
       "      <td>308324</td>\n",
       "      <td>2</td>\n",
       "    </tr>\n",
       "    <tr>\n",
       "      <td>1256949</td>\n",
       "      <td>227</td>\n",
       "      <td>315276</td>\n",
       "      <td>1</td>\n",
       "    </tr>\n",
       "    <tr>\n",
       "      <td>1256989</td>\n",
       "      <td>227</td>\n",
       "      <td>338413</td>\n",
       "      <td>1</td>\n",
       "    </tr>\n",
       "    <tr>\n",
       "      <td>1257021</td>\n",
       "      <td>227</td>\n",
       "      <td>358640</td>\n",
       "      <td>1</td>\n",
       "    </tr>\n",
       "  </tbody>\n",
       "</table>\n",
       "<p>702362 rows × 3 columns</p>\n",
       "</div>"
      ],
      "text/plain": [
       "         uid     tid  count\n",
       "4          0       4     15\n",
       "5          0       5      3\n",
       "6          0       6      1\n",
       "7          0       7      1\n",
       "8          0       8     10\n",
       "...      ...     ...    ...\n",
       "1256928  227  300257     10\n",
       "1256936  227  308324      2\n",
       "1256949  227  315276      1\n",
       "1256989  227  338413      1\n",
       "1257021  227  358640      1\n",
       "\n",
       "[702362 rows x 3 columns]"
      ]
     },
     "execution_count": 4,
     "metadata": {},
     "output_type": "execute_result"
    }
   ],
   "source": [
    "lh"
   ]
  },
  {
   "cell_type": "code",
   "execution_count": 5,
   "metadata": {},
   "outputs": [],
   "source": [
    "track_keys = {}\n",
    "\n",
    "for track in unique_tracks:\n",
    "    track_keys[track] = len(track_keys)\n",
    "    \n",
    "user_keys = {}\n",
    "\n",
    "for user in unique_users:\n",
    "    user_keys[user] = len(user_keys)"
   ]
  },
  {
   "cell_type": "code",
   "execution_count": 6,
   "metadata": {},
   "outputs": [],
   "source": [
    "lh['tid']= lh['tid'].map(track_keys)\n",
    "lh['uid']= lh['uid'].map(user_keys)"
   ]
  },
  {
   "cell_type": "code",
   "execution_count": 7,
   "metadata": {},
   "outputs": [
    {
     "data": {
      "text/html": [
       "<div>\n",
       "<style scoped>\n",
       "    .dataframe tbody tr th:only-of-type {\n",
       "        vertical-align: middle;\n",
       "    }\n",
       "\n",
       "    .dataframe tbody tr th {\n",
       "        vertical-align: top;\n",
       "    }\n",
       "\n",
       "    .dataframe thead th {\n",
       "        text-align: right;\n",
       "    }\n",
       "</style>\n",
       "<table border=\"1\" class=\"dataframe\">\n",
       "  <thead>\n",
       "    <tr style=\"text-align: right;\">\n",
       "      <th></th>\n",
       "      <th>uid</th>\n",
       "      <th>tid</th>\n",
       "      <th>count</th>\n",
       "    </tr>\n",
       "  </thead>\n",
       "  <tbody>\n",
       "    <tr>\n",
       "      <td>4</td>\n",
       "      <td>0</td>\n",
       "      <td>0</td>\n",
       "      <td>15</td>\n",
       "    </tr>\n",
       "    <tr>\n",
       "      <td>5</td>\n",
       "      <td>0</td>\n",
       "      <td>1</td>\n",
       "      <td>3</td>\n",
       "    </tr>\n",
       "    <tr>\n",
       "      <td>6</td>\n",
       "      <td>0</td>\n",
       "      <td>2</td>\n",
       "      <td>1</td>\n",
       "    </tr>\n",
       "    <tr>\n",
       "      <td>7</td>\n",
       "      <td>0</td>\n",
       "      <td>3</td>\n",
       "      <td>1</td>\n",
       "    </tr>\n",
       "    <tr>\n",
       "      <td>8</td>\n",
       "      <td>0</td>\n",
       "      <td>4</td>\n",
       "      <td>10</td>\n",
       "    </tr>\n",
       "    <tr>\n",
       "      <td>...</td>\n",
       "      <td>...</td>\n",
       "      <td>...</td>\n",
       "      <td>...</td>\n",
       "    </tr>\n",
       "    <tr>\n",
       "      <td>1256928</td>\n",
       "      <td>219</td>\n",
       "      <td>54824</td>\n",
       "      <td>10</td>\n",
       "    </tr>\n",
       "    <tr>\n",
       "      <td>1256936</td>\n",
       "      <td>219</td>\n",
       "      <td>54867</td>\n",
       "      <td>2</td>\n",
       "    </tr>\n",
       "    <tr>\n",
       "      <td>1256949</td>\n",
       "      <td>219</td>\n",
       "      <td>54900</td>\n",
       "      <td>1</td>\n",
       "    </tr>\n",
       "    <tr>\n",
       "      <td>1256989</td>\n",
       "      <td>219</td>\n",
       "      <td>54958</td>\n",
       "      <td>1</td>\n",
       "    </tr>\n",
       "    <tr>\n",
       "      <td>1257021</td>\n",
       "      <td>219</td>\n",
       "      <td>54962</td>\n",
       "      <td>1</td>\n",
       "    </tr>\n",
       "  </tbody>\n",
       "</table>\n",
       "<p>702362 rows × 3 columns</p>\n",
       "</div>"
      ],
      "text/plain": [
       "         uid    tid  count\n",
       "4          0      0     15\n",
       "5          0      1      3\n",
       "6          0      2      1\n",
       "7          0      3      1\n",
       "8          0      4     10\n",
       "...      ...    ...    ...\n",
       "1256928  219  54824     10\n",
       "1256936  219  54867      2\n",
       "1256949  219  54900      1\n",
       "1256989  219  54958      1\n",
       "1257021  219  54962      1\n",
       "\n",
       "[702362 rows x 3 columns]"
      ]
     },
     "execution_count": 7,
     "metadata": {},
     "output_type": "execute_result"
    }
   ],
   "source": [
    "lh"
   ]
  },
  {
   "cell_type": "code",
   "execution_count": 8,
   "metadata": {},
   "outputs": [
    {
     "data": {
      "application/vnd.jupyter.widget-view+json": {
       "model_id": "d4dc0bc1366b400fb203aefe649d89e4",
       "version_major": 2,
       "version_minor": 0
      },
      "text/plain": [
       "HBox(children=(IntProgress(value=0, max=220), HTML(value='')))"
      ]
     },
     "metadata": {},
     "output_type": "display_data"
    },
    {
     "name": "stdout",
     "output_type": "stream",
     "text": [
      "\n"
     ]
    }
   ],
   "source": [
    "max_list = {}\n",
    "for i in tqdm_notebook(lh['uid'].unique()):\n",
    "    user = lh[lh['uid'] == i]\n",
    "    max_value = max(user['count'])\n",
    "    max_list[i] = max_value"
   ]
  },
  {
   "cell_type": "code",
   "execution_count": 9,
   "metadata": {
    "scrolled": true
   },
   "outputs": [
    {
     "name": "stdout",
     "output_type": "stream",
     "text": [
      "10.482073783874512\n"
     ]
    }
   ],
   "source": [
    "# If the input data is array, try the code below\n",
    "\n",
    "# for i in train['uid'].unique():\n",
    "#     user = train[train['uid'] == i]\n",
    "#     max_value = max(user['count'])\n",
    "#     print(max_value)\n",
    "#     normalized_list[i] = [j *5 / max_value for j in counting_list[i]]\n",
    "\n",
    "# for i in tqdm_notebook(lh['uid'].unique()):\n",
    "#     user = lh[lh['uid'] == i]\n",
    "#     max_value = max(user['count'])\n",
    "#     for index, row in user.iterrows():\n",
    "#         lh.loc[index, 'count'] = row['count'] *5 / max_value\n",
    "start = time.time()\n",
    "def normalize(df):  \n",
    "    return df['count'] *5 / max_list[df['uid']]\n",
    "\n",
    "lh['rating'] = lh.apply(normalize , axis = 1)\n",
    "lh = lh[['uid','tid','rating']]\n",
    "\n",
    "end = time.time()\n",
    "print(end - start)"
   ]
  },
  {
   "cell_type": "code",
   "execution_count": 10,
   "metadata": {
    "scrolled": true
   },
   "outputs": [
    {
     "data": {
      "text/html": [
       "<div>\n",
       "<style scoped>\n",
       "    .dataframe tbody tr th:only-of-type {\n",
       "        vertical-align: middle;\n",
       "    }\n",
       "\n",
       "    .dataframe tbody tr th {\n",
       "        vertical-align: top;\n",
       "    }\n",
       "\n",
       "    .dataframe thead th {\n",
       "        text-align: right;\n",
       "    }\n",
       "</style>\n",
       "<table border=\"1\" class=\"dataframe\">\n",
       "  <thead>\n",
       "    <tr style=\"text-align: right;\">\n",
       "      <th></th>\n",
       "      <th>uid</th>\n",
       "      <th>tid</th>\n",
       "      <th>rating</th>\n",
       "    </tr>\n",
       "  </thead>\n",
       "  <tbody>\n",
       "    <tr>\n",
       "      <td>4</td>\n",
       "      <td>0</td>\n",
       "      <td>0</td>\n",
       "      <td>1.595745</td>\n",
       "    </tr>\n",
       "    <tr>\n",
       "      <td>5</td>\n",
       "      <td>0</td>\n",
       "      <td>1</td>\n",
       "      <td>0.319149</td>\n",
       "    </tr>\n",
       "    <tr>\n",
       "      <td>6</td>\n",
       "      <td>0</td>\n",
       "      <td>2</td>\n",
       "      <td>0.106383</td>\n",
       "    </tr>\n",
       "    <tr>\n",
       "      <td>7</td>\n",
       "      <td>0</td>\n",
       "      <td>3</td>\n",
       "      <td>0.106383</td>\n",
       "    </tr>\n",
       "    <tr>\n",
       "      <td>8</td>\n",
       "      <td>0</td>\n",
       "      <td>4</td>\n",
       "      <td>1.063830</td>\n",
       "    </tr>\n",
       "    <tr>\n",
       "      <td>...</td>\n",
       "      <td>...</td>\n",
       "      <td>...</td>\n",
       "      <td>...</td>\n",
       "    </tr>\n",
       "    <tr>\n",
       "      <td>1256928</td>\n",
       "      <td>219</td>\n",
       "      <td>54824</td>\n",
       "      <td>1.219512</td>\n",
       "    </tr>\n",
       "    <tr>\n",
       "      <td>1256936</td>\n",
       "      <td>219</td>\n",
       "      <td>54867</td>\n",
       "      <td>0.243902</td>\n",
       "    </tr>\n",
       "    <tr>\n",
       "      <td>1256949</td>\n",
       "      <td>219</td>\n",
       "      <td>54900</td>\n",
       "      <td>0.121951</td>\n",
       "    </tr>\n",
       "    <tr>\n",
       "      <td>1256989</td>\n",
       "      <td>219</td>\n",
       "      <td>54958</td>\n",
       "      <td>0.121951</td>\n",
       "    </tr>\n",
       "    <tr>\n",
       "      <td>1257021</td>\n",
       "      <td>219</td>\n",
       "      <td>54962</td>\n",
       "      <td>0.121951</td>\n",
       "    </tr>\n",
       "  </tbody>\n",
       "</table>\n",
       "<p>702362 rows × 3 columns</p>\n",
       "</div>"
      ],
      "text/plain": [
       "         uid    tid    rating\n",
       "4          0      0  1.595745\n",
       "5          0      1  0.319149\n",
       "6          0      2  0.106383\n",
       "7          0      3  0.106383\n",
       "8          0      4  1.063830\n",
       "...      ...    ...       ...\n",
       "1256928  219  54824  1.219512\n",
       "1256936  219  54867  0.243902\n",
       "1256949  219  54900  0.121951\n",
       "1256989  219  54958  0.121951\n",
       "1257021  219  54962  0.121951\n",
       "\n",
       "[702362 rows x 3 columns]"
      ]
     },
     "execution_count": 10,
     "metadata": {},
     "output_type": "execute_result"
    }
   ],
   "source": [
    "lh"
   ]
  },
  {
   "cell_type": "code",
   "execution_count": 11,
   "metadata": {},
   "outputs": [],
   "source": [
    "lh.to_pickle(os.path.join(dir_, 'normalized_' + file_name))"
   ]
  },
  {
   "cell_type": "code",
   "execution_count": null,
   "metadata": {},
   "outputs": [],
   "source": []
  }
 ],
 "metadata": {
  "kernelspec": {
   "display_name": "Python 3",
   "language": "python",
   "name": "python3"
  },
  "language_info": {
   "codemirror_mode": {
    "name": "ipython",
    "version": 3
   },
   "file_extension": ".py",
   "mimetype": "text/x-python",
   "name": "python",
   "nbconvert_exporter": "python",
   "pygments_lexer": "ipython3",
   "version": "3.7.4"
  }
 },
 "nbformat": 4,
 "nbformat_minor": 2
}
