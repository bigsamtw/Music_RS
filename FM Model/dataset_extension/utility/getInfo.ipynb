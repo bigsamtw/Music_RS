{
 "cells": [
  {
   "cell_type": "code",
   "execution_count": 1,
   "metadata": {},
   "outputs": [
    {
     "name": "stderr",
     "output_type": "stream",
     "text": [
      "b'Skipping line 2120260: expected 6 fields, saw 8\\n'\n",
      "b'Skipping line 2446318: expected 6 fields, saw 8\\n'\n",
      "b'Skipping line 8709941: expected 6 fields, saw 11\\nSkipping line 8709958: expected 6 fields, saw 11\\nSkipping line 8710163: expected 6 fields, saw 11\\n'\n",
      "b'Skipping line 11141081: expected 6 fields, saw 8\\n'\n",
      "b'Skipping line 11152099: expected 6 fields, saw 12\\nSkipping line 11152402: expected 6 fields, saw 8\\n'\n",
      "b'Skipping line 11882087: expected 6 fields, saw 8\\n'\n",
      "b'Skipping line 12902539: expected 6 fields, saw 8\\nSkipping line 12935044: expected 6 fields, saw 8\\n'\n",
      "b'Skipping line 17589539: expected 6 fields, saw 8\\n'\n"
     ]
    }
   ],
   "source": [
    "import pandas as pd\n",
    "import numpy as np\n",
    "import requests\n",
    "import math\n",
    "from tqdm.notebook import tqdm\n",
    "import matplotlib.pyplot as plt\n",
    "\n",
    "users = pd.read_csv('../../../dataset/userid-profile.tsv', sep='\\t', header=0, index_col='#id')\n",
    "listening_history = pd.read_csv('../../../dataset/userid-timestamp-artid-artname-traid-traname.tsv', sep='\\t', encoding='utf-8', header=None, error_bad_lines=False)\n",
    "listening_history.columns = [\"#id\", \"timestamp \", \"artist-id\", \"artist-name\", \"track-id\",\"track-name\"]"
   ]
  },
  {
   "cell_type": "code",
   "execution_count": 3,
   "metadata": {},
   "outputs": [
    {
     "data": {
      "text/plain": [
       "960441"
      ]
     },
     "execution_count": 3,
     "metadata": {},
     "output_type": "execute_result"
    }
   ],
   "source": [
    "mbids = listening_history['track-id'].unique()\n",
    "listening_history = None\n",
    "len(mbids)"
   ]
  },
  {
   "cell_type": "code",
   "execution_count": 4,
   "metadata": {},
   "outputs": [
    {
     "name": "stdout",
     "output_type": "stream",
     "text": [
      "240110 [nan 'f7c1f8f8-b935-45ed-8fc8-7def69d92a10'\n",
      " '475d4e50-cebb-4cd0-8cd4-c3df97987962' ...\n",
      " '52c38bb7-0ae2-46ca-9604-1a6e5a1fde62'\n",
      " 'ca5dd81c-27f0-4b4e-8f01-2c98f5d06c07'\n",
      " 'b84e3d01-57b4-4c92-8adf-818b39d771eb']\n"
     ]
    }
   ],
   "source": [
    "print(len(mbids), mbids)"
   ]
  },
  {
   "cell_type": "code",
   "execution_count": 5,
   "metadata": {},
   "outputs": [
    {
     "data": {
      "application/vnd.jupyter.widget-view+json": {
       "model_id": "68875b7afc114b74a5b8434ad830c2a5",
       "version_major": 2,
       "version_minor": 0
      },
      "text/plain": [
       "HBox(children=(FloatProgress(value=0.0, max=240110.0), HTML(value='')))"
      ]
     },
     "metadata": {},
     "output_type": "display_data"
    },
    {
     "name": "stdout",
     "output_type": "stream",
     "text": [
      "\n"
     ]
    }
   ],
   "source": [
    "dict_tag = {}\n",
    "for mbid in tqdm(mbids):\n",
    "    api = 'http://ws.audioscrobbler.com/2.0/'\n",
    "    api_key = '05e6fe9ec0ffd5abd2761ab9dbad752c'\n",
    "    params = {'method':'track.getInfo', 'api_key':api_key, 'mbid':mbid, 'format':'json'}\n",
    "    r = requests.get(api, params=params)\n",
    "    r = r.json()\n",
    "    tags = []\n",
    "    if 'track' in r:\n",
    "        for tag in r['track']['toptags']['tag']:\n",
    "            tags.append(tag['name'])\n",
    "        if len(tags) > 0:\n",
    "            dict_tag[mbid] = tags\n",
    "#         r = requests.get(\"http://ws.audioscrobbler.com/2.0/?method=track.getInfo&api_key=05e6fe9ec0ffd5abd2761ab9dbad752c&mbid=3e92e447-9e1f-440d-bc00-6734469880c5&format=json\", verify=False)\n"
   ]
  },
  {
   "cell_type": "code",
   "execution_count": 6,
   "metadata": {},
   "outputs": [],
   "source": [
    "import pickle\n",
    "pickle.dump(dict_tag, open(\"dict_1.pkl\", \"wb\")) "
   ]
  },
  {
   "cell_type": "code",
   "execution_count": null,
   "metadata": {},
   "outputs": [],
   "source": []
  },
  {
   "cell_type": "code",
   "execution_count": null,
   "metadata": {},
   "outputs": [],
   "source": []
  }
 ],
 "metadata": {
  "kernelspec": {
   "display_name": "Python 3",
   "language": "python",
   "name": "python3"
  },
  "language_info": {
   "codemirror_mode": {
    "name": "ipython",
    "version": 3
   },
   "file_extension": ".py",
   "mimetype": "text/x-python",
   "name": "python",
   "nbconvert_exporter": "python",
   "pygments_lexer": "ipython3",
   "version": "3.6.12"
  }
 },
 "nbformat": 4,
 "nbformat_minor": 4
}
