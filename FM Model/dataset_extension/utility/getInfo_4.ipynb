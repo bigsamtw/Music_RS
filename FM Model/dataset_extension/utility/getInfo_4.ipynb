{
 "cells": [
  {
   "cell_type": "code",
   "execution_count": 1,
   "metadata": {},
   "outputs": [
    {
     "name": "stderr",
     "output_type": "stream",
     "text": [
      "b'Skipping line 2120260: expected 6 fields, saw 8\\n'\n",
      "b'Skipping line 2446318: expected 6 fields, saw 8\\n'\n",
      "b'Skipping line 8709941: expected 6 fields, saw 11\\nSkipping line 8709958: expected 6 fields, saw 11\\nSkipping line 8710163: expected 6 fields, saw 11\\n'\n",
      "b'Skipping line 11141081: expected 6 fields, saw 8\\n'\n",
      "b'Skipping line 11152099: expected 6 fields, saw 12\\nSkipping line 11152402: expected 6 fields, saw 8\\n'\n",
      "b'Skipping line 11882087: expected 6 fields, saw 8\\n'\n",
      "b'Skipping line 12902539: expected 6 fields, saw 8\\nSkipping line 12935044: expected 6 fields, saw 8\\n'\n",
      "b'Skipping line 17589539: expected 6 fields, saw 8\\n'\n"
     ]
    }
   ],
   "source": [
    "import pandas as pd\n",
    "import numpy as np\n",
    "import requests\n",
    "import math\n",
    "from tqdm.notebook import tqdm\n",
    "import matplotlib.pyplot as plt\n",
    "\n",
    "users = pd.read_csv('../dataset/userid-profile.tsv', sep='\\t', header=0, index_col='#id')\n",
    "listening_history = pd.read_csv('../dataset/userid-timestamp-artid-artname-traid-traname.tsv', sep='\\t', encoding='utf-8', header=None, error_bad_lines=False)\n",
    "listening_history.columns = [\"#id\", \"timestamp \", \"artist-id\", \"artist-name\", \"track-id\",\"track-name\"]"
   ]
  },
  {
   "cell_type": "code",
   "execution_count": 2,
   "metadata": {},
   "outputs": [],
   "source": [
    "# # get_user_id\n",
    "# users_us = users[users['country']=='United States'].reset_index()\n",
    "# # reset index\n",
    "# listening_history = listening_history.set_index('#id').loc[users_us['#id']]\n",
    "# listening_history = listening_history.reset_index()"
   ]
  },
  {
   "cell_type": "code",
   "execution_count": 3,
   "metadata": {},
   "outputs": [
    {
     "data": {
      "text/plain": [
       "960441"
      ]
     },
     "execution_count": 3,
     "metadata": {},
     "output_type": "execute_result"
    }
   ],
   "source": [
    "mbids = listening_history['track-id'].unique()\n",
    "listening_history = None\n",
    "len(mbids)"
   ]
  },
  {
   "cell_type": "code",
   "execution_count": 4,
   "metadata": {},
   "outputs": [
    {
     "name": "stdout",
     "output_type": "stream",
     "text": [
      "240111 ['18b6af6e-c7dd-4a4e-8d36-78c27433e193'\n",
      " '8c36b75d-002b-4482-8004-303877297f11'\n",
      " 'fe397185-c1c9-44f6-8b0e-8807c8df0309' ...\n",
      " '57daae1d-d8fe-4dba-a447-cfa81cb41882'\n",
      " '3a75be82-17f9-4d3f-9614-7fc1e1da8c93'\n",
      " '0e12a411-0162-44a7-9737-aa9007700969']\n"
     ]
    }
   ],
   "source": [
    "mbids = mbids[int((len(mbids)/4)*3):]\n",
    "print(len(mbids), mbids)"
   ]
  },
  {
   "cell_type": "code",
   "execution_count": 5,
   "metadata": {},
   "outputs": [
    {
     "data": {
      "application/vnd.jupyter.widget-view+json": {
       "model_id": "9f9e2fa219b04e5daa0a222a261c9c0a",
       "version_major": 2,
       "version_minor": 0
      },
      "text/plain": [
       "HBox(children=(FloatProgress(value=0.0, max=240111.0), HTML(value='')))"
      ]
     },
     "metadata": {},
     "output_type": "display_data"
    },
    {
     "name": "stdout",
     "output_type": "stream",
     "text": [
      "\n"
     ]
    }
   ],
   "source": [
    "dict_tag = {}\n",
    "for mbid in tqdm(mbids):\n",
    "    api = 'http://ws.audioscrobbler.com/2.0/'\n",
    "    api_key = '05e6fe9ec0ffd5abd2761ab9dbad752c'\n",
    "    params = {'method':'track.getInfo', 'api_key':api_key, 'mbid':mbid, 'format':'json'}\n",
    "    r = requests.get(api, params=params)\n",
    "    r = r.json()\n",
    "    tags = []\n",
    "    if 'track' in r:\n",
    "        for tag in r['track']['toptags']['tag']:\n",
    "            tags.append(tag['name'])\n",
    "        if len(tags) > 0:\n",
    "            dict_tag[mbid] = tags\n",
    "#         r = requests.get(\"http://ws.audioscrobbler.com/2.0/?method=track.getInfo&api_key=05e6fe9ec0ffd5abd2761ab9dbad752c&mbid=3e92e447-9e1f-440d-bc00-6734469880c5&format=json\", verify=False)\n"
   ]
  },
  {
   "cell_type": "code",
   "execution_count": 6,
   "metadata": {},
   "outputs": [],
   "source": [
    "import pickle\n",
    "pickle.dump(dict_tag, open(\"dict_4.pkl\", \"wb\")) "
   ]
  },
  {
   "cell_type": "code",
   "execution_count": null,
   "metadata": {},
   "outputs": [],
   "source": []
  }
 ],
 "metadata": {
  "kernelspec": {
   "display_name": "Python 3",
   "language": "python",
   "name": "python3"
  },
  "language_info": {
   "codemirror_mode": {
    "name": "ipython",
    "version": 3
   },
   "file_extension": ".py",
   "mimetype": "text/x-python",
   "name": "python",
   "nbconvert_exporter": "python",
   "pygments_lexer": "ipython3",
   "version": "3.6.10"
  }
 },
 "nbformat": 4,
 "nbformat_minor": 4
}
