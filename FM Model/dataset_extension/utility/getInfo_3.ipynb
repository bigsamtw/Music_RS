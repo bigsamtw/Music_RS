{
 "cells": [
  {
   "cell_type": "code",
   "execution_count": 1,
   "metadata": {},
   "outputs": [
    {
     "name": "stderr",
     "output_type": "stream",
     "text": [
      "b'Skipping line 2120260: expected 6 fields, saw 8\\n'\n",
      "b'Skipping line 2446318: expected 6 fields, saw 8\\n'\n",
      "b'Skipping line 8709941: expected 6 fields, saw 11\\nSkipping line 8709958: expected 6 fields, saw 11\\nSkipping line 8710163: expected 6 fields, saw 11\\n'\n",
      "b'Skipping line 11141081: expected 6 fields, saw 8\\n'\n",
      "b'Skipping line 11152099: expected 6 fields, saw 12\\nSkipping line 11152402: expected 6 fields, saw 8\\n'\n",
      "b'Skipping line 11882087: expected 6 fields, saw 8\\n'\n",
      "b'Skipping line 12902539: expected 6 fields, saw 8\\nSkipping line 12935044: expected 6 fields, saw 8\\n'\n",
      "b'Skipping line 17589539: expected 6 fields, saw 8\\n'\n"
     ]
    }
   ],
   "source": [
    "import pandas as pd\n",
    "import numpy as np\n",
    "import requests\n",
    "import math\n",
    "from tqdm.notebook import tqdm\n",
    "import matplotlib.pyplot as plt\n",
    "\n",
    "users = pd.read_csv('../dataset/userid-profile.tsv', sep='\\t', header=0, index_col='#id')\n",
    "listening_history = pd.read_csv('../dataset/userid-timestamp-artid-artname-traid-traname.tsv', sep='\\t', encoding='utf-8', header=None, error_bad_lines=False)\n",
    "listening_history.columns = [\"#id\", \"timestamp \", \"artist-id\", \"artist-name\", \"track-id\",\"track-name\"]"
   ]
  },
  {
   "cell_type": "code",
   "execution_count": 2,
   "metadata": {},
   "outputs": [],
   "source": [
    "# # get_user_id\n",
    "# users_us = users[users['country']=='United States'].reset_index()\n",
    "# # reset index\n",
    "# listening_history = listening_history.set_index('#id').loc[users_us['#id']]\n",
    "# listening_history = listening_history.reset_index()"
   ]
  },
  {
   "cell_type": "code",
   "execution_count": 3,
   "metadata": {},
   "outputs": [
    {
     "data": {
      "text/plain": [
       "960441"
      ]
     },
     "execution_count": 3,
     "metadata": {},
     "output_type": "execute_result"
    }
   ],
   "source": [
    "mbids = listening_history['track-id'].unique()\n",
    "listening_history = None\n",
    "len(mbids)"
   ]
  },
  {
   "cell_type": "code",
   "execution_count": 4,
   "metadata": {},
   "outputs": [
    {
     "name": "stdout",
     "output_type": "stream",
     "text": [
      "240110 ['5b2e0fde-d18e-4013-9686-44d355778e63'\n",
      " 'ef79408f-13e1-44e8-8274-986917f6f415'\n",
      " '496c3cc2-1a83-434b-8698-0922a4bcc17d' ...\n",
      " 'c2f37c8b-b77f-42a6-8261-c55426da8394'\n",
      " '90f42c68-3d2d-491d-b953-d82822aa10e6'\n",
      " '0af57958-fd38-4721-9fe3-0087cec27f4a']\n"
     ]
    }
   ],
   "source": [
    "mbids = mbids[int((len(mbids)/4)*2):int((len(mbids)/4)*3)]\n",
    "print(len(mbids), mbids)"
   ]
  },
  {
   "cell_type": "code",
   "execution_count": 5,
   "metadata": {},
   "outputs": [
    {
     "data": {
      "application/vnd.jupyter.widget-view+json": {
       "model_id": "fbc59276a96b4e82baa5a9832f9a260e",
       "version_major": 2,
       "version_minor": 0
      },
      "text/plain": [
       "HBox(children=(FloatProgress(value=0.0, max=240110.0), HTML(value='')))"
      ]
     },
     "metadata": {},
     "output_type": "display_data"
    },
    {
     "name": "stdout",
     "output_type": "stream",
     "text": [
      "\n"
     ]
    }
   ],
   "source": [
    "dict_tag = {}\n",
    "for mbid in tqdm(mbids):\n",
    "    api = 'http://ws.audioscrobbler.com/2.0/'\n",
    "    api_key = '05e6fe9ec0ffd5abd2761ab9dbad752c'\n",
    "    params = {'method':'track.getInfo', 'api_key':api_key, 'mbid':mbid, 'format':'json'}\n",
    "    r = requests.get(api, params=params)\n",
    "    r = r.json()\n",
    "    tags = []\n",
    "    if 'track' in r:\n",
    "        for tag in r['track']['toptags']['tag']:\n",
    "            tags.append(tag['name'])\n",
    "        if len(tags) > 0:\n",
    "            dict_tag[mbid] = tags\n",
    "#         r = requests.get(\"http://ws.audioscrobbler.com/2.0/?method=track.getInfo&api_key=05e6fe9ec0ffd5abd2761ab9dbad752c&mbid=3e92e447-9e1f-440d-bc00-6734469880c5&format=json\", verify=False)\n"
   ]
  },
  {
   "cell_type": "code",
   "execution_count": 6,
   "metadata": {},
   "outputs": [],
   "source": [
    "import pickle\n",
    "pickle.dump(dict_tag, open(\"dict_3.pkl\", \"wb\")) "
   ]
  },
  {
   "cell_type": "code",
   "execution_count": null,
   "metadata": {},
   "outputs": [],
   "source": []
  }
 ],
 "metadata": {
  "kernelspec": {
   "display_name": "Python 3",
   "language": "python",
   "name": "python3"
  },
  "language_info": {
   "codemirror_mode": {
    "name": "ipython",
    "version": 3
   },
   "file_extension": ".py",
   "mimetype": "text/x-python",
   "name": "python",
   "nbconvert_exporter": "python",
   "pygments_lexer": "ipython3",
   "version": "3.6.10"
  }
 },
 "nbformat": 4,
 "nbformat_minor": 4
}
