{
 "cells": [
  {
   "cell_type": "code",
   "execution_count": 45,
   "metadata": {},
   "outputs": [],
   "source": [
    "import numpy as np\n",
    "import tensorflow as tf\n",
    "import time\n",
    "import os\n",
    "import math\n",
    "import pandas as pd\n",
    "from tqdm.notebook import tqdm\n",
    "import scipy.sparse as sp\n",
    "from tffm import TFFMClassifier\n",
    "from tffm import TFFMRegressor\n",
    "from sklearn.metrics import mean_squared_error, mean_absolute_error \n",
    "from sklearn.metrics import roc_auc_score, accuracy_score\n",
    "\n",
    "group_size = 5\n",
    "dir_ = '../data/'\n",
    "folder = 'sp_matrix_tag_pop'\n",
    "group_info = 'group_info/random'\n",
    "file_name = 'normalized_to_rating_filter_track_5_user_50.pkl'"
   ]
  },
  {
   "cell_type": "code",
   "execution_count": 46,
   "metadata": {},
   "outputs": [],
   "source": [
    "df = pd.read_pickle(os.path.join(dir_, folder, group_info, file_name))\n",
    "train = pd.read_pickle(os.path.join(dir_, folder, 'train_' + file_name))\n",
    "train_ = train[['uid', 'tid', 'rating', 'count','pop']]"
   ]
  },
  {
   "cell_type": "code",
   "execution_count": 47,
   "metadata": {},
   "outputs": [],
   "source": [
    "train_x = sp.load_npz(os.path.join(dir_, folder, group_info, str(group_size) + '_train_x_' + file_name + '.npz'))\n",
    "train_y = np.loadtxt(os.path.join(dir_, folder, 'train_y_' + file_name[:-3] + 'csv'), delimiter=',')\n",
    "test_x_sp = sp.load_npz(os.path.join(dir_, folder, group_info, str(group_size) + '_test_x_' + file_name + '.npz'))\n",
    "test_y_sp = np.loadtxt(os.path.join(dir_, folder, 'test_y_' + file_name[:-3] + 'csv'), delimiter=',')"
   ]
  },
  {
   "cell_type": "code",
   "execution_count": 48,
   "metadata": {},
   "outputs": [
    {
     "data": {
      "text/plain": [
       "((362677, 39418), 362677, (90670, 39418), 90670)"
      ]
     },
     "execution_count": 48,
     "metadata": {},
     "output_type": "execute_result"
    }
   ],
   "source": [
    "train_x.shape, len(train_y), test_x_sp.shape, len(test_y_sp)"
   ]
  },
  {
   "cell_type": "code",
   "execution_count": 49,
   "metadata": {},
   "outputs": [
    {
     "name": "stdout",
     "output_type": "stream",
     "text": [
      "Tid start position : 218\n",
      "Tag start position : 39355\n",
      "Length of vector : 39418\n",
      "----------------------------------------\n",
      "Number of unique users : 218\n",
      "Number of unique tracks : 39137\n"
     ]
    }
   ],
   "source": [
    "unique_users = len(df['uid'].unique())\n",
    "unique_tracks = len(df['tid'].unique())\n",
    "l = train_x.shape[1]\n",
    "tid_start = unique_users\n",
    "tag_start = unique_users + unique_tracks\n",
    "pop_start = unique_users + unique_tracks + 19\n",
    "group_start = unique_users + unique_tracks + 19 + 1\n",
    "print ('Tid start position : ' + str(tid_start))\n",
    "print ('Tag start position : ' + str(tag_start))\n",
    "print ('Length of vector : ' + str(l))\n",
    "print('----------------------------------------')\n",
    "print ('Number of unique users : ' + str(unique_users))\n",
    "print ('Number of unique tracks : ' + str(unique_tracks))"
   ]
  },
  {
   "cell_type": "code",
   "execution_count": 50,
   "metadata": {},
   "outputs": [],
   "source": [
    "track_ids = []\n",
    "for i in range(unique_tracks):\n",
    "    track_ids.append(i)\n",
    "\n",
    "all_tracks = pd.DataFrame()\n",
    "all_tracks['tid'] = track_ids\n",
    "all_tracks['count'] = 0"
   ]
  },
  {
   "cell_type": "code",
   "execution_count": 51,
   "metadata": {},
   "outputs": [
    {
     "data": {
      "application/vnd.jupyter.widget-view+json": {
       "model_id": "5e3f0ba303204c739ae1eda949210049",
       "version_major": 2,
       "version_minor": 0
      },
      "text/plain": [
       "HBox(children=(HTML(value=''), FloatProgress(value=0.0, max=218.0), HTML(value='')))"
      ]
     },
     "metadata": {},
     "output_type": "display_data"
    },
    {
     "name": "stdout",
     "output_type": "stream",
     "text": [
      "\n"
     ]
    }
   ],
   "source": [
    "x_test = []\n",
    "for i in tqdm(range(unique_users)):\n",
    "    user = train_[train_['uid']==i]\n",
    "    top_n = all_tracks.set_index('tid').add(user.set_index('tid'), fill_value=0).reset_index()\n",
    "    top_n = top_n[top_n['count']==0]\n",
    "    top_n['uid'] = i\n",
    "    top_n = top_n[['uid', 'tid']]\n",
    "    top_n = top_n.values.tolist()\n",
    "    x_test.extend(top_n)\n",
    "    "
   ]
  },
  {
   "cell_type": "code",
   "execution_count": 52,
   "metadata": {},
   "outputs": [
    {
     "data": {
      "text/html": [
       "<div>\n",
       "<style scoped>\n",
       "    .dataframe tbody tr th:only-of-type {\n",
       "        vertical-align: middle;\n",
       "    }\n",
       "\n",
       "    .dataframe tbody tr th {\n",
       "        vertical-align: top;\n",
       "    }\n",
       "\n",
       "    .dataframe thead th {\n",
       "        text-align: right;\n",
       "    }\n",
       "</style>\n",
       "<table border=\"1\" class=\"dataframe\">\n",
       "  <thead>\n",
       "    <tr style=\"text-align: right;\">\n",
       "      <th></th>\n",
       "      <th>uid</th>\n",
       "      <th>tid</th>\n",
       "      <th>count</th>\n",
       "      <th>tags</th>\n",
       "      <th>rating</th>\n",
       "      <th>pop</th>\n",
       "      <th>group_info_2</th>\n",
       "      <th>group_info_3</th>\n",
       "      <th>group_info_4</th>\n",
       "      <th>group_info_5</th>\n",
       "    </tr>\n",
       "  </thead>\n",
       "  <tbody>\n",
       "    <tr>\n",
       "      <th>0</th>\n",
       "      <td>0</td>\n",
       "      <td>0</td>\n",
       "      <td>2</td>\n",
       "      <td>1</td>\n",
       "      <td>1.50</td>\n",
       "      <td>5</td>\n",
       "      <td>67</td>\n",
       "      <td>8.0</td>\n",
       "      <td>34.0</td>\n",
       "      <td>23.0</td>\n",
       "    </tr>\n",
       "    <tr>\n",
       "      <th>2</th>\n",
       "      <td>0</td>\n",
       "      <td>1</td>\n",
       "      <td>2</td>\n",
       "      <td>2</td>\n",
       "      <td>1.50</td>\n",
       "      <td>10</td>\n",
       "      <td>67</td>\n",
       "      <td>8.0</td>\n",
       "      <td>34.0</td>\n",
       "      <td>23.0</td>\n",
       "    </tr>\n",
       "    <tr>\n",
       "      <th>7</th>\n",
       "      <td>0</td>\n",
       "      <td>2</td>\n",
       "      <td>4</td>\n",
       "      <td>0</td>\n",
       "      <td>3.00</td>\n",
       "      <td>24</td>\n",
       "      <td>67</td>\n",
       "      <td>8.0</td>\n",
       "      <td>34.0</td>\n",
       "      <td>23.0</td>\n",
       "    </tr>\n",
       "    <tr>\n",
       "      <th>8</th>\n",
       "      <td>0</td>\n",
       "      <td>3</td>\n",
       "      <td>1</td>\n",
       "      <td>0</td>\n",
       "      <td>0.25</td>\n",
       "      <td>9</td>\n",
       "      <td>67</td>\n",
       "      <td>8.0</td>\n",
       "      <td>34.0</td>\n",
       "      <td>23.0</td>\n",
       "    </tr>\n",
       "    <tr>\n",
       "      <th>10</th>\n",
       "      <td>0</td>\n",
       "      <td>4</td>\n",
       "      <td>5</td>\n",
       "      <td>1</td>\n",
       "      <td>3.50</td>\n",
       "      <td>14</td>\n",
       "      <td>67</td>\n",
       "      <td>8.0</td>\n",
       "      <td>34.0</td>\n",
       "      <td>23.0</td>\n",
       "    </tr>\n",
       "  </tbody>\n",
       "</table>\n",
       "</div>"
      ],
      "text/plain": [
       "    uid  tid  count  tags  rating  pop  group_info_2  group_info_3  \\\n",
       "0     0    0      2     1    1.50    5            67           8.0   \n",
       "2     0    1      2     2    1.50   10            67           8.0   \n",
       "7     0    2      4     0    3.00   24            67           8.0   \n",
       "8     0    3      1     0    0.25    9            67           8.0   \n",
       "10    0    4      5     1    3.50   14            67           8.0   \n",
       "\n",
       "    group_info_4  group_info_5  \n",
       "0           34.0          23.0  \n",
       "2           34.0          23.0  \n",
       "7           34.0          23.0  \n",
       "8           34.0          23.0  \n",
       "10          34.0          23.0  "
      ]
     },
     "execution_count": 52,
     "metadata": {},
     "output_type": "execute_result"
    }
   ],
   "source": [
    "df[:5]"
   ]
  },
  {
   "cell_type": "code",
   "execution_count": 53,
   "metadata": {},
   "outputs": [
    {
     "data": {
      "application/vnd.jupyter.widget-view+json": {
       "model_id": "e1c69a8bedc045879009ae87bb870869",
       "version_major": 2,
       "version_minor": 0
      },
      "text/plain": [
       "HBox(children=(HTML(value=''), FloatProgress(value=0.0, max=8169189.0), HTML(value='')))"
      ]
     },
     "metadata": {},
     "output_type": "display_data"
    },
    {
     "name": "stdout",
     "output_type": "stream",
     "text": [
      "\n"
     ]
    }
   ],
   "source": [
    "key = 'group_info_' + str(group_size)\n",
    "i = 0\n",
    "v = []\n",
    "sp_rows = []\n",
    "sp_cols = []\n",
    "for row in tqdm(x_test):\n",
    "    u = df[df['uid']==row[0]].reset_index()\n",
    "    group_index = u[key].iloc[0]\n",
    "    if not np.isnan(group_index):\n",
    "        sp_rows.append(i)\n",
    "        sp_cols.append(row[0])\n",
    "        v.append(1)\n",
    "\n",
    "        sp_rows.append(i)\n",
    "        sp_cols.append(tid_start + row[1])\n",
    "        v.append(1)\n",
    "\n",
    "        t = df[df['tid']==row[1]].reset_index()\n",
    "        tags = t['tags'].iloc[0]\n",
    "        sp_rows.append(i)\n",
    "        sp_cols.append(tag_start + tags)\n",
    "        v.append(1)\n",
    "\n",
    "        pop = t['pop'].iloc[0]\n",
    "        sp_rows.append(i)\n",
    "        sp_cols.append(pop_start)\n",
    "        v.append(pop)\n",
    "\n",
    "        sp_rows.append(i)\n",
    "        sp_cols.append(group_start + group_index)\n",
    "        v.append(1)\n",
    "\n",
    "        i += 1\n",
    "\n",
    "test_x = sp.csr_matrix((v, (sp_rows, sp_cols)), shape=(len(x_test), l), dtype=float)"
   ]
  },
  {
   "cell_type": "code",
   "execution_count": 54,
   "metadata": {},
   "outputs": [],
   "source": [
    "sp.save_npz(os.path.join(dir_, folder, group_info, str(group_size) + '_topN_test_x_' + file_name), test_x)"
   ]
  },
  {
   "cell_type": "code",
   "execution_count": 13,
   "metadata": {},
   "outputs": [],
   "source": [
    "test_x = sp.load_npz(os.path.join(dir_, folder, group_info, str(group_size) + '_topN_test_x_' + file_name + '.npz'))"
   ]
  },
  {
   "cell_type": "code",
   "execution_count": 55,
   "metadata": {},
   "outputs": [
    {
     "name": "stdout",
     "output_type": "stream",
     "text": [
      "  (0, 0)\t1.0\n",
      "  (0, 232)\t1.0\n",
      "  (0, 39356)\t1.0\n",
      "  (0, 39374)\t6.0\n",
      "  (0, 39398)\t1.0\n"
     ]
    }
   ],
   "source": [
    "print(test_x[1,:])"
   ]
  },
  {
   "cell_type": "code",
   "execution_count": 56,
   "metadata": {},
   "outputs": [
    {
     "name": "stderr",
     "output_type": "stream",
     "text": [
      "/home/han/anaconda3/envs/fm/lib/python3.6/site-packages/numpy/core/_asarray.py:136: VisibleDeprecationWarning: Creating an ndarray from ragged nested sequences (which is a list-or-tuple of lists-or-tuples-or ndarrays with different lengths or shapes) is deprecated. If you meant to do this, you must specify 'dtype=object' when creating the ndarray\n",
      "  return array(a, dtype, copy=False, order=order, subok=True)\n",
      "100%|██████████| 10/10 [00:30<00:00,  3.05s/epoch]\n"
     ]
    }
   ],
   "source": [
    "order = 4\n",
    "model = TFFMRegressor(\n",
    "    order=order, \n",
    "    rank=10, \n",
    "    optimizer=tf.train.AdamOptimizer(learning_rate=0.00001), \n",
    "    n_epochs=10, \n",
    "    batch_size=16384,\n",
    "    init_std=0.000001,\n",
    "    reg=0.0001,\n",
    "    input_type='sparse'\n",
    ")\n",
    "model.fit(train_x, train_y, show_progress=True)\n",
    "predictions = model.predict(test_x)"
   ]
  },
  {
   "cell_type": "code",
   "execution_count": 57,
   "metadata": {},
   "outputs": [
    {
     "data": {
      "text/plain": [
       "(8169189,\n",
       " array([0.07590166, 0.02602852, 0.15586586, ..., 0.00228661, 0.00228661,\n",
       "        0.00228661], dtype=float32))"
      ]
     },
     "execution_count": 57,
     "metadata": {},
     "output_type": "execute_result"
    }
   ],
   "source": [
    "len(predictions), predictions"
   ]
  },
  {
   "cell_type": "code",
   "execution_count": 58,
   "metadata": {},
   "outputs": [
    {
     "data": {
      "text/html": [
       "<div>\n",
       "<style scoped>\n",
       "    .dataframe tbody tr th:only-of-type {\n",
       "        vertical-align: middle;\n",
       "    }\n",
       "\n",
       "    .dataframe tbody tr th {\n",
       "        vertical-align: top;\n",
       "    }\n",
       "\n",
       "    .dataframe thead th {\n",
       "        text-align: right;\n",
       "    }\n",
       "</style>\n",
       "<table border=\"1\" class=\"dataframe\">\n",
       "  <thead>\n",
       "    <tr style=\"text-align: right;\">\n",
       "      <th></th>\n",
       "      <th>uid</th>\n",
       "      <th>tid</th>\n",
       "      <th>rating</th>\n",
       "    </tr>\n",
       "  </thead>\n",
       "  <tbody>\n",
       "    <tr>\n",
       "      <th>0</th>\n",
       "      <td>0</td>\n",
       "      <td>2</td>\n",
       "      <td>0.075902</td>\n",
       "    </tr>\n",
       "    <tr>\n",
       "      <th>1</th>\n",
       "      <td>0</td>\n",
       "      <td>14</td>\n",
       "      <td>0.026029</td>\n",
       "    </tr>\n",
       "    <tr>\n",
       "      <th>2</th>\n",
       "      <td>0</td>\n",
       "      <td>15</td>\n",
       "      <td>0.155866</td>\n",
       "    </tr>\n",
       "    <tr>\n",
       "      <th>3</th>\n",
       "      <td>0</td>\n",
       "      <td>20</td>\n",
       "      <td>0.042689</td>\n",
       "    </tr>\n",
       "    <tr>\n",
       "      <th>4</th>\n",
       "      <td>0</td>\n",
       "      <td>21</td>\n",
       "      <td>0.026346</td>\n",
       "    </tr>\n",
       "    <tr>\n",
       "      <th>5</th>\n",
       "      <td>0</td>\n",
       "      <td>24</td>\n",
       "      <td>0.073343</td>\n",
       "    </tr>\n",
       "    <tr>\n",
       "      <th>6</th>\n",
       "      <td>0</td>\n",
       "      <td>30</td>\n",
       "      <td>0.036833</td>\n",
       "    </tr>\n",
       "    <tr>\n",
       "      <th>7</th>\n",
       "      <td>0</td>\n",
       "      <td>44</td>\n",
       "      <td>0.037407</td>\n",
       "    </tr>\n",
       "    <tr>\n",
       "      <th>8</th>\n",
       "      <td>0</td>\n",
       "      <td>46</td>\n",
       "      <td>0.034913</td>\n",
       "    </tr>\n",
       "    <tr>\n",
       "      <th>9</th>\n",
       "      <td>0</td>\n",
       "      <td>48</td>\n",
       "      <td>0.244100</td>\n",
       "    </tr>\n",
       "  </tbody>\n",
       "</table>\n",
       "</div>"
      ],
      "text/plain": [
       "   uid  tid    rating\n",
       "0    0    2  0.075902\n",
       "1    0   14  0.026029\n",
       "2    0   15  0.155866\n",
       "3    0   20  0.042689\n",
       "4    0   21  0.026346\n",
       "5    0   24  0.073343\n",
       "6    0   30  0.036833\n",
       "7    0   44  0.037407\n",
       "8    0   46  0.034913\n",
       "9    0   48  0.244100"
      ]
     },
     "execution_count": 58,
     "metadata": {},
     "output_type": "execute_result"
    }
   ],
   "source": [
    "df2 = pd.DataFrame(x_test, columns=['uid', 'tid'])\n",
    "df2.insert(2, 'rating', predictions, False) \n",
    "df2[:10]"
   ]
  },
  {
   "cell_type": "code",
   "execution_count": 59,
   "metadata": {},
   "outputs": [],
   "source": [
    "df2.to_pickle(os.path.join(dir_, folder, group_info, str(group_size) + '_topN_pred_' + file_name[:-3] + 'pkl'))"
   ]
  },
  {
   "cell_type": "code",
   "execution_count": 60,
   "metadata": {},
   "outputs": [
    {
     "name": "stdout",
     "output_type": "stream",
     "text": [
      "RMSE: 2.618760355426134\n",
      "MAE: 1.9666562765261508\n"
     ]
    }
   ],
   "source": [
    "predictions = model.predict(test_x_sp)\n",
    "print('RMSE: {}'.format(math.sqrt(mean_squared_error(test_y_sp, predictions))))\n",
    "print('MAE: {}'.format(mean_absolute_error(test_y_sp, predictions)))"
   ]
  },
  {
   "cell_type": "code",
   "execution_count": 61,
   "metadata": {},
   "outputs": [
    {
     "name": "stdout",
     "output_type": "stream",
     "text": [
      "RMSE: 2.6187915391281593\n",
      "MAE: 1.96447210657737\n"
     ]
    }
   ],
   "source": [
    "predictions = model.predict(train_x)\n",
    "print('RMSE: {}'.format(math.sqrt(mean_squared_error(train_y, predictions))))\n",
    "print('MAE: {}'.format(mean_absolute_error(train_y, predictions)))"
   ]
  },
  {
   "cell_type": "code",
   "execution_count": 62,
   "metadata": {},
   "outputs": [],
   "source": [
    "predictions = df2"
   ]
  },
  {
   "cell_type": "code",
   "execution_count": 63,
   "metadata": {},
   "outputs": [
    {
     "data": {
      "text/html": [
       "<div>\n",
       "<style scoped>\n",
       "    .dataframe tbody tr th:only-of-type {\n",
       "        vertical-align: middle;\n",
       "    }\n",
       "\n",
       "    .dataframe tbody tr th {\n",
       "        vertical-align: top;\n",
       "    }\n",
       "\n",
       "    .dataframe thead th {\n",
       "        text-align: right;\n",
       "    }\n",
       "</style>\n",
       "<table border=\"1\" class=\"dataframe\">\n",
       "  <thead>\n",
       "    <tr style=\"text-align: right;\">\n",
       "      <th></th>\n",
       "      <th>uid</th>\n",
       "      <th>tid</th>\n",
       "      <th>count</th>\n",
       "      <th>tags</th>\n",
       "      <th>rating</th>\n",
       "      <th>pop</th>\n",
       "    </tr>\n",
       "  </thead>\n",
       "  <tbody>\n",
       "    <tr>\n",
       "      <th>7</th>\n",
       "      <td>0</td>\n",
       "      <td>2</td>\n",
       "      <td>4</td>\n",
       "      <td>0</td>\n",
       "      <td>3.00</td>\n",
       "      <td>24</td>\n",
       "    </tr>\n",
       "    <tr>\n",
       "      <th>24</th>\n",
       "      <td>0</td>\n",
       "      <td>14</td>\n",
       "      <td>2</td>\n",
       "      <td>1</td>\n",
       "      <td>1.50</td>\n",
       "      <td>6</td>\n",
       "    </tr>\n",
       "    <tr>\n",
       "      <th>25</th>\n",
       "      <td>0</td>\n",
       "      <td>15</td>\n",
       "      <td>12</td>\n",
       "      <td>0</td>\n",
       "      <td>4.75</td>\n",
       "      <td>53</td>\n",
       "    </tr>\n",
       "    <tr>\n",
       "      <th>33</th>\n",
       "      <td>0</td>\n",
       "      <td>20</td>\n",
       "      <td>3</td>\n",
       "      <td>12</td>\n",
       "      <td>2.50</td>\n",
       "      <td>12</td>\n",
       "    </tr>\n",
       "    <tr>\n",
       "      <th>34</th>\n",
       "      <td>0</td>\n",
       "      <td>21</td>\n",
       "      <td>1</td>\n",
       "      <td>5</td>\n",
       "      <td>0.25</td>\n",
       "      <td>6</td>\n",
       "    </tr>\n",
       "    <tr>\n",
       "      <th>37</th>\n",
       "      <td>0</td>\n",
       "      <td>24</td>\n",
       "      <td>5</td>\n",
       "      <td>9</td>\n",
       "      <td>3.50</td>\n",
       "      <td>23</td>\n",
       "    </tr>\n",
       "    <tr>\n",
       "      <th>46</th>\n",
       "      <td>0</td>\n",
       "      <td>30</td>\n",
       "      <td>5</td>\n",
       "      <td>1</td>\n",
       "      <td>3.50</td>\n",
       "      <td>10</td>\n",
       "    </tr>\n",
       "    <tr>\n",
       "      <th>61</th>\n",
       "      <td>0</td>\n",
       "      <td>44</td>\n",
       "      <td>13</td>\n",
       "      <td>2</td>\n",
       "      <td>4.75</td>\n",
       "      <td>10</td>\n",
       "    </tr>\n",
       "    <tr>\n",
       "      <th>66</th>\n",
       "      <td>0</td>\n",
       "      <td>46</td>\n",
       "      <td>2</td>\n",
       "      <td>6</td>\n",
       "      <td>1.50</td>\n",
       "      <td>9</td>\n",
       "    </tr>\n",
       "    <tr>\n",
       "      <th>68</th>\n",
       "      <td>0</td>\n",
       "      <td>48</td>\n",
       "      <td>4</td>\n",
       "      <td>2</td>\n",
       "      <td>3.00</td>\n",
       "      <td>85</td>\n",
       "    </tr>\n",
       "  </tbody>\n",
       "</table>\n",
       "</div>"
      ],
      "text/plain": [
       "    uid  tid  count  tags  rating  pop\n",
       "7     0    2      4     0    3.00   24\n",
       "24    0   14      2     1    1.50    6\n",
       "25    0   15     12     0    4.75   53\n",
       "33    0   20      3    12    2.50   12\n",
       "34    0   21      1     5    0.25    6\n",
       "37    0   24      5     9    3.50   23\n",
       "46    0   30      5     1    3.50   10\n",
       "61    0   44     13     2    4.75   10\n",
       "66    0   46      2     6    1.50    9\n",
       "68    0   48      4     2    3.00   85"
      ]
     },
     "execution_count": 63,
     "metadata": {},
     "output_type": "execute_result"
    }
   ],
   "source": [
    "test = pd.read_pickle(os.path.join(dir_, folder, 'test_' + file_name[:-3] + 'pkl'))\n",
    "test.sort_values(by=['uid','tid'])[:10]"
   ]
  },
  {
   "cell_type": "code",
   "execution_count": 64,
   "metadata": {},
   "outputs": [
    {
     "data": {
      "text/plain": [
       "218"
      ]
     },
     "execution_count": 64,
     "metadata": {},
     "output_type": "execute_result"
    }
   ],
   "source": [
    "num_user = len(predictions['uid'].unique())\n",
    "num_user"
   ]
  },
  {
   "cell_type": "code",
   "execution_count": 65,
   "metadata": {},
   "outputs": [
    {
     "data": {
      "application/vnd.jupyter.widget-view+json": {
       "model_id": "1274208a1e11485ca41b298fc4de89bb",
       "version_major": 2,
       "version_minor": 0
      },
      "text/plain": [
       "HBox(children=(HTML(value=''), FloatProgress(value=0.0, max=218.0), HTML(value='')))"
      ]
     },
     "metadata": {},
     "output_type": "display_data"
    },
    {
     "name": "stdout",
     "output_type": "stream",
     "text": [
      "\n"
     ]
    },
    {
     "data": {
      "application/vnd.jupyter.widget-view+json": {
       "model_id": "eb627a9137d540ecae44f75085375a25",
       "version_major": 2,
       "version_minor": 0
      },
      "text/plain": [
       "HBox(children=(HTML(value=''), FloatProgress(value=0.0, max=218.0), HTML(value='')))"
      ]
     },
     "metadata": {},
     "output_type": "display_data"
    },
    {
     "name": "stdout",
     "output_type": "stream",
     "text": [
      "\n",
      "0.05275229357798171\n"
     ]
    }
   ],
   "source": [
    "# Personal Recommendation\n",
    "n=20\n",
    "top_n_lists = []\n",
    "\n",
    "for i in tqdm(range(num_user)):\n",
    "    prediction = predictions[predictions['uid'] == i]\n",
    "    prediction = prediction.sort_values(by=['rating'],  ascending=False)\n",
    "    prediction = prediction[:n]\n",
    "#     print(prediction)\n",
    "    top_n_list = []\n",
    "    for _, row in prediction.iterrows():\n",
    "        top_n_list.append(row[1])\n",
    "#     print(top_n_list)\n",
    "    top_n_lists.append(top_n_list)\n",
    "\n",
    "evaluation = []\n",
    "satisfication = 0\n",
    "for i in tqdm(range(num_user)):\n",
    "    top_n_list = top_n_lists[i]\n",
    "    precision = 0\n",
    "    for j in top_n_list:\n",
    "        p = test[test['uid'] == i]\n",
    "        p = p[p['tid']==j]\n",
    "        if len(p) > 0:\n",
    "            precision += 1\n",
    "    satisfication += precision / n\n",
    "    evaluation.append(precision)\n",
    "#     print(precision, satisfication)\n",
    "print(satisfication/num_user)"
   ]
  },
  {
   "cell_type": "code",
   "execution_count": 66,
   "metadata": {},
   "outputs": [
    {
     "data": {
      "text/html": [
       "<div>\n",
       "<style scoped>\n",
       "    .dataframe tbody tr th:only-of-type {\n",
       "        vertical-align: middle;\n",
       "    }\n",
       "\n",
       "    .dataframe tbody tr th {\n",
       "        vertical-align: top;\n",
       "    }\n",
       "\n",
       "    .dataframe thead th {\n",
       "        text-align: right;\n",
       "    }\n",
       "</style>\n",
       "<table border=\"1\" class=\"dataframe\">\n",
       "  <thead>\n",
       "    <tr style=\"text-align: right;\">\n",
       "      <th></th>\n",
       "      <th>uid</th>\n",
       "      <th>tid</th>\n",
       "      <th>count</th>\n",
       "      <th>tags</th>\n",
       "      <th>rating</th>\n",
       "      <th>pop</th>\n",
       "    </tr>\n",
       "  </thead>\n",
       "  <tbody>\n",
       "    <tr>\n",
       "      <th>0</th>\n",
       "      <td>0</td>\n",
       "      <td>0</td>\n",
       "      <td>2</td>\n",
       "      <td>1</td>\n",
       "      <td>1.50</td>\n",
       "      <td>5</td>\n",
       "    </tr>\n",
       "    <tr>\n",
       "      <th>2</th>\n",
       "      <td>0</td>\n",
       "      <td>1</td>\n",
       "      <td>2</td>\n",
       "      <td>2</td>\n",
       "      <td>1.50</td>\n",
       "      <td>10</td>\n",
       "    </tr>\n",
       "    <tr>\n",
       "      <th>8</th>\n",
       "      <td>0</td>\n",
       "      <td>3</td>\n",
       "      <td>1</td>\n",
       "      <td>0</td>\n",
       "      <td>0.25</td>\n",
       "      <td>9</td>\n",
       "    </tr>\n",
       "    <tr>\n",
       "      <th>10</th>\n",
       "      <td>0</td>\n",
       "      <td>4</td>\n",
       "      <td>5</td>\n",
       "      <td>1</td>\n",
       "      <td>3.50</td>\n",
       "      <td>14</td>\n",
       "    </tr>\n",
       "    <tr>\n",
       "      <th>12</th>\n",
       "      <td>0</td>\n",
       "      <td>5</td>\n",
       "      <td>2</td>\n",
       "      <td>4</td>\n",
       "      <td>1.50</td>\n",
       "      <td>28</td>\n",
       "    </tr>\n",
       "    <tr>\n",
       "      <th>13</th>\n",
       "      <td>0</td>\n",
       "      <td>6</td>\n",
       "      <td>4</td>\n",
       "      <td>8</td>\n",
       "      <td>3.00</td>\n",
       "      <td>8</td>\n",
       "    </tr>\n",
       "    <tr>\n",
       "      <th>14</th>\n",
       "      <td>0</td>\n",
       "      <td>7</td>\n",
       "      <td>5</td>\n",
       "      <td>1</td>\n",
       "      <td>3.50</td>\n",
       "      <td>6</td>\n",
       "    </tr>\n",
       "    <tr>\n",
       "      <th>15</th>\n",
       "      <td>0</td>\n",
       "      <td>8</td>\n",
       "      <td>18</td>\n",
       "      <td>4</td>\n",
       "      <td>5.00</td>\n",
       "      <td>21</td>\n",
       "    </tr>\n",
       "    <tr>\n",
       "      <th>17</th>\n",
       "      <td>0</td>\n",
       "      <td>9</td>\n",
       "      <td>1</td>\n",
       "      <td>2</td>\n",
       "      <td>0.25</td>\n",
       "      <td>32</td>\n",
       "    </tr>\n",
       "    <tr>\n",
       "      <th>20</th>\n",
       "      <td>0</td>\n",
       "      <td>10</td>\n",
       "      <td>1</td>\n",
       "      <td>1</td>\n",
       "      <td>0.25</td>\n",
       "      <td>10</td>\n",
       "    </tr>\n",
       "  </tbody>\n",
       "</table>\n",
       "</div>"
      ],
      "text/plain": [
       "    uid  tid  count  tags  rating  pop\n",
       "0     0    0      2     1    1.50    5\n",
       "2     0    1      2     2    1.50   10\n",
       "8     0    3      1     0    0.25    9\n",
       "10    0    4      5     1    3.50   14\n",
       "12    0    5      2     4    1.50   28\n",
       "13    0    6      4     8    3.00    8\n",
       "14    0    7      5     1    3.50    6\n",
       "15    0    8     18     4    5.00   21\n",
       "17    0    9      1     2    0.25   32\n",
       "20    0   10      1     1    0.25   10"
      ]
     },
     "execution_count": 66,
     "metadata": {},
     "output_type": "execute_result"
    }
   ],
   "source": [
    "train.sort_values(by=['uid','tid'])[:10]"
   ]
  },
  {
   "cell_type": "code",
   "execution_count": null,
   "metadata": {},
   "outputs": [],
   "source": []
  },
  {
   "cell_type": "code",
   "execution_count": null,
   "metadata": {},
   "outputs": [],
   "source": []
  }
 ],
 "metadata": {
  "kernelspec": {
   "display_name": "Python 3",
   "language": "python",
   "name": "python3"
  },
  "language_info": {
   "codemirror_mode": {
    "name": "ipython",
    "version": 3
   },
   "file_extension": ".py",
   "mimetype": "text/x-python",
   "name": "python",
   "nbconvert_exporter": "python",
   "pygments_lexer": "ipython3",
   "version": "3.6.12"
  }
 },
 "nbformat": 4,
 "nbformat_minor": 4
}
