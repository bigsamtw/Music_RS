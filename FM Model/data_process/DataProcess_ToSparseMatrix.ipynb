{
 "cells": [
  {
   "cell_type": "code",
   "execution_count": 1,
   "metadata": {},
   "outputs": [],
   "source": [
    "import pandas as pd\n",
    "import os\n",
    "import numpy as np\n",
    "import scipy.sparse as sp\n",
    "from tqdm.notebook import tqdm\n",
    "\n",
    "dir_ = '../data'\n",
    "folder = 'sp_matrix_tag_pop'\n",
    "file_name = 'normalized_to_rating_filter_track_5_user_50.pkl'"
   ]
  },
  {
   "cell_type": "code",
   "execution_count": 2,
   "metadata": {},
   "outputs": [],
   "source": [
    "lh =  pd.read_pickle(os.path.join(dir_, folder, file_name))\n",
    "train = pd.read_pickle(os.path.join(dir_, folder, 'train_' + file_name))\n",
    "test = pd.read_pickle(os.path.join(dir_, folder, 'test_' + file_name))"
   ]
  },
  {
   "cell_type": "code",
   "execution_count": 3,
   "metadata": {},
   "outputs": [
    {
     "name": "stdout",
     "output_type": "stream",
     "text": [
      "Number of unique users : 218\n",
      "Number of unique tracks : 39137\n",
      "Times of tracks being listened: 453347\n"
     ]
    }
   ],
   "source": [
    "unique_users = len(lh['uid'].unique())\n",
    "unique_tracks = len(lh['tid'].unique())\n",
    "tid_start = unique_users\n",
    "tag_start = unique_users + unique_tracks\n",
    "pop_start = unique_users + unique_tracks + 19\n",
    "group_start = unique_users + unique_tracks + 19 + 1\n",
    "print ('Number of unique users : ' + str(unique_users))\n",
    "print ('Number of unique tracks : ' + str(unique_tracks))\n",
    "print ('Times of tracks being listened: ' + str(len(lh)))"
   ]
  },
  {
   "cell_type": "code",
   "execution_count": 4,
   "metadata": {},
   "outputs": [
    {
     "data": {
      "text/plain": [
       "(362677, 90670)"
      ]
     },
     "execution_count": 4,
     "metadata": {},
     "output_type": "execute_result"
    }
   ],
   "source": [
    "len(train), len(test)"
   ]
  },
  {
   "cell_type": "code",
   "execution_count": 78,
   "metadata": {},
   "outputs": [],
   "source": [
    "# # tag\n",
    "# l = unique_users + unique_tracks + 19\n",
    "# i = 0\n",
    "# sp_rows = []\n",
    "# sp_cols = []\n",
    "# for index, row in tqdm(train.iterrows(), total=len(train)):\n",
    "#     sp_rows.append(i)\n",
    "#     sp_cols.append(row['uid'])\n",
    "    \n",
    "#     sp_rows.append(i)\n",
    "#     sp_cols.append(tid_start + row['tid'])\n",
    "    \n",
    "#     # only one tag\n",
    "#     sp_rows.append(i)\n",
    "#     sp_cols.append(tag_start + row['tags'])\n",
    "\n",
    "#     # many tags\n",
    "# #     for tag in row['tags']:\n",
    "# #         sp_rows.append(i)\n",
    "# #         sp_cols.append(tag_start + tag)\n",
    "        \n",
    "#     i += 1\n",
    "    \n",
    "# w = np.ones(len(sp_rows))\n",
    "# train_sp = sp.csr_matrix((w, (sp_rows, sp_cols)), shape=(len(train), l), dtype=float)"
   ]
  },
  {
   "cell_type": "code",
   "execution_count": 79,
   "metadata": {},
   "outputs": [],
   "source": [
    "# # pop\n",
    "# l = unique_users + unique_tracks + 1\n",
    "# i = 0\n",
    "# v = []\n",
    "# sp_rows = []\n",
    "# sp_cols = []\n",
    "# for index, row in tqdm(train.iterrows(), total=len(train)):\n",
    "#     sp_rows.append(i)\n",
    "#     sp_cols.append(row['uid'])\n",
    "#     v.append(1)\n",
    "    \n",
    "#     sp_rows.append(i)\n",
    "#     sp_cols.append(tid_start + row['tid'])\n",
    "#     v.append(1)\n",
    "\n",
    "#     sp_rows.append(i)\n",
    "#     sp_cols.append(tag_start)\n",
    "#     v.append(row['pop'])\n",
    "        \n",
    "#     i += 1\n",
    "\n",
    "# train_sp = sp.csr_matrix((v, (sp_rows, sp_cols)), shape=(len(train), l), dtype=float)"
   ]
  },
  {
   "cell_type": "code",
   "execution_count": 80,
   "metadata": {},
   "outputs": [],
   "source": [
    "# Discrete popularity\n",
    "# pop_list = lh['pop'].unique()\n",
    "# pop_list = sorted(pop_list, reverse=False)\n",
    "\n",
    "# v1 = []\n",
    "# v2 = []\n",
    "# sum_pop = 0\n",
    "# thres_pop = []\n",
    "# for pop in pop_list:\n",
    "#     v1.append(pop)\n",
    "#     v2.append(len(lh[lh['pop']==pop]))\n",
    "#     sum_pop += len(lh[lh['pop']==pop])\n",
    "# sum_pop_ = 0   \n",
    "# for pop in pop_list:\n",
    "#     sum_pop_ += len(lh[lh['pop']==pop])\n",
    "#     if sum_pop_ >= sum_pop/5*(len(thres_pop)+1):\n",
    "#         thres_pop.append(pop)\n",
    "# print(thres_pop)\n",
    "\n",
    "# import seaborn as sns \n",
    "# import matplotlib.pyplot as plt # 引入matplotlib的函數\n",
    "\n",
    "# x = v1 # x軸的值\n",
    "# y = v2  # y軸的值\n",
    "\n",
    "# plt.title(\"Count of items with different popularity\") # 圖的標題\n",
    "# plt.xlabel(\"Popularity\") # x軸的名稱\n",
    "# plt.ylabel(\"Count\") # y軸的名稱\n",
    "# plt.bar(x, y) # 繪製長條圖\n",
    "# plt.show() # 顯現圖形 \n",
    "\n",
    "# dict_pop = {}\n",
    "# for pop in pop_list:\n",
    "#     if pop < thres_pop[0]:\n",
    "#         dict_pop[pop] = 1\n",
    "#     elif pop < thres_pop[1]:\n",
    "#         dict_pop[pop] = 2\n",
    "#     elif pop < thres_pop[2]:\n",
    "#         dict_pop[pop] = 3\n",
    "#     elif pop < thres_pop[3]:\n",
    "#         dict_pop[pop] = 4\n",
    "#     else:\n",
    "#         dict_pop[pop] = 5\n",
    "\n",
    "# train['pop'] = train['pop'].map(dict_pop)\n",
    "# train[:5]\n",
    "\n"
   ]
  },
  {
   "cell_type": "code",
   "execution_count": 81,
   "metadata": {},
   "outputs": [],
   "source": [
    "# tag and pop\n",
    "# l = unique_users + unique_tracks + 19 + 1\n",
    "# i = 0\n",
    "# v = []\n",
    "# sp_rows = []\n",
    "# sp_cols = []\n",
    "# for index, row in tqdm(train.iterrows(), total=len(train)):\n",
    "#     sp_rows.append(i)\n",
    "#     sp_cols.append(row['uid'])\n",
    "#     v.append(1)\n",
    "    \n",
    "#     sp_rows.append(i)\n",
    "#     sp_cols.append(tid_start + row['tid'])\n",
    "#     v.append(1)\n",
    "    \n",
    "#     sp_rows.append(i)\n",
    "#     sp_cols.append(tag_start + row['tags'])\n",
    "#     v.append(1)\n",
    "\n",
    "#     sp_rows.append(i)\n",
    "#     sp_cols.append(pop_start)\n",
    "#     v.append(row['pop'])\n",
    "        \n",
    "#     i += 1\n",
    "\n",
    "# train_sp = sp.csr_matrix((v, (sp_rows, sp_cols)), shape=(len(train), l), dtype=float)"
   ]
  },
  {
   "cell_type": "code",
   "execution_count": 5,
   "metadata": {},
   "outputs": [],
   "source": [
    "groups_n =[]\n",
    "group_sizes = ['2', '3', '4', '5']\n",
    "group2 = {}\n",
    "group3 = {}\n",
    "group4 = {}\n",
    "group5 = {}\n",
    "group_dir_ = '../data/groups/random'\n",
    "for i in range(len(group_sizes)):\n",
    "    groups = np.loadtxt(os.path.join(group_dir_, group_sizes[i] + '.csv'), delimiter=',')\n",
    "    groups_n.append(groups)\n",
    "    j = 0;\n",
    "    for group in groups:\n",
    "        for user in group:\n",
    "            if len(group) == 2:\n",
    "                group2[user] = j\n",
    "            elif len(group) == 3:\n",
    "                group3[user] = j\n",
    "            elif len(group) == 4:\n",
    "                group4[user] = j\n",
    "            elif len(group) == 5:\n",
    "                group5[user] = j\n",
    "        j += 1"
   ]
  },
  {
   "cell_type": "code",
   "execution_count": 6,
   "metadata": {},
   "outputs": [
    {
     "data": {
      "text/html": [
       "<div>\n",
       "<style scoped>\n",
       "    .dataframe tbody tr th:only-of-type {\n",
       "        vertical-align: middle;\n",
       "    }\n",
       "\n",
       "    .dataframe tbody tr th {\n",
       "        vertical-align: top;\n",
       "    }\n",
       "\n",
       "    .dataframe thead th {\n",
       "        text-align: right;\n",
       "    }\n",
       "</style>\n",
       "<table border=\"1\" class=\"dataframe\">\n",
       "  <thead>\n",
       "    <tr style=\"text-align: right;\">\n",
       "      <th></th>\n",
       "      <th>uid</th>\n",
       "      <th>tid</th>\n",
       "      <th>count</th>\n",
       "      <th>tags</th>\n",
       "      <th>rating</th>\n",
       "      <th>pop</th>\n",
       "      <th>group_info_2</th>\n",
       "      <th>group_info_3</th>\n",
       "      <th>group_info_4</th>\n",
       "      <th>group_info_5</th>\n",
       "    </tr>\n",
       "  </thead>\n",
       "  <tbody>\n",
       "    <tr>\n",
       "      <th>0</th>\n",
       "      <td>0</td>\n",
       "      <td>0</td>\n",
       "      <td>2</td>\n",
       "      <td>1</td>\n",
       "      <td>1.50</td>\n",
       "      <td>5</td>\n",
       "      <td>67</td>\n",
       "      <td>8.0</td>\n",
       "      <td>34.0</td>\n",
       "      <td>23.0</td>\n",
       "    </tr>\n",
       "    <tr>\n",
       "      <th>2</th>\n",
       "      <td>0</td>\n",
       "      <td>1</td>\n",
       "      <td>2</td>\n",
       "      <td>2</td>\n",
       "      <td>1.50</td>\n",
       "      <td>10</td>\n",
       "      <td>67</td>\n",
       "      <td>8.0</td>\n",
       "      <td>34.0</td>\n",
       "      <td>23.0</td>\n",
       "    </tr>\n",
       "    <tr>\n",
       "      <th>7</th>\n",
       "      <td>0</td>\n",
       "      <td>2</td>\n",
       "      <td>4</td>\n",
       "      <td>0</td>\n",
       "      <td>3.00</td>\n",
       "      <td>24</td>\n",
       "      <td>67</td>\n",
       "      <td>8.0</td>\n",
       "      <td>34.0</td>\n",
       "      <td>23.0</td>\n",
       "    </tr>\n",
       "    <tr>\n",
       "      <th>8</th>\n",
       "      <td>0</td>\n",
       "      <td>3</td>\n",
       "      <td>1</td>\n",
       "      <td>0</td>\n",
       "      <td>0.25</td>\n",
       "      <td>9</td>\n",
       "      <td>67</td>\n",
       "      <td>8.0</td>\n",
       "      <td>34.0</td>\n",
       "      <td>23.0</td>\n",
       "    </tr>\n",
       "    <tr>\n",
       "      <th>10</th>\n",
       "      <td>0</td>\n",
       "      <td>4</td>\n",
       "      <td>5</td>\n",
       "      <td>1</td>\n",
       "      <td>3.50</td>\n",
       "      <td>14</td>\n",
       "      <td>67</td>\n",
       "      <td>8.0</td>\n",
       "      <td>34.0</td>\n",
       "      <td>23.0</td>\n",
       "    </tr>\n",
       "  </tbody>\n",
       "</table>\n",
       "</div>"
      ],
      "text/plain": [
       "    uid  tid  count  tags  rating  pop  group_info_2  group_info_3  \\\n",
       "0     0    0      2     1    1.50    5            67           8.0   \n",
       "2     0    1      2     2    1.50   10            67           8.0   \n",
       "7     0    2      4     0    3.00   24            67           8.0   \n",
       "8     0    3      1     0    0.25    9            67           8.0   \n",
       "10    0    4      5     1    3.50   14            67           8.0   \n",
       "\n",
       "    group_info_4  group_info_5  \n",
       "0           34.0          23.0  \n",
       "2           34.0          23.0  \n",
       "7           34.0          23.0  \n",
       "8           34.0          23.0  \n",
       "10          34.0          23.0  "
      ]
     },
     "execution_count": 6,
     "metadata": {},
     "output_type": "execute_result"
    }
   ],
   "source": [
    "lh['group_info_2'] = lh['uid'].map(group2)\n",
    "lh['group_info_3'] = lh['uid'].map(group3)\n",
    "lh['group_info_4'] = lh['uid'].map(group4)\n",
    "lh['group_info_5'] = lh['uid'].map(group5)\n",
    "lh[:5]"
   ]
  },
  {
   "cell_type": "code",
   "execution_count": 97,
   "metadata": {},
   "outputs": [],
   "source": [
    "# lh.to_pickle(os.path.join(dir_, folder, 'group_info/random', file_name))"
   ]
  },
  {
   "cell_type": "code",
   "execution_count": 7,
   "metadata": {},
   "outputs": [
    {
     "data": {
      "text/html": [
       "<div>\n",
       "<style scoped>\n",
       "    .dataframe tbody tr th:only-of-type {\n",
       "        vertical-align: middle;\n",
       "    }\n",
       "\n",
       "    .dataframe tbody tr th {\n",
       "        vertical-align: top;\n",
       "    }\n",
       "\n",
       "    .dataframe thead th {\n",
       "        text-align: right;\n",
       "    }\n",
       "</style>\n",
       "<table border=\"1\" class=\"dataframe\">\n",
       "  <thead>\n",
       "    <tr style=\"text-align: right;\">\n",
       "      <th></th>\n",
       "      <th>uid</th>\n",
       "      <th>tid</th>\n",
       "      <th>count</th>\n",
       "      <th>tags</th>\n",
       "      <th>rating</th>\n",
       "      <th>pop</th>\n",
       "    </tr>\n",
       "  </thead>\n",
       "  <tbody>\n",
       "    <tr>\n",
       "      <th>192053</th>\n",
       "      <td>66</td>\n",
       "      <td>19034</td>\n",
       "      <td>1</td>\n",
       "      <td>18</td>\n",
       "      <td>0.25</td>\n",
       "      <td>7</td>\n",
       "    </tr>\n",
       "    <tr>\n",
       "      <th>194026</th>\n",
       "      <td>67</td>\n",
       "      <td>32848</td>\n",
       "      <td>5</td>\n",
       "      <td>1</td>\n",
       "      <td>4.25</td>\n",
       "      <td>16</td>\n",
       "    </tr>\n",
       "    <tr>\n",
       "      <th>515160</th>\n",
       "      <td>166</td>\n",
       "      <td>34145</td>\n",
       "      <td>2</td>\n",
       "      <td>1</td>\n",
       "      <td>3.00</td>\n",
       "      <td>7</td>\n",
       "    </tr>\n",
       "    <tr>\n",
       "      <th>172679</th>\n",
       "      <td>61</td>\n",
       "      <td>2412</td>\n",
       "      <td>16</td>\n",
       "      <td>17</td>\n",
       "      <td>5.00</td>\n",
       "      <td>11</td>\n",
       "    </tr>\n",
       "    <tr>\n",
       "      <th>224741</th>\n",
       "      <td>73</td>\n",
       "      <td>37153</td>\n",
       "      <td>2</td>\n",
       "      <td>0</td>\n",
       "      <td>1.50</td>\n",
       "      <td>7</td>\n",
       "    </tr>\n",
       "  </tbody>\n",
       "</table>\n",
       "</div>"
      ],
      "text/plain": [
       "        uid    tid  count  tags  rating  pop\n",
       "192053   66  19034      1    18    0.25    7\n",
       "194026   67  32848      5     1    4.25   16\n",
       "515160  166  34145      2     1    3.00    7\n",
       "172679   61   2412     16    17    5.00   11\n",
       "224741   73  37153      2     0    1.50    7"
      ]
     },
     "execution_count": 7,
     "metadata": {},
     "output_type": "execute_result"
    }
   ],
   "source": [
    "train[:5]"
   ]
  },
  {
   "cell_type": "code",
   "execution_count": 8,
   "metadata": {},
   "outputs": [
    {
     "data": {
      "text/html": [
       "<div>\n",
       "<style scoped>\n",
       "    .dataframe tbody tr th:only-of-type {\n",
       "        vertical-align: middle;\n",
       "    }\n",
       "\n",
       "    .dataframe tbody tr th {\n",
       "        vertical-align: top;\n",
       "    }\n",
       "\n",
       "    .dataframe thead th {\n",
       "        text-align: right;\n",
       "    }\n",
       "</style>\n",
       "<table border=\"1\" class=\"dataframe\">\n",
       "  <thead>\n",
       "    <tr style=\"text-align: right;\">\n",
       "      <th></th>\n",
       "      <th>uid</th>\n",
       "      <th>tid</th>\n",
       "      <th>count</th>\n",
       "      <th>tags</th>\n",
       "      <th>rating</th>\n",
       "      <th>pop</th>\n",
       "      <th>group_info_2</th>\n",
       "      <th>group_info_3</th>\n",
       "      <th>group_info_4</th>\n",
       "      <th>group_info_5</th>\n",
       "    </tr>\n",
       "  </thead>\n",
       "  <tbody>\n",
       "    <tr>\n",
       "      <th>192053</th>\n",
       "      <td>66</td>\n",
       "      <td>19034</td>\n",
       "      <td>1</td>\n",
       "      <td>18</td>\n",
       "      <td>0.25</td>\n",
       "      <td>7</td>\n",
       "      <td>46</td>\n",
       "      <td>0.0</td>\n",
       "      <td>1.0</td>\n",
       "      <td>39.0</td>\n",
       "    </tr>\n",
       "    <tr>\n",
       "      <th>194026</th>\n",
       "      <td>67</td>\n",
       "      <td>32848</td>\n",
       "      <td>5</td>\n",
       "      <td>1</td>\n",
       "      <td>4.25</td>\n",
       "      <td>16</td>\n",
       "      <td>18</td>\n",
       "      <td>67.0</td>\n",
       "      <td>14.0</td>\n",
       "      <td>13.0</td>\n",
       "    </tr>\n",
       "    <tr>\n",
       "      <th>515160</th>\n",
       "      <td>166</td>\n",
       "      <td>34145</td>\n",
       "      <td>2</td>\n",
       "      <td>1</td>\n",
       "      <td>3.00</td>\n",
       "      <td>7</td>\n",
       "      <td>84</td>\n",
       "      <td>54.0</td>\n",
       "      <td>29.0</td>\n",
       "      <td>6.0</td>\n",
       "    </tr>\n",
       "    <tr>\n",
       "      <th>172679</th>\n",
       "      <td>61</td>\n",
       "      <td>2412</td>\n",
       "      <td>16</td>\n",
       "      <td>17</td>\n",
       "      <td>5.00</td>\n",
       "      <td>11</td>\n",
       "      <td>54</td>\n",
       "      <td>2.0</td>\n",
       "      <td>24.0</td>\n",
       "      <td>31.0</td>\n",
       "    </tr>\n",
       "    <tr>\n",
       "      <th>224741</th>\n",
       "      <td>73</td>\n",
       "      <td>37153</td>\n",
       "      <td>2</td>\n",
       "      <td>0</td>\n",
       "      <td>1.50</td>\n",
       "      <td>7</td>\n",
       "      <td>8</td>\n",
       "      <td>NaN</td>\n",
       "      <td>25.0</td>\n",
       "      <td>7.0</td>\n",
       "    </tr>\n",
       "  </tbody>\n",
       "</table>\n",
       "</div>"
      ],
      "text/plain": [
       "        uid    tid  count  tags  rating  pop  group_info_2  group_info_3  \\\n",
       "192053   66  19034      1    18    0.25    7            46           0.0   \n",
       "194026   67  32848      5     1    4.25   16            18          67.0   \n",
       "515160  166  34145      2     1    3.00    7            84          54.0   \n",
       "172679   61   2412     16    17    5.00   11            54           2.0   \n",
       "224741   73  37153      2     0    1.50    7             8           NaN   \n",
       "\n",
       "        group_info_4  group_info_5  \n",
       "192053           1.0          39.0  \n",
       "194026          14.0          13.0  \n",
       "515160          29.0           6.0  \n",
       "172679          24.0          31.0  \n",
       "224741          25.0           7.0  "
      ]
     },
     "execution_count": 8,
     "metadata": {},
     "output_type": "execute_result"
    }
   ],
   "source": [
    "train['group_info_2'] = train['uid'].map(group2)\n",
    "train['group_info_3'] = train['uid'].map(group3)\n",
    "train['group_info_4'] = train['uid'].map(group4)\n",
    "train['group_info_5'] = train['uid'].map(group5)\n",
    "train[:5]"
   ]
  },
  {
   "cell_type": "code",
   "execution_count": 89,
   "metadata": {},
   "outputs": [
    {
     "data": {
      "application/vnd.jupyter.widget-view+json": {
       "model_id": "50292652ece24ea984d29b6549dfb8ca",
       "version_major": 2,
       "version_minor": 0
      },
      "text/plain": [
       "HBox(children=(HTML(value=''), FloatProgress(value=0.0, max=362677.0), HTML(value='')))"
      ]
     },
     "metadata": {},
     "output_type": "display_data"
    },
    {
     "name": "stdout",
     "output_type": "stream",
     "text": [
      "\n"
     ]
    }
   ],
   "source": [
    "# tag and pop\n",
    "group_size = 2\n",
    "key = 'group_info_' + str(group_size)\n",
    "groups = np.loadtxt(os.path.join(group_dir_, str(group_size) + '.csv'), delimiter=',')\n",
    "l = unique_users + unique_tracks + 19 + 1 + len(groups)\n",
    "i = 0\n",
    "v = []\n",
    "sp_rows = []\n",
    "sp_cols = []\n",
    "for index, row in tqdm(train.iterrows(), total=len(train)):\n",
    "    if not np.isnan(row[key]):\n",
    "        sp_rows.append(i)\n",
    "        sp_cols.append(row['uid'])\n",
    "        v.append(1)\n",
    "\n",
    "        sp_rows.append(i)\n",
    "        sp_cols.append(tid_start + row['tid'])\n",
    "        v.append(1)\n",
    "\n",
    "        sp_rows.append(i)\n",
    "        sp_cols.append(tag_start + row['tags'])\n",
    "        v.append(1)\n",
    "\n",
    "        sp_rows.append(i)\n",
    "        sp_cols.append(pop_start)\n",
    "        v.append(row['pop'])\n",
    "        \n",
    "        sp_rows.append(i)\n",
    "        sp_cols.append(group_start + row[key])\n",
    "        v.append(1)\n",
    "\n",
    "        i += 1\n",
    "\n",
    "train_sp = sp.csr_matrix((v, (sp_rows, sp_cols)), shape=(len(train), l), dtype=float)"
   ]
  },
  {
   "cell_type": "code",
   "execution_count": 90,
   "metadata": {},
   "outputs": [
    {
     "data": {
      "text/plain": [
       "(346961, 39457.0, 362677)"
      ]
     },
     "execution_count": 90,
     "metadata": {},
     "output_type": "execute_result"
    }
   ],
   "source": [
    "max(sp_rows), max(sp_cols), len(train)"
   ]
  },
  {
   "cell_type": "code",
   "execution_count": 91,
   "metadata": {},
   "outputs": [
    {
     "data": {
      "text/plain": [
       "(362677, 39458)"
      ]
     },
     "execution_count": 91,
     "metadata": {},
     "output_type": "execute_result"
    }
   ],
   "source": [
    "train_sp.shape"
   ]
  },
  {
   "cell_type": "code",
   "execution_count": 31,
   "metadata": {},
   "outputs": [
    {
     "name": "stdout",
     "output_type": "stream",
     "text": [
      "  (0, 84)\t1.0\n",
      "  (0, 14111)\t1.0\n",
      "  (0, 39356)\t1.0\n",
      "  (0, 39374)\t41.0\n",
      "  (0, 39378)\t1.0\n"
     ]
    }
   ],
   "source": [
    "print(train_sp[2,:])"
   ]
  },
  {
   "cell_type": "code",
   "execution_count": 32,
   "metadata": {},
   "outputs": [],
   "source": [
    "sp.save_npz(os.path.join(dir_, folder, 'group_info/low',  str(group_size) + '_train_x_'+ file_name), train_sp)"
   ]
  },
  {
   "cell_type": "code",
   "execution_count": null,
   "metadata": {},
   "outputs": [],
   "source": [
    "train_y = []\n",
    "for index, row in tqdm(train.iterrows(), total=len(train)):\n",
    "    train_y.append(row['rating'])"
   ]
  },
  {
   "cell_type": "code",
   "execution_count": null,
   "metadata": {},
   "outputs": [],
   "source": [
    "np.savetxt(os.path.join(dir_, folder, 'train_y_' + file_name[:-3] + 'csv'), train_y, delimiter=\",\")"
   ]
  },
  {
   "cell_type": "code",
   "execution_count": null,
   "metadata": {},
   "outputs": [],
   "source": [
    "# # tag\n",
    "# i = 0\n",
    "# sp_rows = []\n",
    "# sp_cols = []\n",
    "# for index, row in tqdm(test.iterrows(), total=len(test)):\n",
    "#     sp_rows.append(i)\n",
    "#     sp_cols.append(row['uid'])\n",
    "    \n",
    "#     sp_rows.append(i)\n",
    "#     sp_cols.append(tid_start + row['tid'])\n",
    "    \n",
    "#     sp_rows.append(i)\n",
    "#     sp_cols.append(tag_start + row['tags'])\n",
    "    \n",
    "# #     for tag in row['tags']:\n",
    "# #         sp_rows.append(i)\n",
    "# #         sp_cols.append(tag_start + tag)\n",
    "\n",
    "#     i += 1\n",
    "    \n",
    "# w = np.ones(len(sp_rows))\n",
    "# test_sp = sp.csr_matrix((w, (sp_rows, sp_cols)), shape=(len(test), l), dtype=float)"
   ]
  },
  {
   "cell_type": "code",
   "execution_count": null,
   "metadata": {},
   "outputs": [],
   "source": [
    "# # pop\n",
    "# i = 0\n",
    "# v = []\n",
    "# sp_rows = []\n",
    "# sp_cols = []\n",
    "# for index, row in tqdm(test.iterrows(), total=len(test)):\n",
    "#     sp_rows.append(i)\n",
    "#     sp_cols.append(row['uid'])\n",
    "#     v.append(1)\n",
    "    \n",
    "#     sp_rows.append(i)\n",
    "#     sp_cols.append(tid_start + row['tid'])\n",
    "#     v.append(1)\n",
    "    \n",
    "#     sp_rows.append(i)\n",
    "#     sp_cols.append(tag_start)\n",
    "#     v.append(row['pop'])\n",
    "\n",
    "#     i += 1\n",
    "\n",
    "# test_sp = sp.csr_matrix((v, (sp_rows, sp_cols)), shape=(len(test), l), dtype=float)"
   ]
  },
  {
   "cell_type": "code",
   "execution_count": 59,
   "metadata": {},
   "outputs": [
    {
     "data": {
      "text/html": [
       "<div>\n",
       "<style scoped>\n",
       "    .dataframe tbody tr th:only-of-type {\n",
       "        vertical-align: middle;\n",
       "    }\n",
       "\n",
       "    .dataframe tbody tr th {\n",
       "        vertical-align: top;\n",
       "    }\n",
       "\n",
       "    .dataframe thead th {\n",
       "        text-align: right;\n",
       "    }\n",
       "</style>\n",
       "<table border=\"1\" class=\"dataframe\">\n",
       "  <thead>\n",
       "    <tr style=\"text-align: right;\">\n",
       "      <th></th>\n",
       "      <th>uid</th>\n",
       "      <th>tid</th>\n",
       "      <th>count</th>\n",
       "      <th>tags</th>\n",
       "      <th>rating</th>\n",
       "      <th>pop</th>\n",
       "    </tr>\n",
       "  </thead>\n",
       "  <tbody>\n",
       "    <tr>\n",
       "      <th>554584</th>\n",
       "      <td>173</td>\n",
       "      <td>12116</td>\n",
       "      <td>1</td>\n",
       "      <td>12</td>\n",
       "      <td>0.25</td>\n",
       "      <td>26</td>\n",
       "    </tr>\n",
       "    <tr>\n",
       "      <th>484724</th>\n",
       "      <td>155</td>\n",
       "      <td>19059</td>\n",
       "      <td>1</td>\n",
       "      <td>1</td>\n",
       "      <td>0.25</td>\n",
       "      <td>29</td>\n",
       "    </tr>\n",
       "    <tr>\n",
       "      <th>565065</th>\n",
       "      <td>176</td>\n",
       "      <td>26181</td>\n",
       "      <td>60</td>\n",
       "      <td>2</td>\n",
       "      <td>4.75</td>\n",
       "      <td>13</td>\n",
       "    </tr>\n",
       "    <tr>\n",
       "      <th>233430</th>\n",
       "      <td>74</td>\n",
       "      <td>30244</td>\n",
       "      <td>1</td>\n",
       "      <td>1</td>\n",
       "      <td>0.25</td>\n",
       "      <td>5</td>\n",
       "    </tr>\n",
       "    <tr>\n",
       "      <th>210746</th>\n",
       "      <td>72</td>\n",
       "      <td>4414</td>\n",
       "      <td>8</td>\n",
       "      <td>3</td>\n",
       "      <td>4.75</td>\n",
       "      <td>16</td>\n",
       "    </tr>\n",
       "  </tbody>\n",
       "</table>\n",
       "</div>"
      ],
      "text/plain": [
       "        uid    tid  count  tags  rating  pop\n",
       "554584  173  12116      1    12    0.25   26\n",
       "484724  155  19059      1     1    0.25   29\n",
       "565065  176  26181     60     2    4.75   13\n",
       "233430   74  30244      1     1    0.25    5\n",
       "210746   72   4414      8     3    4.75   16"
      ]
     },
     "execution_count": 59,
     "metadata": {},
     "output_type": "execute_result"
    }
   ],
   "source": [
    "test[:5]"
   ]
  },
  {
   "cell_type": "code",
   "execution_count": 60,
   "metadata": {},
   "outputs": [
    {
     "data": {
      "text/html": [
       "<div>\n",
       "<style scoped>\n",
       "    .dataframe tbody tr th:only-of-type {\n",
       "        vertical-align: middle;\n",
       "    }\n",
       "\n",
       "    .dataframe tbody tr th {\n",
       "        vertical-align: top;\n",
       "    }\n",
       "\n",
       "    .dataframe thead th {\n",
       "        text-align: right;\n",
       "    }\n",
       "</style>\n",
       "<table border=\"1\" class=\"dataframe\">\n",
       "  <thead>\n",
       "    <tr style=\"text-align: right;\">\n",
       "      <th></th>\n",
       "      <th>uid</th>\n",
       "      <th>tid</th>\n",
       "      <th>count</th>\n",
       "      <th>tags</th>\n",
       "      <th>rating</th>\n",
       "      <th>pop</th>\n",
       "      <th>group_info_2</th>\n",
       "      <th>group_info_3</th>\n",
       "      <th>group_info_4</th>\n",
       "      <th>group_info_5</th>\n",
       "    </tr>\n",
       "  </thead>\n",
       "  <tbody>\n",
       "    <tr>\n",
       "      <th>554584</th>\n",
       "      <td>173</td>\n",
       "      <td>12116</td>\n",
       "      <td>1</td>\n",
       "      <td>12</td>\n",
       "      <td>0.25</td>\n",
       "      <td>26</td>\n",
       "      <td>50</td>\n",
       "      <td>32.0</td>\n",
       "      <td>19.0</td>\n",
       "      <td>3.0</td>\n",
       "    </tr>\n",
       "    <tr>\n",
       "      <th>484724</th>\n",
       "      <td>155</td>\n",
       "      <td>19059</td>\n",
       "      <td>1</td>\n",
       "      <td>1</td>\n",
       "      <td>0.25</td>\n",
       "      <td>29</td>\n",
       "      <td>22</td>\n",
       "      <td>17.0</td>\n",
       "      <td>18.0</td>\n",
       "      <td>12.0</td>\n",
       "    </tr>\n",
       "    <tr>\n",
       "      <th>565065</th>\n",
       "      <td>176</td>\n",
       "      <td>26181</td>\n",
       "      <td>60</td>\n",
       "      <td>2</td>\n",
       "      <td>4.75</td>\n",
       "      <td>13</td>\n",
       "      <td>49</td>\n",
       "      <td>20.0</td>\n",
       "      <td>12.0</td>\n",
       "      <td>29.0</td>\n",
       "    </tr>\n",
       "    <tr>\n",
       "      <th>233430</th>\n",
       "      <td>74</td>\n",
       "      <td>30244</td>\n",
       "      <td>1</td>\n",
       "      <td>1</td>\n",
       "      <td>0.25</td>\n",
       "      <td>5</td>\n",
       "      <td>72</td>\n",
       "      <td>36.0</td>\n",
       "      <td>42.0</td>\n",
       "      <td>33.0</td>\n",
       "    </tr>\n",
       "    <tr>\n",
       "      <th>210746</th>\n",
       "      <td>72</td>\n",
       "      <td>4414</td>\n",
       "      <td>8</td>\n",
       "      <td>3</td>\n",
       "      <td>4.75</td>\n",
       "      <td>16</td>\n",
       "      <td>71</td>\n",
       "      <td>20.0</td>\n",
       "      <td>32.0</td>\n",
       "      <td>0.0</td>\n",
       "    </tr>\n",
       "  </tbody>\n",
       "</table>\n",
       "</div>"
      ],
      "text/plain": [
       "        uid    tid  count  tags  rating  pop  group_info_2  group_info_3  \\\n",
       "554584  173  12116      1    12    0.25   26            50          32.0   \n",
       "484724  155  19059      1     1    0.25   29            22          17.0   \n",
       "565065  176  26181     60     2    4.75   13            49          20.0   \n",
       "233430   74  30244      1     1    0.25    5            72          36.0   \n",
       "210746   72   4414      8     3    4.75   16            71          20.0   \n",
       "\n",
       "        group_info_4  group_info_5  \n",
       "554584          19.0           3.0  \n",
       "484724          18.0          12.0  \n",
       "565065          12.0          29.0  \n",
       "233430          42.0          33.0  \n",
       "210746          32.0           0.0  "
      ]
     },
     "execution_count": 60,
     "metadata": {},
     "output_type": "execute_result"
    }
   ],
   "source": [
    "test['group_info_2'] = test['uid'].map(group2)\n",
    "test['group_info_3'] = test['uid'].map(group3)\n",
    "test['group_info_4'] = test['uid'].map(group4)\n",
    "test['group_info_5'] = test['uid'].map(group5)\n",
    "test[:5]"
   ]
  },
  {
   "cell_type": "code",
   "execution_count": 61,
   "metadata": {},
   "outputs": [],
   "source": [
    "# test['pop'] = test['pop'].map(dict_pop)\n",
    "# test[:5]"
   ]
  },
  {
   "cell_type": "code",
   "execution_count": null,
   "metadata": {},
   "outputs": [],
   "source": []
  },
  {
   "cell_type": "code",
   "execution_count": 71,
   "metadata": {},
   "outputs": [
    {
     "data": {
      "application/vnd.jupyter.widget-view+json": {
       "model_id": "d5b3abd03da34bf4b573a3b1f52f155d",
       "version_major": 2,
       "version_minor": 0
      },
      "text/plain": [
       "HBox(children=(HTML(value=''), FloatProgress(value=0.0, max=90670.0), HTML(value='')))"
      ]
     },
     "metadata": {},
     "output_type": "display_data"
    },
    {
     "name": "stdout",
     "output_type": "stream",
     "text": [
      "\n"
     ]
    }
   ],
   "source": [
    "# tag and pop\n",
    "group_size = 2\n",
    "key = 'group_info_' + str(group_size)\n",
    "groups = np.loadtxt(os.path.join(group_dir_, str(group_size) + '.csv'), delimiter=',')\n",
    "l = unique_users + unique_tracks + 19 + 1 + len(groups)\n",
    "i = 0\n",
    "v = []\n",
    "sp_rows = []\n",
    "sp_cols = []\n",
    "for index, row in tqdm(test.iterrows(), total=len(test)):\n",
    "    if not np.isnan(row[key]):\n",
    "        sp_rows.append(i)\n",
    "        sp_cols.append(row['uid'])\n",
    "        v.append(1)\n",
    "\n",
    "        sp_rows.append(i)\n",
    "        sp_cols.append(tid_start + row['tid'])\n",
    "        v.append(1)\n",
    "\n",
    "        sp_rows.append(i)\n",
    "        sp_cols.append(tag_start + row['tags'])\n",
    "        v.append(1)\n",
    "\n",
    "        sp_rows.append(i)\n",
    "        sp_cols.append(pop_start)\n",
    "        v.append(row['pop'])\n",
    "        \n",
    "        sp_rows.append(i)\n",
    "        sp_cols.append(group_start + row[key])\n",
    "        v.append(1)\n",
    "\n",
    "        i += 1\n",
    "\n",
    "test_sp = sp.csr_matrix((v, (sp_rows, sp_cols)), shape=(len(test), l), dtype=float)"
   ]
  },
  {
   "cell_type": "code",
   "execution_count": 72,
   "metadata": {},
   "outputs": [
    {
     "name": "stdout",
     "output_type": "stream",
     "text": [
      "  (0, 74)\t1.0\n",
      "  (0, 30462)\t1.0\n",
      "  (0, 39356)\t1.0\n",
      "  (0, 39374)\t5.0\n",
      "  (0, 39447)\t1.0\n"
     ]
    }
   ],
   "source": [
    "print(test_sp[3,:])"
   ]
  },
  {
   "cell_type": "code",
   "execution_count": 73,
   "metadata": {},
   "outputs": [],
   "source": [
    "sp.save_npz(os.path.join(dir_, folder, 'group_info/random',  str(group_size) + '_test_x_'+ file_name), test_sp)"
   ]
  },
  {
   "cell_type": "code",
   "execution_count": null,
   "metadata": {},
   "outputs": [],
   "source": [
    "test_y = []\n",
    "for index, row in tqdm(test.iterrows(), total=len(test)):\n",
    "    test_y.append(row['rating'])"
   ]
  },
  {
   "cell_type": "code",
   "execution_count": null,
   "metadata": {},
   "outputs": [],
   "source": [
    "np.savetxt(os.path.join(dir_, folder, 'test_y_' + file_name[:-3] + 'csv'), test_y, delimiter=\",\")"
   ]
  },
  {
   "cell_type": "code",
   "execution_count": null,
   "metadata": {},
   "outputs": [],
   "source": []
  }
 ],
 "metadata": {
  "kernelspec": {
   "display_name": "Python 3",
   "language": "python",
   "name": "python3"
  },
  "language_info": {
   "codemirror_mode": {
    "name": "ipython",
    "version": 3
   },
   "file_extension": ".py",
   "mimetype": "text/x-python",
   "name": "python",
   "nbconvert_exporter": "python",
   "pygments_lexer": "ipython3",
   "version": "3.6.12"
  }
 },
 "nbformat": 4,
 "nbformat_minor": 4
}
