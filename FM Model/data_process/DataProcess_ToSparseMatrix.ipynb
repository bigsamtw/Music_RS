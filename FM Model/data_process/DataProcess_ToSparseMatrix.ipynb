{
 "cells": [
  {
   "cell_type": "code",
   "execution_count": 21,
   "metadata": {},
   "outputs": [],
   "source": [
    "import pandas as pd\n",
    "import os\n",
    "import numpy as np\n",
    "import scipy.sparse as sp\n",
    "from tqdm.notebook import tqdm\n",
    "\n",
    "dir_ = '../data'\n",
    "folder = 'sp_matrix_tag_pop'\n",
    "file_name = 'normalized_to_rating_filter_track_5_user_50.pkl'"
   ]
  },
  {
   "cell_type": "code",
   "execution_count": 22,
   "metadata": {},
   "outputs": [],
   "source": [
    "lh = pd.read_pickle(os.path.join(dir_, folder, file_name))\n",
    "train = pd.read_pickle(os.path.join(dir_, folder, 'train_' + file_name))\n",
    "test = pd.read_pickle(os.path.join(dir_, folder, 'test_' + file_name))"
   ]
  },
  {
   "cell_type": "code",
   "execution_count": 23,
   "metadata": {},
   "outputs": [
    {
     "name": "stdout",
     "output_type": "stream",
     "text": [
      "Number of unique users : 218\n",
      "Number of unique tracks : 39137\n",
      "Times of tracks being listened: 453347\n"
     ]
    }
   ],
   "source": [
    "unique_users = len(lh['uid'].unique())\n",
    "unique_tracks = len(lh['tid'].unique())\n",
    "tid_start = unique_users\n",
    "tag_start = unique_users + unique_tracks\n",
    "pop_start = unique_users + unique_tracks + 19\n",
    "print ('Number of unique users : ' + str(unique_users))\n",
    "print ('Number of unique tracks : ' + str(unique_tracks))\n",
    "print ('Times of tracks being listened: ' + str(len(lh)))\n",
    "lh = None"
   ]
  },
  {
   "cell_type": "code",
   "execution_count": 24,
   "metadata": {},
   "outputs": [
    {
     "data": {
      "text/plain": [
       "(362677, 90670)"
      ]
     },
     "execution_count": 24,
     "metadata": {},
     "output_type": "execute_result"
    }
   ],
   "source": [
    "len(train), len(test)"
   ]
  },
  {
   "cell_type": "code",
   "execution_count": 4,
   "metadata": {},
   "outputs": [],
   "source": [
    "# # tag\n",
    "# l = unique_users + unique_tracks + 19\n",
    "# i = 0\n",
    "# sp_rows = []\n",
    "# sp_cols = []\n",
    "# for index, row in tqdm(train.iterrows(), total=len(train)):\n",
    "#     sp_rows.append(i)\n",
    "#     sp_cols.append(row['uid'])\n",
    "    \n",
    "#     sp_rows.append(i)\n",
    "#     sp_cols.append(tid_start + row['tid'])\n",
    "    \n",
    "#     # only one tag\n",
    "#     sp_rows.append(i)\n",
    "#     sp_cols.append(tag_start + row['tags'])\n",
    "\n",
    "#     # many tags\n",
    "# #     for tag in row['tags']:\n",
    "# #         sp_rows.append(i)\n",
    "# #         sp_cols.append(tag_start + tag)\n",
    "        \n",
    "#     i += 1\n",
    "    \n",
    "# w = np.ones(len(sp_rows))\n",
    "# train_sp = sp.csr_matrix((w, (sp_rows, sp_cols)), shape=(len(train), l), dtype=float)"
   ]
  },
  {
   "cell_type": "code",
   "execution_count": 5,
   "metadata": {},
   "outputs": [],
   "source": [
    "# # pop\n",
    "# l = unique_users + unique_tracks + 1\n",
    "# i = 0\n",
    "# v = []\n",
    "# sp_rows = []\n",
    "# sp_cols = []\n",
    "# for index, row in tqdm(train.iterrows(), total=len(train)):\n",
    "#     sp_rows.append(i)\n",
    "#     sp_cols.append(row['uid'])\n",
    "#     v.append(1)\n",
    "    \n",
    "#     sp_rows.append(i)\n",
    "#     sp_cols.append(tid_start + row['tid'])\n",
    "#     v.append(1)\n",
    "\n",
    "#     sp_rows.append(i)\n",
    "#     sp_cols.append(tag_start)\n",
    "#     v.append(row['pop'])\n",
    "        \n",
    "#     i += 1\n",
    "\n",
    "# train_sp = sp.csr_matrix((v, (sp_rows, sp_cols)), shape=(len(train), l), dtype=float)"
   ]
  },
  {
   "cell_type": "code",
   "execution_count": 6,
   "metadata": {},
   "outputs": [
    {
     "data": {
      "application/vnd.jupyter.widget-view+json": {
       "model_id": "996c1499808a42a28eee8fbe42a00d30",
       "version_major": 2,
       "version_minor": 0
      },
      "text/plain": [
       "HBox(children=(HTML(value=''), FloatProgress(value=0.0, max=362677.0), HTML(value='')))"
      ]
     },
     "metadata": {},
     "output_type": "display_data"
    },
    {
     "name": "stdout",
     "output_type": "stream",
     "text": [
      "\n"
     ]
    }
   ],
   "source": [
    "# tag and pop\n",
    "l = unique_users + unique_tracks + 19 + 1\n",
    "i = 0\n",
    "v = []\n",
    "sp_rows = []\n",
    "sp_cols = []\n",
    "for index, row in tqdm(train.iterrows(), total=len(train)):\n",
    "    sp_rows.append(i)\n",
    "    sp_cols.append(row['uid'])\n",
    "    v.append(1)\n",
    "    \n",
    "    sp_rows.append(i)\n",
    "    sp_cols.append(tid_start + row['tid'])\n",
    "    v.append(1)\n",
    "    \n",
    "    sp_rows.append(i)\n",
    "    sp_cols.append(tag_start + row['tags'])\n",
    "    v.append(1)\n",
    "\n",
    "    sp_rows.append(i)\n",
    "    sp_cols.append(pop_start)\n",
    "    v.append(row['pop'])\n",
    "        \n",
    "    i += 1\n",
    "\n",
    "train_sp = sp.csr_matrix((v, (sp_rows, sp_cols)), shape=(len(train), l), dtype=float)"
   ]
  },
  {
   "cell_type": "code",
   "execution_count": 7,
   "metadata": {},
   "outputs": [
    {
     "data": {
      "text/plain": [
       "(362676, 39374, 362677)"
      ]
     },
     "execution_count": 7,
     "metadata": {},
     "output_type": "execute_result"
    }
   ],
   "source": [
    "max(sp_rows), max(sp_cols), len(train)"
   ]
  },
  {
   "cell_type": "code",
   "execution_count": 8,
   "metadata": {},
   "outputs": [
    {
     "data": {
      "text/plain": [
       "(362677, 39375)"
      ]
     },
     "execution_count": 8,
     "metadata": {},
     "output_type": "execute_result"
    }
   ],
   "source": [
    "train_sp.shape"
   ]
  },
  {
   "cell_type": "code",
   "execution_count": 9,
   "metadata": {},
   "outputs": [
    {
     "name": "stdout",
     "output_type": "stream",
     "text": [
      "  (0, 61)\t1.0\n",
      "  (0, 2630)\t1.0\n",
      "  (0, 39372)\t1.0\n",
      "  (0, 39374)\t11.0\n"
     ]
    }
   ],
   "source": [
    "print(train_sp[3,:])"
   ]
  },
  {
   "cell_type": "code",
   "execution_count": 10,
   "metadata": {},
   "outputs": [],
   "source": [
    "sp.save_npz(os.path.join(dir_, folder,  'train_x_'+ file_name), train_sp)"
   ]
  },
  {
   "cell_type": "code",
   "execution_count": 11,
   "metadata": {},
   "outputs": [
    {
     "data": {
      "application/vnd.jupyter.widget-view+json": {
       "model_id": "ae762258cb7b46b188aa666dbb7434e5",
       "version_major": 2,
       "version_minor": 0
      },
      "text/plain": [
       "HBox(children=(HTML(value=''), FloatProgress(value=0.0, max=362677.0), HTML(value='')))"
      ]
     },
     "metadata": {},
     "output_type": "display_data"
    },
    {
     "name": "stdout",
     "output_type": "stream",
     "text": [
      "\n"
     ]
    }
   ],
   "source": [
    "train_y = []\n",
    "for index, row in tqdm(train.iterrows(), total=len(train)):\n",
    "    train_y.append(row['rating'])"
   ]
  },
  {
   "cell_type": "code",
   "execution_count": 12,
   "metadata": {},
   "outputs": [],
   "source": [
    "np.savetxt(os.path.join(dir_, folder, 'train_y_' + file_name[:-3] + 'csv'), train_y, delimiter=\",\")"
   ]
  },
  {
   "cell_type": "code",
   "execution_count": 13,
   "metadata": {},
   "outputs": [],
   "source": [
    "# # tag\n",
    "# i = 0\n",
    "# sp_rows = []\n",
    "# sp_cols = []\n",
    "# for index, row in tqdm(test.iterrows(), total=len(test)):\n",
    "#     sp_rows.append(i)\n",
    "#     sp_cols.append(row['uid'])\n",
    "    \n",
    "#     sp_rows.append(i)\n",
    "#     sp_cols.append(tid_start + row['tid'])\n",
    "    \n",
    "#     sp_rows.append(i)\n",
    "#     sp_cols.append(tag_start + row['tags'])\n",
    "    \n",
    "# #     for tag in row['tags']:\n",
    "# #         sp_rows.append(i)\n",
    "# #         sp_cols.append(tag_start + tag)\n",
    "\n",
    "#     i += 1\n",
    "    \n",
    "# w = np.ones(len(sp_rows))\n",
    "# test_sp = sp.csr_matrix((w, (sp_rows, sp_cols)), shape=(len(test), l), dtype=float)"
   ]
  },
  {
   "cell_type": "code",
   "execution_count": 14,
   "metadata": {},
   "outputs": [],
   "source": [
    "# # pop\n",
    "# i = 0\n",
    "# v = []\n",
    "# sp_rows = []\n",
    "# sp_cols = []\n",
    "# for index, row in tqdm(test.iterrows(), total=len(test)):\n",
    "#     sp_rows.append(i)\n",
    "#     sp_cols.append(row['uid'])\n",
    "#     v.append(1)\n",
    "    \n",
    "#     sp_rows.append(i)\n",
    "#     sp_cols.append(tid_start + row['tid'])\n",
    "#     v.append(1)\n",
    "    \n",
    "#     sp_rows.append(i)\n",
    "#     sp_cols.append(tag_start)\n",
    "#     v.append(row['pop'])\n",
    "\n",
    "#     i += 1\n",
    "\n",
    "# test_sp = sp.csr_matrix((v, (sp_rows, sp_cols)), shape=(len(test), l), dtype=float)"
   ]
  },
  {
   "cell_type": "code",
   "execution_count": 25,
   "metadata": {},
   "outputs": [
    {
     "data": {
      "application/vnd.jupyter.widget-view+json": {
       "model_id": "2856e3864aeb46e9a6fb636b03c8f649",
       "version_major": 2,
       "version_minor": 0
      },
      "text/plain": [
       "HBox(children=(HTML(value=''), FloatProgress(value=0.0, max=90670.0), HTML(value='')))"
      ]
     },
     "metadata": {},
     "output_type": "display_data"
    },
    {
     "name": "stdout",
     "output_type": "stream",
     "text": [
      "\n"
     ]
    }
   ],
   "source": [
    "# tag and pop\n",
    "i = 0\n",
    "v = []\n",
    "sp_rows = []\n",
    "sp_cols = []\n",
    "for index, row in tqdm(test.iterrows(), total=len(test)):\n",
    "    sp_rows.append(i)\n",
    "    sp_cols.append(row['uid'])\n",
    "    v.append(1)\n",
    "    \n",
    "    sp_rows.append(i)\n",
    "    sp_cols.append(tid_start + row['tid'])\n",
    "    v.append(1)\n",
    "    \n",
    "    sp_rows.append(i)\n",
    "    sp_cols.append(tag_start + row['tags'])\n",
    "    v.append(1)\n",
    "\n",
    "    sp_rows.append(i)\n",
    "    sp_cols.append(pop_start)\n",
    "    v.append(row['pop'])\n",
    "        \n",
    "    i += 1\n",
    "\n",
    "test_sp = sp.csr_matrix((v, (sp_rows, sp_cols)), shape=(len(test), l), dtype=float)"
   ]
  },
  {
   "cell_type": "code",
   "execution_count": 26,
   "metadata": {},
   "outputs": [
    {
     "name": "stdout",
     "output_type": "stream",
     "text": [
      "  (0, 74)\t1.0\n",
      "  (0, 30462)\t1.0\n",
      "  (0, 39356)\t1.0\n",
      "  (0, 39374)\t5.0\n"
     ]
    }
   ],
   "source": [
    "print(test_sp[3,:])"
   ]
  },
  {
   "cell_type": "code",
   "execution_count": 27,
   "metadata": {},
   "outputs": [],
   "source": [
    "sp.save_npz(os.path.join(dir_, folder,  'test_x_'+ file_name), test_sp)"
   ]
  },
  {
   "cell_type": "code",
   "execution_count": 19,
   "metadata": {},
   "outputs": [
    {
     "data": {
      "application/vnd.jupyter.widget-view+json": {
       "model_id": "b4071749adcd4c1a828241d14c393d47",
       "version_major": 2,
       "version_minor": 0
      },
      "text/plain": [
       "HBox(children=(HTML(value=''), FloatProgress(value=0.0, max=90670.0), HTML(value='')))"
      ]
     },
     "metadata": {},
     "output_type": "display_data"
    },
    {
     "name": "stdout",
     "output_type": "stream",
     "text": [
      "\n"
     ]
    }
   ],
   "source": [
    "test_y = []\n",
    "for index, row in tqdm(test.iterrows(), total=len(test)):\n",
    "    test_y.append(row['rating'])"
   ]
  },
  {
   "cell_type": "code",
   "execution_count": 20,
   "metadata": {},
   "outputs": [],
   "source": [
    "np.savetxt(os.path.join(dir_, folder, 'test_y_' + file_name[:-3] + 'csv'), test_y, delimiter=\",\")"
   ]
  },
  {
   "cell_type": "code",
   "execution_count": null,
   "metadata": {},
   "outputs": [],
   "source": []
  }
 ],
 "metadata": {
  "kernelspec": {
   "display_name": "Python 3",
   "language": "python",
   "name": "python3"
  },
  "language_info": {
   "codemirror_mode": {
    "name": "ipython",
    "version": 3
   },
   "file_extension": ".py",
   "mimetype": "text/x-python",
   "name": "python",
   "nbconvert_exporter": "python",
   "pygments_lexer": "ipython3",
   "version": "3.6.12"
  }
 },
 "nbformat": 4,
 "nbformat_minor": 4
}
