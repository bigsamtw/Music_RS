{
 "cells": [
  {
   "cell_type": "code",
   "execution_count": 1,
   "metadata": {},
   "outputs": [],
   "source": [
    "import os \n",
    "import math\n",
    "import random\n",
    "import numpy as np\n",
    "import pandas as pd\n",
    "from tqdm.notebook import tqdm\n",
    "from numpy import count_nonzero\n",
    "dir_ = '../../../data'\n",
    "group_dir_ = os.path.join(dir_, 'groups/high')"
   ]
  },
  {
   "cell_type": "code",
   "execution_count": 2,
   "metadata": {},
   "outputs": [
    {
     "data": {
      "text/plain": [
       "220"
      ]
     },
     "execution_count": 2,
     "metadata": {},
     "output_type": "execute_result"
    }
   ],
   "source": [
    "file_name = 'normalized_to_rating_filter_track_5_user_100.csv'\n",
    "df = pd.read_pickle(os.path.join(dir_, file_name[:-3] + 'pkl'))\n",
    "svd = pd.read_pickle(os.path.join(dir_, 'prediction_svd_top_N_' + file_name[:-3] + 'pkl'))\n",
    "test = pd.read_pickle(os.path.join(dir_, 'test_' + file_name[:-3] + 'pkl'))\n",
    "test.sort_values(by=['uid','tid'])\n",
    "\n",
    "num_user = len(svd['uid'].unique())\n",
    "num_user"
   ]
  },
  {
   "cell_type": "code",
   "execution_count": 3,
   "metadata": {},
   "outputs": [],
   "source": [
    "groups_n =[]\n",
    "group_sizes = ['2', '3', '4', '5', '6', '7', '8', '9', '10', '20']\n",
    "for i in range(len(group_sizes)):\n",
    "    groups = np.loadtxt(os.path.join(group_dir_, group_sizes[i] + '.csv'), delimiter=',')\n",
    "    groups_n.append(groups)"
   ]
  },
  {
   "cell_type": "code",
   "execution_count": 4,
   "metadata": {},
   "outputs": [],
   "source": [
    "pop_dict = {}\n",
    "for i in df['tid'].unique():\n",
    "    pop_dict[i] = len(df[df['tid']==i])/num_user"
   ]
  },
  {
   "cell_type": "code",
   "execution_count": 5,
   "metadata": {},
   "outputs": [
    {
     "data": {
      "text/html": [
       "<div>\n",
       "<style scoped>\n",
       "    .dataframe tbody tr th:only-of-type {\n",
       "        vertical-align: middle;\n",
       "    }\n",
       "\n",
       "    .dataframe tbody tr th {\n",
       "        vertical-align: top;\n",
       "    }\n",
       "\n",
       "    .dataframe thead th {\n",
       "        text-align: right;\n",
       "    }\n",
       "</style>\n",
       "<table border=\"1\" class=\"dataframe\">\n",
       "  <thead>\n",
       "    <tr style=\"text-align: right;\">\n",
       "      <th></th>\n",
       "      <th>uid</th>\n",
       "      <th>tid</th>\n",
       "      <th>rating</th>\n",
       "      <th>count</th>\n",
       "    </tr>\n",
       "  </thead>\n",
       "  <tbody>\n",
       "    <tr>\n",
       "      <th>0</th>\n",
       "      <td>0</td>\n",
       "      <td>3</td>\n",
       "      <td>2.544071</td>\n",
       "      <td>1</td>\n",
       "    </tr>\n",
       "    <tr>\n",
       "      <th>1</th>\n",
       "      <td>0</td>\n",
       "      <td>7</td>\n",
       "      <td>2.545822</td>\n",
       "      <td>1</td>\n",
       "    </tr>\n",
       "    <tr>\n",
       "      <th>2</th>\n",
       "      <td>0</td>\n",
       "      <td>18</td>\n",
       "      <td>2.152490</td>\n",
       "      <td>1</td>\n",
       "    </tr>\n",
       "    <tr>\n",
       "      <th>3</th>\n",
       "      <td>0</td>\n",
       "      <td>20</td>\n",
       "      <td>1.882396</td>\n",
       "      <td>1</td>\n",
       "    </tr>\n",
       "    <tr>\n",
       "      <th>4</th>\n",
       "      <td>0</td>\n",
       "      <td>31</td>\n",
       "      <td>2.410806</td>\n",
       "      <td>1</td>\n",
       "    </tr>\n",
       "  </tbody>\n",
       "</table>\n",
       "</div>"
      ],
      "text/plain": [
       "   uid  tid    rating  count\n",
       "0    0    3  2.544071      1\n",
       "1    0    7  2.545822      1\n",
       "2    0   18  2.152490      1\n",
       "3    0   20  1.882396      1\n",
       "4    0   31  2.410806      1"
      ]
     },
     "execution_count": 5,
     "metadata": {},
     "output_type": "execute_result"
    }
   ],
   "source": [
    "svd['count'] = 1\n",
    "svd[:5]"
   ]
  },
  {
   "cell_type": "code",
   "execution_count": 6,
   "metadata": {},
   "outputs": [
    {
     "data": {
      "text/html": [
       "<div>\n",
       "<style scoped>\n",
       "    .dataframe tbody tr th:only-of-type {\n",
       "        vertical-align: middle;\n",
       "    }\n",
       "\n",
       "    .dataframe tbody tr th {\n",
       "        vertical-align: top;\n",
       "    }\n",
       "\n",
       "    .dataframe thead th {\n",
       "        text-align: right;\n",
       "    }\n",
       "</style>\n",
       "<table border=\"1\" class=\"dataframe\">\n",
       "  <thead>\n",
       "    <tr style=\"text-align: right;\">\n",
       "      <th></th>\n",
       "      <th>tid</th>\n",
       "      <th>rating</th>\n",
       "    </tr>\n",
       "  </thead>\n",
       "  <tbody>\n",
       "    <tr>\n",
       "      <th>166</th>\n",
       "      <td>166</td>\n",
       "      <td>3.840909</td>\n",
       "    </tr>\n",
       "    <tr>\n",
       "      <th>7209</th>\n",
       "      <td>7209</td>\n",
       "      <td>3.295455</td>\n",
       "    </tr>\n",
       "    <tr>\n",
       "      <th>350</th>\n",
       "      <td>350</td>\n",
       "      <td>3.113636</td>\n",
       "    </tr>\n",
       "    <tr>\n",
       "      <th>3761</th>\n",
       "      <td>3761</td>\n",
       "      <td>3.045455</td>\n",
       "    </tr>\n",
       "    <tr>\n",
       "      <th>80</th>\n",
       "      <td>80</td>\n",
       "      <td>3.022727</td>\n",
       "    </tr>\n",
       "    <tr>\n",
       "      <th>1017</th>\n",
       "      <td>1017</td>\n",
       "      <td>2.840909</td>\n",
       "    </tr>\n",
       "    <tr>\n",
       "      <th>1753</th>\n",
       "      <td>1753</td>\n",
       "      <td>2.750000</td>\n",
       "    </tr>\n",
       "    <tr>\n",
       "      <th>428</th>\n",
       "      <td>428</td>\n",
       "      <td>2.727273</td>\n",
       "    </tr>\n",
       "    <tr>\n",
       "      <th>200</th>\n",
       "      <td>200</td>\n",
       "      <td>2.681818</td>\n",
       "    </tr>\n",
       "    <tr>\n",
       "      <th>3159</th>\n",
       "      <td>3159</td>\n",
       "      <td>2.659091</td>\n",
       "    </tr>\n",
       "  </tbody>\n",
       "</table>\n",
       "</div>"
      ],
      "text/plain": [
       "       tid    rating\n",
       "166    166  3.840909\n",
       "7209  7209  3.295455\n",
       "350    350  3.113636\n",
       "3761  3761  3.045455\n",
       "80      80  3.022727\n",
       "1017  1017  2.840909\n",
       "1753  1753  2.750000\n",
       "428    428  2.727273\n",
       "200    200  2.681818\n",
       "3159  3159  2.659091"
      ]
     },
     "execution_count": 6,
     "metadata": {},
     "output_type": "execute_result"
    }
   ],
   "source": [
    "# Count POP to DF\n",
    "tid_list = []\n",
    "pop_list = []\n",
    "for i in df['tid'].unique():\n",
    "    tid_list.append(i)\n",
    "    pop_list.append(len(df[df['tid']==i])/num_user*5)\n",
    "    \n",
    "d = {'tid': tid_list, 'rating': pop_list}\n",
    "df_pop = pd.DataFrame(data=d)\n",
    "df_pop = df_pop.sort_values(by=['rating'], ascending=False)\n",
    "df_pop[:10]"
   ]
  },
  {
   "cell_type": "code",
   "execution_count": 7,
   "metadata": {},
   "outputs": [
    {
     "data": {
      "text/plain": [
       "(54420, 54969, 549)"
      ]
     },
     "execution_count": 7,
     "metadata": {},
     "output_type": "execute_result"
    }
   ],
   "source": [
    "top_percent = 0.01\n",
    "long_tail = df_pop[int(len(df_pop)*top_percent):]\n",
    "long_tail = long_tail['tid'].unique()\n",
    "len(long_tail), len(df_pop), len(df_pop)-len(long_tail)"
   ]
  },
  {
   "cell_type": "code",
   "execution_count": 8,
   "metadata": {},
   "outputs": [
    {
     "data": {
      "text/plain": [
       "[0.0, 0.1, 0.2, 0.3, 0.4, 0.5, 0.6, 0.7, 0.8, 0.9, 1.0]"
      ]
     },
     "execution_count": 8,
     "metadata": {},
     "output_type": "execute_result"
    }
   ],
   "source": [
    "lambdas = []\n",
    "for i in range(11):\n",
    "    lambdas.append(i/10)\n",
    "lambdas"
   ]
  },
  {
   "cell_type": "code",
   "execution_count": null,
   "metadata": {},
   "outputs": [],
   "source": [
    "for lambda_ in tqdm(lambdas):\n",
    "    top_n_size = 4\n",
    "    top_n_lists_g = []\n",
    "    for groups in groups_n:\n",
    "\n",
    "        group_size = len(groups[0])\n",
    "        top_n_lists = []\n",
    "\n",
    "        for group in groups:\n",
    "            rating_table = pd.DataFrame() \n",
    "            for member in group:\n",
    "                prediction = svd[svd['uid'] == member].copy()\n",
    "                if len(rating_table) == 0:\n",
    "                    rating_table = prediction\n",
    "                else:\n",
    "                    rating_table = rating_table.set_index('tid').add(prediction.set_index('tid'), fill_value=0).reset_index()\n",
    "            rating_table['rating'] /= group_size \n",
    "            rating_table['rating'] *= lambda_\n",
    "            pop = df_pop.copy()\n",
    "            pop['rating'] *= (1 - lambda_)\n",
    "            rating_table = rating_table.set_index('tid').add(pop.set_index('tid'), fill_value=0).reset_index()\n",
    "    #         rating_table = rating_table[rating_table['count'] == group_size]\n",
    "            rating_table = rating_table.sort_values(by=['rating'],  ascending=False)\n",
    "            rating_table = rating_table[:top_n_size]\n",
    "            top_n_list = []\n",
    "            for _, row in rating_table.iterrows():\n",
    "                top_n_list.append(row[0])\n",
    "            top_n_lists.append(top_n_list)\n",
    "        top_n_lists_g.append(top_n_lists)   \n",
    "        \n",
    "    threshold = 0.0\n",
    "    avg_pops = []\n",
    "    for i in range(len(groups_n)):\n",
    "        groups = groups_n[i]\n",
    "        top_n_lists = top_n_lists_g[i]\n",
    "\n",
    "        pops = []\n",
    "        for j in (range(len(groups))):\n",
    "            group = groups[j]\n",
    "            top_n_list = top_n_lists[j]\n",
    "            for k in range(len(group)):\n",
    "                for l in range(top_n_size):\n",
    "                    tid = top_n_list[l]\n",
    "                    pops.append(pop_dict[tid])                    \n",
    "        avg_pop = sum(pops)/len(pops)\n",
    "        avg_pops.append(avg_pop)\n",
    "        \n",
    "    print(avg_pops)"
   ]
  },
  {
   "cell_type": "code",
   "execution_count": null,
   "metadata": {},
   "outputs": [],
   "source": []
  },
  {
   "cell_type": "code",
   "execution_count": 11,
   "metadata": {},
   "outputs": [
    {
     "data": {
      "application/vnd.jupyter.widget-view+json": {
       "model_id": "c20e339aa816488589095320be649a8f",
       "version_major": 2,
       "version_minor": 0
      },
      "text/plain": [
       "HBox(children=(FloatProgress(value=0.0, max=11.0), HTML(value='')))"
      ]
     },
     "metadata": {},
     "output_type": "display_data"
    },
    {
     "name": "stdout",
     "output_type": "stream",
     "text": [
      "\n",
      "[0.056168388429752004, 0.058690303030302905, 0.0622683284457477, 0.06392121212121205, 0.06671306818181817, 0.06587012987012977, 0.06784545454545449, 0.07061616161616163, 0.06604659090909094, 0.07303636363636365]\n",
      "[0.0679979338842974, 0.06806121212121191, 0.06958651026392947, 0.07081645021645011, 0.07103030303030294, 0.07028571428571415, 0.07128749999999988, 0.07459469696969691, 0.0697534090909091, 0.07474545454545456]\n",
      "[0.0851306818181817, 0.0820872727272726, 0.08041129032258043, 0.08000692640692618, 0.07992897727272723, 0.07843956043956021, 0.07916022727272715, 0.08123484848484842, 0.07602272727272737, 0.07976363636363634]\n",
      "[0.10091167355371912, 0.09505757575757563, 0.09159090909090897, 0.08983203463203444, 0.08719696969696956, 0.086213786213786, 0.0891613636363635, 0.08914772727272705, 0.08077386363636369, 0.08613181818181817]\n",
      "[0.11352737603305806, 0.10566969696969675, 0.10267302052785927, 0.09632207792207781, 0.09733428030303008, 0.09218781218781207, 0.09616704545454528, 0.09593560606060586, 0.0857215909090909, 0.09082045454545448]\n",
      "[0.11906353305785151, 0.11286303030303022, 0.1091334310850439, 0.10238181818181812, 0.10081723484848475, 0.09945354645354627, 0.10303068181818167, 0.10234217171717151, 0.09034659090909089, 0.09631136363636365]\n",
      "[0.11935485537190114, 0.1144230303030303, 0.10976832844574774, 0.10072294372294374, 0.100155303030303, 0.0941578421578421, 0.1002295454545454, 0.09872222222222207, 0.0868886363636364, 0.08355454545454548]\n",
      "[0.1173600206611572, 0.11330909090909086, 0.10442888563049864, 0.09507619047619047, 0.09438257575757573, 0.0848091908091908, 0.09112727272727265, 0.08750252525252528, 0.07727045454545461, 0.0666977272727273]\n",
      "[0.11092871900826466, 0.10652606060606065, 0.10081011730205293, 0.08343636363636363, 0.08412215909090913, 0.07164835164835165, 0.07575227272727258, 0.06971085858585856, 0.06032272727272727, 0.039302272727272734]\n",
      "[0.10010537190082648, 0.09596424242424248, 0.0861590909090909, 0.07166580086580084, 0.06794034090909092, 0.05804995004995004, 0.06230568181818179, 0.052383838383838345, 0.0481465909090909, 0.02651590909090908]\n",
      "[0.08092148760330578, 0.07536121212121205, 0.06480791788856304, 0.053829437229437234, 0.047685606060606074, 0.040121878121878125, 0.0453340909090909, 0.040060606060606054, 0.03050909090909093, 0.01341818181818182]\n"
     ]
    }
   ],
   "source": [
    "HitNOVs = []\n",
    "for lambda_ in tqdm(lambdas):\n",
    "    top_n_size = 50\n",
    "    top_n_lists_g = []\n",
    "    for groups in groups_n:\n",
    "\n",
    "        group_size = len(groups[0])\n",
    "        top_n_lists = []\n",
    "\n",
    "        for group in groups:\n",
    "            rating_table = pd.DataFrame() \n",
    "            for member in group:\n",
    "                prediction = svd[svd['uid'] == member].copy()\n",
    "                if len(rating_table) == 0:\n",
    "                    rating_table = prediction\n",
    "                else:\n",
    "                    rating_table = rating_table.set_index('tid').add(prediction.set_index('tid'), fill_value=0).reset_index()\n",
    "            rating_table['rating'] /= group_size \n",
    "            rating_table['rating'] *= lambda_\n",
    "            pop = df_pop.copy()\n",
    "            pop['rating'] *= (1 - lambda_)\n",
    "            rating_table = rating_table.set_index('tid').add(pop.set_index('tid'), fill_value=0).reset_index()\n",
    "    #         rating_table = rating_table[rating_table['count'] == group_size]\n",
    "            rating_table = rating_table.sort_values(by=['rating'],  ascending=False)\n",
    "            rating_table = rating_table[:top_n_size]\n",
    "            top_n_list = []\n",
    "            for _, row in rating_table.iterrows():\n",
    "                top_n_list.append(row[0])\n",
    "            top_n_lists.append(top_n_list)\n",
    "        top_n_lists_g.append(top_n_lists)   \n",
    "        \n",
    "    HitNOV = []\n",
    "    for i in range(len(groups_n)):\n",
    "        groups = groups_n[i]\n",
    "        top_n_lists = top_n_lists_g[i]\n",
    "        \n",
    "        nov = 0\n",
    "        for j in (range(len(groups))):\n",
    "\n",
    "            group = groups[j]\n",
    "            top_n_list = top_n_lists[j]\n",
    "            \n",
    "            for k in range(len(group)):\n",
    "                for l in range(top_n_size):\n",
    "                    uid = group[k]\n",
    "                    tid = top_n_list[l]\n",
    "                    t = test[test['uid'] == uid]\n",
    "                    t = t[t['tid'] == tid]\n",
    "                    if len(t) > 0:\n",
    "                        nov += (1-pop_dict[tid])\n",
    "        \n",
    "        HitNOV.append(nov/top_n_size/(len(groups)*len(groups[0])))\n",
    "    HitNOVs.append(HitNOV)\n",
    "    \n",
    "for HitNOV in HitNOVs:\n",
    "    print(HitNOV)"
   ]
  },
  {
   "cell_type": "code",
   "execution_count": null,
   "metadata": {},
   "outputs": [],
   "source": []
  },
  {
   "cell_type": "code",
   "execution_count": 66,
   "metadata": {},
   "outputs": [
    {
     "data": {
      "application/vnd.jupyter.widget-view+json": {
       "model_id": "c986dfa0698f4453882dd11054dbb06a",
       "version_major": 2,
       "version_minor": 0
      },
      "text/plain": [
       "HBox(children=(FloatProgress(value=0.0, max=11.0), HTML(value='')))"
      ]
     },
     "metadata": {},
     "output_type": "display_data"
    },
    {
     "name": "stdout",
     "output_type": "stream",
     "text": [
      "\n",
      "[7.276828758027252e-05, 7.276828758027252e-05, 7.276828758027252e-05, 7.276828758027252e-05, 7.276828758027252e-05, 7.276828758027252e-05, 7.276828758027252e-05, 7.276828758027252e-05, 7.276828758027252e-05, 7.276828758027252e-05]\n",
      "[0.00010915243137040878, 0.00010915243137040878, 9.096035947534064e-05, 9.096035947534064e-05, 9.096035947534064e-05, 9.096035947534064e-05, 9.096035947534064e-05, 9.096035947534064e-05, 9.096035947534064e-05, 9.096035947534064e-05]\n",
      "[0.0003092652222161582, 0.00027288107842602196, 0.0001819207189506813, 0.00016372864705561317, 0.00010915243137040878, 0.0001273445032654769, 0.00010915243137040878, 0.00010915243137040878, 9.096035947534064e-05, 9.096035947534064e-05]\n",
      "[0.0005457621568520439, 0.0004911859411668394, 0.0004002255816914988, 0.0004002255816914988, 0.00027288107842602196, 0.0002546890065309538, 0.00016372864705561317, 0.00016372864705561317, 0.00016372864705561317, 0.00010915243137040878]\n",
      "[0.0007276828758027252, 0.0008004511633829977, 0.0006185304444323164, 0.0006185304444323164, 0.00045480179737670325, 0.0003638414379013626, 0.00032745729411122633, 0.00027288107842602196, 0.0002546890065309538, 9.096035947534064e-05]\n",
      "[0.0008368353071731339, 0.0010551401699139516, 0.0009641798104386109, 0.000855027379068202, 0.0006912987320125889, 0.0006003383725372483, 0.0004729938692717714, 0.0004002255816914988, 0.0004002255816914988, 0.00010915243137040878]\n",
      "[0.0009641798104386109, 0.0012188688169695646, 0.0012552529607597009, 0.0011824846731794284, 0.0009277956666484746, 0.0008186432352780658, 0.0006003383725372483, 0.0005275700849569758, 0.0005275700849569758, 0.0001273445032654769]\n",
      "[0.0011642926012843603, 0.0014735578235005185, 0.0014371736797103823, 0.001291637104549837, 0.0010187560261238151, 0.0009277956666484746, 0.0006731066601175208, 0.000563954228747112, 0.0005821463006421802, 0.00014553657516054504]\n",
      "[0.0014917498953955866, 0.0016554785424511998, 0.0015281340391857228, 0.0013098291764449053, 0.0010551401699139516, 0.0009277956666484746, 0.0006731066601175208, 0.000563954228747112, 0.0005275700849569758, 0.00014553657516054504]\n",
      "[0.002092088267932835, 0.001982935836562426, 0.0015827102548709273, 0.001291637104549837, 0.0010187560261238151, 0.0008914115228583384, 0.0006731066601175208, 0.0005093780130619076, 0.0005093780130619076, 0.00014553657516054504]\n",
      "[0.0030198839345813096, 0.0024559297058341974, 0.0016372864705561316, 0.0011824846731794284, 0.0009277956666484746, 0.000855027379068202, 0.0006549145882224527, 0.0004729938692717714, 0.0004729938692717714, 0.00014553657516054504]\n",
      "\n",
      "[0.0, 0.0, 0.0, 0.0, 0.0, 0.0, 0.0, 0.0, 0.0, 0.0]\n",
      "[0.0, 0.0, 0.0, 0.0, 0.0, 0.0, 0.0, 0.0, 0.0, 0.0]\n",
      "[0.0, 0.0, 0.0, 0.0, 0.0, 0.0, 0.0, 0.0, 0.0, 0.0]\n",
      "[0.0, 0.0, 0.0, 0.0, 0.0, 0.0, 0.0, 0.0, 0.0, 0.0]\n",
      "[0.0, 0.0, 0.0, 0.0, 0.0, 0.0, 0.0, 0.0, 0.0, 0.0]\n",
      "[0.0, 0.0, 0.0, 0.0, 0.0, 0.0, 0.0, 0.0, 0.0, 0.0]\n",
      "[0.0, 0.0, 1.819207189506813e-05, 0.0, 1.819207189506813e-05, 3.638414379013626e-05, 1.819207189506813e-05, 1.819207189506813e-05, 3.638414379013626e-05, 0.0]\n",
      "[1.819207189506813e-05, 0.0, 3.638414379013626e-05, 1.819207189506813e-05, 5.457621568520439e-05, 9.096035947534064e-05, 9.096035947534064e-05, 7.276828758027252e-05, 0.00014553657516054504, 3.638414379013626e-05]\n",
      "[9.096035947534064e-05, 5.457621568520439e-05, 0.00010915243137040878, 0.0001273445032654769, 0.0002364969346358857, 0.00021830486274081756, 0.0002001127908457494, 0.0001819207189506813, 0.0002001127908457494, 9.096035947534064e-05]\n",
      "[0.00032745729411122633, 0.00032745729411122633, 0.0002364969346358857, 0.0002910731503210901, 0.00041841765358656695, 0.00032745729411122633, 0.0003638414379013626, 0.00032745729411122633, 0.0002910731503210901, 0.00014553657516054504]\n",
      "[0.001400789535920246, 0.0010551401699139516, 0.0006003383725372483, 0.000563954228747112, 0.0006185304444323164, 0.0005275700849569758, 0.0004729938692717714, 0.0004002255816914988, 0.0003638414379013626, 0.00014553657516054504]\n"
     ]
    }
   ],
   "source": [
    "diversities = []\n",
    "novelties = []\n",
    "for lambda_ in tqdm(lambdas):\n",
    "    top_n_size = 4\n",
    "    top_n_items_g = []\n",
    "    for groups in groups_n:\n",
    "\n",
    "        group_size = len(groups[0])\n",
    "        top_n_items = pd.DataFrame() \n",
    "\n",
    "        for group in groups:\n",
    "            rating_table = pd.DataFrame() \n",
    "            for member in group:\n",
    "                prediction = svd[svd['uid'] == member].copy()\n",
    "                if len(rating_table) == 0:\n",
    "                    rating_table = prediction\n",
    "                else:\n",
    "                    rating_table = rating_table.set_index('tid').add(prediction.set_index('tid'), fill_value=0).reset_index()\n",
    "            rating_table['rating'] /= group_size \n",
    "            rating_table['rating'] *= lambda_\n",
    "            pop = df_pop.copy()\n",
    "            pop['rating'] *= (1 - lambda_)\n",
    "            rating_table = rating_table.set_index('tid').add(pop.set_index('tid'), fill_value=0).reset_index()\n",
    "    #         rating_table = rating_table[rating_table['count'] == group_size]\n",
    "            rating_table = rating_table.sort_values(by=['rating'],  ascending=False)\n",
    "            rating_table = rating_table[:top_n_size]   \n",
    "            if len(top_n_items) == 0:\n",
    "                top_n_items = rating_table\n",
    "            else:\n",
    "                top_n_items = top_n_items.set_index('tid').add(rating_table.set_index('tid'), fill_value=0).reset_index()\n",
    "\n",
    "        top_n_items_g.append(top_n_items)   \n",
    "    \n",
    "    diversity = []\n",
    "    for i in range(len(groups_n)):\n",
    "        top_n_items = top_n_items_g[i]\n",
    "        diversity.append(len(top_n_items)/len(df['tid'].unique()))\n",
    "    diversities.append(diversity)\n",
    "\n",
    "    novelty = []\n",
    "    for i in range(len(groups_n)):\n",
    "        top_n_items = top_n_items_g[i]\n",
    "        novelty.append(len(top_n_items[top_n_items['tid'].isin(long_tail)])/len(df['tid'].unique()))\n",
    "    novelties.append(novelty)\n",
    "    \n",
    "for diversity in diversities:\n",
    "    print(diversity)\n",
    "print()\n",
    "for novelty in novelties:\n",
    "    print(novelty)"
   ]
  },
  {
   "cell_type": "code",
   "execution_count": null,
   "metadata": {},
   "outputs": [],
   "source": []
  },
  {
   "cell_type": "code",
   "execution_count": 74,
   "metadata": {},
   "outputs": [
    {
     "data": {
      "text/plain": [
       "54420"
      ]
     },
     "execution_count": 74,
     "metadata": {},
     "output_type": "execute_result"
    }
   ],
   "source": [
    "tid_pd = pd.DataFrame(data={'tid': df['tid'].unique()})\n",
    "tid_pd = tid_pd.sort_values(by=['tid']).reset_index()\n",
    "long_tail_list = tid_pd['tid'].isin(long_tail)\n",
    "long_tail_list = list(long_tail_list)\n",
    "long_tail_list.count(True)"
   ]
  },
  {
   "cell_type": "code",
   "execution_count": 75,
   "metadata": {},
   "outputs": [
    {
     "data": {
      "application/vnd.jupyter.widget-view+json": {
       "model_id": "7c7b75fd3fa04a2e89e047d6f2d1e7a1",
       "version_major": 2,
       "version_minor": 0
      },
      "text/plain": [
       "HBox(children=(FloatProgress(value=0.0, max=11.0), HTML(value='')))"
      ]
     },
     "metadata": {},
     "output_type": "display_data"
    },
    {
     "name": "stdout",
     "output_type": "stream",
     "text": [
      "\n",
      "[0.0009096035947534065, 0.0009096035947534065, 0.0009096035947534065, 0.0009096035947534065, 0.0009096035947534065, 0.0009096035947534065, 0.0009096035947534065, 0.0009096035947534065, 0.0009096035947534065, 0.0009096035947534065]\n",
      "[0.001546326111080791, 0.001418981607815314, 0.001291637104549837, 0.001273445032654769, 0.0011824846731794284, 0.0011097163855991559, 0.0011097163855991559, 0.0010915243137040878, 0.0011097163855991559, 0.0009459877385435427]\n",
      "[0.00252869799341447, 0.0021648565555131075, 0.0019465516927722898, 0.001819207189506813, 0.0017464389019265405, 0.0015827102548709273, 0.0015099419672906548, 0.0014917498953955866, 0.0014371736797103823, 0.0010369480980188834]\n",
      "[0.003656606450908694, 0.003274572941112263, 0.0028925394313158324, 0.002583274209099674, 0.0024559297058341974, 0.0023103931306736524, 0.0021648565555131075, 0.0020011279084574942, 0.0020557041241426985, 0.0011642926012843603]\n",
      "[0.005021011843038803, 0.004693554548927577, 0.004420673470501555, 0.003820335097964307, 0.003656606450908694, 0.0032927650130073313, 0.0030380760064763774, 0.0027651949280503556, 0.002583274209099674, 0.001273445032654769]\n",
      "[0.0058396550783168695, 0.006057959941057687, 0.006294456875693573, 0.00534846913715003, 0.004893667339773327, 0.00467536247703251, 0.00418417653586567, 0.0036929905946988303, 0.0036020302352234895, 0.001546326111080791]\n",
      "[0.006439993450854118, 0.007276828758027252, 0.00758609398024341, 0.006385417235168913, 0.005821463006421801, 0.005584966071785916, 0.00505739598682894, 0.004366097254816351, 0.004256944823445942, 0.0016190943986610635]\n",
      "[0.007149484254761774, 0.008095471993305318, 0.008186432352780658, 0.006931179392020957, 0.006167112372428096, 0.00563954228747112, 0.005130164274409213, 0.004366097254816351, 0.004238752751550874, 0.001291637104549837]\n",
      "[0.007513325692663137, 0.00836835307173134, 0.008241008568465862, 0.006530953810329459, 0.005821463006421801, 0.005148356346304281, 0.004620786261347305, 0.0036020302352234895, 0.0035838381633284213, 0.0008368353071731339]\n",
      "[0.008059087849515182, 0.008350160999836272, 0.007476941548873001, 0.006148920300533028, 0.004911859411668395, 0.0041477923920755335, 0.0038749113136495117, 0.00281977114373556, 0.0028743473594207646, 0.0006185304444323164]\n",
      "[0.008040895777620113, 0.007367789117502592, 0.006021575797267551, 0.004657170405137441, 0.0037293747384889663, 0.002983499790791173, 0.002801579071840492, 0.002128472411722971, 0.0018010151176117448, 0.0003820335097964307]\n",
      "\n",
      "[0.0, 0.0, 0.0, 0.0, 0.0, 0.0, 0.0, 0.0, 0.0, 0.0]\n",
      "[0.0, 0.0, 0.0, 0.0, 0.0, 0.0, 0.0, 0.0, 0.0, 0.0]\n",
      "[0.0, 0.0, 0.0, 0.0, 0.0, 0.0, 0.0, 0.0, 0.0, 0.0]\n",
      "[1.819207189506813e-05, 0.0, 0.0, 0.0, 0.0, 0.0, 0.0, 0.0, 0.0, 0.0]\n",
      "[9.096035947534064e-05, 3.638414379013626e-05, 5.457621568520439e-05, 3.638414379013626e-05, 5.457621568520439e-05, 3.638414379013626e-05, 3.638414379013626e-05, 3.638414379013626e-05, 1.819207189506813e-05, 0.0]\n",
      "[0.00032745729411122633, 0.0004002255816914988, 0.0006549145882224527, 0.0004002255816914988, 0.0003820335097964307, 0.0004911859411668394, 0.00041841765358656695, 0.0002910731503210901, 0.0003092652222161582, 3.638414379013626e-05]\n",
      "[0.0006185304444323164, 0.0010005639542287471, 0.0014917498953955866, 0.0011824846731794284, 0.0012188688169695646, 0.001291637104549837, 0.0014371736797103823, 0.0010915243137040878, 0.0010187560261238151, 0.000563954228747112]\n",
      "[0.001291637104549837, 0.001710054758136404, 0.0023285852025687207, 0.00223762484309338, 0.0021466644836180392, 0.002110280339827903, 0.0024559297058341974, 0.0019647437646673578, 0.001819207189506813, 0.0007458749476977933]\n",
      "[0.0019647437646673578, 0.0023649693463588567, 0.002983499790791173, 0.0026196583528898107, 0.0026014662809947424, 0.002674234568575015, 0.002837963215630628, 0.0021648565555131075, 0.0021466644836180392, 0.000709490803907657]\n",
      "[0.0028743473594207646, 0.0031108442940566503, 0.0034383015881678763, 0.0028925394313158324, 0.002783386999945424, 0.0026014662809947424, 0.0027651949280503556, 0.002092088267932835, 0.002128472411722971, 0.0005457621568520439]\n",
      "[0.0037111826665938985, 0.0035838381633284213, 0.003329149156797468, 0.002728810784260219, 0.002492313849624334, 0.00223762484309338, 0.0022012406993032435, 0.001819207189506813, 0.0015281340391857228, 0.0003820335097964307]\n"
     ]
    }
   ],
   "source": [
    "diversities = []\n",
    "novelties = []\n",
    "for lambda_ in tqdm(lambdas):\n",
    "    top_n_size = 50\n",
    "    top_n_lists_g = []\n",
    "    for groups in groups_n:\n",
    "\n",
    "        group_size = len(groups[0])\n",
    "        top_n_lists = []\n",
    "\n",
    "        for group in groups:\n",
    "            rating_table = pd.DataFrame() \n",
    "            for member in group:\n",
    "                prediction = svd[svd['uid'] == member].copy()\n",
    "                if len(rating_table) == 0:\n",
    "                    rating_table = prediction\n",
    "                else:\n",
    "                    rating_table = rating_table.set_index('tid').add(prediction.set_index('tid'), fill_value=0).reset_index()\n",
    "            rating_table['rating'] /= group_size \n",
    "            rating_table['rating'] *= lambda_\n",
    "            pop = df_pop.copy()\n",
    "            pop['rating'] *= (1 - lambda_)\n",
    "            rating_table = rating_table.set_index('tid').add(pop.set_index('tid'), fill_value=0).reset_index()\n",
    "    #         rating_table = rating_table[rating_table['count'] == group_size]\n",
    "            rating_table = rating_table.sort_values(by=['rating'],  ascending=False)\n",
    "            rating_table = rating_table[:top_n_size]\n",
    "            top_n_list = []\n",
    "            for _, row in rating_table.iterrows():\n",
    "                top_n_list.append(row[0])\n",
    "            top_n_lists.append(top_n_list)\n",
    "        top_n_lists_g.append(top_n_lists)   \n",
    "        \n",
    "    diversity = []\n",
    "    novelty = []\n",
    "    for i in range(len(groups_n)):\n",
    "        groups = groups_n[i]\n",
    "        top_n_lists = top_n_lists_g[i]\n",
    "\n",
    "        \n",
    "        hits = np.zeros(len(df['tid'].unique()), dtype=bool)\n",
    "        for j in (range(len(groups))):\n",
    "\n",
    "            group = groups[j]\n",
    "            top_n_list = top_n_lists[j]\n",
    "            \n",
    "            for k in range(len(group)):\n",
    "                for l in range(top_n_size):\n",
    "                    uid = group[k]\n",
    "                    tid = top_n_list[l]\n",
    "                    t = test[test['uid'] == uid]\n",
    "                    t = t[t['tid'] == tid]\n",
    "                    if len(t) > 0:\n",
    "                        hits[int(tid)] = True\n",
    "        \n",
    "        diversity.append(list(hits).count(True)/len(df['tid'].unique()))\n",
    "        novelty.append(list(hits&long_tail_list).count(True)/len(df['tid'].unique()))\n",
    "    diversities.append(diversity)\n",
    "    novelties.append(novelty)\n",
    "    \n",
    "for diversity in diversities:\n",
    "    print(diversity)\n",
    "print()\n",
    "for novelty in novelties:\n",
    "    print(novelty)"
   ]
  },
  {
   "cell_type": "code",
   "execution_count": null,
   "metadata": {},
   "outputs": [],
   "source": []
  }
 ],
 "metadata": {
  "kernelspec": {
   "display_name": "Python 3",
   "language": "python",
   "name": "python3"
  },
  "language_info": {
   "codemirror_mode": {
    "name": "ipython",
    "version": 3
   },
   "file_extension": ".py",
   "mimetype": "text/x-python",
   "name": "python",
   "nbconvert_exporter": "python",
   "pygments_lexer": "ipython3",
   "version": "3.6.10"
  }
 },
 "nbformat": 4,
 "nbformat_minor": 4
}
