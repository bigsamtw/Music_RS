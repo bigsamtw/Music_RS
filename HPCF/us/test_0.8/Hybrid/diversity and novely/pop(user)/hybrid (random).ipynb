{
 "cells": [
  {
   "cell_type": "code",
   "execution_count": 1,
   "metadata": {},
   "outputs": [],
   "source": [
    "import os \n",
    "import math\n",
    "import random\n",
    "import numpy as np\n",
    "import pandas as pd\n",
    "from tqdm.notebook import tqdm\n",
    "from numpy import count_nonzero\n",
    "dir_ = '../../../data'\n",
    "group_dir_ = os.path.join(dir_, 'groups/random')"
   ]
  },
  {
   "cell_type": "code",
   "execution_count": 2,
   "metadata": {},
   "outputs": [
    {
     "data": {
      "text/plain": [
       "220"
      ]
     },
     "execution_count": 2,
     "metadata": {},
     "output_type": "execute_result"
    }
   ],
   "source": [
    "file_name = 'normalized_to_rating_filter_track_5_user_100.csv'\n",
    "df = pd.read_pickle(os.path.join(dir_, file_name[:-3] + 'pkl'))\n",
    "svd = pd.read_pickle(os.path.join(dir_, 'prediction_svd_top_N_' + file_name[:-3] + 'pkl'))\n",
    "test = pd.read_pickle(os.path.join(dir_, 'test_' + file_name[:-3] + 'pkl'))\n",
    "test.sort_values(by=['uid','tid'])\n",
    "\n",
    "num_user = len(svd['uid'].unique())\n",
    "num_user"
   ]
  },
  {
   "cell_type": "code",
   "execution_count": 12,
   "metadata": {},
   "outputs": [],
   "source": [
    "groups_n =[]\n",
    "group_sizes = ['2', '3', '4', '5', '6', '7', '8', '9', '10', '20']\n",
    "for i in range(len(group_sizes)):\n",
    "    groups = np.loadtxt(os.path.join(group_dir_, group_sizes[i] + '.csv'), delimiter=',')\n",
    "    groups_n.append(groups)"
   ]
  },
  {
   "cell_type": "code",
   "execution_count": 4,
   "metadata": {},
   "outputs": [],
   "source": [
    "pop_dict = {}\n",
    "for i in df['tid'].unique():\n",
    "    pop_dict[i] = len(df[df['tid']==i])/num_user"
   ]
  },
  {
   "cell_type": "code",
   "execution_count": 5,
   "metadata": {},
   "outputs": [
    {
     "data": {
      "text/html": [
       "<div>\n",
       "<style scoped>\n",
       "    .dataframe tbody tr th:only-of-type {\n",
       "        vertical-align: middle;\n",
       "    }\n",
       "\n",
       "    .dataframe tbody tr th {\n",
       "        vertical-align: top;\n",
       "    }\n",
       "\n",
       "    .dataframe thead th {\n",
       "        text-align: right;\n",
       "    }\n",
       "</style>\n",
       "<table border=\"1\" class=\"dataframe\">\n",
       "  <thead>\n",
       "    <tr style=\"text-align: right;\">\n",
       "      <th></th>\n",
       "      <th>uid</th>\n",
       "      <th>tid</th>\n",
       "      <th>rating</th>\n",
       "      <th>count</th>\n",
       "    </tr>\n",
       "  </thead>\n",
       "  <tbody>\n",
       "    <tr>\n",
       "      <th>0</th>\n",
       "      <td>0</td>\n",
       "      <td>3</td>\n",
       "      <td>2.544071</td>\n",
       "      <td>1</td>\n",
       "    </tr>\n",
       "    <tr>\n",
       "      <th>1</th>\n",
       "      <td>0</td>\n",
       "      <td>7</td>\n",
       "      <td>2.545822</td>\n",
       "      <td>1</td>\n",
       "    </tr>\n",
       "    <tr>\n",
       "      <th>2</th>\n",
       "      <td>0</td>\n",
       "      <td>18</td>\n",
       "      <td>2.152490</td>\n",
       "      <td>1</td>\n",
       "    </tr>\n",
       "    <tr>\n",
       "      <th>3</th>\n",
       "      <td>0</td>\n",
       "      <td>20</td>\n",
       "      <td>1.882396</td>\n",
       "      <td>1</td>\n",
       "    </tr>\n",
       "    <tr>\n",
       "      <th>4</th>\n",
       "      <td>0</td>\n",
       "      <td>31</td>\n",
       "      <td>2.410806</td>\n",
       "      <td>1</td>\n",
       "    </tr>\n",
       "  </tbody>\n",
       "</table>\n",
       "</div>"
      ],
      "text/plain": [
       "   uid  tid    rating  count\n",
       "0    0    3  2.544071      1\n",
       "1    0    7  2.545822      1\n",
       "2    0   18  2.152490      1\n",
       "3    0   20  1.882396      1\n",
       "4    0   31  2.410806      1"
      ]
     },
     "execution_count": 5,
     "metadata": {},
     "output_type": "execute_result"
    }
   ],
   "source": [
    "svd['count'] = 1\n",
    "svd[:5]"
   ]
  },
  {
   "cell_type": "code",
   "execution_count": 6,
   "metadata": {},
   "outputs": [
    {
     "data": {
      "text/html": [
       "<div>\n",
       "<style scoped>\n",
       "    .dataframe tbody tr th:only-of-type {\n",
       "        vertical-align: middle;\n",
       "    }\n",
       "\n",
       "    .dataframe tbody tr th {\n",
       "        vertical-align: top;\n",
       "    }\n",
       "\n",
       "    .dataframe thead th {\n",
       "        text-align: right;\n",
       "    }\n",
       "</style>\n",
       "<table border=\"1\" class=\"dataframe\">\n",
       "  <thead>\n",
       "    <tr style=\"text-align: right;\">\n",
       "      <th></th>\n",
       "      <th>tid</th>\n",
       "      <th>rating</th>\n",
       "    </tr>\n",
       "  </thead>\n",
       "  <tbody>\n",
       "    <tr>\n",
       "      <th>166</th>\n",
       "      <td>166</td>\n",
       "      <td>3.840909</td>\n",
       "    </tr>\n",
       "    <tr>\n",
       "      <th>7209</th>\n",
       "      <td>7209</td>\n",
       "      <td>3.295455</td>\n",
       "    </tr>\n",
       "    <tr>\n",
       "      <th>350</th>\n",
       "      <td>350</td>\n",
       "      <td>3.113636</td>\n",
       "    </tr>\n",
       "    <tr>\n",
       "      <th>3761</th>\n",
       "      <td>3761</td>\n",
       "      <td>3.045455</td>\n",
       "    </tr>\n",
       "    <tr>\n",
       "      <th>80</th>\n",
       "      <td>80</td>\n",
       "      <td>3.022727</td>\n",
       "    </tr>\n",
       "    <tr>\n",
       "      <th>1017</th>\n",
       "      <td>1017</td>\n",
       "      <td>2.840909</td>\n",
       "    </tr>\n",
       "    <tr>\n",
       "      <th>1753</th>\n",
       "      <td>1753</td>\n",
       "      <td>2.750000</td>\n",
       "    </tr>\n",
       "    <tr>\n",
       "      <th>428</th>\n",
       "      <td>428</td>\n",
       "      <td>2.727273</td>\n",
       "    </tr>\n",
       "    <tr>\n",
       "      <th>200</th>\n",
       "      <td>200</td>\n",
       "      <td>2.681818</td>\n",
       "    </tr>\n",
       "    <tr>\n",
       "      <th>3159</th>\n",
       "      <td>3159</td>\n",
       "      <td>2.659091</td>\n",
       "    </tr>\n",
       "  </tbody>\n",
       "</table>\n",
       "</div>"
      ],
      "text/plain": [
       "       tid    rating\n",
       "166    166  3.840909\n",
       "7209  7209  3.295455\n",
       "350    350  3.113636\n",
       "3761  3761  3.045455\n",
       "80      80  3.022727\n",
       "1017  1017  2.840909\n",
       "1753  1753  2.750000\n",
       "428    428  2.727273\n",
       "200    200  2.681818\n",
       "3159  3159  2.659091"
      ]
     },
     "execution_count": 6,
     "metadata": {},
     "output_type": "execute_result"
    }
   ],
   "source": [
    "# Count POP to DF\n",
    "tid_list = []\n",
    "pop_list = []\n",
    "for i in df['tid'].unique():\n",
    "    tid_list.append(i)\n",
    "    pop_list.append(len(df[df['tid']==i])/num_user*5)\n",
    "    \n",
    "d = {'tid': tid_list, 'rating': pop_list}\n",
    "df_pop = pd.DataFrame(data=d)\n",
    "df_pop = df_pop.sort_values(by=['rating'], ascending=False)\n",
    "df_pop[:10]"
   ]
  },
  {
   "cell_type": "code",
   "execution_count": 7,
   "metadata": {},
   "outputs": [
    {
     "data": {
      "text/plain": [
       "(54420, 54969, 549)"
      ]
     },
     "execution_count": 7,
     "metadata": {},
     "output_type": "execute_result"
    }
   ],
   "source": [
    "top_percent = 0.01\n",
    "long_tail = df_pop[int(len(df_pop)*top_percent):]\n",
    "long_tail = long_tail['tid'].unique()\n",
    "len(long_tail), len(df_pop), len(df_pop)-len(long_tail)"
   ]
  },
  {
   "cell_type": "code",
   "execution_count": 8,
   "metadata": {},
   "outputs": [
    {
     "data": {
      "text/plain": [
       "[0.0, 0.1, 0.2, 0.3, 0.4, 0.5, 0.6, 0.7, 0.8, 0.9, 1.0]"
      ]
     },
     "execution_count": 8,
     "metadata": {},
     "output_type": "execute_result"
    }
   ],
   "source": [
    "lambdas = []\n",
    "for i in range(11):\n",
    "    lambdas.append(i/10)\n",
    "lambdas"
   ]
  },
  {
   "cell_type": "code",
   "execution_count": null,
   "metadata": {},
   "outputs": [],
   "source": [
    "for lambda_ in tqdm(lambdas):\n",
    "    top_n_size = 4\n",
    "    top_n_lists_g = []\n",
    "    for groups in groups_n:\n",
    "\n",
    "        group_size = len(groups[0])\n",
    "        top_n_lists = []\n",
    "\n",
    "        for group in groups:\n",
    "            rating_table = pd.DataFrame() \n",
    "            for member in group:\n",
    "                prediction = svd[svd['uid'] == member].copy()\n",
    "                if len(rating_table) == 0:\n",
    "                    rating_table = prediction\n",
    "                else:\n",
    "                    rating_table = rating_table.set_index('tid').add(prediction.set_index('tid'), fill_value=0).reset_index()\n",
    "            rating_table['rating'] /= group_size \n",
    "            rating_table['rating'] *= lambda_\n",
    "            pop = df_pop.copy()\n",
    "            pop['rating'] *= (1 - lambda_)\n",
    "            rating_table = rating_table.set_index('tid').add(pop.set_index('tid'), fill_value=0).reset_index()\n",
    "    #         rating_table = rating_table[rating_table['count'] == group_size]\n",
    "            rating_table = rating_table.sort_values(by=['rating'],  ascending=False)\n",
    "            rating_table = rating_table[:top_n_size]\n",
    "            top_n_list = []\n",
    "            for _, row in rating_table.iterrows():\n",
    "                top_n_list.append(row[0])\n",
    "            top_n_lists.append(top_n_list)\n",
    "        top_n_lists_g.append(top_n_lists)   \n",
    "        \n",
    "    threshold = 0.0\n",
    "    avg_pops = []\n",
    "    for i in range(len(groups_n)):\n",
    "        groups = groups_n[i]\n",
    "        top_n_lists = top_n_lists_g[i]\n",
    "\n",
    "        pops = []\n",
    "        for j in (range(len(groups))):\n",
    "            group = groups[j]\n",
    "            top_n_list = top_n_lists[j]\n",
    "            for k in range(len(group)):\n",
    "                for l in range(top_n_size):\n",
    "                    tid = top_n_list[l]\n",
    "                    pops.append(pop_dict[tid])                    \n",
    "        avg_pop = sum(pops)/len(pops)\n",
    "        avg_pops.append(avg_pop)\n",
    "        \n",
    "    print(avg_pops)"
   ]
  },
  {
   "cell_type": "code",
   "execution_count": null,
   "metadata": {},
   "outputs": [],
   "source": []
  },
  {
   "cell_type": "code",
   "execution_count": 13,
   "metadata": {},
   "outputs": [
    {
     "data": {
      "application/vnd.jupyter.widget-view+json": {
       "model_id": "2ca6be4c114c45a8a21b7bed5c34f97d",
       "version_major": 2,
       "version_minor": 0
      },
      "text/plain": [
       "HBox(children=(FloatProgress(value=0.0, max=11.0), HTML(value='')))"
      ]
     },
     "metadata": {},
     "output_type": "display_data"
    },
    {
     "name": "stdout",
     "output_type": "stream",
     "text": [
      "\n",
      "[0.04923636363636365, 0.04923636363636367, 0.049236363636363654, 0.049236363636363564, 0.04942887205387194, 0.04895517385839958, 0.04952819865319849, 0.04851893939393937, 0.049105371900826304, 0.049105371900826325]\n",
      "[0.05797348484848481, 0.054887878787878736, 0.053807575757575755, 0.052101515151515045, 0.052406565656565526, 0.051335986594050954, 0.05254082491582478, 0.05106607744107736, 0.05122975206611552, 0.0503355371900825]\n",
      "[0.07326666666666659, 0.06280151515151504, 0.05954772727272721, 0.05708333333333318, 0.05644360269360255, 0.055616673648931574, 0.055584595959595855, 0.054454545454545394, 0.054086776859503985, 0.0513702479338841]\n",
      "[0.08558106060606048, 0.07447651515151504, 0.0707954545454544, 0.06478560606060593, 0.06310606060606067, 0.06112442396313359, 0.06023863636363626, 0.05909680134680139, 0.058105371900826375, 0.05336859504132212]\n",
      "[0.09833106060606038, 0.08334090909090892, 0.07949469696969692, 0.07481060606060598, 0.07100589225589227, 0.06672308336824471, 0.0662007575757575, 0.06383712121212125, 0.06310537190082631, 0.05658801652892551]\n",
      "[0.10550909090909079, 0.0884606060606059, 0.08350454545454533, 0.08125454545454538, 0.07869318181818183, 0.07406744868035199, 0.07285732323232323, 0.07040488215488219, 0.06877396694214873, 0.06061157024793382]\n",
      "[0.10726363636363624, 0.08952045454545449, 0.08784393939393932, 0.08415227272727259, 0.08304882154882157, 0.07746208630079605, 0.07781355218855218, 0.07564183501683507, 0.07474421487603317, 0.06544999999999986]\n",
      "[0.10583787878787865, 0.08927499999999997, 0.08697272727272713, 0.08230530303030294, 0.08352272727272732, 0.07623586091328034, 0.07845454545454544, 0.07623148148148164, 0.07415041322314067, 0.0626301652892561]\n",
      "[0.10191969696969677, 0.08505075757575754, 0.08566439393939382, 0.07958333333333331, 0.07924074074074078, 0.07231922915793886, 0.07258712121212123, 0.0692975589225591, 0.06662892561983481, 0.05260371900826442]\n",
      "[0.08983712121212116, 0.076110606060606, 0.07351590909090905, 0.06970909090909089, 0.06668771043771039, 0.059272308336824474, 0.05941750841750837, 0.05554419191919196, 0.05054586776859507, 0.030123140495867763]\n",
      "[0.06534621212121204, 0.054839393939393986, 0.054760606060605975, 0.05195757575757575, 0.04585690235690235, 0.04221658986175113, 0.041728535353535344, 0.03596212121212116, 0.03196528925619836, 0.01783801652892562]\n"
     ]
    }
   ],
   "source": [
    "HitNOVs = []\n",
    "for lambda_ in tqdm(lambdas):\n",
    "    top_n_size = 50\n",
    "    top_n_lists_g = []\n",
    "    for groups in groups_n:\n",
    "\n",
    "        group_size = len(groups[0])\n",
    "        top_n_lists = []\n",
    "\n",
    "        for group in groups:\n",
    "            rating_table = pd.DataFrame() \n",
    "            for member in group:\n",
    "                prediction = svd[svd['uid'] == member].copy()\n",
    "                if len(rating_table) == 0:\n",
    "                    rating_table = prediction\n",
    "                else:\n",
    "                    rating_table = rating_table.set_index('tid').add(prediction.set_index('tid'), fill_value=0).reset_index()\n",
    "            rating_table['rating'] /= group_size \n",
    "            rating_table['rating'] *= lambda_\n",
    "            pop = df_pop.copy()\n",
    "            pop['rating'] *= (1 - lambda_)\n",
    "            rating_table = rating_table.set_index('tid').add(pop.set_index('tid'), fill_value=0).reset_index()\n",
    "    #         rating_table = rating_table[rating_table['count'] == group_size]\n",
    "            rating_table = rating_table.sort_values(by=['rating'],  ascending=False)\n",
    "            rating_table = rating_table[:top_n_size]\n",
    "            top_n_list = []\n",
    "            for _, row in rating_table.iterrows():\n",
    "                top_n_list.append(row[0])\n",
    "            top_n_lists.append(top_n_list)\n",
    "        top_n_lists_g.append(top_n_lists)   \n",
    "        \n",
    "    HitNOV = []\n",
    "    for i in range(len(groups_n)):\n",
    "        groups = groups_n[i]\n",
    "        top_n_lists = top_n_lists_g[i]\n",
    "\n",
    "        \n",
    "        nov = 0\n",
    "        for j in (range(len(groups))):\n",
    "\n",
    "            group = groups[j]\n",
    "            top_n_list = top_n_lists[j]\n",
    "            \n",
    "            for k in range(len(group)):\n",
    "                for l in range(top_n_size):\n",
    "                    uid = group[k]\n",
    "                    tid = top_n_list[l]\n",
    "                    t = test[test['uid'] == uid]\n",
    "                    t = t[t['tid'] == tid]\n",
    "                    if len(t) > 0:\n",
    "                        nov += (1-pop_dict[tid])\n",
    "        \n",
    "        HitNOV.append(nov/top_n_size/(len(groups)*len(groups[0])))\n",
    "    HitNOVs.append(HitNOV)\n",
    "    \n",
    "for HitNOV in HitNOVs:\n",
    "    print(HitNOV)"
   ]
  },
  {
   "cell_type": "code",
   "execution_count": null,
   "metadata": {},
   "outputs": [],
   "source": []
  },
  {
   "cell_type": "code",
   "execution_count": 11,
   "metadata": {},
   "outputs": [
    {
     "data": {
      "application/vnd.jupyter.widget-view+json": {
       "model_id": "2fa1c3b1274441e5b5ef8cf0fb144faa",
       "version_major": 2,
       "version_minor": 0
      },
      "text/plain": [
       "HBox(children=(FloatProgress(value=0.0, max=11.0), HTML(value='')))"
      ]
     },
     "metadata": {},
     "output_type": "display_data"
    },
    {
     "name": "stdout",
     "output_type": "stream",
     "text": [
      "\n",
      "[7.276828758027252e-05, 7.276828758027252e-05, 7.276828758027252e-05, 7.276828758027252e-05, 7.276828758027252e-05, 7.276828758027252e-05, 7.276828758027252e-05, 7.276828758027252e-05, 7.276828758027252e-05, 7.276828758027252e-05]\n",
      "[0.00010915243137040878, 0.00010915243137040878, 0.00010915243137040878, 9.096035947534064e-05, 9.096035947534064e-05, 9.096035947534064e-05, 9.096035947534064e-05, 9.096035947534064e-05, 9.096035947534064e-05, 9.096035947534064e-05]\n",
      "[0.00027288107842602196, 0.0002001127908457494, 0.00014553657516054504, 0.0001273445032654769, 0.00010915243137040878, 0.00010915243137040878, 0.00010915243137040878, 0.00010915243137040878, 0.00010915243137040878, 9.096035947534064e-05]\n",
      "[0.00045480179737670325, 0.0004002255816914988, 0.00032745729411122633, 0.00027288107842602196, 0.00032745729411122633, 0.00027288107842602196, 0.00021830486274081756, 0.0001819207189506813, 0.00021830486274081756, 0.00010915243137040878]\n",
      "[0.0006731066601175208, 0.0005821463006421802, 0.0005275700849569758, 0.00043660972548163513, 0.00045480179737670325, 0.0003820335097964307, 0.0003638414379013626, 0.00034564936600629446, 0.0003820335097964307, 0.0002001127908457494]\n",
      "[0.0007458749476977933, 0.0007458749476977933, 0.0007276828758027252, 0.0006731066601175208, 0.0007640670195928614, 0.000709490803907657, 0.0006185304444323164, 0.0006549145882224527, 0.0006003383725372483, 0.0002910731503210901]\n",
      "[0.0008004511633829977, 0.0008732194509632703, 0.0008914115228583384, 0.0009277956666484746, 0.0012006767450744966, 0.0011097163855991559, 0.0010187560261238151, 0.0010369480980188834, 0.0008732194509632703, 0.00041841765358656695]\n",
      "[0.0009459877385435427, 0.0010551401699139516, 0.0010733322418090196, 0.0010915243137040878, 0.0015827102548709273, 0.0014917498953955866, 0.001400789535920246, 0.0013644053921301096, 0.0011642926012843603, 0.0006731066601175208]\n",
      "[0.0010915243137040878, 0.0011824846731794284, 0.0010733322418090196, 0.0011461005293892921, 0.0018010151176117448, 0.0016009023267659953, 0.0015827102548709273, 0.001400789535920246, 0.0013280212483399733, 0.0007640670195928614]\n",
      "[0.0014371736797103823, 0.0014735578235005185, 0.0012006767450744966, 0.0012006767450744966, 0.0019283596208772217, 0.0016736706143462678, 0.001564518182975859, 0.0013462133202350416, 0.0013462133202350416, 0.0007640670195928614]\n",
      "[0.0022194327711983117, 0.0018010151176117448, 0.001400789535920246, 0.0013644053921301096, 0.0019101675489821535, 0.0016372864705561316, 0.001418981607815314, 0.001273445032654769, 0.001291637104549837, 0.0005821463006421802]\n",
      "\n",
      "[0.0, 0.0, 0.0, 0.0, 0.0, 0.0, 0.0, 0.0, 0.0, 0.0]\n",
      "[0.0, 0.0, 0.0, 0.0, 0.0, 0.0, 0.0, 0.0, 0.0, 0.0]\n",
      "[0.0, 0.0, 0.0, 0.0, 0.0, 0.0, 0.0, 0.0, 0.0, 0.0]\n",
      "[0.0, 0.0, 0.0, 0.0, 0.0, 0.0, 0.0, 0.0, 0.0, 0.0]\n",
      "[0.0, 0.0, 0.0, 0.0, 0.0, 0.0, 0.0, 0.0, 0.0, 0.0]\n",
      "[0.0, 0.0, 0.0, 0.0, 0.0, 0.0, 0.0, 0.0, 0.0, 0.0]\n",
      "[0.0, 0.0, 0.0, 0.0, 0.0, 0.0, 0.0, 1.819207189506813e-05, 1.819207189506813e-05, 0.0]\n",
      "[1.819207189506813e-05, 0.0, 0.0, 0.0, 1.819207189506813e-05, 7.276828758027252e-05, 0.0, 3.638414379013626e-05, 1.819207189506813e-05, 3.638414379013626e-05]\n",
      "[5.457621568520439e-05, 1.819207189506813e-05, 1.819207189506813e-05, 1.819207189506813e-05, 9.096035947534064e-05, 0.00016372864705561317, 0.00010915243137040878, 0.00016372864705561317, 0.0001273445032654769, 0.00032745729411122633]\n",
      "[0.00021830486274081756, 0.0001819207189506813, 9.096035947534064e-05, 0.00014553657516054504, 0.0003638414379013626, 0.0003638414379013626, 0.00041841765358656695, 0.00034564936600629446, 0.0004002255816914988, 0.0005275700849569758]\n",
      "[0.0011097163855991559, 0.0007276828758027252, 0.000563954228747112, 0.0006367225163273845, 0.0008914115228583384, 0.0008004511633829977, 0.0006549145882224527, 0.0006185304444323164, 0.0007640670195928614, 0.000563954228747112]\n"
     ]
    }
   ],
   "source": [
    "diversities = []\n",
    "novelties = []\n",
    "for lambda_ in tqdm(lambdas):\n",
    "    top_n_size = 4\n",
    "    top_n_items_g = []\n",
    "    for groups in groups_n:\n",
    "\n",
    "        group_size = len(groups[0])\n",
    "        top_n_items = pd.DataFrame() \n",
    "\n",
    "        for group in groups:\n",
    "            rating_table = pd.DataFrame() \n",
    "            for member in group:\n",
    "                prediction = svd[svd['uid'] == member].copy()\n",
    "                if len(rating_table) == 0:\n",
    "                    rating_table = prediction\n",
    "                else:\n",
    "                    rating_table = rating_table.set_index('tid').add(prediction.set_index('tid'), fill_value=0).reset_index()\n",
    "            rating_table['rating'] /= group_size \n",
    "            rating_table['rating'] *= lambda_\n",
    "            pop = df_pop.copy()\n",
    "            pop['rating'] *= (1 - lambda_)\n",
    "            rating_table = rating_table.set_index('tid').add(pop.set_index('tid'), fill_value=0).reset_index()\n",
    "    #         rating_table = rating_table[rating_table['count'] == group_size]\n",
    "            rating_table = rating_table.sort_values(by=['rating'],  ascending=False)\n",
    "            rating_table = rating_table[:top_n_size]   \n",
    "            if len(top_n_items) == 0:\n",
    "                top_n_items = rating_table\n",
    "            else:\n",
    "                top_n_items = top_n_items.set_index('tid').add(rating_table.set_index('tid'), fill_value=0).reset_index()\n",
    "\n",
    "        top_n_items_g.append(top_n_items)   \n",
    "    \n",
    "    diversity = []\n",
    "    for i in range(len(groups_n)):\n",
    "        top_n_items = top_n_items_g[i]\n",
    "        diversity.append(len(top_n_items)/len(df['tid'].unique()))\n",
    "    diversities.append(diversity)\n",
    "\n",
    "    novelty = []\n",
    "    for i in range(len(groups_n)):\n",
    "        top_n_items = top_n_items_g[i]\n",
    "        novelty.append(len(top_n_items[top_n_items['tid'].isin(long_tail)])/len(df['tid'].unique()))\n",
    "    novelties.append(novelty)\n",
    "    \n",
    "for diversity in diversities:\n",
    "    print(diversity)\n",
    "print()\n",
    "for novelty in novelties:\n",
    "    print(novelty)"
   ]
  },
  {
   "cell_type": "code",
   "execution_count": null,
   "metadata": {},
   "outputs": [],
   "source": []
  },
  {
   "cell_type": "code",
   "execution_count": 11,
   "metadata": {},
   "outputs": [
    {
     "data": {
      "text/plain": [
       "54420"
      ]
     },
     "execution_count": 11,
     "metadata": {},
     "output_type": "execute_result"
    }
   ],
   "source": [
    "tid_pd = pd.DataFrame(data={'tid': df['tid'].unique()})\n",
    "tid_pd = tid_pd.sort_values(by=['tid']).reset_index()\n",
    "long_tail_list = tid_pd['tid'].isin(long_tail)\n",
    "long_tail_list = list(long_tail_list)\n",
    "long_tail_list.count(True)"
   ]
  },
  {
   "cell_type": "code",
   "execution_count": 12,
   "metadata": {},
   "outputs": [
    {
     "data": {
      "application/vnd.jupyter.widget-view+json": {
       "model_id": "bc5ed317e4b34f54a8199b44991b7b13",
       "version_major": 2,
       "version_minor": 0
      },
      "text/plain": [
       "HBox(children=(FloatProgress(value=0.0, max=11.0), HTML(value='')))"
      ]
     },
     "metadata": {},
     "output_type": "display_data"
    },
    {
     "name": "stdout",
     "output_type": "stream",
     "text": [
      "\n",
      "[0.0009096035947534065, 0.0009096035947534065, 0.0009096035947534065, 0.0009096035947534065, 0.0009096035947534065, 0.0009096035947534065, 0.0009096035947534065, 0.0009096035947534065, 0.0009096035947534065, 0.0009096035947534065]\n",
      "[0.001400789535920246, 0.001273445032654769, 0.0012188688169695646, 0.0011461005293892921, 0.0012370608888646328, 0.0011824846731794284, 0.0011642926012843603, 0.0011824846731794284, 0.0011461005293892921, 0.0010005639542287471]\n",
      "[0.002110280339827903, 0.0017828230457166768, 0.0017282468300314723, 0.001546326111080791, 0.0016736706143462678, 0.001546326111080791, 0.0014917498953955866, 0.0014917498953955866, 0.0013644053921301096, 0.0012006767450744966]\n",
      "[0.002983499790791173, 0.002728810784260219, 0.002401353490148993, 0.0023649693463588567, 0.0022922010587785842, 0.0020738961960377667, 0.002110280339827903, 0.0018737834051920173, 0.0018919754770870855, 0.0014735578235005185]\n",
      "[0.004038639960705125, 0.0038385271698593753, 0.0032927650130073313, 0.0033109570849023996, 0.003329149156797468, 0.0031108442940566503, 0.0030016918626862414, 0.002801579071840492, 0.0026014662809947424, 0.0018010151176117448]\n",
      "[0.004893667339773327, 0.0045662100456621, 0.004384289326711419, 0.004384289326711419, 0.005166548418199348, 0.004802706980297986, 0.0044388655423966234, 0.004202368607760738, 0.003820335097964307, 0.002583274209099674]\n",
      "[0.005439429496625371, 0.005439429496625371, 0.005530389856100711, 0.005730502646946461, 0.006840219032545616, 0.006512761738434391, 0.006367225163273846, 0.006112536156742891, 0.005894231294002074, 0.004038639960705125]\n",
      "[0.005876039222107006, 0.006039767869162619, 0.006221688588113301, 0.006476377594644254, 0.008604850006367225, 0.008331968927941203, 0.008331968927941203, 0.007822590914879296, 0.007931743346249704, 0.005785078862631665]\n",
      "[0.006258072731903436, 0.006258072731903436, 0.006530953810329459, 0.006858411104440684, 0.00964179810438611, 0.009005075588058725, 0.009259764594589678, 0.008823154869108042, 0.008786770725317906, 0.006185304444323164]\n",
      "[0.006367225163273846, 0.006239880660008368, 0.006203496516218232, 0.006239880660008368, 0.008914115228583383, 0.008623042078262293, 0.008313776856046135, 0.007840782986774363, 0.007786206771089159, 0.004347905182921283]\n",
      "[0.005494005712310575, 0.005184740490094417, 0.005184740490094417, 0.0051119722025141446, 0.007022139751496298, 0.006694682457385071, 0.005948807509687278, 0.005494005712310575, 0.005093780130619076, 0.002801579071840492]\n",
      "\n",
      "[0.0, 0.0, 0.0, 0.0, 0.0, 0.0, 0.0, 0.0, 0.0, 0.0]\n",
      "[0.0, 0.0, 0.0, 0.0, 0.0, 0.0, 0.0, 0.0, 0.0, 0.0]\n",
      "[0.0, 0.0, 0.0, 0.0, 0.0, 0.0, 0.0, 0.0, 0.0, 0.0]\n",
      "[0.0, 0.0, 0.0, 0.0, 0.0, 0.0, 0.0, 0.0, 0.0, 0.0]\n",
      "[5.457621568520439e-05, 3.638414379013626e-05, 0.0, 0.0, 0.0, 0.0, 0.0, 0.0, 1.819207189506813e-05, 0.0]\n",
      "[0.0002364969346358857, 0.00010915243137040878, 7.276828758027252e-05, 9.096035947534064e-05, 0.0001273445032654769, 0.0002001127908457494, 9.096035947534064e-05, 7.276828758027252e-05, 5.457621568520439e-05, 0.0]\n",
      "[0.0004911859411668394, 0.0005821463006421802, 0.0004002255816914988, 0.0005093780130619076, 0.0006912987320125889, 0.0006731066601175208, 0.0006731066601175208, 0.0006731066601175208, 0.0006731066601175208, 0.00014553657516054504]\n",
      "[0.0008368353071731339, 0.0009277956666484746, 0.0009096035947534065, 0.0010551401699139516, 0.0021466644836180392, 0.0021648565555131075, 0.002110280339827903, 0.0018010151176117448, 0.002492313849624334, 0.0013825974640251778]\n",
      "[0.0012552529607597009, 0.0014735578235005185, 0.0014735578235005185, 0.001691862686241336, 0.003420109516272808, 0.003274572941112263, 0.0037657588822791028, 0.0032563808692171953, 0.004056832032600193, 0.003092652222161582]\n",
      "[0.001837399261401881, 0.0020375120522476303, 0.0021648565555131075, 0.002110280339827903, 0.004020447888810057, 0.003911295457439648, 0.00418417653586567, 0.0039294875293347156, 0.004602594189452237, 0.003492877803853081]\n",
      "[0.002274008986883516, 0.0025105059215194017, 0.00252869799341447, 0.002401353490148993, 0.003947679601229784, 0.0038931033855445795, 0.0038931033855445795, 0.003638414379013626, 0.0037293747384889663, 0.002692426640470083]\n"
     ]
    }
   ],
   "source": [
    "diversities = []\n",
    "novelties = []\n",
    "for lambda_ in tqdm(lambdas):\n",
    "    top_n_size = 50\n",
    "    top_n_lists_g = []\n",
    "    for groups in groups_n:\n",
    "\n",
    "        group_size = len(groups[0])\n",
    "        top_n_lists = []\n",
    "\n",
    "        for group in groups:\n",
    "            rating_table = pd.DataFrame() \n",
    "            for member in group:\n",
    "                prediction = svd[svd['uid'] == member].copy()\n",
    "                if len(rating_table) == 0:\n",
    "                    rating_table = prediction\n",
    "                else:\n",
    "                    rating_table = rating_table.set_index('tid').add(prediction.set_index('tid'), fill_value=0).reset_index()\n",
    "            rating_table['rating'] /= group_size \n",
    "            rating_table['rating'] *= lambda_\n",
    "            pop = df_pop.copy()\n",
    "            pop['rating'] *= (1 - lambda_)\n",
    "            rating_table = rating_table.set_index('tid').add(pop.set_index('tid'), fill_value=0).reset_index()\n",
    "    #         rating_table = rating_table[rating_table['count'] == group_size]\n",
    "            rating_table = rating_table.sort_values(by=['rating'],  ascending=False)\n",
    "            rating_table = rating_table[:top_n_size]\n",
    "            top_n_list = []\n",
    "            for _, row in rating_table.iterrows():\n",
    "                top_n_list.append(row[0])\n",
    "            top_n_lists.append(top_n_list)\n",
    "        top_n_lists_g.append(top_n_lists)   \n",
    "        \n",
    "    diversity = []\n",
    "    novelty = []\n",
    "    for i in range(len(groups_n)):\n",
    "        groups = groups_n[i]\n",
    "        top_n_lists = top_n_lists_g[i]\n",
    "\n",
    "        \n",
    "        hits = np.zeros(len(df['tid'].unique()), dtype=bool)\n",
    "        for j in (range(len(groups))):\n",
    "\n",
    "            group = groups[j]\n",
    "            top_n_list = top_n_lists[j]\n",
    "            \n",
    "            for k in range(len(group)):\n",
    "                for l in range(top_n_size):\n",
    "                    uid = group[k]\n",
    "                    tid = top_n_list[l]\n",
    "                    t = test[test['uid'] == uid]\n",
    "                    t = t[t['tid'] == tid]\n",
    "                    if len(t) > 0:\n",
    "                        hits[int(tid)] = True\n",
    "        \n",
    "        diversity.append(list(hits).count(True)/len(df['tid'].unique()))\n",
    "        novelty.append(list(hits&long_tail_list).count(True)/len(df['tid'].unique()))\n",
    "    diversities.append(diversity)\n",
    "    novelties.append(novelty)\n",
    "    \n",
    "for diversity in diversities:\n",
    "    print(diversity)\n",
    "print()\n",
    "for novelty in novelties:\n",
    "    print(novelty)"
   ]
  },
  {
   "cell_type": "code",
   "execution_count": null,
   "metadata": {},
   "outputs": [],
   "source": []
  }
 ],
 "metadata": {
  "kernelspec": {
   "display_name": "Python 3",
   "language": "python",
   "name": "python3"
  },
  "language_info": {
   "codemirror_mode": {
    "name": "ipython",
    "version": 3
   },
   "file_extension": ".py",
   "mimetype": "text/x-python",
   "name": "python",
   "nbconvert_exporter": "python",
   "pygments_lexer": "ipython3",
   "version": "3.6.10"
  }
 },
 "nbformat": 4,
 "nbformat_minor": 4
}
