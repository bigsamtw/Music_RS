{
 "cells": [
  {
   "cell_type": "code",
   "execution_count": 1,
   "metadata": {},
   "outputs": [],
   "source": [
    "import os \n",
    "import math\n",
    "import random\n",
    "import numpy as np\n",
    "import pandas as pd\n",
    "from tqdm.notebook import tqdm\n",
    "from numpy import count_nonzero\n",
    "dir_ = '../../../data'\n",
    "group_dir_ = os.path.join(dir_, 'groups/low')"
   ]
  },
  {
   "cell_type": "code",
   "execution_count": 2,
   "metadata": {},
   "outputs": [
    {
     "data": {
      "text/plain": [
       "220"
      ]
     },
     "execution_count": 2,
     "metadata": {},
     "output_type": "execute_result"
    }
   ],
   "source": [
    "file_name = 'normalized_to_rating_filter_track_5_user_100.csv'\n",
    "df = pd.read_pickle(os.path.join(dir_, file_name[:-3] + 'pkl'))\n",
    "svd = pd.read_pickle(os.path.join(dir_, 'prediction_svd_top_N_' + file_name[:-3] + 'pkl'))\n",
    "test = pd.read_pickle(os.path.join(dir_, 'test_' + file_name[:-3] + 'pkl'))\n",
    "test.sort_values(by=['uid','tid'])\n",
    "\n",
    "num_user = len(svd['uid'].unique())\n",
    "num_user"
   ]
  },
  {
   "cell_type": "code",
   "execution_count": 3,
   "metadata": {},
   "outputs": [],
   "source": [
    "groups_n =[]\n",
    "group_sizes = ['2', '3', '4', '5', '6', '7', '8']\n",
    "for i in range(len(group_sizes)):\n",
    "    groups = np.loadtxt(os.path.join(group_dir_, group_sizes[i] + '.csv'), delimiter=',')\n",
    "    groups_n.append(groups)"
   ]
  },
  {
   "cell_type": "code",
   "execution_count": 4,
   "metadata": {},
   "outputs": [],
   "source": [
    "pop_dict = {}\n",
    "for i in df['tid'].unique():\n",
    "    pop_dict[i] = len(df[df['tid']==i])/num_user"
   ]
  },
  {
   "cell_type": "code",
   "execution_count": 5,
   "metadata": {},
   "outputs": [
    {
     "data": {
      "text/html": [
       "<div>\n",
       "<style scoped>\n",
       "    .dataframe tbody tr th:only-of-type {\n",
       "        vertical-align: middle;\n",
       "    }\n",
       "\n",
       "    .dataframe tbody tr th {\n",
       "        vertical-align: top;\n",
       "    }\n",
       "\n",
       "    .dataframe thead th {\n",
       "        text-align: right;\n",
       "    }\n",
       "</style>\n",
       "<table border=\"1\" class=\"dataframe\">\n",
       "  <thead>\n",
       "    <tr style=\"text-align: right;\">\n",
       "      <th></th>\n",
       "      <th>uid</th>\n",
       "      <th>tid</th>\n",
       "      <th>rating</th>\n",
       "      <th>count</th>\n",
       "    </tr>\n",
       "  </thead>\n",
       "  <tbody>\n",
       "    <tr>\n",
       "      <th>0</th>\n",
       "      <td>0</td>\n",
       "      <td>3</td>\n",
       "      <td>2.544071</td>\n",
       "      <td>1</td>\n",
       "    </tr>\n",
       "    <tr>\n",
       "      <th>1</th>\n",
       "      <td>0</td>\n",
       "      <td>7</td>\n",
       "      <td>2.545822</td>\n",
       "      <td>1</td>\n",
       "    </tr>\n",
       "    <tr>\n",
       "      <th>2</th>\n",
       "      <td>0</td>\n",
       "      <td>18</td>\n",
       "      <td>2.152490</td>\n",
       "      <td>1</td>\n",
       "    </tr>\n",
       "    <tr>\n",
       "      <th>3</th>\n",
       "      <td>0</td>\n",
       "      <td>20</td>\n",
       "      <td>1.882396</td>\n",
       "      <td>1</td>\n",
       "    </tr>\n",
       "    <tr>\n",
       "      <th>4</th>\n",
       "      <td>0</td>\n",
       "      <td>31</td>\n",
       "      <td>2.410806</td>\n",
       "      <td>1</td>\n",
       "    </tr>\n",
       "  </tbody>\n",
       "</table>\n",
       "</div>"
      ],
      "text/plain": [
       "   uid  tid    rating  count\n",
       "0    0    3  2.544071      1\n",
       "1    0    7  2.545822      1\n",
       "2    0   18  2.152490      1\n",
       "3    0   20  1.882396      1\n",
       "4    0   31  2.410806      1"
      ]
     },
     "execution_count": 5,
     "metadata": {},
     "output_type": "execute_result"
    }
   ],
   "source": [
    "svd['count'] = 1\n",
    "svd[:5]"
   ]
  },
  {
   "cell_type": "code",
   "execution_count": 6,
   "metadata": {},
   "outputs": [
    {
     "data": {
      "text/html": [
       "<div>\n",
       "<style scoped>\n",
       "    .dataframe tbody tr th:only-of-type {\n",
       "        vertical-align: middle;\n",
       "    }\n",
       "\n",
       "    .dataframe tbody tr th {\n",
       "        vertical-align: top;\n",
       "    }\n",
       "\n",
       "    .dataframe thead th {\n",
       "        text-align: right;\n",
       "    }\n",
       "</style>\n",
       "<table border=\"1\" class=\"dataframe\">\n",
       "  <thead>\n",
       "    <tr style=\"text-align: right;\">\n",
       "      <th></th>\n",
       "      <th>tid</th>\n",
       "      <th>rating</th>\n",
       "    </tr>\n",
       "  </thead>\n",
       "  <tbody>\n",
       "    <tr>\n",
       "      <th>166</th>\n",
       "      <td>166</td>\n",
       "      <td>3.840909</td>\n",
       "    </tr>\n",
       "    <tr>\n",
       "      <th>7209</th>\n",
       "      <td>7209</td>\n",
       "      <td>3.295455</td>\n",
       "    </tr>\n",
       "    <tr>\n",
       "      <th>350</th>\n",
       "      <td>350</td>\n",
       "      <td>3.113636</td>\n",
       "    </tr>\n",
       "    <tr>\n",
       "      <th>3761</th>\n",
       "      <td>3761</td>\n",
       "      <td>3.045455</td>\n",
       "    </tr>\n",
       "    <tr>\n",
       "      <th>80</th>\n",
       "      <td>80</td>\n",
       "      <td>3.022727</td>\n",
       "    </tr>\n",
       "    <tr>\n",
       "      <th>1017</th>\n",
       "      <td>1017</td>\n",
       "      <td>2.840909</td>\n",
       "    </tr>\n",
       "    <tr>\n",
       "      <th>1753</th>\n",
       "      <td>1753</td>\n",
       "      <td>2.750000</td>\n",
       "    </tr>\n",
       "    <tr>\n",
       "      <th>428</th>\n",
       "      <td>428</td>\n",
       "      <td>2.727273</td>\n",
       "    </tr>\n",
       "    <tr>\n",
       "      <th>200</th>\n",
       "      <td>200</td>\n",
       "      <td>2.681818</td>\n",
       "    </tr>\n",
       "    <tr>\n",
       "      <th>3159</th>\n",
       "      <td>3159</td>\n",
       "      <td>2.659091</td>\n",
       "    </tr>\n",
       "  </tbody>\n",
       "</table>\n",
       "</div>"
      ],
      "text/plain": [
       "       tid    rating\n",
       "166    166  3.840909\n",
       "7209  7209  3.295455\n",
       "350    350  3.113636\n",
       "3761  3761  3.045455\n",
       "80      80  3.022727\n",
       "1017  1017  2.840909\n",
       "1753  1753  2.750000\n",
       "428    428  2.727273\n",
       "200    200  2.681818\n",
       "3159  3159  2.659091"
      ]
     },
     "execution_count": 6,
     "metadata": {},
     "output_type": "execute_result"
    }
   ],
   "source": [
    "# Count POP to DF\n",
    "tid_list = []\n",
    "pop_list = []\n",
    "for i in df['tid'].unique():\n",
    "    tid_list.append(i)\n",
    "    pop_list.append(len(df[df['tid']==i])/num_user*5)\n",
    "    \n",
    "d = {'tid': tid_list, 'rating': pop_list}\n",
    "df_pop = pd.DataFrame(data=d)\n",
    "df_pop = df_pop.sort_values(by=['rating'], ascending=False)\n",
    "df_pop[:10]"
   ]
  },
  {
   "cell_type": "code",
   "execution_count": 7,
   "metadata": {},
   "outputs": [
    {
     "data": {
      "text/plain": [
       "(54420, 54969, 549)"
      ]
     },
     "execution_count": 7,
     "metadata": {},
     "output_type": "execute_result"
    }
   ],
   "source": [
    "top_percent = 0.01\n",
    "long_tail = df_pop[int(len(df_pop)*top_percent):]\n",
    "long_tail = long_tail['tid'].unique()\n",
    "len(long_tail), len(df_pop), len(df_pop)-len(long_tail)"
   ]
  },
  {
   "cell_type": "code",
   "execution_count": 8,
   "metadata": {},
   "outputs": [
    {
     "data": {
      "text/plain": [
       "[0.0, 0.1, 0.2, 0.3, 0.4, 0.5, 0.6, 0.7, 0.8, 0.9, 1.0]"
      ]
     },
     "execution_count": 8,
     "metadata": {},
     "output_type": "execute_result"
    }
   ],
   "source": [
    "lambdas = []\n",
    "for i in range(11):\n",
    "    lambdas.append(i/10)\n",
    "lambdas"
   ]
  },
  {
   "cell_type": "code",
   "execution_count": null,
   "metadata": {
    "scrolled": true
   },
   "outputs": [],
   "source": [
    "for lambda_ in tqdm(lambdas):\n",
    "    top_n_size = 4\n",
    "    top_n_lists_g = []\n",
    "    for groups in groups_n:\n",
    "\n",
    "        group_size = len(groups[0])\n",
    "        top_n_lists = []\n",
    "\n",
    "        for group in groups:\n",
    "            rating_table = pd.DataFrame() \n",
    "            for member in group:\n",
    "                prediction = svd[svd['uid'] == member].copy()\n",
    "                if len(rating_table) == 0:\n",
    "                    rating_table = prediction\n",
    "                else:\n",
    "                    rating_table = rating_table.set_index('tid').add(prediction.set_index('tid'), fill_value=0).reset_index()\n",
    "            rating_table['rating'] /= group_size \n",
    "            rating_table['rating'] *= lambda_\n",
    "            pop = df_pop.copy()\n",
    "            pop['rating'] *= (1 - lambda_)\n",
    "            rating_table = rating_table.set_index('tid').add(pop.set_index('tid'), fill_value=0).reset_index()\n",
    "    #         rating_table = rating_table[rating_table['count'] == group_size]\n",
    "            rating_table = rating_table.sort_values(by=['rating'],  ascending=False)\n",
    "            rating_table = rating_table[:top_n_size]\n",
    "            top_n_list = []\n",
    "            for _, row in rating_table.iterrows():\n",
    "                top_n_list.append(row[0])\n",
    "            top_n_lists.append(top_n_list)\n",
    "        top_n_lists_g.append(top_n_lists)   \n",
    "        \n",
    "    threshold = 0.0\n",
    "    avg_pops = []\n",
    "    for i in range(len(groups_n)):\n",
    "        groups = groups_n[i]\n",
    "        top_n_lists = top_n_lists_g[i]\n",
    "\n",
    "        pops = []\n",
    "        for j in (range(len(groups))):\n",
    "            group = groups[j]\n",
    "            top_n_list = top_n_lists[j]\n",
    "            for k in range(len(group)):\n",
    "                for l in range(top_n_size):\n",
    "                    tid = top_n_list[l]\n",
    "                    pops.append(pop_dict[tid])                    \n",
    "        avg_pop = sum(pops)/len(pops)\n",
    "        avg_pops.append(avg_pop)\n",
    "        \n",
    "    print(avg_pops)"
   ]
  },
  {
   "cell_type": "code",
   "execution_count": null,
   "metadata": {},
   "outputs": [],
   "source": []
  },
  {
   "cell_type": "code",
   "execution_count": 11,
   "metadata": {},
   "outputs": [
    {
     "data": {
      "application/vnd.jupyter.widget-view+json": {
       "model_id": "b57079b593d14b77b0f5f846f247fecb",
       "version_major": 2,
       "version_minor": 0
      },
      "text/plain": [
       "HBox(children=(FloatProgress(value=0.0, max=11.0), HTML(value='')))"
      ]
     },
     "metadata": {},
     "output_type": "display_data"
    },
    {
     "name": "stdout",
     "output_type": "stream",
     "text": [
      "\n",
      "[0.03917030303030301, 0.03443250688705238, 0.02779306220095695, 0.024713286713286715, 0.02616818181818183, 0.023266233766233775, 0.02174512987012987]\n",
      "[0.045226666666666596, 0.03787786960514237, 0.029740430622009578, 0.024899300699300693, 0.02636818181818183, 0.023474025974025977, 0.022147727272727274]\n",
      "[0.05351878787878772, 0.04111202938475668, 0.032074162679425845, 0.0265062937062937, 0.02789545454545455, 0.02474025974025975, 0.021959415584415585]\n",
      "[0.06573939393939376, 0.044853076216712626, 0.03547966507177036, 0.02704615384615385, 0.02817121212121212, 0.024228896103896114, 0.023233766233766225]\n",
      "[0.07533151515151504, 0.04978787878787882, 0.039454545454545485, 0.02930909090909092, 0.029465151515151507, 0.025842532467532466, 0.023547077922077917]\n",
      "[0.07895090909090906, 0.05324334251606979, 0.04308732057416274, 0.031048951048951053, 0.030853030303030302, 0.02846590909090909, 0.022612012987012983]\n",
      "[0.07986666666666661, 0.05426997245179065, 0.04684569377990434, 0.03300699300699301, 0.034037878787878784, 0.03051785714285713, 0.024126623376623364]\n",
      "[0.08143636363636352, 0.05473921028466485, 0.047099282296650745, 0.0342937062937063, 0.035036363636363636, 0.03127110389610389, 0.02384577922077921]\n",
      "[0.07898303030303015, 0.05167217630853996, 0.045215311004784695, 0.032998601398601383, 0.033524242424242415, 0.03000811688311686, 0.02182629870129869]\n",
      "[0.0704448484848483, 0.045535353535353575, 0.03937918660287082, 0.02962797202797203, 0.03093181818181817, 0.02841883116883115, 0.0220827922077922]\n",
      "[0.050490909090908996, 0.03160606060606063, 0.02593660287081339, 0.021399999999999992, 0.02009848484848485, 0.015978896103896106, 0.017053571428571425]\n"
     ]
    }
   ],
   "source": [
    "HitNOVs = []\n",
    "for lambda_ in tqdm(lambdas):\n",
    "    top_n_size = 50\n",
    "    top_n_lists_g = []\n",
    "    for groups in groups_n:\n",
    "\n",
    "        group_size = len(groups[0])\n",
    "        top_n_lists = []\n",
    "\n",
    "        for group in groups:\n",
    "            rating_table = pd.DataFrame() \n",
    "            for member in group:\n",
    "                prediction = svd[svd['uid'] == member].copy()\n",
    "                if len(rating_table) == 0:\n",
    "                    rating_table = prediction\n",
    "                else:\n",
    "                    rating_table = rating_table.set_index('tid').add(prediction.set_index('tid'), fill_value=0).reset_index()\n",
    "            rating_table['rating'] /= group_size \n",
    "            rating_table['rating'] *= lambda_\n",
    "            pop = df_pop.copy()\n",
    "            pop['rating'] *= (1 - lambda_)\n",
    "            rating_table = rating_table.set_index('tid').add(pop.set_index('tid'), fill_value=0).reset_index()\n",
    "    #         rating_table = rating_table[rating_table['count'] == group_size]\n",
    "            rating_table = rating_table.sort_values(by=['rating'],  ascending=False)\n",
    "            rating_table = rating_table[:top_n_size]\n",
    "            top_n_list = []\n",
    "            for _, row in rating_table.iterrows():\n",
    "                top_n_list.append(row[0])\n",
    "            top_n_lists.append(top_n_list)\n",
    "        top_n_lists_g.append(top_n_lists)   \n",
    "        \n",
    "    HitNOV = []\n",
    "    for i in range(len(groups_n)):\n",
    "        groups = groups_n[i]\n",
    "        top_n_lists = top_n_lists_g[i]\n",
    "\n",
    "        \n",
    "        nov = 0\n",
    "        for j in (range(len(groups))):\n",
    "\n",
    "            group = groups[j]\n",
    "            top_n_list = top_n_lists[j]\n",
    "            \n",
    "            for k in range(len(group)):\n",
    "                for l in range(top_n_size):\n",
    "                    uid = group[k]\n",
    "                    tid = top_n_list[l]\n",
    "                    t = test[test['uid'] == uid]\n",
    "                    t = t[t['tid'] == tid]\n",
    "                    if len(t) > 0:\n",
    "                        nov += (1-pop_dict[tid])\n",
    "        \n",
    "        HitNOV.append(nov/top_n_size/(len(groups)*len(groups[0])))\n",
    "    HitNOVs.append(HitNOV)\n",
    "    \n",
    "for HitNOV in HitNOVs:\n",
    "    print(HitNOV)"
   ]
  },
  {
   "cell_type": "code",
   "execution_count": null,
   "metadata": {},
   "outputs": [],
   "source": []
  },
  {
   "cell_type": "code",
   "execution_count": 11,
   "metadata": {},
   "outputs": [
    {
     "data": {
      "application/vnd.jupyter.widget-view+json": {
       "model_id": "f331f742a30e4312aea8b28f2b701b68",
       "version_major": 2,
       "version_minor": 0
      },
      "text/plain": [
       "HBox(children=(FloatProgress(value=0.0, max=11.0), HTML(value='')))"
      ]
     },
     "metadata": {},
     "output_type": "display_data"
    },
    {
     "name": "stdout",
     "output_type": "stream",
     "text": [
      "\n",
      "[7.276828758027252e-05, 7.276828758027252e-05, 7.276828758027252e-05, 7.276828758027252e-05, 7.276828758027252e-05, 7.276828758027252e-05, 7.276828758027252e-05]\n",
      "[9.096035947534064e-05, 0.00010915243137040878, 9.096035947534064e-05, 9.096035947534064e-05, 9.096035947534064e-05, 9.096035947534064e-05, 9.096035947534064e-05]\n",
      "[0.00016372864705561317, 0.0001273445032654769, 0.0001273445032654769, 9.096035947534064e-05, 9.096035947534064e-05, 9.096035947534064e-05, 9.096035947534064e-05]\n",
      "[0.0003638414379013626, 0.0002001127908457494, 0.00016372864705561317, 0.00010915243137040878, 0.00010915243137040878, 0.00010915243137040878, 9.096035947534064e-05]\n",
      "[0.0004729938692717714, 0.00034564936600629446, 0.0002546890065309538, 0.0002001127908457494, 0.0001819207189506813, 0.0001273445032654769, 0.00010915243137040878]\n",
      "[0.0005821463006421802, 0.0004002255816914988, 0.0004002255816914988, 0.00027288107842602196, 0.0002364969346358857, 0.00021830486274081756, 0.0001819207189506813]\n",
      "[0.0006731066601175208, 0.0004729938692717714, 0.0004729938692717714, 0.0003820335097964307, 0.00032745729411122633, 0.0002546890065309538, 0.0002546890065309538]\n",
      "[0.0008368353071731339, 0.0005093780130619076, 0.0005093780130619076, 0.00045480179737670325, 0.0004002255816914988, 0.0003820335097964307, 0.0003092652222161582]\n",
      "[0.0010733322418090196, 0.0006003383725372483, 0.000563954228747112, 0.0004911859411668394, 0.00043660972548163513, 0.00032745729411122633, 0.0003092652222161582]\n",
      "[0.001546326111080791, 0.0008186432352780658, 0.0006549145882224527, 0.000563954228747112, 0.00045480179737670325, 0.0004729938692717714, 0.00034564936600629446]\n",
      "[0.002783386999945424, 0.0014553657516054503, 0.0009459877385435427, 0.0006731066601175208, 0.0004911859411668394, 0.0004911859411668394, 0.0003092652222161582]\n",
      "\n",
      "[0.0, 0.0, 0.0, 0.0, 0.0, 0.0, 0.0]\n",
      "[0.0, 0.0, 0.0, 0.0, 0.0, 0.0, 0.0]\n",
      "[0.0, 0.0, 0.0, 0.0, 0.0, 0.0, 0.0]\n",
      "[0.0, 0.0, 0.0, 0.0, 0.0, 0.0, 0.0]\n",
      "[0.0, 0.0, 0.0, 0.0, 0.0, 0.0, 0.0]\n",
      "[0.0, 0.0, 0.0, 0.0, 0.0, 0.0, 0.0]\n",
      "[0.0, 0.0, 0.0, 0.0, 0.0, 0.0, 0.0]\n",
      "[0.0, 0.0, 0.0, 0.0, 0.0, 0.0, 0.0]\n",
      "[3.638414379013626e-05, 0.0, 0.0, 0.0, 0.0, 0.0, 0.0]\n",
      "[0.0001819207189506813, 3.638414379013626e-05, 1.819207189506813e-05, 0.0, 0.0, 5.457621568520439e-05, 0.0]\n",
      "[0.0013462133202350416, 0.000563954228747112, 0.0003820335097964307, 0.00027288107842602196, 0.00014553657516054504, 0.0002364969346358857, 3.638414379013626e-05]\n"
     ]
    }
   ],
   "source": [
    "diversities = []\n",
    "novelties = []\n",
    "for lambda_ in tqdm(lambdas):\n",
    "    top_n_size = 4\n",
    "    top_n_items_g = []\n",
    "    for groups in groups_n:\n",
    "\n",
    "        group_size = len(groups[0])\n",
    "        top_n_items = pd.DataFrame() \n",
    "\n",
    "        for group in groups:\n",
    "            rating_table = pd.DataFrame() \n",
    "            for member in group:\n",
    "                prediction = svd[svd['uid'] == member].copy()\n",
    "                if len(rating_table) == 0:\n",
    "                    rating_table = prediction\n",
    "                else:\n",
    "                    rating_table = rating_table.set_index('tid').add(prediction.set_index('tid'), fill_value=0).reset_index()\n",
    "            rating_table['rating'] /= group_size \n",
    "            rating_table['rating'] *= lambda_\n",
    "            pop = df_pop.copy()\n",
    "            pop['rating'] *= (1 - lambda_)\n",
    "            rating_table = rating_table.set_index('tid').add(pop.set_index('tid'), fill_value=0).reset_index()\n",
    "    #         rating_table = rating_table[rating_table['count'] == group_size]\n",
    "            rating_table = rating_table.sort_values(by=['rating'],  ascending=False)\n",
    "            rating_table = rating_table[:top_n_size]   \n",
    "            if len(top_n_items) == 0:\n",
    "                top_n_items = rating_table\n",
    "            else:\n",
    "                top_n_items = top_n_items.set_index('tid').add(rating_table.set_index('tid'), fill_value=0).reset_index()\n",
    "\n",
    "        top_n_items_g.append(top_n_items)   \n",
    "    \n",
    "    diversity = []\n",
    "    for i in range(len(groups_n)):\n",
    "        top_n_items = top_n_items_g[i]\n",
    "        diversity.append(len(top_n_items)/len(df['tid'].unique()))\n",
    "    diversities.append(diversity)\n",
    "\n",
    "    novelty = []\n",
    "    for i in range(len(groups_n)):\n",
    "        top_n_items = top_n_items_g[i]\n",
    "        novelty.append(len(top_n_items[top_n_items['tid'].isin(long_tail)])/len(df['tid'].unique()))\n",
    "    novelties.append(novelty)\n",
    "    \n",
    "for diversity in diversities:\n",
    "    print(diversity)\n",
    "print()\n",
    "for novelty in novelties:\n",
    "    print(novelty)"
   ]
  },
  {
   "cell_type": "code",
   "execution_count": null,
   "metadata": {},
   "outputs": [],
   "source": []
  },
  {
   "cell_type": "code",
   "execution_count": 9,
   "metadata": {},
   "outputs": [
    {
     "data": {
      "text/plain": [
       "54420"
      ]
     },
     "execution_count": 9,
     "metadata": {},
     "output_type": "execute_result"
    }
   ],
   "source": [
    "tid_pd = pd.DataFrame(data={'tid': df['tid'].unique()})\n",
    "tid_pd = tid_pd.sort_values(by=['tid']).reset_index()\n",
    "long_tail_list = tid_pd['tid'].isin(long_tail)\n",
    "long_tail_list = list(long_tail_list)\n",
    "long_tail_list.count(True)"
   ]
  },
  {
   "cell_type": "code",
   "execution_count": 10,
   "metadata": {},
   "outputs": [
    {
     "data": {
      "application/vnd.jupyter.widget-view+json": {
       "model_id": "71b2d20ca7204691a980bd0de3f9f656",
       "version_major": 2,
       "version_minor": 0
      },
      "text/plain": [
       "HBox(children=(FloatProgress(value=0.0, max=11.0), HTML(value='')))"
      ]
     },
     "metadata": {},
     "output_type": "display_data"
    },
    {
     "name": "stdout",
     "output_type": "stream",
     "text": [
      "\n",
      "[0.0009096035947534065, 0.0009096035947534065, 0.0008914115228583384, 0.0008732194509632703, 0.0009096035947534065, 0.0008186432352780658, 0.0008368353071731339]\n",
      "[0.0013825974640251778, 0.001127908457494224, 0.0010187560261238151, 0.0009459877385435427, 0.0009641798104386109, 0.0008732194509632703, 0.0008732194509632703]\n",
      "[0.0018555913332969493, 0.001400789535920246, 0.0012006767450744966, 0.0010369480980188834, 0.0010369480980188834, 0.0009641798104386109, 0.0008732194509632703]\n",
      "[0.002637850424784879, 0.0016736706143462678, 0.001418981607815314, 0.0011461005293892921, 0.0011097163855991559, 0.0009641798104386109, 0.0009277956666484746]\n",
      "[0.0034383015881678763, 0.0020011279084574942, 0.0017282468300314723, 0.001291637104549837, 0.0012188688169695646, 0.0011461005293892921, 0.0009823718823336789]\n",
      "[0.003947679601229784, 0.0023467772744637885, 0.0020193199803525625, 0.0015281340391857228, 0.0013825974640251778, 0.0013462133202350416, 0.0010551401699139516]\n",
      "[0.00427513689534101, 0.0027106187123651514, 0.0025105059215194017, 0.001691862686241336, 0.0016372864705561316, 0.0015281340391857228, 0.0011824846731794284]\n",
      "[0.00476632283650785, 0.003092652222161582, 0.0026560424966799467, 0.0019465516927722898, 0.001837399261401881, 0.0016736706143462678, 0.001273445032654769]\n",
      "[0.005293892921464826, 0.003238188797322127, 0.0026560424966799467, 0.001982935836562426, 0.0019283596208772217, 0.0017464389019265405, 0.0012552529607597009]\n",
      "[0.00593061543779221, 0.003420109516272808, 0.0025105059215194017, 0.0020375120522476303, 0.0017828230457166768, 0.0016736706143462678, 0.0012370608888646328]\n",
      "[0.005621350215576052, 0.0028561552875256964, 0.0020011279084574942, 0.0015099419672906548, 0.001273445032654769, 0.0010551401699139516, 0.0009096035947534065]\n",
      "\n",
      "[0.0, 0.0, 0.0, 0.0, 0.0, 0.0, 0.0]\n",
      "[0.0, 0.0, 0.0, 0.0, 0.0, 0.0, 0.0]\n",
      "[0.0, 0.0, 0.0, 0.0, 0.0, 0.0, 0.0]\n",
      "[0.0, 0.0, 0.0, 0.0, 0.0, 0.0, 0.0]\n",
      "[1.819207189506813e-05, 0.0, 0.0, 0.0, 0.0, 0.0, 0.0]\n",
      "[3.638414379013626e-05, 0.0, 0.0, 0.0, 0.0, 0.0, 0.0]\n",
      "[0.00010915243137040878, 0.0, 0.0, 0.0, 0.0, 0.0, 0.0]\n",
      "[0.0003092652222161582, 3.638414379013626e-05, 0.0, 0.0, 0.0, 1.819207189506813e-05, 0.0]\n",
      "[0.0006731066601175208, 0.0002001127908457494, 1.819207189506813e-05, 5.457621568520439e-05, 1.819207189506813e-05, 3.638414379013626e-05, 0.0]\n",
      "[0.0013098291764449053, 0.0005093780130619076, 0.00016372864705561317, 0.00027288107842602196, 0.00010915243137040878, 0.0001819207189506813, 0.00010915243137040878]\n",
      "[0.0020738961960377667, 0.0011824846731794284, 0.0005275700849569758, 0.0007276828758027252, 0.0002546890065309538, 0.0003092652222161582, 0.0002910731503210901]\n"
     ]
    }
   ],
   "source": [
    "diversities = []\n",
    "novelties = []\n",
    "for lambda_ in tqdm(lambdas):\n",
    "    top_n_size = 50\n",
    "    top_n_lists_g = []\n",
    "    for groups in groups_n:\n",
    "\n",
    "        group_size = len(groups[0])\n",
    "        top_n_lists = []\n",
    "\n",
    "        for group in groups:\n",
    "            rating_table = pd.DataFrame() \n",
    "            for member in group:\n",
    "                prediction = svd[svd['uid'] == member].copy()\n",
    "                if len(rating_table) == 0:\n",
    "                    rating_table = prediction\n",
    "                else:\n",
    "                    rating_table = rating_table.set_index('tid').add(prediction.set_index('tid'), fill_value=0).reset_index()\n",
    "            rating_table['rating'] /= group_size \n",
    "            rating_table['rating'] *= lambda_\n",
    "            pop = df_pop.copy()\n",
    "            pop['rating'] *= (1 - lambda_)\n",
    "            rating_table = rating_table.set_index('tid').add(pop.set_index('tid'), fill_value=0).reset_index()\n",
    "    #         rating_table = rating_table[rating_table['count'] == group_size]\n",
    "            rating_table = rating_table.sort_values(by=['rating'],  ascending=False)\n",
    "            rating_table = rating_table[:top_n_size]\n",
    "            top_n_list = []\n",
    "            for _, row in rating_table.iterrows():\n",
    "                top_n_list.append(row[0])\n",
    "            top_n_lists.append(top_n_list)\n",
    "        top_n_lists_g.append(top_n_lists)   \n",
    "        \n",
    "    diversity = []\n",
    "    novelty = []\n",
    "    for i in range(len(groups_n)):\n",
    "        groups = groups_n[i]\n",
    "        top_n_lists = top_n_lists_g[i]\n",
    "\n",
    "        \n",
    "        hits = np.zeros(len(df['tid'].unique()), dtype=bool)\n",
    "        for j in (range(len(groups))):\n",
    "\n",
    "            group = groups[j]\n",
    "            top_n_list = top_n_lists[j]\n",
    "            \n",
    "            for k in range(len(group)):\n",
    "                for l in range(top_n_size):\n",
    "                    uid = group[k]\n",
    "                    tid = top_n_list[l]\n",
    "                    t = test[test['uid'] == uid]\n",
    "                    t = t[t['tid'] == tid]\n",
    "                    if len(t) > 0:\n",
    "                        hits[int(tid)] = True\n",
    "        \n",
    "        diversity.append(list(hits).count(True)/len(df['tid'].unique()))\n",
    "        novelty.append(list(hits&long_tail_list).count(True)/len(df['tid'].unique()))\n",
    "    diversities.append(diversity)\n",
    "    novelties.append(novelty)\n",
    "    \n",
    "for diversity in diversities:\n",
    "    print(diversity)\n",
    "print()\n",
    "for novelty in novelties:\n",
    "    print(novelty)"
   ]
  },
  {
   "cell_type": "code",
   "execution_count": null,
   "metadata": {},
   "outputs": [],
   "source": []
  }
 ],
 "metadata": {
  "kernelspec": {
   "display_name": "Python 3",
   "language": "python",
   "name": "python3"
  },
  "language_info": {
   "codemirror_mode": {
    "name": "ipython",
    "version": 3
   },
   "file_extension": ".py",
   "mimetype": "text/x-python",
   "name": "python",
   "nbconvert_exporter": "python",
   "pygments_lexer": "ipython3",
   "version": "3.6.10"
  }
 },
 "nbformat": 4,
 "nbformat_minor": 4
}
