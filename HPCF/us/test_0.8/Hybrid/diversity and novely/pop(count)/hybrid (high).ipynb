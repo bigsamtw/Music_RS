{
 "cells": [
  {
   "cell_type": "code",
   "execution_count": 1,
   "metadata": {},
   "outputs": [],
   "source": [
    "import os \n",
    "import math\n",
    "import random\n",
    "import numpy as np\n",
    "import pandas as pd\n",
    "from tqdm.notebook import tqdm\n",
    "from numpy import count_nonzero\n",
    "dir_ = '../../../data/'\n",
    "group_dir_ = os.path.join(dir_, 'groups/high')"
   ]
  },
  {
   "cell_type": "code",
   "execution_count": 2,
   "metadata": {},
   "outputs": [
    {
     "data": {
      "text/plain": [
       "220"
      ]
     },
     "execution_count": 2,
     "metadata": {},
     "output_type": "execute_result"
    }
   ],
   "source": [
    "file_name = 'normalized_to_rating_filter_track_5_user_100.csv'\n",
    "all_user = pd.read_pickle(os.path.join(dir_, file_name[:-3] + 'pkl'))\n",
    "svd = pd.read_pickle(os.path.join(dir_, 'prediction_svd_top_N_' + file_name[:-3] + 'pkl'))\n",
    "test = pd.read_pickle(os.path.join(dir_, 'test_' + file_name[:-3] + 'pkl'))\n",
    "test.sort_values(by=['uid','tid'])\n",
    "\n",
    "file_name = 'normalized_popularity_filter_track_5_user_100.pkl'\n",
    "pop_count = pd.read_pickle(os.path.join(dir_, file_name))\n",
    "\n",
    "num_user = len(svd['uid'].unique())\n",
    "num_user"
   ]
  },
  {
   "cell_type": "code",
   "execution_count": 3,
   "metadata": {},
   "outputs": [],
   "source": [
    "groups_n =[]\n",
    "group_sizes = ['2', '3', '4', '5', '6', '7', '8', '9', '10', '20']\n",
    "for i in range(len(group_sizes)):\n",
    "    groups = np.loadtxt(os.path.join(group_dir_, group_sizes[i] + '.csv'), delimiter=',')\n",
    "    groups_n.append(groups)"
   ]
  },
  {
   "cell_type": "code",
   "execution_count": 4,
   "metadata": {},
   "outputs": [],
   "source": [
    "pop_dict = {}\n",
    "for i in all_user['tid'].unique():\n",
    "    pop_dict[i] = len(all_user[all_user['tid']==i])/num_user"
   ]
  },
  {
   "cell_type": "code",
   "execution_count": 5,
   "metadata": {},
   "outputs": [
    {
     "data": {
      "text/html": [
       "<div>\n",
       "<style scoped>\n",
       "    .dataframe tbody tr th:only-of-type {\n",
       "        vertical-align: middle;\n",
       "    }\n",
       "\n",
       "    .dataframe tbody tr th {\n",
       "        vertical-align: top;\n",
       "    }\n",
       "\n",
       "    .dataframe thead th {\n",
       "        text-align: right;\n",
       "    }\n",
       "</style>\n",
       "<table border=\"1\" class=\"dataframe\">\n",
       "  <thead>\n",
       "    <tr style=\"text-align: right;\">\n",
       "      <th></th>\n",
       "      <th>uid</th>\n",
       "      <th>tid</th>\n",
       "      <th>rating</th>\n",
       "      <th>count</th>\n",
       "    </tr>\n",
       "  </thead>\n",
       "  <tbody>\n",
       "    <tr>\n",
       "      <th>0</th>\n",
       "      <td>0</td>\n",
       "      <td>3</td>\n",
       "      <td>2.544071</td>\n",
       "      <td>1</td>\n",
       "    </tr>\n",
       "    <tr>\n",
       "      <th>1</th>\n",
       "      <td>0</td>\n",
       "      <td>7</td>\n",
       "      <td>2.545822</td>\n",
       "      <td>1</td>\n",
       "    </tr>\n",
       "    <tr>\n",
       "      <th>2</th>\n",
       "      <td>0</td>\n",
       "      <td>18</td>\n",
       "      <td>2.152490</td>\n",
       "      <td>1</td>\n",
       "    </tr>\n",
       "    <tr>\n",
       "      <th>3</th>\n",
       "      <td>0</td>\n",
       "      <td>20</td>\n",
       "      <td>1.882396</td>\n",
       "      <td>1</td>\n",
       "    </tr>\n",
       "    <tr>\n",
       "      <th>4</th>\n",
       "      <td>0</td>\n",
       "      <td>31</td>\n",
       "      <td>2.410806</td>\n",
       "      <td>1</td>\n",
       "    </tr>\n",
       "  </tbody>\n",
       "</table>\n",
       "</div>"
      ],
      "text/plain": [
       "   uid  tid    rating  count\n",
       "0    0    3  2.544071      1\n",
       "1    0    7  2.545822      1\n",
       "2    0   18  2.152490      1\n",
       "3    0   20  1.882396      1\n",
       "4    0   31  2.410806      1"
      ]
     },
     "execution_count": 5,
     "metadata": {},
     "output_type": "execute_result"
    }
   ],
   "source": [
    "svd['count'] = 1\n",
    "svd[:5]"
   ]
  },
  {
   "cell_type": "code",
   "execution_count": 6,
   "metadata": {},
   "outputs": [
    {
     "data": {
      "text/html": [
       "<div>\n",
       "<style scoped>\n",
       "    .dataframe tbody tr th:only-of-type {\n",
       "        vertical-align: middle;\n",
       "    }\n",
       "\n",
       "    .dataframe tbody tr th {\n",
       "        vertical-align: top;\n",
       "    }\n",
       "\n",
       "    .dataframe thead th {\n",
       "        text-align: right;\n",
       "    }\n",
       "</style>\n",
       "<table border=\"1\" class=\"dataframe\">\n",
       "  <thead>\n",
       "    <tr style=\"text-align: right;\">\n",
       "      <th></th>\n",
       "      <th>tid</th>\n",
       "      <th>count</th>\n",
       "      <th>rating</th>\n",
       "    </tr>\n",
       "  </thead>\n",
       "  <tbody>\n",
       "    <tr>\n",
       "      <th>166</th>\n",
       "      <td>166</td>\n",
       "      <td>3666</td>\n",
       "      <td>573.25</td>\n",
       "    </tr>\n",
       "    <tr>\n",
       "      <th>457</th>\n",
       "      <td>457</td>\n",
       "      <td>2042</td>\n",
       "      <td>162.00</td>\n",
       "    </tr>\n",
       "    <tr>\n",
       "      <th>6338</th>\n",
       "      <td>6338</td>\n",
       "      <td>1896</td>\n",
       "      <td>153.75</td>\n",
       "    </tr>\n",
       "    <tr>\n",
       "      <th>80</th>\n",
       "      <td>80</td>\n",
       "      <td>1835</td>\n",
       "      <td>412.25</td>\n",
       "    </tr>\n",
       "    <tr>\n",
       "      <th>1364</th>\n",
       "      <td>1364</td>\n",
       "      <td>1792</td>\n",
       "      <td>327.50</td>\n",
       "    </tr>\n",
       "    <tr>\n",
       "      <th>350</th>\n",
       "      <td>350</td>\n",
       "      <td>1667</td>\n",
       "      <td>359.75</td>\n",
       "    </tr>\n",
       "    <tr>\n",
       "      <th>7209</th>\n",
       "      <td>7209</td>\n",
       "      <td>1454</td>\n",
       "      <td>400.50</td>\n",
       "    </tr>\n",
       "    <tr>\n",
       "      <th>6282</th>\n",
       "      <td>6282</td>\n",
       "      <td>1397</td>\n",
       "      <td>17.75</td>\n",
       "    </tr>\n",
       "    <tr>\n",
       "      <th>13104</th>\n",
       "      <td>13104</td>\n",
       "      <td>1368</td>\n",
       "      <td>57.50</td>\n",
       "    </tr>\n",
       "    <tr>\n",
       "      <th>3761</th>\n",
       "      <td>3761</td>\n",
       "      <td>1340</td>\n",
       "      <td>354.50</td>\n",
       "    </tr>\n",
       "  </tbody>\n",
       "</table>\n",
       "</div>"
      ],
      "text/plain": [
       "         tid  count  rating\n",
       "166      166   3666  573.25\n",
       "457      457   2042  162.00\n",
       "6338    6338   1896  153.75\n",
       "80        80   1835  412.25\n",
       "1364    1364   1792  327.50\n",
       "350      350   1667  359.75\n",
       "7209    7209   1454  400.50\n",
       "6282    6282   1397   17.75\n",
       "13104  13104   1368   57.50\n",
       "3761    3761   1340  354.50"
      ]
     },
     "execution_count": 6,
     "metadata": {},
     "output_type": "execute_result"
    }
   ],
   "source": [
    "pop_count = pop_count.sort_values(by=['count'],  ascending=False)\n",
    "pop_count[:10]"
   ]
  },
  {
   "cell_type": "code",
   "execution_count": 7,
   "metadata": {},
   "outputs": [],
   "source": [
    "# Linear\n",
    "# size = int(len(pop_rating) // 5)\n",
    "# pop_normalized = pd.DataFrame()\n",
    "# for i in range(5):\n",
    "#     if i == 0:\n",
    "#         pop = pop_count[:size].copy()\n",
    "#     elif i == 4:\n",
    "#         pop = pop_count[size*4:].copy()\n",
    "#     else:\n",
    "#         pop = pop_count[size*i:size*(i+1)].copy()\n",
    "#     pop['rating'] = (5 - i)\n",
    "#     pop_normalized = pop_normalized.append(pop)\n",
    "# pop_normalized = pop_normalized[['tid', 'rating']]"
   ]
  },
  {
   "cell_type": "code",
   "execution_count": 8,
   "metadata": {},
   "outputs": [
    {
     "data": {
      "text/html": [
       "<div>\n",
       "<style scoped>\n",
       "    .dataframe tbody tr th:only-of-type {\n",
       "        vertical-align: middle;\n",
       "    }\n",
       "\n",
       "    .dataframe tbody tr th {\n",
       "        vertical-align: top;\n",
       "    }\n",
       "\n",
       "    .dataframe thead th {\n",
       "        text-align: right;\n",
       "    }\n",
       "</style>\n",
       "<table border=\"1\" class=\"dataframe\">\n",
       "  <thead>\n",
       "    <tr style=\"text-align: right;\">\n",
       "      <th></th>\n",
       "      <th>tid</th>\n",
       "      <th>count</th>\n",
       "      <th>rating</th>\n",
       "    </tr>\n",
       "  </thead>\n",
       "  <tbody>\n",
       "    <tr>\n",
       "      <th>166</th>\n",
       "      <td>166</td>\n",
       "      <td>3666</td>\n",
       "      <td>5.000000</td>\n",
       "    </tr>\n",
       "    <tr>\n",
       "      <th>457</th>\n",
       "      <td>457</td>\n",
       "      <td>2042</td>\n",
       "      <td>2.785052</td>\n",
       "    </tr>\n",
       "    <tr>\n",
       "      <th>6338</th>\n",
       "      <td>6338</td>\n",
       "      <td>1896</td>\n",
       "      <td>2.585925</td>\n",
       "    </tr>\n",
       "    <tr>\n",
       "      <th>80</th>\n",
       "      <td>80</td>\n",
       "      <td>1835</td>\n",
       "      <td>2.502728</td>\n",
       "    </tr>\n",
       "    <tr>\n",
       "      <th>1364</th>\n",
       "      <td>1364</td>\n",
       "      <td>1792</td>\n",
       "      <td>2.444081</td>\n",
       "    </tr>\n",
       "    <tr>\n",
       "      <th>350</th>\n",
       "      <td>350</td>\n",
       "      <td>1667</td>\n",
       "      <td>2.273595</td>\n",
       "    </tr>\n",
       "    <tr>\n",
       "      <th>7209</th>\n",
       "      <td>7209</td>\n",
       "      <td>1454</td>\n",
       "      <td>1.983088</td>\n",
       "    </tr>\n",
       "    <tr>\n",
       "      <th>6282</th>\n",
       "      <td>6282</td>\n",
       "      <td>1397</td>\n",
       "      <td>1.905346</td>\n",
       "    </tr>\n",
       "    <tr>\n",
       "      <th>13104</th>\n",
       "      <td>13104</td>\n",
       "      <td>1368</td>\n",
       "      <td>1.865794</td>\n",
       "    </tr>\n",
       "    <tr>\n",
       "      <th>3761</th>\n",
       "      <td>3761</td>\n",
       "      <td>1340</td>\n",
       "      <td>1.827605</td>\n",
       "    </tr>\n",
       "  </tbody>\n",
       "</table>\n",
       "</div>"
      ],
      "text/plain": [
       "         tid  count    rating\n",
       "166      166   3666  5.000000\n",
       "457      457   2042  2.785052\n",
       "6338    6338   1896  2.585925\n",
       "80        80   1835  2.502728\n",
       "1364    1364   1792  2.444081\n",
       "350      350   1667  2.273595\n",
       "7209    7209   1454  1.983088\n",
       "6282    6282   1397  1.905346\n",
       "13104  13104   1368  1.865794\n",
       "3761    3761   1340  1.827605"
      ]
     },
     "execution_count": 8,
     "metadata": {},
     "output_type": "execute_result"
    }
   ],
   "source": [
    "# min_max\n",
    "max_rating = pop_count.iloc[0]['count']\n",
    "pop_normalized = pop_count.copy()\n",
    "pop_normalized = pop_normalized[['tid', 'count']]\n",
    "pop_normalized['rating'] = pop_normalized['count']\n",
    "pop_normalized['rating'] /= max_rating\n",
    "pop_normalized['rating'] *= 5\n",
    "pop_normalized[:10]"
   ]
  },
  {
   "cell_type": "code",
   "execution_count": 9,
   "metadata": {},
   "outputs": [
    {
     "data": {
      "text/plain": [
       "[0.0, 0.1, 0.2, 0.3, 0.4, 0.5, 0.6, 0.7, 0.8, 0.9, 1.0]"
      ]
     },
     "execution_count": 9,
     "metadata": {},
     "output_type": "execute_result"
    }
   ],
   "source": [
    "lambdas = []\n",
    "for i in range(11):\n",
    "    lambdas.append(i/10)\n",
    "lambdas"
   ]
  },
  {
   "cell_type": "code",
   "execution_count": 10,
   "metadata": {},
   "outputs": [
    {
     "data": {
      "application/vnd.jupyter.widget-view+json": {
       "model_id": "cfbdd27a7f4b428a97aa624944de8c25",
       "version_major": 2,
       "version_minor": 0
      },
      "text/plain": [
       "HBox(children=(HTML(value=''), FloatProgress(value=0.0, max=11.0), HTML(value='')))"
      ]
     },
     "metadata": {},
     "output_type": "display_data"
    },
    {
     "name": "stdout",
     "output_type": "stream",
     "text": [
      "[0.4424999999999938, 0.44249999999999545, 0.44249999999999784, 0.4424999999999992, 0.4424999999999996, 0.44249999999999984, 0.44250000000000045, 0.442500000000001, 0.44250000000000045, 0.4425000000000015]\n",
      "[0.42462035123966363, 0.42304090909090497, 0.42479472140762353, 0.4212554112554101, 0.4219744318181816, 0.414685314685315, 0.41688636363636455, 0.41840909090909195, 0.42005681818181906, 0.41409090909091]\n",
      "[0.4131456611570189, 0.4109318181818147, 0.4147653958944266, 0.4097943722943711, 0.4077982954545455, 0.40479020979021035, 0.40752272727272776, 0.4094886363636373, 0.40173295454545527, 0.4057954545454556]\n",
      "[0.4035356404958634, 0.3995045454545421, 0.398504398826978, 0.386158008658007, 0.38590909090909054, 0.386451048951049, 0.3738863636363636, 0.389488636363637, 0.38463068181818344, 0.3670454545454556]\n",
      "[0.39959452479338575, 0.3838590909090883, 0.3769428152492646, 0.35943722943722717, 0.36242897727272766, 0.33998251748251684, 0.33929545454545473, 0.339517045454546, 0.3551420454545468, 0.31465909090909167]\n",
      "[0.3957515495867753, 0.37270909090908794, 0.35956744868034907, 0.33492424242423985, 0.3339630681818176, 0.31430069930069826, 0.2926136363636362, 0.2934943181818178, 0.31750000000000056, 0.28659090909090995]\n",
      "[0.3887241735537185, 0.36736818181817865, 0.3488416422287353, 0.3242424242424217, 0.3163778409090886, 0.2955069930069932, 0.267068181818182, 0.2625852272727264, 0.28053977272727143, 0.21261363636363684]\n",
      "[0.38902634297520583, 0.35114545454545115, 0.32031524926685845, 0.2893181818181802, 0.2681960227272719, 0.25447552447552374, 0.24029545454545503, 0.21409090909090905, 0.23605113636363614, 0.13375000000000006]\n",
      "[0.3751885330578505, 0.32992272727272437, 0.29823313782990934, 0.2661471861471855, 0.2244602272727264, 0.22057692307692267, 0.2031590909090919, 0.1737500000000002, 0.19093750000000081, 0.07306818181818155]\n",
      "[0.3442665289256192, 0.30084545454545164, 0.27233870967741813, 0.24751082251082185, 0.20745738636363598, 0.19718531468531444, 0.18202272727272764, 0.15417613636363672, 0.17178977272727314, 0.056249999999999856]\n",
      "[0.3004932851239651, 0.26329999999999815, 0.23448680351906043, 0.21168831168831123, 0.18276988636363584, 0.17215034965034912, 0.16634090909090948, 0.1384659090909094, 0.14968749999999975, 0.056249999999999856]\n",
      "\n"
     ]
    }
   ],
   "source": [
    "for lambda_ in tqdm(lambdas):\n",
    "    top_n_size = 20\n",
    "    top_n_lists_g = []\n",
    "    for groups in groups_n:\n",
    "\n",
    "        group_size = len(groups[0])\n",
    "        top_n_lists = []\n",
    "\n",
    "        for group in groups:\n",
    "            rating_table = pd.DataFrame() \n",
    "            for member in group:\n",
    "                prediction = svd[svd['uid'] == member].copy()\n",
    "                if len(rating_table) == 0:\n",
    "                    rating_table = prediction\n",
    "                else:\n",
    "                    rating_table = rating_table.set_index('tid').add(prediction.set_index('tid'), fill_value=0).reset_index()\n",
    "            rating_table['rating'] /= group_size \n",
    "            rating_table['rating'] *= lambda_\n",
    "            pop = pop_normalized.copy()\n",
    "            pop['rating'] *= (1 - lambda_)\n",
    "            rating_table = rating_table.set_index('tid').add(pop.set_index('tid'), fill_value=0).reset_index()\n",
    "    #         rating_table = rating_table[rating_table['count'] == group_size]\n",
    "            rating_table = rating_table.sort_values(by=['rating'],  ascending=False)\n",
    "            rating_table = rating_table[:top_n_size]\n",
    "            top_n_list = []\n",
    "            for _, row in rating_table.iterrows():\n",
    "                top_n_list.append(row[0])\n",
    "            top_n_lists.append(top_n_list)\n",
    "        top_n_lists_g.append(top_n_lists)   \n",
    "        \n",
    "    threshold = 0.0\n",
    "    avg_pops = []\n",
    "    for i in range(len(groups_n)):\n",
    "        groups = groups_n[i]\n",
    "        top_n_lists = top_n_lists_g[i]\n",
    "\n",
    "        pops = []\n",
    "        for j in (range(len(groups))):\n",
    "            group = groups[j]\n",
    "            top_n_list = top_n_lists[j]\n",
    "            for k in range(len(group)):\n",
    "                for l in range(top_n_size):\n",
    "                    tid = top_n_list[l]\n",
    "                    pops.append(pop_dict[tid])                    \n",
    "        avg_pop = sum(pops)/len(pops)\n",
    "        avg_pops.append(avg_pop)\n",
    "        \n",
    "    print(avg_pops)"
   ]
  },
  {
   "cell_type": "code",
   "execution_count": null,
   "metadata": {},
   "outputs": [],
   "source": []
  },
  {
   "cell_type": "code",
   "execution_count": 10,
   "metadata": {},
   "outputs": [
    {
     "data": {
      "application/vnd.jupyter.widget-view+json": {
       "model_id": "97dcee044b284ab5bc1c2d3cc67e4621",
       "version_major": 2,
       "version_minor": 0
      },
      "text/plain": [
       "HBox(children=(FloatProgress(value=0.0, max=11.0), HTML(value='')))"
      ]
     },
     "metadata": {},
     "output_type": "display_data"
    },
    {
     "name": "stdout",
     "output_type": "stream",
     "text": [
      "\n",
      "[0.047981404958677615, 0.050055757575757524, 0.05491202346041051, 0.05635497835497826, 0.058358901515151516, 0.058883116883116836, 0.05952840909090908, 0.06288510101010102, 0.05853522727272732, 0.0712568181818182]\n",
      "[0.05642510330578498, 0.055385454545454446, 0.0586209677419354, 0.05923376623376617, 0.062181818181818116, 0.061070929070928995, 0.06265340909090908, 0.06426641414141414, 0.05879090909090914, 0.06864318181818184]\n",
      "[0.06765495867768587, 0.06382545454545438, 0.06545307917888551, 0.06330735930735926, 0.06480681818181806, 0.06322977022977015, 0.06437954545454544, 0.06903787878787877, 0.05915681818181823, 0.07071590909090908]\n",
      "[0.07886105371900821, 0.07361939393939392, 0.07156304985337235, 0.06850389610389605, 0.06706439393939385, 0.06667932067932057, 0.0661272727272727, 0.06709595959595961, 0.060532954545454584, 0.07021590909090906]\n",
      "[0.0895707644628098, 0.08189939393939395, 0.07803225806451601, 0.0750493506493506, 0.06966571969696964, 0.07018381618381603, 0.06981818181818175, 0.07065277777777773, 0.06105909090909093, 0.06632045454545457]\n",
      "[0.09585485537190085, 0.08862363636363636, 0.08500659824046922, 0.07792294372294366, 0.07201893939393936, 0.06918381618381603, 0.07368863636363632, 0.07378282828282817, 0.061040909090909055, 0.061177272727272726]\n",
      "[0.10126394628099188, 0.09153939393939405, 0.08838563049853379, 0.07549783549783548, 0.07233238636363636, 0.06028871128871124, 0.06895909090909086, 0.06696969696969693, 0.05571022727272723, 0.047338636363636374]\n",
      "[0.1011549586776861, 0.091438787878788, 0.08625733137829912, 0.0712225108225108, 0.06867140151515151, 0.05503896103896104, 0.06462727272727267, 0.05686489898989896, 0.04989886363636364, 0.035415909090909095]\n",
      "[0.09875258264462815, 0.08870363636363642, 0.07895087976539591, 0.0674528138528138, 0.059821022727272716, 0.05301898101898101, 0.058747727272727215, 0.04853156565656564, 0.04303636363636365, 0.02318863636363635]\n",
      "[0.09089876033057852, 0.08537575757575756, 0.07157038123167157, 0.06249870129870123, 0.051778409090909076, 0.0443036963036963, 0.051740909090909046, 0.044854797979797946, 0.035286363636363685, 0.018445454545454536]\n",
      "[0.08092148760330578, 0.07536121212121205, 0.06480791788856304, 0.053829437229437234, 0.047685606060606074, 0.040121878121878125, 0.0453340909090909, 0.040060606060606054, 0.03050909090909093, 0.01341818181818182]\n"
     ]
    }
   ],
   "source": [
    "HitNOVs = []\n",
    "for lambda_ in tqdm(lambdas):\n",
    "    top_n_size = 50\n",
    "    top_n_lists_g = []\n",
    "    for groups in groups_n:\n",
    "\n",
    "        group_size = len(groups[0])\n",
    "        top_n_lists = []\n",
    "\n",
    "        for group in groups:\n",
    "            rating_table = pd.DataFrame() \n",
    "            for member in group:\n",
    "                prediction = svd[svd['uid'] == member].copy()\n",
    "                if len(rating_table) == 0:\n",
    "                    rating_table = prediction\n",
    "                else:\n",
    "                    rating_table = rating_table.set_index('tid').add(prediction.set_index('tid'), fill_value=0).reset_index()\n",
    "            rating_table['rating'] /= group_size \n",
    "            rating_table['rating'] *= lambda_\n",
    "            pop = pop_normalized.copy()\n",
    "            pop['rating'] *= (1 - lambda_)\n",
    "            rating_table = rating_table.set_index('tid').add(pop.set_index('tid'), fill_value=0).reset_index()\n",
    "    #         rating_table = rating_table[rating_table['count'] == group_size]\n",
    "            rating_table = rating_table.sort_values(by=['rating'],  ascending=False)\n",
    "            rating_table = rating_table[:top_n_size]\n",
    "            top_n_list = []\n",
    "            for _, row in rating_table.iterrows():\n",
    "                top_n_list.append(row[0])\n",
    "            top_n_lists.append(top_n_list)\n",
    "        top_n_lists_g.append(top_n_lists)   \n",
    "        \n",
    "    HitNOV = []\n",
    "    for i in range(len(groups_n)):\n",
    "        groups = groups_n[i]\n",
    "        top_n_lists = top_n_lists_g[i]\n",
    "        \n",
    "        nov = 0\n",
    "        for j in (range(len(groups))):\n",
    "\n",
    "            group = groups[j]\n",
    "            top_n_list = top_n_lists[j]\n",
    "            \n",
    "            for k in range(len(group)):\n",
    "                for l in range(top_n_size):\n",
    "                    uid = group[k]\n",
    "                    tid = top_n_list[l]\n",
    "                    t = test[test['uid'] == uid]\n",
    "                    t = t[t['tid'] == tid]\n",
    "                    if len(t) > 0:\n",
    "                        nov += (1-pop_dict[tid])\n",
    "        \n",
    "        HitNOV.append(nov/top_n_size/(len(groups)*len(groups[0])))\n",
    "    HitNOVs.append(HitNOV)\n",
    "    \n",
    "for HitNOV in HitNOVs:\n",
    "    print(HitNOV)"
   ]
  },
  {
   "cell_type": "code",
   "execution_count": null,
   "metadata": {},
   "outputs": [],
   "source": []
  },
  {
   "cell_type": "code",
   "execution_count": 14,
   "metadata": {},
   "outputs": [
    {
     "ename": "NameError",
     "evalue": "name 'long_tail' is not defined",
     "output_type": "error",
     "traceback": [
      "\u001b[0;31m---------------------------------------------------------------------------\u001b[0m",
      "\u001b[0;31mNameError\u001b[0m                                 Traceback (most recent call last)",
      "\u001b[0;32m<ipython-input-14-c514cfb0e74c>\u001b[0m in \u001b[0;36m<module>\u001b[0;34m\u001b[0m\n\u001b[1;32m      1\u001b[0m \u001b[0mtid_pd\u001b[0m \u001b[0;34m=\u001b[0m \u001b[0mpd\u001b[0m\u001b[0;34m.\u001b[0m\u001b[0mDataFrame\u001b[0m\u001b[0;34m(\u001b[0m\u001b[0mdata\u001b[0m\u001b[0;34m=\u001b[0m\u001b[0;34m{\u001b[0m\u001b[0;34m'tid'\u001b[0m\u001b[0;34m:\u001b[0m \u001b[0mall_user\u001b[0m\u001b[0;34m[\u001b[0m\u001b[0;34m'tid'\u001b[0m\u001b[0;34m]\u001b[0m\u001b[0;34m.\u001b[0m\u001b[0munique\u001b[0m\u001b[0;34m(\u001b[0m\u001b[0;34m)\u001b[0m\u001b[0;34m}\u001b[0m\u001b[0;34m)\u001b[0m\u001b[0;34m\u001b[0m\u001b[0;34m\u001b[0m\u001b[0m\n\u001b[1;32m      2\u001b[0m \u001b[0mtid_pd\u001b[0m \u001b[0;34m=\u001b[0m \u001b[0mtid_pd\u001b[0m\u001b[0;34m.\u001b[0m\u001b[0msort_values\u001b[0m\u001b[0;34m(\u001b[0m\u001b[0mby\u001b[0m\u001b[0;34m=\u001b[0m\u001b[0;34m[\u001b[0m\u001b[0;34m'tid'\u001b[0m\u001b[0;34m]\u001b[0m\u001b[0;34m)\u001b[0m\u001b[0;34m.\u001b[0m\u001b[0mreset_index\u001b[0m\u001b[0;34m(\u001b[0m\u001b[0;34m)\u001b[0m\u001b[0;34m\u001b[0m\u001b[0;34m\u001b[0m\u001b[0m\n\u001b[0;32m----> 3\u001b[0;31m \u001b[0mlong_tail_list\u001b[0m \u001b[0;34m=\u001b[0m \u001b[0mtid_pd\u001b[0m\u001b[0;34m[\u001b[0m\u001b[0;34m'tid'\u001b[0m\u001b[0;34m]\u001b[0m\u001b[0;34m.\u001b[0m\u001b[0misin\u001b[0m\u001b[0;34m(\u001b[0m\u001b[0mlong_tail\u001b[0m\u001b[0;34m)\u001b[0m\u001b[0;34m\u001b[0m\u001b[0;34m\u001b[0m\u001b[0m\n\u001b[0m\u001b[1;32m      4\u001b[0m \u001b[0mlong_tail_list\u001b[0m \u001b[0;34m=\u001b[0m \u001b[0mlist\u001b[0m\u001b[0;34m(\u001b[0m\u001b[0mlong_tail_list\u001b[0m\u001b[0;34m)\u001b[0m\u001b[0;34m\u001b[0m\u001b[0;34m\u001b[0m\u001b[0m\n\u001b[1;32m      5\u001b[0m \u001b[0mlong_tail_list\u001b[0m\u001b[0;34m.\u001b[0m\u001b[0mcount\u001b[0m\u001b[0;34m(\u001b[0m\u001b[0;32mTrue\u001b[0m\u001b[0;34m)\u001b[0m\u001b[0;34m\u001b[0m\u001b[0;34m\u001b[0m\u001b[0m\n",
      "\u001b[0;31mNameError\u001b[0m: name 'long_tail' is not defined"
     ]
    }
   ],
   "source": [
    "tid_pd = pd.DataFrame(data={'tid': all_user['tid'].unique()})\n",
    "tid_pd = tid_pd.sort_values(by=['tid']).reset_index()\n",
    "long_tail_list = tid_pd['tid'].isin(long_tail)\n",
    "long_tail_list = list(long_tail_list)\n",
    "long_tail_list.count(True)"
   ]
  },
  {
   "cell_type": "code",
   "execution_count": 18,
   "metadata": {},
   "outputs": [
    {
     "data": {
      "application/vnd.jupyter.widget-view+json": {
       "model_id": "b723fc7ac80040cc8d59fd25bcdef77e",
       "version_major": 2,
       "version_minor": 0
      },
      "text/plain": [
       "HBox(children=(FloatProgress(value=0.0, max=11.0), HTML(value='')))"
      ]
     },
     "metadata": {},
     "output_type": "display_data"
    },
    {
     "name": "stdout",
     "output_type": "stream",
     "text": [
      "\n",
      "[0.0008914115228583384, 0.0008914115228583384, 0.0008914115228583384, 0.0008732194509632703, 0.0008732194509632703, 0.0008914115228583384, 0.0008914115228583384, 0.0008732194509632703, 0.0008732194509632703, 0.0008732194509632703]\n",
      "[0.0013462133202350416, 0.001291637104549837, 0.0012188688169695646, 0.001127908457494224, 0.0011642926012843603, 0.0011461005293892921, 0.0010733322418090196, 0.0010369480980188834, 0.0010187560261238151, 0.0009096035947534065]\n",
      "[0.00223762484309338, 0.0020375120522476303, 0.0018737834051920173, 0.001546326111080791, 0.0014371736797103823, 0.0013644053921301096, 0.0013098291764449053, 0.0013098291764449053, 0.0011461005293892921, 0.0009823718823336789]\n",
      "[0.003365533300587604, 0.002928923575105969, 0.002728810784260219, 0.0022922010587785842, 0.0020193199803525625, 0.0019647437646673578, 0.0017464389019265405, 0.0015099419672906548, 0.0014735578235005185, 0.0010551401699139516]\n",
      "[0.004347905182921283, 0.004056832032600193, 0.0038931033855445795, 0.003492877803853081, 0.002783386999945424, 0.002728810784260219, 0.0024195455620440614, 0.0022194327711983117, 0.0020011279084574942, 0.001127908457494224]\n",
      "[0.005330277065254962, 0.005312084993359893, 0.005093780130619076, 0.00447524968618676, 0.0037111826665938985, 0.003492877803853081, 0.0031654205097418546, 0.0028561552875256964, 0.002492313849624334, 0.0011461005293892921]\n",
      "[0.006167112372428096, 0.006367225163273846, 0.006167112372428096, 0.0051119722025141446, 0.004420673470501555, 0.0037657588822791028, 0.003474685731958013, 0.0031654205097418546, 0.002783386999945424, 0.0009641798104386109]\n",
      "[0.006931179392020957, 0.006931179392020957, 0.006640106241699867, 0.005566773999890848, 0.004820899052193055, 0.0037657588822791028, 0.0036020302352234895, 0.0028925394313158324, 0.0027470028561552874, 0.0007640670195928614]\n",
      "[0.007422365333187797, 0.007404173261292729, 0.006585530026014663, 0.005621350215576052, 0.00447524968618676, 0.0037293747384889663, 0.0035474540195382853, 0.0026196583528898107, 0.0024559297058341974, 0.000563954228747112]\n",
      "[0.007840782986774363, 0.0076770543397187505, 0.006439993450854118, 0.005421237424730303, 0.004038639960705125, 0.0032927650130073313, 0.0031654205097418546, 0.0024559297058341974, 0.0020738961960377667, 0.0004729938692717714]\n",
      "[0.008040895777620113, 0.007367789117502592, 0.006021575797267551, 0.004657170405137441, 0.0037293747384889663, 0.002983499790791173, 0.002801579071840492, 0.002128472411722971, 0.0018010151176117448, 0.0003820335097964307]\n",
      "\n"
     ]
    }
   ],
   "source": [
    "diversities = []\n",
    "novelties = []\n",
    "for lambda_ in tqdm(lambdas):\n",
    "    top_n_size = 50\n",
    "    top_n_lists_g = []\n",
    "    for groups in groups_n:\n",
    "\n",
    "        group_size = len(groups[0])\n",
    "        top_n_lists = []\n",
    "\n",
    "        for group in groups:\n",
    "            rating_table = pd.DataFrame() \n",
    "            for member in group:\n",
    "                prediction = svd[svd['uid'] == member].copy()\n",
    "                if len(rating_table) == 0:\n",
    "                    rating_table = prediction\n",
    "                else:\n",
    "                    rating_table = rating_table.set_index('tid').add(prediction.set_index('tid'), fill_value=0).reset_index()\n",
    "            rating_table['rating'] /= group_size \n",
    "            rating_table['rating'] *= lambda_\n",
    "            pop = pop_normalized.copy()\n",
    "            pop['rating'] *= (1 - lambda_)\n",
    "            rating_table = rating_table.set_index('tid').add(pop.set_index('tid'), fill_value=0).reset_index()\n",
    "    #         rating_table = rating_table[rating_table['count'] == group_size]\n",
    "            rating_table = rating_table.sort_values(by=['rating'],  ascending=False)\n",
    "            rating_table = rating_table[:top_n_size]\n",
    "            top_n_list = []\n",
    "            for _, row in rating_table.iterrows():\n",
    "                top_n_list.append(row[0])\n",
    "            top_n_lists.append(top_n_list)\n",
    "        top_n_lists_g.append(top_n_lists)   \n",
    "        \n",
    "    diversity = []\n",
    "    novelty = []\n",
    "    for i in range(len(groups_n)):\n",
    "        groups = groups_n[i]\n",
    "        top_n_lists = top_n_lists_g[i]\n",
    "\n",
    "        \n",
    "        hits = np.zeros(len(all_user['tid'].unique()), dtype=bool)\n",
    "        for j in (range(len(groups))):\n",
    "\n",
    "            group = groups[j]\n",
    "            top_n_list = top_n_lists[j]\n",
    "            \n",
    "            for k in range(len(group)):\n",
    "                for l in range(top_n_size):\n",
    "                    uid = group[k]\n",
    "                    tid = top_n_list[l]\n",
    "                    t = test[test['uid'] == uid]\n",
    "                    t = t[t['tid'] == tid]\n",
    "                    if len(t) > 0:\n",
    "                        hits[int(tid)] = True\n",
    "        \n",
    "        diversity.append(list(hits).count(True)/len(all_user['tid'].unique()))\n",
    "#         novelty.append(list(hits&long_tail_list).count(True)/len(df['tid'].unique()))\n",
    "    diversities.append(diversity)\n",
    "#     novelties.append(novelty)\n",
    "    \n",
    "for diversity in diversities:\n",
    "    print(diversity)\n",
    "print()\n",
    "for novelty in novelties:\n",
    "    print(novelty)"
   ]
  },
  {
   "cell_type": "code",
   "execution_count": null,
   "metadata": {},
   "outputs": [],
   "source": []
  }
 ],
 "metadata": {
  "kernelspec": {
   "display_name": "Python 3",
   "language": "python",
   "name": "python3"
  },
  "language_info": {
   "codemirror_mode": {
    "name": "ipython",
    "version": 3
   },
   "file_extension": ".py",
   "mimetype": "text/x-python",
   "name": "python",
   "nbconvert_exporter": "python",
   "pygments_lexer": "ipython3",
   "version": "3.6.10"
  }
 },
 "nbformat": 4,
 "nbformat_minor": 4
}
