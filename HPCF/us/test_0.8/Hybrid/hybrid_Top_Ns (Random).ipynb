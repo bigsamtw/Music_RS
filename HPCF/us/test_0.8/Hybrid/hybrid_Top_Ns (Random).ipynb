{
 "cells": [
  {
   "cell_type": "code",
   "execution_count": 1,
   "metadata": {},
   "outputs": [],
   "source": [
    "import os \n",
    "import math\n",
    "import random\n",
    "import numpy as np\n",
    "import pandas as pd\n",
    "from tqdm.notebook import tqdm\n",
    "from numpy import count_nonzero\n",
    "\n",
    "dir_ = '../data/'\n",
    "group_dir_ = '../data/groups/random'"
   ]
  },
  {
   "cell_type": "code",
   "execution_count": 2,
   "metadata": {},
   "outputs": [
    {
     "data": {
      "text/plain": [
       "220"
      ]
     },
     "execution_count": 2,
     "metadata": {},
     "output_type": "execute_result"
    }
   ],
   "source": [
    "file_name = 'normalized_to_rating_filter_track_5_user_100.csv'\n",
    "svd = pd.read_pickle(os.path.join(dir_, 'prediction_svd_top_N_' + file_name[:-3] + 'pkl'))\n",
    "test = pd.read_pickle(os.path.join(dir_, 'test_' + file_name[:-3] + 'pkl'))\n",
    "test.sort_values(by=['uid','tid'])\n",
    "\n",
    "file_name = 'normalized_popularity_filter_track_5_user_100.pkl'\n",
    "pop_count = pd.read_pickle(os.path.join(dir_, file_name))\n",
    "\n",
    "num_user = len(svd['uid'].unique())\n",
    "num_user"
   ]
  },
  {
   "cell_type": "code",
   "execution_count": 3,
   "metadata": {},
   "outputs": [
    {
     "name": "stdout",
     "output_type": "stream",
     "text": [
      "2\n",
      "3\n",
      "4\n",
      "5\n"
     ]
    }
   ],
   "source": [
    "groups_n =[]\n",
    "group_sizes = ['2', '3', '4', '5']\n",
    "for i in range(len(group_sizes)):\n",
    "    groups = np.loadtxt(os.path.join(group_dir_, group_sizes[i] + '.csv'), delimiter=',')\n",
    "    groups_n.append(groups)\n",
    "    print(len(groups[0]))"
   ]
  },
  {
   "cell_type": "code",
   "execution_count": 4,
   "metadata": {},
   "outputs": [
    {
     "data": {
      "text/html": [
       "<div>\n",
       "<style scoped>\n",
       "    .dataframe tbody tr th:only-of-type {\n",
       "        vertical-align: middle;\n",
       "    }\n",
       "\n",
       "    .dataframe tbody tr th {\n",
       "        vertical-align: top;\n",
       "    }\n",
       "\n",
       "    .dataframe thead th {\n",
       "        text-align: right;\n",
       "    }\n",
       "</style>\n",
       "<table border=\"1\" class=\"dataframe\">\n",
       "  <thead>\n",
       "    <tr style=\"text-align: right;\">\n",
       "      <th></th>\n",
       "      <th>uid</th>\n",
       "      <th>tid</th>\n",
       "      <th>rating</th>\n",
       "      <th>count</th>\n",
       "    </tr>\n",
       "  </thead>\n",
       "  <tbody>\n",
       "    <tr>\n",
       "      <th>0</th>\n",
       "      <td>0</td>\n",
       "      <td>3</td>\n",
       "      <td>2.544071</td>\n",
       "      <td>1</td>\n",
       "    </tr>\n",
       "    <tr>\n",
       "      <th>1</th>\n",
       "      <td>0</td>\n",
       "      <td>7</td>\n",
       "      <td>2.545822</td>\n",
       "      <td>1</td>\n",
       "    </tr>\n",
       "    <tr>\n",
       "      <th>2</th>\n",
       "      <td>0</td>\n",
       "      <td>18</td>\n",
       "      <td>2.152490</td>\n",
       "      <td>1</td>\n",
       "    </tr>\n",
       "    <tr>\n",
       "      <th>3</th>\n",
       "      <td>0</td>\n",
       "      <td>20</td>\n",
       "      <td>1.882396</td>\n",
       "      <td>1</td>\n",
       "    </tr>\n",
       "    <tr>\n",
       "      <th>4</th>\n",
       "      <td>0</td>\n",
       "      <td>31</td>\n",
       "      <td>2.410806</td>\n",
       "      <td>1</td>\n",
       "    </tr>\n",
       "  </tbody>\n",
       "</table>\n",
       "</div>"
      ],
      "text/plain": [
       "   uid  tid    rating  count\n",
       "0    0    3  2.544071      1\n",
       "1    0    7  2.545822      1\n",
       "2    0   18  2.152490      1\n",
       "3    0   20  1.882396      1\n",
       "4    0   31  2.410806      1"
      ]
     },
     "execution_count": 4,
     "metadata": {},
     "output_type": "execute_result"
    }
   ],
   "source": [
    "svd['count'] = 1\n",
    "svd[:5]"
   ]
  },
  {
   "cell_type": "code",
   "execution_count": 5,
   "metadata": {},
   "outputs": [
    {
     "data": {
      "text/html": [
       "<div>\n",
       "<style scoped>\n",
       "    .dataframe tbody tr th:only-of-type {\n",
       "        vertical-align: middle;\n",
       "    }\n",
       "\n",
       "    .dataframe tbody tr th {\n",
       "        vertical-align: top;\n",
       "    }\n",
       "\n",
       "    .dataframe thead th {\n",
       "        text-align: right;\n",
       "    }\n",
       "</style>\n",
       "<table border=\"1\" class=\"dataframe\">\n",
       "  <thead>\n",
       "    <tr style=\"text-align: right;\">\n",
       "      <th></th>\n",
       "      <th>tid</th>\n",
       "      <th>count</th>\n",
       "      <th>rating</th>\n",
       "    </tr>\n",
       "  </thead>\n",
       "  <tbody>\n",
       "    <tr>\n",
       "      <th>166</th>\n",
       "      <td>166</td>\n",
       "      <td>3666</td>\n",
       "      <td>573.25</td>\n",
       "    </tr>\n",
       "    <tr>\n",
       "      <th>457</th>\n",
       "      <td>457</td>\n",
       "      <td>2042</td>\n",
       "      <td>162.00</td>\n",
       "    </tr>\n",
       "    <tr>\n",
       "      <th>6338</th>\n",
       "      <td>6338</td>\n",
       "      <td>1896</td>\n",
       "      <td>153.75</td>\n",
       "    </tr>\n",
       "    <tr>\n",
       "      <th>80</th>\n",
       "      <td>80</td>\n",
       "      <td>1835</td>\n",
       "      <td>412.25</td>\n",
       "    </tr>\n",
       "    <tr>\n",
       "      <th>1364</th>\n",
       "      <td>1364</td>\n",
       "      <td>1792</td>\n",
       "      <td>327.50</td>\n",
       "    </tr>\n",
       "  </tbody>\n",
       "</table>\n",
       "</div>"
      ],
      "text/plain": [
       "       tid  count  rating\n",
       "166    166   3666  573.25\n",
       "457    457   2042  162.00\n",
       "6338  6338   1896  153.75\n",
       "80      80   1835  412.25\n",
       "1364  1364   1792  327.50"
      ]
     },
     "execution_count": 5,
     "metadata": {},
     "output_type": "execute_result"
    }
   ],
   "source": [
    "pop_count = pop_count.sort_values(by=['count'],  ascending=False)\n",
    "pop_count[:5]"
   ]
  },
  {
   "cell_type": "code",
   "execution_count": 6,
   "metadata": {},
   "outputs": [
    {
     "data": {
      "text/html": [
       "<div>\n",
       "<style scoped>\n",
       "    .dataframe tbody tr th:only-of-type {\n",
       "        vertical-align: middle;\n",
       "    }\n",
       "\n",
       "    .dataframe tbody tr th {\n",
       "        vertical-align: top;\n",
       "    }\n",
       "\n",
       "    .dataframe thead th {\n",
       "        text-align: right;\n",
       "    }\n",
       "</style>\n",
       "<table border=\"1\" class=\"dataframe\">\n",
       "  <thead>\n",
       "    <tr style=\"text-align: right;\">\n",
       "      <th></th>\n",
       "      <th>tid</th>\n",
       "      <th>rating</th>\n",
       "    </tr>\n",
       "  </thead>\n",
       "  <tbody>\n",
       "    <tr>\n",
       "      <th>166</th>\n",
       "      <td>166</td>\n",
       "      <td>5.00</td>\n",
       "    </tr>\n",
       "    <tr>\n",
       "      <th>457</th>\n",
       "      <td>457</td>\n",
       "      <td>5.00</td>\n",
       "    </tr>\n",
       "    <tr>\n",
       "      <th>6338</th>\n",
       "      <td>6338</td>\n",
       "      <td>5.00</td>\n",
       "    </tr>\n",
       "    <tr>\n",
       "      <th>80</th>\n",
       "      <td>80</td>\n",
       "      <td>5.00</td>\n",
       "    </tr>\n",
       "    <tr>\n",
       "      <th>1364</th>\n",
       "      <td>1364</td>\n",
       "      <td>5.00</td>\n",
       "    </tr>\n",
       "    <tr>\n",
       "      <th>...</th>\n",
       "      <td>...</td>\n",
       "      <td>...</td>\n",
       "    </tr>\n",
       "    <tr>\n",
       "      <th>37553</th>\n",
       "      <td>37554</td>\n",
       "      <td>0.25</td>\n",
       "    </tr>\n",
       "    <tr>\n",
       "      <th>42281</th>\n",
       "      <td>42283</td>\n",
       "      <td>0.25</td>\n",
       "    </tr>\n",
       "    <tr>\n",
       "      <th>11800</th>\n",
       "      <td>11800</td>\n",
       "      <td>0.25</td>\n",
       "    </tr>\n",
       "    <tr>\n",
       "      <th>45731</th>\n",
       "      <td>45733</td>\n",
       "      <td>0.25</td>\n",
       "    </tr>\n",
       "    <tr>\n",
       "      <th>54289</th>\n",
       "      <td>54292</td>\n",
       "      <td>0.25</td>\n",
       "    </tr>\n",
       "  </tbody>\n",
       "</table>\n",
       "<p>54966 rows × 2 columns</p>\n",
       "</div>"
      ],
      "text/plain": [
       "         tid  rating\n",
       "166      166    5.00\n",
       "457      457    5.00\n",
       "6338    6338    5.00\n",
       "80        80    5.00\n",
       "1364    1364    5.00\n",
       "...      ...     ...\n",
       "37553  37554    0.25\n",
       "42281  42283    0.25\n",
       "11800  11800    0.25\n",
       "45731  45733    0.25\n",
       "54289  54292    0.25\n",
       "\n",
       "[54966 rows x 2 columns]"
      ]
     },
     "execution_count": 6,
     "metadata": {},
     "output_type": "execute_result"
    }
   ],
   "source": [
    "# Linear\n",
    "size = int(len(pop_count) // 20)\n",
    "pop_normalized = pd.DataFrame()\n",
    "for i in range(20):\n",
    "    if i == 0:\n",
    "        pop = pop_count[:size].copy()\n",
    "    elif i == 19:\n",
    "        pop = pop_count[size*19:].copy()\n",
    "    else:\n",
    "        pop = pop_count[size*i:size*(i+1)].copy()\n",
    "    pop['rating'] = (20 - i)*0.25\n",
    "    pop_normalized = pop_normalized.append(pop)\n",
    "pop_normalized = pop_normalized[['tid', 'rating']]\n",
    "pop_normalized"
   ]
  },
  {
   "cell_type": "code",
   "execution_count": 7,
   "metadata": {},
   "outputs": [],
   "source": [
    "# # min_max\n",
    "# max_rating = pop_count.iloc[0]['count']\n",
    "# pop_normalized = pop_count.copy()\n",
    "# pop_normalized = pop_normalized[['tid', 'count']]\n",
    "# pop_normalized['rating'] = pop_normalized['count']\n",
    "# pop_normalized['rating'] /= max_rating\n",
    "# pop_normalized['rating'] *= 5\n",
    "# pop_normalized[:5]"
   ]
  },
  {
   "cell_type": "code",
   "execution_count": 8,
   "metadata": {},
   "outputs": [
    {
     "data": {
      "text/plain": [
       "[0.0, 0.1, 0.2, 0.3, 0.4, 0.5, 0.6, 0.7, 0.8, 0.9, 1.0]"
      ]
     },
     "execution_count": 8,
     "metadata": {},
     "output_type": "execute_result"
    }
   ],
   "source": [
    "lambdas = []\n",
    "for i in range(11):\n",
    "    lambdas.append(i/10)\n",
    "lambdas"
   ]
  },
  {
   "cell_type": "code",
   "execution_count": 9,
   "metadata": {},
   "outputs": [],
   "source": [
    "top_4_results = []\n",
    "top_20_results = []\n",
    "top_100_results = []"
   ]
  },
  {
   "cell_type": "code",
   "execution_count": 10,
   "metadata": {},
   "outputs": [
    {
     "data": {
      "application/vnd.jupyter.widget-view+json": {
       "model_id": "4714b70782294589b3198634b4c392a7",
       "version_major": 2,
       "version_minor": 0
      },
      "text/plain": [
       "HBox(children=(FloatProgress(value=0.0, max=11.0), HTML(value='')))"
      ]
     },
     "metadata": {},
     "output_type": "display_data"
    },
    {
     "name": "stdout",
     "output_type": "stream",
     "text": [
      "\n"
     ]
    }
   ],
   "source": [
    "for lambda_ in tqdm(lambdas):\n",
    "    top_n_size = 100\n",
    "    top_n_lists_g = []\n",
    "    for groups in groups_n:\n",
    "\n",
    "        group_size = len(groups[0])\n",
    "        top_n_lists = []\n",
    "\n",
    "        for group in groups:\n",
    "            rating_table = pd.DataFrame() \n",
    "            for member in group:\n",
    "                prediction = svd[svd['uid'] == member].copy()\n",
    "                if len(rating_table) == 0:\n",
    "                    rating_table = prediction\n",
    "                else:\n",
    "                    rating_table = rating_table.set_index('tid').add(prediction.set_index('tid'), fill_value=0).reset_index()\n",
    "            rating_table['rating'] /= group_size \n",
    "            rating_table['rating'] *= lambda_\n",
    "            pop = pop_normalized.copy()\n",
    "            pop['rating'] *= (1 - lambda_)\n",
    "            rating_table = rating_table.set_index('tid').add(pop.set_index('tid'), fill_value=0).reset_index()\n",
    "    #         rating_table = rating_table[rating_table['count'] == group_size]\n",
    "            rating_table = rating_table.sort_values(by=['rating'],  ascending=False)\n",
    "            rating_table = rating_table[:top_n_size]\n",
    "            top_n_list = []\n",
    "            for _, row in rating_table.iterrows():\n",
    "                top_n_list.append(row[0])\n",
    "            top_n_lists.append(top_n_list)\n",
    "        top_n_lists_g.append(top_n_lists)   \n",
    "        \n",
    "#     print('lambda = ' + str(lambda_))\n",
    "    threshold = 0.0\n",
    "    for top_n_size in [100, 20, 4]:\n",
    "        avg_precisions = []\n",
    "        for i in range(len(groups_n)):\n",
    "            groups = groups_n[i]\n",
    "            top_n_lists = top_n_lists_g[i]\n",
    "\n",
    "            precisions = []\n",
    "            for j in (range(len(groups))):\n",
    "\n",
    "                group = groups[j]\n",
    "                top_n_list = top_n_lists[j][:top_n_size]\n",
    "\n",
    "                high_rating = 0\n",
    "\n",
    "                for k in range(top_n_size):\n",
    "                    for l in range(len(group)):\n",
    "                        uid = group[l]\n",
    "                        tid = top_n_list[k]\n",
    "                        t = test[test['uid'] == uid]\n",
    "                        t = t[t['tid'] == tid]\n",
    "                        if len(t) > 0 and t.iloc[0]['rating'] > threshold:\n",
    "                            high_rating += 1\n",
    "                            break\n",
    "\n",
    "                precision = high_rating / top_n_size\n",
    "                precisions.append(precision)\n",
    "\n",
    "            avg_precision = 0\n",
    "            for precision in precisions:\n",
    "                avg_precision += precision\n",
    "            avg_precision /= len(precisions)\n",
    "            avg_precisions.append(avg_precision)\n",
    "#         print(avg_precisions)\n",
    "        if top_n_size == 4:\n",
    "            top_4_results.append(avg_precisions)\n",
    "        elif top_n_size == 20:\n",
    "            top_20_results.append(avg_precisions)\n",
    "        elif top_n_size == 100:\n",
    "            top_100_results.append(avg_precisions)\n",
    "    #     print(sum(avg_precisions) / len(avg_precisions))\n",
    "    #     print('----------------------------------------') "
   ]
  },
  {
   "cell_type": "code",
   "execution_count": 11,
   "metadata": {},
   "outputs": [
    {
     "name": "stdout",
     "output_type": "stream",
     "text": [
      "[0.14583333333333334, 0.21875, 0.25, 0.3125]\n",
      "[0.35, 0.39375, 0.5083333333333333, 0.5833333333333334]\n",
      "[0.35, 0.39375, 0.5083333333333333, 0.5833333333333334]\n",
      "[0.35, 0.39375, 0.5083333333333333, 0.5833333333333334]\n",
      "[0.35, 0.39375, 0.5083333333333333, 0.5833333333333334]\n",
      "[0.35, 0.39375, 0.5083333333333333, 0.5833333333333334]\n",
      "[0.35, 0.39375, 0.5083333333333333, 0.5833333333333334]\n",
      "[0.35, 0.39375, 0.5083333333333333, 0.5833333333333334]\n",
      "[0.35, 0.39375, 0.5083333333333333, 0.5833333333333334]\n",
      "[0.3416666666666667, 0.39375, 0.5083333333333333, 0.5833333333333334]\n",
      "[0.3333333333333333, 0.39375, 0.5, 0.5625]\n",
      "------------------\n",
      "[0.08999999999999994, 0.13249999999999998, 0.16833333333333336, 0.20833333333333337]\n",
      "[0.26, 0.3125, 0.41333333333333333, 0.4229166666666666]\n",
      "[0.26, 0.3125, 0.41333333333333333, 0.4229166666666666]\n",
      "[0.26, 0.3125, 0.41333333333333333, 0.4229166666666666]\n",
      "[0.26, 0.3125, 0.41333333333333333, 0.4229166666666666]\n",
      "[0.26, 0.3125, 0.41333333333333333, 0.4229166666666666]\n",
      "[0.26, 0.3125, 0.41500000000000004, 0.4229166666666666]\n",
      "[0.25916666666666666, 0.31125, 0.41666666666666674, 0.4229166666666666]\n",
      "[0.25416666666666665, 0.30875, 0.41166666666666674, 0.425]\n",
      "[0.25083333333333335, 0.3025, 0.4033333333333333, 0.4166666666666667]\n",
      "[0.23583333333333328, 0.28625, 0.37999999999999995, 0.3770833333333332]\n",
      "------------------\n",
      "[0.07316666666666664, 0.10525, 0.1403333333333333, 0.17125]\n",
      "[0.19350000000000003, 0.231, 0.2836666666666667, 0.32375]\n",
      "[0.19350000000000003, 0.231, 0.2836666666666667, 0.32375]\n",
      "[0.19350000000000003, 0.231, 0.2836666666666667, 0.32375]\n",
      "[0.19333333333333336, 0.23075, 0.2836666666666667, 0.32375]\n",
      "[0.19283333333333333, 0.23024999999999998, 0.284, 0.32375]\n",
      "[0.192, 0.22925000000000004, 0.2833333333333333, 0.3245833333333334]\n",
      "[0.19016666666666662, 0.225, 0.2803333333333333, 0.32000000000000006]\n",
      "[0.18733333333333327, 0.21900000000000003, 0.26833333333333337, 0.31083333333333335]\n",
      "[0.1785, 0.20999999999999996, 0.2566666666666666, 0.29125000000000006]\n",
      "[0.15616666666666668, 0.18225000000000002, 0.22200000000000003, 0.24583333333333326]\n"
     ]
    }
   ],
   "source": [
    "for i in top_4_results:\n",
    "    print(i)\n",
    "print('------------------')\n",
    "\n",
    "for i in top_20_results:\n",
    "    print(i)\n",
    "print('------------------')\n",
    "\n",
    "for i in top_100_results:\n",
    "    print(i)"
   ]
  },
  {
   "cell_type": "code",
   "execution_count": null,
   "metadata": {},
   "outputs": [],
   "source": []
  },
  {
   "cell_type": "code",
   "execution_count": null,
   "metadata": {},
   "outputs": [],
   "source": []
  },
  {
   "cell_type": "code",
   "execution_count": null,
   "metadata": {},
   "outputs": [],
   "source": []
  }
 ],
 "metadata": {
  "kernelspec": {
   "display_name": "Python 3",
   "language": "python",
   "name": "python3"
  },
  "language_info": {
   "codemirror_mode": {
    "name": "ipython",
    "version": 3
   },
   "file_extension": ".py",
   "mimetype": "text/x-python",
   "name": "python",
   "nbconvert_exporter": "python",
   "pygments_lexer": "ipython3",
   "version": "3.6.10"
  }
 },
 "nbformat": 4,
 "nbformat_minor": 4
}
