{
 "cells": [
  {
   "cell_type": "code",
   "execution_count": 6,
   "metadata": {},
   "outputs": [],
   "source": [
    "import os \n",
    "import math\n",
    "import random\n",
    "import numpy as np\n",
    "import pandas as pd\n",
    "from tqdm.notebook import tqdm\n",
    "from numpy import count_nonzero\n",
    "\n",
    "dir_ = '../../../data/'\n",
    "group_dir_ = '../../../data/groups/high'"
   ]
  },
  {
   "cell_type": "code",
   "execution_count": 7,
   "metadata": {},
   "outputs": [
    {
     "data": {
      "text/plain": [
       "220"
      ]
     },
     "execution_count": 7,
     "metadata": {},
     "output_type": "execute_result"
    }
   ],
   "source": [
    "file_name = 'normalized_to_rating_filter_track_5_user_100.csv'\n",
    "df = pd.read_pickle(os.path.join(dir_, file_name[:-3] + 'pkl'))\n",
    "svd = pd.read_pickle(os.path.join(dir_, 'prediction_svd_top_N_' + file_name[:-3] + 'pkl'))\n",
    "test = pd.read_pickle(os.path.join(dir_, 'test_' + file_name[:-3] + 'pkl'))\n",
    "test.sort_values(by=['uid','tid'])\n",
    "\n",
    "num_user = len(svd['uid'].unique())\n",
    "num_user"
   ]
  },
  {
   "cell_type": "code",
   "execution_count": 8,
   "metadata": {},
   "outputs": [],
   "source": [
    "groups_n =[]\n",
    "group_sizes = ['2', '3', '4', '5', '6', '7', '8', '9', '10', '20']\n",
    "for i in range(len(group_sizes)):\n",
    "    groups = np.loadtxt(os.path.join(group_dir_, group_sizes[i] + '.csv'), delimiter=',')\n",
    "    groups_n.append(groups)"
   ]
  },
  {
   "cell_type": "code",
   "execution_count": 9,
   "metadata": {},
   "outputs": [
    {
     "data": {
      "text/html": [
       "<div>\n",
       "<style scoped>\n",
       "    .dataframe tbody tr th:only-of-type {\n",
       "        vertical-align: middle;\n",
       "    }\n",
       "\n",
       "    .dataframe tbody tr th {\n",
       "        vertical-align: top;\n",
       "    }\n",
       "\n",
       "    .dataframe thead th {\n",
       "        text-align: right;\n",
       "    }\n",
       "</style>\n",
       "<table border=\"1\" class=\"dataframe\">\n",
       "  <thead>\n",
       "    <tr style=\"text-align: right;\">\n",
       "      <th></th>\n",
       "      <th>uid</th>\n",
       "      <th>tid</th>\n",
       "      <th>rating</th>\n",
       "      <th>count</th>\n",
       "    </tr>\n",
       "  </thead>\n",
       "  <tbody>\n",
       "    <tr>\n",
       "      <th>0</th>\n",
       "      <td>0</td>\n",
       "      <td>3</td>\n",
       "      <td>2.544071</td>\n",
       "      <td>1</td>\n",
       "    </tr>\n",
       "    <tr>\n",
       "      <th>1</th>\n",
       "      <td>0</td>\n",
       "      <td>7</td>\n",
       "      <td>2.545822</td>\n",
       "      <td>1</td>\n",
       "    </tr>\n",
       "    <tr>\n",
       "      <th>2</th>\n",
       "      <td>0</td>\n",
       "      <td>18</td>\n",
       "      <td>2.152490</td>\n",
       "      <td>1</td>\n",
       "    </tr>\n",
       "    <tr>\n",
       "      <th>3</th>\n",
       "      <td>0</td>\n",
       "      <td>20</td>\n",
       "      <td>1.882396</td>\n",
       "      <td>1</td>\n",
       "    </tr>\n",
       "    <tr>\n",
       "      <th>4</th>\n",
       "      <td>0</td>\n",
       "      <td>31</td>\n",
       "      <td>2.410806</td>\n",
       "      <td>1</td>\n",
       "    </tr>\n",
       "  </tbody>\n",
       "</table>\n",
       "</div>"
      ],
      "text/plain": [
       "   uid  tid    rating  count\n",
       "0    0    3  2.544071      1\n",
       "1    0    7  2.545822      1\n",
       "2    0   18  2.152490      1\n",
       "3    0   20  1.882396      1\n",
       "4    0   31  2.410806      1"
      ]
     },
     "execution_count": 9,
     "metadata": {},
     "output_type": "execute_result"
    }
   ],
   "source": [
    "svd['count'] = 1\n",
    "svd[:5]"
   ]
  },
  {
   "cell_type": "code",
   "execution_count": 22,
   "metadata": {},
   "outputs": [],
   "source": [
    "# Count POP to DF\n",
    "tid_list = []\n",
    "pop_list = []\n",
    "for i in df['tid'].unique():\n",
    "    tid_list.append(i)\n",
    "    pop_list.append(len(df[df['tid']==i])/num_user*5)"
   ]
  },
  {
   "cell_type": "code",
   "execution_count": 24,
   "metadata": {},
   "outputs": [
    {
     "data": {
      "text/html": [
       "<div>\n",
       "<style scoped>\n",
       "    .dataframe tbody tr th:only-of-type {\n",
       "        vertical-align: middle;\n",
       "    }\n",
       "\n",
       "    .dataframe tbody tr th {\n",
       "        vertical-align: top;\n",
       "    }\n",
       "\n",
       "    .dataframe thead th {\n",
       "        text-align: right;\n",
       "    }\n",
       "</style>\n",
       "<table border=\"1\" class=\"dataframe\">\n",
       "  <thead>\n",
       "    <tr style=\"text-align: right;\">\n",
       "      <th></th>\n",
       "      <th>tid</th>\n",
       "      <th>rating</th>\n",
       "    </tr>\n",
       "  </thead>\n",
       "  <tbody>\n",
       "    <tr>\n",
       "      <th>166</th>\n",
       "      <td>166</td>\n",
       "      <td>3.840909</td>\n",
       "    </tr>\n",
       "    <tr>\n",
       "      <th>7209</th>\n",
       "      <td>7209</td>\n",
       "      <td>3.295455</td>\n",
       "    </tr>\n",
       "    <tr>\n",
       "      <th>350</th>\n",
       "      <td>350</td>\n",
       "      <td>3.113636</td>\n",
       "    </tr>\n",
       "    <tr>\n",
       "      <th>3761</th>\n",
       "      <td>3761</td>\n",
       "      <td>3.045455</td>\n",
       "    </tr>\n",
       "    <tr>\n",
       "      <th>80</th>\n",
       "      <td>80</td>\n",
       "      <td>3.022727</td>\n",
       "    </tr>\n",
       "    <tr>\n",
       "      <th>1017</th>\n",
       "      <td>1017</td>\n",
       "      <td>2.840909</td>\n",
       "    </tr>\n",
       "    <tr>\n",
       "      <th>1753</th>\n",
       "      <td>1753</td>\n",
       "      <td>2.750000</td>\n",
       "    </tr>\n",
       "    <tr>\n",
       "      <th>428</th>\n",
       "      <td>428</td>\n",
       "      <td>2.727273</td>\n",
       "    </tr>\n",
       "    <tr>\n",
       "      <th>200</th>\n",
       "      <td>200</td>\n",
       "      <td>2.681818</td>\n",
       "    </tr>\n",
       "    <tr>\n",
       "      <th>3159</th>\n",
       "      <td>3159</td>\n",
       "      <td>2.659091</td>\n",
       "    </tr>\n",
       "  </tbody>\n",
       "</table>\n",
       "</div>"
      ],
      "text/plain": [
       "       tid    rating\n",
       "166    166  3.840909\n",
       "7209  7209  3.295455\n",
       "350    350  3.113636\n",
       "3761  3761  3.045455\n",
       "80      80  3.022727\n",
       "1017  1017  2.840909\n",
       "1753  1753  2.750000\n",
       "428    428  2.727273\n",
       "200    200  2.681818\n",
       "3159  3159  2.659091"
      ]
     },
     "execution_count": 24,
     "metadata": {},
     "output_type": "execute_result"
    }
   ],
   "source": [
    "d = {'tid': tid_list, 'rating': pop_list}\n",
    "df_pop = pd.DataFrame(data=d)\n",
    "df_pop = df_pop.sort_values(by=['rating'], ascending=False)\n",
    "df_pop[:10]"
   ]
  },
  {
   "cell_type": "code",
   "execution_count": 25,
   "metadata": {},
   "outputs": [
    {
     "data": {
      "text/plain": [
       "[0.0, 0.1, 0.2, 0.3, 0.4, 0.5, 0.6, 0.7, 0.8, 0.9, 1.0]"
      ]
     },
     "execution_count": 25,
     "metadata": {},
     "output_type": "execute_result"
    }
   ],
   "source": [
    "lambdas = []\n",
    "for i in range(11):\n",
    "    lambdas.append(i/10)\n",
    "lambdas"
   ]
  },
  {
   "cell_type": "code",
   "execution_count": 32,
   "metadata": {},
   "outputs": [
    {
     "data": {
      "application/vnd.jupyter.widget-view+json": {
       "model_id": "dbc9dc40f2aa43588082c298e1abf4a1",
       "version_major": 2,
       "version_minor": 0
      },
      "text/plain": [
       "HBox(children=(FloatProgress(value=0.0, max=11.0), HTML(value='')))"
      ]
     },
     "metadata": {},
     "output_type": "display_data"
    },
    {
     "name": "stdout",
     "output_type": "stream",
     "text": [
      "[0.12329545454545453, 0.12800000000000003, 0.13830645161290328, 0.1395238095238096, 0.14531250000000004, 0.1417582417582417, 0.14437499999999998, 0.15277777777777776, 0.14500000000000007, 0.15750000000000003]\n",
      "[0.004545297236081259, 0.004181742468997168, 0.004139398092986096, 0.003903562077851153, 0.0038966450321182462, 0.003702269883295837, 0.0036029215216039885, 0.0035993772262537804, 0.0036912811527662266, 0.0033590761927304287]\n",
      "----------------------------------------\n",
      "[0.1650568181818182, 0.15700000000000006, 0.1616935483870968, 0.15714285714285717, 0.15833333333333335, 0.15714285714285708, 0.15812499999999996, 0.1645833333333334, 0.15437500000000007, 0.165]\n",
      "[0.00577188042826628, 0.004950206621855457, 0.0046638999900267, 0.004345983469432092, 0.004177678744798991, 0.004055277735479895, 0.003914343309820175, 0.003896888245228223, 0.0038910514318175695, 0.0035494387046834733]\n",
      "----------------------------------------\n",
      "[0.20028409090909086, 0.18533333333333338, 0.1846774193548387, 0.17428571428571432, 0.1770833333333333, 0.17252747252747247, 0.17812499999999992, 0.18124999999999997, 0.16562500000000005, 0.16874999999999998]\n",
      "[0.0065547512093122986, 0.005527321038082736, 0.005027048737615719, 0.004699549235333695, 0.004526051962445946, 0.0042358834277243925, 0.004340273306208743, 0.004151155344423764, 0.004161204240772752, 0.0035235022747053617]\n",
      "----------------------------------------\n",
      "[0.23238636363636375, 0.2113333333333334, 0.20766129032258063, 0.19428571428571434, 0.19531249999999992, 0.1857142857142857, 0.18687499999999996, 0.19652777777777777, 0.175, 0.17500000000000002]\n",
      "[0.007143622178248451, 0.005957272461797475, 0.005605741050781103, 0.005008170656049055, 0.004945548563990887, 0.00455870551846431, 0.004344599620842253, 0.004355662958821145, 0.004223288147709529, 0.0036050764783882696]\n",
      "----------------------------------------\n",
      "[0.24886363636363634, 0.2286666666666668, 0.22137096774193551, 0.20666666666666675, 0.20885416666666654, 0.19450549450549443, 0.19687499999999997, 0.2104166666666667, 0.18374999999999997, 0.195]\n",
      "[0.007375497918452941, 0.006101500514778235, 0.005634563406632355, 0.005245393535774154, 0.005000937053479229, 0.004563070982556469, 0.004486536167616439, 0.004504298350522507, 0.004359100733749054, 0.004012150395823466]\n",
      "----------------------------------------\n",
      "[0.2536931818181818, 0.23666666666666672, 0.22822580645161286, 0.20809523809523817, 0.21354166666666666, 0.19340659340659339, 0.20437499999999997, 0.2111111111111111, 0.18562499999999998, 0.19500000000000003]\n",
      "[0.00718518780387149, 0.005857630007682557, 0.005510328487425578, 0.005110522172999807, 0.004707803140770931, 0.004345013651600504, 0.004413567753583179, 0.004121782476771132, 0.004193924137606655, 0.00394987151460926]\n",
      "----------------------------------------\n",
      "[0.24943181818181825, 0.2310000000000001, 0.2205645161290323, 0.1952380952380952, 0.20260416666666678, 0.18076923076923085, 0.19187500000000005, 0.19652777777777775, 0.16375, 0.17124999999999999]\n",
      "[0.006993941462918432, 0.005586557792691195, 0.0050206196437549335, 0.0046649419888174035, 0.004268889491404901, 0.003854667841902982, 0.0037897315050115384, 0.0035120089772853313, 0.003517585420117013, 0.0032768279814695154]\n",
      "----------------------------------------\n",
      "[0.23778409090909092, 0.22066666666666682, 0.20322580645161298, 0.17333333333333337, 0.16770833333333338, 0.15769230769230771, 0.15000000000000005, 0.15000000000000005, 0.12874999999999998, 0.10124999999999999]\n",
      "[0.006689321926444804, 0.005264847827351118, 0.004418433034282711, 0.0038434885300985943, 0.00333966086907034, 0.0033109002245837564, 0.002846198566855896, 0.0025744561019899028, 0.002617489572687117, 0.0019366549302317498]\n",
      "----------------------------------------\n",
      "[0.22500000000000012, 0.20633333333333337, 0.1858870967741937, 0.15761904761904763, 0.14218750000000005, 0.11923076923076927, 0.12624999999999995, 0.11527777777777776, 0.10500000000000002, 0.06500000000000002]\n",
      "[0.006238926958098995, 0.004820548971430261, 0.0038583004403877972, 0.0035105570049615365, 0.002666596944767038, 0.0025035700097634315, 0.0024776436019392336, 0.0019942659772291416, 0.0020553864346920876, 0.0012344844802753892]\n",
      "----------------------------------------\n",
      "[0.19943181818181832, 0.1783333333333334, 0.16008064516129034, 0.14095238095238097, 0.10052083333333334, 0.09175824175824171, 0.09874999999999995, 0.08124999999999993, 0.08187499999999996, 0.04125000000000002]\n",
      "[0.0053951014909588944, 0.004247979794583086, 0.0033502613635933926, 0.0031738772638516643, 0.0018158366702487997, 0.0018670884178723225, 0.0018385165845528953, 0.0014605481668849255, 0.0016911686336672012, 0.0007467656208859598]\n",
      "----------------------------------------\n",
      "[0.15625000000000003, 0.1363333333333334, 0.12258064516129039, 0.09238095238095241, 0.06927083333333331, 0.06923076923076918, 0.07437499999999996, 0.06111111111111109, 0.049374999999999995, 0.02]\n",
      "[0.004012873627273306, 0.0032042645119175262, 0.0026540908742269556, 0.0018933454370003216, 0.0013220203865740674, 0.001373539467956621, 0.001396213597145967, 0.001103007463564293, 0.0009908621439977798, 0.0004060699625510275]\n",
      "----------------------------------------\n",
      "\n"
     ]
    }
   ],
   "source": [
    "for lambda_ in tqdm(lambdas):\n",
    "    top_n_size = 20\n",
    "    top_n_lists_g = []\n",
    "    for groups in groups_n:\n",
    "\n",
    "        group_size = len(groups[0])\n",
    "        top_n_lists = []\n",
    "\n",
    "        for group in groups:\n",
    "            rating_table = pd.DataFrame() \n",
    "            for member in group:\n",
    "                prediction = svd[svd['uid'] == member].copy()\n",
    "                if len(rating_table) == 0:\n",
    "                    rating_table = prediction\n",
    "                else:\n",
    "                    rating_table = rating_table.set_index('tid').add(prediction.set_index('tid'), fill_value=0).reset_index()\n",
    "            rating_table['rating'] /= group_size \n",
    "            rating_table['rating'] *= lambda_\n",
    "            pop = df_pop.copy()\n",
    "            pop['rating'] *= (1 - lambda_)\n",
    "            rating_table = rating_table.set_index('tid').add(pop.set_index('tid'), fill_value=0).reset_index()\n",
    "    #         rating_table = rating_table[rating_table['count'] == group_size]\n",
    "            rating_table = rating_table.sort_values(by=['rating'],  ascending=False)\n",
    "            rating_table = rating_table[:top_n_size]\n",
    "            top_n_list = []\n",
    "            for _, row in rating_table.iterrows():\n",
    "                top_n_list.append(row[0])\n",
    "            top_n_lists.append(top_n_list)\n",
    "        top_n_lists_g.append(top_n_lists)   \n",
    "        \n",
    "#     print('lambda = ' + str(lambda_))\n",
    "    threshold = 0.0\n",
    "    avg_precisions = []\n",
    "    avg_recalls = []\n",
    "    for i in range(len(groups_n)):\n",
    "        groups = groups_n[i]\n",
    "        top_n_lists = top_n_lists_g[i]\n",
    "\n",
    "        precisions = []\n",
    "        recalls = []\n",
    "        for j in (range(len(groups))):\n",
    "\n",
    "            group = groups[j]\n",
    "            top_n_list = top_n_lists[j]\n",
    "            \n",
    "            for k in range(len(group)):\n",
    "                high_rating = 0\n",
    "                for l in range(top_n_size):\n",
    "                    uid = group[k]\n",
    "                    tid = top_n_list[l]\n",
    "                    t = test[test['uid'] == uid]\n",
    "                    t = t[t['tid'] == tid]\n",
    "                    if len(t) > 0 and t.iloc[0]['rating'] > threshold:\n",
    "                        high_rating += 1\n",
    "\n",
    "                precision = high_rating / top_n_size\n",
    "                recall = high_rating / len(test[test['uid'] == uid])\n",
    "                precisions.append(precision)\n",
    "                recalls.append(recall)\n",
    "            \n",
    "\n",
    "        avg_precision = 0\n",
    "        for precision in precisions:\n",
    "            avg_precision += precision\n",
    "        avg_precision /= len(precisions)\n",
    "        avg_precisions.append(avg_precision)\n",
    "\n",
    "        avg_recall = 0\n",
    "        for recall in recalls:\n",
    "            avg_recall += recall\n",
    "        avg_recall /= len(recalls)\n",
    "        avg_recalls.append(avg_recall)\n",
    "        \n",
    "    print(avg_precisions)\n",
    "    print(avg_recalls)\n",
    "    print('----------------------------------------') \n",
    "#     print(sum(avg_precisions) / len(avg_precisions))\n",
    "#     print('----------------------------------------') "
   ]
  },
  {
   "cell_type": "code",
   "execution_count": null,
   "metadata": {},
   "outputs": [],
   "source": []
  },
  {
   "cell_type": "code",
   "execution_count": null,
   "metadata": {},
   "outputs": [],
   "source": []
  },
  {
   "cell_type": "code",
   "execution_count": 33,
   "metadata": {},
   "outputs": [],
   "source": [
    "def dcg_at_k(r, k, method=0):\n",
    "    r = np.asfarray(r)[:k]\n",
    "    for i in range(len(r)):\n",
    "        r[i] = 2**r[i] -1\n",
    "    \n",
    "    if r.size:\n",
    "        if method == 0:\n",
    "            return r[0] + np.sum(r[1:] / np.log2(np.arange(2, r.size + 1)))\n",
    "        elif method == 1:\n",
    "            return np.sum(r / np.log2(np.arange(2, r.size + 2)))\n",
    "        else:\n",
    "            raise ValueError('method must be 0 or 1.')\n",
    "    return 0.\n",
    "\n",
    "\n",
    "def ndcg_at_k(r, r_max, k, method=0):\n",
    "    dcg_max = dcg_at_k(r_max, k, method)\n",
    "    if not dcg_max:\n",
    "        return 0.\n",
    "    return dcg_at_k(r, k, method) / dcg_max"
   ]
  },
  {
   "cell_type": "code",
   "execution_count": 34,
   "metadata": {},
   "outputs": [
    {
     "data": {
      "application/vnd.jupyter.widget-view+json": {
       "model_id": "a8dbfa9aee9041edbea51434c9688f18",
       "version_major": 2,
       "version_minor": 0
      },
      "text/plain": [
       "HBox(children=(FloatProgress(value=0.0, max=11.0), HTML(value='')))"
      ]
     },
     "metadata": {},
     "output_type": "display_data"
    },
    {
     "name": "stdout",
     "output_type": "stream",
     "text": [
      "[0.06945229923832036, 0.07377537538929427, 0.08322373367743444, 0.08455851298979432, 0.08762453656296419, 0.08848822191085759, 0.09269564326682524, 0.09630597390591016, 0.09064031769078587, 0.09330996234314062]\n",
      "[0.08706279275977541, 0.08715425247885905, 0.09319286851244699, 0.09177293625243134, 0.09266231061365364, 0.0936561235128422, 0.09786757018014314, 0.10019038171538708, 0.09500453533557172, 0.0954470853090754]\n",
      "[0.10785881093596573, 0.10220363084089544, 0.10454866730346471, 0.09867511647949528, 0.10156641788170429, 0.10069441814848311, 0.10727319015559471, 0.10837575888797062, 0.09907528590648253, 0.09786963219577381]\n",
      "[0.12997733410906334, 0.12040104504217194, 0.1207119442079598, 0.1092250859490868, 0.11078209841442027, 0.10473574851988295, 0.11123536726833014, 0.11472693327500906, 0.10220904933124016, 0.10056120405009428]\n",
      "[0.13987703804748086, 0.12911563742326435, 0.12816090074101993, 0.11485422175810518, 0.11192539020247276, 0.10964357379083886, 0.12069602822971544, 0.12064985184415339, 0.10490302331165897, 0.10744737556530219]\n",
      "[0.13939282005390433, 0.1258564597206151, 0.1266515882979404, 0.11132111889391541, 0.11032334279974489, 0.10038153680071096, 0.11922594737317274, 0.11413735402531097, 0.09942536611338257, 0.10722329829875221]\n",
      "[0.13689269586959937, 0.11805755139458955, 0.11868560439637506, 0.0988186715860297, 0.09792880730915972, 0.08384078869663028, 0.10541474093324998, 0.09353171315106718, 0.0775724878602758, 0.08917086923885983]\n",
      "[0.12993389225652477, 0.11117389498752273, 0.10244289634828799, 0.08262718443298514, 0.07697922402791921, 0.06974948559563446, 0.07890340406935395, 0.0665242434649868, 0.05631023021103215, 0.051633298269742535]\n",
      "[0.12276933116528194, 0.1038000464815908, 0.0871576004823996, 0.07091363713967222, 0.05855228762781658, 0.0534848618753302, 0.06716020673587944, 0.04850593464431657, 0.040228818012012335, 0.0382033326655664]\n",
      "[0.10956783000661846, 0.09111994780429547, 0.07246143680596398, 0.05954824309457436, 0.04004307817572392, 0.041689827249190375, 0.055303110547602743, 0.030549754885713223, 0.027343935410555336, 0.01751704375365263]\n",
      "[0.08503180802072091, 0.06906292768770166, 0.05659621339852008, 0.037753314271295024, 0.0256839756999377, 0.028686897641938484, 0.03620300146406884, 0.018310578585424828, 0.018069483902091767, 0.010123510771136228]\n",
      "\n"
     ]
    }
   ],
   "source": [
    "for lambda_ in tqdm(lambdas):\n",
    "    top_n_lists_g = []\n",
    "    for groups in groups_n:\n",
    "\n",
    "        group_size = len(groups[0])\n",
    "        top_n_lists = []\n",
    "\n",
    "        for group in groups:\n",
    "            rating_table = pd.DataFrame() \n",
    "            for member in group:\n",
    "                prediction = svd[svd['uid'] == member].copy()\n",
    "                if len(rating_table) == 0:\n",
    "                    rating_table = prediction\n",
    "                else:\n",
    "                    rating_table = rating_table.set_index('tid').add(prediction.set_index('tid'), fill_value=0).reset_index()\n",
    "            rating_table['rating'] /= group_size \n",
    "            rating_table['rating'] *= lambda_\n",
    "            pop = df_pop.copy()\n",
    "            pop['rating'] *= (1 - lambda_)\n",
    "            rating_table = rating_table.set_index('tid').add(pop.set_index('tid'), fill_value=0).reset_index()\n",
    "    #         rating_table = rating_table[rating_table['count'] == group_size]\n",
    "            rating_table = rating_table.sort_values(by=['rating'],  ascending=False)\n",
    "            rating_table = rating_table[:top_n_size]\n",
    "            top_n_list = []\n",
    "            for _, row in rating_table.iterrows():\n",
    "                top_n_list.append(row[0])\n",
    "            top_n_lists.append(top_n_list)\n",
    "        top_n_lists_g.append(top_n_lists)   \n",
    "        \n",
    "#     print('lambda = ' + str(lambda_))\n",
    "    threshold = 0.0\n",
    "    avg_nDCGs = []\n",
    "    for i in range(len(groups_n)):\n",
    "        groups = groups_n[i]\n",
    "        top_n_lists = top_n_lists_g[i]\n",
    "\n",
    "        nDCGs = []\n",
    "        for j in (range(len(groups))):\n",
    "\n",
    "            group = groups[j]\n",
    "            top_n_list = top_n_lists[j]\n",
    "            \n",
    "            for k in range(len(group)):\n",
    "                truth_rating = []\n",
    "                uid = group[k]\n",
    "                for l in range(top_n_size):\n",
    "                    tid = top_n_list[l]\n",
    "                    t = test[test['uid'] == uid]\n",
    "                    t = t[t['tid'] == tid]\n",
    "                    if len(t) > 0:\n",
    "                        truth_rating.append(t.iloc[0]['rating'])\n",
    "                    else:\n",
    "                        truth_rating.append(0)\n",
    "                max_rating = test[test['uid']==uid].sort_values(by=['rating'],  ascending=False)['rating'].values[:top_n_size]\n",
    "                nDCG = ndcg_at_k(truth_rating, max_rating, top_n_size, method=1)\n",
    "                nDCGs.append(nDCG)  \n",
    "                \n",
    "        avg_nDCG = 0\n",
    "        for nDCG in nDCGs:\n",
    "            avg_nDCG += nDCG\n",
    "        avg_nDCG /= len(nDCGs)\n",
    "        avg_nDCGs.append(avg_nDCG)\n",
    "        \n",
    "    print(avg_nDCGs)\n",
    "#     print('----------------------------------------') "
   ]
  },
  {
   "cell_type": "code",
   "execution_count": null,
   "metadata": {},
   "outputs": [],
   "source": []
  },
  {
   "cell_type": "code",
   "execution_count": null,
   "metadata": {},
   "outputs": [],
   "source": []
  }
 ],
 "metadata": {
  "kernelspec": {
   "display_name": "Python 3",
   "language": "python",
   "name": "python3"
  },
  "language_info": {
   "codemirror_mode": {
    "name": "ipython",
    "version": 3
   },
   "file_extension": ".py",
   "mimetype": "text/x-python",
   "name": "python",
   "nbconvert_exporter": "python",
   "pygments_lexer": "ipython3",
   "version": "3.6.10"
  }
 },
 "nbformat": 4,
 "nbformat_minor": 4
}
