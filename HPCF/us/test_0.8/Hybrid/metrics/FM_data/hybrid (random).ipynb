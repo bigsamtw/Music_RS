{
 "cells": [
  {
   "cell_type": "code",
   "execution_count": 1,
   "metadata": {},
   "outputs": [],
   "source": [
    "import os \n",
    "import math\n",
    "import random\n",
    "import numpy as np\n",
    "import pandas as pd\n",
    "from tqdm.notebook import tqdm\n",
    "from numpy import count_nonzero\n",
    "\n",
    "dir_ = '../../../data/FM_data/'\n",
    "group_dir_ = '../../../data/FM_data/groups/random'"
   ]
  },
  {
   "cell_type": "code",
   "execution_count": 2,
   "metadata": {},
   "outputs": [
    {
     "data": {
      "text/plain": [
       "218"
      ]
     },
     "execution_count": 2,
     "metadata": {},
     "output_type": "execute_result"
    }
   ],
   "source": [
    "file_name = 'normalized_to_rating_filter_track_5_user_50.csv'\n",
    "df = pd.read_pickle(os.path.join(dir_, file_name[:-3] + 'pkl'))\n",
    "svd = pd.read_pickle(os.path.join(dir_, 'prediction_svd_top_N_' + file_name[:-3] + 'pkl'))\n",
    "test = pd.read_pickle(os.path.join(dir_, 'test_' + file_name[:-3] + 'pkl'))\n",
    "test.sort_values(by=['uid','tid'])\n",
    "\n",
    "num_user = len(svd['uid'].unique())\n",
    "num_user"
   ]
  },
  {
   "cell_type": "code",
   "execution_count": 3,
   "metadata": {},
   "outputs": [],
   "source": [
    "groups_n =[]\n",
    "group_sizes = ['2', '3', '4', '5', '6', '7', '8', '9', '10', '20']\n",
    "for i in range(len(group_sizes)):\n",
    "    groups = np.loadtxt(os.path.join(group_dir_, group_sizes[i] + '.csv'), delimiter=',')\n",
    "    groups_n.append(groups)"
   ]
  },
  {
   "cell_type": "code",
   "execution_count": 4,
   "metadata": {},
   "outputs": [
    {
     "data": {
      "text/html": [
       "<div>\n",
       "<style scoped>\n",
       "    .dataframe tbody tr th:only-of-type {\n",
       "        vertical-align: middle;\n",
       "    }\n",
       "\n",
       "    .dataframe tbody tr th {\n",
       "        vertical-align: top;\n",
       "    }\n",
       "\n",
       "    .dataframe thead th {\n",
       "        text-align: right;\n",
       "    }\n",
       "</style>\n",
       "<table border=\"1\" class=\"dataframe\">\n",
       "  <thead>\n",
       "    <tr style=\"text-align: right;\">\n",
       "      <th></th>\n",
       "      <th>uid</th>\n",
       "      <th>tid</th>\n",
       "      <th>rating</th>\n",
       "      <th>count</th>\n",
       "    </tr>\n",
       "  </thead>\n",
       "  <tbody>\n",
       "    <tr>\n",
       "      <th>0</th>\n",
       "      <td>0</td>\n",
       "      <td>2</td>\n",
       "      <td>2.154104</td>\n",
       "      <td>1</td>\n",
       "    </tr>\n",
       "    <tr>\n",
       "      <th>1</th>\n",
       "      <td>0</td>\n",
       "      <td>14</td>\n",
       "      <td>2.175915</td>\n",
       "      <td>1</td>\n",
       "    </tr>\n",
       "    <tr>\n",
       "      <th>2</th>\n",
       "      <td>0</td>\n",
       "      <td>15</td>\n",
       "      <td>2.244578</td>\n",
       "      <td>1</td>\n",
       "    </tr>\n",
       "    <tr>\n",
       "      <th>3</th>\n",
       "      <td>0</td>\n",
       "      <td>20</td>\n",
       "      <td>2.275416</td>\n",
       "      <td>1</td>\n",
       "    </tr>\n",
       "    <tr>\n",
       "      <th>4</th>\n",
       "      <td>0</td>\n",
       "      <td>21</td>\n",
       "      <td>2.088449</td>\n",
       "      <td>1</td>\n",
       "    </tr>\n",
       "  </tbody>\n",
       "</table>\n",
       "</div>"
      ],
      "text/plain": [
       "   uid  tid    rating  count\n",
       "0    0    2  2.154104      1\n",
       "1    0   14  2.175915      1\n",
       "2    0   15  2.244578      1\n",
       "3    0   20  2.275416      1\n",
       "4    0   21  2.088449      1"
      ]
     },
     "execution_count": 4,
     "metadata": {},
     "output_type": "execute_result"
    }
   ],
   "source": [
    "svd['count'] = 1\n",
    "svd[:5]"
   ]
  },
  {
   "cell_type": "code",
   "execution_count": 5,
   "metadata": {},
   "outputs": [],
   "source": [
    "# Count POP to DF\n",
    "tid_list = []\n",
    "pop_list = []\n",
    "for i in df['tid'].unique():\n",
    "    tid_list.append(i)\n",
    "    pop_list.append(len(df[df['tid']==i])/num_user*5)"
   ]
  },
  {
   "cell_type": "code",
   "execution_count": 6,
   "metadata": {},
   "outputs": [
    {
     "data": {
      "text/html": [
       "<div>\n",
       "<style scoped>\n",
       "    .dataframe tbody tr th:only-of-type {\n",
       "        vertical-align: middle;\n",
       "    }\n",
       "\n",
       "    .dataframe tbody tr th {\n",
       "        vertical-align: top;\n",
       "    }\n",
       "\n",
       "    .dataframe thead th {\n",
       "        text-align: right;\n",
       "    }\n",
       "</style>\n",
       "<table border=\"1\" class=\"dataframe\">\n",
       "  <thead>\n",
       "    <tr style=\"text-align: right;\">\n",
       "      <th></th>\n",
       "      <th>tid</th>\n",
       "      <th>rating</th>\n",
       "    </tr>\n",
       "  </thead>\n",
       "  <tbody>\n",
       "    <tr>\n",
       "      <th>9147</th>\n",
       "      <td>9147</td>\n",
       "      <td>2.064220</td>\n",
       "    </tr>\n",
       "    <tr>\n",
       "      <th>55</th>\n",
       "      <td>55</td>\n",
       "      <td>2.064220</td>\n",
       "    </tr>\n",
       "    <tr>\n",
       "      <th>6190</th>\n",
       "      <td>6190</td>\n",
       "      <td>2.018349</td>\n",
       "    </tr>\n",
       "    <tr>\n",
       "      <th>555</th>\n",
       "      <td>555</td>\n",
       "      <td>1.972477</td>\n",
       "    </tr>\n",
       "    <tr>\n",
       "      <th>1388</th>\n",
       "      <td>1388</td>\n",
       "      <td>1.972477</td>\n",
       "    </tr>\n",
       "    <tr>\n",
       "      <th>3825</th>\n",
       "      <td>3825</td>\n",
       "      <td>1.949541</td>\n",
       "    </tr>\n",
       "    <tr>\n",
       "      <th>1360</th>\n",
       "      <td>1360</td>\n",
       "      <td>1.949541</td>\n",
       "    </tr>\n",
       "    <tr>\n",
       "      <th>48</th>\n",
       "      <td>48</td>\n",
       "      <td>1.949541</td>\n",
       "    </tr>\n",
       "    <tr>\n",
       "      <th>355</th>\n",
       "      <td>355</td>\n",
       "      <td>1.949541</td>\n",
       "    </tr>\n",
       "    <tr>\n",
       "      <th>5935</th>\n",
       "      <td>5935</td>\n",
       "      <td>1.880734</td>\n",
       "    </tr>\n",
       "  </tbody>\n",
       "</table>\n",
       "</div>"
      ],
      "text/plain": [
       "       tid    rating\n",
       "9147  9147  2.064220\n",
       "55      55  2.064220\n",
       "6190  6190  2.018349\n",
       "555    555  1.972477\n",
       "1388  1388  1.972477\n",
       "3825  3825  1.949541\n",
       "1360  1360  1.949541\n",
       "48      48  1.949541\n",
       "355    355  1.949541\n",
       "5935  5935  1.880734"
      ]
     },
     "execution_count": 6,
     "metadata": {},
     "output_type": "execute_result"
    }
   ],
   "source": [
    "d = {'tid': tid_list, 'rating': pop_list}\n",
    "df_pop = pd.DataFrame(data=d)\n",
    "df_pop = df_pop.sort_values(by=['rating'], ascending=False)\n",
    "df_pop[:10]"
   ]
  },
  {
   "cell_type": "code",
   "execution_count": 7,
   "metadata": {},
   "outputs": [
    {
     "data": {
      "text/plain": [
       "[0.0, 0.1, 0.2, 0.3, 0.4, 0.5, 0.6, 0.7, 0.8, 0.9, 1.0]"
      ]
     },
     "execution_count": 7,
     "metadata": {},
     "output_type": "execute_result"
    }
   ],
   "source": [
    "lambdas = []\n",
    "for i in range(11):\n",
    "    lambdas.append(i/10)\n",
    "lambdas"
   ]
  },
  {
   "cell_type": "code",
   "execution_count": 12,
   "metadata": {},
   "outputs": [
    {
     "data": {
      "application/vnd.jupyter.widget-view+json": {
       "model_id": "b50066da4d0544ab9f9687c57dbe308a",
       "version_major": 2,
       "version_minor": 0
      },
      "text/plain": [
       "HBox(children=(FloatProgress(value=0.0, max=11.0), HTML(value='')))"
      ]
     },
     "metadata": {},
     "output_type": "display_data"
    },
    {
     "name": "stdout",
     "output_type": "stream",
     "text": [
      "\n"
     ]
    }
   ],
   "source": [
    "p_list = []\n",
    "r_list = []\n",
    "for lambda_ in tqdm(lambdas):\n",
    "    top_n_size = 4\n",
    "    top_n_lists_g = []\n",
    "    for groups in groups_n:\n",
    "\n",
    "        group_size = len(groups[0])\n",
    "        top_n_lists = []\n",
    "\n",
    "        for group in groups:\n",
    "            rating_table = pd.DataFrame() \n",
    "            for member in group:\n",
    "                prediction = svd[svd['uid'] == member].copy()\n",
    "                if len(rating_table) == 0:\n",
    "                    rating_table = prediction\n",
    "                else:\n",
    "                    rating_table = rating_table.set_index('tid').add(prediction.set_index('tid'), fill_value=0).reset_index()\n",
    "            rating_table['rating'] /= group_size \n",
    "            rating_table['rating'] *= lambda_\n",
    "            pop = df_pop.copy()\n",
    "            pop['rating'] *= (1 - lambda_)\n",
    "            rating_table = rating_table.set_index('tid').add(pop.set_index('tid'), fill_value=0).reset_index()\n",
    "    #         rating_table = rating_table[rating_table['count'] == group_size]\n",
    "            rating_table = rating_table.sort_values(by=['rating'],  ascending=False)\n",
    "            rating_table = rating_table[:top_n_size]\n",
    "            top_n_list = []\n",
    "            for _, row in rating_table.iterrows():\n",
    "                top_n_list.append(row[0])\n",
    "            top_n_lists.append(top_n_list)\n",
    "        top_n_lists_g.append(top_n_lists)   \n",
    "        \n",
    "    threshold = 0.0\n",
    "    avg_precisions = []\n",
    "    avg_recalls = []\n",
    "    for i in range(len(groups_n)):\n",
    "        groups = groups_n[i]\n",
    "        top_n_lists = top_n_lists_g[i]\n",
    "\n",
    "        precisions = []\n",
    "        recalls = []\n",
    "        for j in (range(len(groups))):\n",
    "\n",
    "            group = groups[j]\n",
    "            top_n_list = top_n_lists[j]\n",
    "            \n",
    "            for k in range(len(group)):\n",
    "                high_rating = 0\n",
    "                for l in range(top_n_size):\n",
    "                    uid = group[k]\n",
    "                    tid = top_n_list[l]\n",
    "                    t = test[test['uid'] == uid]\n",
    "                    t = t[t['tid'] == tid]\n",
    "                    if len(t) > 0 and t.iloc[0]['rating'] > threshold:\n",
    "                        high_rating += 1\n",
    "\n",
    "                precision = high_rating / top_n_size\n",
    "                recall = high_rating / len(test[test['uid'] == uid])\n",
    "                precisions.append(precision)\n",
    "                recalls.append(recall)\n",
    "            \n",
    "\n",
    "        avg_precision = 0\n",
    "        for precision in precisions:\n",
    "            avg_precision += precision\n",
    "        avg_precision /= len(precisions)\n",
    "        avg_precisions.append(avg_precision)\n",
    "\n",
    "        avg_recall = 0\n",
    "        for recall in recalls:\n",
    "            avg_recall += recall\n",
    "        avg_recall /= len(recalls)\n",
    "        avg_recalls.append(avg_recall)\n",
    "        \n",
    "#     print(avg_precisions)\n",
    "#     print(avg_recalls)\n",
    "    p_list.append(avg_precisions)\n",
    "    r_list.append(avg_recalls)"
   ]
  },
  {
   "cell_type": "code",
   "execution_count": 13,
   "metadata": {},
   "outputs": [
    {
     "name": "stdout",
     "output_type": "stream",
     "text": [
      "[0.08142201834862385, 0.0798611111111111, 0.08217592592592593, 0.08255813953488372, 0.08217592592592593, 0.08064516129032258, 0.08101851851851852, 0.0798611111111111, 0.07738095238095238, 0.07875]\n",
      "[0.1341743119266055, 0.11342592592592593, 0.1111111111111111, 0.1, 0.10069444444444445, 0.08986175115207373, 0.09722222222222222, 0.09259259259259259, 0.09285714285714286, 0.07875]\n",
      "[0.17889908256880735, 0.15393518518518517, 0.13541666666666666, 0.13488372093023257, 0.11805555555555555, 0.11405529953917051, 0.11226851851851852, 0.1111111111111111, 0.10238095238095238, 0.08375]\n",
      "[0.18577981651376146, 0.1724537037037037, 0.16666666666666666, 0.15232558139534882, 0.14814814814814814, 0.14400921658986174, 0.13425925925925927, 0.13194444444444445, 0.12380952380952381, 0.095]\n",
      "[0.18922018348623854, 0.1840277777777778, 0.18055555555555555, 0.16511627906976745, 0.16898148148148148, 0.1497695852534562, 0.14583333333333334, 0.14351851851851852, 0.13452380952380952, 0.10625]\n",
      "[0.1915137614678899, 0.1875, 0.18171296296296297, 0.16395348837209303, 0.17476851851851852, 0.16013824884792627, 0.14699074074074073, 0.15162037037037038, 0.13333333333333333, 0.11125]\n",
      "[0.18692660550458715, 0.1875, 0.17708333333333334, 0.1569767441860465, 0.16435185185185186, 0.16244239631336405, 0.14467592592592593, 0.1412037037037037, 0.12380952380952381, 0.11875]\n",
      "[0.1834862385321101, 0.1840277777777778, 0.1701388888888889, 0.1558139534883721, 0.16087962962962962, 0.15552995391705068, 0.13773148148148148, 0.12731481481481483, 0.10952380952380952, 0.1075]\n",
      "[0.1731651376146789, 0.17824074074074073, 0.1527777777777778, 0.15348837209302327, 0.15393518518518517, 0.14861751152073732, 0.12268518518518519, 0.1261574074074074, 0.09761904761904762, 0.08625]\n",
      "[0.16399082568807338, 0.16319444444444445, 0.125, 0.14883720930232558, 0.13657407407407407, 0.1336405529953917, 0.11689814814814815, 0.11458333333333333, 0.08333333333333333, 0.06875]\n",
      "[0.11238532110091744, 0.11342592592592593, 0.08449074074074074, 0.08488372093023255, 0.08217592592592593, 0.08640552995391705, 0.06597222222222222, 0.07523148148148148, 0.04642857142857143, 0.03]\n",
      "[0.001235747537877941, 0.001236878665579565, 0.0012471896447101439, 0.0012529905267785629, 0.0012471896447101435, 0.0012017155465540027, 0.0012433948663252013, 0.0011742820914876298, 0.001102608356142518, 0.0012937554128989372]\n",
      "[0.001654709394419874, 0.0013285985279706506, 0.0015664734931661877, 0.0013014082281070313, 0.0014226916493552397, 0.0010801403056459806, 0.00132248458204605, 0.0011286611784658502, 0.0012670774245546496, 0.0012636856888672417]\n",
      "[0.0020622859670056505, 0.001875601713883017, 0.0016373223145998163, 0.001575156547461946, 0.00157452546247821, 0.0013134208636149116, 0.0014309531289887184, 0.0015290806297279674, 0.0012990790048619716, 0.001291359691451046]\n",
      "[0.002081451277909594, 0.0020145127784337736, 0.0020021975935776907, 0.0018738491032765398, 0.001838898480544886, 0.0015550381475118152, 0.0015930279324353857, 0.0017776293959800358, 0.0014304326720473927, 0.0013444703884655876]\n",
      "[0.002198421941293426, 0.0019979989557974732, 0.002115267558412081, 0.0017471983322652337, 0.0020481190442673456, 0.0013833305799173256, 0.001827258517014371, 0.001988679647251897, 0.0015102026389097285, 0.0013593784085545475]\n",
      "[0.0022917191511231754, 0.0019903932433339845, 0.0021411979977557474, 0.0018731897667482623, 0.001989102517745714, 0.0015522009282954868, 0.0017532306408438508, 0.0019231001728567418, 0.001469857920527687, 0.0013694352737781996]\n",
      "[0.0020899984419645765, 0.002007241771513377, 0.002081531076285494, 0.0017413125424429836, 0.0017135729131323202, 0.0013877782802649385, 0.0011792180995733228, 0.001753524139646438, 0.001178272576913761, 0.0014133124055885704]\n",
      "[0.0022421813329683636, 0.0019513680274072449, 0.0020903605560313515, 0.0018053597922865245, 0.0017727029938411883, 0.0012692710395669092, 0.001241739581821107, 0.001572954619101446, 0.0009202372221157584, 0.001021890324085457]\n",
      "[0.002109965918832152, 0.0019556687997662253, 0.001724470713532922, 0.0017356062272420088, 0.0016270743395019613, 0.001155957711998789, 0.0010534094892717843, 0.001499758559572048, 0.0008194646269965833, 0.0006864801032100202]\n",
      "[0.0017193248724415272, 0.002007814204290769, 0.0014742010373388708, 0.0015940209890911714, 0.0013145191786587762, 0.0012785989414804588, 0.0010481250894664234, 0.0012508310407341671, 0.0007564294676628562, 0.0005246426342120795]\n",
      "[0.0013163179463505457, 0.0012771433537011106, 0.0010477199635147683, 0.001195751451263977, 0.000666920272836146, 0.0008839506981159873, 0.0005221736940749415, 0.000930178493467778, 0.00041707629713041706, 0.00029936025163464447]\n"
     ]
    }
   ],
   "source": [
    "for i in p_list:\n",
    "    print(i)\n",
    "\n",
    "for i in r_list:\n",
    "    print(i)"
   ]
  },
  {
   "cell_type": "code",
   "execution_count": 14,
   "metadata": {},
   "outputs": [],
   "source": [
    "def dcg_at_k(r, k, method=0):\n",
    "    r = np.asfarray(r)[:k]\n",
    "    for i in range(len(r)):\n",
    "        r[i] = 2**r[i] -1\n",
    "    \n",
    "    if r.size:\n",
    "        if method == 0:\n",
    "            return r[0] + np.sum(r[1:] / np.log2(np.arange(2, r.size + 1)))\n",
    "        elif method == 1:\n",
    "            return np.sum(r / np.log2(np.arange(2, r.size + 2)))\n",
    "        else:\n",
    "            raise ValueError('method must be 0 or 1.')\n",
    "    return 0.\n",
    "\n",
    "\n",
    "def ndcg_at_k(r, r_max, k, method=0):\n",
    "    dcg_max = dcg_at_k(r_max, k, method)\n",
    "    if not dcg_max:\n",
    "        return 0.\n",
    "    return dcg_at_k(r, k, method) / dcg_max"
   ]
  },
  {
   "cell_type": "code",
   "execution_count": 15,
   "metadata": {},
   "outputs": [
    {
     "data": {
      "application/vnd.jupyter.widget-view+json": {
       "model_id": "0b11829d01f6415cb7c11b1cb1aba704",
       "version_major": 2,
       "version_minor": 0
      },
      "text/plain": [
       "HBox(children=(FloatProgress(value=0.0, max=11.0), HTML(value='')))"
      ]
     },
     "metadata": {},
     "output_type": "display_data"
    },
    {
     "name": "stdout",
     "output_type": "stream",
     "text": [
      "[0.029788248672997543, 0.02974370114951184, 0.03006406579034011, 0.030203898654481226, 0.030064065790340114, 0.02982486412491986, 0.02825675074408038, 0.02891826152025805, 0.027605448775948612, 0.02970611151596492]\n",
      "[0.056230418746284636, 0.04549985689774922, 0.04377933694921529, 0.03819245760950999, 0.03717628405027557, 0.03521572291581658, 0.03859813907326651, 0.038213572641752305, 0.03211331947916937, 0.028327851963411095]\n",
      "[0.0829749382938107, 0.06682683617896096, 0.061556365932567386, 0.05822018410034251, 0.05023264311932121, 0.042724809831259515, 0.04839917665070716, 0.04569584465155406, 0.03442569224972508, 0.03213773116244926]\n",
      "[0.08515893348821257, 0.0797401142427753, 0.07415011439460564, 0.06712251483802643, 0.06672478742508886, 0.055212240110309035, 0.059020409691273285, 0.05627422951337218, 0.04733197048073421, 0.03295821956796204]\n",
      "[0.08575406565258653, 0.08664846329878052, 0.07996582582921224, 0.07444634639735517, 0.07454015917510334, 0.06284456509193748, 0.06458542661943675, 0.06183800862793418, 0.05826388179903871, 0.04242680777443214]\n",
      "[0.08872599579682408, 0.08727876577528565, 0.07906271422523785, 0.07611021214385781, 0.0799372056418681, 0.06827482817501475, 0.06426882901620924, 0.0656889214274525, 0.06230503028559286, 0.04434179384895045]\n",
      "[0.08773987473549394, 0.08582482710289098, 0.07852577318697689, 0.08067261809278797, 0.07720822073097366, 0.06825399133467622, 0.061289570667053005, 0.06333382483510781, 0.06226488784348286, 0.050588106451688486]\n",
      "[0.0896315603407288, 0.08730088568571073, 0.07779205702887729, 0.08235759243054332, 0.07792644597736154, 0.06522581365343687, 0.058546619790555116, 0.05700936701183991, 0.05498411404106269, 0.043484584432170834]\n",
      "[0.08713991083758635, 0.08670151396644322, 0.07040746883869523, 0.08386825076586632, 0.07569527125269238, 0.06429861264730098, 0.053215726935985315, 0.05665341259719501, 0.04386863557499926, 0.03905252339652119]\n",
      "[0.08210593252789286, 0.08345653237654824, 0.060193014933323574, 0.0796658606590405, 0.06808169551647097, 0.06221437249422678, 0.05193477749712204, 0.0557421471478892, 0.041472280967470965, 0.029314803376693583]\n",
      "[0.05406572747102774, 0.04715266814910023, 0.03939027905933332, 0.04350849147738747, 0.039225187844912454, 0.03613829656103508, 0.0236179090525411, 0.034869466827770285, 0.023280743797986808, 0.010725936502628455]\n",
      "\n"
     ]
    }
   ],
   "source": [
    "for lambda_ in tqdm(lambdas):\n",
    "    top_n_lists_g = []\n",
    "    for groups in groups_n:\n",
    "\n",
    "        group_size = len(groups[0])\n",
    "        top_n_lists = []\n",
    "\n",
    "        for group in groups:\n",
    "            rating_table = pd.DataFrame() \n",
    "            for member in group:\n",
    "                prediction = svd[svd['uid'] == member].copy()\n",
    "                if len(rating_table) == 0:\n",
    "                    rating_table = prediction\n",
    "                else:\n",
    "                    rating_table = rating_table.set_index('tid').add(prediction.set_index('tid'), fill_value=0).reset_index()\n",
    "            rating_table['rating'] /= group_size \n",
    "            rating_table['rating'] *= lambda_\n",
    "            pop = df_pop.copy()\n",
    "            pop['rating'] *= (1 - lambda_)\n",
    "            rating_table = rating_table.set_index('tid').add(pop.set_index('tid'), fill_value=0).reset_index()\n",
    "    #         rating_table = rating_table[rating_table['count'] == group_size]\n",
    "            rating_table = rating_table.sort_values(by=['rating'],  ascending=False)\n",
    "            rating_table = rating_table[:top_n_size]\n",
    "            top_n_list = []\n",
    "            for _, row in rating_table.iterrows():\n",
    "                top_n_list.append(row[0])\n",
    "            top_n_lists.append(top_n_list)\n",
    "        top_n_lists_g.append(top_n_lists)   \n",
    "        \n",
    "#     print('lambda = ' + str(lambda_))\n",
    "    threshold = 0.0\n",
    "    avg_nDCGs = []\n",
    "    for i in range(len(groups_n)):\n",
    "        groups = groups_n[i]\n",
    "        top_n_lists = top_n_lists_g[i]\n",
    "\n",
    "        nDCGs = []\n",
    "        for j in (range(len(groups))):\n",
    "\n",
    "            group = groups[j]\n",
    "            top_n_list = top_n_lists[j]\n",
    "            \n",
    "            for k in range(len(group)):\n",
    "                truth_rating = []\n",
    "                uid = group[k]\n",
    "                for l in range(top_n_size):\n",
    "                    tid = top_n_list[l]\n",
    "                    t = test[test['uid'] == uid]\n",
    "                    t = t[t['tid'] == tid]\n",
    "                    if len(t) > 0:\n",
    "                        truth_rating.append(t.iloc[0]['rating'])\n",
    "                    else:\n",
    "                        truth_rating.append(0)\n",
    "                max_rating = test[test['uid']==uid].sort_values(by=['rating'],  ascending=False)['rating'].values[:top_n_size]\n",
    "                nDCG = ndcg_at_k(truth_rating, max_rating, top_n_size, method=1)\n",
    "                nDCGs.append(nDCG)  \n",
    "                \n",
    "        avg_nDCG = 0\n",
    "        for nDCG in nDCGs:\n",
    "            avg_nDCG += nDCG\n",
    "        avg_nDCG /= len(nDCGs)\n",
    "        avg_nDCGs.append(avg_nDCG)\n",
    "        \n",
    "    print(avg_nDCGs)\n",
    "#     print('----------------------------------------') "
   ]
  },
  {
   "cell_type": "code",
   "execution_count": null,
   "metadata": {},
   "outputs": [],
   "source": []
  },
  {
   "cell_type": "code",
   "execution_count": null,
   "metadata": {},
   "outputs": [],
   "source": []
  }
 ],
 "metadata": {
  "kernelspec": {
   "display_name": "Python 3",
   "language": "python",
   "name": "python3"
  },
  "language_info": {
   "codemirror_mode": {
    "name": "ipython",
    "version": 3
   },
   "file_extension": ".py",
   "mimetype": "text/x-python",
   "name": "python",
   "nbconvert_exporter": "python",
   "pygments_lexer": "ipython3",
   "version": "3.6.10"
  }
 },
 "nbformat": 4,
 "nbformat_minor": 4
}
