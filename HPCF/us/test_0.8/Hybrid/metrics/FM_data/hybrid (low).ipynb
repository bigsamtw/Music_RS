{
 "cells": [
  {
   "cell_type": "code",
   "execution_count": 1,
   "metadata": {},
   "outputs": [],
   "source": [
    "import os \n",
    "import math\n",
    "import random\n",
    "import numpy as np\n",
    "import pandas as pd\n",
    "from tqdm.notebook import tqdm\n",
    "from numpy import count_nonzero\n",
    "\n",
    "dir_ = '../../../data/FM_data/'\n",
    "group_dir_ = '../../../data/FM_data/groups/low'"
   ]
  },
  {
   "cell_type": "code",
   "execution_count": 2,
   "metadata": {},
   "outputs": [
    {
     "data": {
      "text/plain": [
       "218"
      ]
     },
     "execution_count": 2,
     "metadata": {},
     "output_type": "execute_result"
    }
   ],
   "source": [
    "file_name = 'normalized_to_rating_filter_track_5_user_50.csv'\n",
    "df = pd.read_pickle(os.path.join(dir_, file_name[:-3] + 'pkl'))\n",
    "svd = pd.read_pickle(os.path.join(dir_, 'prediction_svd_top_N_' + file_name[:-3] + 'pkl'))\n",
    "test = pd.read_pickle(os.path.join(dir_, 'test_' + file_name[:-3] + 'pkl'))\n",
    "test.sort_values(by=['uid','tid'])\n",
    "\n",
    "num_user = len(svd['uid'].unique())\n",
    "num_user"
   ]
  },
  {
   "cell_type": "code",
   "execution_count": 3,
   "metadata": {},
   "outputs": [],
   "source": [
    "groups_n =[]\n",
    "group_sizes = ['2', '3', '4', '5', '6', '7', '8']\n",
    "for i in range(len(group_sizes)):\n",
    "    groups = np.loadtxt(os.path.join(group_dir_, group_sizes[i] + '.csv'), delimiter=',')\n",
    "    groups_n.append(groups)"
   ]
  },
  {
   "cell_type": "code",
   "execution_count": 4,
   "metadata": {},
   "outputs": [
    {
     "data": {
      "text/html": [
       "<div>\n",
       "<style scoped>\n",
       "    .dataframe tbody tr th:only-of-type {\n",
       "        vertical-align: middle;\n",
       "    }\n",
       "\n",
       "    .dataframe tbody tr th {\n",
       "        vertical-align: top;\n",
       "    }\n",
       "\n",
       "    .dataframe thead th {\n",
       "        text-align: right;\n",
       "    }\n",
       "</style>\n",
       "<table border=\"1\" class=\"dataframe\">\n",
       "  <thead>\n",
       "    <tr style=\"text-align: right;\">\n",
       "      <th></th>\n",
       "      <th>uid</th>\n",
       "      <th>tid</th>\n",
       "      <th>rating</th>\n",
       "      <th>count</th>\n",
       "    </tr>\n",
       "  </thead>\n",
       "  <tbody>\n",
       "    <tr>\n",
       "      <th>0</th>\n",
       "      <td>0</td>\n",
       "      <td>2</td>\n",
       "      <td>2.154104</td>\n",
       "      <td>1</td>\n",
       "    </tr>\n",
       "    <tr>\n",
       "      <th>1</th>\n",
       "      <td>0</td>\n",
       "      <td>14</td>\n",
       "      <td>2.175915</td>\n",
       "      <td>1</td>\n",
       "    </tr>\n",
       "    <tr>\n",
       "      <th>2</th>\n",
       "      <td>0</td>\n",
       "      <td>15</td>\n",
       "      <td>2.244578</td>\n",
       "      <td>1</td>\n",
       "    </tr>\n",
       "    <tr>\n",
       "      <th>3</th>\n",
       "      <td>0</td>\n",
       "      <td>20</td>\n",
       "      <td>2.275416</td>\n",
       "      <td>1</td>\n",
       "    </tr>\n",
       "    <tr>\n",
       "      <th>4</th>\n",
       "      <td>0</td>\n",
       "      <td>21</td>\n",
       "      <td>2.088449</td>\n",
       "      <td>1</td>\n",
       "    </tr>\n",
       "  </tbody>\n",
       "</table>\n",
       "</div>"
      ],
      "text/plain": [
       "   uid  tid    rating  count\n",
       "0    0    2  2.154104      1\n",
       "1    0   14  2.175915      1\n",
       "2    0   15  2.244578      1\n",
       "3    0   20  2.275416      1\n",
       "4    0   21  2.088449      1"
      ]
     },
     "execution_count": 4,
     "metadata": {},
     "output_type": "execute_result"
    }
   ],
   "source": [
    "svd['count'] = 1\n",
    "svd[:5]"
   ]
  },
  {
   "cell_type": "code",
   "execution_count": 5,
   "metadata": {},
   "outputs": [],
   "source": [
    "# Count POP to DF\n",
    "tid_list = []\n",
    "pop_list = []\n",
    "for i in df['tid'].unique():\n",
    "    tid_list.append(i)\n",
    "    pop_list.append(len(df[df['tid']==i])/num_user*5)"
   ]
  },
  {
   "cell_type": "code",
   "execution_count": 6,
   "metadata": {},
   "outputs": [
    {
     "data": {
      "text/html": [
       "<div>\n",
       "<style scoped>\n",
       "    .dataframe tbody tr th:only-of-type {\n",
       "        vertical-align: middle;\n",
       "    }\n",
       "\n",
       "    .dataframe tbody tr th {\n",
       "        vertical-align: top;\n",
       "    }\n",
       "\n",
       "    .dataframe thead th {\n",
       "        text-align: right;\n",
       "    }\n",
       "</style>\n",
       "<table border=\"1\" class=\"dataframe\">\n",
       "  <thead>\n",
       "    <tr style=\"text-align: right;\">\n",
       "      <th></th>\n",
       "      <th>tid</th>\n",
       "      <th>rating</th>\n",
       "    </tr>\n",
       "  </thead>\n",
       "  <tbody>\n",
       "    <tr>\n",
       "      <th>9147</th>\n",
       "      <td>9147</td>\n",
       "      <td>2.064220</td>\n",
       "    </tr>\n",
       "    <tr>\n",
       "      <th>55</th>\n",
       "      <td>55</td>\n",
       "      <td>2.064220</td>\n",
       "    </tr>\n",
       "    <tr>\n",
       "      <th>6190</th>\n",
       "      <td>6190</td>\n",
       "      <td>2.018349</td>\n",
       "    </tr>\n",
       "    <tr>\n",
       "      <th>555</th>\n",
       "      <td>555</td>\n",
       "      <td>1.972477</td>\n",
       "    </tr>\n",
       "    <tr>\n",
       "      <th>1388</th>\n",
       "      <td>1388</td>\n",
       "      <td>1.972477</td>\n",
       "    </tr>\n",
       "    <tr>\n",
       "      <th>3825</th>\n",
       "      <td>3825</td>\n",
       "      <td>1.949541</td>\n",
       "    </tr>\n",
       "    <tr>\n",
       "      <th>1360</th>\n",
       "      <td>1360</td>\n",
       "      <td>1.949541</td>\n",
       "    </tr>\n",
       "    <tr>\n",
       "      <th>48</th>\n",
       "      <td>48</td>\n",
       "      <td>1.949541</td>\n",
       "    </tr>\n",
       "    <tr>\n",
       "      <th>355</th>\n",
       "      <td>355</td>\n",
       "      <td>1.949541</td>\n",
       "    </tr>\n",
       "    <tr>\n",
       "      <th>5935</th>\n",
       "      <td>5935</td>\n",
       "      <td>1.880734</td>\n",
       "    </tr>\n",
       "  </tbody>\n",
       "</table>\n",
       "</div>"
      ],
      "text/plain": [
       "       tid    rating\n",
       "9147  9147  2.064220\n",
       "55      55  2.064220\n",
       "6190  6190  2.018349\n",
       "555    555  1.972477\n",
       "1388  1388  1.972477\n",
       "3825  3825  1.949541\n",
       "1360  1360  1.949541\n",
       "48      48  1.949541\n",
       "355    355  1.949541\n",
       "5935  5935  1.880734"
      ]
     },
     "execution_count": 6,
     "metadata": {},
     "output_type": "execute_result"
    }
   ],
   "source": [
    "d = {'tid': tid_list, 'rating': pop_list}\n",
    "df_pop = pd.DataFrame(data=d)\n",
    "df_pop = df_pop.sort_values(by=['rating'], ascending=False)\n",
    "df_pop[:10]"
   ]
  },
  {
   "cell_type": "code",
   "execution_count": 7,
   "metadata": {},
   "outputs": [
    {
     "data": {
      "text/plain": [
       "[0.0, 0.1, 0.2, 0.3, 0.4, 0.5, 0.6, 0.7, 0.8, 0.9, 1.0]"
      ]
     },
     "execution_count": 7,
     "metadata": {},
     "output_type": "execute_result"
    }
   ],
   "source": [
    "lambdas = []\n",
    "for i in range(11):\n",
    "    lambdas.append(i/10)\n",
    "lambdas"
   ]
  },
  {
   "cell_type": "code",
   "execution_count": 18,
   "metadata": {},
   "outputs": [
    {
     "data": {
      "application/vnd.jupyter.widget-view+json": {
       "model_id": "640156707d7c4dde96760b808ea08c72",
       "version_major": 2,
       "version_minor": 0
      },
      "text/plain": [
       "HBox(children=(FloatProgress(value=0.0, max=11.0), HTML(value='')))"
      ]
     },
     "metadata": {},
     "output_type": "display_data"
    },
    {
     "name": "stdout",
     "output_type": "stream",
     "text": [
      "[0.0775, 0.07037037037037037, 0.04807692307692308, 0.043333333333333335, 0.05303030303030303, 0.03571428571428571, 0.0375]\n",
      "[0.0012398081150891513, 0.001482150307366794, 0.001334700784263855, 0.0013378777093685974, 0.0019521696548247553, 0.0014529617215746113, 0.0016751347675729236]\n",
      "[0.135, 0.08333333333333333, 0.052884615384615384, 0.03666666666666667, 0.05303030303030303, 0.03571428571428571, 0.04375]\n",
      "[0.0018421495979845008, 0.0014353057051327085, 0.000966785922021324, 0.0008914753138751068, 0.0014716121262144438, 0.0011982971923319458, 0.0018751347675729235]\n",
      "[0.1975, 0.11296296296296296, 0.0673076923076923, 0.04666666666666667, 0.05303030303030303, 0.04081632653061224, 0.04375]\n",
      "[0.0023824075363758036, 0.0018112910164483202, 0.0014742070772683995, 0.0010805100629098557, 0.0014716121262144438, 0.0012630850122218062, 0.0018751347675729235]\n",
      "[0.20375, 0.14629629629629629, 0.08413461538461539, 0.06333333333333334, 0.06439393939393939, 0.04591836734693878, 0.05]\n",
      "[0.0023010542262762736, 0.002406326895301165, 0.0019569575009648513, 0.0016945604438619551, 0.0019179473412587924, 0.0014840790702223652, 0.001954499846938003]\n",
      "[0.2075, 0.14814814814814814, 0.09375, 0.08333333333333333, 0.06818181818181818, 0.05612244897959184, 0.05]\n",
      "[0.002310978959548283, 0.0024553355124229954, 0.002020866324584127, 0.002021371320251391, 0.002130574613363396, 0.0019510006997579764, 0.001954499846938003]\n",
      "[0.21125, 0.1425925925925926, 0.09615384615384616, 0.08333333333333333, 0.08333333333333333, 0.0663265306122449, 0.0625]\n",
      "[0.0023546260943910088, 0.0021515455944491747, 0.0020764465824765236, 0.0019801594331977186, 0.0023538272168726003, 0.0020088392955979794, 0.002877039740555024]\n",
      "[0.2, 0.14629629629629629, 0.0889423076923077, 0.08, 0.07954545454545454, 0.0663265306122449, 0.05625]\n",
      "[0.002404955337812334, 0.002224367059479301, 0.0023145234122061435, 0.0019555137153911876, 0.0023273847820532018, 0.0020088392955979794, 0.0027147020782173617]\n",
      "[0.20375, 0.14074074074074075, 0.09615384615384616, 0.08333333333333333, 0.09090909090909091, 0.07653061224489796, 0.05625]\n",
      "[0.00265826209856363, 0.0023445087581605954, 0.002531647026742959, 0.001960066328103528, 0.0032295279848147474, 0.002818310841943872, 0.0028898098368380512]\n",
      "[0.195, 0.13518518518518519, 0.10336538461538461, 0.08333333333333333, 0.0946969696969697, 0.07142857142857142, 0.05]\n",
      "[0.0022750671458969932, 0.002405498928091462, 0.002523648735107226, 0.001978293064745014, 0.003497671416147449, 0.002785605452095625, 0.002810444757472972]\n",
      "[0.18, 0.13518518518518519, 0.0985576923076923, 0.08, 0.09848484848484848, 0.05612244897959184, 0.03125]\n",
      "[0.0021717120909771266, 0.00249484736855511, 0.002119121006187224, 0.001999077137722069, 0.0037406461007060444, 0.002195286053295993, 0.0016378402182923462]\n",
      "[0.10625, 0.07407407407407407, 0.06490384615384616, 0.043333333333333335, 0.056818181818181816, 0.05102040816326531, 0.01875]\n",
      "[0.0011672478899365402, 0.0014418725718366937, 0.0013097171646235352, 0.0008646246168456495, 0.0022857871722910188, 0.0027220492771498498, 0.0012066308027079303]\n",
      "\n"
     ]
    }
   ],
   "source": [
    "p_list = []\n",
    "r_list = []\n",
    "for lambda_ in tqdm(lambdas):\n",
    "    top_n_size = 4\n",
    "    top_n_lists_g = []\n",
    "    for groups in groups_n:\n",
    "\n",
    "        group_size = len(groups[0])\n",
    "        top_n_lists = []\n",
    "\n",
    "        for group in groups:\n",
    "            rating_table = pd.DataFrame() \n",
    "            for member in group:\n",
    "                prediction = svd[svd['uid'] == member].copy()\n",
    "                if len(rating_table) == 0:\n",
    "                    rating_table = prediction\n",
    "                else:\n",
    "                    rating_table = rating_table.set_index('tid').add(prediction.set_index('tid'), fill_value=0).reset_index()\n",
    "            rating_table['rating'] /= group_size \n",
    "            rating_table['rating'] *= lambda_\n",
    "            pop = df_pop.copy()\n",
    "            pop['rating'] *= (1 - lambda_)\n",
    "            rating_table = rating_table.set_index('tid').add(pop.set_index('tid'), fill_value=0).reset_index()\n",
    "    #         rating_table = rating_table[rating_table['count'] == group_size]\n",
    "            rating_table = rating_table.sort_values(by=['rating'],  ascending=False)\n",
    "            rating_table = rating_table[:top_n_size]\n",
    "            top_n_list = []\n",
    "            for _, row in rating_table.iterrows():\n",
    "                top_n_list.append(row[0])\n",
    "            top_n_lists.append(top_n_list)\n",
    "        top_n_lists_g.append(top_n_lists)   \n",
    "        \n",
    "    threshold = 0.0\n",
    "    avg_precisions = []\n",
    "    avg_recalls = []\n",
    "    for i in range(len(groups_n)):\n",
    "        groups = groups_n[i]\n",
    "        top_n_lists = top_n_lists_g[i]\n",
    "\n",
    "        precisions = []\n",
    "        recalls = []\n",
    "        for j in (range(len(groups))):\n",
    "\n",
    "            group = groups[j]\n",
    "            top_n_list = top_n_lists[j]\n",
    "            \n",
    "            for k in range(len(group)):\n",
    "                high_rating = 0\n",
    "                for l in range(top_n_size):\n",
    "                    uid = group[k]\n",
    "                    tid = top_n_list[l]\n",
    "                    t = test[test['uid'] == uid]\n",
    "                    t = t[t['tid'] == tid]\n",
    "                    if len(t) > 0 and t.iloc[0]['rating'] > threshold:\n",
    "                        high_rating += 1\n",
    "\n",
    "                precision = high_rating / top_n_size\n",
    "                recall = high_rating / len(test[test['uid'] == uid])\n",
    "                precisions.append(precision)\n",
    "                recalls.append(recall)\n",
    "            \n",
    "\n",
    "        avg_precision = 0\n",
    "        for precision in precisions:\n",
    "            avg_precision += precision\n",
    "        avg_precision /= len(precisions)\n",
    "        avg_precisions.append(avg_precision)\n",
    "\n",
    "        avg_recall = 0\n",
    "        for recall in recalls:\n",
    "            avg_recall += recall\n",
    "        avg_recall /= len(recalls)\n",
    "        avg_recalls.append(avg_recall)\n",
    "        \n",
    "#     print(avg_precisions)\n",
    "#     print(avg_recalls)\n",
    "    p_list.append(avg_precisions)\n",
    "    r_list.append(avg_recalls)"
   ]
  },
  {
   "cell_type": "code",
   "execution_count": 19,
   "metadata": {},
   "outputs": [
    {
     "name": "stdout",
     "output_type": "stream",
     "text": [
      "[0.0775, 0.07037037037037037, 0.04807692307692308, 0.043333333333333335, 0.05303030303030303, 0.03571428571428571, 0.0375]\n",
      "[0.135, 0.08333333333333333, 0.052884615384615384, 0.03666666666666667, 0.05303030303030303, 0.03571428571428571, 0.04375]\n",
      "[0.1975, 0.11296296296296296, 0.0673076923076923, 0.04666666666666667, 0.05303030303030303, 0.04081632653061224, 0.04375]\n",
      "[0.20375, 0.14629629629629629, 0.08413461538461539, 0.06333333333333334, 0.06439393939393939, 0.04591836734693878, 0.05]\n",
      "[0.2075, 0.14814814814814814, 0.09375, 0.08333333333333333, 0.06818181818181818, 0.05612244897959184, 0.05]\n",
      "[0.21125, 0.1425925925925926, 0.09615384615384616, 0.08333333333333333, 0.08333333333333333, 0.0663265306122449, 0.0625]\n",
      "[0.2, 0.14629629629629629, 0.0889423076923077, 0.08, 0.07954545454545454, 0.0663265306122449, 0.05625]\n",
      "[0.20375, 0.14074074074074075, 0.09615384615384616, 0.08333333333333333, 0.09090909090909091, 0.07653061224489796, 0.05625]\n",
      "[0.195, 0.13518518518518519, 0.10336538461538461, 0.08333333333333333, 0.0946969696969697, 0.07142857142857142, 0.05]\n",
      "[0.18, 0.13518518518518519, 0.0985576923076923, 0.08, 0.09848484848484848, 0.05612244897959184, 0.03125]\n",
      "[0.10625, 0.07407407407407407, 0.06490384615384616, 0.043333333333333335, 0.056818181818181816, 0.05102040816326531, 0.01875]\n",
      "[0.0012398081150891513, 0.001482150307366794, 0.001334700784263855, 0.0013378777093685974, 0.0019521696548247553, 0.0014529617215746113, 0.0016751347675729236]\n",
      "[0.0018421495979845008, 0.0014353057051327085, 0.000966785922021324, 0.0008914753138751068, 0.0014716121262144438, 0.0011982971923319458, 0.0018751347675729235]\n",
      "[0.0023824075363758036, 0.0018112910164483202, 0.0014742070772683995, 0.0010805100629098557, 0.0014716121262144438, 0.0012630850122218062, 0.0018751347675729235]\n",
      "[0.0023010542262762736, 0.002406326895301165, 0.0019569575009648513, 0.0016945604438619551, 0.0019179473412587924, 0.0014840790702223652, 0.001954499846938003]\n",
      "[0.002310978959548283, 0.0024553355124229954, 0.002020866324584127, 0.002021371320251391, 0.002130574613363396, 0.0019510006997579764, 0.001954499846938003]\n",
      "[0.0023546260943910088, 0.0021515455944491747, 0.0020764465824765236, 0.0019801594331977186, 0.0023538272168726003, 0.0020088392955979794, 0.002877039740555024]\n",
      "[0.002404955337812334, 0.002224367059479301, 0.0023145234122061435, 0.0019555137153911876, 0.0023273847820532018, 0.0020088392955979794, 0.0027147020782173617]\n",
      "[0.00265826209856363, 0.0023445087581605954, 0.002531647026742959, 0.001960066328103528, 0.0032295279848147474, 0.002818310841943872, 0.0028898098368380512]\n",
      "[0.0022750671458969932, 0.002405498928091462, 0.002523648735107226, 0.001978293064745014, 0.003497671416147449, 0.002785605452095625, 0.002810444757472972]\n",
      "[0.0021717120909771266, 0.00249484736855511, 0.002119121006187224, 0.001999077137722069, 0.0037406461007060444, 0.002195286053295993, 0.0016378402182923462]\n",
      "[0.0011672478899365402, 0.0014418725718366937, 0.0013097171646235352, 0.0008646246168456495, 0.0022857871722910188, 0.0027220492771498498, 0.0012066308027079303]\n"
     ]
    }
   ],
   "source": [
    "for i in p_list:\n",
    "    print(i)\n",
    "\n",
    "for i in r_list:\n",
    "    print(i)"
   ]
  },
  {
   "cell_type": "code",
   "execution_count": null,
   "metadata": {},
   "outputs": [],
   "source": []
  },
  {
   "cell_type": "code",
   "execution_count": 20,
   "metadata": {},
   "outputs": [],
   "source": [
    "def dcg_at_k(r, k, method=0):\n",
    "    r = np.asfarray(r)[:k]\n",
    "    for i in range(len(r)):\n",
    "        r[i] = 2**r[i] -1\n",
    "    \n",
    "    if r.size:\n",
    "        if method == 0:\n",
    "            return r[0] + np.sum(r[1:] / np.log2(np.arange(2, r.size + 1)))\n",
    "        elif method == 1:\n",
    "            return np.sum(r / np.log2(np.arange(2, r.size + 2)))\n",
    "        else:\n",
    "            raise ValueError('method must be 0 or 1.')\n",
    "    return 0.\n",
    "\n",
    "\n",
    "def ndcg_at_k(r, r_max, k, method=0):\n",
    "    dcg_max = dcg_at_k(r_max, k, method)\n",
    "    if not dcg_max:\n",
    "        return 0.\n",
    "    return dcg_at_k(r, k, method) / dcg_max"
   ]
  },
  {
   "cell_type": "code",
   "execution_count": 21,
   "metadata": {},
   "outputs": [
    {
     "data": {
      "application/vnd.jupyter.widget-view+json": {
       "model_id": "f8bae889c96340459d6afc2a2e56ece4",
       "version_major": 2,
       "version_minor": 0
      },
      "text/plain": [
       "HBox(children=(FloatProgress(value=0.0, max=11.0), HTML(value='')))"
      ]
     },
     "metadata": {},
     "output_type": "display_data"
    },
    {
     "name": "stdout",
     "output_type": "stream",
     "text": [
      "[0.02882698262296474, 0.028543470919542194, 0.019119374832316245, 0.01613062416754107, 0.01927737464639077, 0.01056404215878583, 0.0010342947194397834]\n",
      "[0.059591853230239335, 0.035907393212003674, 0.021288772386776993, 0.01425337064970261, 0.02417191087635331, 0.009125568824680217, 0.0011698301985993405]\n",
      "[0.09084069012674158, 0.05319135287996382, 0.0252091766872615, 0.014603971452413766, 0.024775093417532083, 0.012879435326041737, 0.0013358398582499896]\n",
      "[0.0938234594485554, 0.06557308550542525, 0.03798168474619204, 0.02195604120073409, 0.030093580076929274, 0.011822595537680933, 0.00206570109000598]\n",
      "[0.09501850411475815, 0.06365053210564177, 0.040444578822260116, 0.028971170717893013, 0.036468828851192625, 0.016829311962649637, 0.0019959669638178103]\n",
      "[0.09769985509381474, 0.060918891539409235, 0.04110466734778538, 0.029222949081264257, 0.040954706010559914, 0.02108780026220001, 0.009820864602983651]\n",
      "[0.09561210858560408, 0.06232454144991722, 0.03904848179469268, 0.027801494429194436, 0.03703705832577557, 0.018598943473665558, 0.010859169486847025]\n",
      "[0.09581747953508263, 0.060263739253215626, 0.03912924948531164, 0.02975901680592824, 0.04359650251523279, 0.021455294325345077, 0.015382673466157331]\n",
      "[0.0932782753558962, 0.0579348284097213, 0.039448898994444606, 0.02798040031044539, 0.04576959155867904, 0.017869726068720008, 0.01509956094724193]\n",
      "[0.08937438260245198, 0.05658855945545257, 0.030609419091072412, 0.028334093473580322, 0.04663444058950748, 0.017932144323577676, 0.020434975844947748]\n",
      "[0.05086105700921546, 0.032974369766468205, 0.019606207588923938, 0.014743547739580637, 0.03157676062539117, 0.02474080096203785, 0.020186592816616875]\n",
      "\n"
     ]
    }
   ],
   "source": [
    "for lambda_ in tqdm(lambdas):\n",
    "    top_n_lists_g = []\n",
    "    for groups in groups_n:\n",
    "\n",
    "        group_size = len(groups[0])\n",
    "        top_n_lists = []\n",
    "\n",
    "        for group in groups:\n",
    "            rating_table = pd.DataFrame() \n",
    "            for member in group:\n",
    "                prediction = svd[svd['uid'] == member].copy()\n",
    "                if len(rating_table) == 0:\n",
    "                    rating_table = prediction\n",
    "                else:\n",
    "                    rating_table = rating_table.set_index('tid').add(prediction.set_index('tid'), fill_value=0).reset_index()\n",
    "            rating_table['rating'] /= group_size \n",
    "            rating_table['rating'] *= lambda_\n",
    "            pop = df_pop.copy()\n",
    "            pop['rating'] *= (1 - lambda_)\n",
    "            rating_table = rating_table.set_index('tid').add(pop.set_index('tid'), fill_value=0).reset_index()\n",
    "    #         rating_table = rating_table[rating_table['count'] == group_size]\n",
    "            rating_table = rating_table.sort_values(by=['rating'],  ascending=False)\n",
    "            rating_table = rating_table[:top_n_size]\n",
    "            top_n_list = []\n",
    "            for _, row in rating_table.iterrows():\n",
    "                top_n_list.append(row[0])\n",
    "            top_n_lists.append(top_n_list)\n",
    "        top_n_lists_g.append(top_n_lists)   \n",
    "        \n",
    "#     print('lambda = ' + str(lambda_))\n",
    "    threshold = 0.0\n",
    "    avg_nDCGs = []\n",
    "    for i in range(len(groups_n)):\n",
    "        groups = groups_n[i]\n",
    "        top_n_lists = top_n_lists_g[i]\n",
    "\n",
    "        nDCGs = []\n",
    "        for j in (range(len(groups))):\n",
    "\n",
    "            group = groups[j]\n",
    "            top_n_list = top_n_lists[j]\n",
    "            \n",
    "            for k in range(len(group)):\n",
    "                truth_rating = []\n",
    "                uid = group[k]\n",
    "                for l in range(top_n_size):\n",
    "                    tid = top_n_list[l]\n",
    "                    t = test[test['uid'] == uid]\n",
    "                    t = t[t['tid'] == tid]\n",
    "                    if len(t) > 0:\n",
    "                        truth_rating.append(t.iloc[0]['rating'])\n",
    "                    else:\n",
    "                        truth_rating.append(0)\n",
    "                max_rating = test[test['uid']==uid].sort_values(by=['rating'],  ascending=False)['rating'].values[:top_n_size]\n",
    "                nDCG = ndcg_at_k(truth_rating, max_rating, top_n_size, method=1)\n",
    "                nDCGs.append(nDCG)  \n",
    "                \n",
    "        avg_nDCG = 0\n",
    "        for nDCG in nDCGs:\n",
    "            avg_nDCG += nDCG\n",
    "        avg_nDCG /= len(nDCGs)\n",
    "        avg_nDCGs.append(avg_nDCG)\n",
    "        \n",
    "    print(avg_nDCGs)\n",
    "#     print('----------------------------------------') "
   ]
  },
  {
   "cell_type": "code",
   "execution_count": null,
   "metadata": {},
   "outputs": [],
   "source": []
  },
  {
   "cell_type": "code",
   "execution_count": null,
   "metadata": {},
   "outputs": [],
   "source": []
  }
 ],
 "metadata": {
  "kernelspec": {
   "display_name": "Python 3",
   "language": "python",
   "name": "python3"
  },
  "language_info": {
   "codemirror_mode": {
    "name": "ipython",
    "version": 3
   },
   "file_extension": ".py",
   "mimetype": "text/x-python",
   "name": "python",
   "nbconvert_exporter": "python",
   "pygments_lexer": "ipython3",
   "version": "3.6.10"
  }
 },
 "nbformat": 4,
 "nbformat_minor": 4
}
