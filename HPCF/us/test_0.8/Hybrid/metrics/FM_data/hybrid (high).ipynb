{
 "cells": [
  {
   "cell_type": "code",
   "execution_count": 1,
   "metadata": {},
   "outputs": [],
   "source": [
    "import os \n",
    "import math\n",
    "import random\n",
    "import numpy as np\n",
    "import pandas as pd\n",
    "from tqdm.notebook import tqdm\n",
    "from numpy import count_nonzero\n",
    "\n",
    "dir_ = '../../../data/FM_data/'\n",
    "group_dir_ = '../../../data/FM_data/groups/high'"
   ]
  },
  {
   "cell_type": "code",
   "execution_count": 2,
   "metadata": {},
   "outputs": [
    {
     "data": {
      "text/plain": [
       "218"
      ]
     },
     "execution_count": 2,
     "metadata": {},
     "output_type": "execute_result"
    }
   ],
   "source": [
    "file_name = 'normalized_to_rating_filter_track_5_user_50.csv'\n",
    "df = pd.read_pickle(os.path.join(dir_, file_name[:-3] + 'pkl'))\n",
    "svd = pd.read_pickle(os.path.join(dir_, 'prediction_svd_top_N_' + file_name[:-3] + 'pkl'))\n",
    "test = pd.read_pickle(os.path.join(dir_, 'test_' + file_name[:-3] + 'pkl'))\n",
    "test.sort_values(by=['uid','tid'])\n",
    "\n",
    "num_user = len(svd['uid'].unique())\n",
    "num_user"
   ]
  },
  {
   "cell_type": "code",
   "execution_count": 3,
   "metadata": {},
   "outputs": [],
   "source": [
    "groups_n =[]\n",
    "group_sizes = ['2', '3', '4', '5', '6', '7', '8', '9', '10', '20']\n",
    "for i in range(len(group_sizes)):\n",
    "    groups = np.loadtxt(os.path.join(group_dir_, group_sizes[i] + '.csv'), delimiter=',')\n",
    "    groups_n.append(groups)"
   ]
  },
  {
   "cell_type": "code",
   "execution_count": 4,
   "metadata": {},
   "outputs": [
    {
     "data": {
      "text/html": [
       "<div>\n",
       "<style scoped>\n",
       "    .dataframe tbody tr th:only-of-type {\n",
       "        vertical-align: middle;\n",
       "    }\n",
       "\n",
       "    .dataframe tbody tr th {\n",
       "        vertical-align: top;\n",
       "    }\n",
       "\n",
       "    .dataframe thead th {\n",
       "        text-align: right;\n",
       "    }\n",
       "</style>\n",
       "<table border=\"1\" class=\"dataframe\">\n",
       "  <thead>\n",
       "    <tr style=\"text-align: right;\">\n",
       "      <th></th>\n",
       "      <th>uid</th>\n",
       "      <th>tid</th>\n",
       "      <th>rating</th>\n",
       "      <th>count</th>\n",
       "    </tr>\n",
       "  </thead>\n",
       "  <tbody>\n",
       "    <tr>\n",
       "      <th>0</th>\n",
       "      <td>0</td>\n",
       "      <td>2</td>\n",
       "      <td>2.154104</td>\n",
       "      <td>1</td>\n",
       "    </tr>\n",
       "    <tr>\n",
       "      <th>1</th>\n",
       "      <td>0</td>\n",
       "      <td>14</td>\n",
       "      <td>2.175915</td>\n",
       "      <td>1</td>\n",
       "    </tr>\n",
       "    <tr>\n",
       "      <th>2</th>\n",
       "      <td>0</td>\n",
       "      <td>15</td>\n",
       "      <td>2.244578</td>\n",
       "      <td>1</td>\n",
       "    </tr>\n",
       "    <tr>\n",
       "      <th>3</th>\n",
       "      <td>0</td>\n",
       "      <td>20</td>\n",
       "      <td>2.275416</td>\n",
       "      <td>1</td>\n",
       "    </tr>\n",
       "    <tr>\n",
       "      <th>4</th>\n",
       "      <td>0</td>\n",
       "      <td>21</td>\n",
       "      <td>2.088449</td>\n",
       "      <td>1</td>\n",
       "    </tr>\n",
       "  </tbody>\n",
       "</table>\n",
       "</div>"
      ],
      "text/plain": [
       "   uid  tid    rating  count\n",
       "0    0    2  2.154104      1\n",
       "1    0   14  2.175915      1\n",
       "2    0   15  2.244578      1\n",
       "3    0   20  2.275416      1\n",
       "4    0   21  2.088449      1"
      ]
     },
     "execution_count": 4,
     "metadata": {},
     "output_type": "execute_result"
    }
   ],
   "source": [
    "svd['count'] = 1\n",
    "svd[:5]"
   ]
  },
  {
   "cell_type": "code",
   "execution_count": 5,
   "metadata": {},
   "outputs": [],
   "source": [
    "# Count POP to DF\n",
    "tid_list = []\n",
    "pop_list = []\n",
    "for i in df['tid'].unique():\n",
    "    tid_list.append(i)\n",
    "    pop_list.append(len(df[df['tid']==i])/num_user*5)"
   ]
  },
  {
   "cell_type": "code",
   "execution_count": 6,
   "metadata": {},
   "outputs": [
    {
     "data": {
      "text/html": [
       "<div>\n",
       "<style scoped>\n",
       "    .dataframe tbody tr th:only-of-type {\n",
       "        vertical-align: middle;\n",
       "    }\n",
       "\n",
       "    .dataframe tbody tr th {\n",
       "        vertical-align: top;\n",
       "    }\n",
       "\n",
       "    .dataframe thead th {\n",
       "        text-align: right;\n",
       "    }\n",
       "</style>\n",
       "<table border=\"1\" class=\"dataframe\">\n",
       "  <thead>\n",
       "    <tr style=\"text-align: right;\">\n",
       "      <th></th>\n",
       "      <th>tid</th>\n",
       "      <th>rating</th>\n",
       "    </tr>\n",
       "  </thead>\n",
       "  <tbody>\n",
       "    <tr>\n",
       "      <th>9147</th>\n",
       "      <td>9147</td>\n",
       "      <td>2.064220</td>\n",
       "    </tr>\n",
       "    <tr>\n",
       "      <th>55</th>\n",
       "      <td>55</td>\n",
       "      <td>2.064220</td>\n",
       "    </tr>\n",
       "    <tr>\n",
       "      <th>6190</th>\n",
       "      <td>6190</td>\n",
       "      <td>2.018349</td>\n",
       "    </tr>\n",
       "    <tr>\n",
       "      <th>555</th>\n",
       "      <td>555</td>\n",
       "      <td>1.972477</td>\n",
       "    </tr>\n",
       "    <tr>\n",
       "      <th>1388</th>\n",
       "      <td>1388</td>\n",
       "      <td>1.972477</td>\n",
       "    </tr>\n",
       "    <tr>\n",
       "      <th>3825</th>\n",
       "      <td>3825</td>\n",
       "      <td>1.949541</td>\n",
       "    </tr>\n",
       "    <tr>\n",
       "      <th>1360</th>\n",
       "      <td>1360</td>\n",
       "      <td>1.949541</td>\n",
       "    </tr>\n",
       "    <tr>\n",
       "      <th>48</th>\n",
       "      <td>48</td>\n",
       "      <td>1.949541</td>\n",
       "    </tr>\n",
       "    <tr>\n",
       "      <th>355</th>\n",
       "      <td>355</td>\n",
       "      <td>1.949541</td>\n",
       "    </tr>\n",
       "    <tr>\n",
       "      <th>5935</th>\n",
       "      <td>5935</td>\n",
       "      <td>1.880734</td>\n",
       "    </tr>\n",
       "  </tbody>\n",
       "</table>\n",
       "</div>"
      ],
      "text/plain": [
       "       tid    rating\n",
       "9147  9147  2.064220\n",
       "55      55  2.064220\n",
       "6190  6190  2.018349\n",
       "555    555  1.972477\n",
       "1388  1388  1.972477\n",
       "3825  3825  1.949541\n",
       "1360  1360  1.949541\n",
       "48      48  1.949541\n",
       "355    355  1.949541\n",
       "5935  5935  1.880734"
      ]
     },
     "execution_count": 6,
     "metadata": {},
     "output_type": "execute_result"
    }
   ],
   "source": [
    "d = {'tid': tid_list, 'rating': pop_list}\n",
    "df_pop = pd.DataFrame(data=d)\n",
    "df_pop = df_pop.sort_values(by=['rating'], ascending=False)\n",
    "df_pop[:10]"
   ]
  },
  {
   "cell_type": "code",
   "execution_count": 7,
   "metadata": {},
   "outputs": [
    {
     "data": {
      "text/plain": [
       "[0.0, 0.1, 0.2, 0.3, 0.4, 0.5, 0.6, 0.7, 0.8, 0.9, 1.0]"
      ]
     },
     "execution_count": 7,
     "metadata": {},
     "output_type": "execute_result"
    }
   ],
   "source": [
    "lambdas = []\n",
    "for i in range(11):\n",
    "    lambdas.append(i/10)\n",
    "lambdas"
   ]
  },
  {
   "cell_type": "code",
   "execution_count": 15,
   "metadata": {},
   "outputs": [
    {
     "data": {
      "application/vnd.jupyter.widget-view+json": {
       "model_id": "67923d6059df4704ba599e6b3ab12811",
       "version_major": 2,
       "version_minor": 0
      },
      "text/plain": [
       "HBox(children=(FloatProgress(value=0.0, max=11.0), HTML(value='')))"
      ]
     },
     "metadata": {},
     "output_type": "display_data"
    },
    {
     "name": "stdout",
     "output_type": "stream",
     "text": [
      "\n"
     ]
    }
   ],
   "source": [
    "p_list = []\n",
    "r_list = []\n",
    "for lambda_ in tqdm(lambdas):\n",
    "    top_n_size = 4\n",
    "    top_n_lists_g = []\n",
    "    for groups in groups_n:\n",
    "\n",
    "        group_size = len(groups[0])\n",
    "        top_n_lists = []\n",
    "\n",
    "        for group in groups:\n",
    "            rating_table = pd.DataFrame() \n",
    "            for member in group:\n",
    "                prediction = svd[svd['uid'] == member].copy()\n",
    "                if len(rating_table) == 0:\n",
    "                    rating_table = prediction\n",
    "                else:\n",
    "                    rating_table = rating_table.set_index('tid').add(prediction.set_index('tid'), fill_value=0).reset_index()\n",
    "            rating_table['rating'] /= group_size \n",
    "            rating_table['rating'] *= lambda_\n",
    "            pop = df_pop.copy()\n",
    "            pop['rating'] *= (1 - lambda_)\n",
    "            rating_table = rating_table.set_index('tid').add(pop.set_index('tid'), fill_value=0).reset_index()\n",
    "    #         rating_table = rating_table[rating_table['count'] == group_size]\n",
    "            rating_table = rating_table.sort_values(by=['rating'],  ascending=False)\n",
    "            rating_table = rating_table[:top_n_size]\n",
    "            top_n_list = []\n",
    "            for _, row in rating_table.iterrows():\n",
    "                top_n_list.append(row[0])\n",
    "            top_n_lists.append(top_n_list)\n",
    "        top_n_lists_g.append(top_n_lists)   \n",
    "        \n",
    "    threshold = 0.0\n",
    "    avg_precisions = []\n",
    "    avg_recalls = []\n",
    "    for i in range(len(groups_n)):\n",
    "        groups = groups_n[i]\n",
    "        top_n_lists = top_n_lists_g[i]\n",
    "\n",
    "        precisions = []\n",
    "        recalls = []\n",
    "        for j in (range(len(groups))):\n",
    "\n",
    "            group = groups[j]\n",
    "            top_n_list = top_n_lists[j]\n",
    "            \n",
    "            for k in range(len(group)):\n",
    "                high_rating = 0\n",
    "                for l in range(top_n_size):\n",
    "                    uid = group[k]\n",
    "                    tid = top_n_list[l]\n",
    "                    t = test[test['uid'] == uid]\n",
    "                    t = t[t['tid'] == tid]\n",
    "                    if len(t) > 0 and t.iloc[0]['rating'] > threshold:\n",
    "                        high_rating += 1\n",
    "\n",
    "                precision = high_rating / top_n_size\n",
    "                recall = high_rating / len(test[test['uid'] == uid])\n",
    "                precisions.append(precision)\n",
    "                recalls.append(recall)\n",
    "            \n",
    "\n",
    "        avg_precision = 0\n",
    "        for precision in precisions:\n",
    "            avg_precision += precision\n",
    "        avg_precision /= len(precisions)\n",
    "        avg_precisions.append(avg_precision)\n",
    "\n",
    "        avg_recall = 0\n",
    "        for recall in recalls:\n",
    "            avg_recall += recall\n",
    "        avg_recall /= len(recalls)\n",
    "        avg_recalls.append(avg_recall)\n",
    "        \n",
    "#     print(avg_precisions)\n",
    "#     print(avg_recalls)\n",
    "    p_list.append(avg_precisions)\n",
    "    r_list.append(avg_recalls)"
   ]
  },
  {
   "cell_type": "code",
   "execution_count": 16,
   "metadata": {},
   "outputs": [
    {
     "name": "stdout",
     "output_type": "stream",
     "text": [
      "[0.09939759036144578, 0.10283687943262411, 0.1206896551724138, 0.1159090909090909, 0.12777777777777777, 0.13988095238095238, 0.128125, 0.1111111111111111, 0.15, 0.11875]\n",
      "[0.17018072289156627, 0.1400709219858156, 0.15517241379310345, 0.13636363636363635, 0.1361111111111111, 0.1636904761904762, 0.1375, 0.1284722222222222, 0.17916666666666667, 0.11875]\n",
      "[0.22740963855421686, 0.19858156028368795, 0.1896551724137931, 0.18863636363636363, 0.175, 0.19345238095238096, 0.16875, 0.1597222222222222, 0.18333333333333332, 0.11875]\n",
      "[0.23493975903614459, 0.22163120567375885, 0.2349137931034483, 0.21363636363636362, 0.19722222222222222, 0.22916666666666666, 0.178125, 0.1909722222222222, 0.2, 0.16875]\n",
      "[0.23493975903614459, 0.2375886524822695, 0.2413793103448276, 0.20681818181818182, 0.18055555555555555, 0.1875, 0.18125, 0.1875, 0.24166666666666667, 0.16875]\n",
      "[0.23493975903614459, 0.25177304964539005, 0.23706896551724138, 0.17954545454545454, 0.17777777777777778, 0.17261904761904762, 0.1625, 0.16319444444444445, 0.19166666666666668, 0.125]\n",
      "[0.23644578313253012, 0.2570921985815603, 0.23706896551724138, 0.16818181818181818, 0.17222222222222222, 0.14583333333333334, 0.153125, 0.1701388888888889, 0.18333333333333332, 0.125]\n",
      "[0.24096385542168675, 0.25354609929078015, 0.22844827586206898, 0.16136363636363638, 0.1527777777777778, 0.13095238095238096, 0.13125, 0.14583333333333334, 0.1625, 0.05625]\n",
      "[0.24246987951807228, 0.25, 0.21336206896551724, 0.15681818181818183, 0.14166666666666666, 0.12797619047619047, 0.1375, 0.12152777777777778, 0.12916666666666668, 0.04375]\n",
      "[0.2183734939759036, 0.22340425531914893, 0.1875, 0.175, 0.1361111111111111, 0.125, 0.115625, 0.10069444444444445, 0.0875, 0.025]\n",
      "[0.12349397590361445, 0.1347517730496454, 0.125, 0.09090909090909091, 0.08055555555555556, 0.07738095238095238, 0.059375, 0.0763888888888889, 0.06666666666666667, 0.025]\n",
      "\n",
      "[0.0011495931214293691, 0.0009701467562842814, 0.0011469301777964713, 0.0009374196621285762, 0.0009331712784203395, 0.0011047345822474697, 0.0009766737272146873, 0.0007126575669660468, 0.0009585323260701, 0.0005891005621296776]\n",
      "[0.0016922359401690032, 0.0012311473103243837, 0.001268038707509617, 0.00094346910353121, 0.0009416535342445472, 0.0011030964257103186, 0.0009020147927968215, 0.0007140086092307042, 0.0009729019048641662, 0.0005475303166967774]\n",
      "[0.0020146363367278372, 0.0015811520859771193, 0.0014571426560368121, 0.001274806366370678, 0.0010731844368356122, 0.0012663311543319043, 0.0010898724596252016, 0.0009358131108896042, 0.001028519899200835, 0.0005198590091923894]\n",
      "[0.002007570487094077, 0.0015419576239963637, 0.0016062900238042182, 0.0014335099998216544, 0.001280339611553888, 0.0013995165853950859, 0.0011137262766317277, 0.0012217623200005048, 0.0011134178028749818, 0.0007622293134210859]\n",
      "[0.0019267743669683245, 0.001720693407199603, 0.0015844663709101998, 0.0013804575218806974, 0.0010923752380835453, 0.0010210959453436637, 0.0010455645551666578, 0.0010794949024039502, 0.0013237031169384434, 0.0007730072040200967]\n",
      "[0.0019071922163875733, 0.0017339899485974877, 0.001539065233800527, 0.0012646582661783809, 0.0011422681082263867, 0.0008186080384705944, 0.0009043936261198396, 0.0010147220138712687, 0.001015090092357773, 0.0005660028862772765]\n",
      "[0.0019253340598149613, 0.0018728328525901541, 0.0015565750983777714, 0.0011355869421696483, 0.0010335793666407642, 0.0006720918586550741, 0.0008435575076101065, 0.0010693091526691254, 0.0008808229291044779, 0.0006182477473086964]\n",
      "[0.001991187191652546, 0.001872988011771436, 0.001536911959879467, 0.001067029353930248, 0.0009587670211387953, 0.0006005211688478414, 0.0007083987082664328, 0.0009103383957365453, 0.000760637509072421, 0.000205884585830248]\n",
      "[0.001969921457023646, 0.0018299059912968434, 0.0013983055626626366, 0.0010167873462048236, 0.0009444833444409844, 0.0005743200517769406, 0.0007034876085300664, 0.0006834201023139634, 0.0006089483614352311, 0.00017763084470093143]\n",
      "[0.0018865515383298468, 0.0016696885247719818, 0.0012431208039511428, 0.0011954543511394468, 0.0009224133070145211, 0.0006078441567085072, 0.000663542573340373, 0.0005784425147876797, 0.0004151394159917059, 9.370346390399071e-05]\n",
      "[0.0010900960647640479, 0.0010809555173626434, 0.0006863765103118783, 0.0005604286614866887, 0.0004365974329357634, 0.00042646877389674524, 0.00032295535975500556, 0.00034589823990301594, 0.00034919969254726554, 7.654408153791697e-05]\n"
     ]
    }
   ],
   "source": [
    "for i in p_list:\n",
    "    print(i)\n",
    "print()\n",
    "for i in r_list:\n",
    "    print(i)"
   ]
  },
  {
   "cell_type": "code",
   "execution_count": null,
   "metadata": {},
   "outputs": [],
   "source": []
  },
  {
   "cell_type": "code",
   "execution_count": 17,
   "metadata": {},
   "outputs": [],
   "source": [
    "def dcg_at_k(r, k, method=0):\n",
    "    r = np.asfarray(r)[:k]\n",
    "    for i in range(len(r)):\n",
    "        r[i] = 2**r[i] -1\n",
    "    \n",
    "    if r.size:\n",
    "        if method == 0:\n",
    "            return r[0] + np.sum(r[1:] / np.log2(np.arange(2, r.size + 1)))\n",
    "        elif method == 1:\n",
    "            return np.sum(r / np.log2(np.arange(2, r.size + 2)))\n",
    "        else:\n",
    "            raise ValueError('method must be 0 or 1.')\n",
    "    return 0.\n",
    "\n",
    "\n",
    "def ndcg_at_k(r, r_max, k, method=0):\n",
    "    dcg_max = dcg_at_k(r_max, k, method)\n",
    "    if not dcg_max:\n",
    "        return 0.\n",
    "    return dcg_at_k(r, k, method) / dcg_max"
   ]
  },
  {
   "cell_type": "code",
   "execution_count": 18,
   "metadata": {},
   "outputs": [
    {
     "data": {
      "application/vnd.jupyter.widget-view+json": {
       "model_id": "c7d15c9312e74e358bcaf04e82bc2f54",
       "version_major": 2,
       "version_minor": 0
      },
      "text/plain": [
       "HBox(children=(FloatProgress(value=0.0, max=11.0), HTML(value='')))"
      ]
     },
     "metadata": {},
     "output_type": "display_data"
    },
    {
     "name": "stdout",
     "output_type": "stream",
     "text": [
      "[0.03508612542342563, 0.039257668444375206, 0.044600099382234734, 0.04310658472562136, 0.04719033549057951, 0.05242242781487224, 0.04980073465179354, 0.04860524809083691, 0.06312408155368802, 0.050230435388119866]\n",
      "[0.07415887855055311, 0.06205892115276928, 0.06908071548112242, 0.05642811742845822, 0.05707135863444957, 0.059219724136065036, 0.05768982045614255, 0.06049651592639332, 0.07565922358159709, 0.056221188739816984]\n",
      "[0.10681954728938435, 0.08762665632683182, 0.09136171852193917, 0.07438380832577822, 0.06709858762146849, 0.07114842240137416, 0.07200390267323362, 0.07439893022387542, 0.07893258014709942, 0.04824032250670131]\n",
      "[0.10995424243324842, 0.10791983323221883, 0.11136446452687243, 0.09409657244530137, 0.07960991709601367, 0.09519757127270288, 0.07747318623850484, 0.07807868329234752, 0.0873554231657345, 0.05399386872232732]\n",
      "[0.11059748921167889, 0.11384438603735045, 0.11856903724465025, 0.09159806034124075, 0.06913535474262134, 0.0903187914617911, 0.0771597193052332, 0.08255920065786099, 0.10770706854310068, 0.06075214175474845]\n",
      "[0.11029418503164747, 0.12055066907670198, 0.11549959164617664, 0.0826430825036068, 0.06555623404805347, 0.08306870941991346, 0.06584560585148903, 0.07331399787850974, 0.10139080303059395, 0.05531569935462134]\n",
      "[0.11597911874827412, 0.12566863880065926, 0.11805308140255337, 0.07660612262477014, 0.058504249535809044, 0.061703328792970746, 0.05639826007156222, 0.07596355811614312, 0.09037883226386345, 0.03803258318050697]\n",
      "[0.1183057660591407, 0.12510580210434352, 0.11712642139993026, 0.0758875691936816, 0.05828888276391939, 0.05715276627940641, 0.04255785263483157, 0.06272375201909033, 0.07765506896171274, 0.02465026446033903]\n",
      "[0.11723540640064924, 0.12760660129375723, 0.11654029094773331, 0.07500953738832838, 0.0538783993027112, 0.05319212791987561, 0.040819404765736735, 0.039184777497081366, 0.05060135264100592, 0.01970213128788085]\n",
      "[0.09976451720469583, 0.12182981252177433, 0.09563654792196097, 0.07489404929365023, 0.0513124809435274, 0.05276448420903975, 0.03593103271167785, 0.042410741273176185, 0.03802788449170745, 0.013856594795752778]\n",
      "[0.05325555452003389, 0.06766795121039004, 0.0474985022348987, 0.033511580045450434, 0.02886632136131089, 0.03388973511789125, 0.0215609154819458, 0.035837821301761746, 0.021922119579637776, 0.011921794371629416]\n",
      "\n"
     ]
    }
   ],
   "source": [
    "for lambda_ in tqdm(lambdas):\n",
    "    top_n_lists_g = []\n",
    "    for groups in groups_n:\n",
    "\n",
    "        group_size = len(groups[0])\n",
    "        top_n_lists = []\n",
    "\n",
    "        for group in groups:\n",
    "            rating_table = pd.DataFrame() \n",
    "            for member in group:\n",
    "                prediction = svd[svd['uid'] == member].copy()\n",
    "                if len(rating_table) == 0:\n",
    "                    rating_table = prediction\n",
    "                else:\n",
    "                    rating_table = rating_table.set_index('tid').add(prediction.set_index('tid'), fill_value=0).reset_index()\n",
    "            rating_table['rating'] /= group_size \n",
    "            rating_table['rating'] *= lambda_\n",
    "            pop = df_pop.copy()\n",
    "            pop['rating'] *= (1 - lambda_)\n",
    "            rating_table = rating_table.set_index('tid').add(pop.set_index('tid'), fill_value=0).reset_index()\n",
    "    #         rating_table = rating_table[rating_table['count'] == group_size]\n",
    "            rating_table = rating_table.sort_values(by=['rating'],  ascending=False)\n",
    "            rating_table = rating_table[:top_n_size]\n",
    "            top_n_list = []\n",
    "            for _, row in rating_table.iterrows():\n",
    "                top_n_list.append(row[0])\n",
    "            top_n_lists.append(top_n_list)\n",
    "        top_n_lists_g.append(top_n_lists)   \n",
    "        \n",
    "#     print('lambda = ' + str(lambda_))\n",
    "    threshold = 0.0\n",
    "    avg_nDCGs = []\n",
    "    for i in range(len(groups_n)):\n",
    "        groups = groups_n[i]\n",
    "        top_n_lists = top_n_lists_g[i]\n",
    "\n",
    "        nDCGs = []\n",
    "        for j in (range(len(groups))):\n",
    "\n",
    "            group = groups[j]\n",
    "            top_n_list = top_n_lists[j]\n",
    "            \n",
    "            for k in range(len(group)):\n",
    "                truth_rating = []\n",
    "                uid = group[k]\n",
    "                for l in range(top_n_size):\n",
    "                    tid = top_n_list[l]\n",
    "                    t = test[test['uid'] == uid]\n",
    "                    t = t[t['tid'] == tid]\n",
    "                    if len(t) > 0:\n",
    "                        truth_rating.append(t.iloc[0]['rating'])\n",
    "                    else:\n",
    "                        truth_rating.append(0)\n",
    "                max_rating = test[test['uid']==uid].sort_values(by=['rating'],  ascending=False)['rating'].values[:top_n_size]\n",
    "                nDCG = ndcg_at_k(truth_rating, max_rating, top_n_size, method=1)\n",
    "                nDCGs.append(nDCG)  \n",
    "                \n",
    "        avg_nDCG = 0\n",
    "        for nDCG in nDCGs:\n",
    "            avg_nDCG += nDCG\n",
    "        avg_nDCG /= len(nDCGs)\n",
    "        avg_nDCGs.append(avg_nDCG)\n",
    "        \n",
    "    print(avg_nDCGs)\n",
    "#     print('----------------------------------------') "
   ]
  },
  {
   "cell_type": "code",
   "execution_count": null,
   "metadata": {},
   "outputs": [],
   "source": []
  }
 ],
 "metadata": {
  "kernelspec": {
   "display_name": "Python 3",
   "language": "python",
   "name": "python3"
  },
  "language_info": {
   "codemirror_mode": {
    "name": "ipython",
    "version": 3
   },
   "file_extension": ".py",
   "mimetype": "text/x-python",
   "name": "python",
   "nbconvert_exporter": "python",
   "pygments_lexer": "ipython3",
   "version": "3.6.10"
  }
 },
 "nbformat": 4,
 "nbformat_minor": 4
}
