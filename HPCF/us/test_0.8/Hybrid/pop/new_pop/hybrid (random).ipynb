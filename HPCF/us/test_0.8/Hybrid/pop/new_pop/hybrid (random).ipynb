{
 "cells": [
  {
   "cell_type": "code",
   "execution_count": 1,
   "metadata": {},
   "outputs": [],
   "source": [
    "import os \n",
    "import math\n",
    "import random\n",
    "import numpy as np\n",
    "import pandas as pd\n",
    "from tqdm.notebook import tqdm\n",
    "from numpy import count_nonzero\n",
    "dir_ = '../../../data/'\n",
    "group_dir_ = os.path.join(dir_, 'groups/random')"
   ]
  },
  {
   "cell_type": "code",
   "execution_count": 2,
   "metadata": {},
   "outputs": [
    {
     "data": {
      "text/plain": [
       "220"
      ]
     },
     "execution_count": 2,
     "metadata": {},
     "output_type": "execute_result"
    }
   ],
   "source": [
    "file_name = 'normalized_to_rating_filter_track_5_user_100.csv'\n",
    "df = pd.read_pickle(os.path.join(dir_, file_name[:-3] + 'pkl'))\n",
    "svd = pd.read_pickle(os.path.join(dir_, 'prediction_svd_top_N_' + file_name[:-3] + 'pkl'))\n",
    "test = pd.read_pickle(os.path.join(dir_, 'test_' + file_name[:-3] + 'pkl'))\n",
    "test.sort_values(by=['uid','tid'])\n",
    "\n",
    "num_user = len(svd['uid'].unique())\n",
    "num_user"
   ]
  },
  {
   "cell_type": "code",
   "execution_count": 3,
   "metadata": {},
   "outputs": [],
   "source": [
    "groups_n =[]\n",
    "group_sizes = ['2', '3', '4', '5', '6', '7', '8', '9', '10', '20']\n",
    "for i in range(len(group_sizes)):\n",
    "    groups = np.loadtxt(os.path.join(group_dir_, group_sizes[i] + '.csv'), delimiter=',')\n",
    "    groups_n.append(groups)"
   ]
  },
  {
   "cell_type": "code",
   "execution_count": 4,
   "metadata": {},
   "outputs": [],
   "source": [
    "pop_dict = {}\n",
    "for i in df['tid'].unique():\n",
    "    pop_dict[i] = len(df[df['tid']==i])/num_user"
   ]
  },
  {
   "cell_type": "code",
   "execution_count": 5,
   "metadata": {},
   "outputs": [
    {
     "data": {
      "text/html": [
       "<div>\n",
       "<style scoped>\n",
       "    .dataframe tbody tr th:only-of-type {\n",
       "        vertical-align: middle;\n",
       "    }\n",
       "\n",
       "    .dataframe tbody tr th {\n",
       "        vertical-align: top;\n",
       "    }\n",
       "\n",
       "    .dataframe thead th {\n",
       "        text-align: right;\n",
       "    }\n",
       "</style>\n",
       "<table border=\"1\" class=\"dataframe\">\n",
       "  <thead>\n",
       "    <tr style=\"text-align: right;\">\n",
       "      <th></th>\n",
       "      <th>uid</th>\n",
       "      <th>tid</th>\n",
       "      <th>rating</th>\n",
       "      <th>count</th>\n",
       "    </tr>\n",
       "  </thead>\n",
       "  <tbody>\n",
       "    <tr>\n",
       "      <th>0</th>\n",
       "      <td>0</td>\n",
       "      <td>3</td>\n",
       "      <td>2.544071</td>\n",
       "      <td>1</td>\n",
       "    </tr>\n",
       "    <tr>\n",
       "      <th>1</th>\n",
       "      <td>0</td>\n",
       "      <td>7</td>\n",
       "      <td>2.545822</td>\n",
       "      <td>1</td>\n",
       "    </tr>\n",
       "    <tr>\n",
       "      <th>2</th>\n",
       "      <td>0</td>\n",
       "      <td>18</td>\n",
       "      <td>2.152490</td>\n",
       "      <td>1</td>\n",
       "    </tr>\n",
       "    <tr>\n",
       "      <th>3</th>\n",
       "      <td>0</td>\n",
       "      <td>20</td>\n",
       "      <td>1.882396</td>\n",
       "      <td>1</td>\n",
       "    </tr>\n",
       "    <tr>\n",
       "      <th>4</th>\n",
       "      <td>0</td>\n",
       "      <td>31</td>\n",
       "      <td>2.410806</td>\n",
       "      <td>1</td>\n",
       "    </tr>\n",
       "  </tbody>\n",
       "</table>\n",
       "</div>"
      ],
      "text/plain": [
       "   uid  tid    rating  count\n",
       "0    0    3  2.544071      1\n",
       "1    0    7  2.545822      1\n",
       "2    0   18  2.152490      1\n",
       "3    0   20  1.882396      1\n",
       "4    0   31  2.410806      1"
      ]
     },
     "execution_count": 5,
     "metadata": {},
     "output_type": "execute_result"
    }
   ],
   "source": [
    "svd['count'] = 1\n",
    "svd[:5]"
   ]
  },
  {
   "cell_type": "code",
   "execution_count": 6,
   "metadata": {},
   "outputs": [
    {
     "data": {
      "text/html": [
       "<div>\n",
       "<style scoped>\n",
       "    .dataframe tbody tr th:only-of-type {\n",
       "        vertical-align: middle;\n",
       "    }\n",
       "\n",
       "    .dataframe tbody tr th {\n",
       "        vertical-align: top;\n",
       "    }\n",
       "\n",
       "    .dataframe thead th {\n",
       "        text-align: right;\n",
       "    }\n",
       "</style>\n",
       "<table border=\"1\" class=\"dataframe\">\n",
       "  <thead>\n",
       "    <tr style=\"text-align: right;\">\n",
       "      <th></th>\n",
       "      <th>tid</th>\n",
       "      <th>rating</th>\n",
       "    </tr>\n",
       "  </thead>\n",
       "  <tbody>\n",
       "    <tr>\n",
       "      <th>166</th>\n",
       "      <td>166</td>\n",
       "      <td>3.840909</td>\n",
       "    </tr>\n",
       "    <tr>\n",
       "      <th>7209</th>\n",
       "      <td>7209</td>\n",
       "      <td>3.295455</td>\n",
       "    </tr>\n",
       "    <tr>\n",
       "      <th>350</th>\n",
       "      <td>350</td>\n",
       "      <td>3.113636</td>\n",
       "    </tr>\n",
       "    <tr>\n",
       "      <th>3761</th>\n",
       "      <td>3761</td>\n",
       "      <td>3.045455</td>\n",
       "    </tr>\n",
       "    <tr>\n",
       "      <th>80</th>\n",
       "      <td>80</td>\n",
       "      <td>3.022727</td>\n",
       "    </tr>\n",
       "    <tr>\n",
       "      <th>1017</th>\n",
       "      <td>1017</td>\n",
       "      <td>2.840909</td>\n",
       "    </tr>\n",
       "    <tr>\n",
       "      <th>1753</th>\n",
       "      <td>1753</td>\n",
       "      <td>2.750000</td>\n",
       "    </tr>\n",
       "    <tr>\n",
       "      <th>428</th>\n",
       "      <td>428</td>\n",
       "      <td>2.727273</td>\n",
       "    </tr>\n",
       "    <tr>\n",
       "      <th>200</th>\n",
       "      <td>200</td>\n",
       "      <td>2.681818</td>\n",
       "    </tr>\n",
       "    <tr>\n",
       "      <th>3159</th>\n",
       "      <td>3159</td>\n",
       "      <td>2.659091</td>\n",
       "    </tr>\n",
       "  </tbody>\n",
       "</table>\n",
       "</div>"
      ],
      "text/plain": [
       "       tid    rating\n",
       "166    166  3.840909\n",
       "7209  7209  3.295455\n",
       "350    350  3.113636\n",
       "3761  3761  3.045455\n",
       "80      80  3.022727\n",
       "1017  1017  2.840909\n",
       "1753  1753  2.750000\n",
       "428    428  2.727273\n",
       "200    200  2.681818\n",
       "3159  3159  2.659091"
      ]
     },
     "execution_count": 6,
     "metadata": {},
     "output_type": "execute_result"
    }
   ],
   "source": [
    "# Count POP to DF\n",
    "tid_list = []\n",
    "pop_list = []\n",
    "for i in df['tid'].unique():\n",
    "    tid_list.append(i)\n",
    "    pop_list.append(len(df[df['tid']==i])/num_user*5)\n",
    "    \n",
    "d = {'tid': tid_list, 'rating': pop_list}\n",
    "df_pop = pd.DataFrame(data=d)\n",
    "df_pop = df_pop.sort_values(by=['rating'], ascending=False)\n",
    "df_pop[:10]"
   ]
  },
  {
   "cell_type": "code",
   "execution_count": 7,
   "metadata": {},
   "outputs": [
    {
     "data": {
      "text/plain": [
       "[0.0, 0.1, 0.2, 0.3, 0.4, 0.5, 0.6, 0.7, 0.8, 0.9, 1.0]"
      ]
     },
     "execution_count": 7,
     "metadata": {},
     "output_type": "execute_result"
    }
   ],
   "source": [
    "lambdas = []\n",
    "for i in range(11):\n",
    "    lambdas.append(i/10)\n",
    "lambdas"
   ]
  },
  {
   "cell_type": "code",
   "execution_count": 8,
   "metadata": {},
   "outputs": [
    {
     "data": {
      "application/vnd.jupyter.widget-view+json": {
       "model_id": "1c9e105c5d6e4e6f9e42416ea2a776c4",
       "version_major": 2,
       "version_minor": 0
      },
      "text/plain": [
       "HBox(children=(FloatProgress(value=0.0, max=11.0), HTML(value='')))"
      ]
     },
     "metadata": {},
     "output_type": "display_data"
    },
    {
     "name": "stdout",
     "output_type": "stream",
     "text": [
      "[0.6647727272727282, 0.6647727272727282, 0.6647727272727282, 0.6647727272727282, 0.6647727272727292, 0.6647727272727291, 0.6647727272727292, 0.6647727272727292, 0.664772727272729, 0.664772727272729]\n",
      "[0.6636742424242434, 0.6635511363636372, 0.663750000000001, 0.6642045454545464, 0.6639520202020224, 0.6640395894428174, 0.664351851851854, 0.6642518939393961, 0.6642045454545475, 0.6646694214876051]\n",
      "[0.6544318181818188, 0.6574715909090916, 0.6585606060606067, 0.6623579545454553, 0.6627525252525276, 0.6626466275659855, 0.6632575757575775, 0.6624053030303051, 0.6633264462809937, 0.6645661157024813]\n",
      "[0.6313257575757584, 0.6379829545454547, 0.648068181818182, 0.6474431818181835, 0.6451388888888893, 0.650916422287393, 0.6527356902356911, 0.6568655303030331, 0.6554752066115713, 0.6633264462809935]\n",
      "[0.5833712121212125, 0.5967045454545455, 0.6124621212121206, 0.6188920454545468, 0.6234217171717177, 0.6316715542522018, 0.6340909090909103, 0.6345170454545475, 0.635743801652894, 0.6503099173553716]\n",
      "[0.5681060606060606, 0.5603977272727272, 0.5667803030303028, 0.572537878787879, 0.5738320707070712, 0.5803885630498543, 0.58291245791246, 0.5877840909090933, 0.5880681818181843, 0.6206611570247939]\n",
      "[0.5512689393939391, 0.5384374999999993, 0.5239015151515145, 0.5163825757575754, 0.5115214646464662, 0.5106671554252207, 0.5130471380471394, 0.5073863636363654, 0.5295454545454555, 0.5616735537190075]\n",
      "[0.5361742424242413, 0.5135795454545447, 0.4882575757575752, 0.47428977272727324, 0.4642676767676789, 0.4574780058651032, 0.45197811447811587, 0.45232007575757743, 0.4643078512396695, 0.44710743801652847]\n",
      "[0.5264393939393929, 0.4919034090909085, 0.46776515151515097, 0.45487689393939496, 0.43352272727272945, 0.4173387096774204, 0.406397306397307, 0.3805871212121215, 0.3779442148760316, 0.28295454545454546]\n",
      "[0.4957196969696961, 0.45818181818181763, 0.4390530303030297, 0.4061553030303034, 0.376262626262628, 0.3653958944281535, 0.3366582491582488, 0.33124999999999954, 0.3158057851239665, 0.22262396694215017]\n",
      "[0.37196969696969656, 0.363664772727273, 0.3490909090909085, 0.2972537878787874, 0.28756313131313144, 0.28288123167155393, 0.26708754208754215, 0.2517045454545447, 0.23491735537190153, 0.10743801652892658]\n",
      "\n"
     ]
    }
   ],
   "source": [
    "for lambda_ in tqdm(lambdas):\n",
    "    top_n_size = 4\n",
    "    top_n_lists_g = []\n",
    "    for groups in groups_n:\n",
    "\n",
    "        group_size = len(groups[0])\n",
    "        top_n_lists = []\n",
    "\n",
    "        for group in groups:\n",
    "            rating_table = pd.DataFrame() \n",
    "            for member in group:\n",
    "                prediction = svd[svd['uid'] == member].copy()\n",
    "                if len(rating_table) == 0:\n",
    "                    rating_table = prediction\n",
    "                else:\n",
    "                    rating_table = rating_table.set_index('tid').add(prediction.set_index('tid'), fill_value=0).reset_index()\n",
    "            rating_table['rating'] /= group_size \n",
    "            rating_table['rating'] *= lambda_\n",
    "            pop = df_pop.copy()\n",
    "            pop['rating'] *= (1 - lambda_)\n",
    "            rating_table = rating_table.set_index('tid').add(pop.set_index('tid'), fill_value=0).reset_index()\n",
    "    #         rating_table = rating_table[rating_table['count'] == group_size]\n",
    "            rating_table = rating_table.sort_values(by=['rating'],  ascending=False)\n",
    "            rating_table = rating_table[:top_n_size]\n",
    "            top_n_list = []\n",
    "            for _, row in rating_table.iterrows():\n",
    "                top_n_list.append(row[0])\n",
    "            top_n_lists.append(top_n_list)\n",
    "        top_n_lists_g.append(top_n_lists)   \n",
    "        \n",
    "    threshold = 0.0\n",
    "    avg_pops = []\n",
    "    for i in range(len(groups_n)):\n",
    "        groups = groups_n[i]\n",
    "        top_n_lists = top_n_lists_g[i]\n",
    "\n",
    "        pops = []\n",
    "        for j in (range(len(groups))):\n",
    "            group = groups[j]\n",
    "            top_n_list = top_n_lists[j]\n",
    "            for k in range(len(group)):\n",
    "                for l in range(top_n_size):\n",
    "                    tid = top_n_list[l]\n",
    "                    pops.append(pop_dict[tid])                    \n",
    "        avg_pop = sum(pops)/len(pops)\n",
    "        avg_pops.append(avg_pop)\n",
    "        \n",
    "    print(avg_pops)"
   ]
  },
  {
   "cell_type": "code",
   "execution_count": null,
   "metadata": {},
   "outputs": [],
   "source": []
  }
 ],
 "metadata": {
  "kernelspec": {
   "display_name": "Python 3",
   "language": "python",
   "name": "python3"
  },
  "language_info": {
   "codemirror_mode": {
    "name": "ipython",
    "version": 3
   },
   "file_extension": ".py",
   "mimetype": "text/x-python",
   "name": "python",
   "nbconvert_exporter": "python",
   "pygments_lexer": "ipython3",
   "version": "3.6.10"
  }
 },
 "nbformat": 4,
 "nbformat_minor": 4
}
