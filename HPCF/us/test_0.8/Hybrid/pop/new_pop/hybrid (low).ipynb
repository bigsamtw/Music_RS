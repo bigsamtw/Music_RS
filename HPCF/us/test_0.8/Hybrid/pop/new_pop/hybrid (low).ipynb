{
 "cells": [
  {
   "cell_type": "code",
   "execution_count": 1,
   "metadata": {},
   "outputs": [],
   "source": [
    "import os \n",
    "import math\n",
    "import random\n",
    "import numpy as np\n",
    "import pandas as pd\n",
    "from tqdm.notebook import tqdm\n",
    "from numpy import count_nonzero\n",
    "dir_ = '../../../data/'\n",
    "group_dir_ = os.path.join(dir_, 'groups/low')"
   ]
  },
  {
   "cell_type": "code",
   "execution_count": 2,
   "metadata": {},
   "outputs": [
    {
     "data": {
      "text/plain": [
       "220"
      ]
     },
     "execution_count": 2,
     "metadata": {},
     "output_type": "execute_result"
    }
   ],
   "source": [
    "file_name = 'normalized_to_rating_filter_track_5_user_100.csv'\n",
    "df = pd.read_pickle(os.path.join(dir_, file_name[:-3] + 'pkl'))\n",
    "svd = pd.read_pickle(os.path.join(dir_, 'prediction_svd_top_N_' + file_name[:-3] + 'pkl'))\n",
    "test = pd.read_pickle(os.path.join(dir_, 'test_' + file_name[:-3] + 'pkl'))\n",
    "test.sort_values(by=['uid','tid'])\n",
    "\n",
    "num_user = len(svd['uid'].unique())\n",
    "num_user"
   ]
  },
  {
   "cell_type": "code",
   "execution_count": 3,
   "metadata": {},
   "outputs": [],
   "source": [
    "groups_n =[]\n",
    "group_sizes = ['2', '3', '4', '5', '6', '7', '8']\n",
    "for i in range(len(group_sizes)):\n",
    "    groups = np.loadtxt(os.path.join(group_dir_, group_sizes[i] + '.csv'), delimiter=',')\n",
    "    groups_n.append(groups)"
   ]
  },
  {
   "cell_type": "code",
   "execution_count": 4,
   "metadata": {},
   "outputs": [],
   "source": [
    "pop_dict = {}\n",
    "for i in df['tid'].unique():\n",
    "    pop_dict[i] = len(df[df['tid']==i])/num_user"
   ]
  },
  {
   "cell_type": "code",
   "execution_count": 5,
   "metadata": {},
   "outputs": [
    {
     "data": {
      "text/html": [
       "<div>\n",
       "<style scoped>\n",
       "    .dataframe tbody tr th:only-of-type {\n",
       "        vertical-align: middle;\n",
       "    }\n",
       "\n",
       "    .dataframe tbody tr th {\n",
       "        vertical-align: top;\n",
       "    }\n",
       "\n",
       "    .dataframe thead th {\n",
       "        text-align: right;\n",
       "    }\n",
       "</style>\n",
       "<table border=\"1\" class=\"dataframe\">\n",
       "  <thead>\n",
       "    <tr style=\"text-align: right;\">\n",
       "      <th></th>\n",
       "      <th>uid</th>\n",
       "      <th>tid</th>\n",
       "      <th>rating</th>\n",
       "      <th>count</th>\n",
       "    </tr>\n",
       "  </thead>\n",
       "  <tbody>\n",
       "    <tr>\n",
       "      <th>0</th>\n",
       "      <td>0</td>\n",
       "      <td>3</td>\n",
       "      <td>2.544071</td>\n",
       "      <td>1</td>\n",
       "    </tr>\n",
       "    <tr>\n",
       "      <th>1</th>\n",
       "      <td>0</td>\n",
       "      <td>7</td>\n",
       "      <td>2.545822</td>\n",
       "      <td>1</td>\n",
       "    </tr>\n",
       "    <tr>\n",
       "      <th>2</th>\n",
       "      <td>0</td>\n",
       "      <td>18</td>\n",
       "      <td>2.152490</td>\n",
       "      <td>1</td>\n",
       "    </tr>\n",
       "    <tr>\n",
       "      <th>3</th>\n",
       "      <td>0</td>\n",
       "      <td>20</td>\n",
       "      <td>1.882396</td>\n",
       "      <td>1</td>\n",
       "    </tr>\n",
       "    <tr>\n",
       "      <th>4</th>\n",
       "      <td>0</td>\n",
       "      <td>31</td>\n",
       "      <td>2.410806</td>\n",
       "      <td>1</td>\n",
       "    </tr>\n",
       "  </tbody>\n",
       "</table>\n",
       "</div>"
      ],
      "text/plain": [
       "   uid  tid    rating  count\n",
       "0    0    3  2.544071      1\n",
       "1    0    7  2.545822      1\n",
       "2    0   18  2.152490      1\n",
       "3    0   20  1.882396      1\n",
       "4    0   31  2.410806      1"
      ]
     },
     "execution_count": 5,
     "metadata": {},
     "output_type": "execute_result"
    }
   ],
   "source": [
    "svd['count'] = 1\n",
    "svd[:5]"
   ]
  },
  {
   "cell_type": "code",
   "execution_count": 6,
   "metadata": {},
   "outputs": [
    {
     "data": {
      "text/html": [
       "<div>\n",
       "<style scoped>\n",
       "    .dataframe tbody tr th:only-of-type {\n",
       "        vertical-align: middle;\n",
       "    }\n",
       "\n",
       "    .dataframe tbody tr th {\n",
       "        vertical-align: top;\n",
       "    }\n",
       "\n",
       "    .dataframe thead th {\n",
       "        text-align: right;\n",
       "    }\n",
       "</style>\n",
       "<table border=\"1\" class=\"dataframe\">\n",
       "  <thead>\n",
       "    <tr style=\"text-align: right;\">\n",
       "      <th></th>\n",
       "      <th>tid</th>\n",
       "      <th>rating</th>\n",
       "    </tr>\n",
       "  </thead>\n",
       "  <tbody>\n",
       "    <tr>\n",
       "      <th>166</th>\n",
       "      <td>166</td>\n",
       "      <td>3.840909</td>\n",
       "    </tr>\n",
       "    <tr>\n",
       "      <th>7209</th>\n",
       "      <td>7209</td>\n",
       "      <td>3.295455</td>\n",
       "    </tr>\n",
       "    <tr>\n",
       "      <th>350</th>\n",
       "      <td>350</td>\n",
       "      <td>3.113636</td>\n",
       "    </tr>\n",
       "    <tr>\n",
       "      <th>3761</th>\n",
       "      <td>3761</td>\n",
       "      <td>3.045455</td>\n",
       "    </tr>\n",
       "    <tr>\n",
       "      <th>80</th>\n",
       "      <td>80</td>\n",
       "      <td>3.022727</td>\n",
       "    </tr>\n",
       "    <tr>\n",
       "      <th>1017</th>\n",
       "      <td>1017</td>\n",
       "      <td>2.840909</td>\n",
       "    </tr>\n",
       "    <tr>\n",
       "      <th>1753</th>\n",
       "      <td>1753</td>\n",
       "      <td>2.750000</td>\n",
       "    </tr>\n",
       "    <tr>\n",
       "      <th>428</th>\n",
       "      <td>428</td>\n",
       "      <td>2.727273</td>\n",
       "    </tr>\n",
       "    <tr>\n",
       "      <th>200</th>\n",
       "      <td>200</td>\n",
       "      <td>2.681818</td>\n",
       "    </tr>\n",
       "    <tr>\n",
       "      <th>3159</th>\n",
       "      <td>3159</td>\n",
       "      <td>2.659091</td>\n",
       "    </tr>\n",
       "  </tbody>\n",
       "</table>\n",
       "</div>"
      ],
      "text/plain": [
       "       tid    rating\n",
       "166    166  3.840909\n",
       "7209  7209  3.295455\n",
       "350    350  3.113636\n",
       "3761  3761  3.045455\n",
       "80      80  3.022727\n",
       "1017  1017  2.840909\n",
       "1753  1753  2.750000\n",
       "428    428  2.727273\n",
       "200    200  2.681818\n",
       "3159  3159  2.659091"
      ]
     },
     "execution_count": 6,
     "metadata": {},
     "output_type": "execute_result"
    }
   ],
   "source": [
    "# Count POP to DF\n",
    "tid_list = []\n",
    "pop_list = []\n",
    "for i in df['tid'].unique():\n",
    "    tid_list.append(i)\n",
    "    pop_list.append(len(df[df['tid']==i])/num_user*5)\n",
    "    \n",
    "d = {'tid': tid_list, 'rating': pop_list}\n",
    "df_pop = pd.DataFrame(data=d)\n",
    "df_pop = df_pop.sort_values(by=['rating'], ascending=False)\n",
    "df_pop[:10]"
   ]
  },
  {
   "cell_type": "code",
   "execution_count": 7,
   "metadata": {},
   "outputs": [
    {
     "data": {
      "text/plain": [
       "[0.0, 0.1, 0.2, 0.3, 0.4, 0.5, 0.6, 0.7, 0.8, 0.9, 1.0]"
      ]
     },
     "execution_count": 7,
     "metadata": {},
     "output_type": "execute_result"
    }
   ],
   "source": [
    "lambdas = []\n",
    "for i in range(11):\n",
    "    lambdas.append(i/10)\n",
    "lambdas"
   ]
  },
  {
   "cell_type": "code",
   "execution_count": 8,
   "metadata": {},
   "outputs": [
    {
     "data": {
      "application/vnd.jupyter.widget-view+json": {
       "model_id": "1505d62311e849bdbcf13dea48c6cc58",
       "version_major": 2,
       "version_minor": 0
      },
      "text/plain": [
       "HBox(children=(FloatProgress(value=0.0, max=11.0), HTML(value='')))"
      ]
     },
     "metadata": {},
     "output_type": "display_data"
    },
    {
     "name": "stdout",
     "output_type": "stream",
     "text": [
      "[0.6647727272727293, 0.664772727272727, 0.6647727272727267, 0.6647727272727267, 0.6647727272727267, 0.6647727272727267, 0.6647727272727267]\n",
      "[0.6636666666666691, 0.6636019283746554, 0.6641148325358847, 0.664335664335664, 0.6643181818181816, 0.6644886363636359, 0.6642857142857143]\n",
      "[0.6561818181818203, 0.6613636363636358, 0.661184210526315, 0.6623251748251742, 0.6634090909090904, 0.6642045454545451, 0.6641233766233764]\n",
      "[0.6353030303030324, 0.6471763085399446, 0.6542464114832528, 0.66048951048951, 0.6587499999999997, 0.659517045454545, 0.6641233766233764]\n",
      "[0.60518181818182, 0.6215220385674923, 0.6364832535885158, 0.6476398601398597, 0.6489772727272726, 0.6514204545454544, 0.6600649350649348]\n",
      "[0.5827424242424258, 0.597004132231404, 0.6050837320574156, 0.6229020979020972, 0.6407954545454545, 0.6271306818181815, 0.6391233766233764]\n",
      "[0.5606060606060621, 0.5732782369145996, 0.5815191387559802, 0.5817307692307686, 0.6129545454545448, 0.601420454545454, 0.6066558441558436]\n",
      "[0.5503636363636376, 0.556473829201101, 0.5532894736842097, 0.5521853146853141, 0.5681818181818176, 0.5683238636363633, 0.557792207792207]\n",
      "[0.5368939393939403, 0.5376721763085389, 0.5322368421052617, 0.5340909090909084, 0.5405681818181818, 0.5332386363636361, 0.5311688311688303]\n",
      "[0.5026060606060607, 0.5115358126721752, 0.511184210526315, 0.5087412587412584, 0.5269318181818181, 0.4589488636363635, 0.4998376623376615]\n",
      "[0.3866212121212117, 0.3783746556473826, 0.38767942583732085, 0.3747377622377622, 0.4134090909090916, 0.32968749999999986, 0.3866883116883116]\n",
      "\n"
     ]
    }
   ],
   "source": [
    "for lambda_ in tqdm(lambdas):\n",
    "    top_n_size = 4\n",
    "    top_n_lists_g = []\n",
    "    for groups in groups_n:\n",
    "\n",
    "        group_size = len(groups[0])\n",
    "        top_n_lists = []\n",
    "\n",
    "        for group in groups:\n",
    "            rating_table = pd.DataFrame() \n",
    "            for member in group:\n",
    "                prediction = svd[svd['uid'] == member].copy()\n",
    "                if len(rating_table) == 0:\n",
    "                    rating_table = prediction\n",
    "                else:\n",
    "                    rating_table = rating_table.set_index('tid').add(prediction.set_index('tid'), fill_value=0).reset_index()\n",
    "            rating_table['rating'] /= group_size \n",
    "            rating_table['rating'] *= lambda_\n",
    "            pop = df_pop.copy()\n",
    "            pop['rating'] *= (1 - lambda_)\n",
    "            rating_table = rating_table.set_index('tid').add(pop.set_index('tid'), fill_value=0).reset_index()\n",
    "    #         rating_table = rating_table[rating_table['count'] == group_size]\n",
    "            rating_table = rating_table.sort_values(by=['rating'],  ascending=False)\n",
    "            rating_table = rating_table[:top_n_size]\n",
    "            top_n_list = []\n",
    "            for _, row in rating_table.iterrows():\n",
    "                top_n_list.append(row[0])\n",
    "            top_n_lists.append(top_n_list)\n",
    "        top_n_lists_g.append(top_n_lists)   \n",
    "        \n",
    "    threshold = 0.0\n",
    "    avg_pops = []\n",
    "    for i in range(len(groups_n)):\n",
    "        groups = groups_n[i]\n",
    "        top_n_lists = top_n_lists_g[i]\n",
    "\n",
    "        pops = []\n",
    "        for j in (range(len(groups))):\n",
    "            group = groups[j]\n",
    "            top_n_list = top_n_lists[j]\n",
    "            for k in range(len(group)):\n",
    "                for l in range(top_n_size):\n",
    "                    tid = top_n_list[l]\n",
    "                    pops.append(pop_dict[tid])                    \n",
    "        avg_pop = sum(pops)/len(pops)\n",
    "        avg_pops.append(avg_pop)\n",
    "        \n",
    "    print(avg_pops)"
   ]
  },
  {
   "cell_type": "code",
   "execution_count": null,
   "metadata": {},
   "outputs": [],
   "source": []
  }
 ],
 "metadata": {
  "kernelspec": {
   "display_name": "Python 3",
   "language": "python",
   "name": "python3"
  },
  "language_info": {
   "codemirror_mode": {
    "name": "ipython",
    "version": 3
   },
   "file_extension": ".py",
   "mimetype": "text/x-python",
   "name": "python",
   "nbconvert_exporter": "python",
   "pygments_lexer": "ipython3",
   "version": "3.6.10"
  }
 },
 "nbformat": 4,
 "nbformat_minor": 4
}
