{
 "cells": [
  {
   "cell_type": "code",
   "execution_count": 1,
   "metadata": {},
   "outputs": [],
   "source": [
    "import os \n",
    "import math\n",
    "import random\n",
    "import numpy as np\n",
    "import pandas as pd\n",
    "from tqdm.notebook import tqdm\n",
    "from numpy import count_nonzero\n",
    "from statistics import mean\n",
    "\n",
    "dir_ = './data/'"
   ]
  },
  {
   "cell_type": "code",
   "execution_count": 2,
   "metadata": {},
   "outputs": [
    {
     "data": {
      "text/plain": [
       "220"
      ]
     },
     "execution_count": 2,
     "metadata": {},
     "output_type": "execute_result"
    }
   ],
   "source": [
    "file_name = 'normalized_minmax_filter_track_5_user_100.csv'\n",
    "pred_m = pd.read_pickle(os.path.join(dir_, 'prediction_svd_top_N_' + file_name[:-3] + 'pkl'))\n",
    "test_m = pd.read_pickle(os.path.join(dir_, 'test_' + file_name[:-3] + 'pkl'))\n",
    "\n",
    "file_name = 'normalized_log_filter_track_5_user_100.csv'\n",
    "pred_log = pd.read_pickle(os.path.join(dir_, 'prediction_svd_top_N_' + file_name[:-3] + 'pkl'))\n",
    "test_log = pd.read_pickle(os.path.join(dir_, 'test_' + file_name[:-3] + 'pkl'))\n",
    "\n",
    "file_name = 'normalized_to_rating_filter_track_5_user_100.csv'\n",
    "all_user = pd.read_pickle(os.path.join(dir_, file_name[:-3] + 'pkl'))\n",
    "pred_l = pd.read_pickle(os.path.join(dir_, 'prediction_svd_top_N_' + file_name[:-3] + 'pkl'))\n",
    "test_l = pd.read_pickle(os.path.join(dir_, 'test_' + file_name[:-3] + 'pkl'))\n",
    "\n",
    "num_user = len(pred_m['uid'].unique())\n",
    "num_user"
   ]
  },
  {
   "cell_type": "code",
   "execution_count": 3,
   "metadata": {},
   "outputs": [],
   "source": [
    "pop_dict = {}\n",
    "for i in all_user['tid'].unique():\n",
    "    pop_dict[i] = len(all_user[all_user['tid']==i])/num_user"
   ]
  },
  {
   "cell_type": "code",
   "execution_count": 4,
   "metadata": {},
   "outputs": [],
   "source": [
    "def dcg_at_k(r, k, method=0):\n",
    "    r = np.asfarray(r)[:k]\n",
    "    for i in range(len(r)):\n",
    "        r[i] = 2**r[i] -1\n",
    "    \n",
    "    if r.size:\n",
    "        if method == 0:\n",
    "            return r[0] + np.sum(r[1:] / np.log2(np.arange(2, r.size + 1)))\n",
    "        elif method == 1:\n",
    "            return np.sum(r / np.log2(np.arange(2, r.size + 2)))\n",
    "        else:\n",
    "            raise ValueError('method must be 0 or 1.')\n",
    "    return 0.\n",
    "\n",
    "\n",
    "def ndcg_at_k(r, r_max, k, method=0):\n",
    "    dcg_max = dcg_at_k(r_max, k, method)\n",
    "    if not dcg_max:\n",
    "        return 0.\n",
    "    return dcg_at_k(r, k, method) / dcg_max"
   ]
  },
  {
   "cell_type": "code",
   "execution_count": 5,
   "metadata": {},
   "outputs": [
    {
     "data": {
      "application/vnd.jupyter.widget-view+json": {
       "model_id": "dcfa8d408f984e05aaf9fabe5a1e6dd7",
       "version_major": 2,
       "version_minor": 0
      },
      "text/plain": [
       "HBox(children=(HTML(value=''), FloatProgress(value=0.0, max=220.0), HTML(value='')))"
      ]
     },
     "metadata": {},
     "output_type": "display_data"
    },
    {
     "name": "stdout",
     "output_type": "stream",
     "text": [
      "\n"
     ]
    }
   ],
   "source": [
    "# Personal Recommendation\n",
    "n=50\n",
    "top_n_lists_m = []\n",
    "top_n_lists_l = []\n",
    "top_n_lists_log = []\n",
    "\n",
    "for i in tqdm(range(num_user)):\n",
    "    pred = pred_m[pred_m['uid'] == i]\n",
    "    pred = pred.sort_values(by=['rating'],  ascending=False)\n",
    "    pred = pred[:n]\n",
    "    top_n_list_m = []\n",
    "    for _, row in pred.iterrows():\n",
    "        top_n_list_m.append(row[1])\n",
    "    top_n_lists_m.append(top_n_list_m)\n",
    "    \n",
    "    pred = pred_l[pred_l['uid'] == i]\n",
    "    pred = pred.sort_values(by=['rating'],  ascending=False)\n",
    "    pred = pred[:n]\n",
    "    top_n_list_l = []\n",
    "    for _, row in pred.iterrows():\n",
    "        top_n_list_l.append(row[1])\n",
    "    top_n_lists_l.append(top_n_list_l)\n",
    "    \n",
    "    pred = pred_log[pred_log['uid'] == i]\n",
    "    pred = pred.sort_values(by=['rating'],  ascending=False)\n",
    "    pred = pred[:n]\n",
    "    top_n_list_log = []\n",
    "    for _, row in pred.iterrows():\n",
    "        top_n_list_log.append(row[1])\n",
    "    top_n_lists_log.append(top_n_list_log)"
   ]
  },
  {
   "cell_type": "code",
   "execution_count": 6,
   "metadata": {},
   "outputs": [
    {
     "data": {
      "application/vnd.jupyter.widget-view+json": {
       "model_id": "c306ff1365e0400299e40c54472a127f",
       "version_major": 2,
       "version_minor": 0
      },
      "text/plain": [
       "HBox(children=(HTML(value=''), FloatProgress(value=0.0, max=220.0), HTML(value='')))"
      ]
     },
     "metadata": {},
     "output_type": "display_data"
    },
    {
     "name": "stdout",
     "output_type": "stream",
     "text": [
      "\n",
      "presicion:  0.11736363636363636\n",
      "recall:  0.010816227286446883\n",
      "nDCG:  0.05524507802492375\n",
      "NOV 0.6919061983471074\n",
      "HitNOV 0.0723194214876033\n",
      "COV 0.02421364769233568\n",
      "HitCOV 0.006876603176335753\n"
     ]
    }
   ],
   "source": [
    "precision = []\n",
    "recall = []\n",
    "nDCG = []\n",
    "NOV = []\n",
    "HitNOV = []\n",
    "\n",
    "test = test_m\n",
    "covs = np.zeros(len(all_user['tid'].unique()), dtype=bool)\n",
    "hitCovs = np.zeros(len(all_user['tid'].unique()), dtype=bool)\n",
    "for i in tqdm(range(num_user)):\n",
    "    top_n_list = top_n_lists_m[i]\n",
    "    \n",
    "    hit = 0\n",
    "    nov = 0\n",
    "    hitnov = 0\n",
    "    truth_rating = []\n",
    "    for j in top_n_list:\n",
    "        t = test[test['uid'] == i]\n",
    "        t = t[t['tid']==j]\n",
    "        nov += (1-pop_dict[j])\n",
    "        covs[int(j)] = True\n",
    "        if len(t) > 0:\n",
    "            hit += 1\n",
    "            hitnov += (1-pop_dict[j])\n",
    "            truth_rating.append(t.iloc[0]['rating']) # For nDCG\n",
    "            hitCovs[int(j)] = True\n",
    "        else:\n",
    "            truth_rating.append(0) # For nDCG\n",
    "    max_rating = test[test['uid']==i].sort_values(by=['rating'],  ascending=False)['rating'].values[:n]\n",
    "\n",
    "    precision.append(hit/n)\n",
    "    recall.append(hit/len(test[test['uid'] == i]))\n",
    "    nDCG.append(ndcg_at_k(truth_rating, max_rating, n, method=1))\n",
    "    NOV.append(nov/n)\n",
    "    HitNOV.append(hitnov/n)\n",
    "\n",
    "print('presicion: ', mean(precision))\n",
    "print('recall: ', mean(recall))\n",
    "print('nDCG: ', mean(nDCG))\n",
    "print('NOV', mean(NOV))\n",
    "print('HitNOV', mean(HitNOV))\n",
    "print('COV', list(covs).count(True)/len(all_user['tid'].unique()))\n",
    "print('HitCOV', list(hitCovs).count(True)/len(all_user['tid'].unique()))"
   ]
  },
  {
   "cell_type": "code",
   "execution_count": 7,
   "metadata": {},
   "outputs": [
    {
     "data": {
      "application/vnd.jupyter.widget-view+json": {
       "model_id": "fda7585b2604420d98b0cf5824ef2b41",
       "version_major": 2,
       "version_minor": 0
      },
      "text/plain": [
       "HBox(children=(HTML(value=''), FloatProgress(value=0.0, max=220.0), HTML(value='')))"
      ]
     },
     "metadata": {},
     "output_type": "display_data"
    },
    {
     "name": "stdout",
     "output_type": "stream",
     "text": [
      "\n",
      "presicion:  0.11272727272727273\n",
      "recall:  0.00880718344622947\n",
      "nDCG:  0.0642232059469411\n",
      "NOV 0.7564842975206612\n",
      "HitNOV 0.07217933884297521\n",
      "COV 0.06005202932561989\n",
      "HitCOV 0.009405301169750222\n"
     ]
    }
   ],
   "source": [
    "precision = []\n",
    "recall = []\n",
    "nDCG = []\n",
    "NOV = []\n",
    "HitNOV = []\n",
    "\n",
    "test = test_l\n",
    "covs = np.zeros(len(all_user['tid'].unique()), dtype=bool)\n",
    "hitCovs = np.zeros(len(all_user['tid'].unique()), dtype=bool)\n",
    "for i in tqdm(range(num_user)):\n",
    "    top_n_list = top_n_lists_l[i]\n",
    "    \n",
    "    hit = 0\n",
    "    nov = 0\n",
    "    hitnov = 0\n",
    "    truth_rating = []\n",
    "    for j in top_n_list:\n",
    "        t = test[test['uid'] == i]\n",
    "        t = t[t['tid']==j]\n",
    "        nov += (1-pop_dict[j])\n",
    "        covs[int(j)] = True\n",
    "        if len(t) > 0:\n",
    "            hit += 1\n",
    "            hitnov += (1-pop_dict[j])\n",
    "            truth_rating.append(t.iloc[0]['rating']) # For nDCG\n",
    "            hitCovs[int(j)] = True\n",
    "        else:\n",
    "            truth_rating.append(0) # For nDCG\n",
    "    max_rating = test[test['uid']==i].sort_values(by=['rating'],  ascending=False)['rating'].values[:n]\n",
    "\n",
    "    precision.append(hit/n)\n",
    "    recall.append(hit/len(test[test['uid'] == i]))\n",
    "    nDCG.append(ndcg_at_k(truth_rating, max_rating, n, method=1))\n",
    "    NOV.append(nov/n)\n",
    "    HitNOV.append(hitnov/n)\n",
    "\n",
    "print('presicion: ', mean(precision))\n",
    "print('recall: ', mean(recall))\n",
    "print('nDCG: ', mean(nDCG))\n",
    "print('NOV', mean(NOV))\n",
    "print('HitNOV', mean(HitNOV))\n",
    "print('COV', list(covs).count(True)/len(all_user['tid'].unique()))\n",
    "print('HitCOV', list(hitCovs).count(True)/len(all_user['tid'].unique()))"
   ]
  },
  {
   "cell_type": "code",
   "execution_count": 8,
   "metadata": {},
   "outputs": [
    {
     "data": {
      "application/vnd.jupyter.widget-view+json": {
       "model_id": "e50929284f16431f8c1552c34134f9be",
       "version_major": 2,
       "version_minor": 0
      },
      "text/plain": [
       "HBox(children=(HTML(value=''), FloatProgress(value=0.0, max=220.0), HTML(value='')))"
      ]
     },
     "metadata": {},
     "output_type": "display_data"
    },
    {
     "name": "stdout",
     "output_type": "stream",
     "text": [
      "\n",
      "presicion:  0.13645454545454547\n",
      "recall:  0.0119953967336094\n",
      "nDCG:  0.10226818819906192\n",
      "NOV 0.6844012396694215\n",
      "HitNOV 0.08651322314049587\n",
      "COV 0.0190652913460314\n",
      "HitCOV 0.008786770725317906\n"
     ]
    }
   ],
   "source": [
    "precision = []\n",
    "recall = []\n",
    "nDCG = []\n",
    "NOV = []\n",
    "HitNOV = []\n",
    "\n",
    "test = test_log\n",
    "covs = np.zeros(len(all_user['tid'].unique()), dtype=bool)\n",
    "hitCovs = np.zeros(len(all_user['tid'].unique()), dtype=bool)\n",
    "for i in tqdm(range(num_user)):\n",
    "    top_n_list = top_n_lists_log[i]\n",
    "    \n",
    "    hit = 0\n",
    "    nov = 0\n",
    "    hitnov = 0\n",
    "    truth_rating = []\n",
    "    for j in top_n_list:\n",
    "        t = test[test['uid'] == i]\n",
    "        t = t[t['tid']==j]\n",
    "        nov += (1-pop_dict[j])\n",
    "        covs[int(j)] = True\n",
    "        if len(t) > 0:\n",
    "            hit += 1\n",
    "            hitnov += (1-pop_dict[j])\n",
    "            truth_rating.append(t.iloc[0]['rating']) # For nDCG\n",
    "            hitCovs[int(j)] = True\n",
    "        else:\n",
    "            truth_rating.append(0) # For nDCG\n",
    "    max_rating = test[test['uid']==i].sort_values(by=['rating'],  ascending=False)['rating'].values[:n]\n",
    "\n",
    "    precision.append(hit/n)\n",
    "    recall.append(hit/len(test[test['uid'] == i]))\n",
    "    nDCG.append(ndcg_at_k(truth_rating, max_rating, n, method=1))\n",
    "    NOV.append(nov/n)\n",
    "    HitNOV.append(hitnov/n)\n",
    "\n",
    "print('presicion: ', mean(precision))\n",
    "print('recall: ', mean(recall))\n",
    "print('nDCG: ', mean(nDCG))\n",
    "print('NOV', mean(NOV))\n",
    "print('HitNOV', mean(HitNOV))\n",
    "print('COV', list(covs).count(True)/len(all_user['tid'].unique()))\n",
    "print('HitCOV', list(hitCovs).count(True)/len(all_user['tid'].unique()))"
   ]
  },
  {
   "cell_type": "code",
   "execution_count": null,
   "metadata": {},
   "outputs": [],
   "source": []
  }
 ],
 "metadata": {
  "kernelspec": {
   "display_name": "Python 3",
   "language": "python",
   "name": "python3"
  },
  "language_info": {
   "codemirror_mode": {
    "name": "ipython",
    "version": 3
   },
   "file_extension": ".py",
   "mimetype": "text/x-python",
   "name": "python",
   "nbconvert_exporter": "python",
   "pygments_lexer": "ipython3",
   "version": "3.6.12"
  }
 },
 "nbformat": 4,
 "nbformat_minor": 4
}
