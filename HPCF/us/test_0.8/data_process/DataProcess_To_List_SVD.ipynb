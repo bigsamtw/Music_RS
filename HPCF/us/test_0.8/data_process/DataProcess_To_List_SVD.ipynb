{
 "cells": [
  {
   "cell_type": "code",
   "execution_count": 9,
   "metadata": {},
   "outputs": [],
   "source": [
    "import pandas as pd\n",
    "import numpy as np\n",
    "import os\n",
    "import tqdm\n",
    "from tqdm.notebook import tqdm\n",
    "from pandas import Series, DataFrame\n",
    "from sklearn.model_selection import train_test_split\n",
    "\n",
    "dir_ = '../data/'\n",
    "file_name = 'normalized_log_filter_track_5_user_100.pkl'"
   ]
  },
  {
   "cell_type": "code",
   "execution_count": 10,
   "metadata": {},
   "outputs": [],
   "source": [
    "df_train =  pd.read_pickle(os.path.join(dir_,'train_' + file_name))\n",
    "df_test = pd.read_pickle(os.path.join(dir_,'test_' + file_name))"
   ]
  },
  {
   "cell_type": "code",
   "execution_count": 11,
   "metadata": {
    "scrolled": true
   },
   "outputs": [
    {
     "data": {
      "text/html": [
       "<div>\n",
       "<style scoped>\n",
       "    .dataframe tbody tr th:only-of-type {\n",
       "        vertical-align: middle;\n",
       "    }\n",
       "\n",
       "    .dataframe tbody tr th {\n",
       "        vertical-align: top;\n",
       "    }\n",
       "\n",
       "    .dataframe thead th {\n",
       "        text-align: right;\n",
       "    }\n",
       "</style>\n",
       "<table border=\"1\" class=\"dataframe\">\n",
       "  <thead>\n",
       "    <tr style=\"text-align: right;\">\n",
       "      <th></th>\n",
       "      <th>uid</th>\n",
       "      <th>tid</th>\n",
       "      <th>rating</th>\n",
       "      <th>count</th>\n",
       "    </tr>\n",
       "  </thead>\n",
       "  <tbody>\n",
       "    <tr>\n",
       "      <th>267948</th>\n",
       "      <td>55</td>\n",
       "      <td>11638</td>\n",
       "      <td>0.698970</td>\n",
       "      <td>4</td>\n",
       "    </tr>\n",
       "    <tr>\n",
       "      <th>581368</th>\n",
       "      <td>115</td>\n",
       "      <td>2843</td>\n",
       "      <td>0.602060</td>\n",
       "      <td>3</td>\n",
       "    </tr>\n",
       "    <tr>\n",
       "      <th>92569</th>\n",
       "      <td>13</td>\n",
       "      <td>30453</td>\n",
       "      <td>0.602060</td>\n",
       "      <td>3</td>\n",
       "    </tr>\n",
       "    <tr>\n",
       "      <th>597197</th>\n",
       "      <td>116</td>\n",
       "      <td>8844</td>\n",
       "      <td>1.146128</td>\n",
       "      <td>13</td>\n",
       "    </tr>\n",
       "    <tr>\n",
       "      <th>453032</th>\n",
       "      <td>88</td>\n",
       "      <td>25185</td>\n",
       "      <td>0.301030</td>\n",
       "      <td>1</td>\n",
       "    </tr>\n",
       "  </tbody>\n",
       "</table>\n",
       "</div>"
      ],
      "text/plain": [
       "        uid    tid    rating  count\n",
       "267948   55  11638  0.698970      4\n",
       "581368  115   2843  0.602060      3\n",
       "92569    13  30453  0.602060      3\n",
       "597197  116   8844  1.146128     13\n",
       "453032   88  25185  0.301030      1"
      ]
     },
     "execution_count": 11,
     "metadata": {},
     "output_type": "execute_result"
    }
   ],
   "source": [
    "df_train[:5]"
   ]
  },
  {
   "cell_type": "code",
   "execution_count": 12,
   "metadata": {
    "scrolled": true
   },
   "outputs": [
    {
     "data": {
      "application/vnd.jupyter.widget-view+json": {
       "model_id": "f3be08b0526a46d2b568f198c6767eae",
       "version_major": 2,
       "version_minor": 0
      },
      "text/plain": [
       "HBox(children=(HTML(value=''), FloatProgress(value=0.0, max=561889.0), HTML(value='')))"
      ]
     },
     "metadata": {},
     "output_type": "display_data"
    },
    {
     "name": "stdout",
     "output_type": "stream",
     "text": [
      "\n"
     ]
    }
   ],
   "source": [
    "train_x = []\n",
    "train_y = []\n",
    "pbar = tqdm(total = len(df_train))\n",
    "for index, row in df_train.iterrows():\n",
    "    train_x.append([row['uid'], row['tid']])\n",
    "    train_y.append(row['rating'])\n",
    "    pbar.update(1)\n",
    "pbar.close()"
   ]
  },
  {
   "cell_type": "code",
   "execution_count": 13,
   "metadata": {
    "scrolled": true
   },
   "outputs": [
    {
     "data": {
      "application/vnd.jupyter.widget-view+json": {
       "model_id": "b2327e409b0c4e469f3545d534e2ce26",
       "version_major": 2,
       "version_minor": 0
      },
      "text/plain": [
       "HBox(children=(HTML(value=''), FloatProgress(value=0.0, max=140473.0), HTML(value='')))"
      ]
     },
     "metadata": {},
     "output_type": "display_data"
    },
    {
     "name": "stdout",
     "output_type": "stream",
     "text": [
      "\n"
     ]
    }
   ],
   "source": [
    "test_x = []\n",
    "test_y = []\n",
    "pbar = tqdm(total = len(df_test))\n",
    "for index, row in df_test.iterrows():\n",
    "    test_x.append([row['uid'], row['tid']])\n",
    "    test_y.append(row['rating'])\n",
    "    pbar.update(1)\n",
    "pbar.close()"
   ]
  },
  {
   "cell_type": "code",
   "execution_count": 14,
   "metadata": {},
   "outputs": [
    {
     "data": {
      "text/plain": [
       "[[55.0, 11638.0],\n",
       " [115.0, 2843.0],\n",
       " [13.0, 30453.0],\n",
       " [116.0, 8844.0],\n",
       " [88.0, 25185.0]]"
      ]
     },
     "execution_count": 14,
     "metadata": {},
     "output_type": "execute_result"
    }
   ],
   "source": [
    "train_x[:5]"
   ]
  },
  {
   "cell_type": "code",
   "execution_count": 15,
   "metadata": {},
   "outputs": [
    {
     "data": {
      "text/plain": [
       "[0.6989700043360187,\n",
       " 0.6020599913279623,\n",
       " 0.6020599913279623,\n",
       " 1.1461280356782377,\n",
       " 0.30102999566398114]"
      ]
     },
     "execution_count": 15,
     "metadata": {},
     "output_type": "execute_result"
    }
   ],
   "source": [
    "train_y[:5]"
   ]
  },
  {
   "cell_type": "code",
   "execution_count": 16,
   "metadata": {},
   "outputs": [],
   "source": [
    "np.savetxt(os.path.join(dir_, 'train_x_' + file_name[:-3] + 'csv'), train_x, delimiter=\",\")\n",
    "np.savetxt(os.path.join(dir_, 'train_y_' + file_name[:-3] + 'csv'), train_y, delimiter=\",\")\n",
    "np.savetxt(os.path.join(dir_, 'test_x_' + file_name[:-3] + 'csv'), test_x, delimiter=\",\")\n",
    "np.savetxt(os.path.join(dir_, 'test_y_' + file_name[:-3] + 'csv'), test_y, delimiter=\",\")"
   ]
  },
  {
   "cell_type": "code",
   "execution_count": null,
   "metadata": {
    "collapsed": true
   },
   "outputs": [],
   "source": []
  },
  {
   "cell_type": "code",
   "execution_count": null,
   "metadata": {
    "collapsed": true
   },
   "outputs": [],
   "source": []
  }
 ],
 "metadata": {
  "kernelspec": {
   "display_name": "Python 3",
   "language": "python",
   "name": "python3"
  },
  "language_info": {
   "codemirror_mode": {
    "name": "ipython",
    "version": 3
   },
   "file_extension": ".py",
   "mimetype": "text/x-python",
   "name": "python",
   "nbconvert_exporter": "python",
   "pygments_lexer": "ipython3",
   "version": "3.6.12"
  }
 },
 "nbformat": 4,
 "nbformat_minor": 2
}
