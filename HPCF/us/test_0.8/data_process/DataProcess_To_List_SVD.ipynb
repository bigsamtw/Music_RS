{
 "cells": [
  {
   "cell_type": "code",
   "execution_count": 16,
   "metadata": {
    "collapsed": true
   },
   "outputs": [],
   "source": [
    "import pandas as pd\n",
    "import numpy as np\n",
    "import os\n",
    "import tqdm\n",
    "from tqdm.notebook import tqdm\n",
    "from pandas import Series, DataFrame\n",
    "from sklearn.model_selection import train_test_split\n",
    "\n",
    "dir_ = '../data/'\n",
    "file_name = 'normalized_to_rating_filter_track_5_user_100.pkl'"
   ]
  },
  {
   "cell_type": "code",
   "execution_count": 17,
   "metadata": {
    "collapsed": true
   },
   "outputs": [],
   "source": [
    "df_train =  pd.read_pickle(os.path.join(dir_,'train_' + file_name))\n",
    "df_test = pd.read_pickle(os.path.join(dir_,'test_' + file_name))"
   ]
  },
  {
   "cell_type": "code",
   "execution_count": 18,
   "metadata": {
    "scrolled": true
   },
   "outputs": [
    {
     "data": {
      "text/html": [
       "<div>\n",
       "<style>\n",
       "    .dataframe thead tr:only-child th {\n",
       "        text-align: right;\n",
       "    }\n",
       "\n",
       "    .dataframe thead th {\n",
       "        text-align: left;\n",
       "    }\n",
       "\n",
       "    .dataframe tbody tr th {\n",
       "        vertical-align: top;\n",
       "    }\n",
       "</style>\n",
       "<table border=\"1\" class=\"dataframe\">\n",
       "  <thead>\n",
       "    <tr style=\"text-align: right;\">\n",
       "      <th></th>\n",
       "      <th>uid</th>\n",
       "      <th>tid</th>\n",
       "      <th>rating</th>\n",
       "      <th>count</th>\n",
       "    </tr>\n",
       "  </thead>\n",
       "  <tbody>\n",
       "    <tr>\n",
       "      <th>125053</th>\n",
       "      <td>22</td>\n",
       "      <td>35405</td>\n",
       "      <td>1.052632</td>\n",
       "      <td>4</td>\n",
       "    </tr>\n",
       "    <tr>\n",
       "      <th>502901</th>\n",
       "      <td>99</td>\n",
       "      <td>5848</td>\n",
       "      <td>0.555556</td>\n",
       "      <td>3</td>\n",
       "    </tr>\n",
       "    <tr>\n",
       "      <th>296346</th>\n",
       "      <td>61</td>\n",
       "      <td>31482</td>\n",
       "      <td>0.075758</td>\n",
       "      <td>1</td>\n",
       "    </tr>\n",
       "    <tr>\n",
       "      <th>131224</th>\n",
       "      <td>24</td>\n",
       "      <td>20567</td>\n",
       "      <td>0.178571</td>\n",
       "      <td>1</td>\n",
       "    </tr>\n",
       "    <tr>\n",
       "      <th>966868</th>\n",
       "      <td>172</td>\n",
       "      <td>19944</td>\n",
       "      <td>0.178571</td>\n",
       "      <td>3</td>\n",
       "    </tr>\n",
       "  </tbody>\n",
       "</table>\n",
       "</div>"
      ],
      "text/plain": [
       "        uid    tid    rating  count\n",
       "125053   22  35405  1.052632      4\n",
       "502901   99   5848  0.555556      3\n",
       "296346   61  31482  0.075758      1\n",
       "131224   24  20567  0.178571      1\n",
       "966868  172  19944  0.178571      3"
      ]
     },
     "execution_count": 18,
     "metadata": {},
     "output_type": "execute_result"
    }
   ],
   "source": [
    "df_train[:5]"
   ]
  },
  {
   "cell_type": "code",
   "execution_count": 19,
   "metadata": {
    "scrolled": true
   },
   "outputs": [
    {
     "data": {
      "application/vnd.jupyter.widget-view+json": {
       "model_id": "a8dbdd9792314077b2ea845108050e77",
       "version_major": 2,
       "version_minor": 0
      },
      "text/plain": [
       "HBox(children=(FloatProgress(value=0.0, max=561889.0), HTML(value='')))"
      ]
     },
     "metadata": {},
     "output_type": "display_data"
    },
    {
     "name": "stdout",
     "output_type": "stream",
     "text": [
      "\n"
     ]
    }
   ],
   "source": [
    "train_x = []\n",
    "train_y = []\n",
    "pbar = tqdm(total = len(df_train))\n",
    "for index, row in df_train.iterrows():\n",
    "    train_x.append([row['uid'], row['tid']])\n",
    "    train_y.append(row['rating'])\n",
    "    pbar.update(1)\n",
    "pbar.close()"
   ]
  },
  {
   "cell_type": "code",
   "execution_count": 20,
   "metadata": {
    "scrolled": true
   },
   "outputs": [
    {
     "data": {
      "application/vnd.jupyter.widget-view+json": {
       "model_id": "f4b9de910b2847f5928b1a1c407c5a62",
       "version_major": 2,
       "version_minor": 0
      },
      "text/plain": [
       "HBox(children=(FloatProgress(value=0.0, max=140473.0), HTML(value='')))"
      ]
     },
     "metadata": {},
     "output_type": "display_data"
    },
    {
     "name": "stdout",
     "output_type": "stream",
     "text": [
      "\n"
     ]
    }
   ],
   "source": [
    "test_x = []\n",
    "test_y = []\n",
    "pbar = tqdm(total = len(df_test))\n",
    "for index, row in df_test.iterrows():\n",
    "    test_x.append([row['uid'], row['tid']])\n",
    "    test_y.append(row['rating'])\n",
    "    pbar.update(1)\n",
    "pbar.close()"
   ]
  },
  {
   "cell_type": "code",
   "execution_count": 21,
   "metadata": {},
   "outputs": [
    {
     "data": {
      "text/plain": [
       "[[22.0, 35405.0],\n",
       " [99.0, 5848.0],\n",
       " [61.0, 31482.0],\n",
       " [24.0, 20567.0],\n",
       " [172.0, 19944.0]]"
      ]
     },
     "execution_count": 21,
     "metadata": {},
     "output_type": "execute_result"
    }
   ],
   "source": [
    "train_x[:5]"
   ]
  },
  {
   "cell_type": "code",
   "execution_count": 22,
   "metadata": {},
   "outputs": [
    {
     "data": {
      "text/plain": [
       "[1.0526315789473684,\n",
       " 0.5555555555555556,\n",
       " 0.07575757575757576,\n",
       " 0.17857142857142858,\n",
       " 0.17857142857142858]"
      ]
     },
     "execution_count": 22,
     "metadata": {},
     "output_type": "execute_result"
    }
   ],
   "source": [
    "train_y[:5]"
   ]
  },
  {
   "cell_type": "code",
   "execution_count": 23,
   "metadata": {
    "collapsed": true
   },
   "outputs": [],
   "source": [
    "np.savetxt(os.path.join(dir_, 'train_x_' + file_name[:-3] + 'csv'), train_x, delimiter=\",\")\n",
    "np.savetxt(os.path.join(dir_, 'train_y_' + file_name[:-3] + 'csv'), train_y, delimiter=\",\")\n",
    "np.savetxt(os.path.join(dir_, 'test_x_' + file_name[:-3] + 'csv'), test_x, delimiter=\",\")\n",
    "np.savetxt(os.path.join(dir_, 'test_y_' + file_name[:-3] + 'csv'), test_y, delimiter=\",\")"
   ]
  },
  {
   "cell_type": "code",
   "execution_count": null,
   "metadata": {
    "collapsed": true
   },
   "outputs": [],
   "source": []
  },
  {
   "cell_type": "code",
   "execution_count": null,
   "metadata": {
    "collapsed": true
   },
   "outputs": [],
   "source": []
  }
 ],
 "metadata": {
  "kernelspec": {
   "display_name": "Python 3",
   "language": "python",
   "name": "python3"
  },
  "language_info": {
   "codemirror_mode": {
    "name": "ipython",
    "version": 3
   },
   "file_extension": ".py",
   "mimetype": "text/x-python",
   "name": "python",
   "nbconvert_exporter": "python",
   "pygments_lexer": "ipython3",
   "version": "3.6.10"
  }
 },
 "nbformat": 4,
 "nbformat_minor": 2
}
