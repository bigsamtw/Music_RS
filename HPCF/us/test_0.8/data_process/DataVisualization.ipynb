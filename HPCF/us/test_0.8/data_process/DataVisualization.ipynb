{
 "cells": [
  {
   "cell_type": "code",
   "execution_count": 35,
   "metadata": {},
   "outputs": [],
   "source": [
    "import os\n",
    "import pandas as pd\n",
    "import numpy as np\n",
    "from pandas import Series, DataFrame\n",
    "from tqdm.notebook import tqdm\n",
    "import matplotlib.pyplot as plt"
   ]
  },
  {
   "cell_type": "code",
   "execution_count": 2,
   "metadata": {},
   "outputs": [],
   "source": [
    "lh = pd.read_pickle('../data/counting.pkl')"
   ]
  },
  {
   "cell_type": "code",
   "execution_count": 3,
   "metadata": {},
   "outputs": [],
   "source": [
    "################################\n",
    "#                              #\n",
    "#       Listening counts       #\n",
    "#                              #\n",
    "################################"
   ]
  },
  {
   "cell_type": "code",
   "execution_count": 4,
   "metadata": {},
   "outputs": [
    {
     "data": {
      "image/png": "[encoded data removed]",
      "text/plain": [
       "<Figure size 432x288 with 1 Axes>"
      ]
     },
     "metadata": {
      "needs_background": "light"
     },
     "output_type": "display_data"
    }
   ],
   "source": [
    "lh_list = lh['count'].values.tolist()\n",
    "plt.rcParams.update({'font.size': 14})\n",
    "bins = [i for i in range(0,lh['count'].max()+1,10)]\n",
    "plt.hist(lh_list, bins=bins)\n",
    "plt.xlabel('Number of listen counts')\n",
    "plt.ylabel('Number of records')\n",
    "plt.yscale('log')\n",
    "plt.savefig('./dv_all.png', dpi=600)\n",
    "plt.show()"
   ]
  },
  {
   "cell_type": "code",
   "execution_count": 32,
   "metadata": {},
   "outputs": [
    {
     "data": {
      "text/html": [
       "<div>\n",
       "<style scoped>\n",
       "    .dataframe tbody tr th:only-of-type {\n",
       "        vertical-align: middle;\n",
       "    }\n",
       "\n",
       "    .dataframe tbody tr th {\n",
       "        vertical-align: top;\n",
       "    }\n",
       "\n",
       "    .dataframe thead th {\n",
       "        text-align: right;\n",
       "    }\n",
       "</style>\n",
       "<table border=\"1\" class=\"dataframe\">\n",
       "  <thead>\n",
       "    <tr style=\"text-align: right;\">\n",
       "      <th></th>\n",
       "      <th>uid</th>\n",
       "      <th>tid</th>\n",
       "      <th>count</th>\n",
       "    </tr>\n",
       "  </thead>\n",
       "  <tbody>\n",
       "    <tr>\n",
       "      <th>1202101</th>\n",
       "      <td>215</td>\n",
       "      <td>11751</td>\n",
       "      <td>1352</td>\n",
       "    </tr>\n",
       "    <tr>\n",
       "      <th>1206228</th>\n",
       "      <td>215</td>\n",
       "      <td>216412</td>\n",
       "      <td>1358</td>\n",
       "    </tr>\n",
       "    <tr>\n",
       "      <th>1202114</th>\n",
       "      <td>215</td>\n",
       "      <td>11859</td>\n",
       "      <td>1410</td>\n",
       "    </tr>\n",
       "    <tr>\n",
       "      <th>1201129</th>\n",
       "      <td>215</td>\n",
       "      <td>617</td>\n",
       "      <td>1443</td>\n",
       "    </tr>\n",
       "    <tr>\n",
       "      <th>1203803</th>\n",
       "      <td>215</td>\n",
       "      <td>31195</td>\n",
       "      <td>1457</td>\n",
       "    </tr>\n",
       "  </tbody>\n",
       "</table>\n",
       "</div>"
      ],
      "text/plain": [
       "         uid     tid  count\n",
       "1202101  215   11751   1352\n",
       "1206228  215  216412   1358\n",
       "1202114  215   11859   1410\n",
       "1201129  215     617   1443\n",
       "1203803  215   31195   1457"
      ]
     },
     "execution_count": 32,
     "metadata": {},
     "output_type": "execute_result"
    }
   ],
   "source": [
    "lh_u_max = lh[lh['uid']==lh[lh['count']==max(lh['count'])]['uid'].values[0]]\n",
    "lh_u_max = lh_u_max.sort_values(by='count', ascending='True')\n",
    "lh_u_max[-5:]"
   ]
  },
  {
   "cell_type": "code",
   "execution_count": 33,
   "metadata": {},
   "outputs": [
    {
     "data": {
      "image/png": "[encoded data removed]",
      "text/plain": [
       "<Figure size 432x288 with 1 Axes>"
      ]
     },
     "metadata": {
      "needs_background": "light"
     },
     "output_type": "display_data"
    }
   ],
   "source": [
    "lh_list = lh_u_max['count'].values.tolist()\n",
    "plt.rcParams.update({'font.size': 14})\n",
    "bins = [i for i in range(0,lh_u_max['count'].max()+1,10)]\n",
    "n, bins, patches = plt.hist(lh_list, bins=bins)\n",
    "plt.xlabel('Number of listen counts')\n",
    "plt.ylabel('Number of records')\n",
    "plt.yscale('log')\n",
    "plt.savefig('./dv_max_user.png', dpi=600)\n",
    "plt.show()"
   ]
  },
  {
   "cell_type": "code",
   "execution_count": 7,
   "metadata": {},
   "outputs": [],
   "source": [
    "#################################\n",
    "#                               #\n",
    "#     Rating Normalization      #\n",
    "#                               #\n",
    "#################################"
   ]
  },
  {
   "cell_type": "code",
   "execution_count": 43,
   "metadata": {},
   "outputs": [
    {
     "data": {
      "text/html": [
       "<div>\n",
       "<style scoped>\n",
       "    .dataframe tbody tr th:only-of-type {\n",
       "        vertical-align: middle;\n",
       "    }\n",
       "\n",
       "    .dataframe tbody tr th {\n",
       "        vertical-align: top;\n",
       "    }\n",
       "\n",
       "    .dataframe thead th {\n",
       "        text-align: right;\n",
       "    }\n",
       "</style>\n",
       "<table border=\"1\" class=\"dataframe\">\n",
       "  <thead>\n",
       "    <tr style=\"text-align: right;\">\n",
       "      <th></th>\n",
       "      <th>uid</th>\n",
       "      <th>tid</th>\n",
       "      <th>rating</th>\n",
       "      <th>minmax</th>\n",
       "      <th>count</th>\n",
       "    </tr>\n",
       "  </thead>\n",
       "  <tbody>\n",
       "    <tr>\n",
       "      <th>4</th>\n",
       "      <td>0</td>\n",
       "      <td>0</td>\n",
       "      <td>4.75</td>\n",
       "      <td>1.595745</td>\n",
       "      <td>15</td>\n",
       "    </tr>\n",
       "    <tr>\n",
       "      <th>5</th>\n",
       "      <td>0</td>\n",
       "      <td>1</td>\n",
       "      <td>2.50</td>\n",
       "      <td>0.319149</td>\n",
       "      <td>3</td>\n",
       "    </tr>\n",
       "    <tr>\n",
       "      <th>6</th>\n",
       "      <td>0</td>\n",
       "      <td>2</td>\n",
       "      <td>0.25</td>\n",
       "      <td>0.106383</td>\n",
       "      <td>1</td>\n",
       "    </tr>\n",
       "    <tr>\n",
       "      <th>7</th>\n",
       "      <td>0</td>\n",
       "      <td>3</td>\n",
       "      <td>0.25</td>\n",
       "      <td>0.106383</td>\n",
       "      <td>1</td>\n",
       "    </tr>\n",
       "    <tr>\n",
       "      <th>8</th>\n",
       "      <td>0</td>\n",
       "      <td>4</td>\n",
       "      <td>4.50</td>\n",
       "      <td>1.063830</td>\n",
       "      <td>10</td>\n",
       "    </tr>\n",
       "    <tr>\n",
       "      <th>...</th>\n",
       "      <td>...</td>\n",
       "      <td>...</td>\n",
       "      <td>...</td>\n",
       "      <td>...</td>\n",
       "      <td>...</td>\n",
       "    </tr>\n",
       "    <tr>\n",
       "      <th>1256928</th>\n",
       "      <td>219</td>\n",
       "      <td>54824</td>\n",
       "      <td>4.75</td>\n",
       "      <td>1.219512</td>\n",
       "      <td>10</td>\n",
       "    </tr>\n",
       "    <tr>\n",
       "      <th>1256936</th>\n",
       "      <td>219</td>\n",
       "      <td>54867</td>\n",
       "      <td>1.75</td>\n",
       "      <td>0.243902</td>\n",
       "      <td>2</td>\n",
       "    </tr>\n",
       "    <tr>\n",
       "      <th>1256949</th>\n",
       "      <td>219</td>\n",
       "      <td>54900</td>\n",
       "      <td>0.25</td>\n",
       "      <td>0.121951</td>\n",
       "      <td>1</td>\n",
       "    </tr>\n",
       "    <tr>\n",
       "      <th>1256989</th>\n",
       "      <td>219</td>\n",
       "      <td>54958</td>\n",
       "      <td>0.25</td>\n",
       "      <td>0.121951</td>\n",
       "      <td>1</td>\n",
       "    </tr>\n",
       "    <tr>\n",
       "      <th>1257021</th>\n",
       "      <td>219</td>\n",
       "      <td>54962</td>\n",
       "      <td>0.25</td>\n",
       "      <td>0.121951</td>\n",
       "      <td>1</td>\n",
       "    </tr>\n",
       "  </tbody>\n",
       "</table>\n",
       "<p>702362 rows × 5 columns</p>\n",
       "</div>"
      ],
      "text/plain": [
       "         uid    tid  rating    minmax  count\n",
       "4          0      0    4.75  1.595745     15\n",
       "5          0      1    2.50  0.319149      3\n",
       "6          0      2    0.25  0.106383      1\n",
       "7          0      3    0.25  0.106383      1\n",
       "8          0      4    4.50  1.063830     10\n",
       "...      ...    ...     ...       ...    ...\n",
       "1256928  219  54824    4.75  1.219512     10\n",
       "1256936  219  54867    1.75  0.243902      2\n",
       "1256949  219  54900    0.25  0.121951      1\n",
       "1256989  219  54958    0.25  0.121951      1\n",
       "1257021  219  54962    0.25  0.121951      1\n",
       "\n",
       "[702362 rows x 5 columns]"
      ]
     },
     "execution_count": 43,
     "metadata": {},
     "output_type": "execute_result"
    }
   ],
   "source": [
    "dir_ = '../data/'\n",
    "file_name = 'normalized_to_rating_filter_track_5_user_100.csv'\n",
    "linear = pd.read_pickle(os.path.join(dir_, file_name[:-3] + 'pkl'))\n",
    "linear"
   ]
  },
  {
   "cell_type": "code",
   "execution_count": 52,
   "metadata": {},
   "outputs": [],
   "source": [
    "v = linear['rating'].values.tolist()\n",
    "b = [i for i in np.arange(0,6,0.25)]"
   ]
  },
  {
   "cell_type": "code",
   "execution_count": 53,
   "metadata": {},
   "outputs": [
    {
     "data": {
      "image/png": "[encoded data removed]",
      "text/plain": [
       "<Figure size 829.44x622.08 with 1 Axes>"
      ]
     },
     "metadata": {
      "needs_background": "light"
     },
     "output_type": "display_data"
    }
   ],
   "source": [
    "fig_x=1.8\n",
    "plt.rcParams.update({'font.size': 16})\n",
    "plt.figure(figsize=(6.4*fig_x, 4.8*fig_x))\n",
    "plt.hist(v, bins=b)\n",
    "plt.yscale('log')\n",
    "plt.ylabel('Number of ratings')\n",
    "plt.xlabel('rating')\n",
    "plt.savefig('./dv_rating_linear.png', dpi=600)\n",
    "plt.show()"
   ]
  },
  {
   "cell_type": "code",
   "execution_count": 40,
   "metadata": {},
   "outputs": [
    {
     "data": {
      "text/html": [
       "<div>\n",
       "<style scoped>\n",
       "    .dataframe tbody tr th:only-of-type {\n",
       "        vertical-align: middle;\n",
       "    }\n",
       "\n",
       "    .dataframe tbody tr th {\n",
       "        vertical-align: top;\n",
       "    }\n",
       "\n",
       "    .dataframe thead th {\n",
       "        text-align: right;\n",
       "    }\n",
       "</style>\n",
       "<table border=\"1\" class=\"dataframe\">\n",
       "  <thead>\n",
       "    <tr style=\"text-align: right;\">\n",
       "      <th></th>\n",
       "      <th>uid</th>\n",
       "      <th>tid</th>\n",
       "      <th>rating</th>\n",
       "      <th>count</th>\n",
       "    </tr>\n",
       "  </thead>\n",
       "  <tbody>\n",
       "    <tr>\n",
       "      <th>4</th>\n",
       "      <td>0</td>\n",
       "      <td>0</td>\n",
       "      <td>1.204120</td>\n",
       "      <td>15</td>\n",
       "    </tr>\n",
       "    <tr>\n",
       "      <th>5</th>\n",
       "      <td>0</td>\n",
       "      <td>1</td>\n",
       "      <td>0.602060</td>\n",
       "      <td>3</td>\n",
       "    </tr>\n",
       "    <tr>\n",
       "      <th>6</th>\n",
       "      <td>0</td>\n",
       "      <td>2</td>\n",
       "      <td>0.301030</td>\n",
       "      <td>1</td>\n",
       "    </tr>\n",
       "    <tr>\n",
       "      <th>7</th>\n",
       "      <td>0</td>\n",
       "      <td>3</td>\n",
       "      <td>0.301030</td>\n",
       "      <td>1</td>\n",
       "    </tr>\n",
       "    <tr>\n",
       "      <th>8</th>\n",
       "      <td>0</td>\n",
       "      <td>4</td>\n",
       "      <td>1.041393</td>\n",
       "      <td>10</td>\n",
       "    </tr>\n",
       "    <tr>\n",
       "      <th>...</th>\n",
       "      <td>...</td>\n",
       "      <td>...</td>\n",
       "      <td>...</td>\n",
       "      <td>...</td>\n",
       "    </tr>\n",
       "    <tr>\n",
       "      <th>1256928</th>\n",
       "      <td>219</td>\n",
       "      <td>54824</td>\n",
       "      <td>1.041393</td>\n",
       "      <td>10</td>\n",
       "    </tr>\n",
       "    <tr>\n",
       "      <th>1256936</th>\n",
       "      <td>219</td>\n",
       "      <td>54867</td>\n",
       "      <td>0.477121</td>\n",
       "      <td>2</td>\n",
       "    </tr>\n",
       "    <tr>\n",
       "      <th>1256949</th>\n",
       "      <td>219</td>\n",
       "      <td>54900</td>\n",
       "      <td>0.301030</td>\n",
       "      <td>1</td>\n",
       "    </tr>\n",
       "    <tr>\n",
       "      <th>1256989</th>\n",
       "      <td>219</td>\n",
       "      <td>54958</td>\n",
       "      <td>0.301030</td>\n",
       "      <td>1</td>\n",
       "    </tr>\n",
       "    <tr>\n",
       "      <th>1257021</th>\n",
       "      <td>219</td>\n",
       "      <td>54962</td>\n",
       "      <td>0.301030</td>\n",
       "      <td>1</td>\n",
       "    </tr>\n",
       "  </tbody>\n",
       "</table>\n",
       "<p>702362 rows × 4 columns</p>\n",
       "</div>"
      ],
      "text/plain": [
       "         uid    tid    rating  count\n",
       "4          0      0  1.204120     15\n",
       "5          0      1  0.602060      3\n",
       "6          0      2  0.301030      1\n",
       "7          0      3  0.301030      1\n",
       "8          0      4  1.041393     10\n",
       "...      ...    ...       ...    ...\n",
       "1256928  219  54824  1.041393     10\n",
       "1256936  219  54867  0.477121      2\n",
       "1256949  219  54900  0.301030      1\n",
       "1256989  219  54958  0.301030      1\n",
       "1257021  219  54962  0.301030      1\n",
       "\n",
       "[702362 rows x 4 columns]"
      ]
     },
     "execution_count": 40,
     "metadata": {},
     "output_type": "execute_result"
    }
   ],
   "source": [
    "dir_ = '../data/'\n",
    "file_name = 'normalized_log_filter_track_5_user_100.csv'\n",
    "log = pd.read_pickle(os.path.join(dir_, file_name[:-3] + 'pkl'))\n",
    "log"
   ]
  },
  {
   "cell_type": "code",
   "execution_count": 60,
   "metadata": {},
   "outputs": [],
   "source": [
    "v = log['rating'].values.tolist()\n",
    "b = [i for i in np.arange(0,6,0.25)]"
   ]
  },
  {
   "cell_type": "code",
   "execution_count": 59,
   "metadata": {},
   "outputs": [
    {
     "data": {
      "image/png": "[encoded data removed]",
      "text/plain": [
       "<Figure size 829.44x622.08 with 1 Axes>"
      ]
     },
     "metadata": {
      "needs_background": "light"
     },
     "output_type": "display_data"
    }
   ],
   "source": [
    "fig_x=1.8\n",
    "plt.rcParams.update({'font.size': 16})\n",
    "plt.figure(figsize=(6.4*fig_x, 4.8*fig_x))\n",
    "plt.hist(v, bins=b)\n",
    "plt.yscale('log')\n",
    "plt.ylabel('Number of ratings')\n",
    "plt.xlabel('rating')\n",
    "plt.savefig('./dv_rating_log.png', dpi=600)\n",
    "plt.show()"
   ]
  },
  {
   "cell_type": "code",
   "execution_count": 41,
   "metadata": {},
   "outputs": [
    {
     "data": {
      "text/html": [
       "<div>\n",
       "<style scoped>\n",
       "    .dataframe tbody tr th:only-of-type {\n",
       "        vertical-align: middle;\n",
       "    }\n",
       "\n",
       "    .dataframe tbody tr th {\n",
       "        vertical-align: top;\n",
       "    }\n",
       "\n",
       "    .dataframe thead th {\n",
       "        text-align: right;\n",
       "    }\n",
       "</style>\n",
       "<table border=\"1\" class=\"dataframe\">\n",
       "  <thead>\n",
       "    <tr style=\"text-align: right;\">\n",
       "      <th></th>\n",
       "      <th>uid</th>\n",
       "      <th>tid</th>\n",
       "      <th>rating</th>\n",
       "      <th>minmax</th>\n",
       "      <th>count</th>\n",
       "    </tr>\n",
       "  </thead>\n",
       "  <tbody>\n",
       "    <tr>\n",
       "      <th>4</th>\n",
       "      <td>0</td>\n",
       "      <td>0</td>\n",
       "      <td>4.75</td>\n",
       "      <td>1.595745</td>\n",
       "      <td>15</td>\n",
       "    </tr>\n",
       "    <tr>\n",
       "      <th>5</th>\n",
       "      <td>0</td>\n",
       "      <td>1</td>\n",
       "      <td>2.50</td>\n",
       "      <td>0.319149</td>\n",
       "      <td>3</td>\n",
       "    </tr>\n",
       "    <tr>\n",
       "      <th>6</th>\n",
       "      <td>0</td>\n",
       "      <td>2</td>\n",
       "      <td>0.25</td>\n",
       "      <td>0.106383</td>\n",
       "      <td>1</td>\n",
       "    </tr>\n",
       "    <tr>\n",
       "      <th>7</th>\n",
       "      <td>0</td>\n",
       "      <td>3</td>\n",
       "      <td>0.25</td>\n",
       "      <td>0.106383</td>\n",
       "      <td>1</td>\n",
       "    </tr>\n",
       "    <tr>\n",
       "      <th>8</th>\n",
       "      <td>0</td>\n",
       "      <td>4</td>\n",
       "      <td>4.50</td>\n",
       "      <td>1.063830</td>\n",
       "      <td>10</td>\n",
       "    </tr>\n",
       "    <tr>\n",
       "      <th>...</th>\n",
       "      <td>...</td>\n",
       "      <td>...</td>\n",
       "      <td>...</td>\n",
       "      <td>...</td>\n",
       "      <td>...</td>\n",
       "    </tr>\n",
       "    <tr>\n",
       "      <th>1256928</th>\n",
       "      <td>219</td>\n",
       "      <td>54824</td>\n",
       "      <td>4.75</td>\n",
       "      <td>1.219512</td>\n",
       "      <td>10</td>\n",
       "    </tr>\n",
       "    <tr>\n",
       "      <th>1256936</th>\n",
       "      <td>219</td>\n",
       "      <td>54867</td>\n",
       "      <td>1.75</td>\n",
       "      <td>0.243902</td>\n",
       "      <td>2</td>\n",
       "    </tr>\n",
       "    <tr>\n",
       "      <th>1256949</th>\n",
       "      <td>219</td>\n",
       "      <td>54900</td>\n",
       "      <td>0.25</td>\n",
       "      <td>0.121951</td>\n",
       "      <td>1</td>\n",
       "    </tr>\n",
       "    <tr>\n",
       "      <th>1256989</th>\n",
       "      <td>219</td>\n",
       "      <td>54958</td>\n",
       "      <td>0.25</td>\n",
       "      <td>0.121951</td>\n",
       "      <td>1</td>\n",
       "    </tr>\n",
       "    <tr>\n",
       "      <th>1257021</th>\n",
       "      <td>219</td>\n",
       "      <td>54962</td>\n",
       "      <td>0.25</td>\n",
       "      <td>0.121951</td>\n",
       "      <td>1</td>\n",
       "    </tr>\n",
       "  </tbody>\n",
       "</table>\n",
       "<p>702362 rows × 5 columns</p>\n",
       "</div>"
      ],
      "text/plain": [
       "         uid    tid  rating    minmax  count\n",
       "4          0      0    4.75  1.595745     15\n",
       "5          0      1    2.50  0.319149      3\n",
       "6          0      2    0.25  0.106383      1\n",
       "7          0      3    0.25  0.106383      1\n",
       "8          0      4    4.50  1.063830     10\n",
       "...      ...    ...     ...       ...    ...\n",
       "1256928  219  54824    4.75  1.219512     10\n",
       "1256936  219  54867    1.75  0.243902      2\n",
       "1256949  219  54900    0.25  0.121951      1\n",
       "1256989  219  54958    0.25  0.121951      1\n",
       "1257021  219  54962    0.25  0.121951      1\n",
       "\n",
       "[702362 rows x 5 columns]"
      ]
     },
     "execution_count": 41,
     "metadata": {},
     "output_type": "execute_result"
    }
   ],
   "source": [
    "dir_ = '../data/'\n",
    "file_name = 'normalized_minmax_filter_track_5_user_100.csv'\n",
    "minmax = pd.read_pickle(os.path.join(dir_, file_name[:-3] + 'pkl'))\n",
    "minmax"
   ]
  },
  {
   "cell_type": "code",
   "execution_count": 63,
   "metadata": {},
   "outputs": [],
   "source": [
    "v = minmax['minmax'].values.tolist()\n",
    "b = [i for i in np.arange(0,6,0.25)]"
   ]
  },
  {
   "cell_type": "code",
   "execution_count": 64,
   "metadata": {},
   "outputs": [
    {
     "data": {
      "image/png": "[encoded data removed]",
      "text/plain": [
       "<Figure size 829.44x622.08 with 1 Axes>"
      ]
     },
     "metadata": {
      "needs_background": "light"
     },
     "output_type": "display_data"
    }
   ],
   "source": [
    "fig_x=1.8\n",
    "plt.rcParams.update({'font.size': 16})\n",
    "plt.figure(figsize=(6.4*fig_x, 4.8*fig_x))\n",
    "plt.hist(v, bins=b)\n",
    "plt.yscale('log')\n",
    "plt.ylabel('Number of ratings')\n",
    "plt.xlabel('rating')\n",
    "plt.savefig('./dv_rating_minmax.png', dpi=600)\n",
    "plt.show()"
   ]
  },
  {
   "cell_type": "code",
   "execution_count": 8,
   "metadata": {},
   "outputs": [],
   "source": [
    "#################################\n",
    "#                               #\n",
    "#       Pop. Normalization      #\n",
    "#                               #\n",
    "#################################"
   ]
  },
  {
   "cell_type": "code",
   "execution_count": 9,
   "metadata": {},
   "outputs": [
    {
     "data": {
      "application/vnd.jupyter.widget-view+json": {
       "model_id": "2ff790fbaebf43f4b0541ecccae32ed6",
       "version_major": 2,
       "version_minor": 0
      },
      "text/plain": [
       "HBox(children=(HTML(value=''), FloatProgress(value=0.0, max=448129.0), HTML(value='')))"
      ]
     },
     "metadata": {},
     "output_type": "display_data"
    },
    {
     "name": "stdout",
     "output_type": "stream",
     "text": [
      "\n"
     ]
    },
    {
     "data": {
      "text/html": [
       "<div>\n",
       "<style scoped>\n",
       "    .dataframe tbody tr th:only-of-type {\n",
       "        vertical-align: middle;\n",
       "    }\n",
       "\n",
       "    .dataframe tbody tr th {\n",
       "        vertical-align: top;\n",
       "    }\n",
       "\n",
       "    .dataframe thead th {\n",
       "        text-align: right;\n",
       "    }\n",
       "</style>\n",
       "<table border=\"1\" class=\"dataframe\">\n",
       "  <thead>\n",
       "    <tr style=\"text-align: right;\">\n",
       "      <th></th>\n",
       "      <th>tid</th>\n",
       "      <th>rating</th>\n",
       "    </tr>\n",
       "  </thead>\n",
       "  <tbody>\n",
       "    <tr>\n",
       "      <th>214</th>\n",
       "      <td>214</td>\n",
       "      <td>169</td>\n",
       "    </tr>\n",
       "    <tr>\n",
       "      <th>13850</th>\n",
       "      <td>13850</td>\n",
       "      <td>145</td>\n",
       "    </tr>\n",
       "    <tr>\n",
       "      <th>460</th>\n",
       "      <td>460</td>\n",
       "      <td>137</td>\n",
       "    </tr>\n",
       "    <tr>\n",
       "      <th>6242</th>\n",
       "      <td>6242</td>\n",
       "      <td>135</td>\n",
       "    </tr>\n",
       "    <tr>\n",
       "      <th>96</th>\n",
       "      <td>96</td>\n",
       "      <td>133</td>\n",
       "    </tr>\n",
       "    <tr>\n",
       "      <th>1422</th>\n",
       "      <td>1422</td>\n",
       "      <td>125</td>\n",
       "    </tr>\n",
       "    <tr>\n",
       "      <th>2467</th>\n",
       "      <td>2467</td>\n",
       "      <td>121</td>\n",
       "    </tr>\n",
       "    <tr>\n",
       "      <th>576</th>\n",
       "      <td>576</td>\n",
       "      <td>121</td>\n",
       "    </tr>\n",
       "    <tr>\n",
       "      <th>262</th>\n",
       "      <td>262</td>\n",
       "      <td>118</td>\n",
       "    </tr>\n",
       "    <tr>\n",
       "      <th>4789</th>\n",
       "      <td>4789</td>\n",
       "      <td>117</td>\n",
       "    </tr>\n",
       "  </tbody>\n",
       "</table>\n",
       "</div>"
      ],
      "text/plain": [
       "         tid  rating\n",
       "214      214     169\n",
       "13850  13850     145\n",
       "460      460     137\n",
       "6242    6242     135\n",
       "96        96     133\n",
       "1422    1422     125\n",
       "2467    2467     121\n",
       "576      576     121\n",
       "262      262     118\n",
       "4789    4789     117"
      ]
     },
     "execution_count": 9,
     "metadata": {},
     "output_type": "execute_result"
    }
   ],
   "source": [
    "# POP form listening users\n",
    "tid_list = []\n",
    "pop_list = []\n",
    "for i in tqdm(lh['tid'].unique()):\n",
    "    tid_list.append(i)\n",
    "    pop_list.append(len(lh[lh['tid']==i]))\n",
    "    \n",
    "d = {'tid': tid_list, 'rating': pop_list}\n",
    "df_pop_u = pd.DataFrame(data=d)\n",
    "df_pop_u = df_pop_u.sort_values(by=['rating'], ascending=False)\n",
    "df_pop_u[:10]"
   ]
  },
  {
   "cell_type": "code",
   "execution_count": 10,
   "metadata": {},
   "outputs": [],
   "source": [
    "lh_list_u = df_pop_u['rating'].values.tolist()\n",
    "bins_u = [i for i in range(0,df_pop_u['rating'].max()+1,1)]"
   ]
  },
  {
   "cell_type": "code",
   "execution_count": 11,
   "metadata": {},
   "outputs": [
    {
     "data": {
      "image/png": "[encoded data removed]",
      "text/plain": [
       "<Figure size 829.44x622.08 with 1 Axes>"
      ]
     },
     "metadata": {
      "needs_background": "light"
     },
     "output_type": "display_data"
    }
   ],
   "source": [
    "fig_x=1.8\n",
    "plt.rcParams.update({'font.size': 16})\n",
    "plt.figure(figsize=(6.4*fig_x, 4.8*fig_x))\n",
    "plt.hist(lh_list_u, bins=bins_u)\n",
    "plt.yscale('log')\n",
    "plt.ylabel('Number of tracks')\n",
    "plt.xlabel('Popularity (listen users)')\n",
    "plt.savefig('./dv_pop_user.png', dpi=600)\n",
    "plt.show()"
   ]
  },
  {
   "cell_type": "code",
   "execution_count": 12,
   "metadata": {},
   "outputs": [
    {
     "data": {
      "application/vnd.jupyter.widget-view+json": {
       "model_id": "af98b8d9ca2b45b1874ae4a2a7567903",
       "version_major": 2,
       "version_minor": 0
      },
      "text/plain": [
       "HBox(children=(HTML(value=''), FloatProgress(value=0.0, max=448129.0), HTML(value='')))"
      ]
     },
     "metadata": {},
     "output_type": "display_data"
    },
    {
     "name": "stdout",
     "output_type": "stream",
     "text": [
      "\n"
     ]
    },
    {
     "data": {
      "text/html": [
       "<div>\n",
       "<style scoped>\n",
       "    .dataframe tbody tr th:only-of-type {\n",
       "        vertical-align: middle;\n",
       "    }\n",
       "\n",
       "    .dataframe tbody tr th {\n",
       "        vertical-align: top;\n",
       "    }\n",
       "\n",
       "    .dataframe thead th {\n",
       "        text-align: right;\n",
       "    }\n",
       "</style>\n",
       "<table border=\"1\" class=\"dataframe\">\n",
       "  <thead>\n",
       "    <tr style=\"text-align: right;\">\n",
       "      <th></th>\n",
       "      <th>tid</th>\n",
       "      <th>rating</th>\n",
       "    </tr>\n",
       "  </thead>\n",
       "  <tbody>\n",
       "    <tr>\n",
       "      <th>214</th>\n",
       "      <td>214</td>\n",
       "      <td>4231</td>\n",
       "    </tr>\n",
       "    <tr>\n",
       "      <th>96</th>\n",
       "      <td>96</td>\n",
       "      <td>2248</td>\n",
       "    </tr>\n",
       "    <tr>\n",
       "      <th>617</th>\n",
       "      <td>617</td>\n",
       "      <td>2200</td>\n",
       "    </tr>\n",
       "    <tr>\n",
       "      <th>1891</th>\n",
       "      <td>1891</td>\n",
       "      <td>1977</td>\n",
       "    </tr>\n",
       "    <tr>\n",
       "      <th>11859</th>\n",
       "      <td>11859</td>\n",
       "      <td>1942</td>\n",
       "    </tr>\n",
       "    <tr>\n",
       "      <th>460</th>\n",
       "      <td>460</td>\n",
       "      <td>1927</td>\n",
       "    </tr>\n",
       "    <tr>\n",
       "      <th>13850</th>\n",
       "      <td>13850</td>\n",
       "      <td>1844</td>\n",
       "    </tr>\n",
       "    <tr>\n",
       "      <th>38656</th>\n",
       "      <td>38656</td>\n",
       "      <td>1757</td>\n",
       "    </tr>\n",
       "    <tr>\n",
       "      <th>31195</th>\n",
       "      <td>31195</td>\n",
       "      <td>1667</td>\n",
       "    </tr>\n",
       "    <tr>\n",
       "      <th>6242</th>\n",
       "      <td>6242</td>\n",
       "      <td>1660</td>\n",
       "    </tr>\n",
       "  </tbody>\n",
       "</table>\n",
       "</div>"
      ],
      "text/plain": [
       "         tid  rating\n",
       "214      214    4231\n",
       "96        96    2248\n",
       "617      617    2200\n",
       "1891    1891    1977\n",
       "11859  11859    1942\n",
       "460      460    1927\n",
       "13850  13850    1844\n",
       "38656  38656    1757\n",
       "31195  31195    1667\n",
       "6242    6242    1660"
      ]
     },
     "execution_count": 12,
     "metadata": {},
     "output_type": "execute_result"
    }
   ],
   "source": [
    "# POP form listening counts\n",
    "tid_list = []\n",
    "pop_list = []\n",
    "for i in tqdm(lh['tid'].unique()):\n",
    "    tid_list.append(i)\n",
    "    pop_list.append(lh[lh['tid']==i].sum()['count'])\n",
    "    \n",
    "d = {'tid': tid_list, 'rating': pop_list}\n",
    "df_pop_c = pd.DataFrame(data=d)\n",
    "df_pop_c = df_pop_c.sort_values(by=['rating'], ascending=False)\n",
    "df_pop_c[:10]"
   ]
  },
  {
   "cell_type": "code",
   "execution_count": 13,
   "metadata": {},
   "outputs": [],
   "source": [
    "lh_list_c = df_pop_c['rating'].values.tolist()\n",
    "bins_c = [i for i in range(0,df_pop_c['rating'].max()+1000,1)]"
   ]
  },
  {
   "cell_type": "code",
   "execution_count": 14,
   "metadata": {},
   "outputs": [
    {
     "data": {
      "image/png": "[encoded data removed]",
      "text/plain": [
       "<Figure size 829.44x622.08 with 1 Axes>"
      ]
     },
     "metadata": {
      "needs_background": "light"
     },
     "output_type": "display_data"
    }
   ],
   "source": [
    "fig_x=1.8\n",
    "plt.rcParams.update({'font.size': 16})\n",
    "plt.figure(figsize=(6.4*fig_x, 4.8*fig_x))\n",
    "plt.hist(lh_list_c, bins=bins_c)\n",
    "plt.yscale('log')\n",
    "plt.ylabel('Number of tracks')\n",
    "plt.xlabel('Popularity (listen counts)')\n",
    "plt.savefig('./dv_pop_count.png', dpi=600)\n",
    "plt.show()"
   ]
  },
  {
   "cell_type": "code",
   "execution_count": 15,
   "metadata": {},
   "outputs": [],
   "source": [
    "df_pop_u = df_pop_u.sort_values(by=['tid'], ascending=False)\n",
    "df_pop_c = df_pop_c.sort_values(by=['tid'], ascending=False)"
   ]
  },
  {
   "cell_type": "code",
   "execution_count": 16,
   "metadata": {},
   "outputs": [
    {
     "name": "stderr",
     "output_type": "stream",
     "text": [
      "/home/han/anaconda3/envs/fm/lib/python3.6/site-packages/ipykernel_launcher.py:12: FutureWarning: `rcond` parameter will change to the default of machine precision times ``max(M, N)`` where M and N are the input matrix dimensions.\n",
      "To use the future default and silence this warning we advise to pass `rcond=None`, to keep using the old, explicitly pass `rcond=-1`.\n",
      "  if sys.path[0] == '':\n"
     ]
    },
    {
     "data": {
      "image/png": "[encoded data removed]",
      "text/plain": [
       "<Figure size 829.44x622.08 with 1 Axes>"
      ]
     },
     "metadata": {
      "needs_background": "light"
     },
     "output_type": "display_data"
    },
    {
     "data": {
      "text/plain": [
       "0.8431644635400323"
      ]
     },
     "execution_count": 16,
     "metadata": {},
     "output_type": "execute_result"
    }
   ],
   "source": [
    "fig_x = 1.8\n",
    "x = df_pop_c['rating'].values.tolist()\n",
    "y = df_pop_u['rating'].values.tolist()\n",
    "#設定大小跟x軸兩端的值\n",
    "plt.figure(figsize = (6.4*fig_x, 4.8*fig_x))\n",
    "plt.xlim(0, max(x)+1)\n",
    "plt.ylim(0, max(y)+1)\n",
    "plt.scatter(x, y, marker='.') \n",
    "\n",
    "pearR = np.corrcoef(x,y)[1,0]\n",
    "A = np.vstack([x,np.ones(len(x))]).T\n",
    "m,c = np.linalg.lstsq(A,np.array(y))[0]\n",
    "x_ = np.array(x)*m+c\n",
    "plt.plot(x,x_,color='r')\n",
    "\n",
    "#視覺化標題跟xy軸名稱\n",
    "plt.xlabel('Popularity (listen counts)')\n",
    "plt.ylabel('Popularity (listen users)')\n",
    "plt.savefig('./dv_pop_compare.png', dpi=600)\n",
    "#出圖\n",
    "plt.show()\n",
    "pearR"
   ]
  },
  {
   "cell_type": "code",
   "execution_count": null,
   "metadata": {},
   "outputs": [],
   "source": []
  }
 ],
 "metadata": {
  "kernelspec": {
   "display_name": "Python 3",
   "language": "python",
   "name": "python3"
  },
  "language_info": {
   "codemirror_mode": {
    "name": "ipython",
    "version": 3
   },
   "file_extension": ".py",
   "mimetype": "text/x-python",
   "name": "python",
   "nbconvert_exporter": "python",
   "pygments_lexer": "ipython3",
   "version": "3.6.12"
  }
 },
 "nbformat": 4,
 "nbformat_minor": 4
}
