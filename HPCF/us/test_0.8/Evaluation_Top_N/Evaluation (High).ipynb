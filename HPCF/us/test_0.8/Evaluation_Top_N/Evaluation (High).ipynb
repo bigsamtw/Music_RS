{
 "cells": [
  {
   "cell_type": "code",
   "execution_count": 40,
   "metadata": {},
   "outputs": [],
   "source": [
    "import os \n",
    "import tqdm\n",
    "import math\n",
    "import random\n",
    "import numpy as np\n",
    "import pandas as pd\n",
    "from tqdm.notebook import tqdm\n",
    "from numpy import count_nonzero\n",
    "\n",
    "dir_ = '../data/'\n",
    "group_dir_ = '../data/groups/high'\n",
    "file_name = 'normalized_to_rating_filter_track_5_user_100.csv'"
   ]
  },
  {
   "cell_type": "code",
   "execution_count": 41,
   "metadata": {},
   "outputs": [],
   "source": [
    "predictions = pd.read_pickle(os.path.join(dir_, 'post_filtering_old', str(0.005) + '_prediction_svd_top_N_' + file_name[:-3] + 'pkl'))\n",
    "test = pd.read_pickle(os.path.join(dir_, 'test_' + file_name[:-3] + 'pkl'))"
   ]
  },
  {
   "cell_type": "code",
   "execution_count": 42,
   "metadata": {},
   "outputs": [
    {
     "data": {
      "text/html": [
       "<div>\n",
       "<style scoped>\n",
       "    .dataframe tbody tr th:only-of-type {\n",
       "        vertical-align: middle;\n",
       "    }\n",
       "\n",
       "    .dataframe tbody tr th {\n",
       "        vertical-align: top;\n",
       "    }\n",
       "\n",
       "    .dataframe thead th {\n",
       "        text-align: right;\n",
       "    }\n",
       "</style>\n",
       "<table border=\"1\" class=\"dataframe\">\n",
       "  <thead>\n",
       "    <tr style=\"text-align: right;\">\n",
       "      <th></th>\n",
       "      <th>uid</th>\n",
       "      <th>tid</th>\n",
       "      <th>rating</th>\n",
       "    </tr>\n",
       "  </thead>\n",
       "  <tbody>\n",
       "    <tr>\n",
       "      <th>20</th>\n",
       "      <td>0</td>\n",
       "      <td>125</td>\n",
       "      <td>2.265003</td>\n",
       "    </tr>\n",
       "    <tr>\n",
       "      <th>32</th>\n",
       "      <td>0</td>\n",
       "      <td>177</td>\n",
       "      <td>2.514423</td>\n",
       "    </tr>\n",
       "    <tr>\n",
       "      <th>50</th>\n",
       "      <td>0</td>\n",
       "      <td>282</td>\n",
       "      <td>2.146869</td>\n",
       "    </tr>\n",
       "    <tr>\n",
       "      <th>61</th>\n",
       "      <td>0</td>\n",
       "      <td>350</td>\n",
       "      <td>2.423719</td>\n",
       "    </tr>\n",
       "    <tr>\n",
       "      <th>94</th>\n",
       "      <td>0</td>\n",
       "      <td>542</td>\n",
       "      <td>2.223415</td>\n",
       "    </tr>\n",
       "  </tbody>\n",
       "</table>\n",
       "</div>"
      ],
      "text/plain": [
       "    uid  tid    rating\n",
       "20    0  125  2.265003\n",
       "32    0  177  2.514423\n",
       "50    0  282  2.146869\n",
       "61    0  350  2.423719\n",
       "94    0  542  2.223415"
      ]
     },
     "execution_count": 42,
     "metadata": {},
     "output_type": "execute_result"
    }
   ],
   "source": [
    "predictions[:5]"
   ]
  },
  {
   "cell_type": "code",
   "execution_count": 43,
   "metadata": {},
   "outputs": [
    {
     "data": {
      "text/html": [
       "<div>\n",
       "<style scoped>\n",
       "    .dataframe tbody tr th:only-of-type {\n",
       "        vertical-align: middle;\n",
       "    }\n",
       "\n",
       "    .dataframe tbody tr th {\n",
       "        vertical-align: top;\n",
       "    }\n",
       "\n",
       "    .dataframe thead th {\n",
       "        text-align: right;\n",
       "    }\n",
       "</style>\n",
       "<table border=\"1\" class=\"dataframe\">\n",
       "  <thead>\n",
       "    <tr style=\"text-align: right;\">\n",
       "      <th></th>\n",
       "      <th>uid</th>\n",
       "      <th>tid</th>\n",
       "      <th>rating</th>\n",
       "      <th>count</th>\n",
       "    </tr>\n",
       "  </thead>\n",
       "  <tbody>\n",
       "    <tr>\n",
       "      <th>7</th>\n",
       "      <td>0</td>\n",
       "      <td>3</td>\n",
       "      <td>0.25</td>\n",
       "      <td>1</td>\n",
       "    </tr>\n",
       "    <tr>\n",
       "      <th>11</th>\n",
       "      <td>0</td>\n",
       "      <td>7</td>\n",
       "      <td>2.50</td>\n",
       "      <td>3</td>\n",
       "    </tr>\n",
       "    <tr>\n",
       "      <th>32</th>\n",
       "      <td>0</td>\n",
       "      <td>18</td>\n",
       "      <td>1.50</td>\n",
       "      <td>2</td>\n",
       "    </tr>\n",
       "    <tr>\n",
       "      <th>34</th>\n",
       "      <td>0</td>\n",
       "      <td>20</td>\n",
       "      <td>2.50</td>\n",
       "      <td>3</td>\n",
       "    </tr>\n",
       "    <tr>\n",
       "      <th>45</th>\n",
       "      <td>0</td>\n",
       "      <td>31</td>\n",
       "      <td>5.00</td>\n",
       "      <td>17</td>\n",
       "    </tr>\n",
       "  </tbody>\n",
       "</table>\n",
       "</div>"
      ],
      "text/plain": [
       "    uid  tid  rating  count\n",
       "7     0    3    0.25      1\n",
       "11    0    7    2.50      3\n",
       "32    0   18    1.50      2\n",
       "34    0   20    2.50      3\n",
       "45    0   31    5.00     17"
      ]
     },
     "execution_count": 43,
     "metadata": {},
     "output_type": "execute_result"
    }
   ],
   "source": [
    "test.sort_values(by=['uid','tid'])[:5]"
   ]
  },
  {
   "cell_type": "code",
   "execution_count": 44,
   "metadata": {},
   "outputs": [
    {
     "name": "stdout",
     "output_type": "stream",
     "text": [
      "2\n",
      "3\n",
      "4\n",
      "5\n",
      "6\n",
      "7\n",
      "8\n",
      "9\n",
      "10\n",
      "20\n"
     ]
    }
   ],
   "source": [
    "groups_n =[]\n",
    "group_sizes = ['2', '3', '4', '5', '6', '7', '8', '9', '10', '20']\n",
    "for i in range(len(group_sizes)):\n",
    "    groups = np.loadtxt(os.path.join(group_dir_, group_sizes[i] + '.csv'), delimiter=',')\n",
    "    groups_n.append(groups)\n",
    "    print(len(groups[0]))"
   ]
  },
  {
   "cell_type": "code",
   "execution_count": 45,
   "metadata": {},
   "outputs": [
    {
     "data": {
      "text/plain": [
       "220"
      ]
     },
     "execution_count": 45,
     "metadata": {},
     "output_type": "execute_result"
    }
   ],
   "source": [
    "num_user = len(predictions['uid'].unique())\n",
    "num_user"
   ]
  },
  {
   "cell_type": "code",
   "execution_count": 46,
   "metadata": {},
   "outputs": [],
   "source": [
    "precision_4 = []\n",
    "precision_20 = []\n",
    "precision_50 = []\n",
    "\n",
    "recall_4 = []\n",
    "recall_20 = []\n",
    "recall_50 = []"
   ]
  },
  {
   "cell_type": "code",
   "execution_count": 47,
   "metadata": {},
   "outputs": [
    {
     "data": {
      "application/vnd.jupyter.widget-view+json": {
       "model_id": "15160339e1394c0bb1803ce94da5c36c",
       "version_major": 2,
       "version_minor": 0
      },
      "text/plain": [
       "HBox(children=(FloatProgress(value=0.0, max=10.0), HTML(value='')))"
      ]
     },
     "metadata": {},
     "output_type": "display_data"
    },
    {
     "name": "stdout",
     "output_type": "stream",
     "text": [
      "\n"
     ]
    },
    {
     "data": {
      "application/vnd.jupyter.widget-view+json": {
       "model_id": "0f962665bd8e46f6b1a42fd946bf17e5",
       "version_major": 2,
       "version_minor": 0
      },
      "text/plain": [
       "HBox(children=(FloatProgress(value=0.0, max=3.0), HTML(value='')))"
      ]
     },
     "metadata": {},
     "output_type": "display_data"
    },
    {
     "name": "stdout",
     "output_type": "stream",
     "text": [
      "\n"
     ]
    }
   ],
   "source": [
    "# Precision and Recall\n",
    "top_n_size = 50\n",
    "top_n_lists_g = []\n",
    "for groups in tqdm(groups_n):\n",
    "\n",
    "    group_size = len(groups[0])\n",
    "    top_n_lists = []\n",
    "\n",
    "    for group in groups:\n",
    "        rating_table = pd.DataFrame() \n",
    "        for member in group:\n",
    "            prediction = predictions[predictions['uid'] == member].copy()\n",
    "            if len(rating_table) == 0:\n",
    "                rating_table = prediction\n",
    "            else:\n",
    "                rating_table = rating_table.set_index('tid').add(prediction.set_index('tid'), fill_value=0).reset_index()\n",
    "        rating_table['rating'] /= group_size \n",
    "\n",
    "        rating_table = rating_table.sort_values(by=['rating'],  ascending=False)\n",
    "        rating_table = rating_table[:top_n_size]\n",
    "        top_n_list = []\n",
    "        for _, row in rating_table.iterrows():\n",
    "            top_n_list.append(row[0])\n",
    "        top_n_lists.append(top_n_list)\n",
    "    top_n_lists_g.append(top_n_lists)   \n",
    "\n",
    "threshold = 0.0\n",
    "for top_n_size in tqdm([50, 20, 4]):\n",
    "    avg_precisions = []\n",
    "    avg_recalls = []\n",
    "    for i in range(len(groups_n)):\n",
    "        groups = groups_n[i]\n",
    "        top_n_lists = top_n_lists_g[i]\n",
    "\n",
    "        precisions = []\n",
    "        recalls =[]\n",
    "        for j in (range(len(groups))):\n",
    "\n",
    "            group = groups[j]\n",
    "            top_n_list = top_n_lists[j][:top_n_size]\n",
    "            \n",
    "            \n",
    "            for k in range(len(group)):\n",
    "                high_rating = 0\n",
    "                for l in range(top_n_size):\n",
    "                    uid = group[k]\n",
    "                    tid = top_n_list[l]\n",
    "                    t = test[test['uid'] == uid]\n",
    "                    t = t[t['tid'] == tid]\n",
    "                    if len(t) > 0 and t.iloc[0]['rating'] > threshold:\n",
    "                        high_rating += 1\n",
    "                        \n",
    "                precision = high_rating / top_n_size\n",
    "                recall = high_rating / len(test[test['uid'] == uid])\n",
    "                precisions.append(precision)\n",
    "                recalls.append(recall)\n",
    "                \n",
    "        avg_precision = 0\n",
    "        for precision in precisions:\n",
    "            avg_precision += precision\n",
    "        avg_precision /= len(precisions)\n",
    "        avg_precisions.append(avg_precision)\n",
    "        \n",
    "        avg_recall = 0\n",
    "        for recall in recalls:\n",
    "            avg_recall += recall\n",
    "        avg_recall /= len(recalls)\n",
    "        avg_recalls.append(avg_recall)\n",
    "        \n",
    "    if top_n_size == 4:\n",
    "        precision_4.append(avg_precisions)\n",
    "    elif top_n_size == 20:\n",
    "        precision_20.append(avg_precisions)\n",
    "    elif top_n_size == 50:\n",
    "        precision_50.append(avg_precisions)\n",
    "        \n",
    "    if top_n_size == 4:\n",
    "        recall_4.append(avg_recalls)\n",
    "    elif top_n_size == 20:\n",
    "        recall_20.append(avg_recalls)\n",
    "    elif top_n_size == 50:\n",
    "        recall_50.append(avg_recalls)\n"
   ]
  },
  {
   "cell_type": "code",
   "execution_count": 48,
   "metadata": {},
   "outputs": [
    {
     "name": "stdout",
     "output_type": "stream",
     "text": [
      "[0.26988636363636365, 0.24666666666666667, 0.23790322580645162, 0.18571428571428572, 0.12760416666666666, 0.14835164835164835, 0.15625, 0.10416666666666667, 0.071875, 0.09375]\n",
      "[0.206534090909091, 0.18233333333333338, 0.15120967741935484, 0.1247619047619048, 0.09218750000000002, 0.09505494505494506, 0.10562499999999994, 0.07569444444444441, 0.06374999999999995, 0.055000000000000014]\n",
      "[0.16863636363636358, 0.1358666666666666, 0.11274193548387092, 0.1022857142857142, 0.09124999999999996, 0.08153846153846146, 0.09324999999999994, 0.08166666666666662, 0.07049999999999992, 0.07550000000000004]\n",
      "[0.0017198232943863344, 0.001142163191732863, 0.0010633614159238608, 0.0007872160943781847, 0.0006278063553840227, 0.0006407016197995449, 0.0007255541745391707, 0.00044851391455541165, 0.000273857834150591, 0.0003345518021754754]\n",
      "[0.005930885756945351, 0.004356048736393375, 0.003163455341347269, 0.002892815180881813, 0.00210762169840774, 0.0020859647657215, 0.0022908762053099768, 0.0013749682120812526, 0.0013369213908222557, 0.00096811304165227]\n",
      "[0.011863817794727604, 0.008195474481014252, 0.006220205665570085, 0.005861795279364315, 0.004919803068479048, 0.00426142014641523, 0.004744627776993569, 0.003931395985800485, 0.003761555774596071, 0.003547384732011637]\n"
     ]
    }
   ],
   "source": [
    "for i in precision_4:\n",
    "    print(i)\n",
    "\n",
    "for i in precision_20:\n",
    "    print(i)\n",
    "\n",
    "for i in precision_50:\n",
    "    print(i)\n",
    "\n",
    "for i in recall_4:\n",
    "    print(i)\n",
    "\n",
    "for i in recall_20:\n",
    "    print(i)\n",
    "\n",
    "for i in recall_50:\n",
    "    print(i)"
   ]
  },
  {
   "cell_type": "code",
   "execution_count": 49,
   "metadata": {},
   "outputs": [],
   "source": [
    "def dcg_at_k(r, k, method=0):\n",
    "    r = np.asfarray(r)[:k]\n",
    "    for i in range(len(r)):\n",
    "        r[i] = 2**r[i] -1\n",
    "    \n",
    "    if r.size:\n",
    "        if method == 0:\n",
    "            return r[0] + np.sum(r[1:] / np.log2(np.arange(2, r.size + 1)))\n",
    "        elif method == 1:\n",
    "            return np.sum(r / np.log2(np.arange(2, r.size + 2)))\n",
    "        else:\n",
    "            raise ValueError('method must be 0 or 1.')\n",
    "    return 0.\n",
    "\n",
    "\n",
    "def ndcg_at_k(r, r_max, k, method=0):\n",
    "    dcg_max = dcg_at_k(r_max, k, method)\n",
    "    if not dcg_max:\n",
    "        return 0.\n",
    "    return dcg_at_k(r, k, method) / dcg_max"
   ]
  },
  {
   "cell_type": "code",
   "execution_count": 50,
   "metadata": {},
   "outputs": [],
   "source": [
    "nDCG_4 = []\n",
    "nDCG_20 = []\n",
    "nDCG_50 = []"
   ]
  },
  {
   "cell_type": "code",
   "execution_count": 51,
   "metadata": {},
   "outputs": [
    {
     "data": {
      "application/vnd.jupyter.widget-view+json": {
       "model_id": "e336664befec4cfdb05f9b99e9f57a15",
       "version_major": 2,
       "version_minor": 0
      },
      "text/plain": [
       "HBox(children=(FloatProgress(value=0.0, max=10.0), HTML(value='')))"
      ]
     },
     "metadata": {},
     "output_type": "display_data"
    },
    {
     "name": "stdout",
     "output_type": "stream",
     "text": [
      "\n"
     ]
    },
    {
     "data": {
      "application/vnd.jupyter.widget-view+json": {
       "model_id": "5b404d42de0e4ea7ba064cc374caf062",
       "version_major": 2,
       "version_minor": 0
      },
      "text/plain": [
       "HBox(children=(FloatProgress(value=0.0, max=3.0), HTML(value='')))"
      ]
     },
     "metadata": {},
     "output_type": "display_data"
    },
    {
     "name": "stdout",
     "output_type": "stream",
     "text": [
      "\n"
     ]
    }
   ],
   "source": [
    "# Precision and Recall\n",
    "top_n_size = 50\n",
    "top_n_lists_g = []\n",
    "for groups in tqdm(groups_n):\n",
    "\n",
    "    group_size = len(groups[0])\n",
    "    top_n_lists = []\n",
    "\n",
    "    for group in groups:\n",
    "        rating_table = pd.DataFrame() \n",
    "        for member in group:\n",
    "            prediction = predictions[predictions['uid'] == member].copy()\n",
    "            if len(rating_table) == 0:\n",
    "                rating_table = prediction\n",
    "            else:\n",
    "                rating_table = rating_table.set_index('tid').add(prediction.set_index('tid'), fill_value=0).reset_index()\n",
    "        rating_table['rating'] /= group_size \n",
    "\n",
    "        rating_table = rating_table.sort_values(by=['rating'],  ascending=False)\n",
    "        rating_table = rating_table[:top_n_size]\n",
    "        top_n_list = []\n",
    "        for _, row in rating_table.iterrows():\n",
    "            top_n_list.append(row[0])\n",
    "        top_n_lists.append(top_n_list)\n",
    "    top_n_lists_g.append(top_n_lists)   \n",
    "\n",
    "threshold = 0.0\n",
    "for top_n_size in tqdm([50, 20, 4]):\n",
    "    avg_nDCGs = []\n",
    "    for i in range(len(groups_n)):\n",
    "        groups = groups_n[i]\n",
    "        top_n_lists = top_n_lists_g[i]\n",
    "\n",
    "        nDCGs = []\n",
    "        for j in (range(len(groups))):\n",
    "\n",
    "            group = groups[j]\n",
    "            top_n_list = top_n_lists[j][:top_n_size]\n",
    "            \n",
    "            \n",
    "            for k in range(len(group)):\n",
    "                truth_rating = []\n",
    "                uid = group[k]\n",
    "                for l in range(top_n_size):\n",
    "                    tid = top_n_list[l]\n",
    "                    t = test[test['uid'] == uid]\n",
    "                    t = t[t['tid'] == tid]\n",
    "                    \n",
    "                    if len(t) > 0:\n",
    "                        truth_rating.append(t.iloc[0]['rating'])\n",
    "                    else:\n",
    "                        truth_rating.append(0)\n",
    "                max_rating = test[test['uid']==uid].sort_values(by=['rating'],  ascending=False)['rating'].values[:top_n_size]\n",
    "                nDCG = ndcg_at_k(truth_rating, max_rating, top_n_size, method=1)\n",
    "                nDCGs.append(nDCG)                \n",
    "        avg_nDCG = 0\n",
    "        for nDCG in nDCGs:\n",
    "            avg_nDCG += nDCG\n",
    "        avg_nDCG /= len(nDCGs)\n",
    "        avg_nDCGs.append(avg_nDCG)\n",
    "        \n",
    "    if top_n_size == 4:\n",
    "        nDCG_4.append(avg_nDCGs)\n",
    "    elif top_n_size == 20:\n",
    "        nDCG_20.append(avg_nDCGs)\n",
    "    elif top_n_size == 50:\n",
    "        nDCG_50.append(avg_nDCGs)"
   ]
  },
  {
   "cell_type": "code",
   "execution_count": 52,
   "metadata": {},
   "outputs": [
    {
     "name": "stdout",
     "output_type": "stream",
     "text": [
      "[0.1560170705361633, 0.1286463018069613, 0.12327319614555753, 0.09254670847631226, 0.0471497765986651, 0.0482188368544571, 0.0602618326198379, 0.04556130110917594, 0.03738591476010475, 0.04539380027496539]\n",
      "[0.11396535904786305, 0.09289111731523919, 0.0762486806545408, 0.06036906764282972, 0.03608817282647279, 0.03436740175962721, 0.046678919675207806, 0.03187926545417459, 0.02479914480373548, 0.02385918508773233]\n",
      "[0.09102022399318109, 0.07137975617516965, 0.05866336839388817, 0.049341716565595266, 0.035591815154374, 0.03362547855450266, 0.03918662922553685, 0.032441373779007396, 0.024688205110038032, 0.02668322538413192]\n"
     ]
    }
   ],
   "source": [
    "for i in nDCG_4:\n",
    "    print(i)\n",
    "\n",
    "for i in nDCG_20:\n",
    "    print(i)\n",
    "\n",
    "for i in nDCG_50:\n",
    "    print(i)"
   ]
  },
  {
   "cell_type": "code",
   "execution_count": null,
   "metadata": {},
   "outputs": [],
   "source": []
  }
 ],
 "metadata": {
  "kernelspec": {
   "display_name": "Python 3",
   "language": "python",
   "name": "python3"
  },
  "language_info": {
   "codemirror_mode": {
    "name": "ipython",
    "version": 3
   },
   "file_extension": ".py",
   "mimetype": "text/x-python",
   "name": "python",
   "nbconvert_exporter": "python",
   "pygments_lexer": "ipython3",
   "version": "3.6.10"
  }
 },
 "nbformat": 4,
 "nbformat_minor": 4
}
