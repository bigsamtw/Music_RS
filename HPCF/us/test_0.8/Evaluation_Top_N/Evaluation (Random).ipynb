{
 "cells": [
  {
   "cell_type": "code",
   "execution_count": 1,
   "metadata": {},
   "outputs": [],
   "source": [
    "import os \n",
    "import tqdm\n",
    "import math\n",
    "import random\n",
    "import numpy as np\n",
    "import pandas as pd\n",
    "from tqdm.notebook import tqdm\n",
    "from numpy import count_nonzero\n",
    "\n",
    "dir_ = '../data/'\n",
    "group_dir_ = '../data/groups/random'\n",
    "file_name = 'normalized_to_rating_filter_track_5_user_100.csv'"
   ]
  },
  {
   "cell_type": "code",
   "execution_count": 2,
   "metadata": {},
   "outputs": [],
   "source": [
    "predictions = pd.read_pickle(os.path.join(dir_, 'pre_filtering', str(0.5) + '_prediction_svd_top_N_' + file_name[:-3] + 'pkl'))\n",
    "test = pd.read_pickle(os.path.join(dir_, 'test_' + file_name[:-3] + 'pkl'))"
   ]
  },
  {
   "cell_type": "code",
   "execution_count": 3,
   "metadata": {},
   "outputs": [
    {
     "data": {
      "text/html": [
       "<div>\n",
       "<style scoped>\n",
       "    .dataframe tbody tr th:only-of-type {\n",
       "        vertical-align: middle;\n",
       "    }\n",
       "\n",
       "    .dataframe tbody tr th {\n",
       "        vertical-align: top;\n",
       "    }\n",
       "\n",
       "    .dataframe thead th {\n",
       "        text-align: right;\n",
       "    }\n",
       "</style>\n",
       "<table border=\"1\" class=\"dataframe\">\n",
       "  <thead>\n",
       "    <tr style=\"text-align: right;\">\n",
       "      <th></th>\n",
       "      <th>uid</th>\n",
       "      <th>tid</th>\n",
       "      <th>rating</th>\n",
       "    </tr>\n",
       "  </thead>\n",
       "  <tbody>\n",
       "    <tr>\n",
       "      <th>0</th>\n",
       "      <td>0</td>\n",
       "      <td>3</td>\n",
       "      <td>2.305414</td>\n",
       "    </tr>\n",
       "    <tr>\n",
       "      <th>1</th>\n",
       "      <td>0</td>\n",
       "      <td>7</td>\n",
       "      <td>2.275763</td>\n",
       "    </tr>\n",
       "    <tr>\n",
       "      <th>2</th>\n",
       "      <td>0</td>\n",
       "      <td>18</td>\n",
       "      <td>2.295464</td>\n",
       "    </tr>\n",
       "    <tr>\n",
       "      <th>3</th>\n",
       "      <td>0</td>\n",
       "      <td>20</td>\n",
       "      <td>2.241244</td>\n",
       "    </tr>\n",
       "    <tr>\n",
       "      <th>4</th>\n",
       "      <td>0</td>\n",
       "      <td>31</td>\n",
       "      <td>2.274279</td>\n",
       "    </tr>\n",
       "  </tbody>\n",
       "</table>\n",
       "</div>"
      ],
      "text/plain": [
       "   uid  tid    rating\n",
       "0    0    3  2.305414\n",
       "1    0    7  2.275763\n",
       "2    0   18  2.295464\n",
       "3    0   20  2.241244\n",
       "4    0   31  2.274279"
      ]
     },
     "execution_count": 3,
     "metadata": {},
     "output_type": "execute_result"
    }
   ],
   "source": [
    "predictions[:5]"
   ]
  },
  {
   "cell_type": "code",
   "execution_count": 4,
   "metadata": {},
   "outputs": [
    {
     "data": {
      "text/html": [
       "<div>\n",
       "<style scoped>\n",
       "    .dataframe tbody tr th:only-of-type {\n",
       "        vertical-align: middle;\n",
       "    }\n",
       "\n",
       "    .dataframe tbody tr th {\n",
       "        vertical-align: top;\n",
       "    }\n",
       "\n",
       "    .dataframe thead th {\n",
       "        text-align: right;\n",
       "    }\n",
       "</style>\n",
       "<table border=\"1\" class=\"dataframe\">\n",
       "  <thead>\n",
       "    <tr style=\"text-align: right;\">\n",
       "      <th></th>\n",
       "      <th>uid</th>\n",
       "      <th>tid</th>\n",
       "      <th>rating</th>\n",
       "      <th>count</th>\n",
       "    </tr>\n",
       "  </thead>\n",
       "  <tbody>\n",
       "    <tr>\n",
       "      <th>7</th>\n",
       "      <td>0</td>\n",
       "      <td>3</td>\n",
       "      <td>0.25</td>\n",
       "      <td>1</td>\n",
       "    </tr>\n",
       "    <tr>\n",
       "      <th>11</th>\n",
       "      <td>0</td>\n",
       "      <td>7</td>\n",
       "      <td>2.50</td>\n",
       "      <td>3</td>\n",
       "    </tr>\n",
       "    <tr>\n",
       "      <th>32</th>\n",
       "      <td>0</td>\n",
       "      <td>18</td>\n",
       "      <td>1.50</td>\n",
       "      <td>2</td>\n",
       "    </tr>\n",
       "    <tr>\n",
       "      <th>34</th>\n",
       "      <td>0</td>\n",
       "      <td>20</td>\n",
       "      <td>2.50</td>\n",
       "      <td>3</td>\n",
       "    </tr>\n",
       "    <tr>\n",
       "      <th>45</th>\n",
       "      <td>0</td>\n",
       "      <td>31</td>\n",
       "      <td>5.00</td>\n",
       "      <td>17</td>\n",
       "    </tr>\n",
       "  </tbody>\n",
       "</table>\n",
       "</div>"
      ],
      "text/plain": [
       "    uid  tid  rating  count\n",
       "7     0    3    0.25      1\n",
       "11    0    7    2.50      3\n",
       "32    0   18    1.50      2\n",
       "34    0   20    2.50      3\n",
       "45    0   31    5.00     17"
      ]
     },
     "execution_count": 4,
     "metadata": {},
     "output_type": "execute_result"
    }
   ],
   "source": [
    "test.sort_values(by=['uid','tid'])[:5]"
   ]
  },
  {
   "cell_type": "code",
   "execution_count": 5,
   "metadata": {},
   "outputs": [
    {
     "name": "stdout",
     "output_type": "stream",
     "text": [
      "2\n",
      "3\n",
      "4\n",
      "5\n",
      "6\n",
      "7\n",
      "8\n",
      "9\n",
      "10\n",
      "20\n"
     ]
    }
   ],
   "source": [
    "groups_n =[]\n",
    "group_sizes = ['2', '3', '4', '5', '6', '7', '8', '9', '10', '20']\n",
    "for i in range(len(group_sizes)):\n",
    "    groups = np.loadtxt(os.path.join(group_dir_, group_sizes[i] + '.csv'), delimiter=',')\n",
    "    groups_n.append(groups)\n",
    "    print(len(groups[0]))"
   ]
  },
  {
   "cell_type": "code",
   "execution_count": 6,
   "metadata": {},
   "outputs": [
    {
     "data": {
      "text/plain": [
       "220"
      ]
     },
     "execution_count": 6,
     "metadata": {},
     "output_type": "execute_result"
    }
   ],
   "source": [
    "num_user = len(predictions['uid'].unique())\n",
    "num_user"
   ]
  },
  {
   "cell_type": "code",
   "execution_count": 7,
   "metadata": {},
   "outputs": [],
   "source": [
    "precision_4 = []\n",
    "precision_20 = []\n",
    "precision_50 = []\n",
    "\n",
    "recall_4 = []\n",
    "recall_20 = []\n",
    "recall_50 = []"
   ]
  },
  {
   "cell_type": "code",
   "execution_count": 8,
   "metadata": {},
   "outputs": [
    {
     "data": {
      "application/vnd.jupyter.widget-view+json": {
       "model_id": "49d7b41c9d00482ca42aece95ce20801",
       "version_major": 2,
       "version_minor": 0
      },
      "text/plain": [
       "HBox(children=(HTML(value=''), FloatProgress(value=0.0, max=10.0), HTML(value='')))"
      ]
     },
     "metadata": {},
     "output_type": "display_data"
    },
    {
     "name": "stdout",
     "output_type": "stream",
     "text": [
      "\n"
     ]
    },
    {
     "data": {
      "application/vnd.jupyter.widget-view+json": {
       "model_id": "46ca8c2a8f544496b9fbf97d2dcf6f2b",
       "version_major": 2,
       "version_minor": 0
      },
      "text/plain": [
       "HBox(children=(HTML(value=''), FloatProgress(value=0.0, max=3.0), HTML(value='')))"
      ]
     },
     "metadata": {},
     "output_type": "display_data"
    },
    {
     "name": "stdout",
     "output_type": "stream",
     "text": [
      "\n"
     ]
    }
   ],
   "source": [
    "# Precision and Recall\n",
    "top_n_size = 50\n",
    "top_n_lists_g = []\n",
    "for groups in tqdm(groups_n):\n",
    "\n",
    "    group_size = len(groups[0])\n",
    "    top_n_lists = []\n",
    "\n",
    "    for group in groups:\n",
    "        rating_table = pd.DataFrame() \n",
    "        for member in group:\n",
    "            prediction = predictions[predictions['uid'] == member].copy()\n",
    "            if len(rating_table) == 0:\n",
    "                rating_table = prediction\n",
    "            else:\n",
    "                rating_table = rating_table.set_index('tid').add(prediction.set_index('tid'), fill_value=0).reset_index()\n",
    "        rating_table['rating'] /= group_size \n",
    "\n",
    "        rating_table = rating_table.sort_values(by=['rating'],  ascending=False)\n",
    "        rating_table = rating_table[:top_n_size]\n",
    "        top_n_list = []\n",
    "        for _, row in rating_table.iterrows():\n",
    "            top_n_list.append(row[0])\n",
    "        top_n_lists.append(top_n_list)\n",
    "    top_n_lists_g.append(top_n_lists)   \n",
    "\n",
    "threshold = 0.0\n",
    "for top_n_size in tqdm([50, 20, 4]):\n",
    "    avg_precisions = []\n",
    "    avg_recalls = []\n",
    "    for i in range(len(groups_n)):\n",
    "        groups = groups_n[i]\n",
    "        top_n_lists = top_n_lists_g[i]\n",
    "\n",
    "        precisions = []\n",
    "        recalls =[]\n",
    "        for j in (range(len(groups))):\n",
    "\n",
    "            group = groups[j]\n",
    "            top_n_list = top_n_lists[j][:top_n_size]\n",
    "            \n",
    "            \n",
    "            for k in range(len(group)):\n",
    "                high_rating = 0\n",
    "                for l in range(top_n_size):\n",
    "                    uid = group[k]\n",
    "                    tid = top_n_list[l]\n",
    "                    t = test[test['uid'] == uid]\n",
    "                    t = t[t['tid'] == tid]\n",
    "                    if len(t) > 0 and t.iloc[0]['rating'] > threshold:\n",
    "                        high_rating += 1\n",
    "                        \n",
    "                precision = high_rating / top_n_size\n",
    "                recall = high_rating / len(test[test['uid'] == uid])\n",
    "                precisions.append(precision)\n",
    "                recalls.append(recall)\n",
    "                \n",
    "        avg_precision = 0\n",
    "        for precision in precisions:\n",
    "            avg_precision += precision\n",
    "        avg_precision /= len(precisions)\n",
    "        avg_precisions.append(avg_precision)\n",
    "        \n",
    "        avg_recall = 0\n",
    "        for recall in recalls:\n",
    "            avg_recall += recall\n",
    "        avg_recall /= len(recalls)\n",
    "        avg_recalls.append(avg_recall)\n",
    "        \n",
    "    if top_n_size == 4:\n",
    "        precision_4.append(avg_precisions)\n",
    "    elif top_n_size == 20:\n",
    "        precision_20.append(avg_precisions)\n",
    "    elif top_n_size == 50:\n",
    "        precision_50.append(avg_precisions)\n",
    "        \n",
    "    if top_n_size == 4:\n",
    "        recall_4.append(avg_recalls)\n",
    "    elif top_n_size == 20:\n",
    "        recall_20.append(avg_recalls)\n",
    "    elif top_n_size == 50:\n",
    "        recall_50.append(avg_recalls)\n"
   ]
  },
  {
   "cell_type": "code",
   "execution_count": 9,
   "metadata": {},
   "outputs": [
    {
     "name": "stdout",
     "output_type": "stream",
     "text": [
      "[0.25416666666666665, 0.1875, 0.17291666666666666, 0.14791666666666667, 0.14467592592592593, 0.10253456221198157, 0.10069444444444445, 0.10648148148148148, 0.07386363636363637, 0.035227272727272725]\n",
      "[0.16958333333333328, 0.12708333333333335, 0.11958333333333332, 0.10541666666666666, 0.09004629629629636, 0.07880184331797242, 0.07407407407407414, 0.07245370370370374, 0.05727272727272729, 0.028636363636363616]\n",
      "[0.13066666666666657, 0.1006666666666666, 0.09316666666666654, 0.08349999999999991, 0.071574074074074, 0.06294930875576027, 0.05722222222222211, 0.05212962962962954, 0.04681818181818173, 0.023636363636363622]\n",
      "[0.001864677220569018, 0.001324051562215897, 0.0010710521256147444, 0.0008548321323400991, 0.001075785369503959, 0.0005204838551598174, 0.0007374488677920522, 0.001023031818660639, 0.00042105415480981847, 0.00016056935717311327]\n",
      "[0.005570618876708885, 0.004600175701633019, 0.0036556010527903893, 0.003406419654872784, 0.0028515468622617385, 0.0024356300785375136, 0.0027409334775545355, 0.002388538882192382, 0.0015416298064235045, 0.0009400420991247901]\n",
      "[0.010928819802295573, 0.008329301053240739, 0.00760083468124591, 0.006499261266068677, 0.005439084601280038, 0.004931696384151504, 0.00481067671205348, 0.004161805410182308, 0.0034719969432966393, 0.0019525664547036638]\n"
     ]
    }
   ],
   "source": [
    "for i in precision_4:\n",
    "    print(i)\n",
    "\n",
    "for i in precision_20:\n",
    "    print(i)\n",
    "\n",
    "for i in precision_50:\n",
    "    print(i)\n",
    "\n",
    "for i in recall_4:\n",
    "    print(i)\n",
    "\n",
    "for i in recall_20:\n",
    "    print(i)\n",
    "\n",
    "for i in recall_50:\n",
    "    print(i)"
   ]
  },
  {
   "cell_type": "code",
   "execution_count": 10,
   "metadata": {},
   "outputs": [],
   "source": [
    "def dcg_at_k(r, k, method=0):\n",
    "    r = np.asfarray(r)[:k]\n",
    "    for i in range(len(r)):\n",
    "        r[i] = 2**r[i] -1\n",
    "    \n",
    "    if r.size:\n",
    "        if method == 0:\n",
    "            return r[0] + np.sum(r[1:] / np.log2(np.arange(2, r.size + 1)))\n",
    "        elif method == 1:\n",
    "            return np.sum(r / np.log2(np.arange(2, r.size + 2)))\n",
    "        else:\n",
    "            raise ValueError('method must be 0 or 1.')\n",
    "    return 0.\n",
    "\n",
    "\n",
    "def ndcg_at_k(r, r_max, k, method=0):\n",
    "    dcg_max = dcg_at_k(r_max, k, method)\n",
    "    if not dcg_max:\n",
    "        return 0.\n",
    "    return dcg_at_k(r, k, method) / dcg_max"
   ]
  },
  {
   "cell_type": "code",
   "execution_count": 11,
   "metadata": {},
   "outputs": [],
   "source": [
    "nDCG_4 = []\n",
    "nDCG_20 = []\n",
    "nDCG_50 = []"
   ]
  },
  {
   "cell_type": "code",
   "execution_count": 12,
   "metadata": {},
   "outputs": [
    {
     "data": {
      "application/vnd.jupyter.widget-view+json": {
       "model_id": "59daf7ade17649f69c27c1c070a82099",
       "version_major": 2,
       "version_minor": 0
      },
      "text/plain": [
       "HBox(children=(HTML(value=''), FloatProgress(value=0.0, max=10.0), HTML(value='')))"
      ]
     },
     "metadata": {},
     "output_type": "display_data"
    },
    {
     "name": "stdout",
     "output_type": "stream",
     "text": [
      "\n"
     ]
    },
    {
     "data": {
      "application/vnd.jupyter.widget-view+json": {
       "model_id": "75a4bea12409406895b029dc126de155",
       "version_major": 2,
       "version_minor": 0
      },
      "text/plain": [
       "HBox(children=(HTML(value=''), FloatProgress(value=0.0, max=3.0), HTML(value='')))"
      ]
     },
     "metadata": {},
     "output_type": "display_data"
    },
    {
     "name": "stdout",
     "output_type": "stream",
     "text": [
      "\n"
     ]
    }
   ],
   "source": [
    "# Precision and Recall\n",
    "top_n_size = 50\n",
    "top_n_lists_g = []\n",
    "for groups in tqdm(groups_n):\n",
    "\n",
    "    group_size = len(groups[0])\n",
    "    top_n_lists = []\n",
    "\n",
    "    for group in groups:\n",
    "        rating_table = pd.DataFrame() \n",
    "        for member in group:\n",
    "            prediction = predictions[predictions['uid'] == member].copy()\n",
    "            if len(rating_table) == 0:\n",
    "                rating_table = prediction\n",
    "            else:\n",
    "                rating_table = rating_table.set_index('tid').add(prediction.set_index('tid'), fill_value=0).reset_index()\n",
    "        rating_table['rating'] /= group_size \n",
    "\n",
    "        rating_table = rating_table.sort_values(by=['rating'],  ascending=False)\n",
    "        rating_table = rating_table[:top_n_size]\n",
    "        top_n_list = []\n",
    "        for _, row in rating_table.iterrows():\n",
    "            top_n_list.append(row[0])\n",
    "        top_n_lists.append(top_n_list)\n",
    "    top_n_lists_g.append(top_n_lists)   \n",
    "\n",
    "threshold = 0.0\n",
    "for top_n_size in tqdm([50, 20, 4]):\n",
    "    avg_nDCGs = []\n",
    "    for i in range(len(groups_n)):\n",
    "        groups = groups_n[i]\n",
    "        top_n_lists = top_n_lists_g[i]\n",
    "\n",
    "        nDCGs = []\n",
    "        for j in (range(len(groups))):\n",
    "\n",
    "            group = groups[j]\n",
    "            top_n_list = top_n_lists[j][:top_n_size]\n",
    "            \n",
    "            \n",
    "            for k in range(len(group)):\n",
    "                truth_rating = []\n",
    "                uid = group[k]\n",
    "                for l in range(top_n_size):\n",
    "                    tid = top_n_list[l]\n",
    "                    t = test[test['uid'] == uid]\n",
    "                    t = t[t['tid'] == tid]\n",
    "                    \n",
    "                    if len(t) > 0:\n",
    "                        truth_rating.append(t.iloc[0]['rating'])\n",
    "                    else:\n",
    "                        truth_rating.append(0)\n",
    "                max_rating = test[test['uid']==uid].sort_values(by=['rating'],  ascending=False)['rating'].values[:top_n_size]\n",
    "                nDCG = ndcg_at_k(truth_rating, max_rating, top_n_size, method=1)\n",
    "                nDCGs.append(nDCG)                \n",
    "        avg_nDCG = 0\n",
    "        for nDCG in nDCGs:\n",
    "            avg_nDCG += nDCG\n",
    "        avg_nDCG /= len(nDCGs)\n",
    "        avg_nDCGs.append(avg_nDCG)\n",
    "        \n",
    "    if top_n_size == 4:\n",
    "        nDCG_4.append(avg_nDCGs)\n",
    "    elif top_n_size == 20:\n",
    "        nDCG_20.append(avg_nDCGs)\n",
    "    elif top_n_size == 50:\n",
    "        nDCG_50.append(avg_nDCGs)"
   ]
  },
  {
   "cell_type": "code",
   "execution_count": 13,
   "metadata": {},
   "outputs": [
    {
     "name": "stdout",
     "output_type": "stream",
     "text": [
      "[0.13836260535473183, 0.10516404355050618, 0.08965293177288887, 0.08574500870969876, 0.07295406445240837, 0.04208516860784183, 0.043319405458934056, 0.03308627967526537, 0.027910952497124736, 0.01154695734344903]\n",
      "[0.0946787682120723, 0.06760633715908806, 0.06306153583715314, 0.05267316028763876, 0.04356129431256715, 0.03225017035807107, 0.03345253476127947, 0.027758214063163106, 0.02279712495916909, 0.010280599489445574]\n",
      "[0.07426216021135705, 0.053542809045687846, 0.04959145528976625, 0.041322370825579734, 0.03470716634686609, 0.02726143188157717, 0.026945275369669133, 0.022559154857515407, 0.019708290008996092, 0.008662463881087221]\n"
     ]
    }
   ],
   "source": [
    "for i in nDCG_4:\n",
    "    print(i)\n",
    "\n",
    "for i in nDCG_20:\n",
    "    print(i)\n",
    "\n",
    "for i in nDCG_50:\n",
    "    print(i)"
   ]
  },
  {
   "cell_type": "code",
   "execution_count": null,
   "metadata": {},
   "outputs": [],
   "source": []
  },
  {
   "cell_type": "code",
   "execution_count": null,
   "metadata": {},
   "outputs": [],
   "source": []
  }
 ],
 "metadata": {
  "kernelspec": {
   "display_name": "Python 3",
   "language": "python",
   "name": "python3"
  },
  "language_info": {
   "codemirror_mode": {
    "name": "ipython",
    "version": 3
   },
   "file_extension": ".py",
   "mimetype": "text/x-python",
   "name": "python",
   "nbconvert_exporter": "python",
   "pygments_lexer": "ipython3",
   "version": "3.6.12"
  }
 },
 "nbformat": 4,
 "nbformat_minor": 4
}
