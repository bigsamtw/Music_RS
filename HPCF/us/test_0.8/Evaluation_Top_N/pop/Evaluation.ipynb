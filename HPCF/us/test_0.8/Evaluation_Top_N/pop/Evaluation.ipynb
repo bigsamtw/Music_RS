{
 "cells": [
  {
   "cell_type": "code",
   "execution_count": 1,
   "metadata": {},
   "outputs": [],
   "source": [
    "import os \n",
    "import tqdm\n",
    "import math\n",
    "import random\n",
    "import numpy as np\n",
    "import pandas as pd\n",
    "from tqdm.notebook import tqdm\n",
    "from numpy import count_nonzero\n",
    "\n",
    "dir_ = '../../data/'\n",
    "group_dir_ = '../../data/groups/high'\n",
    "file_name = 'normalized_to_rating_filter_track_5_user_100.csv'"
   ]
  },
  {
   "cell_type": "code",
   "execution_count": 2,
   "metadata": {},
   "outputs": [],
   "source": [
    "all_user = pd.read_pickle(os.path.join(dir_, file_name[:-3] + 'pkl'))\n",
    "predictions = pd.read_pickle(os.path.join(dir_, 'post_filtering_old', str(0.1) + '_prediction_svd_top_N_' + file_name[:-3] + 'pkl'))\n",
    "test = pd.read_pickle(os.path.join(dir_, 'test_' + file_name[:-3] + 'pkl'))"
   ]
  },
  {
   "cell_type": "code",
   "execution_count": 3,
   "metadata": {},
   "outputs": [
    {
     "data": {
      "text/html": [
       "<div>\n",
       "<style scoped>\n",
       "    .dataframe tbody tr th:only-of-type {\n",
       "        vertical-align: middle;\n",
       "    }\n",
       "\n",
       "    .dataframe tbody tr th {\n",
       "        vertical-align: top;\n",
       "    }\n",
       "\n",
       "    .dataframe thead th {\n",
       "        text-align: right;\n",
       "    }\n",
       "</style>\n",
       "<table border=\"1\" class=\"dataframe\">\n",
       "  <thead>\n",
       "    <tr style=\"text-align: right;\">\n",
       "      <th></th>\n",
       "      <th>uid</th>\n",
       "      <th>tid</th>\n",
       "      <th>rating</th>\n",
       "    </tr>\n",
       "  </thead>\n",
       "  <tbody>\n",
       "    <tr>\n",
       "      <th>4</th>\n",
       "      <td>0</td>\n",
       "      <td>31</td>\n",
       "      <td>2.377213</td>\n",
       "    </tr>\n",
       "    <tr>\n",
       "      <th>6</th>\n",
       "      <td>0</td>\n",
       "      <td>37</td>\n",
       "      <td>2.094848</td>\n",
       "    </tr>\n",
       "    <tr>\n",
       "      <th>10</th>\n",
       "      <td>0</td>\n",
       "      <td>72</td>\n",
       "      <td>2.319738</td>\n",
       "    </tr>\n",
       "    <tr>\n",
       "      <th>13</th>\n",
       "      <td>0</td>\n",
       "      <td>90</td>\n",
       "      <td>2.195360</td>\n",
       "    </tr>\n",
       "    <tr>\n",
       "      <th>18</th>\n",
       "      <td>0</td>\n",
       "      <td>122</td>\n",
       "      <td>2.344907</td>\n",
       "    </tr>\n",
       "  </tbody>\n",
       "</table>\n",
       "</div>"
      ],
      "text/plain": [
       "    uid  tid    rating\n",
       "4     0   31  2.377213\n",
       "6     0   37  2.094848\n",
       "10    0   72  2.319738\n",
       "13    0   90  2.195360\n",
       "18    0  122  2.344907"
      ]
     },
     "execution_count": 3,
     "metadata": {},
     "output_type": "execute_result"
    }
   ],
   "source": [
    "predictions[:5]"
   ]
  },
  {
   "cell_type": "code",
   "execution_count": 4,
   "metadata": {},
   "outputs": [
    {
     "data": {
      "text/html": [
       "<div>\n",
       "<style scoped>\n",
       "    .dataframe tbody tr th:only-of-type {\n",
       "        vertical-align: middle;\n",
       "    }\n",
       "\n",
       "    .dataframe tbody tr th {\n",
       "        vertical-align: top;\n",
       "    }\n",
       "\n",
       "    .dataframe thead th {\n",
       "        text-align: right;\n",
       "    }\n",
       "</style>\n",
       "<table border=\"1\" class=\"dataframe\">\n",
       "  <thead>\n",
       "    <tr style=\"text-align: right;\">\n",
       "      <th></th>\n",
       "      <th>uid</th>\n",
       "      <th>tid</th>\n",
       "      <th>rating</th>\n",
       "      <th>count</th>\n",
       "    </tr>\n",
       "  </thead>\n",
       "  <tbody>\n",
       "    <tr>\n",
       "      <th>7</th>\n",
       "      <td>0</td>\n",
       "      <td>3</td>\n",
       "      <td>0.25</td>\n",
       "      <td>1</td>\n",
       "    </tr>\n",
       "    <tr>\n",
       "      <th>11</th>\n",
       "      <td>0</td>\n",
       "      <td>7</td>\n",
       "      <td>2.50</td>\n",
       "      <td>3</td>\n",
       "    </tr>\n",
       "    <tr>\n",
       "      <th>32</th>\n",
       "      <td>0</td>\n",
       "      <td>18</td>\n",
       "      <td>1.50</td>\n",
       "      <td>2</td>\n",
       "    </tr>\n",
       "    <tr>\n",
       "      <th>34</th>\n",
       "      <td>0</td>\n",
       "      <td>20</td>\n",
       "      <td>2.50</td>\n",
       "      <td>3</td>\n",
       "    </tr>\n",
       "    <tr>\n",
       "      <th>45</th>\n",
       "      <td>0</td>\n",
       "      <td>31</td>\n",
       "      <td>5.00</td>\n",
       "      <td>17</td>\n",
       "    </tr>\n",
       "  </tbody>\n",
       "</table>\n",
       "</div>"
      ],
      "text/plain": [
       "    uid  tid  rating  count\n",
       "7     0    3    0.25      1\n",
       "11    0    7    2.50      3\n",
       "32    0   18    1.50      2\n",
       "34    0   20    2.50      3\n",
       "45    0   31    5.00     17"
      ]
     },
     "execution_count": 4,
     "metadata": {},
     "output_type": "execute_result"
    }
   ],
   "source": [
    "test.sort_values(by=['uid','tid'])[:5]"
   ]
  },
  {
   "cell_type": "code",
   "execution_count": 5,
   "metadata": {},
   "outputs": [],
   "source": [
    "groups_n =[]\n",
    "group_sizes = ['2', '3', '4', '5', '6', '7', '8', '9', '10', '20']\n",
    "for i in range(len(group_sizes)):\n",
    "    groups = np.loadtxt(os.path.join(group_dir_, group_sizes[i] + '.csv'), delimiter=',')\n",
    "    groups_n.append(groups)"
   ]
  },
  {
   "cell_type": "code",
   "execution_count": 6,
   "metadata": {},
   "outputs": [
    {
     "data": {
      "text/plain": [
       "220"
      ]
     },
     "execution_count": 6,
     "metadata": {},
     "output_type": "execute_result"
    }
   ],
   "source": [
    "num_user = len(predictions['uid'].unique())\n",
    "num_user"
   ]
  },
  {
   "cell_type": "code",
   "execution_count": 7,
   "metadata": {},
   "outputs": [],
   "source": [
    "pop_dict = {}\n",
    "for i in all_user['tid'].unique():\n",
    "    pop_dict[i] = len(all_user[all_user['tid']==i])/num_user"
   ]
  },
  {
   "cell_type": "code",
   "execution_count": 8,
   "metadata": {},
   "outputs": [],
   "source": [
    "pop_4 = []\n",
    "pop_20 = []\n",
    "pop_50 = []"
   ]
  },
  {
   "cell_type": "code",
   "execution_count": 9,
   "metadata": {},
   "outputs": [
    {
     "data": {
      "application/vnd.jupyter.widget-view+json": {
       "model_id": "569862335cfa4c7fa42f3aa19831e443",
       "version_major": 2,
       "version_minor": 0
      },
      "text/plain": [
       "HBox(children=(FloatProgress(value=0.0, max=10.0), HTML(value='')))"
      ]
     },
     "metadata": {},
     "output_type": "display_data"
    },
    {
     "name": "stdout",
     "output_type": "stream",
     "text": [
      "\n"
     ]
    },
    {
     "data": {
      "application/vnd.jupyter.widget-view+json": {
       "model_id": "05db2ed2bc82409aa63524a1be41d820",
       "version_major": 2,
       "version_minor": 0
      },
      "text/plain": [
       "HBox(children=(FloatProgress(value=0.0, max=3.0), HTML(value='')))"
      ]
     },
     "metadata": {},
     "output_type": "display_data"
    },
    {
     "name": "stdout",
     "output_type": "stream",
     "text": [
      "\n"
     ]
    }
   ],
   "source": [
    "top_n_size = 50\n",
    "top_n_lists_g = []\n",
    "for groups in tqdm(groups_n):\n",
    "\n",
    "    group_size = len(groups[0])\n",
    "    top_n_lists = []\n",
    "\n",
    "    for group in groups:\n",
    "        rating_table = pd.DataFrame() \n",
    "        for member in group:\n",
    "            prediction = predictions[predictions['uid'] == member].copy()\n",
    "            if len(rating_table) == 0:\n",
    "                rating_table = prediction\n",
    "            else:\n",
    "                rating_table = rating_table.set_index('tid').add(prediction.set_index('tid'), fill_value=0).reset_index()\n",
    "        rating_table['rating'] /= group_size \n",
    "\n",
    "        rating_table = rating_table.sort_values(by=['rating'],  ascending=False)\n",
    "        rating_table = rating_table[:top_n_size]\n",
    "        top_n_list = []\n",
    "        for _, row in rating_table.iterrows():\n",
    "            top_n_list.append(row[0])\n",
    "        top_n_lists.append(top_n_list)\n",
    "    top_n_lists_g.append(top_n_lists)   \n",
    "\n",
    "threshold = 0.0\n",
    "for top_n_size in tqdm([50, 20, 4]):\n",
    "    avg_pops = []\n",
    "    for i in range(len(groups_n)):\n",
    "        groups = groups_n[i]\n",
    "        top_n_lists = top_n_lists_g[i]\n",
    "\n",
    "        pops =[]\n",
    "        for j in (range(len(groups))):\n",
    "            group = groups[j]\n",
    "            top_n_list = top_n_lists[j][:top_n_size]\n",
    "            \n",
    "            for k in range(len(group)):\n",
    "                for l in range(top_n_size):\n",
    "                    tid = top_n_list[l]\n",
    "                    pops.append(pop_dict[tid])\n",
    "        avg_pop = sum(pops)/len(pops)\n",
    "        avg_pops.append(avg_pop)\n",
    "        \n",
    "    if top_n_size == 4:\n",
    "        pop_4.append(avg_pops)\n",
    "    elif top_n_size == 20:\n",
    "        pop_20.append(avg_pops)\n",
    "    elif top_n_size == 50:\n",
    "        pop_50.append(avg_pops)"
   ]
  },
  {
   "cell_type": "code",
   "execution_count": 10,
   "metadata": {},
   "outputs": [
    {
     "name": "stdout",
     "output_type": "stream",
     "text": [
      "[0.4434400826446277, 0.38711363636363655, 0.34244868035190584, 0.30730519480519475, 0.2764914772727272, 0.2600524475524481, 0.2450000000000005, 0.20880681818181823, 0.20355113636363656, 0.12045454545454529]\n",
      "[0.3517613636363622, 0.31245454545454204, 0.2734090909090898, 0.25297619047618863, 0.22436079545454476, 0.20683566433566486, 0.19113636363636424, 0.166619318181818, 0.18198863636363627, 0.08988636363636396]\n",
      "[0.30533367768595193, 0.2737345454545481, 0.23990615835777077, 0.2213636363636338, 0.19807954545454487, 0.17896503496503527, 0.16430000000000008, 0.14755681818181787, 0.15673863636363602, 0.08281818181818167]\n"
     ]
    }
   ],
   "source": [
    "for i in pop_4:\n",
    "    print(i)\n",
    "for i in pop_20:\n",
    "    print(i)\n",
    "for i in pop_50:\n",
    "    print(i)"
   ]
  },
  {
   "cell_type": "code",
   "execution_count": null,
   "metadata": {},
   "outputs": [],
   "source": []
  },
  {
   "cell_type": "code",
   "execution_count": null,
   "metadata": {},
   "outputs": [],
   "source": []
  },
  {
   "cell_type": "code",
   "execution_count": null,
   "metadata": {},
   "outputs": [],
   "source": []
  }
 ],
 "metadata": {
  "kernelspec": {
   "display_name": "Python 3",
   "language": "python",
   "name": "python3"
  },
  "language_info": {
   "codemirror_mode": {
    "name": "ipython",
    "version": 3
   },
   "file_extension": ".py",
   "mimetype": "text/x-python",
   "name": "python",
   "nbconvert_exporter": "python",
   "pygments_lexer": "ipython3",
   "version": "3.6.10"
  }
 },
 "nbformat": 4,
 "nbformat_minor": 4
}
