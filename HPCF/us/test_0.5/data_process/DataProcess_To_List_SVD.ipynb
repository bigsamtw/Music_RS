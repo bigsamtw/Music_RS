{
 "cells": [
  {
   "cell_type": "code",
   "execution_count": 1,
   "metadata": {
    "collapsed": true
   },
   "outputs": [],
   "source": [
    "import pandas as pd\n",
    "import numpy as np\n",
    "import os\n",
    "import tqdm\n",
    "from tqdm.notebook import tqdm\n",
    "from pandas import Series, DataFrame\n",
    "from sklearn.model_selection import train_test_split\n",
    "\n",
    "dir_ = '../data/'\n",
    "file_name = 'normalized_to_rating_filter_track_5_user_100.pkl'"
   ]
  },
  {
   "cell_type": "code",
   "execution_count": 2,
   "metadata": {
    "collapsed": true
   },
   "outputs": [],
   "source": [
    "df_train =  pd.read_pickle(os.path.join(dir_,'train_' + file_name))\n",
    "df_test = pd.read_pickle(os.path.join(dir_,'test_' + file_name))"
   ]
  },
  {
   "cell_type": "code",
   "execution_count": 11,
   "metadata": {
    "scrolled": true
   },
   "outputs": [
    {
     "data": {
      "text/html": [
       "<div>\n",
       "<style>\n",
       "    .dataframe thead tr:only-child th {\n",
       "        text-align: right;\n",
       "    }\n",
       "\n",
       "    .dataframe thead th {\n",
       "        text-align: left;\n",
       "    }\n",
       "\n",
       "    .dataframe tbody tr th {\n",
       "        vertical-align: top;\n",
       "    }\n",
       "</style>\n",
       "<table border=\"1\" class=\"dataframe\">\n",
       "  <thead>\n",
       "    <tr style=\"text-align: right;\">\n",
       "      <th></th>\n",
       "      <th>uid</th>\n",
       "      <th>tid</th>\n",
       "      <th>rating</th>\n",
       "      <th>minmax</th>\n",
       "      <th>count</th>\n",
       "    </tr>\n",
       "  </thead>\n",
       "  <tbody>\n",
       "    <tr>\n",
       "      <th>842258</th>\n",
       "      <td>156</td>\n",
       "      <td>592</td>\n",
       "      <td>4.25</td>\n",
       "      <td>1.666667</td>\n",
       "      <td>2</td>\n",
       "    </tr>\n",
       "    <tr>\n",
       "      <th>836341</th>\n",
       "      <td>155</td>\n",
       "      <td>32551</td>\n",
       "      <td>0.25</td>\n",
       "      <td>0.138889</td>\n",
       "      <td>1</td>\n",
       "    </tr>\n",
       "    <tr>\n",
       "      <th>254213</th>\n",
       "      <td>50</td>\n",
       "      <td>46505</td>\n",
       "      <td>2.00</td>\n",
       "      <td>0.204082</td>\n",
       "      <td>2</td>\n",
       "    </tr>\n",
       "    <tr>\n",
       "      <th>622175</th>\n",
       "      <td>123</td>\n",
       "      <td>11399</td>\n",
       "      <td>2.00</td>\n",
       "      <td>0.196078</td>\n",
       "      <td>2</td>\n",
       "    </tr>\n",
       "    <tr>\n",
       "      <th>276702</th>\n",
       "      <td>57</td>\n",
       "      <td>34379</td>\n",
       "      <td>0.25</td>\n",
       "      <td>0.020161</td>\n",
       "      <td>1</td>\n",
       "    </tr>\n",
       "    <tr>\n",
       "      <th>1134730</th>\n",
       "      <td>194</td>\n",
       "      <td>33890</td>\n",
       "      <td>0.25</td>\n",
       "      <td>0.238095</td>\n",
       "      <td>1</td>\n",
       "    </tr>\n",
       "    <tr>\n",
       "      <th>189353</th>\n",
       "      <td>41</td>\n",
       "      <td>3312</td>\n",
       "      <td>0.25</td>\n",
       "      <td>0.035714</td>\n",
       "      <td>1</td>\n",
       "    </tr>\n",
       "    <tr>\n",
       "      <th>625023</th>\n",
       "      <td>123</td>\n",
       "      <td>35625</td>\n",
       "      <td>0.25</td>\n",
       "      <td>0.098039</td>\n",
       "      <td>1</td>\n",
       "    </tr>\n",
       "    <tr>\n",
       "      <th>910302</th>\n",
       "      <td>167</td>\n",
       "      <td>39675</td>\n",
       "      <td>2.75</td>\n",
       "      <td>0.047847</td>\n",
       "      <td>2</td>\n",
       "    </tr>\n",
       "    <tr>\n",
       "      <th>1165287</th>\n",
       "      <td>196</td>\n",
       "      <td>34433</td>\n",
       "      <td>2.25</td>\n",
       "      <td>0.250000</td>\n",
       "      <td>2</td>\n",
       "    </tr>\n",
       "  </tbody>\n",
       "</table>\n",
       "</div>"
      ],
      "text/plain": [
       "         uid    tid  rating    minmax  count\n",
       "842258   156    592    4.25  1.666667      2\n",
       "836341   155  32551    0.25  0.138889      1\n",
       "254213    50  46505    2.00  0.204082      2\n",
       "622175   123  11399    2.00  0.196078      2\n",
       "276702    57  34379    0.25  0.020161      1\n",
       "1134730  194  33890    0.25  0.238095      1\n",
       "189353    41   3312    0.25  0.035714      1\n",
       "625023   123  35625    0.25  0.098039      1\n",
       "910302   167  39675    2.75  0.047847      2\n",
       "1165287  196  34433    2.25  0.250000      2"
      ]
     },
     "execution_count": 11,
     "metadata": {},
     "output_type": "execute_result"
    }
   ],
   "source": [
    "df_train[:10]"
   ]
  },
  {
   "cell_type": "code",
   "execution_count": 10,
   "metadata": {
    "scrolled": true
   },
   "outputs": [
    {
     "data": {
      "application/vnd.jupyter.widget-view+json": {
       "model_id": "f789988ccbb04474a895b28d155285c5",
       "version_major": 2,
       "version_minor": 0
      },
      "text/plain": [
       "HBox(children=(FloatProgress(value=0.0, max=351181.0), HTML(value='')))"
      ]
     },
     "metadata": {},
     "output_type": "display_data"
    },
    {
     "name": "stdout",
     "output_type": "stream",
     "text": [
      "\n"
     ]
    }
   ],
   "source": [
    "train_x = []\n",
    "train_y = []\n",
    "pbar = tqdm(total = len(df_train))\n",
    "for index, row in df_train.iterrows():\n",
    "    train_x.append([row['uid'], row['tid']])\n",
    "    train_y.append(row['rating'])\n",
    "    pbar.update(1)\n",
    "pbar.close()"
   ]
  },
  {
   "cell_type": "code",
   "execution_count": 12,
   "metadata": {
    "scrolled": true
   },
   "outputs": [
    {
     "data": {
      "application/vnd.jupyter.widget-view+json": {
       "model_id": "6b740de23d5642deace3cbb7de441d2a",
       "version_major": 2,
       "version_minor": 0
      },
      "text/plain": [
       "HBox(children=(FloatProgress(value=0.0, max=351181.0), HTML(value='')))"
      ]
     },
     "metadata": {},
     "output_type": "display_data"
    },
    {
     "name": "stdout",
     "output_type": "stream",
     "text": [
      "\n"
     ]
    }
   ],
   "source": [
    "test_x = []\n",
    "test_y = []\n",
    "pbar = tqdm(total = len(df_test))\n",
    "for index, row in df_test.iterrows():\n",
    "    test_x.append([row['uid'], row['tid']])\n",
    "    test_y.append(row['rating'])\n",
    "    pbar.update(1)\n",
    "pbar.close()"
   ]
  },
  {
   "cell_type": "code",
   "execution_count": 13,
   "metadata": {},
   "outputs": [
    {
     "data": {
      "text/plain": [
       "[[156.0, 592.0],\n",
       " [155.0, 32551.0],\n",
       " [50.0, 46505.0],\n",
       " [123.0, 11399.0],\n",
       " [57.0, 34379.0],\n",
       " [194.0, 33890.0],\n",
       " [41.0, 3312.0],\n",
       " [123.0, 35625.0],\n",
       " [167.0, 39675.0],\n",
       " [196.0, 34433.0]]"
      ]
     },
     "execution_count": 13,
     "metadata": {},
     "output_type": "execute_result"
    }
   ],
   "source": [
    "train_x[:10]"
   ]
  },
  {
   "cell_type": "code",
   "execution_count": 14,
   "metadata": {},
   "outputs": [
    {
     "data": {
      "text/plain": [
       "[1.6666666666666667,\n",
       " 0.1388888888888889,\n",
       " 0.20408163265306123,\n",
       " 0.19607843137254902,\n",
       " 0.020161290322580645,\n",
       " 0.23809523809523808,\n",
       " 0.03571428571428571,\n",
       " 0.09803921568627451,\n",
       " 0.04784688995215311,\n",
       " 0.25]"
      ]
     },
     "execution_count": 14,
     "metadata": {},
     "output_type": "execute_result"
    }
   ],
   "source": [
    "train_y[:10]"
   ]
  },
  {
   "cell_type": "code",
   "execution_count": 16,
   "metadata": {
    "collapsed": true
   },
   "outputs": [],
   "source": [
    "np.savetxt(os.path.join(dir_, 'train_x_' + file_name[:-3] + 'csv'), train_x, delimiter=\",\")\n",
    "np.savetxt(os.path.join(dir_, 'train_y_' + file_name[:-3] + 'csv'), train_y, delimiter=\",\")\n",
    "np.savetxt(os.path.join(dir_, 'test_x_' + file_name[:-3] + 'csv'), test_x, delimiter=\",\")\n",
    "np.savetxt(os.path.join(dir_, 'test_y_' + file_name[:-3] + 'csv'), test_y, delimiter=\",\")"
   ]
  },
  {
   "cell_type": "code",
   "execution_count": null,
   "metadata": {
    "collapsed": true
   },
   "outputs": [],
   "source": []
  }
 ],
 "metadata": {
  "kernelspec": {
   "display_name": "Python [default]",
   "language": "python",
   "name": "python3"
  },
  "language_info": {
   "codemirror_mode": {
    "name": "ipython",
    "version": 3
   },
   "file_extension": ".py",
   "mimetype": "text/x-python",
   "name": "python",
   "nbconvert_exporter": "python",
   "pygments_lexer": "ipython3",
   "version": "3.6.2"
  }
 },
 "nbformat": 4,
 "nbformat_minor": 2
}
