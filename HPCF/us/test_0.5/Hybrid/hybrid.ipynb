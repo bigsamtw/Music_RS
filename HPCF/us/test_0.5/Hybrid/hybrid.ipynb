{
 "cells": [
  {
   "cell_type": "code",
   "execution_count": 1,
   "metadata": {
    "collapsed": true
   },
   "outputs": [],
   "source": [
    "import os \n",
    "import math\n",
    "import random\n",
    "import numpy as np\n",
    "import pandas as pd\n",
    "from tqdm.notebook import tqdm\n",
    "from numpy import count_nonzero\n",
    "\n",
    "dir_ = '../data/'\n",
    "group_dir_ = '../data/groups/random'"
   ]
  },
  {
   "cell_type": "code",
   "execution_count": 2,
   "metadata": {},
   "outputs": [
    {
     "data": {
      "text/plain": [
       "220"
      ]
     },
     "execution_count": 2,
     "metadata": {},
     "output_type": "execute_result"
    }
   ],
   "source": [
    "file_name = 'normalized_minmax_filter_track_5_user_100.csv'\n",
    "svd = pd.read_pickle(os.path.join(dir_, 'prediction_svd_top_N_' + file_name[:-3] + 'pkl'))\n",
    "file_name = 'normalized_to_rating_filter_track_5_user_100.csv'\n",
    "test = pd.read_pickle(os.path.join(dir_, 'test_' + file_name[:-3] + 'pkl'))\n",
    "test.sort_values(by=['uid','tid'])\n",
    "\n",
    "file_name = 'normalized_popularity_filter_track_5_user_100.pkl'\n",
    "pop_count = pd.read_pickle(os.path.join(dir_, file_name))\n",
    "\n",
    "num_user = len(svd['uid'].unique())\n",
    "num_user"
   ]
  },
  {
   "cell_type": "code",
   "execution_count": 3,
   "metadata": {
    "collapsed": true
   },
   "outputs": [],
   "source": [
    "groups_n =[]\n",
    "group_sizes = ['2', '3', '4', '5']\n",
    "for i in range(len(group_sizes)):\n",
    "    groups = np.loadtxt(os.path.join(group_dir_, 'group_' + group_sizes[i] + '.csv'), delimiter=',')\n",
    "    groups_n.append(groups)"
   ]
  },
  {
   "cell_type": "code",
   "execution_count": 4,
   "metadata": {},
   "outputs": [
    {
     "name": "stdout",
     "output_type": "stream",
     "text": [
      "2\n",
      "3\n",
      "4\n",
      "5\n"
     ]
    }
   ],
   "source": [
    "for i in groups_n:\n",
    "    print(len(i[0]))"
   ]
  },
  {
   "cell_type": "code",
   "execution_count": 5,
   "metadata": {},
   "outputs": [
    {
     "data": {
      "text/html": [
       "<div>\n",
       "<style>\n",
       "    .dataframe thead tr:only-child th {\n",
       "        text-align: right;\n",
       "    }\n",
       "\n",
       "    .dataframe thead th {\n",
       "        text-align: left;\n",
       "    }\n",
       "\n",
       "    .dataframe tbody tr th {\n",
       "        vertical-align: top;\n",
       "    }\n",
       "</style>\n",
       "<table border=\"1\" class=\"dataframe\">\n",
       "  <thead>\n",
       "    <tr style=\"text-align: right;\">\n",
       "      <th></th>\n",
       "      <th>uid</th>\n",
       "      <th>tid</th>\n",
       "      <th>rating</th>\n",
       "      <th>count</th>\n",
       "    </tr>\n",
       "  </thead>\n",
       "  <tbody>\n",
       "    <tr>\n",
       "      <th>0</th>\n",
       "      <td>0</td>\n",
       "      <td>0</td>\n",
       "      <td>0.460281</td>\n",
       "      <td>1</td>\n",
       "    </tr>\n",
       "    <tr>\n",
       "      <th>1</th>\n",
       "      <td>0</td>\n",
       "      <td>2</td>\n",
       "      <td>0.482292</td>\n",
       "      <td>1</td>\n",
       "    </tr>\n",
       "    <tr>\n",
       "      <th>2</th>\n",
       "      <td>0</td>\n",
       "      <td>3</td>\n",
       "      <td>0.413923</td>\n",
       "      <td>1</td>\n",
       "    </tr>\n",
       "    <tr>\n",
       "      <th>3</th>\n",
       "      <td>0</td>\n",
       "      <td>5</td>\n",
       "      <td>0.518837</td>\n",
       "      <td>1</td>\n",
       "    </tr>\n",
       "    <tr>\n",
       "      <th>4</th>\n",
       "      <td>0</td>\n",
       "      <td>10</td>\n",
       "      <td>0.432426</td>\n",
       "      <td>1</td>\n",
       "    </tr>\n",
       "    <tr>\n",
       "      <th>5</th>\n",
       "      <td>0</td>\n",
       "      <td>11</td>\n",
       "      <td>0.453122</td>\n",
       "      <td>1</td>\n",
       "    </tr>\n",
       "    <tr>\n",
       "      <th>6</th>\n",
       "      <td>0</td>\n",
       "      <td>12</td>\n",
       "      <td>0.531225</td>\n",
       "      <td>1</td>\n",
       "    </tr>\n",
       "    <tr>\n",
       "      <th>7</th>\n",
       "      <td>0</td>\n",
       "      <td>13</td>\n",
       "      <td>0.523851</td>\n",
       "      <td>1</td>\n",
       "    </tr>\n",
       "    <tr>\n",
       "      <th>8</th>\n",
       "      <td>0</td>\n",
       "      <td>16</td>\n",
       "      <td>0.518874</td>\n",
       "      <td>1</td>\n",
       "    </tr>\n",
       "    <tr>\n",
       "      <th>9</th>\n",
       "      <td>0</td>\n",
       "      <td>17</td>\n",
       "      <td>0.480858</td>\n",
       "      <td>1</td>\n",
       "    </tr>\n",
       "  </tbody>\n",
       "</table>\n",
       "</div>"
      ],
      "text/plain": [
       "   uid  tid    rating  count\n",
       "0    0    0  0.460281      1\n",
       "1    0    2  0.482292      1\n",
       "2    0    3  0.413923      1\n",
       "3    0    5  0.518837      1\n",
       "4    0   10  0.432426      1\n",
       "5    0   11  0.453122      1\n",
       "6    0   12  0.531225      1\n",
       "7    0   13  0.523851      1\n",
       "8    0   16  0.518874      1\n",
       "9    0   17  0.480858      1"
      ]
     },
     "execution_count": 5,
     "metadata": {},
     "output_type": "execute_result"
    }
   ],
   "source": [
    "svd['count'] = 1\n",
    "svd[:10]"
   ]
  },
  {
   "cell_type": "code",
   "execution_count": 6,
   "metadata": {},
   "outputs": [
    {
     "data": {
      "text/html": [
       "<div>\n",
       "<style>\n",
       "    .dataframe thead tr:only-child th {\n",
       "        text-align: right;\n",
       "    }\n",
       "\n",
       "    .dataframe thead th {\n",
       "        text-align: left;\n",
       "    }\n",
       "\n",
       "    .dataframe tbody tr th {\n",
       "        vertical-align: top;\n",
       "    }\n",
       "</style>\n",
       "<table border=\"1\" class=\"dataframe\">\n",
       "  <thead>\n",
       "    <tr style=\"text-align: right;\">\n",
       "      <th></th>\n",
       "      <th>tid</th>\n",
       "      <th>count</th>\n",
       "      <th>rating</th>\n",
       "    </tr>\n",
       "  </thead>\n",
       "  <tbody>\n",
       "    <tr>\n",
       "      <th>166</th>\n",
       "      <td>166</td>\n",
       "      <td>4231</td>\n",
       "      <td>677.50</td>\n",
       "    </tr>\n",
       "    <tr>\n",
       "      <th>80</th>\n",
       "      <td>80</td>\n",
       "      <td>2248</td>\n",
       "      <td>485.50</td>\n",
       "    </tr>\n",
       "    <tr>\n",
       "      <th>457</th>\n",
       "      <td>457</td>\n",
       "      <td>2200</td>\n",
       "      <td>207.75</td>\n",
       "    </tr>\n",
       "    <tr>\n",
       "      <th>1364</th>\n",
       "      <td>1364</td>\n",
       "      <td>1977</td>\n",
       "      <td>394.00</td>\n",
       "    </tr>\n",
       "    <tr>\n",
       "      <th>6338</th>\n",
       "      <td>6338</td>\n",
       "      <td>1942</td>\n",
       "      <td>181.25</td>\n",
       "    </tr>\n",
       "    <tr>\n",
       "      <th>350</th>\n",
       "      <td>350</td>\n",
       "      <td>1927</td>\n",
       "      <td>456.00</td>\n",
       "    </tr>\n",
       "    <tr>\n",
       "      <th>7209</th>\n",
       "      <td>7209</td>\n",
       "      <td>1844</td>\n",
       "      <td>510.75</td>\n",
       "    </tr>\n",
       "    <tr>\n",
       "      <th>20321</th>\n",
       "      <td>20321</td>\n",
       "      <td>1757</td>\n",
       "      <td>161.75</td>\n",
       "    </tr>\n",
       "    <tr>\n",
       "      <th>17377</th>\n",
       "      <td>17377</td>\n",
       "      <td>1667</td>\n",
       "      <td>113.00</td>\n",
       "    </tr>\n",
       "    <tr>\n",
       "      <th>3761</th>\n",
       "      <td>3761</td>\n",
       "      <td>1659</td>\n",
       "      <td>452.00</td>\n",
       "    </tr>\n",
       "  </tbody>\n",
       "</table>\n",
       "</div>"
      ],
      "text/plain": [
       "         tid  count  rating\n",
       "166      166   4231  677.50\n",
       "80        80   2248  485.50\n",
       "457      457   2200  207.75\n",
       "1364    1364   1977  394.00\n",
       "6338    6338   1942  181.25\n",
       "350      350   1927  456.00\n",
       "7209    7209   1844  510.75\n",
       "20321  20321   1757  161.75\n",
       "17377  17377   1667  113.00\n",
       "3761    3761   1659  452.00"
      ]
     },
     "execution_count": 6,
     "metadata": {},
     "output_type": "execute_result"
    }
   ],
   "source": [
    "pop_count = pop_count.sort_values(by=['count'],  ascending=False)\n",
    "pop_count[:10]"
   ]
  },
  {
   "cell_type": "code",
   "execution_count": 7,
   "metadata": {
    "collapsed": true
   },
   "outputs": [],
   "source": [
    "# Linear\n",
    "# size = int(len(pop_rating) // 5)\n",
    "# pop_normalized = pd.DataFrame()\n",
    "# for i in range(5):\n",
    "#     if i == 0:\n",
    "#         pop = pop_count[:size].copy()\n",
    "#     elif i == 4:\n",
    "#         pop = pop_count[size*4:].copy()\n",
    "#     else:\n",
    "#         pop = pop_count[size*i:size*(i+1)].copy()\n",
    "#     pop['rating'] = (5 - i)\n",
    "#     pop_normalized = pop_normalized.append(pop)\n",
    "# pop_normalized = pop_normalized[['tid', 'rating']]"
   ]
  },
  {
   "cell_type": "code",
   "execution_count": 8,
   "metadata": {},
   "outputs": [
    {
     "data": {
      "text/html": [
       "<div>\n",
       "<style>\n",
       "    .dataframe thead tr:only-child th {\n",
       "        text-align: right;\n",
       "    }\n",
       "\n",
       "    .dataframe thead th {\n",
       "        text-align: left;\n",
       "    }\n",
       "\n",
       "    .dataframe tbody tr th {\n",
       "        vertical-align: top;\n",
       "    }\n",
       "</style>\n",
       "<table border=\"1\" class=\"dataframe\">\n",
       "  <thead>\n",
       "    <tr style=\"text-align: right;\">\n",
       "      <th></th>\n",
       "      <th>tid</th>\n",
       "      <th>count</th>\n",
       "      <th>rating</th>\n",
       "    </tr>\n",
       "  </thead>\n",
       "  <tbody>\n",
       "    <tr>\n",
       "      <th>166</th>\n",
       "      <td>166</td>\n",
       "      <td>4231</td>\n",
       "      <td>5.000000</td>\n",
       "    </tr>\n",
       "    <tr>\n",
       "      <th>80</th>\n",
       "      <td>80</td>\n",
       "      <td>2248</td>\n",
       "      <td>2.656582</td>\n",
       "    </tr>\n",
       "    <tr>\n",
       "      <th>457</th>\n",
       "      <td>457</td>\n",
       "      <td>2200</td>\n",
       "      <td>2.599858</td>\n",
       "    </tr>\n",
       "    <tr>\n",
       "      <th>1364</th>\n",
       "      <td>1364</td>\n",
       "      <td>1977</td>\n",
       "      <td>2.336327</td>\n",
       "    </tr>\n",
       "    <tr>\n",
       "      <th>6338</th>\n",
       "      <td>6338</td>\n",
       "      <td>1942</td>\n",
       "      <td>2.294966</td>\n",
       "    </tr>\n",
       "    <tr>\n",
       "      <th>350</th>\n",
       "      <td>350</td>\n",
       "      <td>1927</td>\n",
       "      <td>2.277239</td>\n",
       "    </tr>\n",
       "    <tr>\n",
       "      <th>7209</th>\n",
       "      <td>7209</td>\n",
       "      <td>1844</td>\n",
       "      <td>2.179154</td>\n",
       "    </tr>\n",
       "    <tr>\n",
       "      <th>20321</th>\n",
       "      <td>20321</td>\n",
       "      <td>1757</td>\n",
       "      <td>2.076341</td>\n",
       "    </tr>\n",
       "    <tr>\n",
       "      <th>17377</th>\n",
       "      <td>17377</td>\n",
       "      <td>1667</td>\n",
       "      <td>1.969983</td>\n",
       "    </tr>\n",
       "    <tr>\n",
       "      <th>3761</th>\n",
       "      <td>3761</td>\n",
       "      <td>1659</td>\n",
       "      <td>1.960529</td>\n",
       "    </tr>\n",
       "  </tbody>\n",
       "</table>\n",
       "</div>"
      ],
      "text/plain": [
       "         tid  count    rating\n",
       "166      166   4231  5.000000\n",
       "80        80   2248  2.656582\n",
       "457      457   2200  2.599858\n",
       "1364    1364   1977  2.336327\n",
       "6338    6338   1942  2.294966\n",
       "350      350   1927  2.277239\n",
       "7209    7209   1844  2.179154\n",
       "20321  20321   1757  2.076341\n",
       "17377  17377   1667  1.969983\n",
       "3761    3761   1659  1.960529"
      ]
     },
     "execution_count": 8,
     "metadata": {},
     "output_type": "execute_result"
    }
   ],
   "source": [
    "# min_max\n",
    "max_rating = pop_count.iloc[0]['count']\n",
    "pop_normalized = pop_count.copy()\n",
    "pop_normalized = pop_normalized[['tid', 'count']]\n",
    "pop_normalized['rating'] = pop_normalized['count']\n",
    "pop_normalized['rating'] /= max_rating\n",
    "pop_normalized['rating'] *= 5\n",
    "pop_normalized[:10]"
   ]
  },
  {
   "cell_type": "code",
   "execution_count": 9,
   "metadata": {},
   "outputs": [
    {
     "data": {
      "text/plain": [
       "[0.0, 0.1, 0.2, 0.3, 0.4, 0.5, 0.6, 0.7, 0.8, 0.9, 1.0]"
      ]
     },
     "execution_count": 9,
     "metadata": {},
     "output_type": "execute_result"
    }
   ],
   "source": [
    "lambdas = []\n",
    "for i in range(11):\n",
    "    lambdas.append(i/10)\n",
    "lambdas"
   ]
  },
  {
   "cell_type": "code",
   "execution_count": 11,
   "metadata": {},
   "outputs": [
    {
     "data": {
      "application/vnd.jupyter.widget-view+json": {
       "model_id": "b3b698f2007147d9baf6b3a1ece6a113",
       "version_major": 2,
       "version_minor": 0
      },
      "text/plain": [
       "HBox(children=(FloatProgress(value=0.0, max=11.0), HTML(value='')))"
      ]
     },
     "metadata": {},
     "output_type": "display_data"
    },
    {
     "name": "stdout",
     "output_type": "stream",
     "text": [
      "[0.45, 0.5125, 0.6583333333333333, 0.7708333333333334]\n",
      "[0.45, 0.5125, 0.6583333333333333, 0.78125]\n",
      "[0.45416666666666666, 0.5375, 0.65, 0.7916666666666666]\n",
      "[0.4875, 0.53125, 0.6416666666666667, 0.8125]\n",
      "[0.4875, 0.53125, 0.65, 0.7916666666666666]\n",
      "[0.5, 0.54375, 0.6583333333333333, 0.78125]\n",
      "[0.5291666666666667, 0.55, 0.6583333333333333, 0.8020833333333334]\n",
      "[0.5291666666666667, 0.59375, 0.6833333333333333, 0.8333333333333334]\n",
      "[0.5708333333333333, 0.6125, 0.7083333333333334, 0.8333333333333334]\n",
      "[0.6666666666666666, 0.7, 0.7333333333333333, 0.8541666666666666]\n",
      "[0.5833333333333334, 0.725, 0.7166666666666667, 0.8020833333333334]\n",
      "\n"
     ]
    }
   ],
   "source": [
    "for lambda_ in tqdm(lambdas):\n",
    "    top_n_size = 4\n",
    "    top_n_lists_g = []\n",
    "    for groups in groups_n:\n",
    "\n",
    "        group_size = len(groups[0])\n",
    "        top_n_lists = []\n",
    "\n",
    "        for group in groups:\n",
    "            rating_table = pd.DataFrame() \n",
    "            for member in group:\n",
    "                prediction = svd[svd['uid'] == member].copy()\n",
    "                if len(rating_table) == 0:\n",
    "                    rating_table = prediction\n",
    "                else:\n",
    "                    rating_table = rating_table.set_index('tid').add(prediction.set_index('tid'), fill_value=0).reset_index()\n",
    "            rating_table['rating'] /= group_size \n",
    "            rating_table['rating'] *= lambda_\n",
    "            pop = pop_normalized.copy()\n",
    "            pop['rating'] *= (1 - lambda_)\n",
    "            rating_table = rating_table.set_index('tid').add(pop.set_index('tid'), fill_value=0).reset_index()\n",
    "    #         rating_table = rating_table[rating_table['count'] == group_size]\n",
    "            rating_table = rating_table.sort_values(by=['rating'],  ascending=False)\n",
    "            rating_table = rating_table[:top_n_size]\n",
    "            top_n_list = []\n",
    "            for _, row in rating_table.iterrows():\n",
    "                top_n_list.append(row[0])\n",
    "            top_n_lists.append(top_n_list)\n",
    "        top_n_lists_g.append(top_n_lists)   \n",
    "        \n",
    "#     print('lambda = ' + str(lambda_))\n",
    "    threshold = 0.0\n",
    "    avg_precisions = []\n",
    "    for i in range(len(groups_n)):\n",
    "        groups = groups_n[i]\n",
    "        top_n_lists = top_n_lists_g[i]\n",
    "\n",
    "        precisions = []\n",
    "        for j in (range(len(groups))):\n",
    "\n",
    "            group = groups[j]\n",
    "            top_n_list = top_n_lists[j]\n",
    "\n",
    "            high_rating = 0\n",
    "\n",
    "            for k in range(top_n_size):\n",
    "                for l in range(len(group)):\n",
    "                    uid = group[l]\n",
    "                    tid = top_n_list[k]\n",
    "                    t = test[test['uid'] == uid]\n",
    "                    t = t[t['tid'] == tid]\n",
    "                    if len(t) > 0 and t.iloc[0]['rating'] > threshold:\n",
    "                        high_rating += 1\n",
    "                        break\n",
    "\n",
    "            precision = high_rating / top_n_size\n",
    "            precisions.append(precision)\n",
    "\n",
    "        avg_precision = 0\n",
    "        for precision in precisions:\n",
    "            avg_precision += precision\n",
    "        avg_precision /= len(precisions)\n",
    "        avg_precisions.append(avg_precision)\n",
    "    print(avg_precisions)\n",
    "#     print(sum(avg_precisions) / len(avg_precisions))\n",
    "#     print('----------------------------------------') "
   ]
  },
  {
   "cell_type": "code",
   "execution_count": null,
   "metadata": {
    "collapsed": true
   },
   "outputs": [],
   "source": []
  },
  {
   "cell_type": "code",
   "execution_count": null,
   "metadata": {
    "collapsed": true
   },
   "outputs": [],
   "source": []
  },
  {
   "cell_type": "code",
   "execution_count": null,
   "metadata": {
    "collapsed": true
   },
   "outputs": [],
   "source": [
    "\n",
    "\n"
   ]
  },
  {
   "cell_type": "code",
   "execution_count": null,
   "metadata": {
    "collapsed": true
   },
   "outputs": [],
   "source": []
  },
  {
   "cell_type": "code",
   "execution_count": null,
   "metadata": {
    "collapsed": true
   },
   "outputs": [],
   "source": []
  },
  {
   "cell_type": "code",
   "execution_count": 195,
   "metadata": {},
   "outputs": [
    {
     "data": {
      "application/vnd.jupyter.widget-view+json": {
       "model_id": "177ee4fdacf34e0fb1811d146691732c",
       "version_major": 2,
       "version_minor": 0
      },
      "text/plain": [
       "HBox(children=(FloatProgress(value=0.0, max=4.0), HTML(value='')))"
      ]
     },
     "metadata": {},
     "output_type": "display_data"
    },
    {
     "name": "stdout",
     "output_type": "stream",
     "text": [
      "0.4384689835799772\n",
      "0.34093950544457624\n",
      "0.3358646172870294\n",
      "0.33769451038646087\n",
      "\n"
     ]
    }
   ],
   "source": [
    "alpha = 0.5\n",
    "threshold = 0.0\n",
    "for i in tqdm(range(len(groups_n))):\n",
    "    \n",
    "    groups = groups_n[i]\n",
    "    top_n_lists = top_n_lists_g[i]\n",
    "    \n",
    "    satisfactions = []\n",
    "    for j in (range(len(groups))):\n",
    "        \n",
    "        group = groups[j]\n",
    "        top_n_list = top_n_lists[j]\n",
    "        \n",
    "        high_ratings_t = np.zeros(top_n_size)\n",
    "        high_ratings_u = np.zeros(len(group))\n",
    "        \n",
    "        for k in range(top_n_size):\n",
    "            for l in range(len(group)):\n",
    "                uid = group[l]\n",
    "                tid = top_n_list[k]\n",
    "                t = test[test['uid'] == uid]\n",
    "                t = t[t['tid'] == tid]\n",
    "                if len(t) > 0 and t.iloc[0]['rating'] > threshold:\n",
    "                    high_ratings_t[k] += 1\n",
    "                    high_ratings_u[l] += 1\n",
    "        \n",
    "#         satisfaction_t = 0\n",
    "#         for k in range(top_n_size):\n",
    "#             satisfaction_t += math.log(high_ratings_t[k]+1, 10) / math.log(len(group)+1, 10)\n",
    "#         satisfaction_t /= top_n_size\n",
    "        \n",
    "#         satisfaction_u = 0\n",
    "#         for k in range(len(group)):\n",
    "#             satisfaction_u += math.log(high_ratings_u[k]+1, 10) / math.log(top_n_size+1, 10)\n",
    "#         satisfaction_u /= len(group)\n",
    "        satisfaction_t = math.log(max(high_ratings_t)+1, 10) / math.log(len(group)+1, 10)\n",
    "        satisfaction_u = math.log(min(high_ratings_u)+1, 10) / math.log(top_n_size+1, 10)\n",
    "        \n",
    "        satisfaction = alpha*satisfaction_t + (1-alpha)*satisfaction_u\n",
    "        satisfactions.append(satisfaction)\n",
    "    \n",
    "    avg_satisfaction = 0\n",
    "    for satisfaction in satisfactions:\n",
    "        avg_satisfaction += satisfaction\n",
    "    avg_satisfaction /= len(satisfactions)\n",
    "    print(avg_satisfaction)\n",
    "        "
   ]
  }
 ],
 "metadata": {
  "kernelspec": {
   "display_name": "Python [default]",
   "language": "python",
   "name": "python3"
  },
  "language_info": {
   "codemirror_mode": {
    "name": "ipython",
    "version": 3
   },
   "file_extension": ".py",
   "mimetype": "text/x-python",
   "name": "python",
   "nbconvert_exporter": "python",
   "pygments_lexer": "ipython3",
   "version": "3.6.2"
  }
 },
 "nbformat": 4,
 "nbformat_minor": 4
}
