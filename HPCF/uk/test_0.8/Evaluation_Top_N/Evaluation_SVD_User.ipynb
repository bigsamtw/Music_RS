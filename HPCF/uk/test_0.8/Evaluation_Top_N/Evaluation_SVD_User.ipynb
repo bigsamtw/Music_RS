{
 "cells": [
  {
   "cell_type": "code",
   "execution_count": 1,
   "metadata": {},
   "outputs": [],
   "source": [
    "import os \n",
    "import tqdm\n",
    "import math\n",
    "import numpy as np\n",
    "import pandas as pd\n",
    "from tqdm import tqdm_notebook\n",
    "from numpy import count_nonzero\n",
    "\n",
    "dir_ = '../data/'\n",
    "file_name = 'normalized_to_rating_filter_track_5_user_100.csv'"
   ]
  },
  {
   "cell_type": "code",
   "execution_count": 2,
   "metadata": {},
   "outputs": [],
   "source": [
    "predictions = pd.read_pickle(os.path.join(dir_, 'prediction_SVD_user_top_N_' + file_name[:-3] + 'pkl'))"
   ]
  },
  {
   "cell_type": "code",
   "execution_count": 3,
   "metadata": {},
   "outputs": [
    {
     "data": {
      "text/html": [
       "<div>\n",
       "<style scoped>\n",
       "    .dataframe tbody tr th:only-of-type {\n",
       "        vertical-align: middle;\n",
       "    }\n",
       "\n",
       "    .dataframe tbody tr th {\n",
       "        vertical-align: top;\n",
       "    }\n",
       "\n",
       "    .dataframe thead th {\n",
       "        text-align: right;\n",
       "    }\n",
       "</style>\n",
       "<table border=\"1\" class=\"dataframe\">\n",
       "  <thead>\n",
       "    <tr style=\"text-align: right;\">\n",
       "      <th></th>\n",
       "      <th>uid</th>\n",
       "      <th>tid</th>\n",
       "      <th>rating</th>\n",
       "    </tr>\n",
       "  </thead>\n",
       "  <tbody>\n",
       "    <tr>\n",
       "      <td>0</td>\n",
       "      <td>0.0</td>\n",
       "      <td>0.0</td>\n",
       "      <td>3.270248</td>\n",
       "    </tr>\n",
       "    <tr>\n",
       "      <td>1</td>\n",
       "      <td>0.0</td>\n",
       "      <td>8.0</td>\n",
       "      <td>0.250000</td>\n",
       "    </tr>\n",
       "    <tr>\n",
       "      <td>2</td>\n",
       "      <td>0.0</td>\n",
       "      <td>9.0</td>\n",
       "      <td>2.969405</td>\n",
       "    </tr>\n",
       "    <tr>\n",
       "      <td>3</td>\n",
       "      <td>0.0</td>\n",
       "      <td>14.0</td>\n",
       "      <td>2.500000</td>\n",
       "    </tr>\n",
       "    <tr>\n",
       "      <td>4</td>\n",
       "      <td>0.0</td>\n",
       "      <td>16.0</td>\n",
       "      <td>0.250000</td>\n",
       "    </tr>\n",
       "    <tr>\n",
       "      <td>...</td>\n",
       "      <td>...</td>\n",
       "      <td>...</td>\n",
       "      <td>...</td>\n",
       "    </tr>\n",
       "    <tr>\n",
       "      <td>3072115</td>\n",
       "      <td>219.0</td>\n",
       "      <td>54914.0</td>\n",
       "      <td>0.250000</td>\n",
       "    </tr>\n",
       "    <tr>\n",
       "      <td>3072116</td>\n",
       "      <td>219.0</td>\n",
       "      <td>54940.0</td>\n",
       "      <td>0.250000</td>\n",
       "    </tr>\n",
       "    <tr>\n",
       "      <td>3072117</td>\n",
       "      <td>219.0</td>\n",
       "      <td>54941.0</td>\n",
       "      <td>0.250000</td>\n",
       "    </tr>\n",
       "    <tr>\n",
       "      <td>3072118</td>\n",
       "      <td>219.0</td>\n",
       "      <td>54947.0</td>\n",
       "      <td>2.250000</td>\n",
       "    </tr>\n",
       "    <tr>\n",
       "      <td>3072119</td>\n",
       "      <td>219.0</td>\n",
       "      <td>54951.0</td>\n",
       "      <td>0.250000</td>\n",
       "    </tr>\n",
       "  </tbody>\n",
       "</table>\n",
       "<p>3072120 rows × 3 columns</p>\n",
       "</div>"
      ],
      "text/plain": [
       "           uid      tid    rating\n",
       "0          0.0      0.0  3.270248\n",
       "1          0.0      8.0  0.250000\n",
       "2          0.0      9.0  2.969405\n",
       "3          0.0     14.0  2.500000\n",
       "4          0.0     16.0  0.250000\n",
       "...        ...      ...       ...\n",
       "3072115  219.0  54914.0  0.250000\n",
       "3072116  219.0  54940.0  0.250000\n",
       "3072117  219.0  54941.0  0.250000\n",
       "3072118  219.0  54947.0  2.250000\n",
       "3072119  219.0  54951.0  0.250000\n",
       "\n",
       "[3072120 rows x 3 columns]"
      ]
     },
     "execution_count": 3,
     "metadata": {},
     "output_type": "execute_result"
    }
   ],
   "source": [
    "predictions"
   ]
  },
  {
   "cell_type": "code",
   "execution_count": 4,
   "metadata": {},
   "outputs": [],
   "source": [
    "test = pd.read_pickle(os.path.join(dir_, 'test_' + file_name[:-3] + 'pkl'))"
   ]
  },
  {
   "cell_type": "code",
   "execution_count": 5,
   "metadata": {},
   "outputs": [
    {
     "data": {
      "text/html": [
       "<div>\n",
       "<style scoped>\n",
       "    .dataframe tbody tr th:only-of-type {\n",
       "        vertical-align: middle;\n",
       "    }\n",
       "\n",
       "    .dataframe tbody tr th {\n",
       "        vertical-align: top;\n",
       "    }\n",
       "\n",
       "    .dataframe thead th {\n",
       "        text-align: right;\n",
       "    }\n",
       "</style>\n",
       "<table border=\"1\" class=\"dataframe\">\n",
       "  <thead>\n",
       "    <tr style=\"text-align: right;\">\n",
       "      <th></th>\n",
       "      <th>uid</th>\n",
       "      <th>tid</th>\n",
       "      <th>rating</th>\n",
       "    </tr>\n",
       "  </thead>\n",
       "  <tbody>\n",
       "    <tr>\n",
       "      <td>481832</td>\n",
       "      <td>90</td>\n",
       "      <td>5374</td>\n",
       "      <td>0.25</td>\n",
       "    </tr>\n",
       "    <tr>\n",
       "      <td>1247457</td>\n",
       "      <td>214</td>\n",
       "      <td>35528</td>\n",
       "      <td>1.25</td>\n",
       "    </tr>\n",
       "    <tr>\n",
       "      <td>968433</td>\n",
       "      <td>172</td>\n",
       "      <td>29367</td>\n",
       "      <td>4.25</td>\n",
       "    </tr>\n",
       "    <tr>\n",
       "      <td>25524</td>\n",
       "      <td>4</td>\n",
       "      <td>11632</td>\n",
       "      <td>4.25</td>\n",
       "    </tr>\n",
       "    <tr>\n",
       "      <td>60178</td>\n",
       "      <td>8</td>\n",
       "      <td>19012</td>\n",
       "      <td>0.25</td>\n",
       "    </tr>\n",
       "    <tr>\n",
       "      <td>...</td>\n",
       "      <td>...</td>\n",
       "      <td>...</td>\n",
       "      <td>...</td>\n",
       "    </tr>\n",
       "    <tr>\n",
       "      <td>587045</td>\n",
       "      <td>115</td>\n",
       "      <td>27784</td>\n",
       "      <td>3.25</td>\n",
       "    </tr>\n",
       "    <tr>\n",
       "      <td>309534</td>\n",
       "      <td>65</td>\n",
       "      <td>12495</td>\n",
       "      <td>0.25</td>\n",
       "    </tr>\n",
       "    <tr>\n",
       "      <td>660480</td>\n",
       "      <td>130</td>\n",
       "      <td>20821</td>\n",
       "      <td>0.25</td>\n",
       "    </tr>\n",
       "    <tr>\n",
       "      <td>373255</td>\n",
       "      <td>73</td>\n",
       "      <td>27444</td>\n",
       "      <td>2.75</td>\n",
       "    </tr>\n",
       "    <tr>\n",
       "      <td>255645</td>\n",
       "      <td>50</td>\n",
       "      <td>46911</td>\n",
       "      <td>3.50</td>\n",
       "    </tr>\n",
       "  </tbody>\n",
       "</table>\n",
       "<p>351181 rows × 3 columns</p>\n",
       "</div>"
      ],
      "text/plain": [
       "         uid    tid  rating\n",
       "481832    90   5374    0.25\n",
       "1247457  214  35528    1.25\n",
       "968433   172  29367    4.25\n",
       "25524      4  11632    4.25\n",
       "60178      8  19012    0.25\n",
       "...      ...    ...     ...\n",
       "587045   115  27784    3.25\n",
       "309534    65  12495    0.25\n",
       "660480   130  20821    0.25\n",
       "373255    73  27444    2.75\n",
       "255645    50  46911    3.50\n",
       "\n",
       "[351181 rows x 3 columns]"
      ]
     },
     "execution_count": 5,
     "metadata": {},
     "output_type": "execute_result"
    }
   ],
   "source": [
    "test"
   ]
  },
  {
   "cell_type": "code",
   "execution_count": 6,
   "metadata": {},
   "outputs": [
    {
     "data": {
      "text/plain": [
       "220"
      ]
     },
     "execution_count": 6,
     "metadata": {},
     "output_type": "execute_result"
    }
   ],
   "source": [
    "num_user = len(predictions['uid'].unique())\n",
    "num_user"
   ]
  },
  {
   "cell_type": "code",
   "execution_count": 7,
   "metadata": {},
   "outputs": [
    {
     "data": {
      "application/vnd.jupyter.widget-view+json": {
       "model_id": "664fed6fba764a48866807e10384d829",
       "version_major": 2,
       "version_minor": 0
      },
      "text/plain": [
       "HBox(children=(IntProgress(value=0, max=211), HTML(value='')))"
      ]
     },
     "metadata": {},
     "output_type": "display_data"
    },
    {
     "name": "stdout",
     "output_type": "stream",
     "text": [
      "\n"
     ]
    }
   ],
   "source": [
    "# Personal Recommendation\n",
    "n = 20\n",
    "top_n_lists = []\n",
    "\n",
    "for i in tqdm.tqdm_notebook(range(num_user)):\n",
    "    prediction = predictions[predictions['uid'] == i]\n",
    "    prediction = prediction.sort_values(by=['rating'],  ascending=False)\n",
    "    prediction = prediction[:n]\n",
    "    top_n_list = []\n",
    "    for _, row in prediction.iterrows():\n",
    "        top_n_list.append(row[1])\n",
    "    top_n_lists.append(top_n_list)"
   ]
  },
  {
   "cell_type": "code",
   "execution_count": 8,
   "metadata": {
    "scrolled": true
   },
   "outputs": [
    {
     "data": {
      "application/vnd.jupyter.widget-view+json": {
       "model_id": "809a1ddf9adf45148fcc7c9a1e5807c4",
       "version_major": 2,
       "version_minor": 0
      },
      "text/plain": [
       "HBox(children=(IntProgress(value=0, max=211), HTML(value='')))"
      ]
     },
     "metadata": {},
     "output_type": "display_data"
    },
    {
     "name": "stdout",
     "output_type": "stream",
     "text": [
      "\n",
      "0.10165876777251191\n"
     ]
    }
   ],
   "source": [
    "evaluation = []\n",
    "satisfication = 0\n",
    "for i in tqdm.tqdm_notebook(range(num_user)):\n",
    "    top_n_list = top_n_lists[i]\n",
    "    precision = 0\n",
    "    for j in top_n_list:\n",
    "        p = test[test['uid'] == i]\n",
    "        p = p[p['tid']==j]\n",
    "        if len(p) > 0:\n",
    "            precision += 1\n",
    "    satisfication += precision / n\n",
    "    evaluation.append(precision)\n",
    "#     print(precision, satisfication)\n",
    "print(satisfication/num_user)"
   ]
  },
  {
   "cell_type": "code",
   "execution_count": 24,
   "metadata": {},
   "outputs": [],
   "source": [
    "#############################################\n",
    "#                                           #\n",
    "#          Group Recommendation             #\n",
    "#                                           #\n",
    "#############################################"
   ]
  },
  {
   "cell_type": "code",
   "execution_count": 55,
   "metadata": {},
   "outputs": [],
   "source": [
    "#############################################\n",
    "#                                           #\n",
    "#          Group Recommendation (2)         #\n",
    "#                                           #\n",
    "#############################################"
   ]
  },
  {
   "cell_type": "code",
   "execution_count": 7,
   "metadata": {
    "scrolled": true
   },
   "outputs": [
    {
     "data": {
      "text/plain": [
       "array([32., 78.])"
      ]
     },
     "execution_count": 7,
     "metadata": {},
     "output_type": "execute_result"
    }
   ],
   "source": [
    "groups = np.loadtxt(os.path.join(dir_, 'groups_2_' + file_name), delimiter=',')\n",
    "group_size = len(groups[0])\n",
    "groups[0]"
   ]
  },
  {
   "cell_type": "code",
   "execution_count": 8,
   "metadata": {},
   "outputs": [],
   "source": [
    "def max_satisfaction(df):  \n",
    "    return max(df['rating_u1'], df['rating_u2'])\n",
    "\n",
    "def least_misery(df):\n",
    "    return min(df['rating_u1'], df['rating_u2'])"
   ]
  },
  {
   "cell_type": "code",
   "execution_count": 9,
   "metadata": {},
   "outputs": [
    {
     "data": {
      "application/vnd.jupyter.widget-view+json": {
       "model_id": "91209d11c55249bb9951970101b2a4c1",
       "version_major": 2,
       "version_minor": 0
      },
      "text/plain": [
       "HBox(children=(IntProgress(value=0, max=110), HTML(value='')))"
      ]
     },
     "metadata": {},
     "output_type": "display_data"
    },
    {
     "name": "stdout",
     "output_type": "stream",
     "text": [
      "\n"
     ]
    }
   ],
   "source": [
    "# Prediction list of each group (2)\n",
    "n=4\n",
    "top_n_lists_g = []\n",
    "    \n",
    "for group in tqdm.tqdm_notebook(groups):\n",
    "    u1 = predictions[predictions['uid'] == group[0]]\n",
    "    u2 = predictions[predictions['uid'] == group[1]]\n",
    "\n",
    "    m = pd.merge(u1, u2, on=['tid'], how='inner', suffixes=['_u1','_u2'])\n",
    "    m = m[['tid', 'rating_u1','rating_u2']]\n",
    "    \n",
    "#   Average\n",
    "    m['rating'] = (m['rating_u1'] + m['rating_u2'])/2\n",
    "\n",
    "#   Max Satisfaction\n",
    "#     m['rating'] = m.apply(max_satisfaction, axis = 1)\n",
    "\n",
    "#   Least Misery\n",
    "#     m['rating'] = m.apply(least_misery, axis = 1)\n",
    "    \n",
    "    m = m[['tid', 'rating']]\n",
    "    m = m.sort_values(by=['rating'],  ascending=False)\n",
    "    m = m[:n]\n",
    "    top_n_list = []\n",
    "    for _, row in m.iterrows():\n",
    "        top_n_list.append(row[0])\n",
    "    top_n_lists_g.append(top_n_list)"
   ]
  },
  {
   "cell_type": "code",
   "execution_count": 10,
   "metadata": {},
   "outputs": [
    {
     "data": {
      "application/vnd.jupyter.widget-view+json": {
       "model_id": "bef3679a17c7469a8260a264a2475145",
       "version_major": 2,
       "version_minor": 0
      },
      "text/plain": [
       "HBox(children=(IntProgress(value=0, max=110), HTML(value='')))"
      ]
     },
     "metadata": {},
     "output_type": "display_data"
    },
    {
     "name": "stdout",
     "output_type": "stream",
     "text": [
      "\n",
      "0.056410640608768416\n"
     ]
    }
   ],
   "source": [
    "evaluation = []\n",
    "satisfication = 0\n",
    "for i in tqdm.tqdm_notebook(range(num_user//group_size)):\n",
    "    group = groups[i]\n",
    "    top_n_list = top_n_lists_g[i]\n",
    "    precision = 0\n",
    "    for j in top_n_list:\n",
    "        t1 = test[test['uid'] == group[0]]\n",
    "        t2 = test[test['uid'] == group[1]]\n",
    "        \n",
    "        t1 = t1[t1['tid']==j]\n",
    "        t2 = t2[t2['tid']==j]\n",
    "\n",
    "        s = len(t1) + len(t2)\n",
    "#         if s > 0:\n",
    "#             precision += 1\n",
    "        precision += math.log(s+1,10)/math.log(len(group)+1,10)\n",
    "    satisfication += precision / n\n",
    "    evaluation.append(precision)\n",
    "#     print(precision, satisfication)\n",
    "print(satisfication/(num_user//group_size))"
   ]
  },
  {
   "cell_type": "code",
   "execution_count": 11,
   "metadata": {},
   "outputs": [],
   "source": [
    "#############################################\n",
    "#                                           #\n",
    "#          Group Recommendation (4)         #\n",
    "#                                           #\n",
    "#############################################"
   ]
  },
  {
   "cell_type": "code",
   "execution_count": 12,
   "metadata": {
    "scrolled": true
   },
   "outputs": [
    {
     "data": {
      "text/plain": [
       "array([ 16.,  69., 111., 129.])"
      ]
     },
     "execution_count": 12,
     "metadata": {},
     "output_type": "execute_result"
    }
   ],
   "source": [
    "groups = np.loadtxt(os.path.join(dir_, 'groups_4_' + file_name), delimiter=',')\n",
    "group_size = len(groups[0])\n",
    "groups[0]"
   ]
  },
  {
   "cell_type": "code",
   "execution_count": 13,
   "metadata": {},
   "outputs": [],
   "source": [
    "def max_satisfaction(df):  \n",
    "    return max(df['rating_u1'], df['rating_u2'], df['rating_u3'], df['rating_u4'])\n",
    "\n",
    "def least_misery(df):\n",
    "    return min(df['rating_u1'], df['rating_u2'], df['rating_u3'], df['rating_u4'])"
   ]
  },
  {
   "cell_type": "code",
   "execution_count": 14,
   "metadata": {},
   "outputs": [
    {
     "data": {
      "application/vnd.jupyter.widget-view+json": {
       "model_id": "910a7ce471394e4087ca178f1a83b9a3",
       "version_major": 2,
       "version_minor": 0
      },
      "text/plain": [
       "HBox(children=(IntProgress(value=0, max=55), HTML(value='')))"
      ]
     },
     "metadata": {},
     "output_type": "display_data"
    },
    {
     "name": "stdout",
     "output_type": "stream",
     "text": [
      "\n"
     ]
    }
   ],
   "source": [
    "# Prediction list of each group (4)\n",
    "n=4\n",
    "top_n_lists_g = []\n",
    "    \n",
    "for group in tqdm.tqdm_notebook(groups):\n",
    "    u1 = predictions[predictions['uid'] == group[0]]\n",
    "    u2 = predictions[predictions['uid'] == group[1]]\n",
    "    u3 = predictions[predictions['uid'] == group[2]]\n",
    "    u4 = predictions[predictions['uid'] == group[3]]\n",
    "    \n",
    "    m = pd.merge(u1, u2, on=['tid'], how='inner', suffixes=['_u1','_u2'])\n",
    "    m = pd.merge(m,  u3, on=['tid'], how='inner', suffixes=['','_u3'])\n",
    "    m = pd.merge(m,  u4, on=['tid'], how='inner', suffixes=['_u3','_u4'])\n",
    "    m = m[['tid', 'rating_u1','rating_u2','rating_u3','rating_u4']]\n",
    "#     Average\n",
    "    m['rating'] = (m['rating_u1'] + m['rating_u2'] + m['rating_u3'] + m['rating_u4'])/4\n",
    "\n",
    "#   Max Satisfaction\n",
    "#     m['rating'] = m.apply(max_satisfaction, axis = 1)\n",
    "\n",
    "#   Least Misery\n",
    "#     m['rating'] = m.apply(least_misery, axis = 1)\n",
    "    \n",
    "    m = m[['tid', 'rating']]\n",
    "    m = m.sort_values(by=['rating'],  ascending=False)\n",
    "    m = m[:n]\n",
    "    top_n_list = []\n",
    "    for _, row in m.iterrows():\n",
    "        top_n_list.append(row[0])\n",
    "    top_n_lists_g.append(top_n_list)"
   ]
  },
  {
   "cell_type": "code",
   "execution_count": 15,
   "metadata": {
    "scrolled": true
   },
   "outputs": [
    {
     "data": {
      "application/vnd.jupyter.widget-view+json": {
       "model_id": "87ffa8d2d1654410a1115600329b674a",
       "version_major": 2,
       "version_minor": 0
      },
      "text/plain": [
       "HBox(children=(IntProgress(value=0, max=55), HTML(value='')))"
      ]
     },
     "metadata": {},
     "output_type": "display_data"
    },
    {
     "name": "stdout",
     "output_type": "stream",
     "text": [
      "\n",
      "0.08875822974002853\n"
     ]
    }
   ],
   "source": [
    "evaluation = []\n",
    "satisfication = 0\n",
    "for i in tqdm.tqdm_notebook(range(num_user//group_size)):\n",
    "    group = groups[i]\n",
    "    top_n_list = top_n_lists_g[i]\n",
    "    precision = 0\n",
    "    for j in top_n_list:\n",
    "        t1 = test[test['uid'] == group[0]]\n",
    "        t2 = test[test['uid'] == group[1]]\n",
    "        t3 = test[test['uid'] == group[2]]\n",
    "        t4 = test[test['uid'] == group[3]]\n",
    "        \n",
    "        t1 = t1[t1['tid']==j]\n",
    "        t2 = t2[t2['tid']==j]\n",
    "        t3 = t3[t3['tid']==j]\n",
    "        t4 = t4[t4['tid']==j]\n",
    "        s = len(t1) + len(t2) + len(t3) + len(t4)\n",
    "#         if s > 0:\n",
    "#             precision += 1\n",
    "        precision += math.log(s+1,10)/math.log(len(group)+1,10)\n",
    "    satisfication += precision / n\n",
    "    evaluation.append(precision)\n",
    "#     print(precision, satisfication)\n",
    "print(satisfication/(num_user//group_size))"
   ]
  },
  {
   "cell_type": "code",
   "execution_count": null,
   "metadata": {},
   "outputs": [],
   "source": [
    "#############################################\n",
    "#                                           #\n",
    "#          Group Recommendation (5)         #\n",
    "#                                           #\n",
    "#############################################"
   ]
  },
  {
   "cell_type": "code",
   "execution_count": 16,
   "metadata": {},
   "outputs": [
    {
     "data": {
      "text/plain": [
       "array([ 11.,  23., 107., 122., 141.])"
      ]
     },
     "execution_count": 16,
     "metadata": {},
     "output_type": "execute_result"
    }
   ],
   "source": [
    "groups = np.loadtxt(os.path.join(dir_, 'groups_5_' + file_name), delimiter=',')\n",
    "group_size = len(groups[0])\n",
    "groups[0]"
   ]
  },
  {
   "cell_type": "code",
   "execution_count": 17,
   "metadata": {},
   "outputs": [],
   "source": [
    "def max_satisfaction(df):  \n",
    "    return max(df['rating_u1'], df['rating_u2'], df['rating_u3'], df['rating_u4'], df['rating_u5'])\n",
    "\n",
    "def least_misery(df):\n",
    "    return min(df['rating_u1'], df['rating_u2'], df['rating_u3'], df['rating_u4'], df['rating_u5'])"
   ]
  },
  {
   "cell_type": "code",
   "execution_count": 18,
   "metadata": {},
   "outputs": [
    {
     "data": {
      "application/vnd.jupyter.widget-view+json": {
       "model_id": "051665236b424bf7a0ce2cade2974f0b",
       "version_major": 2,
       "version_minor": 0
      },
      "text/plain": [
       "HBox(children=(IntProgress(value=0, max=44), HTML(value='')))"
      ]
     },
     "metadata": {},
     "output_type": "display_data"
    },
    {
     "name": "stdout",
     "output_type": "stream",
     "text": [
      "\n"
     ]
    }
   ],
   "source": [
    "# Prediction list of each group (5)\n",
    "n=4\n",
    "top_n_lists_g = []\n",
    "    \n",
    "for group in tqdm.tqdm_notebook(groups):\n",
    "    u1 = predictions[predictions['uid'] == group[0]]\n",
    "    u2 = predictions[predictions['uid'] == group[1]]\n",
    "    u3 = predictions[predictions['uid'] == group[2]]\n",
    "    u4 = predictions[predictions['uid'] == group[3]]\n",
    "    u5 = predictions[predictions['uid'] == group[4]]\n",
    "\n",
    "    m = pd.merge(u1, u2, on=['tid'], how='inner', suffixes=['_u1','_u2'])\n",
    "    m = pd.merge(m,  u3, on=['tid'], how='inner', suffixes=['','_u3'])\n",
    "    m = pd.merge(m,  u4, on=['tid'], how='inner', suffixes=['','_u4'])\n",
    "    m = pd.merge(m,  u5, on=['tid'], how='inner', suffixes=['_u3','_u5'])\n",
    "    m = m[['tid', 'rating_u1','rating_u2','rating_u3','rating_u4','rating_u5']]\n",
    "#     Average\n",
    "    m['rating'] = (m['rating_u1'] + m['rating_u2'] + m['rating_u3'] + m['rating_u4'] + m['rating_u5'])/5\n",
    "    \n",
    "#     Max Satisfaction\n",
    "#     m['rating'] = m.apply(max_satisfaction, axis = 1)\n",
    "    \n",
    "#     Least Misery\n",
    "#     m['rating'] = m.apply(least_misery, axis = 1)\n",
    "    \n",
    "    m = m[['tid', 'rating']]\n",
    "    m = m.sort_values(by=['rating'],  ascending=False)\n",
    "    m = m[:n]\n",
    "    top_n_list = []\n",
    "    for _, row in m.iterrows():\n",
    "        top_n_list.append(row[0])\n",
    "    top_n_lists_g.append(top_n_list)"
   ]
  },
  {
   "cell_type": "code",
   "execution_count": 19,
   "metadata": {},
   "outputs": [
    {
     "data": {
      "application/vnd.jupyter.widget-view+json": {
       "model_id": "2446934cceef46249af3c7e863c64e40",
       "version_major": 2,
       "version_minor": 0
      },
      "text/plain": [
       "HBox(children=(IntProgress(value=0, max=44), HTML(value='')))"
      ]
     },
     "metadata": {},
     "output_type": "display_data"
    },
    {
     "name": "stdout",
     "output_type": "stream",
     "text": [
      "\n",
      "0.10791157400153856\n"
     ]
    }
   ],
   "source": [
    "evaluation = []\n",
    "satisfication = 0\n",
    "for i in tqdm.tqdm_notebook(range(num_user//group_size)):\n",
    "    group = groups[i]\n",
    "    top_n_list = top_n_lists_g[i]\n",
    "    precision = 0\n",
    "    for j in top_n_list:\n",
    "        t1 = test[test['uid'] == group[0]]\n",
    "        t2 = test[test['uid'] == group[1]]\n",
    "        t3 = test[test['uid'] == group[2]]\n",
    "        t4 = test[test['uid'] == group[3]]\n",
    "        t5 = test[test['uid'] == group[4]]\n",
    "        \n",
    "        t1 = t1[t1['tid']==j]\n",
    "        t2 = t2[t2['tid']==j]\n",
    "        t3 = t3[t3['tid']==j]\n",
    "        t4 = t4[t4['tid']==j]\n",
    "        t5 = t5[t5['tid']==j]\n",
    "        s = len(t1) + len(t2) + len(t3) + len(t4) + len(t5)\n",
    "#         if s > 0:\n",
    "#             precision += 1\n",
    "        precision += math.log(s+1,10)/math.log(len(group)+1,10)\n",
    "    satisfication += precision / n\n",
    "    evaluation.append(precision)\n",
    "#     print(precision, satisfication)\n",
    "print(satisfication/(num_user//group_size))"
   ]
  },
  {
   "cell_type": "code",
   "execution_count": null,
   "metadata": {},
   "outputs": [],
   "source": [
    "#############################################\n",
    "#                                           #\n",
    "#          Group Recommendation (10)        #\n",
    "#                                           #\n",
    "#############################################"
   ]
  },
  {
   "cell_type": "code",
   "execution_count": 20,
   "metadata": {},
   "outputs": [
    {
     "data": {
      "text/plain": [
       "array([ 17.,  58.,  73., 104., 112., 164., 207., 214., 218., 219.])"
      ]
     },
     "execution_count": 20,
     "metadata": {},
     "output_type": "execute_result"
    }
   ],
   "source": [
    "# np.savetxt(os.path.join(dir_, 'groups_10_' + file_name[:-3] + 'csv'), groups, delimiter=\",\")\n",
    "groups = np.loadtxt(os.path.join(dir_, 'groups_10_' + file_name), delimiter=',')\n",
    "group_size = len(groups[0])\n",
    "groups[0]"
   ]
  },
  {
   "cell_type": "code",
   "execution_count": 21,
   "metadata": {},
   "outputs": [],
   "source": [
    "def max_satisfaction(df):  \n",
    "    return max(df['rating_u1'], df['rating_u2'], df['rating_u3'], df['rating_u4'], df['rating_u5'], df['rating_u6'], df['rating_u7'], df['rating_u8'], df['rating_u9'], df['rating_u10'])\n",
    "\n",
    "def least_misery(df):  \n",
    "    return max(df['rating_u1'], df['rating_u2'], df['rating_u3'], df['rating_u4'], df['rating_u5'], df['rating_u6'], df['rating_u7'], df['rating_u8'], df['rating_u9'], df['rating_u10'])"
   ]
  },
  {
   "cell_type": "code",
   "execution_count": 22,
   "metadata": {},
   "outputs": [
    {
     "data": {
      "application/vnd.jupyter.widget-view+json": {
       "model_id": "c954285bbfbc4250b578d721566e5d53",
       "version_major": 2,
       "version_minor": 0
      },
      "text/plain": [
       "HBox(children=(IntProgress(value=0, max=22), HTML(value='')))"
      ]
     },
     "metadata": {},
     "output_type": "display_data"
    },
    {
     "name": "stdout",
     "output_type": "stream",
     "text": [
      "\n"
     ]
    }
   ],
   "source": [
    "# Prediction list of each group (10)\n",
    "n=4\n",
    "top_n_lists_g = []\n",
    "    \n",
    "for group in tqdm.tqdm_notebook(groups):\n",
    "    u1 = predictions[predictions['uid'] == group[0]]\n",
    "    u2 = predictions[predictions['uid'] == group[1]]\n",
    "    u3 = predictions[predictions['uid'] == group[2]]\n",
    "    u4 = predictions[predictions['uid'] == group[3]]\n",
    "    u5 = predictions[predictions['uid'] == group[4]]\n",
    "    u6 = predictions[predictions['uid'] == group[5]]\n",
    "    u7 = predictions[predictions['uid'] == group[6]]\n",
    "    u8 = predictions[predictions['uid'] == group[7]]\n",
    "    u9 = predictions[predictions['uid'] == group[8]]\n",
    "    u10 = predictions[predictions['uid'] == group[9]]\n",
    "\n",
    "    m = pd.merge(u1, u2,  on=['tid'], how='inner', suffixes=['_u1','_u2'])\n",
    "    m = pd.merge(m,  u3,  on=['tid'], how='inner', suffixes=['','_u3'])\n",
    "    m = pd.merge(m,  u4,  on=['tid'], how='inner', suffixes=['','_u4'])\n",
    "    m = pd.merge(m,  u5,  on=['tid'], how='inner', suffixes=['','_u5'])\n",
    "    m = pd.merge(m,  u6,  on=['tid'], how='inner', suffixes=['','_u6'])\n",
    "    m = pd.merge(m,  u7,  on=['tid'], how='inner', suffixes=['','_u7'])\n",
    "    m = pd.merge(m,  u8,  on=['tid'], how='inner', suffixes=['','_u8'])\n",
    "    m = pd.merge(m,  u9,  on=['tid'], how='inner', suffixes=['','_u9'])\n",
    "    m = pd.merge(m,  u10, on=['tid'], how='inner', suffixes=['_u3','_u10'])\n",
    "    m = m[['tid', 'rating_u1','rating_u2','rating_u3','rating_u4','rating_u5', 'rating_u6','rating_u7','rating_u8','rating_u9','rating_u10']]\n",
    "\n",
    "#     Average\n",
    "    m['rating'] = (m['rating_u1'] + m['rating_u2'] + m['rating_u3'] + m['rating_u4'] + m['rating_u5'] + m['rating_u6'] + m['rating_u7'] + m['rating_u8'] + m['rating_u9'] + + m['rating_u10'])/10\n",
    "    \n",
    "#     Max Satisfaction\n",
    "#     m['rating'] = m.apply(max_satisfaction, axis = 1)\n",
    "    \n",
    "#     Least Misery\n",
    "#     m['rating'] = m.apply(least_misery, axis = 1)\n",
    "    \n",
    "    m = m[['tid', 'rating']]\n",
    "    m = m.sort_values(by=['rating'],  ascending=False)\n",
    "    m = m[:n]\n",
    "    top_n_list = []\n",
    "    for _, row in m.iterrows():\n",
    "        top_n_list.append(row[0])\n",
    "    top_n_lists_g.append(top_n_list)"
   ]
  },
  {
   "cell_type": "code",
   "execution_count": 23,
   "metadata": {
    "scrolled": true
   },
   "outputs": [
    {
     "data": {
      "application/vnd.jupyter.widget-view+json": {
       "model_id": "663da313203d46a1b5519977cc3066a1",
       "version_major": 2,
       "version_minor": 0
      },
      "text/plain": [
       "HBox(children=(IntProgress(value=0, max=22), HTML(value='')))"
      ]
     },
     "metadata": {},
     "output_type": "display_data"
    },
    {
     "name": "stdout",
     "output_type": "stream",
     "text": [
      "\n",
      "0.24141876141292426\n"
     ]
    }
   ],
   "source": [
    "evaluation = []\n",
    "satisfication = 0\n",
    "for i in tqdm.tqdm_notebook(range(num_user//group_size)):\n",
    "    group = groups[i]\n",
    "    top_n_list = top_n_lists_g[i]\n",
    "    precision = 0\n",
    "    for j in top_n_list:\n",
    "        t1 = test[test['uid'] == group[0]]\n",
    "        t2 = test[test['uid'] == group[1]]\n",
    "        t3 = test[test['uid'] == group[2]]\n",
    "        t4 = test[test['uid'] == group[3]]\n",
    "        t5 = test[test['uid'] == group[4]]\n",
    "        t6 = test[test['uid'] == group[5]]\n",
    "        t7 = test[test['uid'] == group[6]]\n",
    "        t8 = test[test['uid'] == group[7]]\n",
    "        t9 = test[test['uid'] == group[8]]\n",
    "        t10 = test[test['uid'] == group[9]]\n",
    "        \n",
    "        t1 = t1[t1['tid']==j]\n",
    "        t2 = t2[t2['tid']==j]\n",
    "        t3 = t3[t3['tid']==j]\n",
    "        t4 = t4[t4['tid']==j]\n",
    "        t5 = t5[t5['tid']==j]\n",
    "        t6 = t6[t6['tid']==j]\n",
    "        t7 = t7[t7['tid']==j]\n",
    "        t8 = t8[t8['tid']==j]\n",
    "        t9 = t9[t9['tid']==j]\n",
    "        t10 = t10[t10['tid']==j]\n",
    "        s = len(t1) + len(t2) + len(t3) + len(t4) + len(t5) + len(t6) + len(t7) + len(t8) + len(t9) + len(t10)\n",
    "#         if s > 0:\n",
    "#             precision += 1\n",
    "        precision += math.log(s+1,10)/math.log(len(group)+1,10)\n",
    "    satisfication += precision / n\n",
    "    evaluation.append(precision)\n",
    "#     print(precision, satisfication)\n",
    "print(satisfication/(num_user//group_size))"
   ]
  },
  {
   "cell_type": "code",
   "execution_count": null,
   "metadata": {},
   "outputs": [],
   "source": []
  }
 ],
 "metadata": {
  "kernelspec": {
   "display_name": "Python 3",
   "language": "python",
   "name": "python3"
  },
  "language_info": {
   "codemirror_mode": {
    "name": "ipython",
    "version": 3
   },
   "file_extension": ".py",
   "mimetype": "text/x-python",
   "name": "python",
   "nbconvert_exporter": "python",
   "pygments_lexer": "ipython3",
   "version": "3.7.4"
  }
 },
 "nbformat": 4,
 "nbformat_minor": 2
}
