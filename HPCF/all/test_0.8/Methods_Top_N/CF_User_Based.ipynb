{
 "cells": [
  {
   "cell_type": "code",
   "execution_count": 3,
   "metadata": {},
   "outputs": [],
   "source": [
    "import numpy as np\n",
    "import os\n",
    "import math\n",
    "import tqdm\n",
    "import pandas as pd\n",
    "from tqdm import tqdm_notebook\n",
    "\n",
    "dir_ = '../data/'\n",
    "# file_name = 'normalized_filter_track_5_user_100.csv'\n",
    "file_name = 'normalized_to_rating_filter_track_5_user_100.csv'"
   ]
  },
  {
   "cell_type": "code",
   "execution_count": 4,
   "metadata": {},
   "outputs": [],
   "source": [
    "train = np.loadtxt(os.path.join(dir_, 'rating_matrix_' + file_name), delimiter=',')\n",
    "pd_train = pd.read_pickle(os.path.join(dir_, 'train_' + file_name[:-3] + 'pkl'))\n",
    "pd_test = pd.read_pickle(os.path.join(dir_, 'test_' + file_name[:-3] + 'pkl'))"
   ]
  },
  {
   "cell_type": "code",
   "execution_count": 5,
   "metadata": {},
   "outputs": [
    {
     "name": "stdout",
     "output_type": "stream",
     "text": [
      "[[5.   3.75 4.   ... 0.   0.   0.  ]\n",
      " [0.   0.   0.   ... 0.   0.   0.  ]\n",
      " [0.   0.   0.   ... 0.   0.   0.  ]\n",
      " ...\n",
      " [0.   0.   0.   ... 0.   0.   0.  ]\n",
      " [0.   0.   0.   ... 0.   0.   0.  ]\n",
      " [0.   0.   0.   ... 0.   0.   0.  ]]\n"
     ]
    }
   ],
   "source": [
    "np.set_printoptions(suppress=True)\n",
    "print(train)"
   ]
  },
  {
   "cell_type": "code",
   "execution_count": 6,
   "metadata": {},
   "outputs": [
    {
     "data": {
      "text/html": [
       "<div>\n",
       "<style scoped>\n",
       "    .dataframe tbody tr th:only-of-type {\n",
       "        vertical-align: middle;\n",
       "    }\n",
       "\n",
       "    .dataframe tbody tr th {\n",
       "        vertical-align: top;\n",
       "    }\n",
       "\n",
       "    .dataframe thead th {\n",
       "        text-align: right;\n",
       "    }\n",
       "</style>\n",
       "<table border=\"1\" class=\"dataframe\">\n",
       "  <thead>\n",
       "    <tr style=\"text-align: right;\">\n",
       "      <th></th>\n",
       "      <th>uid</th>\n",
       "      <th>tid</th>\n",
       "      <th>rating</th>\n",
       "      <th>count</th>\n",
       "    </tr>\n",
       "  </thead>\n",
       "  <tbody>\n",
       "    <tr>\n",
       "      <th>3637403</th>\n",
       "      <td>785</td>\n",
       "      <td>25185</td>\n",
       "      <td>0.25</td>\n",
       "      <td>1</td>\n",
       "    </tr>\n",
       "    <tr>\n",
       "      <th>2592334</th>\n",
       "      <td>587</td>\n",
       "      <td>58745</td>\n",
       "      <td>2.25</td>\n",
       "      <td>2</td>\n",
       "    </tr>\n",
       "    <tr>\n",
       "      <th>2041631</th>\n",
       "      <td>454</td>\n",
       "      <td>36778</td>\n",
       "      <td>4.50</td>\n",
       "      <td>3</td>\n",
       "    </tr>\n",
       "    <tr>\n",
       "      <th>4086920</th>\n",
       "      <td>874</td>\n",
       "      <td>12266</td>\n",
       "      <td>0.25</td>\n",
       "      <td>1</td>\n",
       "    </tr>\n",
       "    <tr>\n",
       "      <th>1919709</th>\n",
       "      <td>423</td>\n",
       "      <td>3561</td>\n",
       "      <td>0.25</td>\n",
       "      <td>1</td>\n",
       "    </tr>\n",
       "    <tr>\n",
       "      <th>...</th>\n",
       "      <td>...</td>\n",
       "      <td>...</td>\n",
       "      <td>...</td>\n",
       "      <td>...</td>\n",
       "    </tr>\n",
       "    <tr>\n",
       "      <th>1876585</th>\n",
       "      <td>411</td>\n",
       "      <td>71785</td>\n",
       "      <td>0.25</td>\n",
       "      <td>1</td>\n",
       "    </tr>\n",
       "    <tr>\n",
       "      <th>4041534</th>\n",
       "      <td>864</td>\n",
       "      <td>6379</td>\n",
       "      <td>0.25</td>\n",
       "      <td>1</td>\n",
       "    </tr>\n",
       "    <tr>\n",
       "      <th>3792906</th>\n",
       "      <td>816</td>\n",
       "      <td>17437</td>\n",
       "      <td>0.25</td>\n",
       "      <td>1</td>\n",
       "    </tr>\n",
       "    <tr>\n",
       "      <th>3106186</th>\n",
       "      <td>682</td>\n",
       "      <td>39513</td>\n",
       "      <td>0.25</td>\n",
       "      <td>1</td>\n",
       "    </tr>\n",
       "    <tr>\n",
       "      <th>1321599</th>\n",
       "      <td>298</td>\n",
       "      <td>64831</td>\n",
       "      <td>2.00</td>\n",
       "      <td>2</td>\n",
       "    </tr>\n",
       "  </tbody>\n",
       "</table>\n",
       "<p>2463710 rows × 4 columns</p>\n",
       "</div>"
      ],
      "text/plain": [
       "         uid    tid  rating  count\n",
       "3637403  785  25185    0.25      1\n",
       "2592334  587  58745    2.25      2\n",
       "2041631  454  36778    4.50      3\n",
       "4086920  874  12266    0.25      1\n",
       "1919709  423   3561    0.25      1\n",
       "...      ...    ...     ...    ...\n",
       "1876585  411  71785    0.25      1\n",
       "4041534  864   6379    0.25      1\n",
       "3792906  816  17437    0.25      1\n",
       "3106186  682  39513    0.25      1\n",
       "1321599  298  64831    2.00      2\n",
       "\n",
       "[2463710 rows x 4 columns]"
      ]
     },
     "execution_count": 6,
     "metadata": {},
     "output_type": "execute_result"
    }
   ],
   "source": [
    "pd_train"
   ]
  },
  {
   "cell_type": "code",
   "execution_count": 7,
   "metadata": {},
   "outputs": [
    {
     "data": {
      "text/html": [
       "<div>\n",
       "<style scoped>\n",
       "    .dataframe tbody tr th:only-of-type {\n",
       "        vertical-align: middle;\n",
       "    }\n",
       "\n",
       "    .dataframe tbody tr th {\n",
       "        vertical-align: top;\n",
       "    }\n",
       "\n",
       "    .dataframe thead th {\n",
       "        text-align: right;\n",
       "    }\n",
       "</style>\n",
       "<table border=\"1\" class=\"dataframe\">\n",
       "  <thead>\n",
       "    <tr style=\"text-align: right;\">\n",
       "      <th></th>\n",
       "      <th>uid</th>\n",
       "      <th>tid</th>\n",
       "      <th>rating</th>\n",
       "      <th>count</th>\n",
       "    </tr>\n",
       "  </thead>\n",
       "  <tbody>\n",
       "    <tr>\n",
       "      <th>566162</th>\n",
       "      <td>128</td>\n",
       "      <td>8212</td>\n",
       "      <td>0.25</td>\n",
       "      <td>1</td>\n",
       "    </tr>\n",
       "    <tr>\n",
       "      <th>3642787</th>\n",
       "      <td>786</td>\n",
       "      <td>10705</td>\n",
       "      <td>2.00</td>\n",
       "      <td>2</td>\n",
       "    </tr>\n",
       "    <tr>\n",
       "      <th>3009228</th>\n",
       "      <td>665</td>\n",
       "      <td>765</td>\n",
       "      <td>3.00</td>\n",
       "      <td>3</td>\n",
       "    </tr>\n",
       "    <tr>\n",
       "      <th>2012160</th>\n",
       "      <td>447</td>\n",
       "      <td>108195</td>\n",
       "      <td>4.75</td>\n",
       "      <td>13</td>\n",
       "    </tr>\n",
       "    <tr>\n",
       "      <th>2773009</th>\n",
       "      <td>638</td>\n",
       "      <td>1838</td>\n",
       "      <td>2.75</td>\n",
       "      <td>2</td>\n",
       "    </tr>\n",
       "    <tr>\n",
       "      <th>...</th>\n",
       "      <td>...</td>\n",
       "      <td>...</td>\n",
       "      <td>...</td>\n",
       "      <td>...</td>\n",
       "    </tr>\n",
       "    <tr>\n",
       "      <th>1388552</th>\n",
       "      <td>311</td>\n",
       "      <td>25542</td>\n",
       "      <td>2.25</td>\n",
       "      <td>2</td>\n",
       "    </tr>\n",
       "    <tr>\n",
       "      <th>67785</th>\n",
       "      <td>15</td>\n",
       "      <td>32275</td>\n",
       "      <td>5.00</td>\n",
       "      <td>14</td>\n",
       "    </tr>\n",
       "    <tr>\n",
       "      <th>2740587</th>\n",
       "      <td>628</td>\n",
       "      <td>47032</td>\n",
       "      <td>4.25</td>\n",
       "      <td>2</td>\n",
       "    </tr>\n",
       "    <tr>\n",
       "      <th>4245781</th>\n",
       "      <td>914</td>\n",
       "      <td>23502</td>\n",
       "      <td>4.25</td>\n",
       "      <td>25</td>\n",
       "    </tr>\n",
       "    <tr>\n",
       "      <th>1690093</th>\n",
       "      <td>368</td>\n",
       "      <td>53526</td>\n",
       "      <td>5.00</td>\n",
       "      <td>11</td>\n",
       "    </tr>\n",
       "  </tbody>\n",
       "</table>\n",
       "<p>615928 rows × 4 columns</p>\n",
       "</div>"
      ],
      "text/plain": [
       "         uid     tid  rating  count\n",
       "566162   128    8212    0.25      1\n",
       "3642787  786   10705    2.00      2\n",
       "3009228  665     765    3.00      3\n",
       "2012160  447  108195    4.75     13\n",
       "2773009  638    1838    2.75      2\n",
       "...      ...     ...     ...    ...\n",
       "1388552  311   25542    2.25      2\n",
       "67785     15   32275    5.00     14\n",
       "2740587  628   47032    4.25      2\n",
       "4245781  914   23502    4.25     25\n",
       "1690093  368   53526    5.00     11\n",
       "\n",
       "[615928 rows x 4 columns]"
      ]
     },
     "execution_count": 7,
     "metadata": {},
     "output_type": "execute_result"
    }
   ],
   "source": [
    "pd_test"
   ]
  },
  {
   "cell_type": "code",
   "execution_count": 8,
   "metadata": {},
   "outputs": [
    {
     "name": "stdout",
     "output_type": "stream",
     "text": [
      "953 157567\n"
     ]
    }
   ],
   "source": [
    "num_users = len(train)\n",
    "num_tracks = len(train[0])\n",
    "print(num_users,num_tracks)"
   ]
  },
  {
   "cell_type": "code",
   "execution_count": 9,
   "metadata": {},
   "outputs": [],
   "source": [
    "def pearson_correlation(u1_index, u2_index):\n",
    "        result = 0.0\n",
    "        user1_data = train[u1_index]\n",
    "        user2_data = train[u2_index]\n",
    "\n",
    "        rx_avg = user_average_rating(user1_data)\n",
    "        ry_avg = user_average_rating(user2_data)\n",
    "        sxy = common_items(user1_data, user2_data)\n",
    "\n",
    "        top_result = 0.0\n",
    "        bottom_left_result = 0.0\n",
    "        bottom_right_result = 0.0\n",
    "        for item in sxy:\n",
    "            rxs = user1_data[item]\n",
    "            rys = user2_data[item]\n",
    "\n",
    "            top_result += (rxs - rx_avg)*(rys - ry_avg)\n",
    "            bottom_left_result += pow((rxs - rx_avg), 2)\n",
    "            bottom_right_result += pow((rys - ry_avg), 2)\n",
    "        bottom_left_result = math.sqrt(bottom_left_result)\n",
    "        bottom_right_result = math.sqrt(bottom_right_result)\n",
    "        \n",
    "        ################################################################\n",
    "        if (bottom_left_result * bottom_right_result) == 0:\n",
    "            return -2 # dump the data\n",
    "        ################################################################\n",
    "        \n",
    "        result = top_result/(bottom_left_result * bottom_right_result)\n",
    "        return result\n",
    "\n",
    "def user_average_rating(u):\n",
    "    avg_rating = 0.0\n",
    "    for i in u:\n",
    "        avg_rating += i\n",
    "    avg_rating /= len(u) * 1.0\n",
    "    return avg_rating\n",
    "\n",
    "def common_items(u1, u2):\n",
    "    result = []\n",
    "    for i in range(0, num_tracks):\n",
    "        if u1[i] > 0 and u2[i] > 0:\n",
    "            result.append(i)\n",
    "    return result"
   ]
  },
  {
   "cell_type": "code",
   "execution_count": 10,
   "metadata": {},
   "outputs": [],
   "source": [
    "def knn(uid, k):\n",
    "    neighbors = []\n",
    "    result = []\n",
    "    for user in range(0, num_users):\n",
    "        if uid == user:\n",
    "            continue\n",
    "        upc = pearson_correlation(uid, user)\n",
    "        neighbors.append([user, upc])\n",
    "    sorted_neighbors = sorted(neighbors, key=lambda neighbors: (neighbors[1], neighbors[0]), reverse=True)   # - for desc sort\n",
    "\n",
    "    for i in range(k):\n",
    "        if i >= len(sorted_neighbors):\n",
    "            break\n",
    "        result.append(sorted_neighbors[i])\n",
    "    return result"
   ]
  },
  {
   "cell_type": "code",
   "execution_count": 11,
   "metadata": {},
   "outputs": [],
   "source": [
    "def predict_by_knn(uid, tid, k_nearest_neighbors):\n",
    "        valid_neighbors = check_neighbors_validattion(tid, k_nearest_neighbors)\n",
    "        ##################################\n",
    "        if not len(valid_neighbors):\n",
    "            return -1\n",
    "        ##################################\n",
    "        top_result = 0.0\n",
    "        bottom_result = 0.0\n",
    "        for neighbor in valid_neighbors:\n",
    "            neighbor_id = neighbor[0]\n",
    "            neighbor_similarity = neighbor[1]   # Wi1\n",
    "            rating = train[neighbor_id][tid] # rating i,item\n",
    "            top_result += neighbor_similarity * rating\n",
    "            bottom_result += neighbor_similarity\n",
    "        result = top_result/bottom_result\n",
    "        return result\n",
    "\n",
    "def check_neighbors_validattion(tid, k_nearest_neighbors):\n",
    "    result = []\n",
    "    for neighbor in k_nearest_neighbors:\n",
    "        neighbor_id = neighbor[0]\n",
    "        if train[neighbor_id][tid] > 0:\n",
    "            result.append(neighbor)\n",
    "    return result\n"
   ]
  },
  {
   "cell_type": "code",
   "execution_count": 12,
   "metadata": {},
   "outputs": [],
   "source": [
    "def predict(uid, tid, k):\n",
    "    \n",
    "    if len(knn_list[uid]) == 0:\n",
    "        k_nearest_neighbors = knn(uid, k)\n",
    "        knn_list[uid] = k_nearest_neighbors\n",
    "    else:\n",
    "        k_nearest_neighbors = knn_list[uid]\n",
    "\n",
    "    prediction = predict_by_knn(uid, tid, k_nearest_neighbors)\n",
    "    return prediction"
   ]
  },
  {
   "cell_type": "code",
   "execution_count": 26,
   "metadata": {},
   "outputs": [],
   "source": [
    "# test data\n",
    "\n",
    "# test = [\n",
    "#     [5,5,0,0],\n",
    "#     [4,5,1,5],\n",
    "#     [5,4,2,3],\n",
    "#     [1,5,0,3],\n",
    "#     [2,3,5,4]\n",
    "# ]\n",
    "\n",
    "# num_users = 5\n",
    "# num_tracks = 4\n",
    "\n",
    "# temp = train \n",
    "# train = test"
   ]
  },
  {
   "cell_type": "code",
   "execution_count": 15,
   "metadata": {},
   "outputs": [],
   "source": [
    "knn_list = []\n",
    "\n",
    "for i in range(0, num_users):\n",
    "    knn_list.append([])\n"
   ]
  },
  {
   "cell_type": "code",
   "execution_count": null,
   "metadata": {
    "scrolled": true
   },
   "outputs": [
    {
     "name": "stderr",
     "output_type": "stream",
     "text": [
      "/home/han/anaconda3/lib/python3.6/site-packages/ipykernel_launcher.py:4: TqdmDeprecationWarning: This function will be removed in tqdm==5.0.0\n",
      "Please use `tqdm.notebook.tqdm` instead of `tqdm.tqdm_notebook`\n",
      "  after removing the cwd from sys.path.\n"
     ]
    },
    {
     "data": {
      "application/vnd.jupyter.widget-view+json": {
       "model_id": "a0ff543b422340df89742f12d8e17061",
       "version_major": 2,
       "version_minor": 0
      },
      "text/plain": [
       "  0%|          | 0/953 [00:00<?, ?it/s]"
      ]
     },
     "metadata": {},
     "output_type": "display_data"
    }
   ],
   "source": [
    "k = 50\n",
    "pd_prediction = pd.DataFrame(columns=['uid','tid','rating'])\n",
    "\n",
    "for i in tqdm.tqdm_notebook(range(num_users)):\n",
    "    \n",
    "    user = pd_train[pd_train['uid']==i]\n",
    "    target_user = i\n",
    "    \n",
    "    for j in range(num_tracks):\n",
    "        r = user[user['tid']==j]['rating']\n",
    "        if len(r) == 0:\n",
    "            target_item = j\n",
    "            prediction = predict(target_user, target_item, k)\n",
    "        else:\n",
    "            prediction = -1\n",
    "        if not prediction == -1:\n",
    "            pd_prediction = pd_prediction.append({'uid': i, 'tid': j, 'rating': prediction}, ignore_index=True)"
   ]
  },
  {
   "cell_type": "code",
   "execution_count": null,
   "metadata": {},
   "outputs": [],
   "source": [
    "pd_prediction"
   ]
  },
  {
   "cell_type": "code",
   "execution_count": null,
   "metadata": {},
   "outputs": [],
   "source": [
    "pd_prediction.to_pickle(os.path.join(dir_, 'prediction_cf_user_top_N_' + file_name[:-3] + 'pkl'))"
   ]
  },
  {
   "cell_type": "code",
   "execution_count": null,
   "metadata": {},
   "outputs": [],
   "source": [
    "k = knn_list"
   ]
  },
  {
   "cell_type": "code",
   "execution_count": null,
   "metadata": {},
   "outputs": [],
   "source": [
    "knn_list"
   ]
  },
  {
   "cell_type": "code",
   "execution_count": null,
   "metadata": {},
   "outputs": [],
   "source": [
    "pd_knn = pd.DataFrame(columns=['uid','knn_uid','similarity'])\n",
    "n=0\n",
    "for i in knn_list:\n",
    "    for j in i:\n",
    "        pd_knn = pd_knn.append({'uid': n, 'knn_uid': j[0], 'similarity': j[1]}, ignore_index=True)\n",
    "    n += 1"
   ]
  },
  {
   "cell_type": "code",
   "execution_count": null,
   "metadata": {},
   "outputs": [],
   "source": [
    "pd_knn.to_pickle(os.path.join(dir_, 'knn_cf_user_top_N_' + file_name[:-3] + 'pkl'))"
   ]
  },
  {
   "cell_type": "code",
   "execution_count": null,
   "metadata": {},
   "outputs": [],
   "source": []
  }
 ],
 "metadata": {
  "kernelspec": {
   "display_name": "Python 3",
   "language": "python",
   "name": "python3"
  },
  "language_info": {
   "codemirror_mode": {
    "name": "ipython",
    "version": 3
   },
   "file_extension": ".py",
   "mimetype": "text/x-python",
   "name": "python",
   "nbconvert_exporter": "python",
   "pygments_lexer": "ipython3",
   "version": "3.6.13"
  }
 },
 "nbformat": 4,
 "nbformat_minor": 2
}
