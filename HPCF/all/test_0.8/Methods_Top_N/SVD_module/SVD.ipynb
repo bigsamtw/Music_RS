{
 "cells": [
  {
   "cell_type": "code",
   "execution_count": 1,
   "metadata": {},
   "outputs": [
    {
     "name": "stderr",
     "output_type": "stream",
     "text": [
      "/home/han/anaconda3/envs/ts_cpu/lib/python3.6/site-packages/tensorflow/python/framework/dtypes.py:526: FutureWarning: Passing (type, 1) or '1type' as a synonym of type is deprecated; in a future version of numpy, it will be understood as (type, (1,)) / '(1,)type'.\n",
      "  _np_qint8 = np.dtype([(\"qint8\", np.int8, 1)])\n",
      "/home/han/anaconda3/envs/ts_cpu/lib/python3.6/site-packages/tensorflow/python/framework/dtypes.py:527: FutureWarning: Passing (type, 1) or '1type' as a synonym of type is deprecated; in a future version of numpy, it will be understood as (type, (1,)) / '(1,)type'.\n",
      "  _np_quint8 = np.dtype([(\"quint8\", np.uint8, 1)])\n",
      "/home/han/anaconda3/envs/ts_cpu/lib/python3.6/site-packages/tensorflow/python/framework/dtypes.py:528: FutureWarning: Passing (type, 1) or '1type' as a synonym of type is deprecated; in a future version of numpy, it will be understood as (type, (1,)) / '(1,)type'.\n",
      "  _np_qint16 = np.dtype([(\"qint16\", np.int16, 1)])\n",
      "/home/han/anaconda3/envs/ts_cpu/lib/python3.6/site-packages/tensorflow/python/framework/dtypes.py:529: FutureWarning: Passing (type, 1) or '1type' as a synonym of type is deprecated; in a future version of numpy, it will be understood as (type, (1,)) / '(1,)type'.\n",
      "  _np_quint16 = np.dtype([(\"quint16\", np.uint16, 1)])\n",
      "/home/han/anaconda3/envs/ts_cpu/lib/python3.6/site-packages/tensorflow/python/framework/dtypes.py:530: FutureWarning: Passing (type, 1) or '1type' as a synonym of type is deprecated; in a future version of numpy, it will be understood as (type, (1,)) / '(1,)type'.\n",
      "  _np_qint32 = np.dtype([(\"qint32\", np.int32, 1)])\n",
      "/home/han/anaconda3/envs/ts_cpu/lib/python3.6/site-packages/tensorflow/python/framework/dtypes.py:535: FutureWarning: Passing (type, 1) or '1type' as a synonym of type is deprecated; in a future version of numpy, it will be understood as (type, (1,)) / '(1,)type'.\n",
      "  np_resource = np.dtype([(\"resource\", np.ubyte, 1)])\n"
     ]
    }
   ],
   "source": [
    "import os\n",
    "import tqdm\n",
    "from tqdm.notebook import tqdm\n",
    "import numpy as np\n",
    "import pandas as pd\n",
    "import tensorflow as tf\n",
    "from tfcf.metrics import mae\n",
    "from tfcf.metrics import rmse\n",
    "from tfcf.datasets import ml1m\n",
    "from tfcf.config import Config\n",
    "from tfcf.models.svd import SVD\n",
    "# from tfcf.models.svd import SVDPP\n",
    "# from sklearn.model_selection import train_test_split\n",
    "\n",
    "dir_ = '../../data/'\n",
    "# file_name = 'normalized_minmax_filter_track_5_user_100.csv'\n",
    "file_name = 'normalized_log_filter_track_5_user_100.csv'"
   ]
  },
  {
   "cell_type": "code",
   "execution_count": 2,
   "metadata": {},
   "outputs": [],
   "source": [
    "# Note that x is a 2D numpy array, \n",
    "# x[i, :] contains the user-item pair, and y[i] is the corresponding rating.\n",
    "\n",
    "df = pd.read_pickle(os.path.join(dir_, file_name[:-3] + 'pkl'))\n",
    "\n",
    "x_train = np.loadtxt(os.path.join(dir_, 'train_x_' + file_name), delimiter=',')\n",
    "y_train = np.loadtxt(os.path.join(dir_, 'train_y_' + file_name), delimiter=',')"
   ]
  },
  {
   "cell_type": "code",
   "execution_count": 3,
   "metadata": {},
   "outputs": [],
   "source": [
    "config = Config()\n",
    "config.num_users = len(df['uid'].unique())\n",
    "config.num_items = len(df['tid'].unique())\n",
    "config.min_value = df['rating'].min()\n",
    "config.max_value = df['rating'].max()"
   ]
  },
  {
   "cell_type": "code",
   "execution_count": 4,
   "metadata": {},
   "outputs": [
    {
     "name": "stdout",
     "output_type": "stream",
     "text": [
      "953 157567\n"
     ]
    }
   ],
   "source": [
    "# For top N\n",
    "pd_train = pd.read_pickle(os.path.join(dir_, 'train_' + file_name[:-3] + 'pkl'))\n",
    "num_users = len(df['uid'].unique())\n",
    "num_tracks = len(df['tid'].unique())\n",
    "print(num_users, num_tracks)"
   ]
  },
  {
   "cell_type": "code",
   "execution_count": 5,
   "metadata": {},
   "outputs": [],
   "source": [
    "track_ids = []\n",
    "for i in range(num_tracks):\n",
    "    track_ids.append(i)\n",
    "\n",
    "all_tracks = pd.DataFrame()\n",
    "all_tracks['tid'] = track_ids\n",
    "all_tracks['count'] = 0"
   ]
  },
  {
   "cell_type": "code",
   "execution_count": 6,
   "metadata": {},
   "outputs": [
    {
     "data": {
      "application/vnd.jupyter.widget-view+json": {
       "model_id": "6a8e329227864e4f92f1bd4c044e8d59",
       "version_major": 2,
       "version_minor": 0
      },
      "text/plain": [
       "  0%|          | 0/477 [00:00<?, ?it/s]"
      ]
     },
     "metadata": {},
     "output_type": "display_data"
    }
   ],
   "source": [
    "x_test = []\n",
    "\n",
    "for i in tqdm(range(num_users)):\n",
    "    \n",
    "    user = pd_train[pd_train['uid']==i]\n",
    "    top_n = all_tracks.set_index('tid').add(user.set_index('tid'), fill_value=0).reset_index()\n",
    "    top_n = top_n[top_n['count']==0]\n",
    "    top_n['uid'] = i\n",
    "    top_n = top_n[['uid', 'tid']]\n",
    "    top_n = top_n.values.tolist()\n",
    "    x_test.extend(top_n)"
   ]
  },
  {
   "cell_type": "code",
   "execution_count": 7,
   "metadata": {},
   "outputs": [
    {
     "name": "stdout",
     "output_type": "stream",
     "text": [
      "(2,)\n"
     ]
    }
   ],
   "source": [
    "x_test = np.array(x_test)\n",
    "print(x_test[0].shape)"
   ]
  },
  {
   "cell_type": "code",
   "execution_count": 8,
   "metadata": {},
   "outputs": [
    {
     "name": "stdout",
     "output_type": "stream",
     "text": [
      "\n",
      "WARNING: The TensorFlow contrib module will not be included in TensorFlow 2.0.\n",
      "For more information, please see:\n",
      "  * https://github.com/tensorflow/community/blob/master/rfcs/20180907-contrib-sunset.md\n",
      "  * https://github.com/tensorflow/addons\n",
      "If you depend on functionality not listed there, please file an issue.\n",
      "\n",
      "WARNING:tensorflow:From /home/han/anaconda3/envs/ts_cpu/lib/python3.6/site-packages/tensorflow/python/framework/op_def_library.py:263: colocate_with (from tensorflow.python.framework.ops) is deprecated and will be removed in a future version.\n",
      "Instructions for updating:\n",
      "Colocations handled automatically by placer.\n",
      "WARNING:tensorflow:From /home/han/anaconda3/envs/ts_cpu/lib/python3.6/site-packages/tensorflow/python/ops/math_ops.py:3066: to_int32 (from tensorflow.python.ops.math_ops) is deprecated and will be removed in a future version.\n",
      "Instructions for updating:\n",
      "Use tf.cast instead.\n",
      "Epoch 1/2\n",
      "76/76 [==============================] - 3s 43ms/step - rmse: 0.3227 - mae: 0.2512\n",
      "Epoch 2/2\n",
      "76/76 [==============================] - 3s 42ms/step - rmse: 0.3055 - mae: 0.2347\n"
     ]
    }
   ],
   "source": [
    "with tf.compat.v1.Session() as sess:\n",
    "    # For SVD++ algorithm, if `dual` is True, then the dual term of items' \n",
    "    # implicit feedback will be added into the original SVD++ algorithm.\n",
    "    # model = SVDPP(config, sess, dual=False)\n",
    "    # model = SVDPP(config, sess, dual=True)\n",
    "    \n",
    "    model = SVD(config, sess)\n",
    "    \n",
    "#     model.train(x_train, y_train, validation_data=(x_test, y_test), epochs=5, batch_size=1024)\n",
    "    model.train(x_train, y_train, epochs=2, batch_size=32768)\n",
    "    \n",
    "    y_pred_1 = model.predict(x_test[:int(len(x_test)/2)])\n",
    "    y_pred_2 = model.predict(x_test[int(len(x_test)/2):])\n",
    "#     print('rmse: {}, mae: {}'.format(rmse(y_test, y_pred), mae(y_test, y_pred)))"
   ]
  },
  {
   "cell_type": "code",
   "execution_count": 9,
   "metadata": {},
   "outputs": [
    {
     "name": "stdout",
     "output_type": "stream",
     "text": [
      "36941986 36941987 0.43467742 0.59688693\n",
      "73883973 0.43467742 0.59688693\n"
     ]
    }
   ],
   "source": [
    "y_pred = np.append(y_pred_1, y_pred_2)\n",
    "print(len(y_pred_1), len(y_pred_2), y_pred_1[0], y_pred_2[-1])\n",
    "print(len(y_pred), y_pred[0], y_pred[-1])"
   ]
  },
  {
   "cell_type": "code",
   "execution_count": 10,
   "metadata": {
    "scrolled": true
   },
   "outputs": [
    {
     "data": {
      "text/html": [
       "<div>\n",
       "<style scoped>\n",
       "    .dataframe tbody tr th:only-of-type {\n",
       "        vertical-align: middle;\n",
       "    }\n",
       "\n",
       "    .dataframe tbody tr th {\n",
       "        vertical-align: top;\n",
       "    }\n",
       "\n",
       "    .dataframe thead th {\n",
       "        text-align: right;\n",
       "    }\n",
       "</style>\n",
       "<table border=\"1\" class=\"dataframe\">\n",
       "  <thead>\n",
       "    <tr style=\"text-align: right;\">\n",
       "      <th></th>\n",
       "      <th>uid</th>\n",
       "      <th>tid</th>\n",
       "      <th>rating</th>\n",
       "    </tr>\n",
       "  </thead>\n",
       "  <tbody>\n",
       "    <tr>\n",
       "      <th>0</th>\n",
       "      <td>476</td>\n",
       "      <td>0</td>\n",
       "      <td>0.434677</td>\n",
       "    </tr>\n",
       "    <tr>\n",
       "      <th>1</th>\n",
       "      <td>476</td>\n",
       "      <td>1</td>\n",
       "      <td>0.429382</td>\n",
       "    </tr>\n",
       "    <tr>\n",
       "      <th>2</th>\n",
       "      <td>476</td>\n",
       "      <td>2</td>\n",
       "      <td>0.418726</td>\n",
       "    </tr>\n",
       "    <tr>\n",
       "      <th>3</th>\n",
       "      <td>476</td>\n",
       "      <td>3</td>\n",
       "      <td>0.411908</td>\n",
       "    </tr>\n",
       "    <tr>\n",
       "      <th>4</th>\n",
       "      <td>476</td>\n",
       "      <td>4</td>\n",
       "      <td>0.430531</td>\n",
       "    </tr>\n",
       "    <tr>\n",
       "      <th>5</th>\n",
       "      <td>476</td>\n",
       "      <td>5</td>\n",
       "      <td>0.446539</td>\n",
       "    </tr>\n",
       "    <tr>\n",
       "      <th>6</th>\n",
       "      <td>476</td>\n",
       "      <td>6</td>\n",
       "      <td>0.418778</td>\n",
       "    </tr>\n",
       "    <tr>\n",
       "      <th>7</th>\n",
       "      <td>476</td>\n",
       "      <td>7</td>\n",
       "      <td>0.451309</td>\n",
       "    </tr>\n",
       "    <tr>\n",
       "      <th>8</th>\n",
       "      <td>476</td>\n",
       "      <td>8</td>\n",
       "      <td>0.405626</td>\n",
       "    </tr>\n",
       "    <tr>\n",
       "      <th>9</th>\n",
       "      <td>476</td>\n",
       "      <td>9</td>\n",
       "      <td>0.463920</td>\n",
       "    </tr>\n",
       "  </tbody>\n",
       "</table>\n",
       "</div>"
      ],
      "text/plain": [
       "   uid  tid    rating\n",
       "0  476    0  0.434677\n",
       "1  476    1  0.429382\n",
       "2  476    2  0.418726\n",
       "3  476    3  0.411908\n",
       "4  476    4  0.430531\n",
       "5  476    5  0.446539\n",
       "6  476    6  0.418778\n",
       "7  476    7  0.451309\n",
       "8  476    8  0.405626\n",
       "9  476    9  0.463920"
      ]
     },
     "execution_count": 10,
     "metadata": {},
     "output_type": "execute_result"
    }
   ],
   "source": [
    "df = pd.DataFrame(y_pred, columns=['rating'])\n",
    "df2 = pd.DataFrame(x_test, columns=['uid', 'tid'])\n",
    "df2.insert(2, 'rating', y_pred, False) \n",
    "df2[:10]"
   ]
  },
  {
   "cell_type": "code",
   "execution_count": null,
   "metadata": {},
   "outputs": [],
   "source": [
    "df2.to_pickle(os.path.join(dir_, 'prediction_svd_top_N_' + file_name[:-3] + 'pkl'))"
   ]
  },
  {
   "cell_type": "code",
   "execution_count": null,
   "metadata": {},
   "outputs": [],
   "source": []
  },
  {
   "cell_type": "code",
   "execution_count": null,
   "metadata": {},
   "outputs": [],
   "source": []
  },
  {
   "cell_type": "code",
   "execution_count": null,
   "metadata": {},
   "outputs": [],
   "source": []
  },
  {
   "cell_type": "code",
   "execution_count": null,
   "metadata": {},
   "outputs": [],
   "source": []
  },
  {
   "cell_type": "code",
   "execution_count": null,
   "metadata": {},
   "outputs": [],
   "source": []
  },
  {
   "cell_type": "code",
   "execution_count": 11,
   "metadata": {},
   "outputs": [],
   "source": [
    "df2.to_pickle(os.path.join(dir_, 'temp2.pkl'))"
   ]
  },
  {
   "cell_type": "code",
   "execution_count": 12,
   "metadata": {},
   "outputs": [
    {
     "data": {
      "text/html": [
       "<div>\n",
       "<style scoped>\n",
       "    .dataframe tbody tr th:only-of-type {\n",
       "        vertical-align: middle;\n",
       "    }\n",
       "\n",
       "    .dataframe tbody tr th {\n",
       "        vertical-align: top;\n",
       "    }\n",
       "\n",
       "    .dataframe thead th {\n",
       "        text-align: right;\n",
       "    }\n",
       "</style>\n",
       "<table border=\"1\" class=\"dataframe\">\n",
       "  <thead>\n",
       "    <tr style=\"text-align: right;\">\n",
       "      <th></th>\n",
       "      <th>uid</th>\n",
       "      <th>tid</th>\n",
       "      <th>rating</th>\n",
       "    </tr>\n",
       "  </thead>\n",
       "  <tbody>\n",
       "    <tr>\n",
       "      <th>0</th>\n",
       "      <td>0</td>\n",
       "      <td>4</td>\n",
       "      <td>0.601343</td>\n",
       "    </tr>\n",
       "    <tr>\n",
       "      <th>1</th>\n",
       "      <td>0</td>\n",
       "      <td>14</td>\n",
       "      <td>0.636560</td>\n",
       "    </tr>\n",
       "    <tr>\n",
       "      <th>2</th>\n",
       "      <td>0</td>\n",
       "      <td>19</td>\n",
       "      <td>0.608919</td>\n",
       "    </tr>\n",
       "    <tr>\n",
       "      <th>3</th>\n",
       "      <td>0</td>\n",
       "      <td>21</td>\n",
       "      <td>0.581061</td>\n",
       "    </tr>\n",
       "    <tr>\n",
       "      <th>4</th>\n",
       "      <td>0</td>\n",
       "      <td>27</td>\n",
       "      <td>0.590191</td>\n",
       "    </tr>\n",
       "    <tr>\n",
       "      <th>...</th>\n",
       "      <td>...</td>\n",
       "      <td>...</td>\n",
       "      <td>...</td>\n",
       "    </tr>\n",
       "    <tr>\n",
       "      <th>73813663</th>\n",
       "      <td>475</td>\n",
       "      <td>157562</td>\n",
       "      <td>0.555950</td>\n",
       "    </tr>\n",
       "    <tr>\n",
       "      <th>73813664</th>\n",
       "      <td>475</td>\n",
       "      <td>157563</td>\n",
       "      <td>0.569963</td>\n",
       "    </tr>\n",
       "    <tr>\n",
       "      <th>73813665</th>\n",
       "      <td>475</td>\n",
       "      <td>157564</td>\n",
       "      <td>0.537223</td>\n",
       "    </tr>\n",
       "    <tr>\n",
       "      <th>73813666</th>\n",
       "      <td>475</td>\n",
       "      <td>157565</td>\n",
       "      <td>0.581616</td>\n",
       "    </tr>\n",
       "    <tr>\n",
       "      <th>73813667</th>\n",
       "      <td>475</td>\n",
       "      <td>157566</td>\n",
       "      <td>0.577174</td>\n",
       "    </tr>\n",
       "  </tbody>\n",
       "</table>\n",
       "<p>73813668 rows × 3 columns</p>\n",
       "</div>"
      ],
      "text/plain": [
       "          uid     tid    rating\n",
       "0           0       4  0.601343\n",
       "1           0      14  0.636560\n",
       "2           0      19  0.608919\n",
       "3           0      21  0.581061\n",
       "4           0      27  0.590191\n",
       "...       ...     ...       ...\n",
       "73813663  475  157562  0.555950\n",
       "73813664  475  157563  0.569963\n",
       "73813665  475  157564  0.537223\n",
       "73813666  475  157565  0.581616\n",
       "73813667  475  157566  0.577174\n",
       "\n",
       "[73813668 rows x 3 columns]"
      ]
     },
     "execution_count": 12,
     "metadata": {},
     "output_type": "execute_result"
    }
   ],
   "source": [
    "df1 = pd.read_pickle(os.path.join(dir_, 'temp1.pkl'))\n",
    "df1"
   ]
  },
  {
   "cell_type": "code",
   "execution_count": 13,
   "metadata": {},
   "outputs": [
    {
     "data": {
      "text/html": [
       "<div>\n",
       "<style scoped>\n",
       "    .dataframe tbody tr th:only-of-type {\n",
       "        vertical-align: middle;\n",
       "    }\n",
       "\n",
       "    .dataframe tbody tr th {\n",
       "        vertical-align: top;\n",
       "    }\n",
       "\n",
       "    .dataframe thead th {\n",
       "        text-align: right;\n",
       "    }\n",
       "</style>\n",
       "<table border=\"1\" class=\"dataframe\">\n",
       "  <thead>\n",
       "    <tr style=\"text-align: right;\">\n",
       "      <th></th>\n",
       "      <th>uid</th>\n",
       "      <th>tid</th>\n",
       "      <th>rating</th>\n",
       "    </tr>\n",
       "  </thead>\n",
       "  <tbody>\n",
       "    <tr>\n",
       "      <th>0</th>\n",
       "      <td>0</td>\n",
       "      <td>4</td>\n",
       "      <td>0.601343</td>\n",
       "    </tr>\n",
       "    <tr>\n",
       "      <th>1</th>\n",
       "      <td>0</td>\n",
       "      <td>14</td>\n",
       "      <td>0.636560</td>\n",
       "    </tr>\n",
       "    <tr>\n",
       "      <th>2</th>\n",
       "      <td>0</td>\n",
       "      <td>19</td>\n",
       "      <td>0.608919</td>\n",
       "    </tr>\n",
       "    <tr>\n",
       "      <th>3</th>\n",
       "      <td>0</td>\n",
       "      <td>21</td>\n",
       "      <td>0.581061</td>\n",
       "    </tr>\n",
       "    <tr>\n",
       "      <th>4</th>\n",
       "      <td>0</td>\n",
       "      <td>27</td>\n",
       "      <td>0.590191</td>\n",
       "    </tr>\n",
       "    <tr>\n",
       "      <th>...</th>\n",
       "      <td>...</td>\n",
       "      <td>...</td>\n",
       "      <td>...</td>\n",
       "    </tr>\n",
       "    <tr>\n",
       "      <th>73883968</th>\n",
       "      <td>952</td>\n",
       "      <td>157562</td>\n",
       "      <td>0.590917</td>\n",
       "    </tr>\n",
       "    <tr>\n",
       "      <th>73883969</th>\n",
       "      <td>952</td>\n",
       "      <td>157563</td>\n",
       "      <td>0.593571</td>\n",
       "    </tr>\n",
       "    <tr>\n",
       "      <th>73883970</th>\n",
       "      <td>952</td>\n",
       "      <td>157564</td>\n",
       "      <td>0.557220</td>\n",
       "    </tr>\n",
       "    <tr>\n",
       "      <th>73883971</th>\n",
       "      <td>952</td>\n",
       "      <td>157565</td>\n",
       "      <td>0.600230</td>\n",
       "    </tr>\n",
       "    <tr>\n",
       "      <th>73883972</th>\n",
       "      <td>952</td>\n",
       "      <td>157566</td>\n",
       "      <td>0.596887</td>\n",
       "    </tr>\n",
       "  </tbody>\n",
       "</table>\n",
       "<p>147697641 rows × 3 columns</p>\n",
       "</div>"
      ],
      "text/plain": [
       "          uid     tid    rating\n",
       "0           0       4  0.601343\n",
       "1           0      14  0.636560\n",
       "2           0      19  0.608919\n",
       "3           0      21  0.581061\n",
       "4           0      27  0.590191\n",
       "...       ...     ...       ...\n",
       "73883968  952  157562  0.590917\n",
       "73883969  952  157563  0.593571\n",
       "73883970  952  157564  0.557220\n",
       "73883971  952  157565  0.600230\n",
       "73883972  952  157566  0.596887\n",
       "\n",
       "[147697641 rows x 3 columns]"
      ]
     },
     "execution_count": 13,
     "metadata": {},
     "output_type": "execute_result"
    }
   ],
   "source": [
    "frames = [df1, df2]\n",
    "df3 = pd.concat(frames)\n",
    "df3"
   ]
  },
  {
   "cell_type": "code",
   "execution_count": null,
   "metadata": {},
   "outputs": [],
   "source": []
  }
 ],
 "metadata": {
  "kernelspec": {
   "display_name": "Python 3",
   "language": "python",
   "name": "python3"
  },
  "language_info": {
   "codemirror_mode": {
    "name": "ipython",
    "version": 3
   },
   "file_extension": ".py",
   "mimetype": "text/x-python",
   "name": "python",
   "nbconvert_exporter": "python",
   "pygments_lexer": "ipython3",
   "version": "3.6.10"
  }
 },
 "nbformat": 4,
 "nbformat_minor": 2
}
