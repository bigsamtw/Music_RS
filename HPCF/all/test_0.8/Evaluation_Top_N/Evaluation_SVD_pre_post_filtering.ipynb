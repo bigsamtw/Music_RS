{
 "cells": [
  {
   "cell_type": "code",
   "execution_count": 1,
   "metadata": {},
   "outputs": [],
   "source": [
    "import os \n",
    "import tqdm\n",
    "import math\n",
    "import random\n",
    "import numpy as np\n",
    "import pandas as pd\n",
    "from tqdm.notebook import tqdm\n",
    "from numpy import count_nonzero\n",
    "\n",
    "dir_ = '../data/'\n",
    "file_name = 'normalized_to_rating_filter_track_5_user_100.csv'"
   ]
  },
  {
   "cell_type": "code",
   "execution_count": 2,
   "metadata": {
    "scrolled": true
   },
   "outputs": [
    {
     "data": {
      "text/html": [
       "<div>\n",
       "<style scoped>\n",
       "    .dataframe tbody tr th:only-of-type {\n",
       "        vertical-align: middle;\n",
       "    }\n",
       "\n",
       "    .dataframe tbody tr th {\n",
       "        vertical-align: top;\n",
       "    }\n",
       "\n",
       "    .dataframe thead th {\n",
       "        text-align: right;\n",
       "    }\n",
       "</style>\n",
       "<table border=\"1\" class=\"dataframe\">\n",
       "  <thead>\n",
       "    <tr style=\"text-align: right;\">\n",
       "      <th></th>\n",
       "      <th>uid</th>\n",
       "      <th>tid</th>\n",
       "      <th>rating</th>\n",
       "      <th>count</th>\n",
       "    </tr>\n",
       "  </thead>\n",
       "  <tbody>\n",
       "    <tr>\n",
       "      <th>26</th>\n",
       "      <td>0</td>\n",
       "      <td>9</td>\n",
       "      <td>4.75</td>\n",
       "      <td>15</td>\n",
       "    </tr>\n",
       "    <tr>\n",
       "      <th>37</th>\n",
       "      <td>0</td>\n",
       "      <td>15</td>\n",
       "      <td>2.50</td>\n",
       "      <td>3</td>\n",
       "    </tr>\n",
       "    <tr>\n",
       "      <th>45</th>\n",
       "      <td>0</td>\n",
       "      <td>22</td>\n",
       "      <td>3.50</td>\n",
       "      <td>6</td>\n",
       "    </tr>\n",
       "    <tr>\n",
       "      <th>64</th>\n",
       "      <td>0</td>\n",
       "      <td>28</td>\n",
       "      <td>2.75</td>\n",
       "      <td>4</td>\n",
       "    </tr>\n",
       "    <tr>\n",
       "      <th>75</th>\n",
       "      <td>0</td>\n",
       "      <td>33</td>\n",
       "      <td>0.25</td>\n",
       "      <td>1</td>\n",
       "    </tr>\n",
       "  </tbody>\n",
       "</table>\n",
       "</div>"
      ],
      "text/plain": [
       "    uid  tid  rating  count\n",
       "26    0    9    4.75     15\n",
       "37    0   15    2.50      3\n",
       "45    0   22    3.50      6\n",
       "64    0   28    2.75      4\n",
       "75    0   33    0.25      1"
      ]
     },
     "execution_count": 2,
     "metadata": {},
     "output_type": "execute_result"
    }
   ],
   "source": [
    "test = pd.read_pickle(os.path.join(dir_, 'test_' + file_name[:-3] + 'pkl'))\n",
    "test.sort_values(by=['uid','tid'])[:5]"
   ]
  },
  {
   "cell_type": "code",
   "execution_count": 3,
   "metadata": {},
   "outputs": [
    {
     "data": {
      "text/plain": [
       "953"
      ]
     },
     "execution_count": 3,
     "metadata": {},
     "output_type": "execute_result"
    }
   ],
   "source": [
    "n=50\n",
    "num_user = len(test['uid'].unique())\n",
    "num_user"
   ]
  },
  {
   "cell_type": "code",
   "execution_count": null,
   "metadata": {},
   "outputs": [
    {
     "name": "stdout",
     "output_type": "stream",
     "text": [
      "0.1450367261280169\n"
     ]
    }
   ],
   "source": [
    "for i in [0.1, 0.2, 0.3, 0.4, 0.5, 0.6, 0.7, 0.8, 0.9, 1.0]:\n",
    "    port = i\n",
    "    predictions = pd.read_pickle(os.path.join(dir_, 'pre_filtering (user)', str(port) + '_prediction_svd_top_N_' + file_name[:-3] + 'pkl'))\n",
    "\n",
    "    top_n_lists = []\n",
    "    for j in range(num_user):\n",
    "        prediction = predictions[predictions['uid'] == j]\n",
    "        prediction = prediction.sort_values(by=['rating'],  ascending=False)\n",
    "        prediction = prediction[:n]\n",
    "        top_n_list = []\n",
    "        for _, row in prediction.iterrows():\n",
    "            top_n_list.append(row[1])\n",
    "        top_n_lists.append(top_n_list)\n",
    "        \n",
    "    satisfication = 0\n",
    "    for j in range(num_user):\n",
    "        top_n_list = top_n_lists[j]\n",
    "        precision = 0\n",
    "        for k in top_n_list:\n",
    "            p = test[test['uid'] == j]\n",
    "            p = p[p['tid']==k]\n",
    "            if len(p) > 0:\n",
    "                precision += 1\n",
    "        satisfication += precision / n\n",
    "    print(satisfication/num_user)"
   ]
  },
  {
   "cell_type": "code",
   "execution_count": null,
   "metadata": {},
   "outputs": [],
   "source": [
    "for i in [0.0005, 0.001, 0.005, 0.01, 0.05, 0.1, 0.2, 0.3, 0.4, 0.5, 0.6, 0.7, 0.8, 0.9, 1.0]:\n",
    "    port = i\n",
    "    predictions = pd.read_pickle(os.path.join(dir_, 'post_filtering (count)', str(port) + '_prediction_svd_top_N_' + file_name[:-3] + 'pkl'))\n",
    "\n",
    "    top_n_lists = []\n",
    "    for j in range(num_user):\n",
    "        prediction = predictions[predictions['uid'] == j]\n",
    "        prediction = prediction.sort_values(by=['rating'],  ascending=False)\n",
    "        prediction = prediction[:n]\n",
    "        top_n_list = []\n",
    "        for _, row in prediction.iterrows():\n",
    "            top_n_list.append(row[1])\n",
    "        top_n_lists.append(top_n_list)\n",
    "        \n",
    "    satisfication = 0\n",
    "    for j in range(num_user):\n",
    "        top_n_list = top_n_lists[j]\n",
    "        precision = 0\n",
    "        for k in top_n_list:\n",
    "            p = test[test['uid'] == j]\n",
    "            p = p[p['tid']==k]\n",
    "            if len(p) > 0:\n",
    "                precision += 1\n",
    "        satisfication += precision / n\n",
    "    print(satisfication/num_user)"
   ]
  },
  {
   "cell_type": "code",
   "execution_count": null,
   "metadata": {},
   "outputs": [],
   "source": []
  }
 ],
 "metadata": {
  "kernelspec": {
   "display_name": "Python 3",
   "language": "python",
   "name": "python3"
  },
  "language_info": {
   "codemirror_mode": {
    "name": "ipython",
    "version": 3
   },
   "file_extension": ".py",
   "mimetype": "text/x-python",
   "name": "python",
   "nbconvert_exporter": "python",
   "pygments_lexer": "ipython3",
   "version": "3.6.10"
  }
 },
 "nbformat": 4,
 "nbformat_minor": 2
}
