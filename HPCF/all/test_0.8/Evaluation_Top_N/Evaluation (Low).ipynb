{
 "cells": [
  {
   "cell_type": "code",
   "execution_count": 1,
   "metadata": {},
   "outputs": [],
   "source": [
    "import os \n",
    "import tqdm\n",
    "import math\n",
    "import random\n",
    "import numpy as np\n",
    "import pandas as pd\n",
    "from tqdm.notebook import tqdm\n",
    "from numpy import count_nonzero\n",
    "\n",
    "dir_ = '../data/'\n",
    "group_dir_ = '../data/groups/low'\n",
    "file_name = 'normalized_to_rating_filter_track_5_user_100.csv'"
   ]
  },
  {
   "cell_type": "code",
   "execution_count": 2,
   "metadata": {},
   "outputs": [],
   "source": [
    "predictions = pd.read_pickle(os.path.join(dir_, 'post_filtering (count)', str(0.005) + '_prediction_svd_top_N_' + file_name[:-3] + 'pkl'))\n",
    "test = pd.read_pickle(os.path.join(dir_, 'test_' + file_name[:-3] + 'pkl'))"
   ]
  },
  {
   "cell_type": "code",
   "execution_count": 3,
   "metadata": {},
   "outputs": [
    {
     "data": {
      "text/html": [
       "<div>\n",
       "<style scoped>\n",
       "    .dataframe tbody tr th:only-of-type {\n",
       "        vertical-align: middle;\n",
       "    }\n",
       "\n",
       "    .dataframe tbody tr th {\n",
       "        vertical-align: top;\n",
       "    }\n",
       "\n",
       "    .dataframe thead th {\n",
       "        text-align: right;\n",
       "    }\n",
       "</style>\n",
       "<table border=\"1\" class=\"dataframe\">\n",
       "  <thead>\n",
       "    <tr style=\"text-align: right;\">\n",
       "      <th></th>\n",
       "      <th>uid</th>\n",
       "      <th>tid</th>\n",
       "      <th>rating</th>\n",
       "    </tr>\n",
       "  </thead>\n",
       "  <tbody>\n",
       "    <tr>\n",
       "      <th>6</th>\n",
       "      <td>0</td>\n",
       "      <td>48</td>\n",
       "      <td>2.821581</td>\n",
       "    </tr>\n",
       "    <tr>\n",
       "      <th>10</th>\n",
       "      <td>0</td>\n",
       "      <td>59</td>\n",
       "      <td>2.449405</td>\n",
       "    </tr>\n",
       "    <tr>\n",
       "      <th>11</th>\n",
       "      <td>0</td>\n",
       "      <td>70</td>\n",
       "      <td>3.864443</td>\n",
       "    </tr>\n",
       "    <tr>\n",
       "      <th>14</th>\n",
       "      <td>0</td>\n",
       "      <td>83</td>\n",
       "      <td>3.358146</td>\n",
       "    </tr>\n",
       "    <tr>\n",
       "      <th>32</th>\n",
       "      <td>0</td>\n",
       "      <td>176</td>\n",
       "      <td>2.833267</td>\n",
       "    </tr>\n",
       "  </tbody>\n",
       "</table>\n",
       "</div>"
      ],
      "text/plain": [
       "    uid  tid    rating\n",
       "6     0   48  2.821581\n",
       "10    0   59  2.449405\n",
       "11    0   70  3.864443\n",
       "14    0   83  3.358146\n",
       "32    0  176  2.833267"
      ]
     },
     "execution_count": 3,
     "metadata": {},
     "output_type": "execute_result"
    }
   ],
   "source": [
    "predictions[:5]"
   ]
  },
  {
   "cell_type": "code",
   "execution_count": 4,
   "metadata": {},
   "outputs": [
    {
     "data": {
      "text/html": [
       "<div>\n",
       "<style scoped>\n",
       "    .dataframe tbody tr th:only-of-type {\n",
       "        vertical-align: middle;\n",
       "    }\n",
       "\n",
       "    .dataframe tbody tr th {\n",
       "        vertical-align: top;\n",
       "    }\n",
       "\n",
       "    .dataframe thead th {\n",
       "        text-align: right;\n",
       "    }\n",
       "</style>\n",
       "<table border=\"1\" class=\"dataframe\">\n",
       "  <thead>\n",
       "    <tr style=\"text-align: right;\">\n",
       "      <th></th>\n",
       "      <th>uid</th>\n",
       "      <th>tid</th>\n",
       "      <th>rating</th>\n",
       "      <th>count</th>\n",
       "    </tr>\n",
       "  </thead>\n",
       "  <tbody>\n",
       "    <tr>\n",
       "      <th>26</th>\n",
       "      <td>0</td>\n",
       "      <td>9</td>\n",
       "      <td>4.75</td>\n",
       "      <td>15</td>\n",
       "    </tr>\n",
       "    <tr>\n",
       "      <th>37</th>\n",
       "      <td>0</td>\n",
       "      <td>15</td>\n",
       "      <td>2.50</td>\n",
       "      <td>3</td>\n",
       "    </tr>\n",
       "    <tr>\n",
       "      <th>45</th>\n",
       "      <td>0</td>\n",
       "      <td>22</td>\n",
       "      <td>3.50</td>\n",
       "      <td>6</td>\n",
       "    </tr>\n",
       "    <tr>\n",
       "      <th>64</th>\n",
       "      <td>0</td>\n",
       "      <td>28</td>\n",
       "      <td>2.75</td>\n",
       "      <td>4</td>\n",
       "    </tr>\n",
       "    <tr>\n",
       "      <th>75</th>\n",
       "      <td>0</td>\n",
       "      <td>33</td>\n",
       "      <td>0.25</td>\n",
       "      <td>1</td>\n",
       "    </tr>\n",
       "  </tbody>\n",
       "</table>\n",
       "</div>"
      ],
      "text/plain": [
       "    uid  tid  rating  count\n",
       "26    0    9    4.75     15\n",
       "37    0   15    2.50      3\n",
       "45    0   22    3.50      6\n",
       "64    0   28    2.75      4\n",
       "75    0   33    0.25      1"
      ]
     },
     "execution_count": 4,
     "metadata": {},
     "output_type": "execute_result"
    }
   ],
   "source": [
    "test.sort_values(by=['uid','tid'])[:5]"
   ]
  },
  {
   "cell_type": "code",
   "execution_count": 5,
   "metadata": {},
   "outputs": [
    {
     "name": "stdout",
     "output_type": "stream",
     "text": [
      "2\n",
      "3\n",
      "4\n",
      "5\n",
      "6\n",
      "7\n",
      "8\n"
     ]
    }
   ],
   "source": [
    "groups_n =[]\n",
    "group_sizes = ['2', '3', '4', '5', '6', '7', '8']\n",
    "for i in range(len(group_sizes)):\n",
    "    groups = np.loadtxt(os.path.join(group_dir_, group_sizes[i] + '.csv'), delimiter=',')\n",
    "    groups_n.append(groups)\n",
    "    print(len(groups[0]))"
   ]
  },
  {
   "cell_type": "code",
   "execution_count": 6,
   "metadata": {},
   "outputs": [
    {
     "data": {
      "text/plain": [
       "953"
      ]
     },
     "execution_count": 6,
     "metadata": {},
     "output_type": "execute_result"
    }
   ],
   "source": [
    "num_user = len(predictions['uid'].unique())\n",
    "num_user"
   ]
  },
  {
   "cell_type": "code",
   "execution_count": 7,
   "metadata": {},
   "outputs": [],
   "source": [
    "precision_4 = []\n",
    "precision_20 = []\n",
    "precision_50 = []\n",
    "\n",
    "recall_4 = []\n",
    "recall_20 = []\n",
    "recall_50 = []"
   ]
  },
  {
   "cell_type": "code",
   "execution_count": 8,
   "metadata": {},
   "outputs": [
    {
     "data": {
      "application/vnd.jupyter.widget-view+json": {
       "model_id": "6bfc4d2469c945448729458fd7991c5f",
       "version_major": 2,
       "version_minor": 0
      },
      "text/plain": [
       "HBox(children=(HTML(value=''), FloatProgress(value=0.0, max=7.0), HTML(value='')))"
      ]
     },
     "metadata": {},
     "output_type": "display_data"
    },
    {
     "name": "stdout",
     "output_type": "stream",
     "text": [
      "\n"
     ]
    },
    {
     "data": {
      "application/vnd.jupyter.widget-view+json": {
       "model_id": "47a48928a73a41af8cf00b56faee7340",
       "version_major": 2,
       "version_minor": 0
      },
      "text/plain": [
       "HBox(children=(HTML(value=''), FloatProgress(value=0.0, max=3.0), HTML(value='')))"
      ]
     },
     "metadata": {},
     "output_type": "display_data"
    },
    {
     "name": "stdout",
     "output_type": "stream",
     "text": [
      "\n"
     ]
    }
   ],
   "source": [
    "# Precision and Recall\n",
    "top_n_size = 50\n",
    "top_n_lists_g = []\n",
    "for groups in tqdm(groups_n):\n",
    "\n",
    "    group_size = len(groups[0])\n",
    "    top_n_lists = []\n",
    "\n",
    "    for group in groups:\n",
    "        rating_table = pd.DataFrame() \n",
    "        for member in group:\n",
    "            prediction = predictions[predictions['uid'] == member].copy()\n",
    "            if len(rating_table) == 0:\n",
    "                rating_table = prediction\n",
    "            else:\n",
    "                rating_table = rating_table.set_index('tid').add(prediction.set_index('tid'), fill_value=0).reset_index()\n",
    "        rating_table['rating'] /= group_size \n",
    "\n",
    "        rating_table = rating_table.sort_values(by=['rating'],  ascending=False)\n",
    "        rating_table = rating_table[:top_n_size]\n",
    "        top_n_list = []\n",
    "        for _, row in rating_table.iterrows():\n",
    "            top_n_list.append(row[0])\n",
    "        top_n_lists.append(top_n_list)\n",
    "    top_n_lists_g.append(top_n_lists)   \n",
    "\n",
    "threshold = 0.0\n",
    "for top_n_size in tqdm([50, 20, 4]):\n",
    "    avg_precisions = []\n",
    "    avg_recalls = []\n",
    "    for i in range(len(groups_n)):\n",
    "        groups = groups_n[i]\n",
    "        top_n_lists = top_n_lists_g[i]\n",
    "\n",
    "        precisions = []\n",
    "        recalls =[]\n",
    "        for j in (range(len(groups))):\n",
    "\n",
    "            group = groups[j]\n",
    "            top_n_list = top_n_lists[j][:top_n_size]\n",
    "            \n",
    "            \n",
    "            for k in range(len(group)):\n",
    "                high_rating = 0\n",
    "                for l in range(top_n_size):\n",
    "                    uid = group[k]\n",
    "                    tid = top_n_list[l]\n",
    "                    t = test[test['uid'] == uid]\n",
    "                    t = t[t['tid'] == tid]\n",
    "                    if len(t) > 0 and t.iloc[0]['rating'] > threshold:\n",
    "                        high_rating += 1\n",
    "                        \n",
    "                precision = high_rating / top_n_size\n",
    "                recall = high_rating / len(test[test['uid'] == uid])\n",
    "                precisions.append(precision)\n",
    "                recalls.append(recall)\n",
    "                \n",
    "        avg_precision = 0\n",
    "        for precision in precisions:\n",
    "            avg_precision += precision\n",
    "        avg_precision /= len(precisions)\n",
    "        avg_precisions.append(avg_precision)\n",
    "        \n",
    "        avg_recall = 0\n",
    "        for recall in recalls:\n",
    "            avg_recall += recall\n",
    "        avg_recall /= len(recalls)\n",
    "        avg_recalls.append(avg_recall)\n",
    "        \n",
    "    if top_n_size == 4:\n",
    "        precision_4.append(avg_precisions)\n",
    "    elif top_n_size == 20:\n",
    "        precision_20.append(avg_precisions)\n",
    "    elif top_n_size == 50:\n",
    "        precision_50.append(avg_precisions)\n",
    "        \n",
    "    if top_n_size == 4:\n",
    "        recall_4.append(avg_recalls)\n",
    "    elif top_n_size == 20:\n",
    "        recall_20.append(avg_recalls)\n",
    "    elif top_n_size == 50:\n",
    "        recall_50.append(avg_recalls)\n"
   ]
  },
  {
   "cell_type": "code",
   "execution_count": 9,
   "metadata": {},
   "outputs": [
    {
     "name": "stdout",
     "output_type": "stream",
     "text": [
      "[0.21087257617728533, 0.15618448637316562, 0.11082474226804123, 0.10757575757575757, 0.07552083333333333, 0.07417582417582418, 0.07762096774193548]\n",
      "[0.15166204986149528, 0.11226415094339601, 0.08311855670103113, 0.07272727272727293, 0.061458333333333455, 0.050183150183150234, 0.04717741935483878]\n",
      "[0.1245706371191137, 0.08922431865828095, 0.06927835051546355, 0.05806060606060581, 0.048263888888888745, 0.04036630036630021, 0.034919354838709574]\n",
      "[0.001561219124474918, 0.0013659530961314915, 0.0014190112590963372, 0.0013817776055043947, 0.0010103785666236741, 0.0016056510812328243, 0.0014571971255677454]\n",
      "[0.005458775913642639, 0.005291746834809949, 0.0043736711112748825, 0.00465160192461916, 0.004256117052841385, 0.0045479062339554635, 0.004204080521181675]\n",
      "[0.0109637136862546, 0.009956209529739215, 0.009592836011807122, 0.009189882824749253, 0.008550410479777034, 0.008753107247732561, 0.00801715774260562]\n"
     ]
    }
   ],
   "source": [
    "for i in precision_4:\n",
    "    print(i)\n",
    "\n",
    "for i in precision_20:\n",
    "    print(i)\n",
    "\n",
    "for i in precision_50:\n",
    "    print(i)\n",
    "\n",
    "for i in recall_4:\n",
    "    print(i)\n",
    "\n",
    "for i in recall_20:\n",
    "    print(i)\n",
    "\n",
    "for i in recall_50:\n",
    "    print(i)"
   ]
  },
  {
   "cell_type": "code",
   "execution_count": 10,
   "metadata": {},
   "outputs": [],
   "source": [
    "def dcg_at_k(r, k, method=0):\n",
    "    r = np.asfarray(r)[:k]\n",
    "    for i in range(len(r)):\n",
    "        r[i] = 2**r[i] -1\n",
    "    \n",
    "    if r.size:\n",
    "        if method == 0:\n",
    "            return r[0] + np.sum(r[1:] / np.log2(np.arange(2, r.size + 1)))\n",
    "        elif method == 1:\n",
    "            return np.sum(r / np.log2(np.arange(2, r.size + 2)))\n",
    "        else:\n",
    "            raise ValueError('method must be 0 or 1.')\n",
    "    return 0.\n",
    "\n",
    "\n",
    "def ndcg_at_k(r, r_max, k, method=0):\n",
    "    dcg_max = dcg_at_k(r_max, k, method)\n",
    "    if not dcg_max:\n",
    "        return 0.\n",
    "    return dcg_at_k(r, k, method) / dcg_max"
   ]
  },
  {
   "cell_type": "code",
   "execution_count": 11,
   "metadata": {},
   "outputs": [],
   "source": [
    "nDCG_4 = []\n",
    "nDCG_20 = []\n",
    "nDCG_50 = []"
   ]
  },
  {
   "cell_type": "code",
   "execution_count": 12,
   "metadata": {},
   "outputs": [
    {
     "data": {
      "application/vnd.jupyter.widget-view+json": {
       "model_id": "08e7db5d99a64f3787aa3d98a571a2b5",
       "version_major": 2,
       "version_minor": 0
      },
      "text/plain": [
       "HBox(children=(HTML(value=''), FloatProgress(value=0.0, max=7.0), HTML(value='')))"
      ]
     },
     "metadata": {},
     "output_type": "display_data"
    },
    {
     "name": "stdout",
     "output_type": "stream",
     "text": [
      "\n"
     ]
    },
    {
     "data": {
      "application/vnd.jupyter.widget-view+json": {
       "model_id": "887813a4625c4fd6b13bfc9ef4dc9202",
       "version_major": 2,
       "version_minor": 0
      },
      "text/plain": [
       "HBox(children=(HTML(value=''), FloatProgress(value=0.0, max=3.0), HTML(value='')))"
      ]
     },
     "metadata": {},
     "output_type": "display_data"
    },
    {
     "name": "stdout",
     "output_type": "stream",
     "text": [
      "\n"
     ]
    }
   ],
   "source": [
    "# Precision and Recall\n",
    "top_n_size = 50\n",
    "top_n_lists_g = []\n",
    "for groups in tqdm(groups_n):\n",
    "\n",
    "    group_size = len(groups[0])\n",
    "    top_n_lists = []\n",
    "\n",
    "    for group in groups:\n",
    "        rating_table = pd.DataFrame() \n",
    "        for member in group:\n",
    "            prediction = predictions[predictions['uid'] == member].copy()\n",
    "            if len(rating_table) == 0:\n",
    "                rating_table = prediction\n",
    "            else:\n",
    "                rating_table = rating_table.set_index('tid').add(prediction.set_index('tid'), fill_value=0).reset_index()\n",
    "        rating_table['rating'] /= group_size \n",
    "\n",
    "        rating_table = rating_table.sort_values(by=['rating'],  ascending=False)\n",
    "        rating_table = rating_table[:top_n_size]\n",
    "        top_n_list = []\n",
    "        for _, row in rating_table.iterrows():\n",
    "            top_n_list.append(row[0])\n",
    "        top_n_lists.append(top_n_list)\n",
    "    top_n_lists_g.append(top_n_lists)   \n",
    "\n",
    "threshold = 0.0\n",
    "for top_n_size in tqdm([50, 20, 4]):\n",
    "    avg_nDCGs = []\n",
    "    for i in range(len(groups_n)):\n",
    "        groups = groups_n[i]\n",
    "        top_n_lists = top_n_lists_g[i]\n",
    "\n",
    "        nDCGs = []\n",
    "        for j in (range(len(groups))):\n",
    "\n",
    "            group = groups[j]\n",
    "            top_n_list = top_n_lists[j][:top_n_size]\n",
    "            \n",
    "            \n",
    "            for k in range(len(group)):\n",
    "                truth_rating = []\n",
    "                uid = group[k]\n",
    "                for l in range(top_n_size):\n",
    "                    tid = top_n_list[l]\n",
    "                    t = test[test['uid'] == uid]\n",
    "                    t = t[t['tid'] == tid]\n",
    "                    \n",
    "                    if len(t) > 0:\n",
    "                        truth_rating.append(t.iloc[0]['rating'])\n",
    "                    else:\n",
    "                        truth_rating.append(0)\n",
    "                max_rating = test[test['uid']==uid].sort_values(by=['rating'],  ascending=False)['rating'].values[:top_n_size]\n",
    "                nDCG = ndcg_at_k(truth_rating, max_rating, top_n_size, method=1)\n",
    "                nDCGs.append(nDCG)                \n",
    "        avg_nDCG = 0\n",
    "        for nDCG in nDCGs:\n",
    "            avg_nDCG += nDCG\n",
    "        avg_nDCG /= len(nDCGs)\n",
    "        avg_nDCGs.append(avg_nDCG)\n",
    "        \n",
    "    if top_n_size == 4:\n",
    "        nDCG_4.append(avg_nDCGs)\n",
    "    elif top_n_size == 20:\n",
    "        nDCG_20.append(avg_nDCGs)\n",
    "    elif top_n_size == 50:\n",
    "        nDCG_50.append(avg_nDCGs)"
   ]
  },
  {
   "cell_type": "code",
   "execution_count": 13,
   "metadata": {},
   "outputs": [
    {
     "name": "stdout",
     "output_type": "stream",
     "text": [
      "[0.12891156959142935, 0.08938114651504163, 0.062109764239084556, 0.05251061771688512, 0.03317087661739261, 0.03455340704791771, 0.03586328289191286]\n",
      "[0.09264298413621495, 0.0651998898833028, 0.04840289596933937, 0.03967122757362344, 0.030390245936744862, 0.027226798823425394, 0.02576132300444219]\n",
      "[0.07591816382819747, 0.0543335626119103, 0.04184892003929762, 0.035255525104092605, 0.026389404799875213, 0.024622294235847404, 0.021847746278219674]\n"
     ]
    }
   ],
   "source": [
    "for i in nDCG_4:\n",
    "    print(i)\n",
    "\n",
    "for i in nDCG_20:\n",
    "    print(i)\n",
    "\n",
    "for i in nDCG_50:\n",
    "    print(i)"
   ]
  },
  {
   "cell_type": "code",
   "execution_count": null,
   "metadata": {},
   "outputs": [],
   "source": []
  },
  {
   "cell_type": "code",
   "execution_count": null,
   "metadata": {},
   "outputs": [],
   "source": []
  }
 ],
 "metadata": {
  "kernelspec": {
   "display_name": "Python 3",
   "language": "python",
   "name": "python3"
  },
  "language_info": {
   "codemirror_mode": {
    "name": "ipython",
    "version": 3
   },
   "file_extension": ".py",
   "mimetype": "text/x-python",
   "name": "python",
   "nbconvert_exporter": "python",
   "pygments_lexer": "ipython3",
   "version": "3.6.12"
  }
 },
 "nbformat": 4,
 "nbformat_minor": 4
}
