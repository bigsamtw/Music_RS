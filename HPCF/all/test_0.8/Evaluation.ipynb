{
 "cells": [
  {
   "cell_type": "code",
   "execution_count": 1,
   "metadata": {},
   "outputs": [],
   "source": [
    "import os \n",
    "import math\n",
    "import random\n",
    "import numpy as np\n",
    "import pandas as pd\n",
    "from tqdm.notebook import tqdm\n",
    "from numpy import count_nonzero\n",
    "from statistics import mean\n",
    "\n",
    "dir_ = './data/'"
   ]
  },
  {
   "cell_type": "code",
   "execution_count": 2,
   "metadata": {},
   "outputs": [
    {
     "data": {
      "text/plain": [
       "953"
      ]
     },
     "execution_count": 2,
     "metadata": {},
     "output_type": "execute_result"
    }
   ],
   "source": [
    "file_name = 'normalized_minmax_filter_track_5_user_100.csv'\n",
    "pred_m = pd.read_pickle(os.path.join(dir_, 'prediction_svd_top_N_' + file_name[:-3] + 'pkl'))\n",
    "test_m = pd.read_pickle(os.path.join(dir_, 'test_' + file_name[:-3] + 'pkl'))\n",
    "\n",
    "file_name = 'normalized_log_filter_track_5_user_100.csv'\n",
    "pred_log = pd.read_pickle(os.path.join(dir_, 'prediction_svd_top_N_' + file_name[:-3] + 'pkl'))\n",
    "test_log = pd.read_pickle(os.path.join(dir_, 'test_' + file_name[:-3] + 'pkl'))\n",
    "\n",
    "file_name = 'normalized_to_rating_filter_track_5_user_100.csv'\n",
    "all_user = pd.read_pickle(os.path.join(dir_, file_name[:-3] + 'pkl'))\n",
    "pred_l = pd.read_pickle(os.path.join(dir_, 'prediction_svd_top_N_' + file_name[:-3] + 'pkl'))\n",
    "test_l = pd.read_pickle(os.path.join(dir_, 'test_' + file_name[:-3] + 'pkl'))\n",
    "\n",
    "num_user = len(pred_m['uid'].unique())\n",
    "num_user"
   ]
  },
  {
   "cell_type": "code",
   "execution_count": 3,
   "metadata": {},
   "outputs": [],
   "source": [
    "pop_dict = {}\n",
    "for i in all_user['tid'].unique():\n",
    "    pop_dict[i] = len(all_user[all_user['tid']==i])/num_user"
   ]
  },
  {
   "cell_type": "code",
   "execution_count": 4,
   "metadata": {},
   "outputs": [],
   "source": [
    "def dcg_at_k(r, k, method=0):\n",
    "    r = np.asfarray(r)[:k]\n",
    "    for i in range(len(r)):\n",
    "        r[i] = 2**r[i] -1\n",
    "    \n",
    "    if r.size:\n",
    "        if method == 0:\n",
    "            return r[0] + np.sum(r[1:] / np.log2(np.arange(2, r.size + 1)))\n",
    "        elif method == 1:\n",
    "            return np.sum(r / np.log2(np.arange(2, r.size + 2)))\n",
    "        else:\n",
    "            raise ValueError('method must be 0 or 1.')\n",
    "    return 0.\n",
    "\n",
    "\n",
    "def ndcg_at_k(r, r_max, k, method=0):\n",
    "    dcg_max = dcg_at_k(r_max, k, method)\n",
    "    if not dcg_max:\n",
    "        return 0.\n",
    "    return dcg_at_k(r, k, method) / dcg_max"
   ]
  },
  {
   "cell_type": "code",
   "execution_count": 5,
   "metadata": {},
   "outputs": [
    {
     "data": {
      "application/vnd.jupyter.widget-view+json": {
       "model_id": "ab560aa535214407ae9d94b6f18d95ce",
       "version_major": 2,
       "version_minor": 0
      },
      "text/plain": [
       "HBox(children=(HTML(value=''), FloatProgress(value=0.0, max=953.0), HTML(value='')))"
      ]
     },
     "metadata": {},
     "output_type": "display_data"
    },
    {
     "name": "stdout",
     "output_type": "stream",
     "text": [
      "\n"
     ]
    }
   ],
   "source": [
    "# Personal Recommendation\n",
    "n=50\n",
    "top_n_lists_m = []\n",
    "top_n_lists_l = []\n",
    "top_n_lists_log = []\n",
    "\n",
    "for i in tqdm(range(num_user)):\n",
    "    pred = pred_m[pred_m['uid'] == i]\n",
    "    pred = pred.sort_values(by=['rating'],  ascending=False)\n",
    "    pred = pred[:n]\n",
    "    top_n_list_m = []\n",
    "    for _, row in pred.iterrows():\n",
    "        top_n_list_m.append(row[1])\n",
    "    top_n_lists_m.append(top_n_list_m)\n",
    "    \n",
    "    pred = pred_l[pred_l['uid'] == i]\n",
    "    pred = pred.sort_values(by=['rating'],  ascending=False)\n",
    "    pred = pred[:n]\n",
    "    top_n_list_l = []\n",
    "    for _, row in pred.iterrows():\n",
    "        top_n_list_l.append(row[1])\n",
    "    top_n_lists_l.append(top_n_list_l)\n",
    "    \n",
    "    pred = pred_log[pred_log['uid'] == i]\n",
    "    pred = pred.sort_values(by=['rating'],  ascending=False)\n",
    "    pred = pred[:n]\n",
    "    top_n_list_log = []\n",
    "    for _, row in pred.iterrows():\n",
    "        top_n_list_log.append(row[1])\n",
    "    top_n_lists_log.append(top_n_list_log)"
   ]
  },
  {
   "cell_type": "code",
   "execution_count": 6,
   "metadata": {},
   "outputs": [
    {
     "data": {
      "application/vnd.jupyter.widget-view+json": {
       "model_id": "e8bdfb55458440bbad61fd638e70d6ef",
       "version_major": 2,
       "version_minor": 0
      },
      "text/plain": [
       "HBox(children=(HTML(value=''), FloatProgress(value=0.0, max=953.0), HTML(value='')))"
      ]
     },
     "metadata": {},
     "output_type": "display_data"
    },
    {
     "name": "stdout",
     "output_type": "stream",
     "text": [
      "\n",
      "presicion:  0.11945435466946484\n",
      "recall:  0.011246228196379228\n",
      "nDCG:  0.051742824298940955\n",
      "NOV 0.6576014992143878\n",
      "HitNOV 0.07228140218826283\n",
      "COV 0.0035159646372654174\n",
      "HitCOV 0.0021958912716495203\n"
     ]
    }
   ],
   "source": [
    "precision = []\n",
    "recall = []\n",
    "nDCG = []\n",
    "NOV = []\n",
    "HitNOV = []\n",
    "\n",
    "test = test_m\n",
    "covs = np.zeros(len(all_user['tid'].unique()), dtype=bool)\n",
    "hitCovs = np.zeros(len(all_user['tid'].unique()), dtype=bool)\n",
    "for i in tqdm(range(num_user)):\n",
    "    top_n_list = top_n_lists_m[i]\n",
    "    \n",
    "    hit = 0\n",
    "    nov = 0\n",
    "    hitnov = 0\n",
    "    truth_rating = []\n",
    "    for j in top_n_list:\n",
    "        t = test[test['uid'] == i]\n",
    "        t = t[t['tid']==j]\n",
    "        nov += (1-pop_dict[j])\n",
    "        covs[int(j)] = True\n",
    "        if len(t) > 0:\n",
    "            hit += 1\n",
    "            hitnov += (1-pop_dict[j])\n",
    "            truth_rating.append(t.iloc[0]['rating']) # For nDCG\n",
    "            hitCovs[int(j)] = True\n",
    "        else:\n",
    "            truth_rating.append(0) # For nDCG\n",
    "    max_rating = test[test['uid']==i].sort_values(by=['rating'],  ascending=False)['rating'].values[:n]\n",
    "\n",
    "    precision.append(hit/n)\n",
    "    recall.append(hit/len(test[test['uid'] == i]))\n",
    "    nDCG.append(ndcg_at_k(truth_rating, max_rating, n, method=1))\n",
    "    NOV.append(nov/n)\n",
    "    HitNOV.append(hitnov/n)\n",
    "\n",
    "print('presicion: ', mean(precision))\n",
    "print('recall: ', mean(recall))\n",
    "print('nDCG: ', mean(nDCG))\n",
    "print('NOV', mean(NOV))\n",
    "print('HitNOV', mean(HitNOV))\n",
    "print('COV', list(covs).count(True)/len(all_user['tid'].unique()))\n",
    "print('HitCOV', list(hitCovs).count(True)/len(all_user['tid'].unique()))"
   ]
  },
  {
   "cell_type": "code",
   "execution_count": 7,
   "metadata": {},
   "outputs": [
    {
     "data": {
      "application/vnd.jupyter.widget-view+json": {
       "model_id": "a20c7e5397d24e34905b363b315bf90d",
       "version_major": 2,
       "version_minor": 0
      },
      "text/plain": [
       "HBox(children=(HTML(value=''), FloatProgress(value=0.0, max=953.0), HTML(value='')))"
      ]
     },
     "metadata": {},
     "output_type": "display_data"
    },
    {
     "name": "stdout",
     "output_type": "stream",
     "text": [
      "\n",
      "presicion:  0.12329485834207765\n",
      "recall:  0.010897588589790062\n",
      "nDCG:  0.06855756490576671\n",
      "NOV 0.6621893859232841\n",
      "HitNOV 0.07534532249735468\n",
      "COV 0.010789061161283772\n",
      "HitCOV 0.003154213763034138\n"
     ]
    }
   ],
   "source": [
    "precision = []\n",
    "recall = []\n",
    "nDCG = []\n",
    "NOV = []\n",
    "HitNOV = []\n",
    "\n",
    "test = test_l\n",
    "covs = np.zeros(len(all_user['tid'].unique()), dtype=bool)\n",
    "hitCovs = np.zeros(len(all_user['tid'].unique()), dtype=bool)\n",
    "for i in tqdm(range(num_user)):\n",
    "    top_n_list = top_n_lists_l[i]\n",
    "    \n",
    "    hit = 0\n",
    "    nov = 0\n",
    "    hitnov = 0\n",
    "    truth_rating = []\n",
    "    for j in top_n_list:\n",
    "        t = test[test['uid'] == i]\n",
    "        t = t[t['tid']==j]\n",
    "        nov += (1-pop_dict[j])\n",
    "        covs[int(j)] = True\n",
    "        if len(t) > 0:\n",
    "            hit += 1\n",
    "            hitnov += (1-pop_dict[j])\n",
    "            truth_rating.append(t.iloc[0]['rating']) # For nDCG\n",
    "            hitCovs[int(j)] = True\n",
    "        else:\n",
    "            truth_rating.append(0) # For nDCG\n",
    "    max_rating = test[test['uid']==i].sort_values(by=['rating'],  ascending=False)['rating'].values[:n]\n",
    "\n",
    "    precision.append(hit/n)\n",
    "    recall.append(hit/len(test[test['uid'] == i]))\n",
    "    nDCG.append(ndcg_at_k(truth_rating, max_rating, n, method=1))\n",
    "    NOV.append(nov/n)\n",
    "    HitNOV.append(hitnov/n)\n",
    "\n",
    "print('presicion: ', mean(precision))\n",
    "print('recall: ', mean(recall))\n",
    "print('nDCG: ', mean(nDCG))\n",
    "print('NOV', mean(NOV))\n",
    "print('HitNOV', mean(HitNOV))\n",
    "print('COV', list(covs).count(True)/len(all_user['tid'].unique()))\n",
    "print('HitCOV', list(hitCovs).count(True)/len(all_user['tid'].unique()))"
   ]
  },
  {
   "cell_type": "code",
   "execution_count": 8,
   "metadata": {},
   "outputs": [
    {
     "data": {
      "application/vnd.jupyter.widget-view+json": {
       "model_id": "cbf04394300f47d98688fdf0dbb7e873",
       "version_major": 2,
       "version_minor": 0
      },
      "text/plain": [
       "HBox(children=(HTML(value=''), FloatProgress(value=0.0, max=953.0), HTML(value='')))"
      ]
     },
     "metadata": {},
     "output_type": "display_data"
    },
    {
     "name": "stdout",
     "output_type": "stream",
     "text": [
      "\n",
      "presicion:  0.13173137460650577\n",
      "recall:  0.011694271020231593\n",
      "nDCG:  0.08633387587885927\n",
      "NOV 0.6494413510546581\n",
      "HitNOV 0.07937060742626421\n",
      "COV 0.0045694847271319505\n",
      "HitCOV 0.0023291679095242025\n"
     ]
    }
   ],
   "source": [
    "precision = []\n",
    "recall = []\n",
    "nDCG = []\n",
    "NOV = []\n",
    "HitNOV = []\n",
    "\n",
    "test = test_log\n",
    "covs = np.zeros(len(all_user['tid'].unique()), dtype=bool)\n",
    "hitCovs = np.zeros(len(all_user['tid'].unique()), dtype=bool)\n",
    "for i in tqdm(range(num_user)):\n",
    "    top_n_list = top_n_lists_log[i]\n",
    "    \n",
    "    hit = 0\n",
    "    nov = 0\n",
    "    hitnov = 0\n",
    "    truth_rating = []\n",
    "    for j in top_n_list:\n",
    "        t = test[test['uid'] == i]\n",
    "        t = t[t['tid']==j]\n",
    "        nov += (1-pop_dict[j])\n",
    "        covs[int(j)] = True\n",
    "        if len(t) > 0:\n",
    "            hit += 1\n",
    "            hitnov += (1-pop_dict[j])\n",
    "            truth_rating.append(t.iloc[0]['rating']) # For nDCG\n",
    "            hitCovs[int(j)] = True\n",
    "        else:\n",
    "            truth_rating.append(0) # For nDCG\n",
    "    max_rating = test[test['uid']==i].sort_values(by=['rating'],  ascending=False)['rating'].values[:n]\n",
    "\n",
    "    precision.append(hit/n)\n",
    "    recall.append(hit/len(test[test['uid'] == i]))\n",
    "    nDCG.append(ndcg_at_k(truth_rating, max_rating, n, method=1))\n",
    "    NOV.append(nov/n)\n",
    "    HitNOV.append(hitnov/n)\n",
    "\n",
    "print('presicion: ', mean(precision))\n",
    "print('recall: ', mean(recall))\n",
    "print('nDCG: ', mean(nDCG))\n",
    "print('NOV', mean(NOV))\n",
    "print('HitNOV', mean(HitNOV))\n",
    "print('COV', list(covs).count(True)/len(all_user['tid'].unique()))\n",
    "print('HitCOV', list(hitCovs).count(True)/len(all_user['tid'].unique()))"
   ]
  },
  {
   "cell_type": "code",
   "execution_count": null,
   "metadata": {},
   "outputs": [],
   "source": []
  },
  {
   "cell_type": "code",
   "execution_count": 9,
   "metadata": {},
   "outputs": [],
   "source": [
    "n=50\n",
    "file_name = 'normalized_popularity_filter_track_5_user_100.csv'\n",
    "pop_count = pd.read_pickle(os.path.join(dir_, file_name[:-3] + 'pkl'))"
   ]
  },
  {
   "cell_type": "code",
   "execution_count": 10,
   "metadata": {},
   "outputs": [],
   "source": [
    "pop_c = pop_count.sort_values(by=['count'], ascending= False)[:n]"
   ]
  },
  {
   "cell_type": "code",
   "execution_count": 11,
   "metadata": {},
   "outputs": [],
   "source": [
    "all_user['c'] = 1\n",
    "pop_u = all_user.groupby([\"tid\"]).sum().reset_index()\n",
    "pop_u = pop_u[['tid', 'count', 'c']]"
   ]
  },
  {
   "cell_type": "code",
   "execution_count": 12,
   "metadata": {},
   "outputs": [],
   "source": [
    "pop_u = pop_u.sort_values(by=['c'], ascending= False)[:n]"
   ]
  },
  {
   "cell_type": "code",
   "execution_count": 13,
   "metadata": {},
   "outputs": [
    {
     "data": {
      "text/plain": [
       "array([   70,  1102,    83, 13496,   952,  2519,  4008,  5521,  3900,\n",
       "        2241,   390,   210,  4374,  2917,  3852,  1628,  5716,  7031,\n",
       "        1464,  1987,  6352, 15008,  1036,  3006,  3849,  1559,  1056,\n",
       "        3735,  9638,   618,  4323,  1109,  1930,  3835,  4302,  4295,\n",
       "        2947,  4322,  5917,  1806,  6509, 15058,  5389,  1335, 16244,\n",
       "        8910,  5236, 11710,   810,  5268])"
      ]
     },
     "execution_count": 13,
     "metadata": {},
     "output_type": "execute_result"
    }
   ],
   "source": [
    "pop_c_list = pop_c['tid'].values\n",
    "pop_c_list"
   ]
  },
  {
   "cell_type": "code",
   "execution_count": 14,
   "metadata": {},
   "outputs": [
    {
     "data": {
      "text/plain": [
       "array([   70,  5521,   390,  2519,    83, 13496,   210,  5716,  1036,\n",
       "        1464,  3006,  2917,   952,  3900,  1987,  4302,  1335,  1102,\n",
       "        5389,  3735,  6509,  6831,  5494,  4295, 11710,  6352,  5236,\n",
       "        1628,   618,  1559, 15008,  8865,  3370,  4013,   713,  4374,\n",
       "       16244,  5268,  4664,  3852,   810,  1056,  5590,  4322,  3822,\n",
       "        7031,  2261,  2499,  6891,  8910])"
      ]
     },
     "execution_count": 14,
     "metadata": {},
     "output_type": "execute_result"
    }
   ],
   "source": [
    "pop_u_list = pop_u['tid'].values\n",
    "pop_u_list"
   ]
  },
  {
   "cell_type": "code",
   "execution_count": 15,
   "metadata": {},
   "outputs": [
    {
     "data": {
      "application/vnd.jupyter.widget-view+json": {
       "model_id": "92e80a94b5554d46ba66bd0376286ce9",
       "version_major": 2,
       "version_minor": 0
      },
      "text/plain": [
       "HBox(children=(HTML(value=''), FloatProgress(value=0.0, max=953.0), HTML(value='')))"
      ]
     },
     "metadata": {},
     "output_type": "display_data"
    },
    {
     "name": "stdout",
     "output_type": "stream",
     "text": [
      "\n",
      "presicion:  0.09299055613850997\n",
      "recall:  0.010154892617322915\n",
      "nDCG:  0.058183338314470257\n",
      "NOV 0.5490661070304304\n",
      "HitNOV 0.04930184572053349\n",
      "COV 0.0003173253282730521\n",
      "HitCOV 0.0003173253282730521\n"
     ]
    }
   ],
   "source": [
    "\n",
    "precision = []\n",
    "recall = []\n",
    "nDCG = []\n",
    "NOV = []\n",
    "HitNOV = []\n",
    "\n",
    "test = test_log\n",
    "covs = np.zeros(len(all_user['tid'].unique()), dtype=bool)\n",
    "hitCovs = np.zeros(len(all_user['tid'].unique()), dtype=bool)\n",
    "for i in tqdm(range(num_user)):\n",
    "    \n",
    "    hit = 0\n",
    "    nov = 0\n",
    "    hitnov = 0\n",
    "    truth_rating = []\n",
    "    for j in pop_c_list:\n",
    "        t = test[test['uid'] == i]\n",
    "        t = t[t['tid']==j]\n",
    "        nov += (1-pop_dict[j])\n",
    "        covs[int(j)] = True\n",
    "        if len(t) > 0:\n",
    "            hit += 1\n",
    "            hitnov += (1-pop_dict[j])\n",
    "            truth_rating.append(t.iloc[0]['rating']) # For nDCG\n",
    "            hitCovs[int(j)] = True\n",
    "        else:\n",
    "            truth_rating.append(0) # For nDCG\n",
    "    max_rating = test[test['uid']==i].sort_values(by=['rating'],  ascending=False)['rating'].values[:n]\n",
    "\n",
    "    precision.append(hit/n)\n",
    "    recall.append(hit/len(test[test['uid'] == i]))\n",
    "    nDCG.append(ndcg_at_k(truth_rating, max_rating, n, method=1))\n",
    "    NOV.append(nov/n)\n",
    "    HitNOV.append(hitnov/n)\n",
    "\n",
    "print('presicion: ', mean(precision))\n",
    "print('recall: ', mean(recall))\n",
    "print('nDCG: ', mean(nDCG))\n",
    "print('NOV', mean(NOV))\n",
    "print('HitNOV', mean(HitNOV))\n",
    "print('COV', list(covs).count(True)/len(all_user['tid'].unique()))\n",
    "print('HitCOV', list(hitCovs).count(True)/len(all_user['tid'].unique()))"
   ]
  },
  {
   "cell_type": "code",
   "execution_count": 16,
   "metadata": {},
   "outputs": [
    {
     "data": {
      "application/vnd.jupyter.widget-view+json": {
       "model_id": "b19e3cc0a6264ac6a904b7417d7d111b",
       "version_major": 2,
       "version_minor": 0
      },
      "text/plain": [
       "HBox(children=(HTML(value=''), FloatProgress(value=0.0, max=953.0), HTML(value='')))"
      ]
     },
     "metadata": {},
     "output_type": "display_data"
    },
    {
     "name": "stdout",
     "output_type": "stream",
     "text": [
      "\n",
      "presicion:  0.09607555089192026\n",
      "recall:  0.01039920363489501\n",
      "nDCG:  0.0589089453429223\n",
      "NOV 0.5304512067156346\n",
      "HitNOV 0.049817233698410825\n",
      "COV 0.0003173253282730521\n",
      "HitCOV 0.0003173253282730521\n"
     ]
    }
   ],
   "source": [
    "precision = []\n",
    "recall = []\n",
    "nDCG = []\n",
    "NOV = []\n",
    "HitNOV = []\n",
    "\n",
    "test = test_log\n",
    "covs = np.zeros(len(all_user['tid'].unique()), dtype=bool)\n",
    "hitCovs = np.zeros(len(all_user['tid'].unique()), dtype=bool)\n",
    "for i in tqdm(range(num_user)):\n",
    "    \n",
    "    hit = 0\n",
    "    nov = 0\n",
    "    hitnov = 0\n",
    "    truth_rating = []\n",
    "    for j in pop_u_list:\n",
    "\n",
    "        t = test[test['uid'] == i]\n",
    "        t = t[t['tid']==j]\n",
    "        nov += (1-pop_dict[j])\n",
    "        covs[int(j)] = True\n",
    "        if len(t) > 0:\n",
    "            hit += 1\n",
    "            hitnov += (1-pop_dict[j])\n",
    "            truth_rating.append(t.iloc[0]['rating']) # For nDCG\n",
    "            hitCovs[int(j)] = True\n",
    "        else:\n",
    "            truth_rating.append(0) # For nDCG\n",
    "    max_rating = test[test['uid']==i].sort_values(by=['rating'],  ascending=False)['rating'].values[:n]\n",
    "\n",
    "    precision.append(hit/n)\n",
    "    recall.append(hit/len(test[test['uid'] == i]))\n",
    "    nDCG.append(ndcg_at_k(truth_rating, max_rating, n, method=1))\n",
    "    NOV.append(nov/n)\n",
    "    HitNOV.append(hitnov/n)\n",
    "\n",
    "print('presicion: ', mean(precision))\n",
    "print('recall: ', mean(recall))\n",
    "print('nDCG: ', mean(nDCG))\n",
    "print('NOV', mean(NOV))\n",
    "print('HitNOV', mean(HitNOV))\n",
    "print('COV', list(covs).count(True)/len(all_user['tid'].unique()))\n",
    "print('HitCOV', list(hitCovs).count(True)/len(all_user['tid'].unique()))"
   ]
  },
  {
   "cell_type": "code",
   "execution_count": null,
   "metadata": {},
   "outputs": [],
   "source": []
  }
 ],
 "metadata": {
  "kernelspec": {
   "display_name": "Python 3",
   "language": "python",
   "name": "python3"
  },
  "language_info": {
   "codemirror_mode": {
    "name": "ipython",
    "version": 3
   },
   "file_extension": ".py",
   "mimetype": "text/x-python",
   "name": "python",
   "nbconvert_exporter": "python",
   "pygments_lexer": "ipython3",
   "version": "3.6.12"
  }
 },
 "nbformat": 4,
 "nbformat_minor": 4
}
