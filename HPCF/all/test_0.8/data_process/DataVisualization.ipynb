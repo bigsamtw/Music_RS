{
 "cells": [
  {
   "cell_type": "code",
   "execution_count": 3,
   "metadata": {},
   "outputs": [],
   "source": [
    "import os\n",
    "import pandas as pd\n",
    "import numpy as np\n",
    "from pandas import Series, DataFrame\n",
    "from tqdm.notebook import tqdm\n",
    "import matplotlib.pyplot as plt\n",
    "from matplotlib.ticker import MaxNLocator"
   ]
  },
  {
   "cell_type": "code",
   "execution_count": 4,
   "metadata": {},
   "outputs": [],
   "source": [
    "lh = pd.read_pickle('../data/counting.pkl')"
   ]
  },
  {
   "cell_type": "code",
   "execution_count": 5,
   "metadata": {},
   "outputs": [
    {
     "data": {
      "text/plain": [
       "1017"
      ]
     },
     "execution_count": 5,
     "metadata": {},
     "output_type": "execute_result"
    }
   ],
   "source": [
    "len(lh['uid'].unique())"
   ]
  },
  {
   "cell_type": "code",
   "execution_count": 6,
   "metadata": {},
   "outputs": [],
   "source": [
    "################################\n",
    "#                              #\n",
    "#       Listening counts       #\n",
    "#                              #\n",
    "################################"
   ]
  },
  {
   "cell_type": "code",
   "execution_count": 7,
   "metadata": {},
   "outputs": [
    {
     "data": {
      "image/png": "[encoded data removed]",
      "text/plain": [
       "<Figure size 432x288 with 1 Axes>"
      ]
     },
     "metadata": {
      "needs_background": "light"
     },
     "output_type": "display_data"
    }
   ],
   "source": [
    "lh_list = lh['count'].values.tolist()\n",
    "plt.rcParams.update({'font.size': 14})\n",
    "bins = [i for i in range(0,lh['count'].max()+1,10)]\n",
    "plt.hist(lh_list, bins=bins)\n",
    "plt.xlabel('Number of listen counts')\n",
    "plt.ylabel('Number of records')\n",
    "plt.yscale('log')\n",
    "plt.savefig('./dv_all.png', dpi=600)\n",
    "plt.show()"
   ]
  },
  {
   "cell_type": "code",
   "execution_count": 4,
   "metadata": {},
   "outputs": [
    {
     "data": {
      "text/html": [
       "<div>\n",
       "<style scoped>\n",
       "    .dataframe tbody tr th:only-of-type {\n",
       "        vertical-align: middle;\n",
       "    }\n",
       "\n",
       "    .dataframe tbody tr th {\n",
       "        vertical-align: top;\n",
       "    }\n",
       "\n",
       "    .dataframe thead th {\n",
       "        text-align: right;\n",
       "    }\n",
       "</style>\n",
       "<table border=\"1\" class=\"dataframe\">\n",
       "  <thead>\n",
       "    <tr style=\"text-align: right;\">\n",
       "      <th></th>\n",
       "      <th>uid</th>\n",
       "      <th>tid</th>\n",
       "      <th>count</th>\n",
       "    </tr>\n",
       "  </thead>\n",
       "  <tbody>\n",
       "    <tr>\n",
       "      <th>32932</th>\n",
       "      <td>7</td>\n",
       "      <td>29456</td>\n",
       "      <td>2059</td>\n",
       "    </tr>\n",
       "    <tr>\n",
       "      <th>32929</th>\n",
       "      <td>7</td>\n",
       "      <td>29453</td>\n",
       "      <td>2059</td>\n",
       "    </tr>\n",
       "    <tr>\n",
       "      <th>32933</th>\n",
       "      <td>7</td>\n",
       "      <td>29457</td>\n",
       "      <td>2065</td>\n",
       "    </tr>\n",
       "    <tr>\n",
       "      <th>32761</th>\n",
       "      <td>7</td>\n",
       "      <td>29285</td>\n",
       "      <td>2069</td>\n",
       "    </tr>\n",
       "    <tr>\n",
       "      <th>32931</th>\n",
       "      <td>7</td>\n",
       "      <td>29455</td>\n",
       "      <td>2119</td>\n",
       "    </tr>\n",
       "  </tbody>\n",
       "</table>\n",
       "</div>"
      ],
      "text/plain": [
       "       uid    tid  count\n",
       "32932    7  29456   2059\n",
       "32929    7  29453   2059\n",
       "32933    7  29457   2065\n",
       "32761    7  29285   2069\n",
       "32931    7  29455   2119"
      ]
     },
     "execution_count": 4,
     "metadata": {},
     "output_type": "execute_result"
    }
   ],
   "source": [
    "lh_u_max = lh[lh['uid']==7]\n",
    "lh_u_max = lh_u_max.sort_values(by='count', ascending='True')\n",
    "lh_u_max[-5:]"
   ]
  },
  {
   "cell_type": "code",
   "execution_count": 5,
   "metadata": {},
   "outputs": [
    {
     "data": {
      "image/png": "[encoded data removed]",
      "text/plain": [
       "<Figure size 432x288 with 1 Axes>"
      ]
     },
     "metadata": {
      "needs_background": "light"
     },
     "output_type": "display_data"
    }
   ],
   "source": [
    "lh_list = lh_u_max['count'].values.tolist()\n",
    "plt.rcParams.update({'font.size': 14})\n",
    "bins = [i for i in range(0,lh_u_max['count'].max()+1,10)]\n",
    "n, bins, patches = plt.hist(lh_list, bins=bins)\n",
    "plt.xlabel('Number of listen counts')\n",
    "plt.ylabel('Number of records')\n",
    "plt.yscale('log')\n",
    "plt.savefig('./dv_max_user.png', dpi=600)\n",
    "plt.show()"
   ]
  },
  {
   "cell_type": "code",
   "execution_count": 7,
   "metadata": {},
   "outputs": [],
   "source": [
    "#################################\n",
    "#                               #\n",
    "#       Popularity-bias         #\n",
    "#                               #\n",
    "#################################"
   ]
  },
  {
   "cell_type": "code",
   "execution_count": 8,
   "metadata": {},
   "outputs": [
    {
     "data": {
      "text/plain": [
       "3079638"
      ]
     },
     "execution_count": 8,
     "metadata": {},
     "output_type": "execute_result"
    }
   ],
   "source": [
    "dir_ = '../data/'\n",
    "file_name = 'normalized_to_rating_filter_track_5_user_100.csv'\n",
    "linear = pd.read_pickle(os.path.join(dir_, file_name[:-3] + 'pkl'))\n",
    "len(linear)"
   ]
  },
  {
   "cell_type": "code",
   "execution_count": 9,
   "metadata": {},
   "outputs": [
    {
     "data": {
      "text/plain": [
       "157567"
      ]
     },
     "execution_count": 9,
     "metadata": {},
     "output_type": "execute_result"
    }
   ],
   "source": [
    "dir_ = '../data/'\n",
    "file_name = 'normalized_popularity_filter_track_5_user_100.csv'\n",
    "pop_count = pd.read_pickle(os.path.join(dir_, file_name[:-3] + 'pkl'))\n",
    "pop_count = pop_count.sort_values(by='count', ascending=False)\n",
    "len(pop_count)"
   ]
  },
  {
   "cell_type": "code",
   "execution_count": 10,
   "metadata": {},
   "outputs": [],
   "source": [
    "lh_pop = lh.groupby([\"tid\"]).sum().reset_index().sort_values(by='count', ascending=False)"
   ]
  },
  {
   "cell_type": "code",
   "execution_count": 13,
   "metadata": {},
   "outputs": [
    {
     "data": {
      "text/plain": [
       "(1083485, 1083485)"
      ]
     },
     "execution_count": 13,
     "metadata": {},
     "output_type": "execute_result"
    }
   ],
   "source": [
    "y = sorted(lh_pop['count'].tolist()[3:], reverse = True)\n",
    "x = [i for i in range(1,len(y)+1,1)]\n",
    "len(x), len(y)"
   ]
  },
  {
   "cell_type": "code",
   "execution_count": 14,
   "metadata": {},
   "outputs": [
    {
     "name": "stderr",
     "output_type": "stream",
     "text": [
      "/home/han/anaconda3/lib/python3.6/site-packages/ipykernel_launcher.py:7: UserWarning: Attempted to set non-positive left xlim on a log-scaled axis.\n",
      "Invalid limit will be ignored.\n",
      "  import sys\n"
     ]
    },
    {
     "data": {
      "image/png": "[encoded data removed]",
      "text/plain": [
       "<Figure size 829.44x622.08 with 1 Axes>"
      ]
     },
     "metadata": {
      "needs_background": "light"
     },
     "output_type": "display_data"
    }
   ],
   "source": [
    "fig_x=1.8\n",
    "#設定大小跟x軸兩端的值\n",
    "plt.rcParams.update({'font.size': 16})\n",
    "plt.figure(figsize = (6.4*fig_x, 4.8*fig_x))\n",
    "plt.xscale('log')\n",
    "# plt.yscale('log')\n",
    "plt.xlim(0, max(x))\n",
    "plt.ylim(0, max(y))\n",
    "plt.scatter(x, y, marker='.') \n",
    "\n",
    "# plt.gca().xaxis.get_major_ticks()[0].label1.set_visible(False)\n",
    "\n",
    "#視覺化標題跟xy軸名稱\n",
    "plt.xlabel('rank')\n",
    "plt.ylabel('listening frequency')\n",
    "# plt.savefig('./dv_pop_compare.png', dpi=600)\n",
    "#出圖\n",
    "plt.show()"
   ]
  },
  {
   "cell_type": "code",
   "execution_count": 133,
   "metadata": {},
   "outputs": [
    {
     "data": {
      "text/plain": [
       "216697"
      ]
     },
     "execution_count": 133,
     "metadata": {},
     "output_type": "execute_result"
    }
   ],
   "source": [
    "top_items = lh_pop[:int(len(lh_pop)/5)]\n",
    "len(top_items)"
   ]
  },
  {
   "cell_type": "code",
   "execution_count": 134,
   "metadata": {},
   "outputs": [
    {
     "data": {
      "text/html": [
       "<div>\n",
       "<style scoped>\n",
       "    .dataframe tbody tr th:only-of-type {\n",
       "        vertical-align: middle;\n",
       "    }\n",
       "\n",
       "    .dataframe tbody tr th {\n",
       "        vertical-align: top;\n",
       "    }\n",
       "\n",
       "    .dataframe thead th {\n",
       "        text-align: right;\n",
       "    }\n",
       "</style>\n",
       "<table border=\"1\" class=\"dataframe\">\n",
       "  <thead>\n",
       "    <tr style=\"text-align: right;\">\n",
       "      <th></th>\n",
       "      <th>tid</th>\n",
       "      <th>uid</th>\n",
       "      <th>count</th>\n",
       "    </tr>\n",
       "  </thead>\n",
       "  <tbody>\n",
       "    <tr>\n",
       "      <th>153</th>\n",
       "      <td>153</td>\n",
       "      <td>389472</td>\n",
       "      <td>17561</td>\n",
       "    </tr>\n",
       "    <tr>\n",
       "      <th>2287</th>\n",
       "      <td>2287</td>\n",
       "      <td>231211</td>\n",
       "      <td>6926</td>\n",
       "    </tr>\n",
       "    <tr>\n",
       "      <th>198</th>\n",
       "      <td>198</td>\n",
       "      <td>267455</td>\n",
       "      <td>6586</td>\n",
       "    </tr>\n",
       "    <tr>\n",
       "      <th>18382</th>\n",
       "      <td>18382</td>\n",
       "      <td>271927</td>\n",
       "      <td>6304</td>\n",
       "    </tr>\n",
       "    <tr>\n",
       "      <th>1976</th>\n",
       "      <td>1976</td>\n",
       "      <td>240431</td>\n",
       "      <td>6234</td>\n",
       "    </tr>\n",
       "  </tbody>\n",
       "</table>\n",
       "</div>"
      ],
      "text/plain": [
       "         tid     uid  count\n",
       "153      153  389472  17561\n",
       "2287    2287  231211   6926\n",
       "198      198  267455   6586\n",
       "18382  18382  271927   6304\n",
       "1976    1976  240431   6234"
      ]
     },
     "execution_count": 134,
     "metadata": {},
     "output_type": "execute_result"
    }
   ],
   "source": [
    "top_items[:5]"
   ]
  },
  {
   "cell_type": "code",
   "execution_count": 135,
   "metadata": {},
   "outputs": [
    {
     "data": {
      "text/plain": [
       "1864196"
      ]
     },
     "execution_count": 135,
     "metadata": {},
     "output_type": "execute_result"
    }
   ],
   "source": [
    "top_items = top_items['tid'].tolist()\n",
    "linear_top_items = linear[linear['tid'].isin(top_items)]\n",
    "len(linear_top_items)"
   ]
  },
  {
   "cell_type": "code",
   "execution_count": 136,
   "metadata": {},
   "outputs": [],
   "source": [
    "pop_ratio = []\n",
    "for u in linear['uid'].unique():\n",
    "    pop_ratio.append(len(linear_top_items[linear_top_items['uid']==u])/len(linear[linear['uid']==u]))"
   ]
  },
  {
   "cell_type": "code",
   "execution_count": 142,
   "metadata": {},
   "outputs": [
    {
     "data": {
      "text/plain": [
       "(953, 953)"
      ]
     },
     "execution_count": 142,
     "metadata": {},
     "output_type": "execute_result"
    }
   ],
   "source": [
    "# original data \n",
    "y = sorted(pop_ratio, reverse = False)\n",
    "x = [i for i in range(1,len(y)+1,1)]\n",
    "len(x), len(y)"
   ]
  },
  {
   "cell_type": "code",
   "execution_count": 144,
   "metadata": {},
   "outputs": [
    {
     "data": {
      "image/png": "[encoded data removed]",
      "text/plain": [
       "<Figure size 829.44x622.08 with 1 Axes>"
      ]
     },
     "metadata": {
      "needs_background": "light"
     },
     "output_type": "display_data"
    }
   ],
   "source": [
    "fig_x=1.8\n",
    "#設定大小跟x軸兩端的值\n",
    "plt.figure(figsize = (6.4*fig_x, 4.8*fig_x))\n",
    "plt.xlim(0, max(x))\n",
    "plt.ylim(0, max(y))\n",
    "plt.scatter(x, y, marker='.') \n",
    "\n",
    "# plt.gca().xaxis.get_major_ticks()[0].label1.set_visible(False)\n",
    "\n",
    "#視覺化標題跟xy軸名稱\n",
    "plt.xlabel('User')\n",
    "plt.ylabel('Ratio of popular tracks')\n",
    "\n",
    "# plt.savefig('./dv_pop_compare.png', dpi=600)\n",
    "#出圖\n",
    "plt.show()"
   ]
  },
  {
   "cell_type": "code",
   "execution_count": null,
   "metadata": {},
   "outputs": [],
   "source": [
    "# original data \n",
    "y = sorted(pop_ratio, reverse = True)\n",
    "x = [i for i in range(1,len(y)+1,1)]\n",
    "len(x), len(y)"
   ]
  },
  {
   "cell_type": "code",
   "execution_count": null,
   "metadata": {},
   "outputs": [],
   "source": [
    "#################################\n",
    "#                               #\n",
    "#     Rating Normalization      #\n",
    "#                               #\n",
    "#################################"
   ]
  },
  {
   "cell_type": "code",
   "execution_count": 21,
   "metadata": {},
   "outputs": [
    {
     "data": {
      "text/html": [
       "<div>\n",
       "<style scoped>\n",
       "    .dataframe tbody tr th:only-of-type {\n",
       "        vertical-align: middle;\n",
       "    }\n",
       "\n",
       "    .dataframe tbody tr th {\n",
       "        vertical-align: top;\n",
       "    }\n",
       "\n",
       "    .dataframe thead th {\n",
       "        text-align: right;\n",
       "    }\n",
       "</style>\n",
       "<table border=\"1\" class=\"dataframe\">\n",
       "  <thead>\n",
       "    <tr style=\"text-align: right;\">\n",
       "      <th></th>\n",
       "      <th>uid</th>\n",
       "      <th>tid</th>\n",
       "      <th>rating</th>\n",
       "      <th>minmax</th>\n",
       "      <th>count</th>\n",
       "    </tr>\n",
       "  </thead>\n",
       "  <tbody>\n",
       "    <tr>\n",
       "      <th>10</th>\n",
       "      <td>0</td>\n",
       "      <td>0</td>\n",
       "      <td>5.00</td>\n",
       "      <td>1.928571</td>\n",
       "      <td>27</td>\n",
       "    </tr>\n",
       "    <tr>\n",
       "      <th>17</th>\n",
       "      <td>0</td>\n",
       "      <td>1</td>\n",
       "      <td>3.75</td>\n",
       "      <td>0.500000</td>\n",
       "      <td>7</td>\n",
       "    </tr>\n",
       "    <tr>\n",
       "      <th>18</th>\n",
       "      <td>0</td>\n",
       "      <td>2</td>\n",
       "      <td>4.00</td>\n",
       "      <td>0.571429</td>\n",
       "      <td>8</td>\n",
       "    </tr>\n",
       "    <tr>\n",
       "      <th>20</th>\n",
       "      <td>0</td>\n",
       "      <td>3</td>\n",
       "      <td>4.00</td>\n",
       "      <td>0.571429</td>\n",
       "      <td>8</td>\n",
       "    </tr>\n",
       "    <tr>\n",
       "      <th>21</th>\n",
       "      <td>0</td>\n",
       "      <td>4</td>\n",
       "      <td>3.75</td>\n",
       "      <td>0.500000</td>\n",
       "      <td>7</td>\n",
       "    </tr>\n",
       "    <tr>\n",
       "      <th>...</th>\n",
       "      <td>...</td>\n",
       "      <td>...</td>\n",
       "      <td>...</td>\n",
       "      <td>...</td>\n",
       "      <td>...</td>\n",
       "    </tr>\n",
       "    <tr>\n",
       "      <th>4407426</th>\n",
       "      <td>952</td>\n",
       "      <td>157281</td>\n",
       "      <td>0.25</td>\n",
       "      <td>0.089286</td>\n",
       "      <td>1</td>\n",
       "    </tr>\n",
       "    <tr>\n",
       "      <th>4407447</th>\n",
       "      <td>952</td>\n",
       "      <td>157461</td>\n",
       "      <td>1.75</td>\n",
       "      <td>0.178571</td>\n",
       "      <td>2</td>\n",
       "    </tr>\n",
       "    <tr>\n",
       "      <th>4407453</th>\n",
       "      <td>952</td>\n",
       "      <td>157465</td>\n",
       "      <td>3.25</td>\n",
       "      <td>0.357143</td>\n",
       "      <td>4</td>\n",
       "    </tr>\n",
       "    <tr>\n",
       "      <th>4407473</th>\n",
       "      <td>952</td>\n",
       "      <td>157517</td>\n",
       "      <td>4.25</td>\n",
       "      <td>0.625000</td>\n",
       "      <td>7</td>\n",
       "    </tr>\n",
       "    <tr>\n",
       "      <th>4407478</th>\n",
       "      <td>952</td>\n",
       "      <td>157524</td>\n",
       "      <td>1.75</td>\n",
       "      <td>0.178571</td>\n",
       "      <td>2</td>\n",
       "    </tr>\n",
       "  </tbody>\n",
       "</table>\n",
       "<p>3079638 rows × 5 columns</p>\n",
       "</div>"
      ],
      "text/plain": [
       "         uid     tid  rating    minmax  count\n",
       "10         0       0    5.00  1.928571     27\n",
       "17         0       1    3.75  0.500000      7\n",
       "18         0       2    4.00  0.571429      8\n",
       "20         0       3    4.00  0.571429      8\n",
       "21         0       4    3.75  0.500000      7\n",
       "...      ...     ...     ...       ...    ...\n",
       "4407426  952  157281    0.25  0.089286      1\n",
       "4407447  952  157461    1.75  0.178571      2\n",
       "4407453  952  157465    3.25  0.357143      4\n",
       "4407473  952  157517    4.25  0.625000      7\n",
       "4407478  952  157524    1.75  0.178571      2\n",
       "\n",
       "[3079638 rows x 5 columns]"
      ]
     },
     "execution_count": 21,
     "metadata": {},
     "output_type": "execute_result"
    }
   ],
   "source": [
    "dir_ = '../data/'\n",
    "file_name = 'normalized_to_rating_filter_track_5_user_100.csv'\n",
    "linear = pd.read_pickle(os.path.join(dir_, file_name[:-3] + 'pkl'))\n",
    "linear"
   ]
  },
  {
   "cell_type": "code",
   "execution_count": 22,
   "metadata": {},
   "outputs": [],
   "source": [
    "v = linear['rating'].values.tolist()\n",
    "b = [i for i in np.arange(0,6,0.25)]"
   ]
  },
  {
   "cell_type": "code",
   "execution_count": 23,
   "metadata": {},
   "outputs": [
    {
     "data": {
      "image/png": "[encoded data removed]",
      "text/plain": [
       "<Figure size 829.44x622.08 with 1 Axes>"
      ]
     },
     "metadata": {
      "needs_background": "light"
     },
     "output_type": "display_data"
    }
   ],
   "source": [
    "fig_x=1.8\n",
    "plt.rcParams.update({'font.size': 28})\n",
    "plt.figure(figsize=(6.4*fig_x, 4.8*fig_x))\n",
    "plt.hist(v, bins=b)\n",
    "plt.yscale('log')\n",
    "plt.ylabel('Number of ratings')\n",
    "plt.xlabel('rating')\n",
    "plt.savefig('./dv_rating_linear.png', dpi=600)\n",
    "plt.show()"
   ]
  },
  {
   "cell_type": "code",
   "execution_count": 24,
   "metadata": {},
   "outputs": [
    {
     "data": {
      "text/html": [
       "<div>\n",
       "<style scoped>\n",
       "    .dataframe tbody tr th:only-of-type {\n",
       "        vertical-align: middle;\n",
       "    }\n",
       "\n",
       "    .dataframe tbody tr th {\n",
       "        vertical-align: top;\n",
       "    }\n",
       "\n",
       "    .dataframe thead th {\n",
       "        text-align: right;\n",
       "    }\n",
       "</style>\n",
       "<table border=\"1\" class=\"dataframe\">\n",
       "  <thead>\n",
       "    <tr style=\"text-align: right;\">\n",
       "      <th></th>\n",
       "      <th>uid</th>\n",
       "      <th>tid</th>\n",
       "      <th>rating</th>\n",
       "      <th>count</th>\n",
       "    </tr>\n",
       "  </thead>\n",
       "  <tbody>\n",
       "    <tr>\n",
       "      <th>10</th>\n",
       "      <td>0</td>\n",
       "      <td>0</td>\n",
       "      <td>1.447158</td>\n",
       "      <td>27</td>\n",
       "    </tr>\n",
       "    <tr>\n",
       "      <th>17</th>\n",
       "      <td>0</td>\n",
       "      <td>1</td>\n",
       "      <td>0.903090</td>\n",
       "      <td>7</td>\n",
       "    </tr>\n",
       "    <tr>\n",
       "      <th>18</th>\n",
       "      <td>0</td>\n",
       "      <td>2</td>\n",
       "      <td>0.954243</td>\n",
       "      <td>8</td>\n",
       "    </tr>\n",
       "    <tr>\n",
       "      <th>20</th>\n",
       "      <td>0</td>\n",
       "      <td>3</td>\n",
       "      <td>0.954243</td>\n",
       "      <td>8</td>\n",
       "    </tr>\n",
       "    <tr>\n",
       "      <th>21</th>\n",
       "      <td>0</td>\n",
       "      <td>4</td>\n",
       "      <td>0.903090</td>\n",
       "      <td>7</td>\n",
       "    </tr>\n",
       "    <tr>\n",
       "      <th>...</th>\n",
       "      <td>...</td>\n",
       "      <td>...</td>\n",
       "      <td>...</td>\n",
       "      <td>...</td>\n",
       "    </tr>\n",
       "    <tr>\n",
       "      <th>4407426</th>\n",
       "      <td>952</td>\n",
       "      <td>157281</td>\n",
       "      <td>0.301030</td>\n",
       "      <td>1</td>\n",
       "    </tr>\n",
       "    <tr>\n",
       "      <th>4407447</th>\n",
       "      <td>952</td>\n",
       "      <td>157461</td>\n",
       "      <td>0.477121</td>\n",
       "      <td>2</td>\n",
       "    </tr>\n",
       "    <tr>\n",
       "      <th>4407453</th>\n",
       "      <td>952</td>\n",
       "      <td>157465</td>\n",
       "      <td>0.698970</td>\n",
       "      <td>4</td>\n",
       "    </tr>\n",
       "    <tr>\n",
       "      <th>4407473</th>\n",
       "      <td>952</td>\n",
       "      <td>157517</td>\n",
       "      <td>0.903090</td>\n",
       "      <td>7</td>\n",
       "    </tr>\n",
       "    <tr>\n",
       "      <th>4407478</th>\n",
       "      <td>952</td>\n",
       "      <td>157524</td>\n",
       "      <td>0.477121</td>\n",
       "      <td>2</td>\n",
       "    </tr>\n",
       "  </tbody>\n",
       "</table>\n",
       "<p>3079638 rows × 4 columns</p>\n",
       "</div>"
      ],
      "text/plain": [
       "         uid     tid    rating  count\n",
       "10         0       0  1.447158     27\n",
       "17         0       1  0.903090      7\n",
       "18         0       2  0.954243      8\n",
       "20         0       3  0.954243      8\n",
       "21         0       4  0.903090      7\n",
       "...      ...     ...       ...    ...\n",
       "4407426  952  157281  0.301030      1\n",
       "4407447  952  157461  0.477121      2\n",
       "4407453  952  157465  0.698970      4\n",
       "4407473  952  157517  0.903090      7\n",
       "4407478  952  157524  0.477121      2\n",
       "\n",
       "[3079638 rows x 4 columns]"
      ]
     },
     "execution_count": 24,
     "metadata": {},
     "output_type": "execute_result"
    }
   ],
   "source": [
    "dir_ = '../data/'\n",
    "file_name = 'normalized_log_filter_track_5_user_100.csv'\n",
    "log = pd.read_pickle(os.path.join(dir_, file_name[:-3] + 'pkl'))\n",
    "log"
   ]
  },
  {
   "cell_type": "code",
   "execution_count": 25,
   "metadata": {},
   "outputs": [],
   "source": [
    "v = log['rating'].values.tolist()\n",
    "b = [i for i in np.arange(0,6,0.25)]"
   ]
  },
  {
   "cell_type": "code",
   "execution_count": 26,
   "metadata": {},
   "outputs": [
    {
     "data": {
      "image/png": "[encoded data removed]",
      "text/plain": [
       "<Figure size 829.44x622.08 with 1 Axes>"
      ]
     },
     "metadata": {
      "needs_background": "light"
     },
     "output_type": "display_data"
    }
   ],
   "source": [
    "fig_x=1.8\n",
    "plt.rcParams.update({'font.size': 16})\n",
    "plt.figure(figsize=(6.4*fig_x, 4.8*fig_x))\n",
    "plt.hist(v, bins=b)\n",
    "plt.yscale('log')\n",
    "plt.ylabel('Number of ratings')\n",
    "plt.xlabel('rating')\n",
    "plt.savefig('./dv_rating_log.png', dpi=600)\n",
    "plt.show()"
   ]
  },
  {
   "cell_type": "code",
   "execution_count": 27,
   "metadata": {},
   "outputs": [
    {
     "data": {
      "text/html": [
       "<div>\n",
       "<style scoped>\n",
       "    .dataframe tbody tr th:only-of-type {\n",
       "        vertical-align: middle;\n",
       "    }\n",
       "\n",
       "    .dataframe tbody tr th {\n",
       "        vertical-align: top;\n",
       "    }\n",
       "\n",
       "    .dataframe thead th {\n",
       "        text-align: right;\n",
       "    }\n",
       "</style>\n",
       "<table border=\"1\" class=\"dataframe\">\n",
       "  <thead>\n",
       "    <tr style=\"text-align: right;\">\n",
       "      <th></th>\n",
       "      <th>uid</th>\n",
       "      <th>tid</th>\n",
       "      <th>rating</th>\n",
       "    </tr>\n",
       "  </thead>\n",
       "  <tbody>\n",
       "    <tr>\n",
       "      <th>10</th>\n",
       "      <td>0</td>\n",
       "      <td>0</td>\n",
       "      <td>1.928571</td>\n",
       "    </tr>\n",
       "    <tr>\n",
       "      <th>17</th>\n",
       "      <td>0</td>\n",
       "      <td>1</td>\n",
       "      <td>0.500000</td>\n",
       "    </tr>\n",
       "    <tr>\n",
       "      <th>18</th>\n",
       "      <td>0</td>\n",
       "      <td>2</td>\n",
       "      <td>0.571429</td>\n",
       "    </tr>\n",
       "    <tr>\n",
       "      <th>20</th>\n",
       "      <td>0</td>\n",
       "      <td>3</td>\n",
       "      <td>0.571429</td>\n",
       "    </tr>\n",
       "    <tr>\n",
       "      <th>21</th>\n",
       "      <td>0</td>\n",
       "      <td>4</td>\n",
       "      <td>0.500000</td>\n",
       "    </tr>\n",
       "    <tr>\n",
       "      <th>...</th>\n",
       "      <td>...</td>\n",
       "      <td>...</td>\n",
       "      <td>...</td>\n",
       "    </tr>\n",
       "    <tr>\n",
       "      <th>4407426</th>\n",
       "      <td>952</td>\n",
       "      <td>157281</td>\n",
       "      <td>0.089286</td>\n",
       "    </tr>\n",
       "    <tr>\n",
       "      <th>4407447</th>\n",
       "      <td>952</td>\n",
       "      <td>157461</td>\n",
       "      <td>0.178571</td>\n",
       "    </tr>\n",
       "    <tr>\n",
       "      <th>4407453</th>\n",
       "      <td>952</td>\n",
       "      <td>157465</td>\n",
       "      <td>0.357143</td>\n",
       "    </tr>\n",
       "    <tr>\n",
       "      <th>4407473</th>\n",
       "      <td>952</td>\n",
       "      <td>157517</td>\n",
       "      <td>0.625000</td>\n",
       "    </tr>\n",
       "    <tr>\n",
       "      <th>4407478</th>\n",
       "      <td>952</td>\n",
       "      <td>157524</td>\n",
       "      <td>0.178571</td>\n",
       "    </tr>\n",
       "  </tbody>\n",
       "</table>\n",
       "<p>3079638 rows × 3 columns</p>\n",
       "</div>"
      ],
      "text/plain": [
       "         uid     tid    rating\n",
       "10         0       0  1.928571\n",
       "17         0       1  0.500000\n",
       "18         0       2  0.571429\n",
       "20         0       3  0.571429\n",
       "21         0       4  0.500000\n",
       "...      ...     ...       ...\n",
       "4407426  952  157281  0.089286\n",
       "4407447  952  157461  0.178571\n",
       "4407453  952  157465  0.357143\n",
       "4407473  952  157517  0.625000\n",
       "4407478  952  157524  0.178571\n",
       "\n",
       "[3079638 rows x 3 columns]"
      ]
     },
     "execution_count": 27,
     "metadata": {},
     "output_type": "execute_result"
    }
   ],
   "source": [
    "dir_ = '../data/'\n",
    "file_name = 'normalized_minmax_filter_track_5_user_100.csv'\n",
    "minmax = pd.read_pickle(os.path.join(dir_, file_name[:-3] + 'pkl'))\n",
    "minmax"
   ]
  },
  {
   "cell_type": "code",
   "execution_count": 30,
   "metadata": {},
   "outputs": [],
   "source": [
    "v = minmax['rating'].values.tolist()\n",
    "b = [i for i in np.arange(0,6,0.25)]"
   ]
  },
  {
   "cell_type": "code",
   "execution_count": 31,
   "metadata": {},
   "outputs": [
    {
     "data": {
      "image/png": "[encoded data removed]",
      "text/plain": [
       "<Figure size 829.44x622.08 with 1 Axes>"
      ]
     },
     "metadata": {
      "needs_background": "light"
     },
     "output_type": "display_data"
    }
   ],
   "source": [
    "fig_x=1.8\n",
    "plt.rcParams.update({'font.size': 16})\n",
    "plt.figure(figsize=(6.4*fig_x, 4.8*fig_x))\n",
    "plt.hist(v, bins=b)\n",
    "plt.yscale('log')\n",
    "plt.ylabel('Number of ratings')\n",
    "plt.xlabel('rating')\n",
    "plt.savefig('./dv_rating_minmax.png', dpi=600)\n",
    "plt.show()"
   ]
  },
  {
   "cell_type": "code",
   "execution_count": null,
   "metadata": {},
   "outputs": [],
   "source": [
    "#################################\n",
    "#                               #\n",
    "#       Pop. Normalization      #\n",
    "#                               #\n",
    "#################################"
   ]
  },
  {
   "cell_type": "code",
   "execution_count": 9,
   "metadata": {},
   "outputs": [
    {
     "data": {
      "application/vnd.jupyter.widget-view+json": {
       "model_id": "20c7423b8fae4ab28fcdd0f9611795e0",
       "version_major": 2,
       "version_minor": 0
      },
      "text/plain": [
       "HBox(children=(HTML(value=''), FloatProgress(value=0.0, max=1083488.0), HTML(value='')))"
      ]
     },
     "metadata": {},
     "output_type": "display_data"
    },
    {
     "name": "stdout",
     "output_type": "stream",
     "text": [
      "\n"
     ]
    },
    {
     "data": {
      "text/html": [
       "<div>\n",
       "<style scoped>\n",
       "    .dataframe tbody tr th:only-of-type {\n",
       "        vertical-align: middle;\n",
       "    }\n",
       "\n",
       "    .dataframe tbody tr th {\n",
       "        vertical-align: top;\n",
       "    }\n",
       "\n",
       "    .dataframe thead th {\n",
       "        text-align: right;\n",
       "    }\n",
       "</style>\n",
       "<table border=\"1\" class=\"dataframe\">\n",
       "  <thead>\n",
       "    <tr style=\"text-align: right;\">\n",
       "      <th></th>\n",
       "      <th>tid</th>\n",
       "      <th>rating</th>\n",
       "    </tr>\n",
       "  </thead>\n",
       "  <tbody>\n",
       "    <tr>\n",
       "      <th>153</th>\n",
       "      <td>153</td>\n",
       "      <td>773</td>\n",
       "    </tr>\n",
       "    <tr>\n",
       "      <th>8087</th>\n",
       "      <td>8087</td>\n",
       "      <td>555</td>\n",
       "    </tr>\n",
       "    <tr>\n",
       "      <th>833</th>\n",
       "      <td>833</td>\n",
       "      <td>539</td>\n",
       "    </tr>\n",
       "    <tr>\n",
       "      <th>4308</th>\n",
       "      <td>4308</td>\n",
       "      <td>535</td>\n",
       "    </tr>\n",
       "    <tr>\n",
       "      <th>198</th>\n",
       "      <td>198</td>\n",
       "      <td>534</td>\n",
       "    </tr>\n",
       "    <tr>\n",
       "      <th>18382</th>\n",
       "      <td>18382</td>\n",
       "      <td>534</td>\n",
       "    </tr>\n",
       "    <tr>\n",
       "      <th>466</th>\n",
       "      <td>466</td>\n",
       "      <td>512</td>\n",
       "    </tr>\n",
       "    <tr>\n",
       "      <th>8296</th>\n",
       "      <td>8296</td>\n",
       "      <td>511</td>\n",
       "    </tr>\n",
       "    <tr>\n",
       "      <th>2164</th>\n",
       "      <td>2164</td>\n",
       "      <td>486</td>\n",
       "    </tr>\n",
       "    <tr>\n",
       "      <th>2931</th>\n",
       "      <td>2931</td>\n",
       "      <td>483</td>\n",
       "    </tr>\n",
       "  </tbody>\n",
       "</table>\n",
       "</div>"
      ],
      "text/plain": [
       "         tid  rating\n",
       "153      153     773\n",
       "8087    8087     555\n",
       "833      833     539\n",
       "4308    4308     535\n",
       "198      198     534\n",
       "18382  18382     534\n",
       "466      466     512\n",
       "8296    8296     511\n",
       "2164    2164     486\n",
       "2931    2931     483"
      ]
     },
     "execution_count": 9,
     "metadata": {},
     "output_type": "execute_result"
    }
   ],
   "source": [
    "# POP form listening users\n",
    "tid_list = []\n",
    "pop_list = []\n",
    "for i in tqdm(lh['tid'].unique()):\n",
    "    tid_list.append(i)\n",
    "    pop_list.append(len(lh[lh['tid']==i]))\n",
    "    \n",
    "d = {'tid': tid_list, 'rating': pop_list}\n",
    "df_pop_u = pd.DataFrame(data=d)\n",
    "df_pop_u = df_pop_u.sort_values(by=['rating'], ascending=False)\n",
    "df_pop_u[:10]"
   ]
  },
  {
   "cell_type": "code",
   "execution_count": 10,
   "metadata": {},
   "outputs": [],
   "source": [
    "lh_list_u = df_pop_u['rating'].values.tolist()\n",
    "bins_u = [i for i in range(0,df_pop_u['rating'].max()+1,1)]"
   ]
  },
  {
   "cell_type": "code",
   "execution_count": 11,
   "metadata": {},
   "outputs": [
    {
     "data": {
      "image/png": "[encoded data removed]",
      "text/plain": [
       "<Figure size 829.44x622.08 with 1 Axes>"
      ]
     },
     "metadata": {
      "needs_background": "light"
     },
     "output_type": "display_data"
    }
   ],
   "source": [
    "fig_x=1.8\n",
    "plt.rcParams.update({'font.size': 16})\n",
    "plt.figure(figsize=(6.4*fig_x, 4.8*fig_x))\n",
    "plt.hist(lh_list_u, bins=bins_u)\n",
    "plt.yscale('log')\n",
    "plt.ylabel('Number of tracks')\n",
    "plt.xlabel('Popularity (listen users)')\n",
    "plt.savefig('./dv_pop_user.png', dpi=600)\n",
    "plt.show()"
   ]
  },
  {
   "cell_type": "code",
   "execution_count": 12,
   "metadata": {},
   "outputs": [
    {
     "data": {
      "application/vnd.jupyter.widget-view+json": {
       "model_id": "f9c920a3f41f4b39ab92577a0c57de2a",
       "version_major": 2,
       "version_minor": 0
      },
      "text/plain": [
       "HBox(children=(HTML(value=''), FloatProgress(value=0.0, max=1083488.0), HTML(value='')))"
      ]
     },
     "metadata": {},
     "output_type": "display_data"
    },
    {
     "name": "stdout",
     "output_type": "stream",
     "text": [
      "\n"
     ]
    },
    {
     "data": {
      "text/html": [
       "<div>\n",
       "<style scoped>\n",
       "    .dataframe tbody tr th:only-of-type {\n",
       "        vertical-align: middle;\n",
       "    }\n",
       "\n",
       "    .dataframe tbody tr th {\n",
       "        vertical-align: top;\n",
       "    }\n",
       "\n",
       "    .dataframe thead th {\n",
       "        text-align: right;\n",
       "    }\n",
       "</style>\n",
       "<table border=\"1\" class=\"dataframe\">\n",
       "  <thead>\n",
       "    <tr style=\"text-align: right;\">\n",
       "      <th></th>\n",
       "      <th>tid</th>\n",
       "      <th>rating</th>\n",
       "    </tr>\n",
       "  </thead>\n",
       "  <tbody>\n",
       "    <tr>\n",
       "      <th>153</th>\n",
       "      <td>153</td>\n",
       "      <td>17561</td>\n",
       "    </tr>\n",
       "    <tr>\n",
       "      <th>2287</th>\n",
       "      <td>2287</td>\n",
       "      <td>6926</td>\n",
       "    </tr>\n",
       "    <tr>\n",
       "      <th>198</th>\n",
       "      <td>198</td>\n",
       "      <td>6586</td>\n",
       "    </tr>\n",
       "    <tr>\n",
       "      <th>18382</th>\n",
       "      <td>18382</td>\n",
       "      <td>6304</td>\n",
       "    </tr>\n",
       "    <tr>\n",
       "      <th>1976</th>\n",
       "      <td>1976</td>\n",
       "      <td>6234</td>\n",
       "    </tr>\n",
       "    <tr>\n",
       "      <th>4308</th>\n",
       "      <td>4308</td>\n",
       "      <td>6002</td>\n",
       "    </tr>\n",
       "    <tr>\n",
       "      <th>6121</th>\n",
       "      <td>6121</td>\n",
       "      <td>5676</td>\n",
       "    </tr>\n",
       "    <tr>\n",
       "      <th>8087</th>\n",
       "      <td>8087</td>\n",
       "      <td>5658</td>\n",
       "    </tr>\n",
       "    <tr>\n",
       "      <th>5984</th>\n",
       "      <td>5984</td>\n",
       "      <td>5627</td>\n",
       "    </tr>\n",
       "    <tr>\n",
       "      <th>3943</th>\n",
       "      <td>3943</td>\n",
       "      <td>5571</td>\n",
       "    </tr>\n",
       "  </tbody>\n",
       "</table>\n",
       "</div>"
      ],
      "text/plain": [
       "         tid  rating\n",
       "153      153   17561\n",
       "2287    2287    6926\n",
       "198      198    6586\n",
       "18382  18382    6304\n",
       "1976    1976    6234\n",
       "4308    4308    6002\n",
       "6121    6121    5676\n",
       "8087    8087    5658\n",
       "5984    5984    5627\n",
       "3943    3943    5571"
      ]
     },
     "execution_count": 12,
     "metadata": {},
     "output_type": "execute_result"
    }
   ],
   "source": [
    "# POP form listening counts\n",
    "tid_list = []\n",
    "pop_list = []\n",
    "for i in tqdm(lh['tid'].unique()):\n",
    "    tid_list.append(i)\n",
    "    pop_list.append(lh[lh['tid']==i].sum()['count'])\n",
    "    \n",
    "d = {'tid': tid_list, 'rating': pop_list}\n",
    "df_pop_c = pd.DataFrame(data=d)\n",
    "df_pop_c = df_pop_c.sort_values(by=['rating'], ascending=False)\n",
    "df_pop_c[:10]"
   ]
  },
  {
   "cell_type": "code",
   "execution_count": 13,
   "metadata": {},
   "outputs": [],
   "source": [
    "lh_list_c = df_pop_c['rating'].values.tolist()\n",
    "bins_c = [i for i in range(0,df_pop_c['rating'].max()+1000,1)]"
   ]
  },
  {
   "cell_type": "code",
   "execution_count": 14,
   "metadata": {},
   "outputs": [
    {
     "data": {
      "image/png": "[encoded data removed]",
      "text/plain": [
       "<Figure size 829.44x622.08 with 1 Axes>"
      ]
     },
     "metadata": {
      "needs_background": "light"
     },
     "output_type": "display_data"
    }
   ],
   "source": [
    "fig_x=1.8\n",
    "plt.rcParams.update({'font.size': 16})\n",
    "plt.figure(figsize=(6.4*fig_x, 4.8*fig_x))\n",
    "plt.hist(lh_list_c, bins=bins_c)\n",
    "plt.yscale('log')\n",
    "plt.ylabel('Number of tracks')\n",
    "plt.xlabel('Popularity (listen counts)')\n",
    "plt.savefig('./dv_pop_count.png', dpi=600)\n",
    "plt.show()"
   ]
  },
  {
   "cell_type": "code",
   "execution_count": 117,
   "metadata": {},
   "outputs": [],
   "source": [
    "df_pop_u = df_pop_u.sort_values(by=['tid'], ascending=False)\n",
    "df_pop_c = df_pop_c.sort_values(by=['tid'], ascending=False)"
   ]
  },
  {
   "cell_type": "code",
   "execution_count": 116,
   "metadata": {},
   "outputs": [
    {
     "data": {
      "text/html": [
       "<div>\n",
       "<style scoped>\n",
       "    .dataframe tbody tr th:only-of-type {\n",
       "        vertical-align: middle;\n",
       "    }\n",
       "\n",
       "    .dataframe tbody tr th {\n",
       "        vertical-align: top;\n",
       "    }\n",
       "\n",
       "    .dataframe thead th {\n",
       "        text-align: right;\n",
       "    }\n",
       "</style>\n",
       "<table border=\"1\" class=\"dataframe\">\n",
       "  <thead>\n",
       "    <tr style=\"text-align: right;\">\n",
       "      <th></th>\n",
       "      <th>tid</th>\n",
       "      <th>rating</th>\n",
       "      <th>r</th>\n",
       "    </tr>\n",
       "  </thead>\n",
       "  <tbody>\n",
       "    <tr>\n",
       "      <th>1083487</th>\n",
       "      <td>1083487</td>\n",
       "      <td>1</td>\n",
       "      <td>0.000983</td>\n",
       "    </tr>\n",
       "    <tr>\n",
       "      <th>1083486</th>\n",
       "      <td>1083486</td>\n",
       "      <td>1</td>\n",
       "      <td>0.000983</td>\n",
       "    </tr>\n",
       "    <tr>\n",
       "      <th>1083485</th>\n",
       "      <td>1083485</td>\n",
       "      <td>1</td>\n",
       "      <td>0.000983</td>\n",
       "    </tr>\n",
       "    <tr>\n",
       "      <th>1083484</th>\n",
       "      <td>1083484</td>\n",
       "      <td>1</td>\n",
       "      <td>0.000983</td>\n",
       "    </tr>\n",
       "    <tr>\n",
       "      <th>1083483</th>\n",
       "      <td>1083483</td>\n",
       "      <td>1</td>\n",
       "      <td>0.000983</td>\n",
       "    </tr>\n",
       "    <tr>\n",
       "      <th>...</th>\n",
       "      <td>...</td>\n",
       "      <td>...</td>\n",
       "      <td>...</td>\n",
       "    </tr>\n",
       "    <tr>\n",
       "      <th>4</th>\n",
       "      <td>4</td>\n",
       "      <td>1</td>\n",
       "      <td>0.000983</td>\n",
       "    </tr>\n",
       "    <tr>\n",
       "      <th>3</th>\n",
       "      <td>3</td>\n",
       "      <td>1</td>\n",
       "      <td>0.000983</td>\n",
       "    </tr>\n",
       "    <tr>\n",
       "      <th>2</th>\n",
       "      <td>2</td>\n",
       "      <td>1</td>\n",
       "      <td>0.000983</td>\n",
       "    </tr>\n",
       "    <tr>\n",
       "      <th>1</th>\n",
       "      <td>1</td>\n",
       "      <td>1</td>\n",
       "      <td>0.000983</td>\n",
       "    </tr>\n",
       "    <tr>\n",
       "      <th>0</th>\n",
       "      <td>0</td>\n",
       "      <td>1</td>\n",
       "      <td>0.000983</td>\n",
       "    </tr>\n",
       "  </tbody>\n",
       "</table>\n",
       "<p>1083488 rows × 3 columns</p>\n",
       "</div>"
      ],
      "text/plain": [
       "             tid  rating         r\n",
       "1083487  1083487       1  0.000983\n",
       "1083486  1083486       1  0.000983\n",
       "1083485  1083485       1  0.000983\n",
       "1083484  1083484       1  0.000983\n",
       "1083483  1083483       1  0.000983\n",
       "...          ...     ...       ...\n",
       "4              4       1  0.000983\n",
       "3              3       1  0.000983\n",
       "2              2       1  0.000983\n",
       "1              1       1  0.000983\n",
       "0              0       1  0.000983\n",
       "\n",
       "[1083488 rows x 3 columns]"
      ]
     },
     "execution_count": 116,
     "metadata": {},
     "output_type": "execute_result"
    }
   ],
   "source": [
    "df_pop_u['r'] = df_pop_u['rating']/len(lh['uid'].unique())\n",
    "df_pop_u"
   ]
  },
  {
   "cell_type": "code",
   "execution_count": 119,
   "metadata": {},
   "outputs": [
    {
     "data": {
      "text/html": [
       "<div>\n",
       "<style scoped>\n",
       "    .dataframe tbody tr th:only-of-type {\n",
       "        vertical-align: middle;\n",
       "    }\n",
       "\n",
       "    .dataframe tbody tr th {\n",
       "        vertical-align: top;\n",
       "    }\n",
       "\n",
       "    .dataframe thead th {\n",
       "        text-align: right;\n",
       "    }\n",
       "</style>\n",
       "<table border=\"1\" class=\"dataframe\">\n",
       "  <thead>\n",
       "    <tr style=\"text-align: right;\">\n",
       "      <th></th>\n",
       "      <th>tid</th>\n",
       "      <th>rating</th>\n",
       "      <th>r</th>\n",
       "    </tr>\n",
       "  </thead>\n",
       "  <tbody>\n",
       "    <tr>\n",
       "      <th>1083487</th>\n",
       "      <td>1083487</td>\n",
       "      <td>1</td>\n",
       "      <td>5.235917e-08</td>\n",
       "    </tr>\n",
       "    <tr>\n",
       "      <th>1083486</th>\n",
       "      <td>1083486</td>\n",
       "      <td>1</td>\n",
       "      <td>5.235917e-08</td>\n",
       "    </tr>\n",
       "    <tr>\n",
       "      <th>1083485</th>\n",
       "      <td>1083485</td>\n",
       "      <td>1</td>\n",
       "      <td>5.235917e-08</td>\n",
       "    </tr>\n",
       "    <tr>\n",
       "      <th>1083484</th>\n",
       "      <td>1083484</td>\n",
       "      <td>1</td>\n",
       "      <td>5.235917e-08</td>\n",
       "    </tr>\n",
       "    <tr>\n",
       "      <th>1083483</th>\n",
       "      <td>1083483</td>\n",
       "      <td>1</td>\n",
       "      <td>5.235917e-08</td>\n",
       "    </tr>\n",
       "    <tr>\n",
       "      <th>...</th>\n",
       "      <td>...</td>\n",
       "      <td>...</td>\n",
       "      <td>...</td>\n",
       "    </tr>\n",
       "    <tr>\n",
       "      <th>4</th>\n",
       "      <td>4</td>\n",
       "      <td>15</td>\n",
       "      <td>7.853876e-07</td>\n",
       "    </tr>\n",
       "    <tr>\n",
       "      <th>3</th>\n",
       "      <td>3</td>\n",
       "      <td>13</td>\n",
       "      <td>6.806693e-07</td>\n",
       "    </tr>\n",
       "    <tr>\n",
       "      <th>2</th>\n",
       "      <td>2</td>\n",
       "      <td>12</td>\n",
       "      <td>6.283101e-07</td>\n",
       "    </tr>\n",
       "    <tr>\n",
       "      <th>1</th>\n",
       "      <td>1</td>\n",
       "      <td>16</td>\n",
       "      <td>8.377468e-07</td>\n",
       "    </tr>\n",
       "    <tr>\n",
       "      <th>0</th>\n",
       "      <td>0</td>\n",
       "      <td>1</td>\n",
       "      <td>5.235917e-08</td>\n",
       "    </tr>\n",
       "  </tbody>\n",
       "</table>\n",
       "<p>1083488 rows × 3 columns</p>\n",
       "</div>"
      ],
      "text/plain": [
       "             tid  rating             r\n",
       "1083487  1083487       1  5.235917e-08\n",
       "1083486  1083486       1  5.235917e-08\n",
       "1083485  1083485       1  5.235917e-08\n",
       "1083484  1083484       1  5.235917e-08\n",
       "1083483  1083483       1  5.235917e-08\n",
       "...          ...     ...           ...\n",
       "4              4      15  7.853876e-07\n",
       "3              3      13  6.806693e-07\n",
       "2              2      12  6.283101e-07\n",
       "1              1      16  8.377468e-07\n",
       "0              0       1  5.235917e-08\n",
       "\n",
       "[1083488 rows x 3 columns]"
      ]
     },
     "execution_count": 119,
     "metadata": {},
     "output_type": "execute_result"
    }
   ],
   "source": [
    "df_pop_c['r'] = df_pop_c['rating']/sum(df_pop_c['rating'])\n",
    "df_pop_c"
   ]
  },
  {
   "cell_type": "code",
   "execution_count": 135,
   "metadata": {},
   "outputs": [
    {
     "name": "stderr",
     "output_type": "stream",
     "text": [
      "/home/han/anaconda3/envs/fm/lib/python3.6/site-packages/ipykernel_launcher.py:12: FutureWarning: `rcond` parameter will change to the default of machine precision times ``max(M, N)`` where M and N are the input matrix dimensions.\n",
      "To use the future default and silence this warning we advise to pass `rcond=None`, to keep using the old, explicitly pass `rcond=-1`.\n",
      "  if sys.path[0] == '':\n"
     ]
    },
    {
     "data": {
      "image/png": "[encoded data removed]",
      "text/plain": [
       "<Figure size 921.6x691.2 with 1 Axes>"
      ]
     },
     "metadata": {
      "needs_background": "light"
     },
     "output_type": "display_data"
    },
    {
     "data": {
      "text/plain": [
       "0.9112961477887136"
      ]
     },
     "execution_count": 135,
     "metadata": {},
     "output_type": "execute_result"
    }
   ],
   "source": [
    "fig_x = 2\n",
    "x = df_pop_c['r'].values.tolist()\n",
    "y = df_pop_u['r'].values.tolist()\n",
    "#設定大小跟x軸兩端的值\n",
    "plt.figure(figsize = (6.4*fig_x, 4.8*fig_x))\n",
    "plt.xlim(0, max(x))\n",
    "plt.ylim(0, max(y))\n",
    "plt.scatter(x, y, marker='.') \n",
    "\n",
    "pearR = np.corrcoef(x,y)[1,0]\n",
    "A = np.vstack([x,np.ones(len(x))]).T\n",
    "m,c = np.linalg.lstsq(A,np.array(y))[0]\n",
    "x_ = np.array(x)*m+c\n",
    "plt.plot(x,x_,color='r')\n",
    "\n",
    "plt.gca().xaxis.get_major_ticks()[0].label1.set_visible(False)\n",
    "\n",
    "#視覺化標題跟xy軸名稱\n",
    "plt.xlabel('pop$_{freq}$')\n",
    "plt.ylabel('pop$_{user}$')\n",
    "plt.savefig('./dv_pop_compare.png', dpi=600)\n",
    "#出圖\n",
    "plt.show()\n",
    "pearR"
   ]
  },
  {
   "cell_type": "code",
   "execution_count": null,
   "metadata": {},
   "outputs": [],
   "source": []
  }
 ],
 "metadata": {
  "kernelspec": {
   "display_name": "Python 3",
   "language": "python",
   "name": "python3"
  },
  "language_info": {
   "codemirror_mode": {
    "name": "ipython",
    "version": 3
   },
   "file_extension": ".py",
   "mimetype": "text/x-python",
   "name": "python",
   "nbconvert_exporter": "python",
   "pygments_lexer": "ipython3",
   "version": "3.6.12"
  }
 },
 "nbformat": 4,
 "nbformat_minor": 4
}
