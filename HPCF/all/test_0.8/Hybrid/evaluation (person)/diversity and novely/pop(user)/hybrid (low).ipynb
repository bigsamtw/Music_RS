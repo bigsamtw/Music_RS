{
 "cells": [
  {
   "cell_type": "code",
   "execution_count": 1,
   "metadata": {},
   "outputs": [],
   "source": [
    "import os \n",
    "import math\n",
    "import random\n",
    "import numpy as np\n",
    "import pandas as pd\n",
    "from tqdm.notebook import tqdm\n",
    "from numpy import count_nonzero\n",
    "dir_ = '../../../../data'\n",
    "group_dir_ = os.path.join(dir_, 'groups/low')"
   ]
  },
  {
   "cell_type": "code",
   "execution_count": 2,
   "metadata": {},
   "outputs": [
    {
     "data": {
      "text/plain": [
       "1053"
      ]
     },
     "execution_count": 2,
     "metadata": {},
     "output_type": "execute_result"
    }
   ],
   "source": [
    "file_name = 'normalized_to_rating_filter_track_5_user_100.csv'\n",
    "df = pd.read_pickle(os.path.join(dir_, file_name[:-3] + 'pkl'))\n",
    "svd = pd.read_pickle(os.path.join(dir_, 'prediction_svd_top_N_' + file_name[:-3] + 'pkl'))\n",
    "test = pd.read_pickle(os.path.join(dir_, 'test_' + file_name[:-3] + 'pkl'))\n",
    "test.sort_values(by=['uid','tid'])\n",
    "\n",
    "num_user = len(svd['uid'].unique())\n",
    "num_user"
   ]
  },
  {
   "cell_type": "code",
   "execution_count": 3,
   "metadata": {},
   "outputs": [],
   "source": [
    "groups_n =[]\n",
    "group_sizes = ['2', '3', '4', '5', '6', '7', '8']\n",
    "for i in range(len(group_sizes)):\n",
    "    groups = np.loadtxt(os.path.join(group_dir_, group_sizes[i] + '.csv'), delimiter=',')\n",
    "    groups_n.append(groups)"
   ]
  },
  {
   "cell_type": "code",
   "execution_count": 4,
   "metadata": {},
   "outputs": [
    {
     "data": {
      "application/vnd.jupyter.widget-view+json": {
       "model_id": "311b0c4c6cdd46c09fd58821e5b033c4",
       "version_major": 2,
       "version_minor": 0
      },
      "text/plain": [
       "HBox(children=(HTML(value=''), FloatProgress(value=0.0, max=157567.0), HTML(value='')))"
      ]
     },
     "metadata": {},
     "output_type": "display_data"
    },
    {
     "name": "stdout",
     "output_type": "stream",
     "text": [
      "\n"
     ]
    }
   ],
   "source": [
    "pop_dict = {}\n",
    "for i in tqdm(df['tid'].unique()):\n",
    "    pop_dict[i] = len(df[df['tid']==i])/num_user"
   ]
  },
  {
   "cell_type": "code",
   "execution_count": 5,
   "metadata": {},
   "outputs": [
    {
     "data": {
      "text/html": [
       "<div>\n",
       "<style scoped>\n",
       "    .dataframe tbody tr th:only-of-type {\n",
       "        vertical-align: middle;\n",
       "    }\n",
       "\n",
       "    .dataframe tbody tr th {\n",
       "        vertical-align: top;\n",
       "    }\n",
       "\n",
       "    .dataframe thead th {\n",
       "        text-align: right;\n",
       "    }\n",
       "</style>\n",
       "<table border=\"1\" class=\"dataframe\">\n",
       "  <thead>\n",
       "    <tr style=\"text-align: right;\">\n",
       "      <th></th>\n",
       "      <th>uid</th>\n",
       "      <th>tid</th>\n",
       "      <th>rating</th>\n",
       "      <th>count</th>\n",
       "    </tr>\n",
       "  </thead>\n",
       "  <tbody>\n",
       "    <tr>\n",
       "      <th>0</th>\n",
       "      <td>0</td>\n",
       "      <td>9</td>\n",
       "      <td>2.243909</td>\n",
       "      <td>1</td>\n",
       "    </tr>\n",
       "    <tr>\n",
       "      <th>1</th>\n",
       "      <td>0</td>\n",
       "      <td>15</td>\n",
       "      <td>2.160610</td>\n",
       "      <td>1</td>\n",
       "    </tr>\n",
       "    <tr>\n",
       "      <th>2</th>\n",
       "      <td>0</td>\n",
       "      <td>22</td>\n",
       "      <td>2.145235</td>\n",
       "      <td>1</td>\n",
       "    </tr>\n",
       "    <tr>\n",
       "      <th>3</th>\n",
       "      <td>0</td>\n",
       "      <td>28</td>\n",
       "      <td>2.204445</td>\n",
       "      <td>1</td>\n",
       "    </tr>\n",
       "    <tr>\n",
       "      <th>4</th>\n",
       "      <td>0</td>\n",
       "      <td>33</td>\n",
       "      <td>2.166677</td>\n",
       "      <td>1</td>\n",
       "    </tr>\n",
       "  </tbody>\n",
       "</table>\n",
       "</div>"
      ],
      "text/plain": [
       "   uid  tid    rating  count\n",
       "0    0    9  2.243909      1\n",
       "1    0   15  2.160610      1\n",
       "2    0   22  2.145235      1\n",
       "3    0   28  2.204445      1\n",
       "4    0   33  2.166677      1"
      ]
     },
     "execution_count": 5,
     "metadata": {},
     "output_type": "execute_result"
    }
   ],
   "source": [
    "svd['count'] = 1\n",
    "svd[:5]"
   ]
  },
  {
   "cell_type": "code",
   "execution_count": 6,
   "metadata": {},
   "outputs": [
    {
     "data": {
      "text/html": [
       "<div>\n",
       "<style scoped>\n",
       "    .dataframe tbody tr th:only-of-type {\n",
       "        vertical-align: middle;\n",
       "    }\n",
       "\n",
       "    .dataframe tbody tr th {\n",
       "        vertical-align: top;\n",
       "    }\n",
       "\n",
       "    .dataframe thead th {\n",
       "        text-align: right;\n",
       "    }\n",
       "</style>\n",
       "<table border=\"1\" class=\"dataframe\">\n",
       "  <thead>\n",
       "    <tr style=\"text-align: right;\">\n",
       "      <th></th>\n",
       "      <th>tid</th>\n",
       "      <th>rating</th>\n",
       "    </tr>\n",
       "  </thead>\n",
       "  <tbody>\n",
       "    <tr>\n",
       "      <th>70</th>\n",
       "      <td>70</td>\n",
       "      <td>3.651472</td>\n",
       "    </tr>\n",
       "    <tr>\n",
       "      <th>5521</th>\n",
       "      <td>5521</td>\n",
       "      <td>2.635328</td>\n",
       "    </tr>\n",
       "    <tr>\n",
       "      <th>390</th>\n",
       "      <td>390</td>\n",
       "      <td>2.554606</td>\n",
       "    </tr>\n",
       "    <tr>\n",
       "      <th>2519</th>\n",
       "      <td>2519</td>\n",
       "      <td>2.535613</td>\n",
       "    </tr>\n",
       "    <tr>\n",
       "      <th>83</th>\n",
       "      <td>83</td>\n",
       "      <td>2.530864</td>\n",
       "    </tr>\n",
       "    <tr>\n",
       "      <th>13496</th>\n",
       "      <td>13496</td>\n",
       "      <td>2.521368</td>\n",
       "    </tr>\n",
       "    <tr>\n",
       "      <th>210</th>\n",
       "      <td>210</td>\n",
       "      <td>2.431149</td>\n",
       "    </tr>\n",
       "    <tr>\n",
       "      <th>5716</th>\n",
       "      <td>5716</td>\n",
       "      <td>2.426401</td>\n",
       "    </tr>\n",
       "    <tr>\n",
       "      <th>1036</th>\n",
       "      <td>1036</td>\n",
       "      <td>2.302944</td>\n",
       "    </tr>\n",
       "    <tr>\n",
       "      <th>1464</th>\n",
       "      <td>1464</td>\n",
       "      <td>2.288699</td>\n",
       "    </tr>\n",
       "  </tbody>\n",
       "</table>\n",
       "</div>"
      ],
      "text/plain": [
       "         tid    rating\n",
       "70        70  3.651472\n",
       "5521    5521  2.635328\n",
       "390      390  2.554606\n",
       "2519    2519  2.535613\n",
       "83        83  2.530864\n",
       "13496  13496  2.521368\n",
       "210      210  2.431149\n",
       "5716    5716  2.426401\n",
       "1036    1036  2.302944\n",
       "1464    1464  2.288699"
      ]
     },
     "execution_count": 6,
     "metadata": {},
     "output_type": "execute_result"
    }
   ],
   "source": [
    "# Count POP to DF\n",
    "tid_list = []\n",
    "pop_list = []\n",
    "for i in df['tid'].unique():\n",
    "    tid_list.append(i)\n",
    "    pop_list.append(len(df[df['tid']==i])/num_user*5)\n",
    "    \n",
    "d = {'tid': tid_list, 'rating': pop_list}\n",
    "df_pop = pd.DataFrame(data=d)\n",
    "df_pop = df_pop.sort_values(by=['rating'], ascending=False)\n",
    "df_pop[:10]"
   ]
  },
  {
   "cell_type": "code",
   "execution_count": 7,
   "metadata": {},
   "outputs": [
    {
     "data": {
      "text/plain": [
       "[0.0, 0.1, 0.2, 0.3, 0.4, 0.5, 0.6, 0.7, 0.8, 0.9, 1.0]"
      ]
     },
     "execution_count": 7,
     "metadata": {},
     "output_type": "execute_result"
    }
   ],
   "source": [
    "lambdas = []\n",
    "for i in range(11):\n",
    "    lambdas.append(i/10)\n",
    "lambdas"
   ]
  },
  {
   "cell_type": "code",
   "execution_count": 8,
   "metadata": {
    "scrolled": true
   },
   "outputs": [
    {
     "data": {
      "application/vnd.jupyter.widget-view+json": {
       "model_id": "7882d80b4f0343a08b9bedc86ebd6ea5",
       "version_major": 2,
       "version_minor": 0
      },
      "text/plain": [
       "HBox(children=(HTML(value=''), FloatProgress(value=0.0, max=11.0), HTML(value='')))"
      ]
     },
     "metadata": {},
     "output_type": "display_data"
    },
    {
     "name": "stdout",
     "output_type": "stream",
     "text": [
      "\n",
      "[0.523836657170008, 0.5238366571700005, 0.5238366571699956, 0.5238366571699948, 0.5238366571699942, 0.5238366571699938, 0.5238366571699933]\n",
      "[0.5257897893632204, 0.5248851738369719, 0.5245621249057782, 0.5243201243201314, 0.5242382874327381, 0.5240497236223782, 0.5240097417516804]\n",
      "[0.5322420047720411, 0.528558117866312, 0.5274258133364768, 0.5265144320699952, 0.5261079455523974, 0.52591375070008, 0.5255138927181972]\n",
      "[0.542331499764581, 0.5365962479170179, 0.5327444415073352, 0.5305980028202313, 0.5302310857866482, 0.52852290159983, 0.5282143185369017]\n",
      "[0.5590987891080303, 0.5489120631678424, 0.5445413692836457, 0.5384464301131036, 0.536579020259581, 0.5344668468600128, 0.5323882608828846]\n",
      "[0.5761372993136591, 0.5645708278832032, 0.5589043577016166, 0.5537540648651824, 0.547062955049071, 0.5457812842428253, 0.5413855956866725]\n",
      "[0.5767862826957906, 0.5901458546112609, 0.5797064841738435, 0.5705732539065943, 0.5684641104780098, 0.5651691138870727, 0.5598214012192562]\n",
      "[0.5878787161335564, 0.5921306002018757, 0.6051438697486855, 0.5996546663213459, 0.5953110161443617, 0.5873353300703882, 0.5833471188309958]\n",
      "[0.5892412655570467, 0.6015929330394697, 0.6080511254050832, 0.6092707703818964, 0.6165360873694347, 0.6165583071566122, 0.6107450295622402]\n",
      "[0.5942866049514192, 0.6055185244912675, 0.6141603273905752, 0.6169019252352722, 0.6208847736625631, 0.624361409404158, 0.6311199950984966]\n",
      "[0.651332822985636, 0.655605428037291, 0.6659989622189032, 0.6669566030677267, 0.6704326923077044, 0.6740083278544953, 0.6819854180069311]\n",
      "\n",
      "[0.04920455472163693, 0.041470212888801115, 0.03554412527780218, 0.03407839074505737, 0.029684367415848893, 0.027761428188778647, 0.02812586159360356]\n",
      "[0.05905452828352188, 0.045647754941954624, 0.03799221174650718, 0.03659860715416267, 0.031021156484119444, 0.02873892489277108, 0.028129882363753363]\n",
      "[0.07064468225594747, 0.05171278626904052, 0.042230960143331164, 0.039468186134852756, 0.03372490635222117, 0.03128493854989582, 0.029837752351193222]\n",
      "[0.08281147650953777, 0.05753721522414738, 0.04528274639958477, 0.0430733258511036, 0.0360647818402448, 0.032806667849402886, 0.031160968660968656]\n",
      "[0.09191855219094389, 0.06404353340062634, 0.05067113108350212, 0.046729690063023355, 0.036950313917906506, 0.03440092670861903, 0.030499264773458323]\n",
      "[0.1004572741645688, 0.0685155321423665, 0.05531422249635299, 0.050002733891622755, 0.03868345731771657, 0.03607136769529934, 0.03245048708758386]\n",
      "[0.10045372277597588, 0.07447952440964324, 0.05851678072468448, 0.05004403004403004, 0.040599609581091066, 0.03640166417944196, 0.03301990472689397]\n",
      "[0.10203908895044601, 0.07516479819065429, 0.06161727416022955, 0.05359924026590698, 0.04222146380711193, 0.03564749590390616, 0.03354069019391599]\n",
      "[0.10213333228106977, 0.07532954660837275, 0.06145108232737103, 0.05396457452013014, 0.042391117969821646, 0.03590526282833977, 0.03473715651135003]\n",
      "[0.10074842226273407, 0.07555949757207632, 0.06141987546626727, 0.054207171429393707, 0.04188594755724382, 0.036648647332408024, 0.03533778298563242]\n",
      "[0.08662454982861262, 0.06680981363021901, 0.054962258055041575, 0.04655227488560823, 0.03880810119236044, 0.034785837777290766, 0.03200207548325825]\n",
      "\n",
      "[0.00012693013130922083, 0.00012693013130922083, 0.00012693013130922083, 0.00012693013130922083, 0.00012693013130922083, 0.00012693013130922083, 0.00012693013130922083]\n",
      "[0.00021578122322567542, 0.0001967417035292923, 0.0001967417035292923, 0.0001967417035292923, 0.00019039519696383125, 0.00017770218383290917, 0.00017135567726744814]\n",
      "[0.00029828580857666897, 0.00026020676918390274, 0.0002475137560529806, 0.0002284742363565975, 0.00020308821009475334, 0.0002094347166602144, 0.0001967417035292923]\n",
      "[0.0004125229267549677, 0.0003173253282730521, 0.0003109788217075911, 0.0002728997823148248, 0.00026020676918390274, 0.00023482074292205854, 0.0002284742363565975]\n",
      "[0.0005711855908914938, 0.0004125229267549677, 0.00035540436766581834, 0.00033001834140397417, 0.0003173253282730521, 0.00029828580857666897, 0.00029193930201120794]\n",
      "[0.0006854227090697926, 0.0005584925777605716, 0.0004886810055405003, 0.0004252159398858898, 0.00039982991362404565, 0.00038713690049312354, 0.0003744438873622015]\n",
      "[0.000755234281289864, 0.0006917692156352535, 0.000602918123718799, 0.0005394530580641886, 0.0005331065514987275, 0.0005077205252368833, 0.0004823344989750392]\n",
      "[0.0007933133206826302, 0.0007361947615934809, 0.0007361947615934809, 0.0006283041499806431, 0.000602918123718799, 0.0005902251105878768, 0.0005648390843260327]\n",
      "[0.0007996598272480913, 0.0007742738009862471, 0.0007425412681589419, 0.0006981157222007146, 0.0006663831893734094, 0.0006790762025043315, 0.0006727296959388705]\n",
      "[0.0009583224913846173, 0.0008250458535099354, 0.0007869668141171692, 0.0007361947615934809, 0.0006854227090697926, 0.0007361947615934809, 0.0007425412681589419]\n",
      "[0.0020689611403402995, 0.0013264198721813579, 0.0010852526226938382, 0.0009202434519918511, 0.0008377388666408576, 0.0007933133206826302, 0.0008567783863372406]\n",
      "\n",
      "[0.00012693013130922083, 0.00012693013130922083, 0.00012693013130922083, 0.00012693013130922083, 0.00012693013130922083, 0.00012693013130922083, 0.00012693013130922083]\n",
      "[0.00021578122322567542, 0.0001967417035292923, 0.00018404869039837022, 0.00019039519696383125, 0.00017770218383290917, 0.00017135567726744814, 0.00016500917070198708]\n",
      "[0.00029828580857666897, 0.00025386026261844165, 0.00023482074292205854, 0.00022212772979113648, 0.0001967417035292923, 0.00020308821009475334, 0.00018404869039837022]\n",
      "[0.0004125229267549677, 0.00030463231514213, 0.00029193930201120794, 0.00026655327574936377, 0.0002411672494875196, 0.0002284742363565975, 0.00021578122322567542]\n",
      "[0.0005648390843260327, 0.0004125229267549677, 0.00035540436766581834, 0.00032367183483851314, 0.0002855927954457469, 0.0002792462888802858, 0.0002411672494875196]\n",
      "[0.0006727296959388705, 0.0005394530580641886, 0.0004696414858441171, 0.00039982991362404565, 0.00036175087423127937, 0.0003427113545348963, 0.00030463231514213]\n",
      "[0.0007361947615934809, 0.0006727296959388705, 0.0005648390843260327, 0.0004886810055405003, 0.000450601966147734, 0.0004379089530168119, 0.0003744438873622015]\n",
      "[0.0007806203075517082, 0.0007171552418970978, 0.0006981157222007146, 0.0005838786040224159, 0.0005204135383678055, 0.0005013740186714223, 0.00044425545958227296]\n",
      "[0.0007806203075517082, 0.000748887774724403, 0.0007108087353316367, 0.0006156111368497211, 0.0005965716171533379, 0.0005711855908914938, 0.0005457995646296496]\n",
      "[0.0008821644125990848, 0.0007679272944207861, 0.0007235017484625587, 0.0006219576434151822, 0.0005902251105878768, 0.00060926463028426, 0.000602918123718799]\n",
      "[0.0011867967277412149, 0.0009265899585573121, 0.0007996598272480913, 0.0006917692156352535, 0.0006346506565461042, 0.000602918123718799, 0.0005902251105878768]\n"
     ]
    }
   ],
   "source": [
    "NOVs = []\n",
    "COVs = []\n",
    "HitNOVs = []\n",
    "HitCOVs = []\n",
    "for lambda_ in tqdm(lambdas):\n",
    "    top_n_size = 20\n",
    "    top_n_lists_g = []\n",
    "    top_n_items_g = []\n",
    "    for groups in groups_n:\n",
    "\n",
    "        group_size = len(groups[0])\n",
    "        top_n_lists = []\n",
    "        top_n_items = pd.DataFrame()\n",
    "\n",
    "        for group in groups:\n",
    "            rating_table = pd.DataFrame() \n",
    "            for member in group:\n",
    "                prediction = svd[svd['uid'] == member].copy()\n",
    "                if len(rating_table) == 0:\n",
    "                    rating_table = prediction\n",
    "                else:\n",
    "                    rating_table = rating_table.set_index('tid').add(prediction.set_index('tid'), fill_value=0).reset_index()\n",
    "            rating_table['rating'] /= group_size \n",
    "            rating_table['rating'] *= lambda_\n",
    "            pop = df_pop.copy()\n",
    "            pop['rating'] *= (1 - lambda_)\n",
    "            rating_table = rating_table.set_index('tid').add(pop.set_index('tid'), fill_value=0).reset_index()\n",
    "    #         rating_table = rating_table[rating_table['count'] == group_size]\n",
    "            rating_table = rating_table.sort_values(by=['rating'],  ascending=False)\n",
    "            rating_table = rating_table[:top_n_size]\n",
    "            \n",
    "            top_n_list = []\n",
    "            for _, row in rating_table.iterrows():\n",
    "                top_n_list.append(row[0])\n",
    "            top_n_lists.append(top_n_list)\n",
    "            \n",
    "            if len(top_n_items) == 0:\n",
    "                top_n_items = rating_table\n",
    "            else:\n",
    "                top_n_items = top_n_items.set_index('tid').add(rating_table.set_index('tid'), fill_value=0).reset_index()\n",
    "                \n",
    "        top_n_lists_g.append(top_n_lists)   \n",
    "        top_n_items_g.append(top_n_items)\n",
    "        \n",
    "    COV = []    \n",
    "    NOV = []\n",
    "    HitNOV = []\n",
    "    HitCOV = []\n",
    "    for i in range(len(groups_n)):\n",
    "        groups = groups_n[i]\n",
    "        top_n_lists = top_n_lists_g[i]\n",
    "        top_n_items = top_n_items_g[i]\n",
    "\n",
    "        \n",
    "        nov = 0\n",
    "        hitNov = 0\n",
    "        hits = np.zeros(len(df['tid'].unique()), dtype=bool)\n",
    "        for j in (range(len(groups))):\n",
    "\n",
    "            group = groups[j]\n",
    "            top_n_list = top_n_lists[j]\n",
    "            \n",
    "            for k in range(len(group)):\n",
    "                for l in range(top_n_size):\n",
    "                    uid = group[k]\n",
    "                    tid = top_n_list[l]\n",
    "                    t = test[test['uid'] == uid]\n",
    "                    t = t[t['tid'] == tid]\n",
    "                    nov += (1-pop_dict[tid])\n",
    "                    if len(t) > 0:\n",
    "                        hits[int(tid)] = True\n",
    "                        hitNov += (1-pop_dict[tid])\n",
    "        NOV.append(nov/top_n_size/(len(groups)*len(groups[0])))\n",
    "        COV.append(len(top_n_items)/len(df['tid'].unique()))\n",
    "        HitNOV.append(hitNov/top_n_size/(len(groups)*len(groups[0])))\n",
    "        HitCOV.append(list(hits).count(True)/len(df['tid'].unique()))\n",
    "    NOVs.append(NOV)\n",
    "    COVs.append(COV)\n",
    "    HitNOVs.append(HitNOV)\n",
    "    HitCOVs.append(HitCOV)\n",
    "    \n",
    "for NOV in NOVs:\n",
    "    print(NOV)\n",
    "print()\n",
    "for HitNOV in HitNOVs:\n",
    "    print(HitNOV)\n",
    "print()  \n",
    "for COV in COVs:\n",
    "    print(COV)\n",
    "print()    \n",
    "for HitCOV in HitCOVs:\n",
    "    print(HitCOV)"
   ]
  },
  {
   "cell_type": "code",
   "execution_count": null,
   "metadata": {},
   "outputs": [],
   "source": []
  }
 ],
 "metadata": {
  "kernelspec": {
   "display_name": "Python 3",
   "language": "python",
   "name": "python3"
  },
  "language_info": {
   "codemirror_mode": {
    "name": "ipython",
    "version": 3
   },
   "file_extension": ".py",
   "mimetype": "text/x-python",
   "name": "python",
   "nbconvert_exporter": "python",
   "pygments_lexer": "ipython3",
   "version": "3.6.12"
  }
 },
 "nbformat": 4,
 "nbformat_minor": 4
}
