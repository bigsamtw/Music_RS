{
 "cells": [
  {
   "cell_type": "code",
   "execution_count": 1,
   "metadata": {},
   "outputs": [],
   "source": [
    "import os \n",
    "import math\n",
    "import random\n",
    "import numpy as np\n",
    "import pandas as pd\n",
    "from tqdm.notebook import tqdm\n",
    "from numpy import count_nonzero"
   ]
  },
  {
   "cell_type": "code",
   "execution_count": 2,
   "metadata": {},
   "outputs": [],
   "source": [
    "dir_ = './20'\n",
    "g_type = 'h'\n",
    "p = pd.read_pickle(os.path.join(dir_, g_type + '_p.pkl'))\n",
    "r = pd.read_pickle(os.path.join(dir_, g_type + '_r.pkl'))\n",
    "n = pd.read_pickle(os.path.join(dir_, g_type + '_n.pkl'))"
   ]
  },
  {
   "cell_type": "code",
   "execution_count": 3,
   "metadata": {},
   "outputs": [],
   "source": [
    "# Choose lambda\n",
    "opt_lambdas = []\n",
    "for round_ in range(5):\n",
    "    g_lambdas = []\n",
    "    for g_size in range(2,9):\n",
    "        train = p[p['group_size']==g_size]\n",
    "        num_group = len(train)/11\n",
    "        train = train[(train['gid']<int(num_group/5*round_)) | ((train['gid']>=int(num_group/5*(round_+1))))]\n",
    "        \n",
    "        p_lambdas = []\n",
    "        for lambda_ in [0.0, 0.1, 0.2, 0.3, 0.4, 0.5, 0.6, 0.7, 0.8, 0.9, 1.0]:\n",
    "            p_lambda = train[train['lambda']==lambda_]\n",
    "            p_lambdas.append(sum(p_lambda['values'].values)/len(p_lambda['values'].values))\n",
    "        g_lambdas.append(p_lambdas.index(max(p_lambdas))/10)\n",
    "    opt_lambdas.append(g_lambdas)"
   ]
  },
  {
   "cell_type": "code",
   "execution_count": 4,
   "metadata": {},
   "outputs": [
    {
     "data": {
      "text/plain": [
       "[[0.6, 0.5, 0.4, 0.4, 0.4, 0.4, 0.4],\n",
       " [0.6, 0.5, 0.5, 0.4, 0.4, 0.4, 0.4],\n",
       " [0.6, 0.5, 0.5, 0.5, 0.5, 0.4, 0.4],\n",
       " [0.6, 0.5, 0.5, 0.4, 0.4, 0.4, 0.4],\n",
       " [0.6, 0.5, 0.5, 0.4, 0.4, 0.5, 0.4]]"
      ]
     },
     "execution_count": 4,
     "metadata": {},
     "output_type": "execute_result"
    }
   ],
   "source": [
    "opt_lambdas"
   ]
  },
  {
   "cell_type": "code",
   "execution_count": 5,
   "metadata": {},
   "outputs": [],
   "source": [
    "# opt_lambdas = []\n",
    "# for i in range(5):\n",
    "#     opt_lambdas.append(list(np.ones(7)))\n",
    "# opt_lambdas"
   ]
  },
  {
   "cell_type": "code",
   "execution_count": 6,
   "metadata": {},
   "outputs": [],
   "source": [
    "# Evaluation\n",
    "p_list = []\n",
    "r_list = []\n",
    "n_list = []\n",
    "for round_ in range(5):\n",
    "    g_lambdas = opt_lambdas[round_]\n",
    "    ps = []\n",
    "    rs = []\n",
    "    ns = []\n",
    "    for g_size in range(2,9):\n",
    "        lambda_ = g_lambdas[g_size-2]\n",
    "        test_p = p[p['group_size']==g_size]\n",
    "        test_r = r[r['group_size']==g_size]\n",
    "        test_n = n[n['group_size']==g_size]\n",
    "        num_group = len(test_p)/11\n",
    "        test_p = test_p[(test_p['gid']>=int(num_group/5*round_)) & ((test_p['gid']<int(num_group/5*(round_+1))))]\n",
    "        test_r = test_r[(test_r['gid']>=int(num_group/5*round_)) & ((test_r['gid']<int(num_group/5*(round_+1))))]\n",
    "        test_n = test_n[(test_n['gid']>=int(num_group/5*round_)) & ((test_n['gid']<int(num_group/5*(round_+1))))]\n",
    "        \n",
    "        test_p = test_p[test_p['lambda']==lambda_]['values'].values\n",
    "        test_r = test_r[test_r['lambda']==lambda_]['values'].values\n",
    "        test_n = test_n[test_n['lambda']==lambda_]['values'].values\n",
    "        ps.append(sum(test_p)/len(test_p))\n",
    "        rs.append(sum(test_r)/len(test_r))\n",
    "        ns.append(sum(test_n)/len(test_n))\n",
    "    p_list.append(ps)\n",
    "    r_list.append(rs)\n",
    "    n_list.append(ns)"
   ]
  },
  {
   "cell_type": "code",
   "execution_count": 7,
   "metadata": {},
   "outputs": [],
   "source": [
    "p_avg = []\n",
    "r_avg = []\n",
    "n_avg = []\n",
    "for g_size in range(7):\n",
    "    precision = 0\n",
    "    recall = 0\n",
    "    nDCG = 0\n",
    "    for round_ in range(5):\n",
    "        precision += p_list[round_][g_size]\n",
    "        recall += r_list[round_][g_size]\n",
    "        nDCG += n_list[round_][g_size]\n",
    "    p_avg.append(precision/5)\n",
    "    r_avg.append(recall/5)\n",
    "    n_avg.append(nDCG/5)"
   ]
  },
  {
   "cell_type": "code",
   "execution_count": 8,
   "metadata": {},
   "outputs": [
    {
     "data": {
      "text/plain": [
       "[0.20444896115627825,\n",
       " 0.185326536643026,\n",
       " 0.16949999999999998,\n",
       " 0.17375757575757575,\n",
       " 0.16607230392156863,\n",
       " 0.16872841444270015,\n",
       " 0.17]"
      ]
     },
     "execution_count": 8,
     "metadata": {},
     "output_type": "execute_result"
    }
   ],
   "source": [
    "p_avg"
   ]
  },
  {
   "cell_type": "code",
   "execution_count": 9,
   "metadata": {},
   "outputs": [
    {
     "name": "stdout",
     "output_type": "stream",
     "text": [
      "0.17683339884587837\n",
      "0.00446654659370285\n",
      "0.09352047142247842\n"
     ]
    }
   ],
   "source": [
    "print(sum(p_avg)/len(p_avg))\n",
    "print(sum(r_avg)/len(r_avg))\n",
    "print(sum(n_avg)/len(n_avg))"
   ]
  },
  {
   "cell_type": "code",
   "execution_count": null,
   "metadata": {},
   "outputs": [],
   "source": []
  },
  {
   "cell_type": "code",
   "execution_count": null,
   "metadata": {},
   "outputs": [],
   "source": []
  }
 ],
 "metadata": {
  "kernelspec": {
   "display_name": "Python 3",
   "language": "python",
   "name": "python3"
  },
  "language_info": {
   "codemirror_mode": {
    "name": "ipython",
    "version": 3
   },
   "file_extension": ".py",
   "mimetype": "text/x-python",
   "name": "python",
   "nbconvert_exporter": "python",
   "pygments_lexer": "ipython3",
   "version": "3.6.13"
  }
 },
 "nbformat": 4,
 "nbformat_minor": 4
}
