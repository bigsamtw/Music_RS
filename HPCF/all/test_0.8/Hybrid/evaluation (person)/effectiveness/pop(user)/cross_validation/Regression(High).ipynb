{
 "cells": [
  {
   "cell_type": "code",
   "execution_count": 19,
   "id": "0368a093",
   "metadata": {},
   "outputs": [],
   "source": [
    "import os \n",
    "import math\n",
    "import random\n",
    "import numpy as np\n",
    "import pandas as pd\n",
    "import matplotlib.pyplot as plt\n",
    "from tqdm.notebook import tqdm\n",
    "from sklearn.linear_model import LinearRegression\n",
    "from sklearn import preprocessing, linear_model\n",
    "from sklearn.pipeline import make_pipeline\n",
    "from sklearn.preprocessing import PolynomialFeatures\n",
    "\n",
    "dir_ = '../../../../../data/'\n",
    "group_dir_ = '../../../../../data/groups/high'"
   ]
  },
  {
   "cell_type": "code",
   "execution_count": 2,
   "id": "3d9679a7",
   "metadata": {},
   "outputs": [
    {
     "data": {
      "text/plain": [
       "(953, 157567)"
      ]
     },
     "execution_count": 2,
     "metadata": {},
     "output_type": "execute_result"
    }
   ],
   "source": [
    "file_name = 'normalized_to_rating_filter_track_5_user_100.csv'\n",
    "df = pd.read_pickle(os.path.join(dir_, file_name[:-3] + 'pkl'))\n",
    "svd = pd.read_pickle(os.path.join(dir_, 'prediction_svd_top_N_' + file_name[:-3] + 'pkl'))\n",
    "train = np.loadtxt(os.path.join(dir_, 'rating_matrix_normalized_to_rating_filter_track_5_user_100.csv'), delimiter=',')\n",
    "test = pd.read_pickle(os.path.join(dir_, 'test_' + file_name[:-3] + 'pkl'))\n",
    "test.sort_values(by=['uid','tid'])\n",
    "\n",
    "num_user = len(train)\n",
    "num_track = len(train[0])\n",
    "num_user, num_track"
   ]
  },
  {
   "cell_type": "code",
   "execution_count": 3,
   "id": "455ec193",
   "metadata": {},
   "outputs": [],
   "source": [
    "groups_n =[]\n",
    "group_sizes = ['2', '3', '4', '5', '6', '7', '8']\n",
    "for i in range(len(group_sizes)):\n",
    "    groups = np.loadtxt(os.path.join(group_dir_, group_sizes[i] + '.csv'), delimiter=',')\n",
    "    groups_n.append(groups)"
   ]
  },
  {
   "cell_type": "code",
   "execution_count": 4,
   "id": "4701eff6",
   "metadata": {},
   "outputs": [],
   "source": [
    "def pearson_correlation(u1_index, u2_index):\n",
    "        result = 0.0\n",
    "        user1_data = train[u1_index]\n",
    "        user2_data = train[u2_index]\n",
    "\n",
    "        rx_avg = user_average_rating(user1_data)\n",
    "        ry_avg = user_average_rating(user2_data)\n",
    "        sxy = common_items(user1_data, user2_data)\n",
    "\n",
    "        top_result = 0.0\n",
    "        bottom_left_result = 0.0\n",
    "        bottom_right_result = 0.0\n",
    "        for item in sxy:\n",
    "            rxs = user1_data[item]\n",
    "            rys = user2_data[item]\n",
    "\n",
    "            top_result += (rxs - rx_avg)*(rys - ry_avg)\n",
    "            bottom_left_result += pow((rxs - rx_avg), 2)\n",
    "            bottom_right_result += pow((rys - ry_avg), 2)\n",
    "        bottom_left_result = math.sqrt(bottom_left_result)\n",
    "        bottom_right_result = math.sqrt(bottom_right_result)\n",
    "        \n",
    "        ################################################################\n",
    "        if (bottom_left_result * bottom_right_result) == 0:\n",
    "            return -2, -2 # dump the data\n",
    "        ################################################################\n",
    "        \n",
    "        result = top_result/(bottom_left_result * bottom_right_result)\n",
    "        return len(sxy), result\n",
    "\n",
    "def user_average_rating(u):\n",
    "    avg_rating = 0.0\n",
    "    for i in u:\n",
    "        avg_rating += i\n",
    "    avg_rating /= len(u) * 1.0\n",
    "    return avg_rating\n",
    "\n",
    "def common_items(u1, u2):\n",
    "    result = []\n",
    "    for i in range(num_track):\n",
    "        if u1[i] > 0 and u2[i] > 0:\n",
    "            result.append(i)\n",
    "    return result"
   ]
  },
  {
   "cell_type": "code",
   "execution_count": 5,
   "id": "dc332777",
   "metadata": {},
   "outputs": [
    {
     "data": {
      "application/vnd.jupyter.widget-view+json": {
       "model_id": "5a4ab59b6aab4b33b7e13097bd5e8977",
       "version_major": 2,
       "version_minor": 0
      },
      "text/plain": [
       "  0%|          | 0/7 [00:00<?, ?it/s]"
      ]
     },
     "metadata": {},
     "output_type": "display_data"
    }
   ],
   "source": [
    "similarities = []\n",
    "for groups in tqdm(groups_n):\n",
    "    for gid in range(len(groups)):\n",
    "        similarity = []\n",
    "        group = groups[gid]\n",
    "        for i in range(len(group)):\n",
    "            for j in range(i+1, len(group)):\n",
    "                u1 = int(group[i])\n",
    "                u2 = int(group[j])\n",
    "                c, p = pearson_correlation(u1, u2)\n",
    "                p = p * min(c,200) / 200\n",
    "                similarity.append(p)\n",
    "        similarities.append([len(group), gid, sum(similarity)/len(similarity)])"
   ]
  },
  {
   "cell_type": "code",
   "execution_count": 6,
   "id": "62bc799a",
   "metadata": {},
   "outputs": [
    {
     "data": {
      "text/html": [
       "<div>\n",
       "<style scoped>\n",
       "    .dataframe tbody tr th:only-of-type {\n",
       "        vertical-align: middle;\n",
       "    }\n",
       "\n",
       "    .dataframe tbody tr th {\n",
       "        vertical-align: top;\n",
       "    }\n",
       "\n",
       "    .dataframe thead th {\n",
       "        text-align: right;\n",
       "    }\n",
       "</style>\n",
       "<table border=\"1\" class=\"dataframe\">\n",
       "  <thead>\n",
       "    <tr style=\"text-align: right;\">\n",
       "      <th></th>\n",
       "      <th>group_size</th>\n",
       "      <th>gid</th>\n",
       "      <th>similarity</th>\n",
       "    </tr>\n",
       "  </thead>\n",
       "  <tbody>\n",
       "    <tr>\n",
       "      <th>0</th>\n",
       "      <td>2</td>\n",
       "      <td>0</td>\n",
       "      <td>0.581594</td>\n",
       "    </tr>\n",
       "    <tr>\n",
       "      <th>1</th>\n",
       "      <td>2</td>\n",
       "      <td>1</td>\n",
       "      <td>0.564442</td>\n",
       "    </tr>\n",
       "    <tr>\n",
       "      <th>2</th>\n",
       "      <td>2</td>\n",
       "      <td>2</td>\n",
       "      <td>0.591257</td>\n",
       "    </tr>\n",
       "    <tr>\n",
       "      <th>3</th>\n",
       "      <td>2</td>\n",
       "      <td>3</td>\n",
       "      <td>0.557180</td>\n",
       "    </tr>\n",
       "    <tr>\n",
       "      <th>4</th>\n",
       "      <td>2</td>\n",
       "      <td>4</td>\n",
       "      <td>0.552947</td>\n",
       "    </tr>\n",
       "    <tr>\n",
       "      <th>...</th>\n",
       "      <td>...</td>\n",
       "      <td>...</td>\n",
       "      <td>...</td>\n",
       "    </tr>\n",
       "    <tr>\n",
       "      <th>1098</th>\n",
       "      <td>8</td>\n",
       "      <td>48</td>\n",
       "      <td>0.671589</td>\n",
       "    </tr>\n",
       "    <tr>\n",
       "      <th>1099</th>\n",
       "      <td>8</td>\n",
       "      <td>49</td>\n",
       "      <td>0.662344</td>\n",
       "    </tr>\n",
       "    <tr>\n",
       "      <th>1100</th>\n",
       "      <td>8</td>\n",
       "      <td>50</td>\n",
       "      <td>0.624626</td>\n",
       "    </tr>\n",
       "    <tr>\n",
       "      <th>1101</th>\n",
       "      <td>8</td>\n",
       "      <td>51</td>\n",
       "      <td>0.618815</td>\n",
       "    </tr>\n",
       "    <tr>\n",
       "      <th>1102</th>\n",
       "      <td>8</td>\n",
       "      <td>52</td>\n",
       "      <td>0.658227</td>\n",
       "    </tr>\n",
       "  </tbody>\n",
       "</table>\n",
       "<p>1103 rows × 3 columns</p>\n",
       "</div>"
      ],
      "text/plain": [
       "      group_size  gid  similarity\n",
       "0              2    0    0.581594\n",
       "1              2    1    0.564442\n",
       "2              2    2    0.591257\n",
       "3              2    3    0.557180\n",
       "4              2    4    0.552947\n",
       "...          ...  ...         ...\n",
       "1098           8   48    0.671589\n",
       "1099           8   49    0.662344\n",
       "1100           8   50    0.624626\n",
       "1101           8   51    0.618815\n",
       "1102           8   52    0.658227\n",
       "\n",
       "[1103 rows x 3 columns]"
      ]
     },
     "execution_count": 6,
     "metadata": {},
     "output_type": "execute_result"
    }
   ],
   "source": [
    "pd_similarity = pd.DataFrame(similarities, columns=['group_size', 'gid', 'similarity'])\n",
    "pd_similarity"
   ]
  },
  {
   "cell_type": "code",
   "execution_count": 7,
   "id": "00a1404a",
   "metadata": {},
   "outputs": [
    {
     "data": {
      "text/plain": [
       "0.6632880153318012"
      ]
     },
     "execution_count": 7,
     "metadata": {},
     "output_type": "execute_result"
    }
   ],
   "source": [
    "s = pd_similarity[pd_similarity['group_size']==8]['similarity']\n",
    "sum(s)/len(s)"
   ]
  },
  {
   "cell_type": "code",
   "execution_count": 8,
   "id": "895796e4",
   "metadata": {},
   "outputs": [],
   "source": [
    "pd_similarity.to_pickle(\"similarity_h.pkl\")\n",
    "pd_similarity = pd.read_pickle(\"similarity_h.pkl\")"
   ]
  },
  {
   "cell_type": "code",
   "execution_count": 9,
   "id": "7527eb65",
   "metadata": {},
   "outputs": [
    {
     "data": {
      "text/html": [
       "<div>\n",
       "<style scoped>\n",
       "    .dataframe tbody tr th:only-of-type {\n",
       "        vertical-align: middle;\n",
       "    }\n",
       "\n",
       "    .dataframe tbody tr th {\n",
       "        vertical-align: top;\n",
       "    }\n",
       "\n",
       "    .dataframe thead th {\n",
       "        text-align: right;\n",
       "    }\n",
       "</style>\n",
       "<table border=\"1\" class=\"dataframe\">\n",
       "  <thead>\n",
       "    <tr style=\"text-align: right;\">\n",
       "      <th></th>\n",
       "      <th>group_size</th>\n",
       "      <th>gid</th>\n",
       "      <th>similarity</th>\n",
       "    </tr>\n",
       "  </thead>\n",
       "  <tbody>\n",
       "    <tr>\n",
       "      <th>0</th>\n",
       "      <td>2</td>\n",
       "      <td>0</td>\n",
       "      <td>0.581594</td>\n",
       "    </tr>\n",
       "    <tr>\n",
       "      <th>1</th>\n",
       "      <td>2</td>\n",
       "      <td>1</td>\n",
       "      <td>0.564442</td>\n",
       "    </tr>\n",
       "    <tr>\n",
       "      <th>2</th>\n",
       "      <td>2</td>\n",
       "      <td>2</td>\n",
       "      <td>0.591257</td>\n",
       "    </tr>\n",
       "    <tr>\n",
       "      <th>3</th>\n",
       "      <td>2</td>\n",
       "      <td>3</td>\n",
       "      <td>0.557180</td>\n",
       "    </tr>\n",
       "    <tr>\n",
       "      <th>4</th>\n",
       "      <td>2</td>\n",
       "      <td>4</td>\n",
       "      <td>0.552947</td>\n",
       "    </tr>\n",
       "    <tr>\n",
       "      <th>...</th>\n",
       "      <td>...</td>\n",
       "      <td>...</td>\n",
       "      <td>...</td>\n",
       "    </tr>\n",
       "    <tr>\n",
       "      <th>1098</th>\n",
       "      <td>8</td>\n",
       "      <td>48</td>\n",
       "      <td>0.671589</td>\n",
       "    </tr>\n",
       "    <tr>\n",
       "      <th>1099</th>\n",
       "      <td>8</td>\n",
       "      <td>49</td>\n",
       "      <td>0.662344</td>\n",
       "    </tr>\n",
       "    <tr>\n",
       "      <th>1100</th>\n",
       "      <td>8</td>\n",
       "      <td>50</td>\n",
       "      <td>0.624626</td>\n",
       "    </tr>\n",
       "    <tr>\n",
       "      <th>1101</th>\n",
       "      <td>8</td>\n",
       "      <td>51</td>\n",
       "      <td>0.618815</td>\n",
       "    </tr>\n",
       "    <tr>\n",
       "      <th>1102</th>\n",
       "      <td>8</td>\n",
       "      <td>52</td>\n",
       "      <td>0.658227</td>\n",
       "    </tr>\n",
       "  </tbody>\n",
       "</table>\n",
       "<p>1103 rows × 3 columns</p>\n",
       "</div>"
      ],
      "text/plain": [
       "      group_size  gid  similarity\n",
       "0              2    0    0.581594\n",
       "1              2    1    0.564442\n",
       "2              2    2    0.591257\n",
       "3              2    3    0.557180\n",
       "4              2    4    0.552947\n",
       "...          ...  ...         ...\n",
       "1098           8   48    0.671589\n",
       "1099           8   49    0.662344\n",
       "1100           8   50    0.624626\n",
       "1101           8   51    0.618815\n",
       "1102           8   52    0.658227\n",
       "\n",
       "[1103 rows x 3 columns]"
      ]
     },
     "execution_count": 9,
     "metadata": {},
     "output_type": "execute_result"
    }
   ],
   "source": [
    "pd_similarity"
   ]
  },
  {
   "cell_type": "code",
   "execution_count": 10,
   "id": "6a175b3a",
   "metadata": {},
   "outputs": [
    {
     "data": {
      "text/plain": [
       "0.5815939176890574"
      ]
     },
     "execution_count": 10,
     "metadata": {},
     "output_type": "execute_result"
    }
   ],
   "source": [
    "pd_similarity[(pd_similarity['group_size']==2) & (pd_similarity['gid']==0)]['similarity'].values[0]"
   ]
  },
  {
   "cell_type": "code",
   "execution_count": 11,
   "id": "1ebe5a8f",
   "metadata": {},
   "outputs": [],
   "source": [
    "top_n = './50'\n",
    "g_type = 'h'\n",
    "p = pd.read_pickle(os.path.join(top_n, g_type + '_p.pkl'))\n",
    "r = pd.read_pickle(os.path.join(top_n, g_type + '_r.pkl'))\n",
    "n = pd.read_pickle(os.path.join(top_n, g_type + '_n.pkl'))"
   ]
  },
  {
   "cell_type": "code",
   "execution_count": 12,
   "id": "426433e5",
   "metadata": {},
   "outputs": [],
   "source": [
    "# Choose lambda\n",
    "opt_lambdas = []\n",
    "for g_size in range(2,9):\n",
    "    target_groups = p[p['group_size']==g_size]\n",
    "    for gid in target_groups['gid'].unique():\n",
    "        target_group = target_groups[target_groups['gid']==gid]\n",
    "        p_lambdas = []\n",
    "        for lambda_ in [0.0, 0.1, 0.2, 0.3, 0.4, 0.5, 0.6, 0.7, 0.8, 0.9, 1.0]:\n",
    "            p_lambda = target_group[target_group['lambda']==lambda_]\n",
    "            p_lambdas.append(sum(p_lambda['values'].values)/len(p_lambda['values'].values))\n",
    "        opt_lambda = p_lambdas.index(max(p_lambdas))/10\n",
    "        similarity = pd_similarity[(pd_similarity['group_size']==g_size) & (pd_similarity['gid']==gid)]['similarity'].values[0]\n",
    "        opt_lambdas.append([g_size, gid, similarity, opt_lambda])"
   ]
  },
  {
   "cell_type": "code",
   "execution_count": 13,
   "id": "42903ffa",
   "metadata": {},
   "outputs": [
    {
     "data": {
      "text/html": [
       "<div>\n",
       "<style scoped>\n",
       "    .dataframe tbody tr th:only-of-type {\n",
       "        vertical-align: middle;\n",
       "    }\n",
       "\n",
       "    .dataframe tbody tr th {\n",
       "        vertical-align: top;\n",
       "    }\n",
       "\n",
       "    .dataframe thead th {\n",
       "        text-align: right;\n",
       "    }\n",
       "</style>\n",
       "<table border=\"1\" class=\"dataframe\">\n",
       "  <thead>\n",
       "    <tr style=\"text-align: right;\">\n",
       "      <th></th>\n",
       "      <th>group_size</th>\n",
       "      <th>gid</th>\n",
       "      <th>similarity</th>\n",
       "      <th>opt_lambda</th>\n",
       "    </tr>\n",
       "  </thead>\n",
       "  <tbody>\n",
       "    <tr>\n",
       "      <th>0</th>\n",
       "      <td>2</td>\n",
       "      <td>0</td>\n",
       "      <td>0.581594</td>\n",
       "      <td>0.3</td>\n",
       "    </tr>\n",
       "    <tr>\n",
       "      <th>1</th>\n",
       "      <td>2</td>\n",
       "      <td>1</td>\n",
       "      <td>0.564442</td>\n",
       "      <td>0.6</td>\n",
       "    </tr>\n",
       "    <tr>\n",
       "      <th>2</th>\n",
       "      <td>2</td>\n",
       "      <td>2</td>\n",
       "      <td>0.591257</td>\n",
       "      <td>0.6</td>\n",
       "    </tr>\n",
       "    <tr>\n",
       "      <th>3</th>\n",
       "      <td>2</td>\n",
       "      <td>3</td>\n",
       "      <td>0.557180</td>\n",
       "      <td>0.8</td>\n",
       "    </tr>\n",
       "    <tr>\n",
       "      <th>4</th>\n",
       "      <td>2</td>\n",
       "      <td>4</td>\n",
       "      <td>0.552947</td>\n",
       "      <td>0.6</td>\n",
       "    </tr>\n",
       "    <tr>\n",
       "      <th>...</th>\n",
       "      <td>...</td>\n",
       "      <td>...</td>\n",
       "      <td>...</td>\n",
       "      <td>...</td>\n",
       "    </tr>\n",
       "    <tr>\n",
       "      <th>1098</th>\n",
       "      <td>8</td>\n",
       "      <td>48</td>\n",
       "      <td>0.671589</td>\n",
       "      <td>0.4</td>\n",
       "    </tr>\n",
       "    <tr>\n",
       "      <th>1099</th>\n",
       "      <td>8</td>\n",
       "      <td>49</td>\n",
       "      <td>0.662344</td>\n",
       "      <td>0.1</td>\n",
       "    </tr>\n",
       "    <tr>\n",
       "      <th>1100</th>\n",
       "      <td>8</td>\n",
       "      <td>50</td>\n",
       "      <td>0.624626</td>\n",
       "      <td>0.3</td>\n",
       "    </tr>\n",
       "    <tr>\n",
       "      <th>1101</th>\n",
       "      <td>8</td>\n",
       "      <td>51</td>\n",
       "      <td>0.618815</td>\n",
       "      <td>0.3</td>\n",
       "    </tr>\n",
       "    <tr>\n",
       "      <th>1102</th>\n",
       "      <td>8</td>\n",
       "      <td>52</td>\n",
       "      <td>0.658227</td>\n",
       "      <td>0.0</td>\n",
       "    </tr>\n",
       "  </tbody>\n",
       "</table>\n",
       "<p>1103 rows × 4 columns</p>\n",
       "</div>"
      ],
      "text/plain": [
       "      group_size  gid  similarity  opt_lambda\n",
       "0              2    0    0.581594         0.3\n",
       "1              2    1    0.564442         0.6\n",
       "2              2    2    0.591257         0.6\n",
       "3              2    3    0.557180         0.8\n",
       "4              2    4    0.552947         0.6\n",
       "...          ...  ...         ...         ...\n",
       "1098           8   48    0.671589         0.4\n",
       "1099           8   49    0.662344         0.1\n",
       "1100           8   50    0.624626         0.3\n",
       "1101           8   51    0.618815         0.3\n",
       "1102           8   52    0.658227         0.0\n",
       "\n",
       "[1103 rows x 4 columns]"
      ]
     },
     "execution_count": 13,
     "metadata": {},
     "output_type": "execute_result"
    }
   ],
   "source": [
    "pd_opt_lambda = pd.DataFrame(opt_lambdas, columns=['group_size', 'gid', 'similarity', 'opt_lambda'])\n",
    "pd_opt_lambda"
   ]
  },
  {
   "cell_type": "code",
   "execution_count": 14,
   "id": "81a5b8c5",
   "metadata": {},
   "outputs": [],
   "source": [
    "lambda_list = []\n",
    "# Evaluation\n",
    "precision_list = []\n",
    "recall_list = []\n",
    "nDCG_list = []\n",
    "for round_ in range(5):\n",
    "    precisions = []\n",
    "    recalls = []\n",
    "    nDCGs = []\n",
    "    # Training the regression model for choosing optimal lambda\n",
    "    for g_size in range(2,9):\n",
    "        pd_opt_lambda_g = pd_opt_lambda[pd_opt_lambda['group_size']==g_size]\n",
    "        num_group = len(pd_opt_lambda_g)\n",
    "        train = pd_opt_lambda_g[(pd_opt_lambda_g['gid']<int(num_group/5*round_)) | (pd_opt_lambda_g['gid']>=int(num_group/5*(round_+1)))]\n",
    "\n",
    "        X_train = train['similarity'].values\n",
    "        y_train = train['opt_lambda'].values\n",
    "        X_train = X_train[:, np.newaxis]\n",
    "        \n",
    "        lm = LinearRegression()\n",
    "        lm.fit(X_train, y_train)\n",
    "        \n",
    "        test_p = p[p['group_size']==g_size]\n",
    "        test_r = r[r['group_size']==g_size]\n",
    "        test_n = n[n['group_size']==g_size]\n",
    "        \n",
    "        test_p = test_p[(test_p['gid']>=int(num_group/5*round_)) & (test_p['gid']<int(num_group/5*(round_+1)))]\n",
    "        test_r = test_r[(test_r['gid']>=int(num_group/5*round_)) & (test_r['gid']<int(num_group/5*(round_+1)))]\n",
    "        test_n = test_n[(test_n['gid']>=int(num_group/5*round_)) & (test_n['gid']<int(num_group/5*(round_+1)))]\n",
    "        \n",
    "        precision = []\n",
    "        recall = []\n",
    "        nDCG = []\n",
    "        for gid in test_p['gid'].unique():\n",
    "            gt = pd_opt_lambda[(pd_opt_lambda['group_size']==g_size) & (pd_opt_lambda['gid']==gid)]['opt_lambda'].values[0]\n",
    "            similarity = pd_similarity[(pd_similarity['group_size']==g_size) & (pd_similarity['gid']==gid)]['similarity'].values[0]\n",
    "            opt_lambda = np.round(lm.predict([[similarity]])[0], 1)\n",
    "            lambda_list.append([g_size, gid, opt_lambda])\n",
    "            \n",
    "            precision.append(test_p[(test_p['gid']==gid) & (test_p['lambda']==opt_lambda)]['values'].values[0])\n",
    "            recall.append(test_r[(test_r['gid']==gid) & (test_r['lambda']==opt_lambda)]['values'].values[0])\n",
    "            nDCG.append(test_n[(test_n['gid']==gid) & (test_n['lambda']==opt_lambda)]['values'].values[0])\n",
    "        precisions.append(sum(precision)/len(precision))\n",
    "        recalls.append(sum(recall)/len(recall))\n",
    "        nDCGs.append(sum(nDCG)/len(nDCG))\n",
    "    precision_list.append(precisions)\n",
    "    recall_list.append(recalls)\n",
    "    nDCG_list.append(nDCGs)"
   ]
  },
  {
   "cell_type": "code",
   "execution_count": 18,
   "id": "2aa2898a",
   "metadata": {},
   "outputs": [
    {
     "name": "stdout",
     "output_type": "stream",
     "text": [
      "     group_size  gid  opt_lambda\n",
      "0             2    0         0.5\n",
      "1             2    1         0.5\n",
      "2             2    2         0.5\n",
      "3             2    3         0.5\n",
      "4             2    4         0.5\n",
      "..          ...  ...         ...\n",
      "956           2  402         0.4\n",
      "957           2  403         0.4\n",
      "958           2  404         0.4\n",
      "959           2  405         0.5\n",
      "960           2  406         0.4\n",
      "\n",
      "[407 rows x 3 columns]\n",
      "0.513513513513513\n",
      "      group_size  gid  opt_lambda\n",
      "81             3    0         0.4\n",
      "82             3    1         0.4\n",
      "83             3    2         0.4\n",
      "84             3    3         0.4\n",
      "85             3    4         0.4\n",
      "...          ...  ...         ...\n",
      "1004           3  232         0.5\n",
      "1005           3  233         0.5\n",
      "1006           3  234         0.5\n",
      "1007           3  235         0.5\n",
      "1008           3  236         0.5\n",
      "\n",
      "[237 rows x 3 columns]\n",
      "0.48185654008438805\n",
      "      group_size  gid  opt_lambda\n",
      "128            4    0         0.4\n",
      "129            4    1         0.4\n",
      "130            4    2         0.4\n",
      "131            4    3         0.4\n",
      "132            4    4         0.4\n",
      "...          ...  ...         ...\n",
      "1034           4  145         0.4\n",
      "1035           4  146         0.4\n",
      "1036           4  147         0.4\n",
      "1037           4  148         0.4\n",
      "1038           4  149         0.4\n",
      "\n",
      "[150 rows x 3 columns]\n",
      "0.42066666666666597\n",
      "      group_size  gid  opt_lambda\n",
      "158            5    0         0.4\n",
      "159            5    1         0.4\n",
      "160            5    2         0.4\n",
      "161            5    3         0.4\n",
      "162            5    4         0.3\n",
      "...          ...  ...         ...\n",
      "1056           5  103         0.4\n",
      "1057           5  104         0.4\n",
      "1058           5  105         0.4\n",
      "1059           5  106         0.4\n",
      "1060           5  107         0.4\n",
      "\n",
      "[108 rows x 3 columns]\n",
      "0.39351851851851777\n",
      "      group_size  gid  opt_lambda\n",
      "179            6    0         0.3\n",
      "180            6    1         0.3\n",
      "181            6    2         0.3\n",
      "182            6    3         0.3\n",
      "183            6    4         0.3\n",
      "...          ...  ...         ...\n",
      "1073           6   77         0.4\n",
      "1074           6   78         0.3\n",
      "1075           6   79         0.4\n",
      "1076           6   80         0.3\n",
      "1077           6   81         0.3\n",
      "\n",
      "[82 rows x 3 columns]\n",
      "0.3134146341463415\n",
      "      group_size  gid  opt_lambda\n",
      "195            7    0         0.3\n",
      "196            7    1         0.3\n",
      "197            7    2         0.3\n",
      "198            7    3         0.3\n",
      "199            7    4         0.3\n",
      "...          ...  ...         ...\n",
      "1087           7   61         0.3\n",
      "1088           7   62         0.3\n",
      "1089           7   63         0.3\n",
      "1090           7   64         0.3\n",
      "1091           7   65         0.3\n",
      "\n",
      "[66 rows x 3 columns]\n",
      "0.3272727272727276\n",
      "      group_size  gid  opt_lambda\n",
      "208            8    0         0.3\n",
      "209            8    1         0.3\n",
      "210            8    2         0.2\n",
      "211            8    3         0.2\n",
      "212            8    4         0.3\n",
      "213            8    5         0.3\n",
      "214            8    6         0.3\n",
      "215            8    7         0.3\n",
      "216            8    8         0.3\n",
      "217            8    9         0.3\n",
      "427            8   10         0.3\n",
      "428            8   11         0.3\n",
      "429            8   12         0.3\n",
      "430            8   13         0.3\n",
      "431            8   14         0.3\n",
      "432            8   15         0.3\n",
      "433            8   16         0.3\n",
      "434            8   17         0.3\n",
      "435            8   18         0.3\n",
      "436            8   19         0.3\n",
      "437            8   20         0.3\n",
      "649            8   21         0.3\n",
      "650            8   22         0.2\n",
      "651            8   23         0.3\n",
      "652            8   24         0.3\n",
      "653            8   25         0.3\n",
      "654            8   26         0.3\n",
      "655            8   27         0.3\n",
      "656            8   28         0.3\n",
      "657            8   29         0.3\n",
      "658            8   30         0.3\n",
      "868            8   31         0.4\n",
      "869            8   32         0.3\n",
      "870            8   33         0.3\n",
      "871            8   34         0.4\n",
      "872            8   35         0.3\n",
      "873            8   36         0.3\n",
      "874            8   37         0.3\n",
      "875            8   38         0.4\n",
      "876            8   39         0.3\n",
      "877            8   40         0.3\n",
      "878            8   41         0.3\n",
      "1092           8   42         0.4\n",
      "1093           8   43         0.3\n",
      "1094           8   44         0.4\n",
      "1095           8   45         0.4\n",
      "1096           8   46         0.3\n",
      "1097           8   47         0.3\n",
      "1098           8   48         0.3\n",
      "1099           8   49         0.3\n",
      "1100           8   50         0.4\n",
      "1101           8   51         0.4\n",
      "1102           8   52         0.3\n",
      "0.3094339622641512\n"
     ]
    }
   ],
   "source": [
    "chosen_lambda = pd.DataFrame(lambda_list, columns=['group_size', 'gid', 'opt_lambda'])\n",
    "for g_size in range(2,9):\n",
    "    chosen_lambda_g = chosen_lambda[chosen_lambda['group_size']==g_size]\n",
    "    print(chosen_lambda_g)\n",
    "    print(sum(chosen_lambda_g['opt_lambda'])/len(chosen_lambda_g['opt_lambda']))"
   ]
  },
  {
   "cell_type": "code",
   "execution_count": 16,
   "id": "d7525186",
   "metadata": {},
   "outputs": [],
   "source": [
    "p_avg = []\n",
    "r_avg = []\n",
    "n_avg = []\n",
    "for g_size in range(7):\n",
    "    precision = 0\n",
    "    recall = 0\n",
    "    nDCG = 0\n",
    "    for round_ in range(5):\n",
    "        precision += precision_list[round_][g_size]\n",
    "        recall += recall_list[round_][g_size]\n",
    "        nDCG += nDCG_list[round_][g_size]\n",
    "    p_avg.append(precision/5)\n",
    "    r_avg.append(recall/5)\n",
    "    n_avg.append(nDCG/5)"
   ]
  },
  {
   "cell_type": "code",
   "execution_count": 17,
   "id": "e4711c16",
   "metadata": {},
   "outputs": [
    {
     "name": "stdout",
     "output_type": "stream",
     "text": [
      "0.14646469886107752\n",
      "0.009363523035220062\n",
      "0.07659649449582252\n"
     ]
    }
   ],
   "source": [
    "print(sum(p_avg)/len(p_avg))\n",
    "print(sum(r_avg)/len(r_avg))\n",
    "print(sum(n_avg)/len(n_avg))"
   ]
  },
  {
   "cell_type": "code",
   "execution_count": null,
   "id": "179c6f20",
   "metadata": {},
   "outputs": [],
   "source": []
  },
  {
   "cell_type": "code",
   "execution_count": 20,
   "id": "b09891dc",
   "metadata": {},
   "outputs": [
    {
     "data": {
      "image/png": "[encoded data removed]",
      "text/plain": [
       "<Figure size 432x288 with 1 Axes>"
      ]
     },
     "metadata": {
      "needs_background": "light"
     },
     "output_type": "display_data"
    },
    {
     "data": {
      "image/png": "[encoded data removed]",
      "text/plain": [
       "<Figure size 432x288 with 1 Axes>"
      ]
     },
     "metadata": {
      "needs_background": "light"
     },
     "output_type": "display_data"
    },
    {
     "data": {
      "image/png": "[encoded data removed]",
      "text/plain": [
       "<Figure size 432x288 with 1 Axes>"
      ]
     },
     "metadata": {
      "needs_background": "light"
     },
     "output_type": "display_data"
    },
    {
     "data": {
      "image/png": "[encoded data removed]",
      "text/plain": [
       "<Figure size 432x288 with 1 Axes>"
      ]
     },
     "metadata": {
      "needs_background": "light"
     },
     "output_type": "display_data"
    },
    {
     "data": {
      "image/png": "[encoded data removed]",
      "text/plain": [
       "<Figure size 432x288 with 1 Axes>"
      ]
     },
     "metadata": {
      "needs_background": "light"
     },
     "output_type": "display_data"
    },
    {
     "data": {
      "image/png": "[encoded data removed]",
      "text/plain": [
       "<Figure size 432x288 with 1 Axes>"
      ]
     },
     "metadata": {
      "needs_background": "light"
     },
     "output_type": "display_data"
    },
    {
     "data": {
      "image/png": "[encoded data removed]",
      "text/plain": [
       "<Figure size 432x288 with 1 Axes>"
      ]
     },
     "metadata": {
      "needs_background": "light"
     },
     "output_type": "display_data"
    }
   ],
   "source": [
    "for g_size in range(2,9):\n",
    "    train = pd_opt_lambda[pd_opt_lambda['group_size']==g_size]\n",
    "    X_train = train['similarity'].values\n",
    "    y_train = train['opt_lambda'].values\n",
    "    X_train = X_train[:, np.newaxis]\n",
    "\n",
    "    lm = LinearRegression()\n",
    "    lm.fit(X_train, y_train)\n",
    "    \n",
    "    plt.scatter(X_train, y_train, color='red')\n",
    "    plt.plot(X_train, lm.predict(X_train),color='blue',linewidth=1)\n",
    "    plt.show()"
   ]
  },
  {
   "cell_type": "code",
   "execution_count": null,
   "id": "cacce124",
   "metadata": {},
   "outputs": [],
   "source": []
  }
 ],
 "metadata": {
  "kernelspec": {
   "display_name": "Python 3",
   "language": "python",
   "name": "python3"
  },
  "language_info": {
   "codemirror_mode": {
    "name": "ipython",
    "version": 3
   },
   "file_extension": ".py",
   "mimetype": "text/x-python",
   "name": "python",
   "nbconvert_exporter": "python",
   "pygments_lexer": "ipython3",
   "version": "3.6.13"
  }
 },
 "nbformat": 4,
 "nbformat_minor": 5
}
