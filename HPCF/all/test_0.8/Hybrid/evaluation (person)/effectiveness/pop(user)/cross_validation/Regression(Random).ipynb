{
 "cells": [
  {
   "cell_type": "code",
   "execution_count": 27,
   "id": "0368a093",
   "metadata": {},
   "outputs": [],
   "source": [
    "import os \n",
    "import math\n",
    "import random\n",
    "import numpy as np\n",
    "import pandas as pd\n",
    "import matplotlib.pyplot as plt\n",
    "from tqdm.notebook import tqdm\n",
    "from sklearn.linear_model import LinearRegression\n",
    "from sklearn import preprocessing, linear_model\n",
    "from sklearn.pipeline import make_pipeline\n",
    "from sklearn.preprocessing import PolynomialFeatures\n",
    "\n",
    "dir_ = '../../../../../data/'\n",
    "group_dir_ = '../../../../../data/groups/random'"
   ]
  },
  {
   "cell_type": "code",
   "execution_count": 4,
   "id": "3d9679a7",
   "metadata": {},
   "outputs": [
    {
     "data": {
      "text/plain": [
       "(953, 157567)"
      ]
     },
     "execution_count": 4,
     "metadata": {},
     "output_type": "execute_result"
    }
   ],
   "source": [
    "file_name = 'normalized_to_rating_filter_track_5_user_100.csv'\n",
    "df = pd.read_pickle(os.path.join(dir_, file_name[:-3] + 'pkl'))\n",
    "svd = pd.read_pickle(os.path.join(dir_, 'prediction_svd_top_N_' + file_name[:-3] + 'pkl'))\n",
    "train = np.loadtxt(os.path.join(dir_, 'rating_matrix_normalized_to_rating_filter_track_5_user_100.csv'), delimiter=',')\n",
    "test = pd.read_pickle(os.path.join(dir_, 'test_' + file_name[:-3] + 'pkl'))\n",
    "test.sort_values(by=['uid','tid'])\n",
    "\n",
    "num_user = len(train)\n",
    "num_track = len(train[0])\n",
    "num_user, num_track"
   ]
  },
  {
   "cell_type": "code",
   "execution_count": 5,
   "id": "455ec193",
   "metadata": {},
   "outputs": [],
   "source": [
    "groups_n =[]\n",
    "group_sizes = ['2', '3', '4', '5', '6', '7', '8']\n",
    "for i in range(len(group_sizes)):\n",
    "    groups = np.loadtxt(os.path.join(group_dir_, group_sizes[i] + '.csv'), delimiter=',')\n",
    "    groups_n.append(groups)"
   ]
  },
  {
   "cell_type": "code",
   "execution_count": null,
   "id": "4701eff6",
   "metadata": {},
   "outputs": [],
   "source": [
    "def pearson_correlation(u1_index, u2_index):\n",
    "        result = 0.0\n",
    "        user1_data = train[u1_index]\n",
    "        user2_data = train[u2_index]\n",
    "\n",
    "        rx_avg = user_average_rating(user1_data)\n",
    "        ry_avg = user_average_rating(user2_data)\n",
    "        sxy = common_items(user1_data, user2_data)\n",
    "\n",
    "        top_result = 0.0\n",
    "        bottom_left_result = 0.0\n",
    "        bottom_right_result = 0.0\n",
    "        for item in sxy:\n",
    "            rxs = user1_data[item]\n",
    "            rys = user2_data[item]\n",
    "\n",
    "            top_result += (rxs - rx_avg)*(rys - ry_avg)\n",
    "            bottom_left_result += pow((rxs - rx_avg), 2)\n",
    "            bottom_right_result += pow((rys - ry_avg), 2)\n",
    "        bottom_left_result = math.sqrt(bottom_left_result)\n",
    "        bottom_right_result = math.sqrt(bottom_right_result)\n",
    "        \n",
    "        ################################################################\n",
    "        if (bottom_left_result * bottom_right_result) == 0:\n",
    "            return -2, -2 # dump the data\n",
    "        ################################################################\n",
    "        \n",
    "        result = top_result/(bottom_left_result * bottom_right_result)\n",
    "        return len(sxy), result\n",
    "\n",
    "def user_average_rating(u):\n",
    "    avg_rating = 0.0\n",
    "    for i in u:\n",
    "        avg_rating += i\n",
    "    avg_rating /= len(u) * 1.0\n",
    "    return avg_rating\n",
    "\n",
    "def common_items(u1, u2):\n",
    "    result = []\n",
    "    for i in range(num_track):\n",
    "        if u1[i] > 0 and u2[i] > 0:\n",
    "            result.append(i)\n",
    "    return result"
   ]
  },
  {
   "cell_type": "code",
   "execution_count": null,
   "id": "dc332777",
   "metadata": {},
   "outputs": [],
   "source": [
    "similarities = []\n",
    "for groups in tqdm(groups_n):\n",
    "    for gid in range(len(groups)):\n",
    "        similarity = []\n",
    "        group = groups[gid]\n",
    "        for i in range(len(group)):\n",
    "            for j in range(i+1, len(group)):\n",
    "                u1 = int(group[i])\n",
    "                u2 = int(group[j])\n",
    "                c, p = pearson_correlation(u1, u2)\n",
    "                p = p * min(c,200) / 200\n",
    "                similarity.append(p)\n",
    "        similarities.append([len(group), gid, sum(similarity)/len(similarity)])"
   ]
  },
  {
   "cell_type": "code",
   "execution_count": null,
   "id": "62bc799a",
   "metadata": {},
   "outputs": [],
   "source": [
    "pd_similarity = pd.DataFrame(similarities, columns=['group_size', 'gid', 'similarity'])\n",
    "pd_similarity"
   ]
  },
  {
   "cell_type": "code",
   "execution_count": null,
   "id": "00a1404a",
   "metadata": {},
   "outputs": [],
   "source": [
    "s = pd_similarity[pd_similarity['group_size']==8]['similarity']\n",
    "sum(s)/len(s)"
   ]
  },
  {
   "cell_type": "code",
   "execution_count": 6,
   "id": "895796e4",
   "metadata": {},
   "outputs": [],
   "source": [
    "# pd_similarity.to_pickle(\"similarity_r.pkl\")\n",
    "pd_similarity = pd.read_pickle(\"similarity_r.pkl\")"
   ]
  },
  {
   "cell_type": "code",
   "execution_count": 7,
   "id": "806c2962",
   "metadata": {},
   "outputs": [
    {
     "data": {
      "text/html": [
       "<div>\n",
       "<style scoped>\n",
       "    .dataframe tbody tr th:only-of-type {\n",
       "        vertical-align: middle;\n",
       "    }\n",
       "\n",
       "    .dataframe tbody tr th {\n",
       "        vertical-align: top;\n",
       "    }\n",
       "\n",
       "    .dataframe thead th {\n",
       "        text-align: right;\n",
       "    }\n",
       "</style>\n",
       "<table border=\"1\" class=\"dataframe\">\n",
       "  <thead>\n",
       "    <tr style=\"text-align: right;\">\n",
       "      <th></th>\n",
       "      <th>group_size</th>\n",
       "      <th>gid</th>\n",
       "      <th>similarity</th>\n",
       "    </tr>\n",
       "  </thead>\n",
       "  <tbody>\n",
       "    <tr>\n",
       "      <th>0</th>\n",
       "      <td>2</td>\n",
       "      <td>0</td>\n",
       "      <td>0.723247</td>\n",
       "    </tr>\n",
       "    <tr>\n",
       "      <th>1</th>\n",
       "      <td>2</td>\n",
       "      <td>1</td>\n",
       "      <td>0.651373</td>\n",
       "    </tr>\n",
       "    <tr>\n",
       "      <th>2</th>\n",
       "      <td>2</td>\n",
       "      <td>2</td>\n",
       "      <td>0.389279</td>\n",
       "    </tr>\n",
       "    <tr>\n",
       "      <th>3</th>\n",
       "      <td>2</td>\n",
       "      <td>3</td>\n",
       "      <td>0.257957</td>\n",
       "    </tr>\n",
       "    <tr>\n",
       "      <th>4</th>\n",
       "      <td>2</td>\n",
       "      <td>4</td>\n",
       "      <td>0.070724</td>\n",
       "    </tr>\n",
       "    <tr>\n",
       "      <th>...</th>\n",
       "      <td>...</td>\n",
       "      <td>...</td>\n",
       "      <td>...</td>\n",
       "    </tr>\n",
       "    <tr>\n",
       "      <th>1629</th>\n",
       "      <td>8</td>\n",
       "      <td>114</td>\n",
       "      <td>0.299821</td>\n",
       "    </tr>\n",
       "    <tr>\n",
       "      <th>1630</th>\n",
       "      <td>8</td>\n",
       "      <td>115</td>\n",
       "      <td>0.492225</td>\n",
       "    </tr>\n",
       "    <tr>\n",
       "      <th>1631</th>\n",
       "      <td>8</td>\n",
       "      <td>116</td>\n",
       "      <td>0.388159</td>\n",
       "    </tr>\n",
       "    <tr>\n",
       "      <th>1632</th>\n",
       "      <td>8</td>\n",
       "      <td>117</td>\n",
       "      <td>0.298092</td>\n",
       "    </tr>\n",
       "    <tr>\n",
       "      <th>1633</th>\n",
       "      <td>8</td>\n",
       "      <td>118</td>\n",
       "      <td>0.180200</td>\n",
       "    </tr>\n",
       "  </tbody>\n",
       "</table>\n",
       "<p>1634 rows × 3 columns</p>\n",
       "</div>"
      ],
      "text/plain": [
       "      group_size  gid  similarity\n",
       "0              2    0    0.723247\n",
       "1              2    1    0.651373\n",
       "2              2    2    0.389279\n",
       "3              2    3    0.257957\n",
       "4              2    4    0.070724\n",
       "...          ...  ...         ...\n",
       "1629           8  114    0.299821\n",
       "1630           8  115    0.492225\n",
       "1631           8  116    0.388159\n",
       "1632           8  117    0.298092\n",
       "1633           8  118    0.180200\n",
       "\n",
       "[1634 rows x 3 columns]"
      ]
     },
     "execution_count": 7,
     "metadata": {},
     "output_type": "execute_result"
    }
   ],
   "source": [
    "pd_similarity"
   ]
  },
  {
   "cell_type": "code",
   "execution_count": 8,
   "id": "6a175b3a",
   "metadata": {},
   "outputs": [
    {
     "data": {
      "text/plain": [
       "0.7232472734701212"
      ]
     },
     "execution_count": 8,
     "metadata": {},
     "output_type": "execute_result"
    }
   ],
   "source": [
    "pd_similarity[(pd_similarity['group_size']==2) & (pd_similarity['gid']==0)]['similarity'].values[0]"
   ]
  },
  {
   "cell_type": "code",
   "execution_count": 9,
   "id": "1ebe5a8f",
   "metadata": {},
   "outputs": [],
   "source": [
    "top_n = './50'\n",
    "g_type = 'r'\n",
    "p = pd.read_pickle(os.path.join(top_n, g_type + '_p.pkl'))\n",
    "r = pd.read_pickle(os.path.join(top_n, g_type + '_r.pkl'))\n",
    "n = pd.read_pickle(os.path.join(top_n, g_type + '_n.pkl'))"
   ]
  },
  {
   "cell_type": "code",
   "execution_count": 10,
   "id": "426433e5",
   "metadata": {},
   "outputs": [],
   "source": [
    "# Choose lambda\n",
    "opt_lambdas = []\n",
    "for g_size in range(2,9):\n",
    "    target_groups = p[p['group_size']==g_size]\n",
    "    for gid in target_groups['gid'].unique():\n",
    "        target_group = target_groups[target_groups['gid']==gid]\n",
    "        p_lambdas = []\n",
    "        for lambda_ in [0.0, 0.1, 0.2, 0.3, 0.4, 0.5, 0.6, 0.7, 0.8, 0.9, 1.0]:\n",
    "            p_lambda = target_group[target_group['lambda']==lambda_]\n",
    "            p_lambdas.append(sum(p_lambda['values'].values)/len(p_lambda['values'].values))\n",
    "        opt_lambda = p_lambdas.index(max(p_lambdas))/10\n",
    "        similarity = pd_similarity[(pd_similarity['group_size']==g_size) & (pd_similarity['gid']==gid)]['similarity'].values[0]\n",
    "        opt_lambdas.append([g_size, gid, similarity, opt_lambda])"
   ]
  },
  {
   "cell_type": "code",
   "execution_count": 11,
   "id": "42903ffa",
   "metadata": {},
   "outputs": [
    {
     "data": {
      "text/html": [
       "<div>\n",
       "<style scoped>\n",
       "    .dataframe tbody tr th:only-of-type {\n",
       "        vertical-align: middle;\n",
       "    }\n",
       "\n",
       "    .dataframe tbody tr th {\n",
       "        vertical-align: top;\n",
       "    }\n",
       "\n",
       "    .dataframe thead th {\n",
       "        text-align: right;\n",
       "    }\n",
       "</style>\n",
       "<table border=\"1\" class=\"dataframe\">\n",
       "  <thead>\n",
       "    <tr style=\"text-align: right;\">\n",
       "      <th></th>\n",
       "      <th>group_size</th>\n",
       "      <th>gid</th>\n",
       "      <th>similarity</th>\n",
       "      <th>opt_lambda</th>\n",
       "    </tr>\n",
       "  </thead>\n",
       "  <tbody>\n",
       "    <tr>\n",
       "      <th>0</th>\n",
       "      <td>2</td>\n",
       "      <td>0</td>\n",
       "      <td>0.723247</td>\n",
       "      <td>1.0</td>\n",
       "    </tr>\n",
       "    <tr>\n",
       "      <th>1</th>\n",
       "      <td>2</td>\n",
       "      <td>1</td>\n",
       "      <td>0.651373</td>\n",
       "      <td>0.6</td>\n",
       "    </tr>\n",
       "    <tr>\n",
       "      <th>2</th>\n",
       "      <td>2</td>\n",
       "      <td>2</td>\n",
       "      <td>0.389279</td>\n",
       "      <td>0.5</td>\n",
       "    </tr>\n",
       "    <tr>\n",
       "      <th>3</th>\n",
       "      <td>2</td>\n",
       "      <td>3</td>\n",
       "      <td>0.257957</td>\n",
       "      <td>0.5</td>\n",
       "    </tr>\n",
       "    <tr>\n",
       "      <th>4</th>\n",
       "      <td>2</td>\n",
       "      <td>4</td>\n",
       "      <td>0.070724</td>\n",
       "      <td>1.0</td>\n",
       "    </tr>\n",
       "    <tr>\n",
       "      <th>...</th>\n",
       "      <td>...</td>\n",
       "      <td>...</td>\n",
       "      <td>...</td>\n",
       "      <td>...</td>\n",
       "    </tr>\n",
       "    <tr>\n",
       "      <th>1629</th>\n",
       "      <td>8</td>\n",
       "      <td>114</td>\n",
       "      <td>0.299821</td>\n",
       "      <td>0.7</td>\n",
       "    </tr>\n",
       "    <tr>\n",
       "      <th>1630</th>\n",
       "      <td>8</td>\n",
       "      <td>115</td>\n",
       "      <td>0.492225</td>\n",
       "      <td>0.3</td>\n",
       "    </tr>\n",
       "    <tr>\n",
       "      <th>1631</th>\n",
       "      <td>8</td>\n",
       "      <td>116</td>\n",
       "      <td>0.388159</td>\n",
       "      <td>0.5</td>\n",
       "    </tr>\n",
       "    <tr>\n",
       "      <th>1632</th>\n",
       "      <td>8</td>\n",
       "      <td>117</td>\n",
       "      <td>0.298092</td>\n",
       "      <td>0.6</td>\n",
       "    </tr>\n",
       "    <tr>\n",
       "      <th>1633</th>\n",
       "      <td>8</td>\n",
       "      <td>118</td>\n",
       "      <td>0.180200</td>\n",
       "      <td>0.5</td>\n",
       "    </tr>\n",
       "  </tbody>\n",
       "</table>\n",
       "<p>1634 rows × 4 columns</p>\n",
       "</div>"
      ],
      "text/plain": [
       "      group_size  gid  similarity  opt_lambda\n",
       "0              2    0    0.723247         1.0\n",
       "1              2    1    0.651373         0.6\n",
       "2              2    2    0.389279         0.5\n",
       "3              2    3    0.257957         0.5\n",
       "4              2    4    0.070724         1.0\n",
       "...          ...  ...         ...         ...\n",
       "1629           8  114    0.299821         0.7\n",
       "1630           8  115    0.492225         0.3\n",
       "1631           8  116    0.388159         0.5\n",
       "1632           8  117    0.298092         0.6\n",
       "1633           8  118    0.180200         0.5\n",
       "\n",
       "[1634 rows x 4 columns]"
      ]
     },
     "execution_count": 11,
     "metadata": {},
     "output_type": "execute_result"
    }
   ],
   "source": [
    "pd_opt_lambda = pd.DataFrame(opt_lambdas, columns=['group_size', 'gid', 'similarity', 'opt_lambda'])\n",
    "pd_opt_lambda"
   ]
  },
  {
   "cell_type": "code",
   "execution_count": 22,
   "id": "88deea0f",
   "metadata": {},
   "outputs": [],
   "source": [
    "lambda_list = []\n",
    "# Evaluation\n",
    "precision_list = []\n",
    "recall_list = []\n",
    "nDCG_list = []\n",
    "for round_ in range(5):\n",
    "    precisions = []\n",
    "    recalls = []\n",
    "    nDCGs = []\n",
    "    # Training the regression model for choosing optimal lambda\n",
    "    for g_size in range(2,9):\n",
    "        pd_opt_lambda_g = pd_opt_lambda[pd_opt_lambda['group_size']==g_size]\n",
    "        num_group = len(pd_opt_lambda_g)\n",
    "        train = pd_opt_lambda_g[(pd_opt_lambda_g['gid']<int(num_group/5*round_)) | (pd_opt_lambda_g['gid']>=int(num_group/5*(round_+1)))]\n",
    "\n",
    "        X_train = train['similarity'].values\n",
    "        y_train = train['opt_lambda'].values\n",
    "        X_train = X_train[:, np.newaxis]\n",
    "        \n",
    "        lm = LinearRegression()\n",
    "        lm.fit(X_train, y_train)\n",
    "        \n",
    "        test_p = p[p['group_size']==g_size]\n",
    "        test_r = r[r['group_size']==g_size]\n",
    "        test_n = n[n['group_size']==g_size]\n",
    "        \n",
    "        test_p = test_p[(test_p['gid']>=int(num_group/5*round_)) & (test_p['gid']<int(num_group/5*(round_+1)))]\n",
    "        test_r = test_r[(test_r['gid']>=int(num_group/5*round_)) & (test_r['gid']<int(num_group/5*(round_+1)))]\n",
    "        test_n = test_n[(test_n['gid']>=int(num_group/5*round_)) & (test_n['gid']<int(num_group/5*(round_+1)))]\n",
    "        \n",
    "        precision = []\n",
    "        recall = []\n",
    "        nDCG = []\n",
    "        for gid in test_p['gid'].unique():\n",
    "            similarity = pd_similarity[(pd_similarity['group_size']==g_size) & (pd_similarity['gid']==gid)]['similarity'].values[0]\n",
    "            opt_lambda = np.round(lm.predict([[similarity]])[0], 1)\n",
    "#             gt = pd_opt_lambda[(pd_opt_lambda['group_size']==g_size) & (pd_opt_lambda['gid']==gid)]['opt_lambda'].values[0]\n",
    "#             print(similarity, opt_lambda, gt)\n",
    "            lambda_list.append([g_size, gid, opt_lambda])\n",
    "            \n",
    "            precision.append(test_p[(test_p['gid']==gid) & (test_p['lambda']==opt_lambda)]['values'].values[0])\n",
    "            recall.append(test_r[(test_r['gid']==gid) & (test_r['lambda']==opt_lambda)]['values'].values[0])\n",
    "            nDCG.append(test_n[(test_n['gid']==gid) & (test_n['lambda']==opt_lambda)]['values'].values[0])\n",
    "        precisions.append(sum(precision)/len(precision))\n",
    "        recalls.append(sum(recall)/len(recall))\n",
    "        nDCGs.append(sum(nDCG)/len(nDCG))\n",
    "    precision_list.append(precisions)\n",
    "    recall_list.append(recalls)\n",
    "    nDCG_list.append(nDCGs)"
   ]
  },
  {
   "cell_type": "code",
   "execution_count": 23,
   "id": "1298901a",
   "metadata": {},
   "outputs": [
    {
     "name": "stdout",
     "output_type": "stream",
     "text": [
      "0.5302521008403349\n",
      "0.5369085173501567\n",
      "0.5016806722689076\n",
      "0.5063157894736842\n",
      "0.5\n",
      "0.5014705882352941\n",
      "0.5050420168067228\n"
     ]
    }
   ],
   "source": [
    "chosen_lambda = pd.DataFrame(lambda_list, columns=['group_size', 'gid', 'opt_lambda'])\n",
    "for g_size in range(2,9):\n",
    "    chosen_lambda_g = chosen_lambda[chosen_lambda['group_size']==g_size]\n",
    "#     print(chosen_lambda_g)\n",
    "    print(sum(chosen_lambda_g['opt_lambda'])/len(chosen_lambda_g['opt_lambda']))"
   ]
  },
  {
   "cell_type": "code",
   "execution_count": 24,
   "id": "33f0191f",
   "metadata": {},
   "outputs": [],
   "source": [
    "p_avg = []\n",
    "r_avg = []\n",
    "n_avg = []\n",
    "for g_size in range(7):\n",
    "    precision = 0\n",
    "    recall = 0\n",
    "    nDCG = 0\n",
    "    for round_ in range(5):\n",
    "        precision += precision_list[round_][g_size]\n",
    "        recall += recall_list[round_][g_size]\n",
    "        nDCG += nDCG_list[round_][g_size]\n",
    "    p_avg.append(precision/5)\n",
    "    r_avg.append(recall/5)\n",
    "    n_avg.append(nDCG/5)"
   ]
  },
  {
   "cell_type": "code",
   "execution_count": 15,
   "id": "5236e66b",
   "metadata": {},
   "outputs": [
    {
     "name": "stdout",
     "output_type": "stream",
     "text": [
      "0.12551881545576524\n",
      "0.011416495859131853\n",
      "0.06583534133678119\n"
     ]
    }
   ],
   "source": [
    "print(sum(p_avg)/len(p_avg))\n",
    "print(sum(r_avg)/len(r_avg))\n",
    "print(sum(n_avg)/len(n_avg))"
   ]
  },
  {
   "cell_type": "code",
   "execution_count": null,
   "id": "e67f1be3",
   "metadata": {},
   "outputs": [],
   "source": []
  },
  {
   "cell_type": "code",
   "execution_count": 31,
   "id": "4c4c75cb",
   "metadata": {},
   "outputs": [
    {
     "data": {
      "image/png": "[encoded data removed]",
      "text/plain": [
       "<Figure size 432x288 with 1 Axes>"
      ]
     },
     "metadata": {
      "needs_background": "light"
     },
     "output_type": "display_data"
    },
    {
     "data": {
      "image/png": "[encoded data removed]",
      "text/plain": [
       "<Figure size 432x288 with 1 Axes>"
      ]
     },
     "metadata": {
      "needs_background": "light"
     },
     "output_type": "display_data"
    },
    {
     "data": {
      "image/png": "[encoded data removed]",
      "text/plain": [
       "<Figure size 432x288 with 1 Axes>"
      ]
     },
     "metadata": {
      "needs_background": "light"
     },
     "output_type": "display_data"
    },
    {
     "data": {
      "image/png": "[encoded data removed]",
      "text/plain": [
       "<Figure size 432x288 with 1 Axes>"
      ]
     },
     "metadata": {
      "needs_background": "light"
     },
     "output_type": "display_data"
    },
    {
     "data": {
      "image/png": "[encoded data removed]",
      "text/plain": [
       "<Figure size 432x288 with 1 Axes>"
      ]
     },
     "metadata": {
      "needs_background": "light"
     },
     "output_type": "display_data"
    },
    {
     "data": {
      "image/png": "[encoded data removed]",
      "text/plain": [
       "<Figure size 432x288 with 1 Axes>"
      ]
     },
     "metadata": {
      "needs_background": "light"
     },
     "output_type": "display_data"
    },
    {
     "data": {
      "image/png": "[encoded data removed]",
      "text/plain": [
       "<Figure size 432x288 with 1 Axes>"
      ]
     },
     "metadata": {
      "needs_background": "light"
     },
     "output_type": "display_data"
    }
   ],
   "source": [
    "for g_size in range(2,9):\n",
    "    train = pd_opt_lambda[pd_opt_lambda['group_size']==g_size]\n",
    "    X_train = train['similarity'].values\n",
    "    y_train = train['opt_lambda'].values\n",
    "    X_train = X_train[:, np.newaxis]\n",
    "\n",
    "    lm = LinearRegression()\n",
    "    lm.fit(X_train, y_train)\n",
    "    \n",
    "    plt.scatter(X_train, y_train, color='red')\n",
    "    plt.plot(X_train, lm.predict(X_train),color='blue',linewidth=1)\n",
    "    plt.xlabel('similarity')\n",
    "    plt.ylabel('$\\lambda$')\n",
    "    plt.show()"
   ]
  },
  {
   "cell_type": "code",
   "execution_count": null,
   "id": "ca29a744",
   "metadata": {},
   "outputs": [],
   "source": []
  }
 ],
 "metadata": {
  "kernelspec": {
   "display_name": "Python 3",
   "language": "python",
   "name": "python3"
  },
  "language_info": {
   "codemirror_mode": {
    "name": "ipython",
    "version": 3
   },
   "file_extension": ".py",
   "mimetype": "text/x-python",
   "name": "python",
   "nbconvert_exporter": "python",
   "pygments_lexer": "ipython3",
   "version": "3.6.13"
  }
 },
 "nbformat": 4,
 "nbformat_minor": 5
}
