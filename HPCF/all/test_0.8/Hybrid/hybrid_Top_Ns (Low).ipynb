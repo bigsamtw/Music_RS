{
 "cells": [
  {
   "cell_type": "code",
   "execution_count": 1,
   "metadata": {},
   "outputs": [],
   "source": [
    "import os \n",
    "import math\n",
    "import random\n",
    "import numpy as np\n",
    "import pandas as pd\n",
    "from tqdm.notebook import tqdm\n",
    "from numpy import count_nonzero\n",
    "\n",
    "dir_ = '../data/'\n",
    "group_dir_ = '../data/groups/low'"
   ]
  },
  {
   "cell_type": "code",
   "execution_count": 2,
   "metadata": {},
   "outputs": [
    {
     "data": {
      "text/plain": [
       "953"
      ]
     },
     "execution_count": 2,
     "metadata": {},
     "output_type": "execute_result"
    }
   ],
   "source": [
    "file_name = 'normalized_minmax_filter_track_5_user_100.csv'\n",
    "svd = pd.read_pickle(os.path.join(dir_, 'prediction_svd_top_N_' + file_name[:-3] + 'pkl'))\n",
    "test = pd.read_pickle(os.path.join(dir_, 'test_' + file_name[:-3] + 'pkl'))\n",
    "test.sort_values(by=['uid','tid'])\n",
    "\n",
    "file_name = 'normalized_popularity_filter_track_5_user_100.pkl'\n",
    "pop_count = pd.read_pickle(os.path.join(dir_, file_name))\n",
    "\n",
    "num_user = len(svd['uid'].unique())\n",
    "num_user"
   ]
  },
  {
   "cell_type": "code",
   "execution_count": 3,
   "metadata": {},
   "outputs": [
    {
     "name": "stdout",
     "output_type": "stream",
     "text": [
      "2\n",
      "3\n",
      "4\n",
      "5\n"
     ]
    }
   ],
   "source": [
    "groups_n =[]\n",
    "group_sizes = ['2', '3', '4', '5']\n",
    "for i in range(len(group_sizes)):\n",
    "    groups = np.loadtxt(os.path.join(group_dir_, group_sizes[i] + '.csv'), delimiter=',')\n",
    "    groups_n.append(groups)\n",
    "    print(len(groups[0]))"
   ]
  },
  {
   "cell_type": "code",
   "execution_count": 4,
   "metadata": {},
   "outputs": [
    {
     "data": {
      "text/html": [
       "<div>\n",
       "<style scoped>\n",
       "    .dataframe tbody tr th:only-of-type {\n",
       "        vertical-align: middle;\n",
       "    }\n",
       "\n",
       "    .dataframe tbody tr th {\n",
       "        vertical-align: top;\n",
       "    }\n",
       "\n",
       "    .dataframe thead th {\n",
       "        text-align: right;\n",
       "    }\n",
       "</style>\n",
       "<table border=\"1\" class=\"dataframe\">\n",
       "  <thead>\n",
       "    <tr style=\"text-align: right;\">\n",
       "      <th></th>\n",
       "      <th>uid</th>\n",
       "      <th>tid</th>\n",
       "      <th>rating</th>\n",
       "      <th>count</th>\n",
       "    </tr>\n",
       "  </thead>\n",
       "  <tbody>\n",
       "    <tr>\n",
       "      <th>0</th>\n",
       "      <td>0</td>\n",
       "      <td>9</td>\n",
       "      <td>0.420160</td>\n",
       "      <td>1</td>\n",
       "    </tr>\n",
       "    <tr>\n",
       "      <th>1</th>\n",
       "      <td>0</td>\n",
       "      <td>15</td>\n",
       "      <td>0.381676</td>\n",
       "      <td>1</td>\n",
       "    </tr>\n",
       "    <tr>\n",
       "      <th>2</th>\n",
       "      <td>0</td>\n",
       "      <td>22</td>\n",
       "      <td>0.372974</td>\n",
       "      <td>1</td>\n",
       "    </tr>\n",
       "    <tr>\n",
       "      <th>3</th>\n",
       "      <td>0</td>\n",
       "      <td>28</td>\n",
       "      <td>0.389718</td>\n",
       "      <td>1</td>\n",
       "    </tr>\n",
       "    <tr>\n",
       "      <th>4</th>\n",
       "      <td>0</td>\n",
       "      <td>33</td>\n",
       "      <td>0.397697</td>\n",
       "      <td>1</td>\n",
       "    </tr>\n",
       "  </tbody>\n",
       "</table>\n",
       "</div>"
      ],
      "text/plain": [
       "   uid  tid    rating  count\n",
       "0    0    9  0.420160      1\n",
       "1    0   15  0.381676      1\n",
       "2    0   22  0.372974      1\n",
       "3    0   28  0.389718      1\n",
       "4    0   33  0.397697      1"
      ]
     },
     "execution_count": 4,
     "metadata": {},
     "output_type": "execute_result"
    }
   ],
   "source": [
    "svd['count'] = 1\n",
    "svd[:5]"
   ]
  },
  {
   "cell_type": "code",
   "execution_count": 5,
   "metadata": {},
   "outputs": [
    {
     "data": {
      "text/html": [
       "<div>\n",
       "<style scoped>\n",
       "    .dataframe tbody tr th:only-of-type {\n",
       "        vertical-align: middle;\n",
       "    }\n",
       "\n",
       "    .dataframe tbody tr th {\n",
       "        vertical-align: top;\n",
       "    }\n",
       "\n",
       "    .dataframe thead th {\n",
       "        text-align: right;\n",
       "    }\n",
       "</style>\n",
       "<table border=\"1\" class=\"dataframe\">\n",
       "  <thead>\n",
       "    <tr style=\"text-align: right;\">\n",
       "      <th></th>\n",
       "      <th>tid</th>\n",
       "      <th>count</th>\n",
       "      <th>rating</th>\n",
       "    </tr>\n",
       "  </thead>\n",
       "  <tbody>\n",
       "    <tr>\n",
       "      <th>70</th>\n",
       "      <td>70</td>\n",
       "      <td>17557</td>\n",
       "      <td>2980.75</td>\n",
       "    </tr>\n",
       "    <tr>\n",
       "      <th>1102</th>\n",
       "      <td>1102</td>\n",
       "      <td>6926</td>\n",
       "      <td>1484.25</td>\n",
       "    </tr>\n",
       "    <tr>\n",
       "      <th>83</th>\n",
       "      <td>83</td>\n",
       "      <td>6571</td>\n",
       "      <td>1796.75</td>\n",
       "    </tr>\n",
       "    <tr>\n",
       "      <th>13496</th>\n",
       "      <td>13496</td>\n",
       "      <td>6299</td>\n",
       "      <td>1669.75</td>\n",
       "    </tr>\n",
       "    <tr>\n",
       "      <th>952</th>\n",
       "      <td>952</td>\n",
       "      <td>6234</td>\n",
       "      <td>1527.50</td>\n",
       "    </tr>\n",
       "  </tbody>\n",
       "</table>\n",
       "</div>"
      ],
      "text/plain": [
       "         tid  count   rating\n",
       "70        70  17557  2980.75\n",
       "1102    1102   6926  1484.25\n",
       "83        83   6571  1796.75\n",
       "13496  13496   6299  1669.75\n",
       "952      952   6234  1527.50"
      ]
     },
     "execution_count": 5,
     "metadata": {},
     "output_type": "execute_result"
    }
   ],
   "source": [
    "pop_count = pop_count.sort_values(by=['count'],  ascending=False)\n",
    "pop_count[:5]"
   ]
  },
  {
   "cell_type": "code",
   "execution_count": 6,
   "metadata": {},
   "outputs": [],
   "source": [
    "# Linear\n",
    "# size = int(len(pop_rating) // 5)\n",
    "# pop_normalized = pd.DataFrame()\n",
    "# for i in range(5):\n",
    "#     if i == 0:\n",
    "#         pop = pop_count[:size].copy()\n",
    "#     elif i == 4:\n",
    "#         pop = pop_count[size*4:].copy()\n",
    "#     else:\n",
    "#         pop = pop_count[size*i:size*(i+1)].copy()\n",
    "#     pop['rating'] = (5 - i)\n",
    "#     pop_normalized = pop_normalized.append(pop)\n",
    "# pop_normalized = pop_normalized[['tid', 'rating']]"
   ]
  },
  {
   "cell_type": "code",
   "execution_count": 7,
   "metadata": {},
   "outputs": [
    {
     "data": {
      "text/html": [
       "<div>\n",
       "<style scoped>\n",
       "    .dataframe tbody tr th:only-of-type {\n",
       "        vertical-align: middle;\n",
       "    }\n",
       "\n",
       "    .dataframe tbody tr th {\n",
       "        vertical-align: top;\n",
       "    }\n",
       "\n",
       "    .dataframe thead th {\n",
       "        text-align: right;\n",
       "    }\n",
       "</style>\n",
       "<table border=\"1\" class=\"dataframe\">\n",
       "  <thead>\n",
       "    <tr style=\"text-align: right;\">\n",
       "      <th></th>\n",
       "      <th>tid</th>\n",
       "      <th>count</th>\n",
       "      <th>rating</th>\n",
       "    </tr>\n",
       "  </thead>\n",
       "  <tbody>\n",
       "    <tr>\n",
       "      <th>70</th>\n",
       "      <td>70</td>\n",
       "      <td>17557</td>\n",
       "      <td>5.000000</td>\n",
       "    </tr>\n",
       "    <tr>\n",
       "      <th>1102</th>\n",
       "      <td>1102</td>\n",
       "      <td>6926</td>\n",
       "      <td>1.972433</td>\n",
       "    </tr>\n",
       "    <tr>\n",
       "      <th>83</th>\n",
       "      <td>83</td>\n",
       "      <td>6571</td>\n",
       "      <td>1.871333</td>\n",
       "    </tr>\n",
       "    <tr>\n",
       "      <th>13496</th>\n",
       "      <td>13496</td>\n",
       "      <td>6299</td>\n",
       "      <td>1.793871</td>\n",
       "    </tr>\n",
       "    <tr>\n",
       "      <th>952</th>\n",
       "      <td>952</td>\n",
       "      <td>6234</td>\n",
       "      <td>1.775360</td>\n",
       "    </tr>\n",
       "    <tr>\n",
       "      <th>2519</th>\n",
       "      <td>2519</td>\n",
       "      <td>6001</td>\n",
       "      <td>1.709005</td>\n",
       "    </tr>\n",
       "    <tr>\n",
       "      <th>4008</th>\n",
       "      <td>4008</td>\n",
       "      <td>5676</td>\n",
       "      <td>1.616449</td>\n",
       "    </tr>\n",
       "    <tr>\n",
       "      <th>5521</th>\n",
       "      <td>5521</td>\n",
       "      <td>5658</td>\n",
       "      <td>1.611323</td>\n",
       "    </tr>\n",
       "    <tr>\n",
       "      <th>3900</th>\n",
       "      <td>3900</td>\n",
       "      <td>5627</td>\n",
       "      <td>1.602495</td>\n",
       "    </tr>\n",
       "    <tr>\n",
       "      <th>2241</th>\n",
       "      <td>2241</td>\n",
       "      <td>5571</td>\n",
       "      <td>1.586547</td>\n",
       "    </tr>\n",
       "  </tbody>\n",
       "</table>\n",
       "</div>"
      ],
      "text/plain": [
       "         tid  count    rating\n",
       "70        70  17557  5.000000\n",
       "1102    1102   6926  1.972433\n",
       "83        83   6571  1.871333\n",
       "13496  13496   6299  1.793871\n",
       "952      952   6234  1.775360\n",
       "2519    2519   6001  1.709005\n",
       "4008    4008   5676  1.616449\n",
       "5521    5521   5658  1.611323\n",
       "3900    3900   5627  1.602495\n",
       "2241    2241   5571  1.586547"
      ]
     },
     "execution_count": 7,
     "metadata": {},
     "output_type": "execute_result"
    }
   ],
   "source": [
    "# min_max\n",
    "max_rating = pop_count.iloc[0]['count']\n",
    "pop_normalized = pop_count.copy()\n",
    "pop_normalized = pop_normalized[['tid', 'count']]\n",
    "pop_normalized['rating'] = pop_normalized['count']\n",
    "pop_normalized['rating'] /= max_rating\n",
    "pop_normalized['rating'] *= 5\n",
    "pop_normalized[:10]"
   ]
  },
  {
   "cell_type": "code",
   "execution_count": 8,
   "metadata": {},
   "outputs": [
    {
     "data": {
      "text/plain": [
       "[0.0, 0.1, 0.2, 0.3, 0.4, 0.5, 0.6, 0.7, 0.8, 0.9, 1.0]"
      ]
     },
     "execution_count": 8,
     "metadata": {},
     "output_type": "execute_result"
    }
   ],
   "source": [
    "lambdas = []\n",
    "for i in range(11):\n",
    "    lambdas.append(i/10)\n",
    "lambdas"
   ]
  },
  {
   "cell_type": "code",
   "execution_count": 9,
   "metadata": {},
   "outputs": [],
   "source": [
    "top_4_results = []\n",
    "top_20_results = []\n",
    "top_100_results = []"
   ]
  },
  {
   "cell_type": "code",
   "execution_count": 10,
   "metadata": {},
   "outputs": [
    {
     "data": {
      "application/vnd.jupyter.widget-view+json": {
       "model_id": "76428f4177f749618c59033d532c920e",
       "version_major": 2,
       "version_minor": 0
      },
      "text/plain": [
       "HBox(children=(FloatProgress(value=0.0, max=11.0), HTML(value='')))"
      ]
     },
     "metadata": {},
     "output_type": "display_data"
    },
    {
     "name": "stdout",
     "output_type": "stream",
     "text": [
      "\n"
     ]
    }
   ],
   "source": [
    "for lambda_ in tqdm(lambdas):\n",
    "    top_n_size = 100\n",
    "    top_n_lists_g = []\n",
    "    for groups in groups_n:\n",
    "\n",
    "        group_size = len(groups[0])\n",
    "        top_n_lists = []\n",
    "\n",
    "        for group in groups:\n",
    "            rating_table = pd.DataFrame() \n",
    "            for member in group:\n",
    "                prediction = svd[svd['uid'] == member].copy()\n",
    "                if len(rating_table) == 0:\n",
    "                    rating_table = prediction\n",
    "                else:\n",
    "                    rating_table = rating_table.set_index('tid').add(prediction.set_index('tid'), fill_value=0).reset_index()\n",
    "            rating_table['rating'] /= group_size \n",
    "            rating_table['rating'] *= lambda_\n",
    "            pop = pop_normalized.copy()\n",
    "            pop['rating'] *= (1 - lambda_)\n",
    "            rating_table = rating_table.set_index('tid').add(pop.set_index('tid'), fill_value=0).reset_index()\n",
    "    #         rating_table = rating_table[rating_table['count'] == group_size]\n",
    "            rating_table = rating_table.sort_values(by=['rating'],  ascending=False)\n",
    "            rating_table = rating_table[:top_n_size]\n",
    "            top_n_list = []\n",
    "            for _, row in rating_table.iterrows():\n",
    "                top_n_list.append(row[0])\n",
    "            top_n_lists.append(top_n_list)\n",
    "        top_n_lists_g.append(top_n_lists)   \n",
    "        \n",
    "#     print('lambda = ' + str(lambda_))\n",
    "    threshold = 0.0\n",
    "    for top_n_size in [100, 20, 4]:\n",
    "        avg_precisions = []\n",
    "        for i in range(len(groups_n)):\n",
    "            groups = groups_n[i]\n",
    "            top_n_lists = top_n_lists_g[i]\n",
    "\n",
    "            precisions = []\n",
    "            for j in (range(len(groups))):\n",
    "\n",
    "                group = groups[j]\n",
    "                top_n_list = top_n_lists[j][:top_n_size]\n",
    "\n",
    "                high_rating = 0\n",
    "\n",
    "                for k in range(top_n_size):\n",
    "                    for l in range(len(group)):\n",
    "                        uid = group[l]\n",
    "                        tid = top_n_list[k]\n",
    "                        t = test[test['uid'] == uid]\n",
    "                        t = t[t['tid'] == tid]\n",
    "                        if len(t) > 0 and t.iloc[0]['rating'] > threshold:\n",
    "                            high_rating += 1\n",
    "                            break\n",
    "\n",
    "                precision = high_rating / top_n_size\n",
    "                precisions.append(precision)\n",
    "\n",
    "            avg_precision = 0\n",
    "            for precision in precisions:\n",
    "                avg_precision += precision\n",
    "            avg_precision /= len(precisions)\n",
    "            avg_precisions.append(avg_precision)\n",
    "#         print(avg_precisions)\n",
    "        if top_n_size == 4:\n",
    "            top_4_results.append(avg_precisions)\n",
    "        elif top_n_size == 20:\n",
    "            top_20_results.append(avg_precisions)\n",
    "        elif top_n_size == 100:\n",
    "            top_100_results.append(avg_precisions)\n",
    "    #     print(sum(avg_precisions) / len(avg_precisions))\n",
    "    #     print('----------------------------------------') "
   ]
  },
  {
   "cell_type": "code",
   "execution_count": 11,
   "metadata": {},
   "outputs": [
    {
     "name": "stdout",
     "output_type": "stream",
     "text": [
      "[0.21745152354570638, 0.27044025157232704, 0.3324742268041237, 0.38636363636363635]\n",
      "[0.22853185595567868, 0.27358490566037735, 0.33762886597938147, 0.3939393939393939]\n",
      "[0.2347645429362881, 0.28459119496855345, 0.33762886597938147, 0.4090909090909091]\n",
      "[0.24722991689750692, 0.2830188679245283, 0.33505154639175255, 0.4053030303030303]\n",
      "[0.2631578947368421, 0.3050314465408805, 0.3402061855670103, 0.4090909090909091]\n",
      "[0.27285318559556787, 0.3160377358490566, 0.3634020618556701, 0.42424242424242425]\n",
      "[0.30401662049861494, 0.3333333333333333, 0.37628865979381443, 0.4318181818181818]\n",
      "[0.33933518005540164, 0.3490566037735849, 0.41237113402061853, 0.44696969696969696]\n",
      "[0.3587257617728532, 0.39937106918238996, 0.42010309278350516, 0.4659090909090909]\n",
      "[0.3850415512465374, 0.4528301886792453, 0.4587628865979381, 0.4734848484848485]\n",
      "[0.3691135734072022, 0.41352201257861637, 0.46134020618556704, 0.5037878787878788]\n",
      "------------------\n",
      "[0.18227146814404435, 0.21415094339622634, 0.23402061855670098, 0.2833333333333333]\n",
      "[0.18393351800554023, 0.2141509433962264, 0.23505154639175255, 0.2840909090909091]\n",
      "[0.1893351800554018, 0.2160377358490566, 0.23814432989690712, 0.28560606060606064]\n",
      "[0.19445983379501403, 0.22169811320754726, 0.24587628865979375, 0.2916666666666667]\n",
      "[0.2030470914127426, 0.22452830188679238, 0.25103092783505143, 0.2977272727272728]\n",
      "[0.21080332409972322, 0.23113207547169792, 0.2530927835051545, 0.3022727272727273]\n",
      "[0.22160664819944634, 0.24276729559748406, 0.26546391752577314, 0.31287878787878776]\n",
      "[0.23753462603878145, 0.25628930817610057, 0.27680412371134017, 0.3219696969696969]\n",
      "[0.2674515235457065, 0.2798742138364779, 0.2912371134020619, 0.33560606060606063]\n",
      "[0.30457063711911375, 0.31698113207547185, 0.3226804123711339, 0.3590909090909091]\n",
      "[0.2677285318559559, 0.2981132075471699, 0.30824742268041233, 0.35757575757575755]\n",
      "------------------\n",
      "[0.13537396121883652, 0.15704402515723265, 0.1805154639175258, 0.20136363636363636]\n",
      "[0.14005540166204983, 0.16163522012578616, 0.1845360824742267, 0.20636363636363636]\n",
      "[0.14379501385041538, 0.16471698113207547, 0.18556701030927827, 0.2081818181818182]\n",
      "[0.14831024930747913, 0.16849056603773596, 0.18804123711340204, 0.21000000000000002]\n",
      "[0.15470914127423815, 0.17257861635220131, 0.19206185567010303, 0.2118181818181818]\n",
      "[0.1619390581717449, 0.1788050314465409, 0.19680412371134023, 0.21666666666666667]\n",
      "[0.1709972299168974, 0.18798742138364782, 0.20329896907216496, 0.22303030303030302]\n",
      "[0.18119113573407222, 0.19754716981132078, 0.21092783505154647, 0.23121212121212126]\n",
      "[0.19041551246537392, 0.20955974842767297, 0.22268041237113395, 0.24030303030303032]\n",
      "[0.19822714681440431, 0.2220125786163524, 0.23175257731958762, 0.2496969696969697]\n",
      "[0.17310249307479209, 0.199119496855346, 0.2094845360824742, 0.22893939393939394]\n"
     ]
    }
   ],
   "source": [
    "for i in top_4_results:\n",
    "    print(i)\n",
    "print('------------------')\n",
    "\n",
    "for i in top_20_results:\n",
    "    print(i)\n",
    "print('------------------')\n",
    "\n",
    "for i in top_100_results:\n",
    "    print(i)"
   ]
  },
  {
   "cell_type": "code",
   "execution_count": null,
   "metadata": {},
   "outputs": [],
   "source": []
  },
  {
   "cell_type": "code",
   "execution_count": null,
   "metadata": {
    "collapsed": true
   },
   "outputs": [],
   "source": []
  }
 ],
 "metadata": {
  "kernelspec": {
   "display_name": "Python 3",
   "language": "python",
   "name": "python3"
  },
  "language_info": {
   "codemirror_mode": {
    "name": "ipython",
    "version": 3
   },
   "file_extension": ".py",
   "mimetype": "text/x-python",
   "name": "python",
   "nbconvert_exporter": "python",
   "pygments_lexer": "ipython3",
   "version": "3.6.10"
  }
 },
 "nbformat": 4,
 "nbformat_minor": 4
}
