{
 "cells": [
  {
   "cell_type": "code",
   "execution_count": 1,
   "metadata": {},
   "outputs": [],
   "source": [
    "import os \n",
    "import math\n",
    "import random\n",
    "import numpy as np\n",
    "import pandas as pd\n",
    "from tqdm.notebook import tqdm\n",
    "from numpy import count_nonzero\n",
    "\n",
    "dir_ = '../data/'\n",
    "group_dir_ = '../data/groups/random'"
   ]
  },
  {
   "cell_type": "code",
   "execution_count": null,
   "metadata": {},
   "outputs": [],
   "source": [
    "file_name = 'normalized_to_rating_filter_track_5_user_100.csv'\n",
    "svd = pd.read_pickle(os.path.join(dir_, 'prediction_svd_top_N_' + file_name[:-3] + 'pkl'))\n",
    "test = pd.read_pickle(os.path.join(dir_, 'test_' + file_name[:-3] + 'pkl'))\n",
    "test.sort_values(by=['uid','tid'])\n",
    "\n",
    "file_name = 'normalized_popularity_filter_track_5_user_100.pkl'\n",
    "pop_count = pd.read_pickle(os.path.join(dir_, file_name))\n",
    "\n",
    "num_user = len(svd['uid'].unique())\n",
    "print(num_user, len(svd))"
   ]
  },
  {
   "cell_type": "code",
   "execution_count": null,
   "metadata": {},
   "outputs": [],
   "source": [
    "groups_n =[]\n",
    "group_sizes = ['2', '3', '4', '5']\n",
    "for i in range(len(group_sizes)):\n",
    "    groups = np.loadtxt(os.path.join(group_dir_, group_sizes[i] + '.csv'), delimiter=',')\n",
    "    groups_n.append(groups)"
   ]
  },
  {
   "cell_type": "code",
   "execution_count": null,
   "metadata": {},
   "outputs": [],
   "source": [
    "for i in groups_n:\n",
    "    print(len(i[0]))"
   ]
  },
  {
   "cell_type": "code",
   "execution_count": null,
   "metadata": {},
   "outputs": [],
   "source": [
    "svd['count'] = 1\n",
    "svd[:5]"
   ]
  },
  {
   "cell_type": "code",
   "execution_count": null,
   "metadata": {},
   "outputs": [],
   "source": [
    "pop_count = pop_count.sort_values(by=['count'],  ascending=False)\n",
    "pop_count[:10]"
   ]
  },
  {
   "cell_type": "code",
   "execution_count": 7,
   "metadata": {},
   "outputs": [],
   "source": [
    "# Linear\n",
    "size = int(len(pop_rating) // 5)\n",
    "pop_normalized = pd.DataFrame()\n",
    "for i in range(5):\n",
    "    if i == 0:\n",
    "        pop = pop_count[:size].copy()\n",
    "    elif i == 4:\n",
    "        pop = pop_count[size*4:].copy()\n",
    "    else:\n",
    "        pop = pop_count[size*i:size*(i+1)].copy()\n",
    "    pop['rating'] = (5 - i)\n",
    "    pop_normalized = pop_normalized.append(pop)\n",
    "pop_normalized = pop_normalized[['tid', 'rating']]\n"
   ]
  },
  {
   "cell_type": "code",
   "execution_count": 8,
   "metadata": {},
   "outputs": [
    {
     "data": {
      "text/html": [
       "<div>\n",
       "<style scoped>\n",
       "    .dataframe tbody tr th:only-of-type {\n",
       "        vertical-align: middle;\n",
       "    }\n",
       "\n",
       "    .dataframe tbody tr th {\n",
       "        vertical-align: top;\n",
       "    }\n",
       "\n",
       "    .dataframe thead th {\n",
       "        text-align: right;\n",
       "    }\n",
       "</style>\n",
       "<table border=\"1\" class=\"dataframe\">\n",
       "  <thead>\n",
       "    <tr style=\"text-align: right;\">\n",
       "      <th></th>\n",
       "      <th>tid</th>\n",
       "      <th>count</th>\n",
       "      <th>rating</th>\n",
       "    </tr>\n",
       "  </thead>\n",
       "  <tbody>\n",
       "    <tr>\n",
       "      <th>70</th>\n",
       "      <td>70</td>\n",
       "      <td>17557</td>\n",
       "      <td>5.000000</td>\n",
       "    </tr>\n",
       "    <tr>\n",
       "      <th>1102</th>\n",
       "      <td>1102</td>\n",
       "      <td>6926</td>\n",
       "      <td>1.972433</td>\n",
       "    </tr>\n",
       "    <tr>\n",
       "      <th>83</th>\n",
       "      <td>83</td>\n",
       "      <td>6571</td>\n",
       "      <td>1.871333</td>\n",
       "    </tr>\n",
       "    <tr>\n",
       "      <th>13496</th>\n",
       "      <td>13496</td>\n",
       "      <td>6299</td>\n",
       "      <td>1.793871</td>\n",
       "    </tr>\n",
       "    <tr>\n",
       "      <th>952</th>\n",
       "      <td>952</td>\n",
       "      <td>6234</td>\n",
       "      <td>1.775360</td>\n",
       "    </tr>\n",
       "    <tr>\n",
       "      <th>2519</th>\n",
       "      <td>2519</td>\n",
       "      <td>6001</td>\n",
       "      <td>1.709005</td>\n",
       "    </tr>\n",
       "    <tr>\n",
       "      <th>4008</th>\n",
       "      <td>4008</td>\n",
       "      <td>5676</td>\n",
       "      <td>1.616449</td>\n",
       "    </tr>\n",
       "    <tr>\n",
       "      <th>5521</th>\n",
       "      <td>5521</td>\n",
       "      <td>5658</td>\n",
       "      <td>1.611323</td>\n",
       "    </tr>\n",
       "    <tr>\n",
       "      <th>3900</th>\n",
       "      <td>3900</td>\n",
       "      <td>5627</td>\n",
       "      <td>1.602495</td>\n",
       "    </tr>\n",
       "    <tr>\n",
       "      <th>2241</th>\n",
       "      <td>2241</td>\n",
       "      <td>5571</td>\n",
       "      <td>1.586547</td>\n",
       "    </tr>\n",
       "  </tbody>\n",
       "</table>\n",
       "</div>"
      ],
      "text/plain": [
       "         tid  count    rating\n",
       "70        70  17557  5.000000\n",
       "1102    1102   6926  1.972433\n",
       "83        83   6571  1.871333\n",
       "13496  13496   6299  1.793871\n",
       "952      952   6234  1.775360\n",
       "2519    2519   6001  1.709005\n",
       "4008    4008   5676  1.616449\n",
       "5521    5521   5658  1.611323\n",
       "3900    3900   5627  1.602495\n",
       "2241    2241   5571  1.586547"
      ]
     },
     "execution_count": 8,
     "metadata": {},
     "output_type": "execute_result"
    }
   ],
   "source": [
    "# min_max\n",
    "max_rating = pop_count.iloc[0]['count']\n",
    "pop_normalized = pop_count.copy()\n",
    "pop_normalized = pop_normalized[['tid', 'count']]\n",
    "pop_normalized['rating'] = pop_normalized['count']\n",
    "pop_normalized['rating'] /= max_rating\n",
    "pop_normalized['rating'] *= 5\n",
    "pop_normalized[:10]"
   ]
  },
  {
   "cell_type": "code",
   "execution_count": 9,
   "metadata": {},
   "outputs": [
    {
     "data": {
      "text/plain": [
       "[0.0, 0.1, 0.2, 0.3, 0.4, 0.5, 0.6, 0.7, 0.8, 0.9, 1.0]"
      ]
     },
     "execution_count": 9,
     "metadata": {},
     "output_type": "execute_result"
    }
   ],
   "source": [
    "lambdas = []\n",
    "for i in range(11):\n",
    "    lambdas.append(i/10)\n",
    "lambdas"
   ]
  },
  {
   "cell_type": "code",
   "execution_count": 10,
   "metadata": {},
   "outputs": [
    {
     "data": {
      "application/vnd.jupyter.widget-view+json": {
       "model_id": "0725a1371204436c9168de1e0ee230f7",
       "version_major": 2,
       "version_minor": 0
      },
      "text/plain": [
       "HBox(children=(FloatProgress(value=0.0, max=11.0), HTML(value='')))"
      ]
     },
     "metadata": {},
     "output_type": "display_data"
    },
    {
     "name": "stdout",
     "output_type": "stream",
     "text": [
      "[0.2347689075630252, 0.3225552050473186, 0.3949579831932773, 0.4868421052631579]\n",
      "[0.2494747899159664, 0.3359621451104101, 0.4023109243697479, 0.49605263157894736]\n",
      "[0.25262605042016806, 0.34936908517350157, 0.41281512605042014, 0.5039473684210526]\n",
      "[0.2610294117647059, 0.35331230283911674, 0.4170168067226891, 0.5039473684210526]\n",
      "[0.2762605042016807, 0.36514195583596215, 0.4222689075630252, 0.5039473684210526]\n",
      "[0.2977941176470588, 0.3872239747634069, 0.43487394957983194, 0.525]\n",
      "[0.32090336134453784, 0.4148264984227129, 0.4695378151260504, 0.5434210526315789]\n",
      "[0.35084033613445376, 0.43296529968454256, 0.4947478991596639, 0.5552631578947368]\n",
      "[0.3707983193277311, 0.444006309148265, 0.509453781512605, 0.575]\n",
      "[0.39810924369747897, 0.47397476340694006, 0.5273109243697479, 0.5947368421052631]\n",
      "[0.36869747899159666, 0.42665615141955837, 0.47058823529411764, 0.48026315789473684]\n",
      "\n"
     ]
    }
   ],
   "source": [
    "for lambda_ in tqdm(lambdas):\n",
    "    top_n_size = 4\n",
    "    top_n_lists_g = []\n",
    "    for groups in groups_n:\n",
    "\n",
    "        group_size = len(groups[0])\n",
    "        top_n_lists = []\n",
    "\n",
    "        for group in groups:\n",
    "            rating_table = pd.DataFrame() \n",
    "            for member in group:\n",
    "                prediction = svd[svd['uid'] == member].copy()\n",
    "                if len(rating_table) == 0:\n",
    "                    rating_table = prediction\n",
    "                else:\n",
    "                    rating_table = rating_table.set_index('tid').add(prediction.set_index('tid'), fill_value=0).reset_index()\n",
    "            rating_table['rating'] /= group_size \n",
    "            rating_table['rating'] *= lambda_\n",
    "            pop = pop_normalized.copy()\n",
    "            pop['rating'] *= (1 - lambda_)\n",
    "            rating_table = rating_table.set_index('tid').add(pop.set_index('tid'), fill_value=0).reset_index()\n",
    "    #         rating_table = rating_table[rating_table['count'] == group_size]\n",
    "            rating_table = rating_table.sort_values(by=['rating'],  ascending=False)\n",
    "            rating_table = rating_table[:top_n_size]\n",
    "            top_n_list = []\n",
    "            for _, row in rating_table.iterrows():\n",
    "                top_n_list.append(row[0])\n",
    "            top_n_lists.append(top_n_list)\n",
    "        top_n_lists_g.append(top_n_lists)   \n",
    "        \n",
    "#     print('lambda = ' + str(lambda_))\n",
    "    threshold = 0.0\n",
    "    avg_precisions = []\n",
    "    for i in range(len(groups_n)):\n",
    "        groups = groups_n[i]\n",
    "        top_n_lists = top_n_lists_g[i]\n",
    "\n",
    "        precisions = []\n",
    "        for j in (range(len(groups))):\n",
    "\n",
    "            group = groups[j]\n",
    "            top_n_list = top_n_lists[j]\n",
    "\n",
    "            high_rating = 0\n",
    "\n",
    "            for k in range(top_n_size):\n",
    "                for l in range(len(group)):\n",
    "                    uid = group[l]\n",
    "                    tid = top_n_list[k]\n",
    "                    t = test[test['uid'] == uid]\n",
    "                    t = t[t['tid'] == tid]\n",
    "                    if len(t) > 0 and t.iloc[0]['rating'] > threshold:\n",
    "                        high_rating += 1\n",
    "                        break\n",
    "\n",
    "            precision = high_rating / top_n_size\n",
    "            precisions.append(precision)\n",
    "\n",
    "        avg_precision = 0\n",
    "        for precision in precisions:\n",
    "            avg_precision += precision\n",
    "        avg_precision /= len(precisions)\n",
    "        avg_precisions.append(avg_precision)\n",
    "    print(avg_precisions)\n",
    "#     print(sum(avg_precisions) / len(avg_precisions))\n",
    "#     print('----------------------------------------') "
   ]
  },
  {
   "cell_type": "code",
   "execution_count": null,
   "metadata": {
    "collapsed": true
   },
   "outputs": [],
   "source": []
  },
  {
   "cell_type": "code",
   "execution_count": null,
   "metadata": {
    "collapsed": true
   },
   "outputs": [],
   "source": []
  },
  {
   "cell_type": "code",
   "execution_count": null,
   "metadata": {
    "collapsed": true
   },
   "outputs": [],
   "source": [
    "\n",
    "\n"
   ]
  },
  {
   "cell_type": "code",
   "execution_count": null,
   "metadata": {
    "collapsed": true
   },
   "outputs": [],
   "source": []
  },
  {
   "cell_type": "code",
   "execution_count": null,
   "metadata": {
    "collapsed": true
   },
   "outputs": [],
   "source": []
  },
  {
   "cell_type": "code",
   "execution_count": 195,
   "metadata": {},
   "outputs": [
    {
     "data": {
      "application/vnd.jupyter.widget-view+json": {
       "model_id": "177ee4fdacf34e0fb1811d146691732c",
       "version_major": 2,
       "version_minor": 0
      },
      "text/plain": [
       "HBox(children=(FloatProgress(value=0.0, max=4.0), HTML(value='')))"
      ]
     },
     "metadata": {},
     "output_type": "display_data"
    },
    {
     "name": "stdout",
     "output_type": "stream",
     "text": [
      "0.4384689835799772\n",
      "0.34093950544457624\n",
      "0.3358646172870294\n",
      "0.33769451038646087\n",
      "\n"
     ]
    }
   ],
   "source": [
    "alpha = 0.5\n",
    "threshold = 0.0\n",
    "for i in tqdm(range(len(groups_n))):\n",
    "    \n",
    "    groups = groups_n[i]\n",
    "    top_n_lists = top_n_lists_g[i]\n",
    "    \n",
    "    satisfactions = []\n",
    "    for j in (range(len(groups))):\n",
    "        \n",
    "        group = groups[j]\n",
    "        top_n_list = top_n_lists[j]\n",
    "        \n",
    "        high_ratings_t = np.zeros(top_n_size)\n",
    "        high_ratings_u = np.zeros(len(group))\n",
    "        \n",
    "        for k in range(top_n_size):\n",
    "            for l in range(len(group)):\n",
    "                uid = group[l]\n",
    "                tid = top_n_list[k]\n",
    "                t = test[test['uid'] == uid]\n",
    "                t = t[t['tid'] == tid]\n",
    "                if len(t) > 0 and t.iloc[0]['rating'] > threshold:\n",
    "                    high_ratings_t[k] += 1\n",
    "                    high_ratings_u[l] += 1\n",
    "        \n",
    "#         satisfaction_t = 0\n",
    "#         for k in range(top_n_size):\n",
    "#             satisfaction_t += math.log(high_ratings_t[k]+1, 10) / math.log(len(group)+1, 10)\n",
    "#         satisfaction_t /= top_n_size\n",
    "        \n",
    "#         satisfaction_u = 0\n",
    "#         for k in range(len(group)):\n",
    "#             satisfaction_u += math.log(high_ratings_u[k]+1, 10) / math.log(top_n_size+1, 10)\n",
    "#         satisfaction_u /= len(group)\n",
    "        satisfaction_t = math.log(max(high_ratings_t)+1, 10) / math.log(len(group)+1, 10)\n",
    "        satisfaction_u = math.log(min(high_ratings_u)+1, 10) / math.log(top_n_size+1, 10)\n",
    "        \n",
    "        satisfaction = alpha*satisfaction_t + (1-alpha)*satisfaction_u\n",
    "        satisfactions.append(satisfaction)\n",
    "    \n",
    "    avg_satisfaction = 0\n",
    "    for satisfaction in satisfactions:\n",
    "        avg_satisfaction += satisfaction\n",
    "    avg_satisfaction /= len(satisfactions)\n",
    "    print(avg_satisfaction)\n",
    "        "
   ]
  }
 ],
 "metadata": {
  "kernelspec": {
   "display_name": "Python 3",
   "language": "python",
   "name": "python3"
  },
  "language_info": {
   "codemirror_mode": {
    "name": "ipython",
    "version": 3
   },
   "file_extension": ".py",
   "mimetype": "text/x-python",
   "name": "python",
   "nbconvert_exporter": "python",
   "pygments_lexer": "ipython3",
   "version": "3.6.10"
  }
 },
 "nbformat": 4,
 "nbformat_minor": 4
}
