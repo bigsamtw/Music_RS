{
 "cells": [
  {
   "cell_type": "code",
   "execution_count": 1,
   "metadata": {},
   "outputs": [],
   "source": [
    "import os \n",
    "import math\n",
    "import random\n",
    "import numpy as np\n",
    "import pandas as pd\n",
    "from tqdm.notebook import tqdm\n",
    "from numpy import count_nonzero\n",
    "\n",
    "dir_ = '../data/'\n",
    "group_dir_ = '../data/groups/high'"
   ]
  },
  {
   "cell_type": "code",
   "execution_count": 2,
   "metadata": {},
   "outputs": [
    {
     "data": {
      "text/plain": [
       "953"
      ]
     },
     "execution_count": 2,
     "metadata": {},
     "output_type": "execute_result"
    }
   ],
   "source": [
    "file_name = 'normalized_minmax_filter_track_5_user_100.csv'\n",
    "svd = pd.read_pickle(os.path.join(dir_, 'prediction_svd_top_N_' + file_name[:-3] + 'pkl'))\n",
    "test = pd.read_pickle(os.path.join(dir_, 'test_' + file_name[:-3] + 'pkl'))\n",
    "test.sort_values(by=['uid','tid'])\n",
    "\n",
    "file_name = 'normalized_popularity_filter_track_5_user_100.pkl'\n",
    "pop_count = pd.read_pickle(os.path.join(dir_, file_name))\n",
    "\n",
    "num_user = len(svd['uid'].unique())\n",
    "num_user"
   ]
  },
  {
   "cell_type": "code",
   "execution_count": 3,
   "metadata": {},
   "outputs": [
    {
     "name": "stdout",
     "output_type": "stream",
     "text": [
      "2\n",
      "3\n",
      "4\n",
      "5\n"
     ]
    }
   ],
   "source": [
    "groups_n =[]\n",
    "group_sizes = ['2', '3', '4', '5']\n",
    "for i in range(len(group_sizes)):\n",
    "    groups = np.loadtxt(os.path.join(group_dir_, group_sizes[i] + '.csv'), delimiter=',')\n",
    "    groups_n.append(groups)\n",
    "    print(len(groups[0]))"
   ]
  },
  {
   "cell_type": "code",
   "execution_count": 4,
   "metadata": {},
   "outputs": [
    {
     "data": {
      "text/html": [
       "<div>\n",
       "<style scoped>\n",
       "    .dataframe tbody tr th:only-of-type {\n",
       "        vertical-align: middle;\n",
       "    }\n",
       "\n",
       "    .dataframe tbody tr th {\n",
       "        vertical-align: top;\n",
       "    }\n",
       "\n",
       "    .dataframe thead th {\n",
       "        text-align: right;\n",
       "    }\n",
       "</style>\n",
       "<table border=\"1\" class=\"dataframe\">\n",
       "  <thead>\n",
       "    <tr style=\"text-align: right;\">\n",
       "      <th></th>\n",
       "      <th>uid</th>\n",
       "      <th>tid</th>\n",
       "      <th>rating</th>\n",
       "      <th>count</th>\n",
       "    </tr>\n",
       "  </thead>\n",
       "  <tbody>\n",
       "    <tr>\n",
       "      <th>0</th>\n",
       "      <td>0</td>\n",
       "      <td>9</td>\n",
       "      <td>0.420160</td>\n",
       "      <td>1</td>\n",
       "    </tr>\n",
       "    <tr>\n",
       "      <th>1</th>\n",
       "      <td>0</td>\n",
       "      <td>15</td>\n",
       "      <td>0.381676</td>\n",
       "      <td>1</td>\n",
       "    </tr>\n",
       "    <tr>\n",
       "      <th>2</th>\n",
       "      <td>0</td>\n",
       "      <td>22</td>\n",
       "      <td>0.372974</td>\n",
       "      <td>1</td>\n",
       "    </tr>\n",
       "    <tr>\n",
       "      <th>3</th>\n",
       "      <td>0</td>\n",
       "      <td>28</td>\n",
       "      <td>0.389718</td>\n",
       "      <td>1</td>\n",
       "    </tr>\n",
       "    <tr>\n",
       "      <th>4</th>\n",
       "      <td>0</td>\n",
       "      <td>33</td>\n",
       "      <td>0.397697</td>\n",
       "      <td>1</td>\n",
       "    </tr>\n",
       "  </tbody>\n",
       "</table>\n",
       "</div>"
      ],
      "text/plain": [
       "   uid  tid    rating  count\n",
       "0    0    9  0.420160      1\n",
       "1    0   15  0.381676      1\n",
       "2    0   22  0.372974      1\n",
       "3    0   28  0.389718      1\n",
       "4    0   33  0.397697      1"
      ]
     },
     "execution_count": 4,
     "metadata": {},
     "output_type": "execute_result"
    }
   ],
   "source": [
    "svd['count'] = 1\n",
    "svd[:5]"
   ]
  },
  {
   "cell_type": "code",
   "execution_count": 5,
   "metadata": {},
   "outputs": [
    {
     "data": {
      "text/html": [
       "<div>\n",
       "<style scoped>\n",
       "    .dataframe tbody tr th:only-of-type {\n",
       "        vertical-align: middle;\n",
       "    }\n",
       "\n",
       "    .dataframe tbody tr th {\n",
       "        vertical-align: top;\n",
       "    }\n",
       "\n",
       "    .dataframe thead th {\n",
       "        text-align: right;\n",
       "    }\n",
       "</style>\n",
       "<table border=\"1\" class=\"dataframe\">\n",
       "  <thead>\n",
       "    <tr style=\"text-align: right;\">\n",
       "      <th></th>\n",
       "      <th>tid</th>\n",
       "      <th>count</th>\n",
       "      <th>rating</th>\n",
       "    </tr>\n",
       "  </thead>\n",
       "  <tbody>\n",
       "    <tr>\n",
       "      <th>70</th>\n",
       "      <td>70</td>\n",
       "      <td>17557</td>\n",
       "      <td>2980.75</td>\n",
       "    </tr>\n",
       "    <tr>\n",
       "      <th>1102</th>\n",
       "      <td>1102</td>\n",
       "      <td>6926</td>\n",
       "      <td>1484.25</td>\n",
       "    </tr>\n",
       "    <tr>\n",
       "      <th>83</th>\n",
       "      <td>83</td>\n",
       "      <td>6571</td>\n",
       "      <td>1796.75</td>\n",
       "    </tr>\n",
       "    <tr>\n",
       "      <th>13496</th>\n",
       "      <td>13496</td>\n",
       "      <td>6299</td>\n",
       "      <td>1669.75</td>\n",
       "    </tr>\n",
       "    <tr>\n",
       "      <th>952</th>\n",
       "      <td>952</td>\n",
       "      <td>6234</td>\n",
       "      <td>1527.50</td>\n",
       "    </tr>\n",
       "  </tbody>\n",
       "</table>\n",
       "</div>"
      ],
      "text/plain": [
       "         tid  count   rating\n",
       "70        70  17557  2980.75\n",
       "1102    1102   6926  1484.25\n",
       "83        83   6571  1796.75\n",
       "13496  13496   6299  1669.75\n",
       "952      952   6234  1527.50"
      ]
     },
     "execution_count": 5,
     "metadata": {},
     "output_type": "execute_result"
    }
   ],
   "source": [
    "pop_count = pop_count.sort_values(by=['count'],  ascending=False)\n",
    "pop_count[:5]"
   ]
  },
  {
   "cell_type": "code",
   "execution_count": 6,
   "metadata": {},
   "outputs": [],
   "source": [
    "# Linear\n",
    "# size = int(len(pop_rating) // 5)\n",
    "# pop_normalized = pd.DataFrame()\n",
    "# for i in range(5):\n",
    "#     if i == 0:\n",
    "#         pop = pop_count[:size].copy()\n",
    "#     elif i == 4:\n",
    "#         pop = pop_count[size*4:].copy()\n",
    "#     else:\n",
    "#         pop = pop_count[size*i:size*(i+1)].copy()\n",
    "#     pop['rating'] = (5 - i)\n",
    "#     pop_normalized = pop_normalized.append(pop)\n",
    "# pop_normalized = pop_normalized[['tid', 'rating']]"
   ]
  },
  {
   "cell_type": "code",
   "execution_count": 7,
   "metadata": {},
   "outputs": [
    {
     "data": {
      "text/html": [
       "<div>\n",
       "<style scoped>\n",
       "    .dataframe tbody tr th:only-of-type {\n",
       "        vertical-align: middle;\n",
       "    }\n",
       "\n",
       "    .dataframe tbody tr th {\n",
       "        vertical-align: top;\n",
       "    }\n",
       "\n",
       "    .dataframe thead th {\n",
       "        text-align: right;\n",
       "    }\n",
       "</style>\n",
       "<table border=\"1\" class=\"dataframe\">\n",
       "  <thead>\n",
       "    <tr style=\"text-align: right;\">\n",
       "      <th></th>\n",
       "      <th>tid</th>\n",
       "      <th>count</th>\n",
       "      <th>rating</th>\n",
       "    </tr>\n",
       "  </thead>\n",
       "  <tbody>\n",
       "    <tr>\n",
       "      <th>70</th>\n",
       "      <td>70</td>\n",
       "      <td>17557</td>\n",
       "      <td>5.000000</td>\n",
       "    </tr>\n",
       "    <tr>\n",
       "      <th>1102</th>\n",
       "      <td>1102</td>\n",
       "      <td>6926</td>\n",
       "      <td>1.972433</td>\n",
       "    </tr>\n",
       "    <tr>\n",
       "      <th>83</th>\n",
       "      <td>83</td>\n",
       "      <td>6571</td>\n",
       "      <td>1.871333</td>\n",
       "    </tr>\n",
       "    <tr>\n",
       "      <th>13496</th>\n",
       "      <td>13496</td>\n",
       "      <td>6299</td>\n",
       "      <td>1.793871</td>\n",
       "    </tr>\n",
       "    <tr>\n",
       "      <th>952</th>\n",
       "      <td>952</td>\n",
       "      <td>6234</td>\n",
       "      <td>1.775360</td>\n",
       "    </tr>\n",
       "    <tr>\n",
       "      <th>2519</th>\n",
       "      <td>2519</td>\n",
       "      <td>6001</td>\n",
       "      <td>1.709005</td>\n",
       "    </tr>\n",
       "    <tr>\n",
       "      <th>4008</th>\n",
       "      <td>4008</td>\n",
       "      <td>5676</td>\n",
       "      <td>1.616449</td>\n",
       "    </tr>\n",
       "    <tr>\n",
       "      <th>5521</th>\n",
       "      <td>5521</td>\n",
       "      <td>5658</td>\n",
       "      <td>1.611323</td>\n",
       "    </tr>\n",
       "    <tr>\n",
       "      <th>3900</th>\n",
       "      <td>3900</td>\n",
       "      <td>5627</td>\n",
       "      <td>1.602495</td>\n",
       "    </tr>\n",
       "    <tr>\n",
       "      <th>2241</th>\n",
       "      <td>2241</td>\n",
       "      <td>5571</td>\n",
       "      <td>1.586547</td>\n",
       "    </tr>\n",
       "  </tbody>\n",
       "</table>\n",
       "</div>"
      ],
      "text/plain": [
       "         tid  count    rating\n",
       "70        70  17557  5.000000\n",
       "1102    1102   6926  1.972433\n",
       "83        83   6571  1.871333\n",
       "13496  13496   6299  1.793871\n",
       "952      952   6234  1.775360\n",
       "2519    2519   6001  1.709005\n",
       "4008    4008   5676  1.616449\n",
       "5521    5521   5658  1.611323\n",
       "3900    3900   5627  1.602495\n",
       "2241    2241   5571  1.586547"
      ]
     },
     "execution_count": 7,
     "metadata": {},
     "output_type": "execute_result"
    }
   ],
   "source": [
    "# min_max\n",
    "max_rating = pop_count.iloc[0]['count']\n",
    "pop_normalized = pop_count.copy()\n",
    "pop_normalized = pop_normalized[['tid', 'count']]\n",
    "pop_normalized['rating'] = pop_normalized['count']\n",
    "pop_normalized['rating'] /= max_rating\n",
    "pop_normalized['rating'] *= 5\n",
    "pop_normalized[:10]"
   ]
  },
  {
   "cell_type": "code",
   "execution_count": 8,
   "metadata": {},
   "outputs": [
    {
     "data": {
      "text/plain": [
       "[0.0, 0.1, 0.2, 0.3, 0.4, 0.5, 0.6, 0.7, 0.8, 0.9, 1.0]"
      ]
     },
     "execution_count": 8,
     "metadata": {},
     "output_type": "execute_result"
    }
   ],
   "source": [
    "lambdas = []\n",
    "for i in range(11):\n",
    "    lambdas.append(i/10)\n",
    "lambdas"
   ]
  },
  {
   "cell_type": "code",
   "execution_count": 9,
   "metadata": {},
   "outputs": [],
   "source": [
    "top_4_results = []\n",
    "top_20_results = []\n",
    "top_100_results = []"
   ]
  },
  {
   "cell_type": "code",
   "execution_count": 10,
   "metadata": {},
   "outputs": [
    {
     "data": {
      "application/vnd.jupyter.widget-view+json": {
       "model_id": "153f20bffb954ee8a615c16ccaf0522e",
       "version_major": 2,
       "version_minor": 0
      },
      "text/plain": [
       "HBox(children=(FloatProgress(value=0.0, max=11.0), HTML(value='')))"
      ]
     },
     "metadata": {},
     "output_type": "display_data"
    },
    {
     "name": "stdout",
     "output_type": "stream",
     "text": [
      "\n"
     ]
    }
   ],
   "source": [
    "for lambda_ in tqdm(lambdas):\n",
    "    top_n_size = 100\n",
    "    top_n_lists_g = []\n",
    "    for groups in groups_n:\n",
    "\n",
    "        group_size = len(groups[0])\n",
    "        top_n_lists = []\n",
    "\n",
    "        for group in groups:\n",
    "            rating_table = pd.DataFrame() \n",
    "            for member in group:\n",
    "                prediction = svd[svd['uid'] == member].copy()\n",
    "                if len(rating_table) == 0:\n",
    "                    rating_table = prediction\n",
    "                else:\n",
    "                    rating_table = rating_table.set_index('tid').add(prediction.set_index('tid'), fill_value=0).reset_index()\n",
    "            rating_table['rating'] /= group_size \n",
    "            rating_table['rating'] *= lambda_\n",
    "            pop = pop_normalized.copy()\n",
    "            pop['rating'] *= (1 - lambda_)\n",
    "            rating_table = rating_table.set_index('tid').add(pop.set_index('tid'), fill_value=0).reset_index()\n",
    "    #         rating_table = rating_table[rating_table['count'] == group_size]\n",
    "            rating_table = rating_table.sort_values(by=['rating'],  ascending=False)\n",
    "            rating_table = rating_table[:top_n_size]\n",
    "            top_n_list = []\n",
    "            for _, row in rating_table.iterrows():\n",
    "                top_n_list.append(row[0])\n",
    "            top_n_lists.append(top_n_list)\n",
    "        top_n_lists_g.append(top_n_lists)   \n",
    "        \n",
    "#     print('lambda = ' + str(lambda_))\n",
    "    threshold = 0.0\n",
    "    for top_n_size in [100, 20, 4]:\n",
    "        avg_precisions = []\n",
    "        for i in range(len(groups_n)):\n",
    "            groups = groups_n[i]\n",
    "            top_n_lists = top_n_lists_g[i]\n",
    "\n",
    "            precisions = []\n",
    "            for j in (range(len(groups))):\n",
    "\n",
    "                group = groups[j]\n",
    "                top_n_list = top_n_lists[j][:top_n_size]\n",
    "\n",
    "                high_rating = 0\n",
    "\n",
    "                for k in range(top_n_size):\n",
    "                    for l in range(len(group)):\n",
    "                        uid = group[l]\n",
    "                        tid = top_n_list[k]\n",
    "                        t = test[test['uid'] == uid]\n",
    "                        t = t[t['tid'] == tid]\n",
    "                        if len(t) > 0 and t.iloc[0]['rating'] > threshold:\n",
    "                            high_rating += 1\n",
    "                            break\n",
    "\n",
    "                precision = high_rating / top_n_size\n",
    "                precisions.append(precision)\n",
    "\n",
    "            avg_precision = 0\n",
    "            for precision in precisions:\n",
    "                avg_precision += precision\n",
    "            avg_precision /= len(precisions)\n",
    "            avg_precisions.append(avg_precision)\n",
    "#         print(avg_precisions)\n",
    "        if top_n_size == 4:\n",
    "            top_4_results.append(avg_precisions)\n",
    "        elif top_n_size == 20:\n",
    "            top_20_results.append(avg_precisions)\n",
    "        elif top_n_size == 100:\n",
    "            top_100_results.append(avg_precisions)\n",
    "    #     print(sum(avg_precisions) / len(avg_precisions))\n",
    "    #     print('----------------------------------------') "
   ]
  },
  {
   "cell_type": "code",
   "execution_count": 11,
   "metadata": {},
   "outputs": [
    {
     "name": "stdout",
     "output_type": "stream",
     "text": [
      "[0.25, 0.35864978902953587, 0.46, 0.5601851851851852]\n",
      "[0.26535626535626533, 0.370253164556962, 0.47333333333333333, 0.5717592592592593]\n",
      "[0.27088452088452086, 0.3808016877637131, 0.4716666666666667, 0.5763888888888888]\n",
      "[0.2831695331695332, 0.3850210970464135, 0.475, 0.5856481481481481]\n",
      "[0.2972972972972973, 0.4040084388185654, 0.49333333333333335, 0.5925925925925926]\n",
      "[0.3249385749385749, 0.4229957805907173, 0.5166666666666667, 0.6111111111111112]\n",
      "[0.3366093366093366, 0.43776371308016876, 0.53, 0.6134259259259259]\n",
      "[0.3488943488943489, 0.4451476793248945, 0.5333333333333333, 0.6226851851851852]\n",
      "[0.3667076167076167, 0.4651898734177215, 0.5566666666666666, 0.6203703703703703]\n",
      "[0.39373464373464373, 0.4810126582278481, 0.5433333333333333, 0.6018518518518519]\n",
      "[0.36855036855036855, 0.410337552742616, 0.41333333333333333, 0.4722222222222222]\n",
      "------------------\n",
      "[0.21130221130221133, 0.30907172995780585, 0.3996666666666666, 0.49768518518518523]\n",
      "[0.2144963144963145, 0.31075949367088607, 0.4019999999999999, 0.5000000000000001]\n",
      "[0.2214987714987714, 0.31603375527426153, 0.40566666666666656, 0.5023148148148148]\n",
      "[0.22592137592137582, 0.32194092827004206, 0.4129999999999998, 0.5087962962962961]\n",
      "[0.23009828009828, 0.3274261603375527, 0.41899999999999993, 0.511111111111111]\n",
      "[0.24201474201474216, 0.33227848101265806, 0.4253333333333335, 0.5162037037037034]\n",
      "[0.25896805896805913, 0.35021097046413496, 0.4356666666666669, 0.5296296296296296]\n",
      "[0.28280098280098287, 0.36793248945147655, 0.4533333333333333, 0.5398148148148145]\n",
      "[0.30196560196560185, 0.3898734177215189, 0.4606666666666669, 0.5310185185185186]\n",
      "[0.3119164619164621, 0.3761603375527427, 0.4276666666666668, 0.4712962962962966]\n",
      "[0.26511056511056486, 0.30168776371308015, 0.32300000000000006, 0.324537037037037]\n",
      "------------------\n",
      "[0.16670761670761672, 0.24860759493670884, 0.3291333333333334, 0.40694444444444466]\n",
      "[0.17159705159705155, 0.2526582278481013, 0.33226666666666665, 0.4093518518518521]\n",
      "[0.17498771498771498, 0.2554008438818564, 0.33426666666666666, 0.411388888888889]\n",
      "[0.18022113022113032, 0.25974683544303784, 0.3374000000000001, 0.4121296296296298]\n",
      "[0.18660933660933665, 0.2643881856540084, 0.3422666666666667, 0.4150925925925928]\n",
      "[0.19417690417690428, 0.2701265822784809, 0.34813333333333346, 0.42]\n",
      "[0.20245700245700232, 0.2754430379746837, 0.35046666666666676, 0.42009259259259263]\n",
      "[0.20918918918918905, 0.27843881856540076, 0.3479333333333334, 0.4144444444444449]\n",
      "[0.2151105651105652, 0.279282700421941, 0.34079999999999994, 0.3970370370370368]\n",
      "[0.21216216216216216, 0.26383966244725726, 0.3042666666666667, 0.33962962962962984]\n",
      "[0.17697788697788683, 0.2087341772151898, 0.2224666666666665, 0.2277777777777778]\n"
     ]
    }
   ],
   "source": [
    "for i in top_4_results:\n",
    "    print(i)\n",
    "print('------------------')\n",
    "\n",
    "for i in top_20_results:\n",
    "    print(i)\n",
    "print('------------------')\n",
    "\n",
    "for i in top_100_results:\n",
    "    print(i)"
   ]
  },
  {
   "cell_type": "code",
   "execution_count": null,
   "metadata": {},
   "outputs": [],
   "source": []
  },
  {
   "cell_type": "code",
   "execution_count": null,
   "metadata": {
    "collapsed": true
   },
   "outputs": [],
   "source": []
  }
 ],
 "metadata": {
  "kernelspec": {
   "display_name": "Python 3",
   "language": "python",
   "name": "python3"
  },
  "language_info": {
   "codemirror_mode": {
    "name": "ipython",
    "version": 3
   },
   "file_extension": ".py",
   "mimetype": "text/x-python",
   "name": "python",
   "nbconvert_exporter": "python",
   "pygments_lexer": "ipython3",
   "version": "3.6.10"
  }
 },
 "nbformat": 4,
 "nbformat_minor": 4
}
